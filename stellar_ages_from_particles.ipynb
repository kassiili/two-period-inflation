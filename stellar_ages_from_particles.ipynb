{
 "cells": [
  {
   "cell_type": "code",
   "execution_count": null,
   "metadata": {},
   "outputs": [],
   "source": [
    "%load_ext autoreload\n",
    "%autoreload 2\n",
    "\n",
    "%config IPCompleter.greedy=True"
   ]
  },
  {
   "cell_type": "code",
   "execution_count": null,
   "metadata": {},
   "outputs": [],
   "source": [
    "import numpy as np\n",
    "import os\n",
    "import matplotlib.pyplot as plt\n",
    "from astropy import units\n",
    "from astropy.cosmology import FlatLambdaCDM, z_at_value\n",
    "import importlib\n",
    "\n",
    "import simulation\n",
    "import snapshot_obj\n",
    "import simulation_tracing\n",
    "import dataset_compute\n",
    "import subhalo"
   ]
  },
  {
   "cell_type": "code",
   "execution_count": null,
   "metadata": {},
   "outputs": [],
   "source": [
    "importlib.reload(snapshot_obj)\n",
    "importlib.reload(dataset_compute)"
   ]
  },
  {
   "cell_type": "markdown",
   "metadata": {},
   "source": [
    "# Subhalo stellar ages"
   ]
  },
  {
   "cell_type": "markdown",
   "metadata": {},
   "source": [
    "## Construct data dictionary\n",
    "\n",
    "Add entries for each simulation, and specify M31 and MW galaxies:"
   ]
  },
  {
   "cell_type": "code",
   "execution_count": null,
   "metadata": {
    "code_folding": []
   },
   "outputs": [],
   "source": [
    "snap_id = 127\n",
    "sim_ids = [\"V1_LR_fix\", \"V1_LR_curvaton_p082_fix\", \"V1_LR_curvaton_p084_fix\"]\n",
    "names = [\"LCDM\", \"p082\", \"p084\"]\n",
    "\n",
    "# Define M31 and MW in each simulation:\n",
    "m31 = [(1,0), (1,0), (1,0)]\n",
    "mw = [(2,0), (1,1), (1,1)]"
   ]
  },
  {
   "cell_type": "code",
   "execution_count": null,
   "metadata": {
    "code_folding": []
   },
   "outputs": [],
   "source": [
    "snap_id = 127\n",
    "sim_ids = [\"V1_LR_fix\", \"V1_LR_curvaton_p082_fix\"]\n",
    "names = [\"LCDM\", \"p082\"]\n",
    "paths = [\"\", \"\"]\n",
    "\n",
    "# Define M31 and MW in each simulation:\n",
    "m31 = [(1,0), (1,0)]\n",
    "mw = [(2,0), (1,1)]"
   ]
  },
  {
   "cell_type": "code",
   "execution_count": null,
   "metadata": {
    "code_folding": []
   },
   "outputs": [],
   "source": [
    "snap_id = 127\n",
    "sim_ids = [\"V1_MR_fix\", \"V1_MR_curvaton_p082_fix\"]\n",
    "names = [\"LCDM\", \"p082\"]\n",
    "paths = [\"\", \"\"]\n",
    "\n",
    "# Define M31 and MW in each simulation:\n",
    "m31 = [(1,0), (1,0)]\n",
    "mw = [(2,0), (1,1)]"
   ]
  },
  {
   "cell_type": "code",
   "execution_count": null,
   "metadata": {
    "code_folding": []
   },
   "outputs": [],
   "source": [
    "data = {}\n",
    "for name, sim_id, m31_ns, mw_ns in zip(names, sim_ids, m31, mw):\n",
    "    data[name] = {\"snapshot\": snapshot_obj.Snapshot(sim_id, snap_id, name=name),\n",
    "                  \"M31_identifier\": m31_ns,\n",
    "                  \"MW_identifier\": mw_ns}"
   ]
  },
  {
   "cell_type": "code",
   "execution_count": null,
   "metadata": {},
   "outputs": [],
   "source": [
    "H0 = data[\"LCDM\"][\"snapshot\"].get_attribute(\"HubbleParam\", \"Header\") * 100\n",
    "Om0 = data[\"LCDM\"][\"snapshot\"].get_attribute(\"Omega0\", \"Header\")\n",
    "cosmo = FlatLambdaCDM(H0=H0, Om0=Om0)"
   ]
  },
  {
   "cell_type": "markdown",
   "metadata": {},
   "source": [
    "Choose how to distinguish between satellite and isolated galaxies:"
   ]
  },
  {
   "cell_type": "code",
   "execution_count": null,
   "metadata": {},
   "outputs": [],
   "source": [
    "distinction = \"by_gn\"\n",
    "vmax_down_lim = [20,30]\n",
    "vmax_up_lim = [30, 10**5]"
   ]
  },
  {
   "cell_type": "code",
   "execution_count": null,
   "metadata": {},
   "outputs": [],
   "source": [
    "for name, sim_data in data.items():\n",
    "    snap = sim_data[\"snapshot\"]\n",
    "    \n",
    "    H0 = snap.get_attribute(\"HubbleParam\", \"Header\") * 100\n",
    "    Om0 = snap.get_attribute(\"Omega0\", \"Header\")\n",
    "    cosmo = FlatLambdaCDM(H0=H0, Om0=Om0)\n",
    "    \n",
    "    # Read star particle formation times for star particles of \n",
    "    # each subhalo. Select only star particles with masses in the\n",
    "    # given range:\n",
    "    initial_mass = snap.get_particles(\"InitialMass\", part_type=[4]) \\\n",
    "                      * units.g.to(units.Msun)\n",
    "    mask_mass_range = np.logical_and(initial_mass > 10**3, \n",
    "                                     initial_mass < 10**8)\n",
    "    grouped_data = dataset_compute.group_selected_particles_by_subhalo(\n",
    "        snap, \"StellarFormationTime\", \"InitialMass\", selection_mask=mask_mass_range, \n",
    "        part_type=[4])\n",
    "    \n",
    "    print(np.concatenate(grouped_data[\"StellarFormationTime\"]).size)\n",
    "    for sft in grouped_data[\"StellarFormationTime\"][:10]:\n",
    "        print(\"    \", sft.size)\n",
    "    \n",
    "    # Convert formation time scale factor to stellar age, and weight by\n",
    "    # star particle initial mass:\n",
    "    stellar_age = [cosmo.age(0).value - cosmo.age(1/sft - 1).value \n",
    "                 for sft in grouped_data[\"StellarFormationTime\"]]\n",
    "    stellar_age = np.array(stellar_age)\n",
    "    mass_weighted_stellar_age = np.array([np.sum(m*t)/np.sum(m) for m, t in \n",
    "                                   zip(grouped_data[\"InitialMass\"], stellar_age)])\n",
    "        \n",
    "    # Split into satellites:\n",
    "    if distinction == \"by_r\":\n",
    "        masks_sat, mask_isol = dataset_compute.split_satellites_by_distance(\n",
    "            snap, sim_data[\"M31_identifier\"], sim_data[\"MW_identifier\"])\n",
    "    elif distinction == \"by_gn\":\n",
    "        masks_sat, mask_isol = dataset_compute.split_satellites_by_group_number(\n",
    "            snap, sim_data[\"M31_identifier\"], sim_data[\"MW_identifier\"])\n",
    "        \n",
    "    print(name, np.sum(np.logical_or.reduce(masks_sat)))\n",
    "    mask_lum, mask_dark = dataset_compute.split_luminous(snap)\n",
    "    mask_vmax = [dataset_compute.prune_vmax(snap, low_lim=down, up_lim=up) \n",
    "                 for down, up in zip(vmax_down_lim, vmax_up_lim)]\n",
    "    \n",
    "    # Add separate datasets for each subhalo to the data dictionary:\n",
    "    data[name][\"separated\"] = \\\n",
    "    {\"StellarFormationTime\": \\\n",
    "     {\"satellites\": [stellar_age[np.logical_and.reduce(\n",
    "        [np.logical_or.reduce(masks_sat), mask_lum, mask]\n",
    "    )] for mask in mask_vmax],\n",
    "      \"isolated\": [stellar_age[np.logical_and.reduce(\n",
    "          [mask_isol, mask_lum, mask]\n",
    "      )] for mask in mask_vmax]\n",
    "     }\n",
    "    }\n",
    "    \n",
    "    # Combine datasets of subhalos and add to the data dictionary:\n",
    "    data[name][\"combined\"] = \\\n",
    "    {\"StellarFormationTime\": \\\n",
    "     {\"satellites\": np.concatenate(\n",
    "        data[name][\"separated\"][\"StellarFormationTime\"][\"satellites\"]),\n",
    "      \"isolated\": np.concatenate(\n",
    "        data[name][\"separated\"][\"StellarFormationTime\"][\"isolated\"])\n",
    "     },\n",
    "     \"InitialMassWeightedAge\": \\\n",
    "     {\"satellites\": [mass_weighted_stellar_age[np.logical_and.reduce(\n",
    "        [np.logical_or.reduce(masks_sat), mask_lum, mask]\n",
    "     )] for mask in mask_vmax],\n",
    "      \"isolated\": [mass_weighted_stellar_age[np.logical_and.reduce(\n",
    "          [mask_isol, mask_lum, mask]\n",
    "      )] for mask in mask_vmax]\n",
    "     }\n",
    "    }"
   ]
  },
  {
   "cell_type": "markdown",
   "metadata": {},
   "source": [
    "## Plot"
   ]
  },
  {
   "cell_type": "code",
   "execution_count": null,
   "metadata": {},
   "outputs": [],
   "source": [
    "cols = [\"grey\", \"pink\", \"lightblue\"]"
   ]
  },
  {
   "cell_type": "code",
   "execution_count": null,
   "metadata": {},
   "outputs": [],
   "source": [
    "cols = [\"grey\", \"pink\"]"
   ]
  },
  {
   "cell_type": "code",
   "execution_count": null,
   "metadata": {},
   "outputs": [],
   "source": [
    "# Construct saving location:\n",
    "filename = 'stellar_ages'\n",
    "for name in names:\n",
    "    filename += \"_{}\".format(name)\n",
    "filename += \"_{}.png\".format(snap_id)\n",
    "    \n",
    "home = os.path.dirname(simulation.__file__)\n",
    "path = os.path.join(home,\"Figures\", \"MediumResolution\")\n",
    "filename = os.path.join(path, filename)"
   ]
  },
  {
   "cell_type": "code",
   "execution_count": null,
   "metadata": {},
   "outputs": [],
   "source": [
    "fig, axes = plt.subplots(ncols=2, figsize=(14,6))\n",
    "plt.subplots_adjust(wspace=0.3)\n",
    "\n",
    "# Set axis:\n",
    "print(cosmo.age(0).value)\n",
    "for ax in axes:  \n",
    "    ax.set_xbound(0, cosmo.age(0).value)\n",
    "    ax.set_xlabel('Age of the Universe', fontsize=16)\n",
    "    ax.set_ylabel('Number density', fontsize=16)\n",
    "\n",
    "axes[0].set_title('Satellite galaxies')\n",
    "axes[1].set_title('Isolated galaxies')\n",
    "\n",
    "# Set bins:\n",
    "bin_width = 2\n",
    "bins = np.arange(0, 16, bin_width)\n",
    "\n",
    "# Iterate over simulations:\n",
    "for i, (name, sim_data) in enumerate(data.items()):\n",
    "    \n",
    "    # Plot satellites:\n",
    "    stellar_age = sim_data[\"combined\"][\"InitialMassWeightedAge\"][\"satellites\"]\n",
    "    age = [cosmo.age(0).value - a for a in stellar_age]\n",
    "    labels = [\"${} \\mathrm{{km/s}} < v_\\mathrm{{max}} < {} \\mathrm{{km/s}}$\"\\\n",
    "              .format(down, up) if up < 10**5 else \n",
    "              \"${} \\mathrm{{km/s}} < v_\\mathrm{{max}}$\".format(down)\n",
    "              for down, up in zip(vmax_down_lim, vmax_up_lim)]\n",
    "    line_styles = ['-', '--']\n",
    "    \n",
    "    # Iterate over v_max selections:\n",
    "    for a, label, lstyle in zip(age, labels, line_styles):\n",
    "        n_subhalos = a.size\n",
    "        label = \"{} ({}): \".format(name, n_subhalos) + label\n",
    "        print(name, n_subhalos)\n",
    "        \n",
    "        y, bin_edges = np.histogram(a, bins, density=True)\n",
    "        y = y * bin_width\n",
    "        x = [(bin_edges[i] + bin_edges[i + 1]) / 2 for i in range(bin_edges.size - 1)]\n",
    "        axes[0].plot(x, y, c=cols[i], label=label, linestyle=lstyle)\n",
    "    \n",
    "    \n",
    "    # Plot satellites:\n",
    "    stellar_age = sim_data[\"combined\"][\"InitialMassWeightedAge\"][\"isolated\"]\n",
    "    age = [cosmo.age(0).value - a for a in stellar_age]\n",
    "    labels = [\"${} \\mathrm{{km/s}} < v_\\mathrm{{max}} < {} \\mathrm{{km/s}}$\"\\\n",
    "              .format(down, up) if up < 10**5 else \n",
    "              \"${} \\mathrm{{km/s}} < v_\\mathrm{{max}}$\".format(down)\n",
    "              for down, up in zip(vmax_down_lim, vmax_up_lim)]\n",
    "    line_styles = ['-', '--']\n",
    "    \n",
    "    # Iterate over v_max selections:\n",
    "    for a, label, lstyle in zip(age, labels, line_styles):\n",
    "        n_subhalos = a.size\n",
    "        label = \"{} ({}): \".format(name, n_subhalos) + label\n",
    "        print(name, n_subhalos)\n",
    "        \n",
    "        y, bin_edges = np.histogram(a, bins, density=True)\n",
    "        y = y * bin_width\n",
    "        x = [(bin_edges[i] + bin_edges[i + 1]) / 2 for i in range(bin_edges.size - 1)]\n",
    "        axes[1].plot(x, y, c=cols[i], label=label, linestyle=lstyle)\n",
    "    \n",
    "for ax in axes:\n",
    "    ax2 = ax.twiny()\n",
    "    ticks = ax.get_xticks()\n",
    "    ticks[0] = 10**(-2)\n",
    "#     ticks[-1] = ticks[-1] - 10**(-2)\n",
    "    ticks[-1] = 13.7\n",
    "    print(ticks)\n",
    "    ax2.set_xticks(ticks)\n",
    "    redshifts = [z_at_value(cosmo.age, age * units.Gyr) for age in ticks]\n",
    "    ax2.set_xticklabels(['{:.2f}'.format(z) for z in redshifts])\n",
    "    ax2.set_xlabel('Redshift')\n",
    "    \n",
    "axes[0].legend()\n",
    "axes[1].legend()\n",
    "\n",
    "plt.savefig(filename, dpi=200)"
   ]
  },
  {
   "cell_type": "code",
   "execution_count": null,
   "metadata": {},
   "outputs": [],
   "source": []
  }
 ],
 "metadata": {
  "kernelspec": {
   "display_name": "Python 3",
   "language": "python",
   "name": "python3"
  },
  "language_info": {
   "codemirror_mode": {
    "name": "ipython",
    "version": 3
   },
   "file_extension": ".py",
   "mimetype": "text/x-python",
   "name": "python",
   "nbconvert_exporter": "python",
   "pygments_lexer": "ipython3"
  }
 },
 "nbformat": 4,
 "nbformat_minor": 4
}
