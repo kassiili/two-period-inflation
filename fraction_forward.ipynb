{
 "cells": [
  {
   "cell_type": "code",
   "execution_count": null,
   "metadata": {},
   "outputs": [],
   "source": [
    "%load_ext autoreload\n",
    "%autoreload 2\n",
    "\n",
    "%config IPCompleter.greedy=True"
   ]
  },
  {
   "cell_type": "code",
   "execution_count": null,
   "metadata": {},
   "outputs": [],
   "source": [
    "import matplotlib.pyplot as plt\n",
    "import numpy as np\n",
    "import h5py\n",
    "from astropy import units\n",
    "from pathlib import Path\n",
    "import os\n",
    "import time\n",
    "\n",
    "import snapshot_obj\n",
    "import simulation\n",
    "import dataset_compute\n",
    "import simulation_tracing\n",
    "import subhalo\n",
    "import curve_fit\n",
    "\n",
    "import importlib"
   ]
  },
  {
   "cell_type": "code",
   "execution_count": null,
   "metadata": {},
   "outputs": [],
   "source": [
    "importlib.reload(snapshot_obj)\n",
    "importlib.reload(simulation)\n",
    "importlib.reload(dataset_compute)\n",
    "importlib.reload(simulation_tracing)\n",
    "importlib.reload(subhalo)\n",
    "importlib.reload(curve_fit)"
   ]
  },
  {
   "cell_type": "markdown",
   "metadata": {},
   "source": [
    "# Fraction of halos traced"
   ]
  },
  {
   "cell_type": "markdown",
   "metadata": {},
   "source": [
    "## Construct data dictionary\n",
    "\n",
    "Add entries for each simulation, and specify M31 and MW galaxies:"
   ]
  },
  {
   "cell_type": "code",
   "execution_count": null,
   "metadata": {
    "code_folding": []
   },
   "outputs": [],
   "source": [
    "sim_ids = [\"V1_LR_fix\"]\n",
    "names = [\"LCDM\"]\n",
    "paths = [\"\", \"/media/kassiili/USBFREE/LG_simulations\", \n",
    "        \"/media/kassiili/USBFREE/LG_simulations\"]\n",
    "paths = [\"\", \"\", \"\"]\n",
    "\n",
    "# Define M31 and MW in each simulation:\n",
    "snap_id = 126\n",
    "m31 = [(1,0), (1,0), (1,0)]\n",
    "mw = [(2,0), (1,1), (1,1)]"
   ]
  },
  {
   "cell_type": "code",
   "execution_count": null,
   "metadata": {
    "code_folding": []
   },
   "outputs": [],
   "source": [
    "sim_ids = [\"V1_MR_fix\", \"V1_MR_curvaton_p082_fix\"]\n",
    "names = [\"LCDM\", \"p082\"]\n",
    "paths = [\"\", \"\"]\n",
    "\n",
    "# Define M31 and MW in each simulation:\n",
    "snap_id = 127\n",
    "m31 = [(1,0), (1,0)]\n",
    "mw = [(2,0), (1,1)]"
   ]
  },
  {
   "cell_type": "code",
   "execution_count": null,
   "metadata": {
    "code_folding": []
   },
   "outputs": [],
   "source": [
    "data = {}\n",
    "for name, sim_id, sim_path, m31_ns, mw_ns in zip(names, sim_ids, paths, m31, mw):\n",
    "    print(name)\n",
    "    sim = simulation.Simulation(sim_id, sim_path=sim_path)\n",
    "    mtree = simulation_tracing.MergerTree(sim, branching='BackwardBranching')\n",
    "    m31_tracer = subhalo.SubhaloTracer(sim, snap_id, m31_ns[0], m31_ns[1])\n",
    "    m31_tracer.trace(mtree)\n",
    "    mw_tracer = subhalo.SubhaloTracer(sim, snap_id, mw_ns[0], mw_ns[1])\n",
    "    mw_tracer.trace(mtree)\n",
    "    \n",
    "    data[name] = {\"simulation\": sim,\n",
    "                  \"merger_tree\": mtree,\n",
    "                  \"M31\": m31_tracer,\n",
    "                  \"MW\": mw_tracer}"
   ]
  },
  {
   "cell_type": "markdown",
   "metadata": {},
   "source": [
    "Choose how to distinguish between satellite and isolated galaxies:"
   ]
  },
  {
   "cell_type": "code",
   "execution_count": null,
   "metadata": {},
   "outputs": [],
   "source": [
    "distinction = \"by_gn\""
   ]
  },
  {
   "cell_type": "markdown",
   "metadata": {},
   "source": [
    "Select the snapshots for tracing:"
   ]
  },
  {
   "cell_type": "code",
   "execution_count": null,
   "metadata": {},
   "outputs": [],
   "source": [
    "snap_id_traced = list(range(101,122,5))\n",
    "#snap_id_traced = [101]\n",
    "snap_stop = 128"
   ]
  },
  {
   "cell_type": "code",
   "execution_count": null,
   "metadata": {},
   "outputs": [],
   "source": [
    "def repeat_columns(arr, n):\n",
    "    rep = np.repeat(arr, n)\n",
    "    rep = rep.reshape((np.size(arr, axis=0), n))\n",
    "    \n",
    "    return rep\n",
    "\n",
    "def compute_fraction(mask_traced, mask):\n",
    "    # Sum over all traced in mask at each snapshot:\n",
    "    fraction = np.array([np.sum(np.logical_and(mask_traced_to_snap, mask)) \n",
    "                         for mask_traced_to_snap in mask_traced.T])\n",
    "    \n",
    "    # Divide by total number of items in mask:\n",
    "    fraction = fraction / np.sum(mask)\n",
    "    \n",
    "    return fraction"
   ]
  },
  {
   "cell_type": "code",
   "execution_count": null,
   "metadata": {},
   "outputs": [],
   "source": [
    "for name, sim_data in data.items():\n",
    "    sim = sim_data[\"simulation\"]\n",
    "    mtree = sim_data[\"merger_tree\"]\n",
    "    m31 = sim_data[\"M31\"]\n",
    "    mw = sim_data[\"MW\"]\n",
    "    \n",
    "    for snap_id in snap_id_traced:\n",
    "        snap = sim.get_snapshot(snap_id)\n",
    "        m31_id = (m31.get_halo_data(\"GroupNumber\", snap_id),\n",
    "                  m31.get_halo_data(\"SubGroupNumber\", snap_id))\n",
    "        mw_id = (mw.get_halo_data(\"GroupNumber\", snap_id),\n",
    "                 mw.get_halo_data(\"SubGroupNumber\", snap_id))\n",
    "    \n",
    "        # Split into satellites:\n",
    "        if distinction == \"by_r\":\n",
    "            masks_sat, mask_isol = dataset_compute.split_satellites_by_distance(\n",
    "                snap, m31_id, mw_id)\n",
    "        elif distinction == \"by_gn\":\n",
    "            masks_sat, mask_isol = dataset_compute.split_satellites_by_group_number(\n",
    "                snap, m31_id, mw_id)\n",
    "            \n",
    "        mask_sat = np.logical_or.reduce(masks_sat)\n",
    "        mask_lum, mask_dark = dataset_compute.split_luminous(snap)\n",
    "        \n",
    "        # Exclude the smallest subhalos:\n",
    "        mask_vmax = dataset_compute.prune_vmax(snap, low_lim=15)\n",
    "     \n",
    "        mask_sat_lum = np.logical_and.reduce(\n",
    "            [np.logical_or.reduce(masks_sat), mask_lum, mask_vmax])\n",
    "        mask_sat_dark = np.logical_and.reduce(\n",
    "            [np.logical_or.reduce(masks_sat), mask_dark, mask_vmax])\n",
    "        mask_isol_lum = np.logical_and.reduce(\n",
    "            [mask_isol, mask_lum, mask_vmax])\n",
    "        mask_isol_dark = np.logical_and.reduce(\n",
    "            [mask_isol, mask_dark, mask_vmax])\n",
    "    \n",
    "        snap_tracer = simulation_tracing.SnapshotTracer(snap_id, mtree)\n",
    "    \n",
    "        mask_traced = (snap_tracer.trace(snap_stop) < snap_tracer.no_match)\n",
    "    \n",
    "        # Add separate datasets for each subhalo to the data dictionary:\n",
    "\n",
    "        fraction_traced = \\\n",
    "         {\"satellites\": \n",
    "          {\"all\": compute_fraction(\n",
    "              mask_traced, np.logical_and(mask_sat, mask_vmax)),\n",
    "           \"luminous\": compute_fraction(mask_traced, mask_sat_lum),\n",
    "           \"dark\": compute_fraction(mask_traced, mask_sat_dark)\n",
    "          },\n",
    "          \"isolated\": \n",
    "          {\"all\": compute_fraction(\n",
    "              mask_traced, np.logical_and(mask_isol, mask_vmax)),\n",
    "           \"luminous\": compute_fraction(mask_traced, mask_isol_lum),\n",
    "           \"dark\": compute_fraction(mask_traced, mask_isol_dark)\n",
    "          },\n",
    "          \"all\": \n",
    "          {\"all\": compute_fraction(\n",
    "              mask_traced, mask_vmax),\n",
    "           \"luminous\": compute_fraction(\n",
    "              mask_traced, np.logical_and(mask_lum, mask_vmax)),\n",
    "           \"dark\": compute_fraction(\n",
    "               mask_traced, np.logical_and(mask_dark, mask_vmax))\n",
    "          }\n",
    "         }\n",
    "    \n",
    "        count_at_snap = \\\n",
    "         {\"satellites\": \n",
    "          {\"all\": np.sum(np.logical_and(mask_sat, mask_vmax)),\n",
    "           \"luminous\": np.sum(mask_sat_lum),\n",
    "           \"dark\": np.sum(mask_sat_dark)\n",
    "          },\n",
    "          \"isolated\": \n",
    "          {\"all\": np.sum(np.logical_and(mask_isol, mask_vmax)),\n",
    "           \"luminous\": np.sum(mask_isol_lum),\n",
    "           \"dark\": np.sum(mask_isol_dark)\n",
    "          },\n",
    "          \"all\": \n",
    "          {\"all\": np.sum(mask_vmax),\n",
    "           \"luminous\": np.sum(np.logical_and(mask_lum, mask_vmax)),\n",
    "           \"dark\": np.sum(np.logical_and(mask_dark, mask_vmax))\n",
    "          }\n",
    "         }\n",
    "        \n",
    "        z = sim.get_redshifts(snap_start=snap_id, snap_stop=snap_stop)\n",
    "        \n",
    "        sim_data[snap_id] = {\"fraction_traced\": fraction_traced, \n",
    "                             \"count_at_snap\": count_at_snap,\n",
    "                             \"redshift\": z}"
   ]
  },
  {
   "cell_type": "code",
   "execution_count": null,
   "metadata": {},
   "outputs": [],
   "source": [
    "print(data.keys())\n",
    "print(data['LCDM'].keys())\n",
    "print(data['LCDM'][101].keys())\n",
    "print(data['LCDM'][101][\"count_at_snap\"])"
   ]
  },
  {
   "cell_type": "markdown",
   "metadata": {},
   "source": [
    "## Plot"
   ]
  },
  {
   "cell_type": "code",
   "execution_count": null,
   "metadata": {},
   "outputs": [],
   "source": [
    "# Set some parameters:\n",
    "x_down = 0; x_up = 1\n",
    "y_down = 0; y_up = 1.2\n",
    "\n",
    "# Set marker styles:\n",
    "fcolor = [\"black\", \"red\", \"blue\", \"green\"]\n",
    "mcolor = [\"gray\", \"pink\", \"lightblue\", \"lightgreen\"]\n",
    "marker = ['+', \"o\", \"^\", 1]"
   ]
  },
  {
   "cell_type": "code",
   "execution_count": null,
   "metadata": {},
   "outputs": [],
   "source": [
    "# Construct saving location:\n",
    "filename = 'fraction_traced_forward'\n",
    "for name in names:\n",
    "    filename += \"_{}\".format(name)\n",
    "filename += \"_{}.png\".format(snap_id)\n",
    "    \n",
    "home = os.path.dirname(simulation.__file__)\n",
    "path = os.path.join(home,\"Figures\", \"MediumResolution\")\n",
    "filename = os.path.join(path, filename)"
   ]
  },
  {
   "cell_type": "code",
   "execution_count": null,
   "metadata": {},
   "outputs": [],
   "source": [
    "fig, axes = plt.subplots(ncols=2, figsize=(14,6))\n",
    "plt.subplots_adjust(wspace=0.3)\n",
    "\n",
    "# Set axis:\n",
    "for ax in axes:\n",
    "    ax.set_xlim(x_down, x_up)\n",
    "#     ax.set_ylim(y_down, y_up)\n",
    "    ax.invert_xaxis()\n",
    "#     ax.set_xlabel('$Mass [$M_odot$]$', fontsize=16)\n",
    "#     ax.set_ylabel('$v_{\\mathrm{1 kpc}} [\\mathrm{kms^{-1}}]$', fontsize=16)\n",
    "\n",
    "axes[0].set_title('Satellite galaxies')\n",
    "axes[1].set_title('Isolated galaxies')\n",
    "\n",
    "# Add scatter plots:\n",
    "print(data[\"LCDM\"].keys())\n",
    "for i, (name, entry) in enumerate(data.items()):\n",
    "    for snap_id in snap_id_traced:\n",
    "        snap_data = entry[snap_id]\n",
    "#         x = snap_data['redshift']\n",
    "#         y = snap_data['fraction_traced']['satellites']['all']\n",
    "#         axes[0].plot(x, y, c=fcolor[i], linestyle=':')\n",
    "        \n",
    "        x = snap_data['redshift']\n",
    "        y = snap_data['fraction_traced']['satellites']['luminous']\n",
    "        axes[0].plot(x, y, c=fcolor[i])\n",
    "        \n",
    "        x = snap_data['redshift']\n",
    "        y = snap_data['fraction_traced']['satellites']['dark']\n",
    "        axes[0].plot(x, y, c=mcolor[i])\n",
    "        \n",
    "#         x = snap_data['redshift']\n",
    "#         y = snap_data['fraction_traced']['isolated']['all']\n",
    "#         axes[1].plot(x, y, c=fcolor[i], linestyle=':' )\n",
    "    \n",
    "        x = snap_data['redshift']\n",
    "        y = snap_data['fraction_traced']['isolated']['luminous']\n",
    "        axes[1].plot(x, y, c=fcolor[i])\n",
    "        \n",
    "        x = snap_data['redshift']\n",
    "        y = snap_data['fraction_traced']['isolated']['dark']\n",
    "        axes[1].plot(x, y, c=mcolor[i])\n",
    "        \n",
    "    axes[0].plot([],[], c=fcolor[i], label=\"{} luminous\".format(name))\n",
    "    axes[0].plot([],[], c=mcolor[i], label=\"{} dark\".format(name))\n",
    "axes[0].legend(loc='lower left')\n",
    "plt.tight_layout()\n",
    "\n",
    "plt.savefig(filename, dpi=200)"
   ]
  },
  {
   "cell_type": "code",
   "execution_count": null,
   "metadata": {},
   "outputs": [],
   "source": []
  }
 ],
 "metadata": {
  "kernelspec": {
   "display_name": "Python 3",
   "language": "python",
   "name": "python3"
  },
  "language_info": {
   "codemirror_mode": {
    "name": "ipython",
    "version": 3
   },
   "file_extension": ".py",
   "mimetype": "text/x-python",
   "name": "python",
   "nbconvert_exporter": "python",
   "pygments_lexer": "ipython3"
  }
 },
 "nbformat": 4,
 "nbformat_minor": 4
}
