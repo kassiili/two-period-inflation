{
 "cells": [
  {
   "cell_type": "markdown",
   "metadata": {},
   "source": [
    "# What to do now\n",
    "\n",
    "Go through this notebook. Check that it runs through, remove redundant cells, mold it so that it is easy to read.\n",
    "\n",
    "Tests that should be implemented here\n",
    "\n",
    "... for SnapshotMatcher:\n",
    "- matcher output is of correct shape and type\n",
    "- ... and the SUBFIND subgroups of linked subhalos seem reasonable on first inspection\n",
    "- ... and there are enough matches\n",
    "- matcher runtime is acceptable\n",
    "- matches_ref and matches_srch are compatible\n",
    "- when matching one-to-one, no subhalos are matched with more than one other subhalo\n",
    "\n",
    "... for MergerTree:\n",
    "- build_tree output is of correct shape and type\n",
    "- runtime is acceptable\n",
    "- when matching one-to-one, no subhalos are matched with more than one other subhalo between two snapshots\n",
    "- masses of unlinked subhalos\n",
    "- (trajectories of randomly selected subhalos seem reasonable)\n",
    "\n",
    "---\n",
    "\n",
    "After this notebook is polished, check the following notebooks:\n",
    "- central evolution plots\n",
    "- satellite trajectories and mass evolution\n",
    "\n",
    "These are the smoking-gun tests for the merger tree. In the above notebooks, try to use low level methods (e.g. avoid the Subhalo object for now) s.t. the tests are directed to the essential objectives.\n",
    "\n",
    "If all these tests check out, the simtrace and matcher modules can be trusted quite safely. Then, I can make a git commit for the changes to these modules and these test notebooks.\n",
    "\n",
    "---\n",
    "\n",
    "What then follows, is testing for the Subhalo class, subhalo tracing, fall-in times, data values at fall-in, etc. This should be carefully tested in specific notebooks."
   ]
  },
  {
   "cell_type": "markdown",
   "metadata": {},
   "source": [
    "## First, imports:"
   ]
  },
  {
   "cell_type": "code",
   "execution_count": null,
   "metadata": {},
   "outputs": [],
   "source": [
    "%load_ext autoreload\n",
    "%autoreload 2\n",
    "\n",
    "%config IPCompleter.greedy=True"
   ]
  },
  {
   "cell_type": "code",
   "execution_count": null,
   "metadata": {},
   "outputs": [],
   "source": [
    "import matplotlib.pyplot as plt\n",
    "import numpy as np\n",
    "from astropy import units\n",
    "from astropy.cosmology import FlatLambdaCDM, z_at_value"
   ]
  },
  {
   "cell_type": "markdown",
   "metadata": {},
   "source": [
    "Import my library:"
   ]
  },
  {
   "cell_type": "code",
   "execution_count": null,
   "metadata": {},
   "outputs": [],
   "source": [
    "import os\n",
    "import sys\n",
    "\n",
    "apt_path = os.path.abspath(os.path.join('..', 'apostletools'))\n",
    "sys.path.append(apt_path)\n",
    "\n",
    "import simulation\n",
    "import simtrace_redo\n",
    "import match_halo_redo\n",
    "import dataset_comp\n",
    "import subhalo"
   ]
  },
  {
   "cell_type": "code",
   "execution_count": null,
   "metadata": {},
   "outputs": [],
   "source": [
    "import importlib\n",
    "importlib.reload(simulation)\n",
    "importlib.reload(simtrace_redo)\n",
    "importlib.reload(match_halo_redo)\n",
    "importlib.reload(dataset_comp)\n",
    "importlib.reload(subhalo)"
   ]
  },
  {
   "cell_type": "markdown",
   "metadata": {},
   "source": [
    "For computation time efficiency analysis:"
   ]
  },
  {
   "cell_type": "code",
   "execution_count": null,
   "metadata": {},
   "outputs": [],
   "source": [
    "%load_ext line_profiler"
   ]
  },
  {
   "cell_type": "markdown",
   "metadata": {},
   "source": [
    "# Preliminary Tests for Simulation Tracing"
   ]
  },
  {
   "cell_type": "markdown",
   "metadata": {},
   "source": [
    "## Test match_halo\n",
    "\n",
    "Set n_link_ref to the same value as the SUBFIND subhalo minimum particle limit. With n_matches=1, the linking is done injectively."
   ]
  },
  {
   "cell_type": "code",
   "execution_count": null,
   "metadata": {},
   "outputs": [],
   "source": [
    "matcher = match_halo_redo.SnapshotMatcher(n_link_ref=20, n_matches=1)"
   ]
  },
  {
   "cell_type": "markdown",
   "metadata": {},
   "source": [
    "First, study the low-resolution simulation. Create new, blank envelope files in the directory \"test_tracing\" (make sure that no envelope files exist in that directory before testing). "
   ]
  },
  {
   "cell_type": "code",
   "execution_count": null,
   "metadata": {},
   "outputs": [],
   "source": [
    "sim_id = \"V1_LR_fix\"\n",
    "env_path = os.path.abspath(os.path.join('..', 'test_tracing_inj'))\n",
    "print(env_path)\n",
    "sim = simulation.Simulation(sim_id, env_path=env_path)\n",
    "sim.get_snap_ids()"
   ]
  },
  {
   "cell_type": "markdown",
   "metadata": {},
   "source": [
    "Try matching two snapshots. Inspect the runtime."
   ]
  },
  {
   "cell_type": "code",
   "execution_count": null,
   "metadata": {},
   "outputs": [],
   "source": [
    "# Branching backward in time:\n",
    "snap_ref = sim.get_snapshot(126)\n",
    "snap_srch = sim.get_snapshot(127)\n",
    "matches_ref, matches_srch = matcher.match_snapshots(snap_ref, snap_srch)\n",
    "print(matches_ref.shape)\n",
    "print(matches_srch.shape)"
   ]
  },
  {
   "cell_type": "code",
   "execution_count": null,
   "metadata": {},
   "outputs": [],
   "source": [
    "%lprun -f matcher.match_injective matcher.match_snapshots(snap_ref, snap_srch)"
   ]
  },
  {
   "cell_type": "markdown",
   "metadata": {},
   "source": [
    "With ~3s matching time for a pair of snapshots and up to ~120 snapshots to match, the total runtime for tracing the entire LR simulation would be around 6 min. This seems acceptable.\n",
    "\n",
    "Of course, the question is: is this fast enough to trace a MR simulation? The most computing time is spent in the `np.interset1d` function calls, i.e. computing the intersections between the most bound particles between two subhalos. This function is called 113907 times, which means that 113907 pairs of subhalos are tried as matches. \n",
    "\n",
    "This is probably the most time efficient function for finding the intersections, i.e. finding out whether two subhalos match. Thus, the only way to speed up the `match_snapshots` function would be to decrease the number of matching trials. But this is also quite difficult to do: probably the most promising way would be to use spatial and kinematic information. \n",
    "\n",
    "Note that the number of matching trials, if every subhalo in snap_ref was tried with every subhalo in snap_srch, would be 1116 * 1125 = 1255500. So, by restring trials to subhalos within mass range of factor 3 and to unmatched subhalos in srch, and by halting at the first match, we reduce the number of trials by about 90 % (1 - 113907 / (1116 * 1125) = 0.909). Most subhalos are in the low-mass range. Also, the subhalos with the smallest mass are also less likely to be matched at all.\n",
    "\n",
    "One simple way to speed up this function appears to be to match subhalos in the original order, by SUBFIND subgroup. However, then the matches are not necessiraly made between the most massive subhalos (of multiple potential match candidates). While it is rare that more than one such candidate would even exist, the time advantage is only of some factor between 1-10, so I stick with the mass ordering.\n",
    "\n",
    "Let\n",
    "> $n$ be the average number of subhalos in a snapshot, and \\\n",
    "> $k$ the average number of bound particles in a subhalo.\n",
    "\n",
    "The time complexity of `match_snapshots` is $\\mathcal{O}(n^2)$. "
   ]
  },
  {
   "cell_type": "markdown",
   "metadata": {},
   "source": [
    "### Inspect the matches\n",
    "\n",
    "First, simply print the matches:"
   ]
  },
  {
   "cell_type": "code",
   "execution_count": null,
   "metadata": {
    "jupyter": {
     "outputs_hidden": true
    }
   },
   "outputs": [],
   "source": [
    "gns_ref = snap_ref.get_subhalos('GroupNumber')\n",
    "sgns_ref = snap_ref.get_subhalos('SubGroupNumber')\n",
    "gns_srch = snap_srch.get_subhalos('GroupNumber')\n",
    "sgns_srch = snap_srch.get_subhalos('SubGroupNumber')\n",
    "\n",
    "for i, j in enumerate(matches_ref):\n",
    "    if j != matcher.no_match:\n",
    "        print(\"({}, {}) --> ({}, {})\".format(gns_ref[i], sgns_ref[i],\n",
    "                                             gns_srch[j], sgns_srch[j]))\n",
    "    else:\n",
    "        print(\"({}, {}) NO MATCH\".format(gns_ref[i], sgns_ref[i]))"
   ]
  },
  {
   "cell_type": "markdown",
   "metadata": {},
   "source": [
    "Most massive central halos are always matched. Most of the subhalos of M31 and MW are matched. \n",
    "\n",
    "Note, that subhalos of a central remain subhalos of the same central, even when the group number changes:\n",
    "> (10.0, 0.0) --> (11.0, 0.0) \\\n",
    "> (10.0, 1.0) --> (11.0, 1.0) \\\n",
    "> (10.0, 2.0) --> (11.0, 2.0) \\\n",
    "> (11.0, 0.0) --> (9.0, 0.0) \\\n",
    "> (11.0, 1.0) --> (9.0, 1.0) \\\n",
    "> (11.0, 2.0) --> (9.0, 3.0)\n",
    "\n",
    "Or, even:\n",
    "> (18.0, 0.0) --> (2.0, 3.0) \\\n",
    "> (18.0, 1.0) --> (2.0, 26.0) \\\n",
    "> (18.0, 2.0) --> (2.0, 46.0)\n",
    "\n",
    "This is assuring: at least, it appears I manage to link the more massive subhalos of the simulation. But also, most of the least massive ones are linked, which is to be expected, since the SUBFIND 20 minimum particle limit is designed to rule out most spurious numerical structures. It is still left unclear, how long these objects actually survive, however. \n",
    "\n",
    "Another thing to note, is that quite many satellites of the M31 and MW analogues are flying out:\n",
    "> (1.0, 18.0) --> (188.0, 0.0) \\\n",
    "> (2.0, 31.0) --> (415.0, 0.0) \\\n",
    "> (2.0, 38.0) --> (472.0, 0.0)"
   ]
  },
  {
   "cell_type": "markdown",
   "metadata": {},
   "source": [
    "Invert matches_ref and compare with matches_srch. The output, matches_inv, and matches_srch should be exactly equal."
   ]
  },
  {
   "cell_type": "code",
   "execution_count": null,
   "metadata": {},
   "outputs": [],
   "source": [
    "def invert_matches(matches, inv_size, no_match):\n",
    "\n",
    "    # Initialize match array for subhalos in search:\n",
    "    matches_inv = no_match * np.ones(inv_size, dtype=int)\n",
    "\n",
    "    # Iterate through matches:\n",
    "    for sub_idx_ref, sub_idx_srch in enumerate(matches_ref):\n",
    "        if sub_idx_srch == no_match:\n",
    "            continue\n",
    "\n",
    "        if matches_inv[sub_idx_srch] != no_match:\n",
    "            print(\"Odd. Appears non-injective...\")\n",
    "        \n",
    "        matches_inv[sub_idx_srch] = sub_idx_ref\n",
    "        \n",
    "    return matches_inv"
   ]
  },
  {
   "cell_type": "code",
   "execution_count": null,
   "metadata": {},
   "outputs": [],
   "source": [
    "matches_inv = invert_matches(matches_ref, matches_srch.size, matcher.no_match)\n",
    "print(np.sum(matches_inv != matches_srch))"
   ]
  },
  {
   "cell_type": "markdown",
   "metadata": {},
   "source": [
    "No two subhalos in snap_ref are matched with the same subhalo in snap_srch:"
   ]
  },
  {
   "cell_type": "code",
   "execution_count": null,
   "metadata": {},
   "outputs": [],
   "source": [
    "vals, cnts = np.unique(matches_ref, return_counts=True)\n",
    "print(\"Total number of matches: {}\".format(vals.size))\n",
    "print(\"Subhalos in snap_srch that are matched more than ones:\")\n",
    "print(\"Indices: {}\".format(vals[cnts > 1]))\n",
    "print(\"Counts: {}\".format(cnts[cnts > 1]))"
   ]
  },
  {
   "cell_type": "code",
   "execution_count": null,
   "metadata": {},
   "outputs": [],
   "source": [
    "vals, cnts = np.unique(matches_srch, return_counts=True)\n",
    "print(\"Total number of matches: {}\".format(vals.size))\n",
    "print(\"Subhalos in snap_srch that are matched more than ones:\")\n",
    "print(\"Indices: {}\".format(vals[cnts > 1]))\n",
    "print(\"Counts: {}\".format(cnts[cnts > 1]))"
   ]
  },
  {
   "cell_type": "markdown",
   "metadata": {},
   "source": [
    "... or:"
   ]
  },
  {
   "cell_type": "code",
   "execution_count": null,
   "metadata": {},
   "outputs": [],
   "source": [
    "print(np.sum(matches_srch[:] != matcher.no_match))"
   ]
  },
  {
   "cell_type": "markdown",
   "metadata": {},
   "source": [
    "## Merger Trees"
   ]
  },
  {
   "cell_type": "code",
   "execution_count": null,
   "metadata": {},
   "outputs": [],
   "source": [
    "snap_start = 101\n",
    "snap_stop = 128"
   ]
  },
  {
   "cell_type": "code",
   "execution_count": null,
   "metadata": {},
   "outputs": [],
   "source": [
    "sim.get_snapshot(snap_start).group_data.fname"
   ]
  },
  {
   "cell_type": "code",
   "execution_count": null,
   "metadata": {
    "jupyter": {
     "outputs_hidden": true
    }
   },
   "outputs": [],
   "source": [
    "mtree = simtrace_redo.MergerTree(sim, branching=\"BackwardBranching\")\n",
    "%lprun -f mtree.build_tree_with_back_branch mtree.build_tree(snap_start, snap_stop, overwrite=True)"
   ]
  },
  {
   "cell_type": "markdown",
   "metadata": {},
   "source": [
    "Again, no mergers found between any of the pairs of snapshots:"
   ]
  },
  {
   "cell_type": "code",
   "execution_count": null,
   "metadata": {
    "jupyter": {
     "outputs_hidden": true
    }
   },
   "outputs": [],
   "source": [
    "snap_stop=101\n",
    "for sid in range(snap_stop, 127):\n",
    "    snap = sim.get_snapshot(sid)\n",
    "    desc = snap.get_subhalos('Descendants', mtree.h5_group)\n",
    "    vals, cnts = np.unique(desc, return_counts=True)\n",
    "    mask_merger = np.logical_and(vals != mtree.no_match, cnts > 1)\n",
    "    print(sid, np.sum(mask_merger))\n",
    "    print(np.size(desc), np.sum(desc != mtree.no_match))"
   ]
  },
  {
   "cell_type": "markdown",
   "metadata": {},
   "source": [
    "## Unidentified subhalos\n",
    "\n",
    "At each snapshot, about 300 subhalos are present that have neither identified progenitors or descendants:"
   ]
  },
  {
   "cell_type": "code",
   "execution_count": null,
   "metadata": {
    "jupyter": {
     "outputs_hidden": true
    }
   },
   "outputs": [],
   "source": [
    "snap_start=102; snap_stop=127\n",
    "for sid in range(snap_start, snap_stop):\n",
    "    snap = sim.get_snapshot(sid)\n",
    "    desc = snap.get_subhalos('Descendants', mtree.h5_group)\n",
    "    prog = snap.get_subhalos('Progenitors', mtree.h5_group)\n",
    "    print(\"Snapshot {}\".format(sid))\n",
    "    print(\"  # subhalos: {}\".format(np.size(desc)))\n",
    "    print(\"  # with no progenitor: {}\".format(np.sum(prog == mtree.no_match)))\n",
    "    print(\"  # with no descendant: {}\".format(np.sum(desc == mtree.no_match)))\n",
    "    mask_shadow = np.logical_and(prog == mtree.no_match, desc == mtree.no_match)\n",
    "    print(\"  # with neither: {}\".format(np.sum(mask_shadow)))\n",
    "    \n",
    "    gns = snap.get_subhalos('GroupNumber')\n",
    "    sgns = snap.get_subhalos('SubGroupNumber')\n",
    "    print(\"    # with SGN=0: {}\".format(\n",
    "        np.sum(np.logical_and(mask_shadow, sgns==0))))\n",
    "    n = 100\n",
    "    print(\"    # with GN>{}: {}\".format(n,\n",
    "        np.sum(np.logical_and(mask_shadow, gns>n))))\n",
    "    print(\"\")"
   ]
  },
  {
   "cell_type": "markdown",
   "metadata": {},
   "source": [
    "Let us inspect the masses of these subhalos:"
   ]
  },
  {
   "cell_type": "code",
   "execution_count": null,
   "metadata": {},
   "outputs": [],
   "source": [
    "sid = 126\n",
    "snap = sim.get_snapshot(sid)\n",
    "desc = snap.get_subhalos('Descendants', mtree.h5_group)\n",
    "prog = snap.get_subhalos('Progenitors', mtree.h5_group)\n",
    "mask_shadow = np.logical_and(prog == mtree.no_match, desc == mtree.no_match)\n",
    "\n",
    "masks_sat, mask_isol = dataset_comp.split_satellites_by_group_number(\n",
    "    snap, (1,0), (2,0))\n",
    "mask_sat = np.logical_or.reduce(masks_sat)\n",
    "\n",
    "mass = snap.get_subhalos('Mass') * units.g.to(units.Msun)\n",
    "m = np.sort(mass)\n",
    "m_s = np.sort(mass[mask_shadow])\n",
    "\n",
    "fig, ax = plt.subplots(ncols=2)\n",
    "ax[0].set_xscale('log')\n",
    "ax[1].set_xscale('log')\n",
    "\n",
    "m = mass[mask_sat]\n",
    "ax[0].plot(np.sort(m), np.arange(m.size))\n",
    "m = mass[np.logical_and(mask_sat, mask_shadow)]\n",
    "ax[0].plot(np.sort(m), np.arange(m.size))\n",
    "\n",
    "m = mass[mask_isol]\n",
    "ax[1].plot(np.sort(m), np.arange(m.size))\n",
    "m = mass[np.logical_and(mask_isol, mask_shadow)]\n",
    "ax[1].plot(np.sort(m), np.arange(m.size))\n"
   ]
  },
  {
   "cell_type": "markdown",
   "metadata": {},
   "source": [
    "The above figure tells us that the unmatched subhalos have masses in the range $\\lesssim 2 * 10^8 M_\\odot$. With DM particle mass $\\gtrsim 7 * 10^6 M_\\odot$, this amounts to $\\lesssim 29$ particles per subhalo. For such low particle numbers, the match-making is expected to fail."
   ]
  },
  {
   "cell_type": "markdown",
   "metadata": {
    "jupyter": {
     "source_hidden": true
    }
   },
   "source": [
    "Old observation, with n_link_ref == 15 and the number of particles in sub_srch selected strictly f_link_srch * n_srch, and not at least n_link_ref:\n",
    "\n",
    "The above figure tells us that the unmatched subhalos have masses in the range $1\\mathrm{-}3 * 10^8 M_\\odot$. With DM particle mass $\\gtrsim 7 * 10^7 M_\\odot$, this amounts to $\\lesssim 14\\mathrm{-}43$ particles per subhalo. For such low particle numbers, the match-making is expected to fail, since 43/5<9 ~ 8, which is the minimum number of particles that need to be available for matching for a match to even be possible."
   ]
  },
  {
   "cell_type": "code",
   "execution_count": null,
   "metadata": {},
   "outputs": [],
   "source": []
  }
 ],
 "metadata": {
  "kernelspec": {
   "display_name": "Python 3",
   "language": "python",
   "name": "python3"
  },
  "language_info": {
   "codemirror_mode": {
    "name": "ipython",
    "version": 3
   },
   "file_extension": ".py",
   "mimetype": "text/x-python",
   "name": "python",
   "nbconvert_exporter": "python",
   "pygments_lexer": "ipython3"
  }
 },
 "nbformat": 4,
 "nbformat_minor": 4
}
