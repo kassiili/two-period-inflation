{
 "cells": [
  {
   "cell_type": "markdown",
   "metadata": {},
   "source": [
    "## First, imports:"
   ]
  },
  {
   "cell_type": "code",
   "execution_count": null,
   "metadata": {},
   "outputs": [],
   "source": [
    "%load_ext autoreload\n",
    "%autoreload 2\n",
    "\n",
    "#%config IPCompleter.greedy=True"
   ]
  },
  {
   "cell_type": "code",
   "execution_count": null,
   "metadata": {},
   "outputs": [],
   "source": [
    "import matplotlib.pyplot as plt\n",
    "import numpy as np\n",
    "from astropy import units"
   ]
  },
  {
   "cell_type": "markdown",
   "metadata": {},
   "source": [
    "Import my library:"
   ]
  },
  {
   "cell_type": "code",
   "execution_count": null,
   "metadata": {},
   "outputs": [],
   "source": [
    "import os\n",
    "import sys\n",
    "\n",
    "apt_path = os.path.abspath(os.path.join('..', 'apostletools'))\n",
    "sys.path.append(apt_path)\n",
    "\n",
    "import snapshot\n",
    "import subhalo"
   ]
  },
  {
   "cell_type": "code",
   "execution_count": null,
   "metadata": {},
   "outputs": [],
   "source": [
    "import importlib\n",
    "importlib.reload(snapshot)\n",
    "importlib.reload(subhalo)"
   ]
  },
  {
   "cell_type": "markdown",
   "metadata": {},
   "source": [
    "# Rotation curves\n",
    "\n",
    "Test rotation curve function and the identification of v_max, r_max and v_1kpc."
   ]
  },
  {
   "cell_type": "markdown",
   "metadata": {},
   "source": [
    "## Get data"
   ]
  },
  {
   "cell_type": "code",
   "execution_count": null,
   "metadata": {
    "code_folding": []
   },
   "outputs": [],
   "source": [
    "snap_id = 127\n",
    "sim_ids = [\"V1_LR_fix\", \"V1_LR_curvaton_p082_fix\", \"V1_LR_curvaton_p084_fix\"]\n",
    "names = [\"plain-LCDM-LR\", \"curv-p082-LR\", \"curv-p082-LR\"]\n",
    "\n",
    "# Set directory for saving:\n",
    "fig_path = os.path.abspath(os.path.join('..', 'Figures', 'LowResolution'))\n",
    "\n",
    "# Which halo:\n",
    "halo = [(1,0), (1,0), (1,0)]\n",
    "\n",
    "# Set plot limits:\n",
    "x_down = 0; x_up = 60\n",
    "y_down = 0; y_up = 300"
   ]
  },
  {
   "cell_type": "code",
   "execution_count": null,
   "metadata": {
    "code_folding": []
   },
   "outputs": [],
   "source": [
    "snap_id = 127\n",
    "sim_ids = [\"V1_MR_fix\", \"V1_MR_curvaton_p082_fix\"]\n",
    "names = [\"LCDM\", \"p082\"]\n",
    "\n",
    "# Set directory for saving:\n",
    "fig_path = os.path.abspath(os.path.join('..', 'Figures', 'MediumResolution'))\n",
    "\n",
    "# Which halo:\n",
    "halo = [(1,3), (1,4)]\n",
    "\n",
    "# Set plot limits:\n",
    "x_down = 0; x_up = 60\n",
    "y_down = 0; y_up = 200"
   ]
  },
  {
   "cell_type": "code",
   "execution_count": null,
   "metadata": {
    "code_folding": []
   },
   "outputs": [],
   "source": [
    "data = {}\n",
    "for name, sim_id, halo_id in zip(names, sim_ids, halo):\n",
    "    data[name] = {\"snapshot\": snapshot.Snapshot(sim_id, snap_id, name=name),\n",
    "                  \"halo_identifier\": halo_id}"
   ]
  },
  {
   "cell_type": "code",
   "execution_count": null,
   "metadata": {
    "code_folding": []
   },
   "outputs": [],
   "source": [
    "for name, sim_data in data.items():\n",
    "    snap = sim_data[\"snapshot\"]\n",
    "    idx = snap.index_of_halo(sim_data[\"halo_identifier\"][0], \n",
    "                             sim_data[\"halo_identifier\"][1])\n",
    "\n",
    "    rot_curves = snap.get_subhalos('Vcirc', \n",
    "                                   h5_group='Extended/RotationCurve/All')\n",
    "    sub_offset = snap.get_subhalos('SubOffset', \n",
    "                                   h5_group='Extended/RotationCurve/All')\n",
    "    v_circ = rot_curves[:,0] * units.cm.to(units.km)\n",
    "    radii = rot_curves[:,1] * units.cm.to(units.kpc)\n",
    "    \n",
    "    max_point = snap.get_subhalos(\"Max_Vcirc\", h5_group=\"Extended\")\n",
    "    vmax = max_point[:,0] * units.cm.to(units.km)\n",
    "    rmax = max_point[:,1] * units.cm.to(units.kpc)\n",
    "    \n",
    "    v1kpc = snap.get_subhalos(\"V1kpc\", h5_group=\"Extended\") * units.cm.to(units.km)\n",
    "    \n",
    "    data[name][\"Vmax\"] = vmax[idx]\n",
    "    data[name][\"Rmax\"] = rmax[idx]\n",
    "    data[name][\"Vcirc\"] = v_circ[sub_offset[idx]:sub_offset[idx+1]]\n",
    "    data[name][\"Radius\"] = radii[sub_offset[idx]:sub_offset[idx+1]]\n",
    "    data[name][\"V1kpc\"] = v1kpc[idx]"
   ]
  },
  {
   "cell_type": "code",
   "execution_count": null,
   "metadata": {},
   "outputs": [],
   "source": [
    "color = [\"black\", \"red\", \"blue\", \"green\"]"
   ]
  },
  {
   "cell_type": "code",
   "execution_count": null,
   "metadata": {},
   "outputs": [],
   "source": [
    "# Construct saving location:\n",
    "filename = 'rotation_curve'\n",
    "for name, sim_data in data.items():\n",
    "    filename += \"_{}_gn{}sgn{}\".format(name, sim_data[\"halo_identifier\"][0],\n",
    "                                       sim_data[\"halo_identifier\"][1])\n",
    "filename += \".png\"\n",
    "\n",
    "filename = os.path.join(fig_path, filename)"
   ]
  },
  {
   "cell_type": "code",
   "execution_count": null,
   "metadata": {
    "code_folding": []
   },
   "outputs": [],
   "source": [
    "fig, axes = plt.subplots(figsize=(6,4))\n",
    "\n",
    "# Set axes:\n",
    "axes.set_xlim(x_down, x_up)\n",
    "axes.set_ylim(y_down,y_up)\n",
    "\n",
    "# Set labels:\n",
    "axes.set_xlabel('$r[\\mathrm{kpc}]$')\n",
    "axes.set_ylabel('$v_{\\mathrm{circ}}[\\mathrm{kms^{-1}}]$')\n",
    "\n",
    "# Galaxy text:\n",
    "#axes.set_title('Rotation curve')\n",
    "\n",
    "for i, (name, entry) in enumerate(data.items()):\n",
    "    lab = \"{}: ({}, {})\".format(name, \n",
    "                                entry[\"halo_identifier\"][0],\n",
    "                                entry[\"halo_identifier\"][1])\n",
    "    axes.plot(entry[\"Radius\"], entry[\"Vcirc\"], c=color[i], label=lab)\n",
    "    axes.axhline(entry[\"Vmax\"], c=color[i], linestyle='dashed')\n",
    "    axes.axvline(entry[\"Rmax\"], c=color[i], linestyle='dashed')\n",
    "    axes.axhline(entry[\"V1kpc\"], c=color[i], linestyle='dotted')\n",
    "    \n",
    "plt.legend()\n",
    "plt.tight_layout()\n",
    "\n",
    "# plt.savefig(os.path.join(path,filename), dpi=300)"
   ]
  },
  {
   "cell_type": "code",
   "execution_count": null,
   "metadata": {},
   "outputs": [],
   "source": []
  }
 ],
 "metadata": {
  "kernelspec": {
   "display_name": "Python 3",
   "language": "python",
   "name": "python3"
  },
  "language_info": {
   "codemirror_mode": {
    "name": "ipython",
    "version": 3
   },
   "file_extension": ".py",
   "mimetype": "text/x-python",
   "name": "python",
   "nbconvert_exporter": "python",
   "pygments_lexer": "ipython3"
  }
 },
 "nbformat": 4,
 "nbformat_minor": 4
}
