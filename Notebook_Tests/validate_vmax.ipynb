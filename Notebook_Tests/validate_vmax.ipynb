{
 "cells": [
  {
   "cell_type": "code",
   "execution_count": null,
   "metadata": {},
   "outputs": [],
   "source": [
    "%load_ext autoreload\n",
    "%autoreload 2\n",
    "\n",
    "%config IPCompleter.greedy=True"
   ]
  },
  {
   "cell_type": "code",
   "execution_count": null,
   "metadata": {},
   "outputs": [],
   "source": [
    "import matplotlib.pyplot as plt\n",
    "import numpy as np\n",
    "import h5py\n",
    "from astropy import units\n",
    "from pathlib import Path\n",
    "import os\n",
    "\n",
    "import snapshot_obj\n",
    "import dataset_compute\n",
    "import curve_fit\n",
    "\n",
    "import importlib"
   ]
  },
  {
   "cell_type": "code",
   "execution_count": null,
   "metadata": {},
   "outputs": [],
   "source": [
    "importlib.reload(snapshot_obj)\n",
    "importlib.reload(dataset_compute)\n",
    "importlib.reload(curve_fit)"
   ]
  },
  {
   "cell_type": "markdown",
   "metadata": {},
   "source": [
    "# Differences between values of $v_\\mathrm{max}$ \n",
    "\n",
    "To validate the values computed with my implemented methods, I compare them to the catalogued values that should be alright.\n",
    "\n",
    "## Inspect subhalo sizes\n",
    "\n",
    "First let us plot a histogram (logarithmically) of the number of bound particles of the subhalos in the med-res run. As expected, most halos are formed in the small-mass range, with only about $<100$ bound particles. These halos are hardly resolved."
   ]
  },
  {
   "cell_type": "code",
   "execution_count": null,
   "metadata": {
    "code_folding": []
   },
   "outputs": [],
   "source": [
    "# Get LCDM data:\n",
    "LCDM = snapshot_obj.Snapshot(\"V1_MR_fix\", 127)\n",
    "vmax = LCDM.get_subhalos(\"Vmax\") * units.cm.to(units.km)\n",
    "data = LCDM.get_subhalos(\"Max_Vcirc\")\n",
    "max_vcirc = data[:,0] * units.cm.to(units.km)\n",
    "rmax = data[:,1] * units.cm.to(units.kpc)"
   ]
  },
  {
   "cell_type": "code",
   "execution_count": null,
   "metadata": {},
   "outputs": [],
   "source": [
    "part_nums = LCDM.get_subhalos(\"SubLength\")\n",
    "print(np.min(part_nums))"
   ]
  },
  {
   "cell_type": "code",
   "execution_count": null,
   "metadata": {},
   "outputs": [],
   "source": [
    "down = 1; up = 5\n",
    "part_nums = np.log10(part_nums)\n",
    "part_nums = part_nums[np.logical_and(down < part_nums, part_nums < up)]\n",
    "fig, axes = plt.subplots()\n",
    "axes.set_xlabel('$\\mathrm{log}(N_\\mathrm{bound})$')\n",
    "axes.hist(part_nums, 10)\n",
    "plt.show()"
   ]
  },
  {
   "cell_type": "markdown",
   "metadata": {},
   "source": [
    "## Plot differing values\n",
    "\n",
    "Now, let us find the subhalos, for which the difference in the $v_\\textrm{max}$ value is in a given range. We see that subhalos with a greater disagreement are the subhalos with less particles. The lines that form in the small-mass range of the figure correspond to $n_\\mathrm{soft}, n_\\mathrm{soft}*2, n_\\mathrm{soft}*3, \\dots$ dm particles. The value of $n_\\mathrm{soft}$ only makes a difference very close to the halo centre (where the accumulated number of particles is small). However, to have a meaningful value of $v_\\mathrm{max}$ for the subhalos with around 50 particles, I chose $n_\\mathrm{soft}=5$ (instead of 10 used for rotation curves). We certainly should not be concerned with the subhalos with less than 50 particles (and talking about halos this small is already pushing it a bit).\n",
    "\n",
    "Looking at subhalos with 5% difference in the values, all of them are among the subhalos that are not really resolved yet. Being able to compute $v_\\mathrm{max}$ for the interesting halos with 5% accuracy, in the very least, is sufficient-"
   ]
  },
  {
   "cell_type": "code",
   "execution_count": null,
   "metadata": {},
   "outputs": [],
   "source": [
    "err = np.abs(vmax-max_vcirc)/vmax\n",
    "differing = np.logical_and(0.01 < err, err < 1)\n",
    "print(vmax.size)\n",
    "print(np.sum(differing))"
   ]
  },
  {
   "cell_type": "code",
   "execution_count": null,
   "metadata": {},
   "outputs": [],
   "source": [
    "fig, axes = plt.subplots()\n",
    "\n",
    "# Set axis:\n",
    "axes.set_xscale('log')\n",
    "axes.set_yscale('log')\n",
    "axes.set_xlim(0.1, 50)\n",
    "axes.set_ylim(0.3, 100)\n",
    "\n",
    "# Add LCDM scatter plot:\n",
    "axes.scatter(rmax[differing], vmax[differing], s=3, label='catalogue')\n",
    "axes.scatter(rmax[differing], max_vcirc[differing], s=3, label='me')\n",
    "\n",
    "plt.legend()\n",
    "plt.tight_layout()\n"
   ]
  },
  {
   "cell_type": "code",
   "execution_count": null,
   "metadata": {},
   "outputs": [],
   "source": []
  },
  {
   "cell_type": "markdown",
   "metadata": {},
   "source": [
    "# Check locations on rotation curves"
   ]
  },
  {
   "cell_type": "code",
   "execution_count": null,
   "metadata": {},
   "outputs": [],
   "source": [
    "%load_ext autoreload\n",
    "%autoreload 2\n",
    "\n",
    "%config IPCompleter.greedy=True"
   ]
  },
  {
   "cell_type": "code",
   "execution_count": null,
   "metadata": {},
   "outputs": [],
   "source": [
    "import matplotlib.pyplot as plt\n",
    "import numpy as np\n",
    "from astropy import units"
   ]
  },
  {
   "cell_type": "code",
   "execution_count": null,
   "metadata": {},
   "outputs": [],
   "source": [
    "import os\n",
    "import sys\n",
    "\n",
    "apt_path = os.path.abspath(os.path.join('..', 'apostletools'))\n",
    "sys.path.append(apt_path)\n",
    "\n",
    "import snapshot\n",
    "import simulation\n",
    "import dataset_comp"
   ]
  },
  {
   "cell_type": "code",
   "execution_count": null,
   "metadata": {},
   "outputs": [],
   "source": [
    "import importlib\n",
    "importlib.reload(snapshot)\n",
    "importlib.reload(dataset_comp)\n",
    "importlib.reload(simulation)"
   ]
  },
  {
   "cell_type": "markdown",
   "metadata": {},
   "source": [
    "## Construct data dictionary\n",
    "\n",
    "Add entries for each simulation, and specify M31 and MW galaxies:"
   ]
  },
  {
   "cell_type": "code",
   "execution_count": null,
   "metadata": {
    "code_folding": []
   },
   "outputs": [],
   "source": [
    "snap_id = 127\n",
    "sim_ids = ['V1_LR_fix', 'V1_LR_curvaton_p082_fix', 'V1_LR_curvaton_p084_fix']\n",
    "names = ['LCDM', 'p082', 'p084']\n",
    "\n",
    "# Define M31 and MW in each simulation:\n",
    "m31 = [(1,0), (1,0), (1,0)]\n",
    "mw = [(2,0), (1,1), (1,0)]\n",
    "\n",
    "data = {}\n",
    "for name, sim_id, m31_ns, mw_ns in zip(names, sim_ids, m31, mw):\n",
    "    data[name] = {'snapshot': snapshot.Snapshot(sim_id, snap_id, name=name),\n",
    "                  'M31_identifier': m31_ns,\n",
    "                  'MW_identifier': mw_ns}"
   ]
  },
  {
   "cell_type": "code",
   "execution_count": null,
   "metadata": {
    "code_folding": []
   },
   "outputs": [],
   "source": [
    "snap_id = 127\n",
    "sim_ids = ['V1_LR_fix', 'V1_LR_curvaton_p082_fix']\n",
    "names = ['LCDM', 'p082']\n",
    "\n",
    "# Define M31 and MW in each simulation:\n",
    "m31 = [(1,0), (1,0)]\n",
    "mw = [(2,0), (1,1)]\n",
    "\n",
    "data = {}\n",
    "for name, sim_id, m31_ns, mw_ns in zip(names, sim_ids, m31, mw):\n",
    "    data[name] = {'snapshot': snapshot.Snapshot(sim_id, snap_id, name=name),\n",
    "                  'M31_identifier': m31_ns,\n",
    "                  'MW_identifier': mw_ns}"
   ]
  },
  {
   "cell_type": "code",
   "execution_count": null,
   "metadata": {
    "code_folding": []
   },
   "outputs": [],
   "source": [
    "snap_id = 127\n",
    "sim_ids = ['V1_MR_fix', 'V1_MR_curvaton_p082_fix']\n",
    "names = ['LCDM', 'p082']\n",
    "\n",
    "# Define M31 and MW in each simulation:\n",
    "m31 = [(1,0), (1,0)]\n",
    "mw = [(2,0), (1,1)]\n",
    "\n",
    "data = {}\n",
    "for name, sim_id, m31_ns, mw_ns in zip(names, sim_ids, m31, mw):\n",
    "    data[name] = {'snapshot': snapshot.Snapshot(sim_id, snap_id, name=name),\n",
    "                  'M31_identifier': m31_ns,\n",
    "                  'MW_identifier': mw_ns}"
   ]
  },
  {
   "cell_type": "markdown",
   "metadata": {},
   "source": [
    "Choose how to distinguish between satellite and isolated galaxies:"
   ]
  },
  {
   "cell_type": "code",
   "execution_count": null,
   "metadata": {},
   "outputs": [],
   "source": [
    "distinction = 'by_r'\n",
    "maxdi = 4000"
   ]
  },
  {
   "cell_type": "code",
   "execution_count": null,
   "metadata": {},
   "outputs": [],
   "source": [
    "dx = 0.23\n",
    "binc = np.array([(1.0+dx/2) + dx*n for n in range(4)])\n",
    "dex_bins = np.array([[c-dx/2,c,c+dx/2] for c in binc])\n",
    "sat_bins = 10**dex_bins\n",
    "print(sat_bins)"
   ]
  },
  {
   "cell_type": "code",
   "execution_count": null,
   "metadata": {},
   "outputs": [],
   "source": [
    "dx = 0.2\n",
    "binc = np.array([(1.2+dx/2) + dx*n for n in range(4)])\n",
    "dex_bins = np.array([[c-dx/2,c,c+dx/2] for c in binc])\n",
    "isol_bins = 10**dex_bins\n",
    "print(isol_bins)"
   ]
  },
  {
   "cell_type": "markdown",
   "metadata": {},
   "source": [
    "Read datasets, split into satellites and isolated galaxies, and add to the data dictionary. We also disregard dark halos and potential spurious halos with $v_\\mathrm{max} = 0$."
   ]
  },
  {
   "cell_type": "code",
   "execution_count": null,
   "metadata": {
    "code_folding": []
   },
   "outputs": [],
   "source": [
    "for name, sim_data in data.items():\n",
    "    # Get data:\n",
    "    snap = sim_data['snapshot']\n",
    "    max_point = snap.get_subhalos(\"Max_Vcirc\", \"Extended\")\n",
    "    vmax = max_point[:,0] * units.cm.to(units.km)\n",
    "    rmax = max_point[:,1] * units.cm.to(units.kpc)\n",
    "    \n",
    "    # Retrieve rotation curves and split by subhalo:\n",
    "    rot_curves = snap.get_subhalos(\n",
    "        'Vcirc', group='Extended/RotationCurve/All')\n",
    "    sub_offset = snap.get_subhalos(\n",
    "        'SubOffset', group='Extended/RotationCurve/All')\n",
    "    v_circ = rot_curves[:,0] * units.cm.to(units.km)\n",
    "    radii = rot_curves[:,1] * units.cm.to(units.kpc)\n",
    "    v_circ = np.array(np.split(v_circ, sub_offset[1:]))\n",
    "    radii = np.array(np.split(radii, sub_offset[1:]))\n",
    "    \n",
    "    # Split into satellites:\n",
    "    if distinction == 'by_r':\n",
    "        masks_sat, mask_isol = dataset_comp.split_satellites_by_distance(\n",
    "            snap, sim_data['M31_identifier'], sim_data['MW_identifier'], max_dist_isol=maxdi)\n",
    "    elif distinction == 'by_gn':\n",
    "        masks_sat, mask_isol = dataset_comp.split_satellites_by_group_number(\n",
    "            snap, sim_data['M31_identifier'], sim_data['MW_identifier'])\n",
    "    \n",
    "    # Compute masks for vmax bins:\n",
    "    sat_bin_masks = [dataset_comp.prune_vmax(snap, low_lim=b[0], up_lim=b[2])\n",
    "                     for b in sat_bins]\n",
    "    isol_bin_masks = [dataset_comp.prune_vmax(snap, low_lim=b[0], up_lim=b[2])\n",
    "                     for b in isol_bins]\n",
    "\n",
    "    # Compute other masking arrays:\n",
    "    mask_lum, mask_dark = dataset_comp.split_luminous(snap)\n",
    "    \n",
    "    # Add selections (masking arrays):\n",
    "    data[name]['Selections'] = {\n",
    "        'M31': masks_sat[0],\n",
    "        'MW': masks_sat[1],\n",
    "        'Satellite': np.logical_or.reduce(masks_sat),\n",
    "        'Isolated': mask_isol,\n",
    "        'VmaxBins': {\n",
    "            'Satellite': {\n",
    "                'Low': sat_bin_masks[0], \n",
    "                'SemiLow': sat_bin_masks[1],\n",
    "                'SemiHigh': sat_bin_masks[2],\n",
    "                'High': sat_bin_masks[3]  \n",
    "            },\n",
    "            'Isolated': {\n",
    "                'Low': isol_bin_masks[0], \n",
    "                'SemiLow': isol_bin_masks[1],\n",
    "                'SemiHigh': isol_bin_masks[2],\n",
    "                'High': isol_bin_masks[3]  \n",
    "            }\n",
    "        },\n",
    "        'Luminous': mask_lum,\n",
    "        'Dark': mask_dark\n",
    "    }\n",
    "    \n",
    "    # Add datasets to dictionary:\n",
    "    data[name]['Vmax'] = vmax\n",
    "    data[name]['Rmax'] = rmax\n",
    "    data[name]['Vcirc'] = v_circ\n",
    "    data[name]['Radius'] = radii"
   ]
  },
  {
   "cell_type": "markdown",
   "metadata": {},
   "source": [
    "## Plot"
   ]
  },
  {
   "cell_type": "code",
   "execution_count": null,
   "metadata": {},
   "outputs": [],
   "source": [
    "# Set some parameters:\n",
    "x_down = 10; x_up = 100\n",
    "y_down = 5*10**5; y_up = 2*10**10\n",
    "\n",
    "# Set marker styles:\n",
    "fcolor = ['black', 'red', 'blue', 'green']\n",
    "mcolor = ['gray', 'pink', 'lightblue', 'lightgreen']\n",
    "marker = ['+', 'o', '^', 1]\n",
    "a=0.5"
   ]
  },
  {
   "cell_type": "code",
   "execution_count": null,
   "metadata": {},
   "outputs": [],
   "source": [
    "# Construct saving location:\n",
    "filename = 'rotation_curve_bundles_sat'\n",
    "for name in names:\n",
    "    filename += '_{}'.format(name)\n",
    "filename += '.png'\n",
    "    \n",
    "home = os.path.dirname(snapshot.__file__)\n",
    "path = os.path.join(home,'Figures', 'MediumResolution')\n",
    "filename = os.path.join(path, filename)"
   ]
  },
  {
   "cell_type": "code",
   "execution_count": null,
   "metadata": {},
   "outputs": [],
   "source": [
    "\"$\\log_{{10}}\\\\frac{{v_\\mathrm{{max}}}}{{\\mathrm{{km/s}}}} = {:.3f}\".format(\n",
    "               dex_bins[0,1])"
   ]
  },
  {
   "cell_type": "code",
   "execution_count": null,
   "metadata": {},
   "outputs": [],
   "source": [
    "\"${:.2f} \\mathrm{{km/s}} < v_\\mathrm{{max}} < {:.2f} \\mathrm{{km/s}}$\".format(0.1,0.2)"
   ]
  },
  {
   "cell_type": "code",
   "execution_count": null,
   "metadata": {},
   "outputs": [],
   "source": [
    "fig, axes = plt.subplots(nrows=2, ncols=2, sharex='row', sharey='row', figsize=(8,8))\n",
    "plt.subplots_adjust(wspace=0.1)\n",
    "plt.subplots_adjust(hspace=0.1)\n",
    "\n",
    "# Set axis:\n",
    "axes[0,0].set_xlim(0,10)\n",
    "axes[0,0].set_ylim(0,30)\n",
    "axes[1,0].set_xlim(0,30)\n",
    "axes[1,0].set_ylim(0,90)\n",
    "\n",
    "# Set labels:\n",
    "s=14\n",
    "axes[1,0].set_xlabel('$r[\\mathrm{kpc}]$', fontsize=s)\n",
    "axes[1,1].set_xlabel('$r[\\mathrm{kpc}]$', fontsize=s)\n",
    "axes[0,0].set_ylabel('$v_{\\mathrm{circ}}[\\mathrm{kms^{-1}}]$', fontsize=s)\n",
    "axes[1,0].set_ylabel('$v_{\\mathrm{circ}}[\\mathrm{kms^{-1}}]$', fontsize=s)\n",
    "\n",
    "axes[0,0].text(0.9, 0.1,\n",
    "               \"$v_\\mathrm{{max}} = {:.2f}^{{+{:.2f}}}_{{-{:.2f}}} ~\\mathrm{{km/s}}$\".format(\n",
    "               sat_bins[0,1], sat_bins[0,2] - sat_bins[0,1], \n",
    "                   sat_bins[0,1] - sat_bins[0,0]),\n",
    "               transform=axes[0,0].transAxes, \n",
    "               horizontalalignment='right',\n",
    "               verticalalignment='bottom',\n",
    "               fontsize=s)\n",
    "\n",
    "# axes[0,0].text(0.9, 0.1,\n",
    "#                \"$\\log_{{10}}\\\\frac{{v_\\mathrm{{max}}}}{{\\mathrm{{km/s}}}} = {:.3f}$\".format(\n",
    "#                dex_bins[0,1]), \n",
    "#                transform=axes[0,0].transAxes, \n",
    "#                horizontalalignment='right',\n",
    "#                verticalalignment='bottom',\n",
    "#                fontsize=s)\n",
    "# axes[0,1].text(0.9, 0.1, \n",
    "#                \"$\\log_{{10}}\\\\frac{{v_\\mathrm{{max}}}}{{\\mathrm{{km/s}}}} = {:.3f}$\".format(\n",
    "#                dex_bins[1,1]),\n",
    "#                transform=axes[0,1].transAxes, \n",
    "#                horizontalalignment='right',\n",
    "#                verticalalignment='bottom',\n",
    "#                fontsize=s)\n",
    "# axes[1,0].text(0.9, 0.1, \n",
    "#                \"$\\log_{{10}}\\\\frac{{v_\\mathrm{{max}}}}{{\\mathrm{{km/s}}}} = {:.3f}$\".format(\n",
    "#                dex_bins[2,1]),\n",
    "#                transform=axes[1,0].transAxes, \n",
    "#                horizontalalignment='right',\n",
    "#                verticalalignment='bottom',\n",
    "#                fontsize=s)\n",
    "# axes[1,1].text(0.9, 0.1,\n",
    "#                \"$\\log_{{10}}\\\\frac{{v_\\mathrm{{max}}}}{{\\mathrm{{km/s}}}} = {:.3f}$\".format(\n",
    "#                dex_bins[3,1]),\n",
    "#                transform=axes[1,1].transAxes, \n",
    "#                horizontalalignment='right',\n",
    "#                verticalalignment='bottom',\n",
    "#                fontsize=s)\n",
    "\n",
    "fig.suptitle('Satellite Galaxies', y=1.01, fontsize=s)\n",
    "\n",
    "# Add scatter plots:\n",
    "for i, (name, entry) in enumerate(data.items()):\n",
    "    mask = np.logical_and.reduce([entry['Selections']['VmaxBins']['Satellite']['Low'],\n",
    "                                  entry['Selections']['Luminous'],\n",
    "                                  entry['Selections']['Satellite']])\n",
    "    v_circ = entry['Vcirc'][mask]\n",
    "    radius = entry['Radius'][mask]\n",
    "    vmax = entry['Vmax'][mask]\n",
    "    rmax = entry['Rmax'][mask]\n",
    "    for v, r, vm, rm in zip(v_circ, radius, vmax, rmax):\n",
    "        axes[0,0].plot(r, v, c=fcolor[i], alpha=a)\n",
    "        axes[0,0].plot(rm, vm, 'o', c=fcolor[i])\n",
    "    \n",
    "    mask = np.logical_and.reduce([entry['Selections']['VmaxBins']['Satellite']['SemiLow'],\n",
    "                                  entry['Selections']['Luminous'],\n",
    "                                  entry['Selections']['Satellite']])\n",
    "    v_circ = entry['Vcirc'][mask]\n",
    "    radius = entry['Radius'][mask]\n",
    "    vmax = entry['Vmax'][mask]\n",
    "    rmax = entry['Rmax'][mask]\n",
    "    for v, r, vm, rm in zip(v_circ, radius, vmax, rmax):\n",
    "        axes[0,1].plot(r, v, c=fcolor[i], alpha=a)\n",
    "        axes[0,1].plot(rm, vm, 'o', c=fcolor[i])\n",
    "#     for v, r in zip(v_circ, radius):\n",
    "#         axes[0,1].plot(r, v, c=fcolor[i], alpha=a)\n",
    "        \n",
    "        \n",
    "    mask = np.logical_and.reduce([entry['Selections']['VmaxBins']['Satellite']['SemiHigh'],\n",
    "                                  entry['Selections']['Luminous'],\n",
    "                                  entry['Selections']['Satellite']])\n",
    "    v_circ = entry['Vcirc'][mask]\n",
    "    radius = entry['Radius'][mask]\n",
    "    vmax = entry['Vmax'][mask]\n",
    "    rmax = entry['Rmax'][mask]\n",
    "    for v, r, vm, rm in zip(v_circ, radius, vmax, rmax):\n",
    "        axes[1,0].plot(r, v, c=fcolor[i], alpha=a)\n",
    "        axes[1,0].plot(rm, vm, 'o', c=fcolor[i])\n",
    "#     for v, r in zip(v_circ, radius):\n",
    "#         axes[1,0].plot(r, v, c=fcolor[i], alpha=a)\n",
    "        \n",
    "    mask = np.logical_and.reduce([entry['Selections']['VmaxBins']['Satellite']['High'],\n",
    "                                  entry['Selections']['Luminous'],\n",
    "                                  entry['Selections']['Satellite']])\n",
    "    v_circ = entry['Vcirc'][mask]\n",
    "    radius = entry['Radius'][mask]\n",
    "    for v, r in zip(v_circ, radius):\n",
    "        axes[1,1].plot(r, v, c=fcolor[i], alpha=a)\n",
    "        \n",
    "# axes[0].legend(loc='lower right')\n",
    "plt.tight_layout()\n",
    "\n",
    "# plt.savefig(filename, dpi=300, bbox_inches='tight')"
   ]
  }
 ],
 "metadata": {
  "kernelspec": {
   "display_name": "Python 3",
   "language": "python",
   "name": "python3"
  },
  "language_info": {
   "codemirror_mode": {
    "name": "ipython",
    "version": 3
   },
   "file_extension": ".py",
   "mimetype": "text/x-python",
   "name": "python",
   "nbconvert_exporter": "python",
   "pygments_lexer": "ipython3"
  }
 },
 "nbformat": 4,
 "nbformat_minor": 4
}
