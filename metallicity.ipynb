{
 "cells": [
  {
   "cell_type": "code",
   "execution_count": null,
   "metadata": {},
   "outputs": [],
   "source": [
    "%load_ext autoreload\n",
    "%autoreload 2\n",
    "\n",
    "%config IPCompleter.greedy=True"
   ]
  },
  {
   "cell_type": "code",
   "execution_count": null,
   "metadata": {},
   "outputs": [],
   "source": [
    "import matplotlib.pyplot as plt\n",
    "import numpy as np\n",
    "import h5py\n",
    "from astropy import units\n",
    "from pathlib import Path\n",
    "import os\n",
    "\n",
    "import snapshot_obj\n",
    "import dataset_compute\n",
    "import curve_fit\n",
    "\n",
    "import importlib"
   ]
  },
  {
   "cell_type": "code",
   "execution_count": null,
   "metadata": {},
   "outputs": [],
   "source": [
    "importlib.reload(snapshot_obj)\n",
    "importlib.reload(dataset_compute)\n",
    "importlib.reload(curve_fit)"
   ]
  },
  {
   "cell_type": "markdown",
   "metadata": {},
   "source": [
    "# Metallicity\n",
    "\n",
    "Metallicity of an individual star is defined here as the mass fraction of the metals: $Z^*$ $ = \\frac{ \\sum_{j>\\text{He}} m_j}{\\sum_k m_k}$. Metallicity of a galaxy is defined as the mass weighted average of the star particles of that galaxy: $Z = \\frac{ \\sum_j m_j Z^*_i}{\\sum_k m_k}$ (in the EAGLE simulations). \n",
    "\n",
    "I further normalize the metallicity of a galaxy by the solar metallicity $Z_\\odot = 0.0134$ (Wikipedia), and use the log-metallicity of the normalized quantity: $Z = \\log_{10} \\frac{ \\sum_j m_j Z^*_i}{\\sum_k m_k} - \\log_{10} Z_\\odot$."
   ]
  },
  {
   "cell_type": "markdown",
   "metadata": {},
   "source": [
    "## Construct data dictionary\n",
    "\n",
    "Add entries for each simulation, and specify M31 and MW galaxies:"
   ]
  },
  {
   "cell_type": "code",
   "execution_count": null,
   "metadata": {
    "code_folding": []
   },
   "outputs": [],
   "source": [
    "snap_id = 127\n",
    "sim_ids = [\"V1_LR_fix\", \"V1_LR_curvaton_p082_fix\", \"V1_LR_curvaton_p084_fix\"]\n",
    "names = [\"LCDM\", \"p082\", \"p084\"]\n",
    "\n",
    "# Define M31 and MW in each simulation:\n",
    "m31 = [(1,0), (1,0), (1,0)]\n",
    "mw = [(2,0), (1,1), (1,0)]\n",
    "\n",
    "data = {}\n",
    "for name, sim_id, m31_ns, mw_ns in zip(names, sim_ids, m31, mw):\n",
    "    data[name] = {\"snapshot\": snapshot_obj.Snapshot(sim_id, snap_id, name=name),\n",
    "                  \"M31_identifier\": m31_ns,\n",
    "                  \"MW_identifier\": mw_ns}"
   ]
  },
  {
   "cell_type": "code",
   "execution_count": null,
   "metadata": {
    "code_folding": []
   },
   "outputs": [],
   "source": [
    "snap_id = 126\n",
    "sim_ids = [\"V1_MR_fix\", \"V1_MR_curvaton_p082_fix\"]\n",
    "names = [\"LCDM\", \"p082\"]\n",
    "\n",
    "# Define M31 and MW in each simulation:\n",
    "m31 = [(1,0), (1,0)]\n",
    "mw = [(2,0), (1,1)]\n",
    "\n",
    "data = {}\n",
    "for name, sim_id, m31_ns, mw_ns in zip(names, sim_ids, m31, mw):\n",
    "    data[name] = {\"snapshot\": snapshot_obj.Snapshot(sim_id, snap_id, name=name),\n",
    "                  \"M31_identifier\": m31_ns,\n",
    "                  \"MW_identifier\": mw_ns}"
   ]
  },
  {
   "cell_type": "markdown",
   "metadata": {},
   "source": [
    "Choose how to distinguish between satellite and isolated galaxies:"
   ]
  },
  {
   "cell_type": "code",
   "execution_count": null,
   "metadata": {},
   "outputs": [],
   "source": [
    "distinction = \"by_gn\""
   ]
  },
  {
   "cell_type": "markdown",
   "metadata": {},
   "source": [
    "Read datasets, split into satellites and isolated galaxies, and add to the data dictionary. We also disregard dark halos and potential spurious halos with $v_\\mathrm{max} = 0$."
   ]
  },
  {
   "cell_type": "code",
   "execution_count": null,
   "metadata": {
    "code_folding": []
   },
   "outputs": [],
   "source": [
    "metal_sun = np.log(0.0134)\n",
    "\n",
    "for name, sim_data in data.items():\n",
    "    # Get data:\\frac{ \\sum_j m_j Z^*_i}{\\sum_k m_k}\n",
    "    snap = sim_data[\"snapshot\"]\n",
    "    sm = snap.get_subhalos(\"Stars/Mass\") * units.g.to(units.Msun)\n",
    "    metal = np.log(snap.get_subhalos(\"Stars/Metallicity\")) - metal_sun\n",
    "    \n",
    "    # Split into satellites:\n",
    "    if distinction == \"by_r\":\n",
    "        masks_sat, mask_isol = dataset_compute.split_satellites_by_distance(\n",
    "            snap, sim_data[\"M31_identifier\"], sim_data[\"MW_identifier\"])\n",
    "    elif distinction == \"by_gn\":\n",
    "        masks_sat, mask_isol = dataset_compute.split_satellites_by_group_number(\n",
    "            snap, sim_data[\"M31_identifier\"], sim_data[\"MW_identifier\"])\n",
    "        \n",
    "    mask_lum, mask_dark = dataset_compute.split_luminous(snap)\n",
    "    mask_nonzero_vmax = dataset_compute.prune_vmax(snap)\n",
    "\n",
    "    # Add to dictionary:\n",
    "    for dataset_name, dataset in zip([\"SM\", \"Metallicity\"],[sm, metal]):\n",
    "        data[name][dataset_name] = \\\n",
    "        {\"satellites\": dataset[np.logical_and.reduce(\n",
    "             [np.logical_or.reduce(masks_sat), mask_lum, mask_nonzero_vmax]\n",
    "         )],\n",
    "         \"isolated\": dataset[np.logical_and.reduce(\n",
    "             [mask_isol, mask_lum, mask_nonzero_vmax]\n",
    "         )]\n",
    "        }"
   ]
  },
  {
   "cell_type": "markdown",
   "metadata": {},
   "source": [
    "## Plot"
   ]
  },
  {
   "cell_type": "code",
   "execution_count": null,
   "metadata": {},
   "outputs": [],
   "source": [
    "# Set some parameters:\n",
    "x_down = 10**6; x_up = 10**11\n",
    "y_down = -6; y_up = 1\n",
    "\n",
    "# Set marker styles:\n",
    "fcolor = [\"black\", \"red\", \"blue\", \"green\"]\n",
    "mcolor = [\"gray\", \"pink\", \"lightblue\", \"lightgreen\"]\n",
    "marker = ['+', \"o\", \"^\", 1]"
   ]
  },
  {
   "cell_type": "code",
   "execution_count": null,
   "metadata": {},
   "outputs": [],
   "source": [
    "# Construct saving location:\n",
    "filename = 'metallicity_{}'.format(distinction)\n",
    "for name in names:\n",
    "    filename += \"_{}\".format(name)\n",
    "filename += \".png\"\n",
    "    \n",
    "home = os.path.dirname(snapshot_obj.__file__)\n",
    "path = os.path.join(home,\"Figures\", \"MediumResolution\")\n",
    "filename = os.path.join(path, filename)"
   ]
  },
  {
   "cell_type": "code",
   "execution_count": null,
   "metadata": {},
   "outputs": [],
   "source": [
    "fig, axes = plt.subplots(ncols=2, figsize=(14,6))\n",
    "plt.subplots_adjust(wspace=0.3)\n",
    "\n",
    "# Set axis:\n",
    "for ax in axes:\n",
    "    ax.set_xscale('log')\n",
    "    ax.set_xlim(x_down, x_up)\n",
    "    ax.set_ylim(y_down, y_up)    \n",
    "    ax.set_xlabel('$M_*[\\mathrm{M_\\odot}]$', fontsize=16)\n",
    "    ax.set_ylabel('$<[Z]>$', fontsize=16)\n",
    "\n",
    "axes[0].set_title('Satellite galaxies')\n",
    "axes[1].set_title('Isolated galaxies')\n",
    "\n",
    "# Add scatter plots:\n",
    "for i, (name, entry) in enumerate(data.items()):\n",
    "    x = entry['SM']['satellites']\n",
    "    y = entry['Metallicity']['satellites']\n",
    "    axes[0].scatter(x, y, s=20, marker=marker[i], c=mcolor[i], \\\n",
    "        edgecolor='none', label=name)\n",
    "    \n",
    "    x = entry['SM']['isolated']\n",
    "    y = entry['Metallicity']['isolated']\n",
    "    axes[1].scatter(x, y, s=20, marker=marker[i], c=mcolor[i], \\\n",
    "        edgecolor='none', label=name)\n",
    "    \n",
    "# Add median curves:\n",
    "n_median_points = 7\n",
    "for i, (name, entry) in enumerate(data.items()):\n",
    "    x = entry['SM']['satellites']   \n",
    "    y = entry['Metallicity']['satellites']\n",
    "    print(\"# of satellites: {}\".format(x.size))\n",
    "    median = curve_fit.median_trend(x, y, n_points_per_bar=n_median_points)\n",
    "    if median is not None:\n",
    "        axes[0].plot(median[0], median[1], c=fcolor[i], linestyle='--')\n",
    "    else:\n",
    "        print(\"Could not fit median for:\", name)\n",
    "    \n",
    "    x = entry['SM']['isolated']\n",
    "    y = entry['Metallicity']['isolated']\n",
    "    print(\"# of isolated galaxies: {}\".format(x.size))\n",
    "    median = curve_fit.median_trend(x, y, n_points_per_bar=n_median_points)\n",
    "    if median is not None:\n",
    "        axes[1].plot(median[0], median[1], c=fcolor[i], linestyle='--')\n",
    "    else:\n",
    "        print(\"Could not fit median for:\", name)\n",
    "    \n",
    "axes[0].legend(loc='lower right')\n",
    "plt.tight_layout()\n",
    "\n",
    "plt.savefig(filename, dpi=200)"
   ]
  },
  {
   "cell_type": "code",
   "execution_count": null,
   "metadata": {},
   "outputs": [],
   "source": []
  }
 ],
 "metadata": {
  "kernelspec": {
   "display_name": "Python 3",
   "language": "python",
   "name": "python3"
  },
  "language_info": {
   "codemirror_mode": {
    "name": "ipython",
    "version": 3
   },
   "file_extension": ".py",
   "mimetype": "text/x-python",
   "name": "python",
   "nbconvert_exporter": "python",
   "pygments_lexer": "ipython3"
  }
 },
 "nbformat": 4,
 "nbformat_minor": 4
}
