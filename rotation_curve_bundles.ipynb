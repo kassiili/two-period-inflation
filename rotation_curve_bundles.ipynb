{
 "cells": [
  {
   "cell_type": "code",
   "execution_count": null,
   "metadata": {},
   "outputs": [],
   "source": [
    "%load_ext autoreload\n",
    "%autoreload 2\n",
    "\n",
    "%config IPCompleter.greedy=True"
   ]
  },
  {
   "cell_type": "code",
   "execution_count": null,
   "metadata": {},
   "outputs": [],
   "source": [
    "import matplotlib.pyplot as plt\n",
    "import numpy as np\n",
    "import h5py\n",
    "from astropy import units\n",
    "from pathlib import Path\n",
    "import os\n",
    "\n",
    "import snapshot_obj\n",
    "import simulation\n",
    "import dataset_compute\n",
    "\n",
    "import importlib"
   ]
  },
  {
   "cell_type": "code",
   "execution_count": null,
   "metadata": {},
   "outputs": [],
   "source": [
    "importlib.reload(snapshot_obj)\n",
    "importlib.reload(simulation)\n",
    "importlib.reload(dataset_compute)"
   ]
  },
  {
   "cell_type": "markdown",
   "metadata": {},
   "source": [
    "## Construct data dictionary\n",
    "\n",
    "Add entries for each simulation, and specify M31 and MW galaxies:"
   ]
  },
  {
   "cell_type": "code",
   "execution_count": null,
   "metadata": {
    "code_folding": []
   },
   "outputs": [],
   "source": [
    "snap_id = 127\n",
    "sim_ids = [\"V1_LR_fix\", \"V1_LR_curvaton_p082_fix\", \"V1_LR_curvaton_p084_fix\"]\n",
    "names = [\"LCDM\", \"p082\", \"p084\"]\n",
    "\n",
    "# Define M31 and MW in each simulation:\n",
    "m31 = [(1,0), (1,0), (1,0)]\n",
    "mw = [(2,0), (1,1), (1,0)]\n",
    "\n",
    "data = {}\n",
    "for name, sim_id, m31_ns, mw_ns in zip(names, sim_ids, m31, mw):\n",
    "    data[name] = {\"snapshot\": snapshot_obj.Snapshot(sim_id, snap_id, name=name),\n",
    "                  \"M31_identifier\": m31_ns,\n",
    "                  \"MW_identifier\": mw_ns}"
   ]
  },
  {
   "cell_type": "code",
   "execution_count": null,
   "metadata": {
    "code_folding": []
   },
   "outputs": [],
   "source": [
    "snap_id = 126\n",
    "sim_ids = [\"V1_MR_fix\", \"V1_MR_curvaton_p082_fix\"]\n",
    "names = [\"LCDM\", \"p082\"]\n",
    "\n",
    "# Define M31 and MW in each simulation:\n",
    "m31 = [(1,0), (1,0)]\n",
    "mw = [(2,0), (1,1)]\n",
    "\n",
    "data = {}\n",
    "for name, sim_id, m31_ns, mw_ns in zip(names, sim_ids, m31, mw):\n",
    "    data[name] = {\"snapshot\": snapshot_obj.Snapshot(sim_id, snap_id, name=name),\n",
    "                  \"M31_identifier\": m31_ns,\n",
    "                  \"MW_identifier\": mw_ns}"
   ]
  },
  {
   "cell_type": "code",
   "execution_count": null,
   "metadata": {
    "code_folding": []
   },
   "outputs": [],
   "source": [
    "snap_id = 127\n",
    "sim_ids = [\"V1_LR_fix\", \"V1_LR_curvaton_p082_fix\"]\n",
    "names = [\"LCDM\", \"p082\"]\n",
    "\n",
    "# Define M31 and MW in each simulation:\n",
    "m31 = [(1,0), (1,0)]\n",
    "mw = [(2,0), (1,1)]\n",
    "\n",
    "data = {}\n",
    "for name, sim_id, m31_ns, mw_ns in zip(names, sim_ids, m31, mw):\n",
    "    data[name] = {\"snapshot\": snapshot_obj.Snapshot(sim_id, snap_id, name=name),\n",
    "                  \"M31_identifier\": m31_ns,\n",
    "                  \"MW_identifier\": mw_ns}"
   ]
  },
  {
   "cell_type": "markdown",
   "metadata": {},
   "source": [
    "Choose how to distinguish between satellite and isolated galaxies:"
   ]
  },
  {
   "cell_type": "code",
   "execution_count": null,
   "metadata": {},
   "outputs": [],
   "source": [
    "distinction = \"by_gn\"\n",
    "low = (15,25)\n",
    "semilow = (25,35)\n",
    "semihigh = (35,45)\n",
    "high = (45,55)"
   ]
  },
  {
   "cell_type": "markdown",
   "metadata": {},
   "source": [
    "Read datasets, split into satellites and isolated galaxies, and add to the data dictionary. We also disregard dark halos and potential spurious halos with $v_\\mathrm{max} = 0$."
   ]
  },
  {
   "cell_type": "code",
   "execution_count": null,
   "metadata": {
    "code_folding": []
   },
   "outputs": [],
   "source": [
    "for name, sim_data in data.items():\n",
    "    # Get data:\n",
    "    snap = sim_data[\"snapshot\"]\n",
    "    rot_curves = snap.get_subhalos(\n",
    "        'Vcirc', group='Extended/RotationCurve/All')\n",
    "    sub_offset = snap.get_subhalos(\n",
    "        'SubOffset', group='Extended/RotationCurve/All')\n",
    "    v_circ = rot_curves[:,0] * units.cm.to(units.km)\n",
    "    radii = rot_curves[:,1] * units.cm.to(units.kpc)\n",
    "    v_circ = np.array(np.split(v_circ, sub_offset[1:]))\n",
    "    radii = np.array(np.split(radii, sub_offset[1:]))\n",
    "    \n",
    "    # Split into satellites:\n",
    "    if distinction == \"by_r\":\n",
    "        masks_sat, mask_isol = dataset_compute.split_satellites_by_distance(\n",
    "            snap, sim_data[\"M31_identifier\"], sim_data[\"MW_identifier\"])\n",
    "    elif distinction == \"by_gn\":\n",
    "        masks_sat, mask_isol = dataset_compute.split_satellites_by_group_number(\n",
    "            snap, sim_data[\"M31_identifier\"], sim_data[\"MW_identifier\"])\n",
    "        \n",
    "    mask_lum, mask_dark = dataset_compute.split_luminous(snap)\n",
    "    mask_low_vmax = dataset_compute.prune_vmax(snap, low_lim=low[0],\n",
    "                                               up_lim=low[1])\n",
    "    mask_semilow_vmax = dataset_compute.prune_vmax(snap, low_lim=semilow[0],\n",
    "                                               up_lim=semilow[1])\n",
    "    mask_semihigh_vmax = dataset_compute.prune_vmax(snap, low_lim=semihigh[0],\n",
    "                                               up_lim=semihigh[1])\n",
    "    mask_high_vmax = dataset_compute.prune_vmax(snap, low_lim=high[0],\n",
    "                                               up_lim=high[1])\n",
    "\n",
    "    vmax_masks = [mask_low_vmax, mask_semilow_vmax, \n",
    "                  mask_semihigh_vmax, mask_high_vmax]\n",
    "    vmax_keys = [\"Low\", \"SemiLow\", \"SemiHigh\", \"High\"]\n",
    "    # Add to dictionary:\n",
    "    for dataset_name, dataset in zip([\"VCirc\", \"Radius\"],[v_circ, radii]):\n",
    "        data[name][dataset_name] = \\\n",
    "        {\"satellites\":\n",
    "         {key: dataset[np.logical_and.reduce(\n",
    "             [np.logical_or.reduce(masks_sat), mask_lum, mask]\n",
    "          )] for key, mask in zip(vmax_keys, vmax_masks)},\n",
    "         \"isolated\": \n",
    "         {key: dataset[np.logical_and.reduce(\n",
    "             [mask_isol, mask_lum, mask]\n",
    "          )] for key, mask in zip(vmax_keys, vmax_masks)}\n",
    "        }"
   ]
  },
  {
   "cell_type": "markdown",
   "metadata": {},
   "source": [
    "## Plot"
   ]
  },
  {
   "cell_type": "code",
   "execution_count": null,
   "metadata": {},
   "outputs": [],
   "source": [
    "# Set some parameters:\n",
    "x_down = 10; x_up = 100\n",
    "y_down = 5*10**5; y_up = 2*10**10\n",
    "\n",
    "# Set marker styles:\n",
    "fcolor = [\"black\", \"red\", \"blue\", \"green\"]\n",
    "mcolor = [\"gray\", \"pink\", \"lightblue\", \"lightgreen\"]\n",
    "marker = ['+', \"o\", \"^\", 1]"
   ]
  },
  {
   "cell_type": "code",
   "execution_count": null,
   "metadata": {},
   "outputs": [],
   "source": [
    "# Construct saving location:\n",
    "filename = 'SM_vs_Vmax_{}'.format(distinction)\n",
    "for name in names:\n",
    "    filename += \"_{}\".format(name)\n",
    "filename += \".png\"\n",
    "    \n",
    "home = os.path.dirname(snapshot_obj.__file__)\n",
    "path = os.path.join(home,\"Figures\")\n",
    "filename = os.path.join(path, filename)"
   ]
  },
  {
   "cell_type": "code",
   "execution_count": null,
   "metadata": {},
   "outputs": [],
   "source": [
    "fig, axes = plt.subplots(nrows=2, ncols=2, figsize=(14,14))\n",
    "# plt.subplots_adjust(wspace=0.3)\n",
    "\n",
    "# Set axis:\n",
    "axes[0,0].set_xlim(0,10)\n",
    "axes[0,1].set_xlim(0,10)\n",
    "axes[1,0].set_xlim(0,20)\n",
    "axes[1,1].set_xlim(0,20)\n",
    "\n",
    "axes[0,0].text(0.6, 0.1, \n",
    "               \"${} \\mathrm{{km/s}} < v_\\mathrm{{max}} < {} \\mathrm{{km/s}}$\".format(\n",
    "               low[0], low[1]), \n",
    "               transform=axes[0,0].transAxes)\n",
    "axes[0,1].text(0.6, 0.1, \n",
    "               \"${} \\mathrm{{km/s}} < v_\\mathrm{{max}} < {} \\mathrm{{km/s}}$\".format(\n",
    "               semilow[0], semilow[1]), \n",
    "               transform=axes[0,1].transAxes)\n",
    "axes[1,0].text(0.6, 0.1, \n",
    "               \"${} \\mathrm{{km/s}} < v_\\mathrm{{max}} < {} \\mathrm{{km/s}}$\".format(\n",
    "               semihigh[0], semihigh[1]), \n",
    "               transform=axes[1,0].transAxes)\n",
    "axes[1,1].text(0.6, 0.1, \n",
    "               \"${} \\mathrm{{km/s}} < v_\\mathrm{{max}} < {} \\mathrm{{km/s}}$\".format(\n",
    "               high[0], high[1]), \n",
    "               transform=axes[1,1].transAxes)\n",
    "\n",
    "# fig.set_title('Satellite galaxies')\n",
    "\n",
    "# Add scatter plots:\n",
    "for i, (name, entry) in enumerate(data.items()):\n",
    "    v_circ = entry['VCirc']['satellites']['Low']\n",
    "    radius = entry['Radius']['satellites']['Low']\n",
    "    for v, r in zip(v_circ, radius):\n",
    "        axes[0,0].plot(r, v, c=mcolor[i])\n",
    "    \n",
    "    v_circ = entry['VCirc']['satellites']['SemiLow']\n",
    "    radius = entry['Radius']['satellites']['SemiLow']\n",
    "    for v, r in zip(v_circ, radius):\n",
    "        axes[0,1].plot(r, v, c=mcolor[i])\n",
    "        \n",
    "        \n",
    "    v_circ = entry['VCirc']['satellites']['SemiHigh']\n",
    "    radius = entry['Radius']['satellites']['SemiHigh']\n",
    "    for v, r in zip(v_circ, radius):\n",
    "        axes[1,0].plot(r, v, c=mcolor[i])\n",
    "        \n",
    "    v_circ = entry['VCirc']['satellites']['High']\n",
    "    radius = entry['Radius']['satellites']['High']\n",
    "    for v, r in zip(v_circ, radius):\n",
    "        axes[1,1].plot(r, v, c=mcolor[i])\n",
    "        \n",
    "# axes[0].legend(loc='lower right')\n",
    "plt.tight_layout()\n",
    "\n",
    "# plt.savefig(filename, dpi=200)"
   ]
  },
  {
   "cell_type": "code",
   "execution_count": null,
   "metadata": {},
   "outputs": [],
   "source": [
    "fig, axes = plt.subplots(nrows=2, ncols=2, figsize=(14,14))\n",
    "# plt.subplots_adjust(wspace=0.3)\n",
    "\n",
    "# Set axis:\n",
    "axes[0,0].set_xlim(0,10)\n",
    "axes[0,1].set_xlim(0,10)\n",
    "axes[1,0].set_xlim(0,20)\n",
    "axes[1,1].set_xlim(0,20)\n",
    "\n",
    "\n",
    "axes[0,0].text(0.6, 0.1, \n",
    "               \"${} \\mathrm{{km/s}} < v_\\mathrm{{max}} < {} \\mathrm{{km/s}}$\".format(\n",
    "               low[0], low[1]), \n",
    "               transform=axes[0,0].transAxes)\n",
    "axes[0,1].text(0.6, 0.1, \n",
    "               \"${} \\mathrm{{km/s}} < v_\\mathrm{{max}} < {} \\mathrm{{km/s}}$\".format(\n",
    "               semilow[0], semilow[1]), \n",
    "               transform=axes[0,1].transAxes)\n",
    "axes[1,0].text(0.6, 0.1, \n",
    "               \"${} \\mathrm{{km/s}} < v_\\mathrm{{max}} < {} \\mathrm{{km/s}}$\".format(\n",
    "               semihigh[0], semihigh[1]), \n",
    "               transform=axes[1,0].transAxes)\n",
    "axes[1,1].text(0.6, 0.1, \n",
    "               \"${} \\mathrm{{km/s}} < v_\\mathrm{{max}} < {} \\mathrm{{km/s}}$\".format(\n",
    "               high[0], high[1]), \n",
    "               transform=axes[1,1].transAxes)\n",
    "\n",
    "# fig.set_title('Satellite galaxies')\n",
    "\n",
    "# Add scatter plots:\n",
    "for i, (name, entry) in enumerate(data.items()):\n",
    "    v_circ = entry['VCirc']['isolated']['Low']\n",
    "    radius = entry['Radius']['isolated']['Low']\n",
    "    for v, r in zip(v_circ, radius):\n",
    "        axes[0,0].plot(r, v, c=mcolor[i])\n",
    "    \n",
    "    v_circ = entry['VCirc']['isolated']['SemiLow']\n",
    "    radius = entry['Radius']['isolated']['SemiLow']\n",
    "    for v, r in zip(v_circ, radius):\n",
    "        axes[0,1].plot(r, v, c=mcolor[i])\n",
    "        \n",
    "        \n",
    "    v_circ = entry['VCirc']['isolated']['SemiHigh']\n",
    "    radius = entry['Radius']['isolated']['SemiHigh']\n",
    "    for v, r in zip(v_circ, radius):\n",
    "        axes[1,0].plot(r, v, c=mcolor[i])\n",
    "        \n",
    "    v_circ = entry['VCirc']['isolated']['High']\n",
    "    radius = entry['Radius']['isolated']['High']\n",
    "    for v, r in zip(v_circ, radius):\n",
    "        axes[1,1].plot(r, v, c=mcolor[i])\n",
    "        \n",
    "# axes[0].legend(loc='lower right')\n",
    "plt.tight_layout()\n",
    "\n",
    "# plt.savefig(filename, dpi=200)"
   ]
  },
  {
   "cell_type": "code",
   "execution_count": null,
   "metadata": {},
   "outputs": [],
   "source": []
  }
 ],
 "metadata": {
  "kernelspec": {
   "display_name": "Python 3",
   "language": "python",
   "name": "python3"
  },
  "language_info": {
   "codemirror_mode": {
    "name": "ipython",
    "version": 3
   },
   "file_extension": ".py",
   "mimetype": "text/x-python",
   "name": "python",
   "nbconvert_exporter": "python",
   "pygments_lexer": "ipython3"
  }
 },
 "nbformat": 4,
 "nbformat_minor": 4
}
