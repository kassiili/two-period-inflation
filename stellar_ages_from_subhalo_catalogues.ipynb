{
 "cells": [
  {
   "cell_type": "code",
   "execution_count": null,
   "metadata": {},
   "outputs": [],
   "source": [
    "%load_ext autoreload\n",
    "%autoreload 2\n",
    "\n",
    "%config IPCompleter.greedy=True"
   ]
  },
  {
   "cell_type": "code",
   "execution_count": null,
   "metadata": {},
   "outputs": [],
   "source": [
    "import matplotlib.pyplot as plt\n",
    "import numpy as np\n",
    "import h5py\n",
    "from astropy import units\n",
    "from pathlib import Path\n",
    "import os\n",
    "import time\n",
    "\n",
    "import snapshot_obj\n",
    "import dataset_compute\n",
    "import curve_fit\n",
    "\n",
    "import importlib"
   ]
  },
  {
   "cell_type": "code",
   "execution_count": null,
   "metadata": {},
   "outputs": [],
   "source": [
    "importlib.reload(snapshot_obj)\n",
    "importlib.reload(dataset_compute)\n",
    "importlib.reload(curve_fit)"
   ]
  },
  {
   "cell_type": "markdown",
   "metadata": {},
   "source": [
    "# Subhalo stellar ages"
   ]
  },
  {
   "cell_type": "markdown",
   "metadata": {},
   "source": [
    "## Construct data dictionary\n",
    "\n",
    "Add entries for each simulation, and specify M31 and MW galaxies:"
   ]
  },
  {
   "cell_type": "code",
   "execution_count": null,
   "metadata": {
    "code_folding": []
   },
   "outputs": [],
   "source": [
    "snap_id = 127\n",
    "sim_ids = [\"V1_LR_fix\", \"V1_LR_curvaton_p082_fix\", \"V1_LR_curvaton_p084_fix\"]\n",
    "names = [\"LCDM\", \"p082\", \"p084\"]\n",
    "paths = [\"\", \"/media/kassiili/USBFREE/LG_simulations\", \n",
    "        \"/media/kassiili/USBFREE/LG_simulations\"]\n",
    "#paths = [\"\", \"\", \"\"]"
   ]
  },
  {
   "cell_type": "code",
   "execution_count": null,
   "metadata": {
    "code_folding": []
   },
   "outputs": [],
   "source": [
    "# Define M31 and MW in each simulation:\n",
    "m31 = [(1,0), (1,0), (1,0)]\n",
    "mw = [(2,0), (1,1), (1,1)]"
   ]
  },
  {
   "cell_type": "code",
   "execution_count": null,
   "metadata": {
    "code_folding": []
   },
   "outputs": [],
   "source": [
    "snap_id = 126\n",
    "sim_ids = [\"V1_MR_fix\", \"V1_MR_curvaton_p082_fix\"]\n",
    "names = [\"LCDM\", \"p082\"]\n",
    "paths = [\"\", \"\"]\n",
    "\n",
    "# Define M31 and MW in each simulation:\n",
    "m31 = [(1,0), (1,0)]\n",
    "mw = [(2,0), (1,1)]"
   ]
  },
  {
   "cell_type": "code",
   "execution_count": null,
   "metadata": {
    "code_folding": []
   },
   "outputs": [],
   "source": [
    "data = {}\n",
    "for name, sim_id, sim_path, m31_ns, mw_ns in zip(names, sim_ids, paths, m31, mw):\n",
    "    data[name] = {\"snapshot\": snapshot_obj.Snapshot(sim_id, snap_id, name=name,\n",
    "                                                    sim_path=sim_path),\n",
    "                  \"M31_identifier\": m31_ns,\n",
    "                  \"MW_identifier\": mw_ns}"
   ]
  },
  {
   "cell_type": "markdown",
   "metadata": {},
   "source": [
    "Choose how to distinguish between satellite and isolated galaxies:"
   ]
  },
  {
   "cell_type": "code",
   "execution_count": null,
   "metadata": {},
   "outputs": [],
   "source": [
    "distinction = \"by_gn\""
   ]
  },
  {
   "cell_type": "code",
   "execution_count": null,
   "metadata": {},
   "outputs": [],
   "source": [
    "for name, sim_data in data.items():\n",
    "    snap = sim_data[\"snapshot\"]\n",
    "    sf_times = snap.get_subhalos(\"InitialMassWeightedBirthZ\")\n",
    "           \n",
    "    # Split into satellites:\n",
    "    if distinction == \"by_r\":\n",
    "        masks_sat, mask_isol = dataset_compute.split_satellites_by_distance(\n",
    "            snap, sim_data[\"M31_identifier\"], sim_data[\"MW_identifier\"])\n",
    "    elif distinction == \"by_gn\":\n",
    "        masks_sat, mask_isol = dataset_compute.split_satellites_by_group_number(\n",
    "            snap, sim_data[\"M31_identifier\"], sim_data[\"MW_identifier\"])\n",
    "        \n",
    "    print(name, np.sum(np.logical_or.reduce(masks_sat)))\n",
    "    mask_lum, mask_dark = dataset_compute.split_luminous(snap)\n",
    "    mask_nonzero_vmax = dataset_compute.prune_vmax(snap)\n",
    "    \n",
    "    # Add separate datasets for each subhalo to the data dictionary:\n",
    "    data[name] = \\\n",
    "    {\"StellarFormationTime\": \\\n",
    "     {\"satellites\": sf_times[np.logical_and.reduce(\n",
    "        [np.logical_or.reduce(masks_sat), mask_lum, mask_nonzero_vmax]\n",
    "    )],\n",
    "      \"isolated\": sf_times[np.logical_and.reduce(\n",
    "          [mask_isol, mask_lum, mask_nonzero_vmax]\n",
    "      )]\n",
    "     }\n",
    "    }\n"
   ]
  },
  {
   "cell_type": "markdown",
   "metadata": {},
   "source": [
    "## Plot"
   ]
  },
  {
   "cell_type": "code",
   "execution_count": null,
   "metadata": {},
   "outputs": [],
   "source": [
    "cols = [\"grey\", \"pink\", \"lightblue\"]\n",
    "cols = [\"grey\", \"pink\"]"
   ]
  },
  {
   "cell_type": "code",
   "execution_count": null,
   "metadata": {},
   "outputs": [],
   "source": [
    "# Construct saving location:\n",
    "filename = 'star_formation_z_{}'.format(distinction)\n",
    "for name in names:\n",
    "    filename += \"_{}\".format(name)\n",
    "filename += \".png\"\n",
    "    \n",
    "home = os.path.dirname(snapshot_obj.__file__)\n",
    "path = os.path.join(home,\"Figures\", \"MediumResolution\")\n",
    "filename = os.path.join(path, filename)"
   ]
  },
  {
   "cell_type": "code",
   "execution_count": null,
   "metadata": {},
   "outputs": [],
   "source": [
    "fig, axes = plt.subplots(ncols=2, figsize=(14,6))\n",
    "plt.subplots_adjust(wspace=0.3)\n",
    "\n",
    "fig.suptitle(\"Mean initial mass weighted star birth redshifts\")\n",
    "\n",
    "# Set axis:\n",
    "for ax in axes:  \n",
    "    ax.set_xlabel('$z$', fontsize=16)\n",
    "    ax.set_ylabel('fraction', fontsize=16)\n",
    "\n",
    "axes[0].set_title('Satellite galaxies')\n",
    "axes[1].set_title('Isolated galaxies')\n",
    "\n",
    "axes[0].invert_xaxis()\n",
    "axes[1].invert_xaxis()\n",
    "\n",
    "# Make satellite histograms and plot:\n",
    "sf_times = []\n",
    "weights = []\n",
    "n_bins = 7\n",
    "for i, (name, sim_data) in enumerate(data.items()):\n",
    "    sf_times.append(sim_data[\"StellarFormationTime\"][\"satellites\"])\n",
    "    n_subhalos = sf_times[i].size\n",
    "    print(name, n_subhalos)\n",
    "    weights.append(np.ones(n_subhalos)/n_subhalos)\n",
    "\n",
    "bins = np.linspace(0, 1, 20)\n",
    "labels = [\"{} ({})\".format(name, n) for name, n in \n",
    "          zip(data.keys(), [arr.size for arr in sf_times])]\n",
    "_ = axes[0].hist(sf_times, n_bins, weights=weights, color=cols, \n",
    "                 label=labels)\n",
    "\n",
    "# Make isolated galaxy histograms and plot:\n",
    "sf_times = []\n",
    "weights = []\n",
    "for i, (name, sim_data) in enumerate(data.items()):\n",
    "    sf_times.append(sim_data[\"StellarFormationTime\"][\"isolated\"])\n",
    "    n_subhalos = sf_times[i].size\n",
    "    print(name, n_subhalos)\n",
    "    weights.append(np.ones(n_subhalos)/n_subhalos)\n",
    "\n",
    "    \n",
    "labels = [\"({})\".format(n) for n in \n",
    "          [arr.size for arr in sf_times]]\n",
    "bins = np.linspace(0, 1, 20)\n",
    "_ = axes[1].hist(sf_times, n_bins, weights=weights, color=cols, \n",
    "                label=labels)\n",
    "\n",
    "axes[0].legend(loc=\"upper left\")\n",
    "axes[1].legend(loc=\"upper left\")\n",
    "\n",
    "plt.savefig(filename, dpi=200)"
   ]
  },
  {
   "cell_type": "code",
   "execution_count": null,
   "metadata": {},
   "outputs": [],
   "source": []
  }
 ],
 "metadata": {
  "kernelspec": {
   "display_name": "Python 3",
   "language": "python",
   "name": "python3"
  },
  "language_info": {
   "codemirror_mode": {
    "name": "ipython",
    "version": 3
   },
   "file_extension": ".py",
   "mimetype": "text/x-python",
   "name": "python",
   "nbconvert_exporter": "python",
   "pygments_lexer": "ipython3"
  }
 },
 "nbformat": 4,
 "nbformat_minor": 4
}
