{
 "cells": [
  {
   "cell_type": "markdown",
   "id": "8df68695-f54c-4dd4-8213-c3be282f4215",
   "metadata": {
    "tags": []
   },
   "source": [
    "## First, imports:"
   ]
  },
  {
   "cell_type": "code",
   "execution_count": null,
   "id": "7ad8900e-3d8c-4ab2-8817-2c8e8f02c959",
   "metadata": {},
   "outputs": [],
   "source": [
    "%load_ext autoreload\n",
    "%autoreload 2\n",
    "\n",
    "%config IPCompleter.greedy=True"
   ]
  },
  {
   "cell_type": "code",
   "execution_count": null,
   "id": "d40a419d-459e-4756-8d65-5dd3c3295e6f",
   "metadata": {},
   "outputs": [],
   "source": [
    "import numpy as np\n",
    "import matplotlib.pyplot as plt\n",
    "from scipy.interpolate import interp1d\n",
    "\n",
    "from astropy import units\n",
    "from astropy.cosmology import FlatLambdaCDM, z_at_value"
   ]
  },
  {
   "cell_type": "markdown",
   "id": "af37d3c1-efac-48ca-9e07-57e7bd83dd42",
   "metadata": {},
   "source": [
    "Import my library:"
   ]
  },
  {
   "cell_type": "code",
   "execution_count": null,
   "id": "e1c4d546-2985-479d-9322-8ee3f10de82a",
   "metadata": {},
   "outputs": [],
   "source": [
    "import os\n",
    "import sys\n",
    "\n",
    "apt_path = os.path.abspath(os.path.join('..', 'apostletools'))\n",
    "sys.path.append(apt_path)\n",
    "\n",
    "import simulation\n",
    "import simtrace\n",
    "import match_halo\n",
    "import dataset_comp"
   ]
  },
  {
   "cell_type": "code",
   "execution_count": null,
   "id": "b44e40d8-d664-4c04-9e15-46fdc0e4a7a9",
   "metadata": {},
   "outputs": [],
   "source": [
    "import importlib\n",
    "importlib.reload(simulation)\n",
    "importlib.reload(simtrace)\n",
    "importlib.reload(match_halo)\n",
    "importlib.reload(dataset_comp)"
   ]
  },
  {
   "cell_type": "code",
   "execution_count": null,
   "id": "1a8e108e-f115-4bf1-9337-cc61f34d619f",
   "metadata": {},
   "outputs": [],
   "source": [
    "snap_id_ref = 127\n",
    "snap_id_z0 = 127"
   ]
  },
  {
   "cell_type": "markdown",
   "id": "807ff1dd-fa4b-4279-ae3e-b6ab332c5311",
   "metadata": {},
   "source": [
    "---\n",
    "\n",
    "### MR Simulations\n",
    "\n",
    "Set the envelope file path, and define the M31 and the MW at redshift $z=0$:"
   ]
  },
  {
   "cell_type": "code",
   "execution_count": null,
   "id": "7f5b777f-7444-4043-b87e-5e11baded67a",
   "metadata": {},
   "outputs": [],
   "source": [
    "env_path = os.path.abspath(os.path.join('..', 'test_tracing_inj'))\n",
    "\n",
    "data = {\n",
    "    \"plain-LCDM\": {\n",
    "        \"Simulation\": simulation.Simulation(\"V1_MR_fix\", env_path=env_path),\n",
    "        \"Color\": ['black', 'gray'],\n",
    "        \"M31_z0\": (1, 0),\n",
    "        \"MW_z0\": (2, 0)\n",
    "    },\n",
    "    \"curv-p082\": {\n",
    "        \"Simulation\": simulation.Simulation(\"V1_MR_curvaton_p082_fix\", env_path=env_path),\n",
    "        \"Color\": ['red', 'pink'],\n",
    "        \"M31_z0\": (1, 0),\n",
    "        \"MW_z0\": (1, 1)\n",
    "    }\n",
    "}"
   ]
  },
  {
   "cell_type": "markdown",
   "id": "d605a551-52ac-4c3c-ab03-ce961ebff0a6",
   "metadata": {
    "tags": []
   },
   "source": [
    "---\n",
    "\n",
    "### LR Simulations\n",
    "\n",
    "Set the envelope file path, and define the M31 and the MW at redshift $z=0$:"
   ]
  },
  {
   "cell_type": "code",
   "execution_count": null,
   "id": "4e426199-b087-472e-bf79-da6cca541079",
   "metadata": {},
   "outputs": [],
   "source": [
    "env_path = os.path.abspath(os.path.join('..', 'test_tracing_inj'))\n",
    "\n",
    "data = {\n",
    "    \"plain-LCDM-LR\": {\n",
    "        \"Simulation\": simulation.Simulation(\"V1_LR_fix\", env_path=env_path),\n",
    "        \"Color\": ['black', 'gray'],\n",
    "        \"M31_z0\": (1, 0),\n",
    "        \"MW_z0\": (2, 0)\n",
    "    },\n",
    "    \"curv-p082-LR\": {\n",
    "        \"Simulation\": simulation.Simulation(\"V1_LR_curvaton_p082_fix\", env_path=env_path),\n",
    "        \"Color\": ['red', 'pink'],\n",
    "        \"M31_z0\": (1, 0),\n",
    "        \"MW_z0\": (1, 1)\n",
    "    },\n",
    "    \"curv-p084-LR\": {\n",
    "        \"Simulation\": simulation.Simulation(\"V1_LR_curvaton_p084_fix\", env_path=env_path),\n",
    "        \"Color\": ['blue', 'lightblue'],\n",
    "        \"M31_z0\": (1, 0),\n",
    "        \"MW_z0\": (1, 0)\n",
    "    }\n",
    "}"
   ]
  },
  {
   "cell_type": "code",
   "execution_count": null,
   "id": "c1fbcb02-e8aa-4fe2-a9fb-a3334923f15e",
   "metadata": {},
   "outputs": [],
   "source": [
    "env_path = os.path.abspath(os.path.join('..', 'test_tracing_inj'))\n",
    "\n",
    "data = {\n",
    "    \"plain-LCDM-LR\": {\n",
    "        \"Simulation\": simulation.Simulation(\"V1_LR_fix\", env_path=env_path),\n",
    "        \"Color\": ['black', 'gray'],\n",
    "        \"M31_z0\": (1, 0),\n",
    "        \"MW_z0\": (2, 0)\n",
    "    }\n",
    "}"
   ]
  },
  {
   "cell_type": "markdown",
   "id": "f0c2ac16-c999-49df-9d97-8c31c6525cb6",
   "metadata": {
    "tags": []
   },
   "source": [
    "---\n",
    "\n",
    "## Tracing\n",
    "\n",
    "Set the range of snapshots to be traced:"
   ]
  },
  {
   "cell_type": "code",
   "execution_count": null,
   "id": "ef024c10-565b-4e68-a29f-47ef9425d5dd",
   "metadata": {},
   "outputs": [],
   "source": [
    "snap_start = 100\n",
    "snap_stop = 128\n",
    "snap_ids = np.arange(snap_start, snap_stop)"
   ]
  },
  {
   "cell_type": "markdown",
   "id": "cb3c3b30-1fb8-4732-8d89-479fb35902a3",
   "metadata": {},
   "source": [
    "Link all subhalos in the simulation, create Subhalo objects for all the individual subhalos found, and write pointers to these objects for each snapshot:"
   ]
  },
  {
   "cell_type": "code",
   "execution_count": null,
   "id": "35f56536-7231-4686-9f54-8489882f96c7",
   "metadata": {},
   "outputs": [],
   "source": [
    "def test_sf_onset1(sf_onset, sm):\n",
    "    \"\"\" Check that, at each snapshot, subhalos with onset time in the past \n",
    "    have nonzero stellar mass. \"\"\"\n",
    "    \n",
    "    for sid in sf_onset.keys():\n",
    "        mask_seton = ~np.isnan(sf_onset[sid])\n",
    "        mask_lum = (sm[sid] > 0)\n",
    "        if not np.all(mask_seton == mask_lum):\n",
    "            return False\n",
    "    \n",
    "    return True\n",
    "\n",
    "def test_sf_onset2(sf_onset, sm, subhalo_dict, test_snap_id):\n",
    "    mask = ~np.isnan(sf_onset[test_snap_id])\n",
    "    sm_test = np.full((np.sum(mask), 2), 0)\n",
    "    \n",
    "    # Iterate over subhalos, in test_snap_id, which have stars,\n",
    "    # and their SF onset times:\n",
    "    for i, (onset_snap_id, sub) in enumerate(zip(sf_onset[test_snap_id][mask],\n",
    "                                                 subhalo_dict[test_snap_id][mask])):\n",
    "        \n",
    "        # If onset_snap_id is not the formation snapshot of the subhalo, get stellar mass \n",
    "        # in onset_snap_id and the preceding snapshot:\n",
    "        if onset_snap_id > sub.index_at_formation()[1]:\n",
    "            sm_test[i] = [\n",
    "                sm[onset_snap_id - 1][sub.get_index_at_snap(onset_snap_id - 1)],\n",
    "                sm[onset_snap_id][sub.get_index_at_snap(onset_snap_id)]\n",
    "            ]\n",
    "        # Else, set stellar mass in previous snapshot as 0:\n",
    "        else:\n",
    "            sm_test[i] = [0, sm[onset_snap_id][sub.get_index_at_snap(onset_snap_id)]]\n",
    "    \n",
    "    # Check that, at onset time, stellar mass is non-zero:\n",
    "    if not np.all(sm_test[:,1] > 0):\n",
    "        return False\n",
    "    \n",
    "    # Check that, just before onset time, stellar mass is zero:\n",
    "    if not np.all(sm_test[:,0] == 0):\n",
    "        return False\n",
    "    \n",
    "    return True"
   ]
  },
  {
   "cell_type": "code",
   "execution_count": null,
   "id": "dadb6b2b-2c17-4b48-a672-d8930780020d",
   "metadata": {},
   "outputs": [],
   "source": [
    "matcher = match_halo.SnapshotMatcher(n_link_ref=20, n_matches=1)\n",
    "\n",
    "for sim_data in data.values():\n",
    "    sim = sim_data[\"Simulation\"]\n",
    "\n",
    "    # If the simulations are not already linked:\n",
    "    mtree = simtrace.MergerTree(sim, matcher=matcher, branching=\"BackwardBranching\")\n",
    "    mtree.build_tree(snap_start, snap_stop)\n",
    "\n",
    "    # Trace subhalos and get the M31 and the MW Subhalo objects:\n",
    "    sub_dict = sim.trace_subhalos(snap_start, snap_stop)\n",
    "    sim_data[\"Subhalos\"] = sub_dict"
   ]
  },
  {
   "cell_type": "code",
   "execution_count": null,
   "id": "34b1ea89-ace7-45bb-826c-578f382d8be2",
   "metadata": {},
   "outputs": [],
   "source": [
    "# Define the cosmology (should be the same for each simulation):\n",
    "sim = list(data.values())[0][\"Simulation\"]\n",
    "H0 = sim.get_snapshot(snap_id_z0).get_attribute(\"HubbleParam\", \"Header\")\n",
    "Om0 = sim.get_snapshot(snap_id_z0).get_attribute(\"Omega0\", \"Header\")\n",
    "cosmo = FlatLambdaCDM(H0=100 * H0, Om0=Om0) "
   ]
  },
  {
   "cell_type": "code",
   "execution_count": null,
   "id": "d1e651e2-0773-4ada-93c1-c87be091a412",
   "metadata": {},
   "outputs": [],
   "source": [
    "for sim_data in data.values():\n",
    "    sim = sim_data[\"Simulation\"]\n",
    "    sub_dict = sim_data[\"Subhalos\"]\n",
    "\n",
    "    # Get snapshot redshifts and the respective lookback times:\n",
    "    redshift = sim.get_attribute(\"Redshift\", \"Header\", snap_ids)\n",
    "    lookback_time = cosmo.age(0).value - np.array([cosmo.age(z).value for z in redshift])\n",
    "    sim_data.update({\n",
    "        \"Redshift\": redshift,\n",
    "        \"LookbackTime\": lookback_time\n",
    "    })\n",
    "    \n",
    "    sm = {sid: m * units.g.to(units.Msun) for sid, m in\n",
    "          sim.get_subhalos(snap_ids, \"Stars/Mass\").items()}\n",
    "    sim_data[\"StellarMass\"] = sm\n",
    "    \n",
    "    # Get SF onset times:\n",
    "    onset_snaps = simtrace.sf_onset_times(sim, snap_start, snap_stop)\n",
    "    inds = {sid: np.where(np.isnan(ot), 0, np.searchsorted(snap_ids, ot))\n",
    "            for sid, ot, in onset_snaps.items()}\n",
    "    sim_data[\"SF_Onset_Time\"] = {\n",
    "        sid: np.where(np.isnan(onset_snaps[sid]), np.nan, lookback_time[idxl])\n",
    "        for sid, idxl in inds.items()\n",
    "    }\n",
    "\n",
    "    # Test onset times:\n",
    "    # print(test_sf_onset1(onset_snaps, sm))\n",
    "    # print(test_sf_onset2(onset_snaps, sm, sub_dict, 110))\n",
    "    \n",
    "    # Get formation times:\n",
    "    form_snaps = simtrace.creation_times(sub_dict)\n",
    "    inds = {sid: np.where(np.isnan(ft), 0, np.searchsorted(snap_ids, ft))\n",
    "            for sid, ft, in form_snaps.items()}\n",
    "    sim_data[\"Formation_Time\"] = {\n",
    "        sid: np.where(np.isnan(form_snaps[sid]), np.nan, lookback_time[idxl])\n",
    "        for sid, idxl in inds.items()\n",
    "    }\n",
    "    \n",
    "    # Get fall-in times, for satellites (assumes no intersection between m31 and MW satellites):\n",
    "    m31 = sub_dict[snap_id_z0][sim.get_snapshot(snap_id_z0).index_of_halo(\n",
    "        sim_data[\"M31_z0\"][0], sim_data[\"M31_z0\"][1]\n",
    "    )]\n",
    "    mw = sub_dict[snap_id_z0][sim.get_snapshot(snap_id_z0).index_of_halo(\n",
    "        sim_data[\"MW_z0\"][0], sim_data[\"MW_z0\"][1]\n",
    "    )]\n",
    "    \n",
    "    fallin_snaps_m31, fallin_snaps_mw = simtrace.get_fallin_times_lg(\n",
    "        sim, m31, mw, snap_start, snap_stop\n",
    "    )\n",
    "    fallin_snaps = {sid: np.where(~np.isnan(fsm31), fsm31, fsmw) for (sid, fsm31), fsmw \n",
    "                    in zip(fallin_snaps_m31.items(), fallin_snaps_mw.values())}\n",
    "    inds = {sid: np.where(np.isnan(fs), 0, np.searchsorted(snap_ids, fs))\n",
    "            for sid, fs in fallin_snaps.items()}\n",
    "    sim_data[\"Fallin_Time\"] = {\n",
    "        sid: np.where(np.isnan(fallin_snaps[sid]), np.nan, lookback_time[idxl])\n",
    "        for sid, idxl in inds.items()\n",
    "    }"
   ]
  },
  {
   "cell_type": "code",
   "execution_count": null,
   "id": "3ad7bc5d-c38b-4bd5-a9b4-93b1f370ab42",
   "metadata": {},
   "outputs": [],
   "source": [
    "sat_low_lim = 10\n",
    "isol_low_lim = 10\n",
    "vol_n = 3\n",
    "\n",
    "for sim_data in data.values():\n",
    "    sim = sim_data[\"Simulation\"]\n",
    "    sub_dict = sim_data[\"Subhalos\"]\n",
    "\n",
    "    # Masking arrays for subhalos at snap_ref:\n",
    "    snap_ref = sim.get_snapshot(snap_id_ref)\n",
    "    mask_lum, mask_dark = dataset_comp.split_luminous(snap_ref)\n",
    "    sim_data[\"Ref_Selections\"] = {\n",
    "        \"Vmax_Sat\": dataset_comp.prune_vmax(snap_ref, low_lim=sat_low_lim),\n",
    "        \"Vmax_Isol\": dataset_comp.prune_vmax(snap_ref, low_lim=isol_low_lim),\n",
    "        \"Luminous\": mask_lum,\n",
    "        \"Dark\": mask_dark,\n",
    "        \"NonVolatile\": np.array([z_arr.size > vol_n for z_arr in sim_data[\"Redshift\"]])\n",
    "    }\n",
    "\n",
    "    # Get masking arrays for satellites (at z=0):\n",
    "    m31_id_z0 = sim_data[\"M31_z0\"]\n",
    "    mw_id_z0 = sim_data[\"MW_z0\"]\n",
    "    m31 = sub_dict[snap_id_z0][\n",
    "    sim.get_snapshot(snap_id_z0).index_of_halo(m31_id_z0[0], m31_id_z0[1])\n",
    "    ]\n",
    "    mw = sub_dict[snap_id_z0][\n",
    "        sim.get_snapshot(snap_id_z0).index_of_halo(mw_id_z0[0], mw_id_z0[1])\n",
    "    ]\n",
    "    m31_id = m31.get_group_number_at_snap(snap_id_ref)\n",
    "    mw_id = mw.get_group_number_at_snap(snap_id_ref)\n",
    "    mask_m31, mask_mw, mask_isol = dataset_comp.split_satellites_by_distance(\n",
    "        sim.get_snapshot(snap_id_ref), m31_id, mw_id, sat_r=300\n",
    "    )\n",
    "\n",
    "    sim_data[\"Ref_Selections\"].update({\n",
    "        \"M31_Satellites\": mask_m31,\n",
    "        \"MW_Satellites\": mask_mw,\n",
    "        \"LG_Satellites\": np.logical_or(mask_m31, mask_mw),\n",
    "        \"Isolated\": mask_isol\n",
    "    })"
   ]
  },
  {
   "cell_type": "code",
   "execution_count": null,
   "id": "5bf8d9d2-48e7-4adf-a22e-9bafb7975bb8",
   "metadata": {},
   "outputs": [],
   "source": [
    "sim_data = list(data.values())[0]\n",
    "\n",
    "fig, ax = plt.subplots()\n",
    "\n",
    "ax.set_xscale('log')\n",
    "\n",
    "mask = np.logical_and(sim_data[\"Ref_Selections\"][\"LG_Satellites\"],\n",
    "                      sim_data[\"Ref_Selections\"][\"Luminous\"])\n",
    "print(np.sum(mask))\n",
    "ms = 8\n",
    "offset = 0.05\n",
    "ax.scatter(sim_data[\"StellarMass\"][snap_id_ref][mask], \n",
    "           sim_data[\"SF_Onset_Time\"][snap_id_ref][mask] + offset, \n",
    "           s=ms, label=\"SF Onset\")\n",
    "ax.scatter(sim_data[\"StellarMass\"][snap_id_ref][mask], \n",
    "           sim_data[\"Formation_Time\"][snap_id_ref][mask] - offset,\n",
    "           s=ms, label=\"Formation\")\n",
    "ax.scatter(sim_data[\"StellarMass\"][snap_id_ref][mask], \n",
    "           sim_data[\"Fallin_Time\"][snap_id_ref][mask],\n",
    "           s=ms, label=\"Fall-in\")\n",
    "\n",
    "ax.legend()"
   ]
  },
  {
   "cell_type": "code",
   "execution_count": null,
   "id": "a8450cfa-c2ea-45b7-89b3-83712a7f7a5b",
   "metadata": {},
   "outputs": [],
   "source": []
  }
 ],
 "metadata": {
  "kernelspec": {
   "display_name": "Python 3",
   "language": "python",
   "name": "python3"
  },
  "language_info": {
   "codemirror_mode": {
    "name": "ipython",
    "version": 3
   },
   "file_extension": ".py",
   "mimetype": "text/x-python",
   "name": "python",
   "nbconvert_exporter": "python",
   "pygments_lexer": "ipython3"
  }
 },
 "nbformat": 4,
 "nbformat_minor": 5
}
