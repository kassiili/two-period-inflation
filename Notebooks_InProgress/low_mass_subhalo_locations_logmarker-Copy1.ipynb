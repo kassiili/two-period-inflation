{
 "cells": [
  {
   "cell_type": "markdown",
   "metadata": {},
   "source": [
    "## First, imports:"
   ]
  },
  {
   "cell_type": "code",
   "execution_count": null,
   "metadata": {},
   "outputs": [],
   "source": [
    "%load_ext autoreload\n",
    "%autoreload 2\n",
    "\n",
    "%config IPCompleter.greedy=True"
   ]
  },
  {
   "cell_type": "code",
   "execution_count": null,
   "metadata": {},
   "outputs": [],
   "source": [
    "import numpy as np\n",
    "import matplotlib.pyplot as plt\n",
    "from astropy import units\n",
    "from astropy.constants import G\n",
    "import importlib"
   ]
  },
  {
   "cell_type": "code",
   "execution_count": null,
   "metadata": {},
   "outputs": [],
   "source": [
    "import os\n",
    "import sys\n",
    "\n",
    "apt_path = os.path.abspath(os.path.join('..', 'apostletools'))\n",
    "sys.path.append(apt_path)\n",
    "import dataset_comp\n",
    "import snapshot"
   ]
  },
  {
   "cell_type": "code",
   "execution_count": null,
   "metadata": {},
   "outputs": [],
   "source": [
    "importlib.reload(dataset_comp)\n",
    "importlib.reload(snapshot)"
   ]
  },
  {
   "cell_type": "markdown",
   "metadata": {},
   "source": [
    "# Spatial Distibution of Low-mass Subhalos\n",
    "\n",
    "## Motivation\n",
    "\n",
    "Here, I make a projection plot of the centres of potential of subhalos. I'm particularly looking at the low-mass halos and inspecting the beads-on-a-string structures that appear in the curv-p082 model. Many of these beads likely do not represent physical halos, since they are very low in mass, but are rather traces of the non-physical fragmentation of physical filamentary structures, due to numerical noise. \n",
    "\n",
    "Thus, we can use these figures to find a kind of upper mass limit for the subhalos that we trust to be non-numerical.\n",
    "\n",
    "---\n",
    "\n",
    "## Set Parameters for the Plots\n",
    "\n",
    "Choose the snapshot and the simulations, and define M31 and MW in each simulation. Also, set the colors used for each simulation:"
   ]
  },
  {
   "cell_type": "code",
   "execution_count": null,
   "metadata": {
    "code_folding": []
   },
   "outputs": [],
   "source": [
    "snap_id = 127\n",
    "sim_ids = ['V1_MR_fix', 'V1_MR_curvaton_p082_fix']\n",
    "names = ['plain-LCDM', 'spec-p082']\n",
    "\n",
    "m31 = [(1,0), (1,0)]\n",
    "mw = [(2,0), (1,1)]"
   ]
  },
  {
   "cell_type": "markdown",
   "metadata": {},
   "source": [
    "Choose how to distinguish between satellite and isolated galaxies:"
   ]
  },
  {
   "cell_type": "code",
   "execution_count": null,
   "metadata": {},
   "outputs": [],
   "source": [
    "distinction = 'by_r'\n",
    "maxdi = 2000 # Maximum distance from LG centre for isolated"
   ]
  },
  {
   "cell_type": "markdown",
   "metadata": {},
   "source": [
    "Set the low-mass threshold. Subhalos with masses above or below this limit are plotted on different subplots."
   ]
  },
  {
   "cell_type": "code",
   "execution_count": null,
   "metadata": {},
   "outputs": [],
   "source": [
    "lowm = 10"
   ]
  },
  {
   "cell_type": "markdown",
   "metadata": {},
   "source": [
    "---\n",
    "\n",
    "## Retrieve Data\n",
    "\n",
    "### Create a Dictionary\n",
    "\n",
    "For easy handling of the relevant data, define a data dictionary that, at the top level, has entries for all simulations. Under each simulation entry, add items for the needed datasets and, under the 'Selections' key, a sub-dictionary of masking arrays for each needed condition (e.g. satellite, luminous, $v_\\mathrm{max}$ inside range, etc.).\n",
    "\n",
    "First, add the above definitions into the data dict:"
   ]
  },
  {
   "cell_type": "code",
   "execution_count": null,
   "metadata": {
    "code_folding": []
   },
   "outputs": [],
   "source": [
    "data = {}\n",
    "for name, sim_id, m31_ns, mw_ns in zip(names, sim_ids, m31, mw):\n",
    "    data[name] = {'snapshot': snapshot.Snapshot(sim_id, snap_id, name=name),\n",
    "                  'M31_identifier': m31_ns,\n",
    "                  'MW_identifier': mw_ns}"
   ]
  },
  {
   "cell_type": "markdown",
   "metadata": {},
   "source": [
    "Then, loop over simulations, retrieve data, compute masking arrays, and add to the dictionary:"
   ]
  },
  {
   "cell_type": "code",
   "execution_count": null,
   "metadata": {
    "code_folding": []
   },
   "outputs": [],
   "source": [
    "for name, sim_data in data.items():\n",
    "    # Get data:\n",
    "    snap = sim_data['snapshot']\n",
    "    cops = snap.get_subhalos('CentreOfPotential') * units.cm.to(units.Mpc)\n",
    "    max_point = snap.get_subhalos(\"Max_Vcirc\", \"Extended\")\n",
    "    vmax = max_point[:,0] * units.cm.to(units.km)\n",
    "\n",
    "    # Split into satellites:    \n",
    "    m31 = sim_data['M31_identifier']\n",
    "    mw = sim_data['MW_identifier']\n",
    "    if distinction == 'by_r':\n",
    "        masks_sat, mask_isol = dataset_comp.split_satellites_by_distance(\n",
    "            snap, m31, mw)\n",
    "    elif distinction == 'by_gn':\n",
    "        masks_sat, mask_isol = dataset_comp.split_satellites_by_group_number(\n",
    "            snap, m31, mw)\n",
    "        \n",
    "    # Compute masking arrays:\n",
    "    mask_m31 = masks_sat[0]\n",
    "    mask_mw = masks_sat[1]\n",
    "    mask_subhalo = np.logical_and(np.arange(mask_m31.size) != snap.index_of_halo(m31[0], m31[1]),\n",
    "                                  np.arange(mask_m31.size) != snap.index_of_halo(mw[0], mw[1]))\n",
    "    mask_lum, mask_dark = dataset_comp.split_luminous(snap)\n",
    "    \n",
    "    # Mask low mass subhalos:\n",
    "    mask_lowm = vmax < lowm\n",
    "    \n",
    "    # Prune potential spurious:\n",
    "    mask_nonzero_vmax = dataset_comp.prune_vmax(snap)\n",
    "    mask_m31 = mask_m31[mask_nonzero_vmax]\n",
    "    mask_mw = mask_mw[mask_nonzero_vmax]\n",
    "    mask_lum = mask_lum[mask_nonzero_vmax]\n",
    "    mask_dark = mask_dark[mask_nonzero_vmax]\n",
    "    mask_subhalo = mask_subhalo[mask_nonzero_vmax]\n",
    "\n",
    "    # Add datasets to dictionary:\n",
    "    data[name]['LG_centre'] = dataset_comp.compute_LG_centre(snap, m31, mw) \\\n",
    "        * units.cm.to(units.Mpc)\n",
    "    m31_idx = snap.index_of_halo(m31[0], m31[1])\n",
    "    data[name]['M31'] = {'COP': cops[m31_idx], 'Vmax': vmax[m31_idx]}\n",
    "    mw_idx = snap.index_of_halo(mw[0], mw[1])\n",
    "    data[name]['MW'] = {'COP': cops[mw_idx], 'Vmax': vmax[mw_idx]}\n",
    "    data[name]['COP'] = cops\n",
    "    data[name]['Vmax'] = vmax\n",
    "    \n",
    "    # Add selections (masking arrays):\n",
    "    data[name]['Selections'] = {\n",
    "        'M31': mask_m31,\n",
    "        'MW': mask_mw,\n",
    "        'Isolated': mask_isol,\n",
    "        'Subhalos': mask_subhalo,\n",
    "        'Luminous': mask_lum,\n",
    "        'Dark': mask_dark,\n",
    "        'LowMass': mask_lowm\n",
    "    }"
   ]
  },
  {
   "cell_type": "markdown",
   "metadata": {},
   "source": [
    "---\n",
    "\n",
    "## Plot \n",
    "\n",
    "Plot subhalos with vmax < lowm in the upper row, and the more massive ones in the lower one. Plot two columns for both simulations.\n",
    "\n",
    "First, set figure parameters:"
   ]
  },
  {
   "cell_type": "code",
   "execution_count": null,
   "metadata": {},
   "outputs": [],
   "source": [
    "# Choose font sizes:\n",
    "parameters = {'axes.titlesize': 10,\n",
    "              'axes.labelsize': 9,\n",
    "              'xtick.labelsize': 6,\n",
    "              'ytick.labelsize': 6,\n",
    "              'legend.fontsize': 8}\n",
    "\n",
    "# Set marker size limits:\n",
    "slow = 0.2; smax = 3\n",
    "mlow = lowm; mmax = 0\n",
    "smin = 0.05\n",
    "\n",
    "# Iterate through simulations to find largest value of vmax:\n",
    "for sim_data in data.values():    \n",
    "    mmax = max(\n",
    "        mmax, np.max(sim_data['Vmax'][sim_data['Selections']['Subhalos']])\n",
    "    )\n",
    "    \n",
    "print(smin, slow, smax)\n",
    "print(mlow, mmax)    "
   ]
  },
  {
   "cell_type": "code",
   "execution_count": null,
   "metadata": {},
   "outputs": [],
   "source": [
    "def mass_to_marker(m):\n",
    "    b = np.exp(smax)\n",
    "    return c * np.log(a*m+b)\n",
    "\n",
    "# Select projection plane:\n",
    "x = 0; y = 1"
   ]
  },
  {
   "cell_type": "code",
   "execution_count": null,
   "metadata": {},
   "outputs": [],
   "source": [
    "test_x = np.arange(10,100, 0.05)\n",
    "test_y = mass_to_marker(test_x)\n",
    "plt.plot(test_x, test_y)"
   ]
  },
  {
   "cell_type": "code",
   "execution_count": null,
   "metadata": {},
   "outputs": [],
   "source": [
    "test_x = np.arange(3, 100, 1)\n",
    "test_y = mass_to_marker(test_x)\n",
    "plt.scatter(test_x, test_y, s=test_y)"
   ]
  },
  {
   "cell_type": "code",
   "execution_count": null,
   "metadata": {},
   "outputs": [],
   "source": [
    "# Set marker size limits:\n",
    "slow = 0.5; smax = 3\n",
    "mlow = lowm; mmax = 0\n",
    "\n",
    "# Iterate through simulations to find largest value of vmax:\n",
    "for sim_data in data.values():    \n",
    "    mmax = max(\n",
    "        mmax, np.max(sim_data['Vmax'][sim_data['Selections']['Subhalos']])\n",
    "    )\n",
    "    \n",
    "# def m_to_s(m):\n",
    "#     b = ((mmax/mlow)**2/3 * slow - smax) / ((mmax/mlow)**2/3 - 1)\n",
    "#     a = (smax - b) / mmax**(2/3)\n",
    "#     return a * m**(2/3) + b\n",
    "\n",
    "def m_to_s(m):\n",
    "    return slow/mlow**(2/3) * m**(2/3)"
   ]
  },
  {
   "cell_type": "code",
   "execution_count": null,
   "metadata": {},
   "outputs": [],
   "source": [
    "x = np.arange(3, 100, 1)\n",
    "y = m_to_s(x)\n",
    "plt.scatter(x, y, s=y)"
   ]
  },
  {
   "cell_type": "code",
   "execution_count": null,
   "metadata": {},
   "outputs": [],
   "source": [
    "def mass_to_marker(m):\n",
    "    return slow/mlow**(2/3) * m**(2/3)"
   ]
  },
  {
   "cell_type": "code",
   "execution_count": null,
   "metadata": {},
   "outputs": [],
   "source": [
    "def mass_to_marker(m):\n",
    "    b = ((mmax/mlow)**2/3 * slow - smax) / ((mmax/mlow)**2/3 - 1)\n",
    "    a = (smax - b) / mmax**(2/3)\n",
    "    return a * m**(2/3) + b"
   ]
  },
  {
   "cell_type": "code",
   "execution_count": null,
   "metadata": {},
   "outputs": [],
   "source": [
    "# Choose font sizes:\n",
    "parameters = {'axes.titlesize': 10,\n",
    "              'axes.labelsize': 9,\n",
    "              'xtick.labelsize': 6,\n",
    "              'ytick.labelsize': 6,\n",
    "              'legend.fontsize': 8}\n",
    "\n",
    "# Set marker size limits:\n",
    "slow = 0.1; smax = 1\n",
    "mlow = lowm; mmax = 0\n",
    "\n",
    "# Iterate through simulations to find largest value of vmax:\n",
    "for sim_data in data.values():    \n",
    "    mmax = max(\n",
    "        mmax, np.max(sim_data['Vmax'][sim_data['Selections']['Subhalos']])\n",
    "    )\n",
    "  \n",
    "def mass_to_marker(m):\n",
    "    return slow/mlow**(2/3) * m**(2/3)\n",
    "\n",
    "# def mass_to_marker(x):\n",
    "#     a = (smax - slow) / np.log(mmax/mlow)\n",
    "#     b = slow - a * np.log(mlow)\n",
    "#     return a * np.log(x) + b\n",
    "\n",
    "# Select projection plane:\n",
    "x = 0; y = 1"
   ]
  },
  {
   "cell_type": "code",
   "execution_count": null,
   "metadata": {},
   "outputs": [],
   "source": [
    "print(mlow, mmax)\n",
    "print(slow, smax)"
   ]
  },
  {
   "cell_type": "code",
   "execution_count": null,
   "metadata": {},
   "outputs": [],
   "source": [
    "# Set fonts:\n",
    "plt.rcParams.update(parameters)\n",
    "plt.tight_layout()\n",
    "\n",
    "fig, axes = plt.subplots(sharey='all', sharex='all', ncols=len(data), nrows=2,\n",
    "                         figsize=(4,4))\n",
    "# plt.subplots_adjust(wspace=0.05)\n",
    "# plt.subplots_adjust(hspace=0.05)\n",
    "\n",
    "# Set subfigure box side aspect ratio:\n",
    "for ax in axes.flatten():\n",
    "    ax.set_aspect(1)\n",
    "\n",
    "plt.subplots_adjust(wspace=0.05)\n",
    "plt.subplots_adjust(hspace=0.05)\n",
    "\n",
    "axes[0,0].set_ylabel('$y [\\mathrm{Mpc}]$')\n",
    "axes[1,0].set_xlabel('$x [\\mathrm{Mpc}]$')\n",
    "axes[1,0].set_ylabel('$y [\\mathrm{Mpc}]$')\n",
    "axes[1,1].set_xlabel('$x [\\mathrm{Mpc}]$')\n",
    "    \n",
    "# Get average of LG centre across simulations:\n",
    "centre = np.mean(np.vstack(\n",
    "    [sim_data['LG_centre'] for sim_data in data.values()]),\n",
    "                 axis=0)\n",
    "\n",
    "# Set axis limits:\n",
    "ax_size = 5\n",
    "axes[1, 0].set_xlim(centre[x] - ax_size/2, \n",
    "                    centre[x] + ax_size/2)\n",
    "axes[1, 0].set_ylim(centre[y] - ax_size/2, \n",
    "                    centre[y] + ax_size/2)\n",
    "\n",
    "# Iterate through simulations (columns):\n",
    "for i, (key, sim_data) in enumerate(data.items()):\n",
    "    \n",
    "    axes[0, i].set_title(key)\n",
    "    \n",
    "    # Plot spurious low-mass subhalos in the upper row:\n",
    "    mask_dark = np.logical_and(sim_data['Selections']['Dark'],\n",
    "                          sim_data['Selections']['LowMass'])\n",
    "    axes[0,i].scatter(sim_data['COP'][mask_dark][:,x], \n",
    "                      sim_data['COP'][mask_dark][:,y],\n",
    "                      c='black',\n",
    "                      alpha=0.7,\n",
    "                      s=mass_to_marker(sim_data['Vmax'][mask_dark]))\n",
    "    \n",
    "    mask_lum = np.logical_and(sim_data['Selections']['Luminous'],\n",
    "                              sim_data['Selections']['LowMass'])    \n",
    "    axes[0,i].scatter(sim_data['COP'][mask_lum][:,x], \n",
    "                      sim_data['COP'][mask_lum][:,y],\n",
    "                      facecolors='none', \n",
    "                      edgecolors='blue',\n",
    "                      alpha=0.7,\n",
    "                      s=mass_to_marker(sim_data['Vmax'][mask_lum]))\n",
    "\n",
    "    \n",
    "    # Plot physically representative more massive halos in the lower row:\n",
    "    mask_dark = np.logical_and.reduce([sim_data['Selections']['Subhalos'],\n",
    "                                       sim_data['Selections']['Dark'],\n",
    "                                       np.logical_not(sim_data['Selections']['LowMass'])])\n",
    "    axes[1,i].scatter(sim_data['COP'][mask_dark][:,x], \n",
    "                      sim_data['COP'][mask_dark][:,y],\n",
    "                      c='k',\n",
    "                      alpha=0.7,\n",
    "                      s=mass_to_marker(sim_data['Vmax'][mask_dark]))\n",
    "\n",
    "    mask_lum = np.logical_and.reduce([sim_data['Selections']['Subhalos'],\n",
    "                                      sim_data['Selections']['Luminous'],\n",
    "                                      np.logical_not(sim_data['Selections']['LowMass'])])    \n",
    "    axes[1,i].scatter(sim_data['COP'][mask_lum][:,x], \n",
    "                      sim_data['COP'][mask_lum][:,y],\n",
    "                      facecolors='none', \n",
    "                      edgecolors='blue',\n",
    "                      alpha=0.5,\n",
    "                      s=mass_to_marker(sim_data['Vmax'][mask_lum]))\n",
    "    #print(mass_to_marker(sim_data['Vmax'][mask_lum]))\n",
    "    \n",
    "    # Plot central halo centres in all subplots:    \n",
    "    axes[0,i].scatter(sim_data['M31']['COP'][x], sim_data['M31']['COP'][y],\n",
    "                      c='red',\n",
    "                      s=1)\n",
    "    axes[0,i].scatter(sim_data['MW']['COP'][x], sim_data['MW']['COP'][y],\n",
    "                      c='red',\n",
    "                      s=1)\n",
    "    axes[1,i].scatter(sim_data['M31']['COP'][x], sim_data['M31']['COP'][y],\n",
    "                      c='red',\n",
    "                      s=1)\n",
    "    axes[1,i].scatter(sim_data['MW']['COP'][x], sim_data['MW']['COP'][y],\n",
    "                      c='red',\n",
    "                      s=1)\n",
    "    \n",
    "    # Set text size:\n",
    "#     s = 14\n",
    "#     axes[0, i].title.set_size(s)\n",
    "#     axes[1, i].xaxis.label.set_size(s)\n",
    "#     axes[0, 0].yaxis.label.set_size(s)\n",
    "#     axes[1, 0].yaxis.label.set_size(s)\n",
    "    \n",
    "    # Plot 2Mpc circles (for isolated):\n",
    "    def circle(centre_x, centre_y, r, n):\n",
    "        t = 4*np.pi/n * np.arange(n/2)\n",
    "        x = centre_x + r * np.cos(t)\n",
    "        y = centre_y + r * np.sin(t)\n",
    "        return x, y\n",
    "\n",
    "    lw = 0.3\n",
    "    x_circ, y_circ = circle(centre[0], centre[1], 2, 10000)\n",
    "    axes[0,i].plot(x_circ, y_circ, c='black', linestyle='dashed', linewidth=lw)\n",
    "    axes[1,i].plot(x_circ, y_circ, c='black', linestyle='dashed', linewidth=lw)\n",
    "    \n",
    "# Add text box:\n",
    "axes[0,1].text(0.9, 0.1, \"$v_\\mathrm{{max}} < {} \\mathrm{{km/s}}$\".format(lowm),\n",
    "               transform=axes[0,1].transAxes, ha=\"right\", va=\"bottom\")\n",
    "\n",
    "plt.subplots_adjust(wspace=0.05)\n",
    "plt.subplots_adjust(hspace=0.05)\n",
    "# plt.tight_layout()"
   ]
  },
  {
   "cell_type": "markdown",
   "metadata": {},
   "source": [
    "### Save the Figure"
   ]
  },
  {
   "cell_type": "code",
   "execution_count": null,
   "metadata": {},
   "outputs": [],
   "source": [
    "# Construct saving location:\n",
    "filename = 'Satellite_locations_low_mass_LOG'\n",
    "for name in names:\n",
    "    filename += '_{}'.format(name)\n",
    "filename += '.png'\n",
    "    \n",
    "home = os.path.abspath(os.path.join('..'))\n",
    "path = os.path.join(home,'Figures', 'MediumResolution')\n",
    "filename = os.path.join(path, filename)\n",
    "    \n",
    "fig.savefig(filename, dpi=300)"
   ]
  },
  {
   "cell_type": "code",
   "execution_count": null,
   "metadata": {},
   "outputs": [],
   "source": []
  }
 ],
 "metadata": {
  "kernelspec": {
   "display_name": "Python 3",
   "language": "python",
   "name": "python3"
  },
  "language_info": {
   "codemirror_mode": {
    "name": "ipython",
    "version": 3
   },
   "file_extension": ".py",
   "mimetype": "text/x-python",
   "name": "python",
   "nbconvert_exporter": "python",
   "pygments_lexer": "ipython3"
  }
 },
 "nbformat": 4,
 "nbformat_minor": 4
}
