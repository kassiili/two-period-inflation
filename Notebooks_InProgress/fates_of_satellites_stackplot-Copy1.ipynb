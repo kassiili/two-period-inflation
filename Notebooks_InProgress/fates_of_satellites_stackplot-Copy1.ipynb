{
 "cells": [
  {
   "cell_type": "markdown",
   "metadata": {},
   "source": [
    "## First, imports:"
   ]
  },
  {
   "cell_type": "code",
   "execution_count": null,
   "metadata": {},
   "outputs": [],
   "source": [
    "%load_ext autoreload\n",
    "%autoreload 2\n",
    "\n",
    "%config IPCompleter.greedy=True"
   ]
  },
  {
   "cell_type": "code",
   "execution_count": null,
   "metadata": {},
   "outputs": [],
   "source": [
    "import matplotlib.pyplot as plt\n",
    "import numpy as np\n",
    "from astropy import units\n",
    "from astropy.cosmology import FlatLambdaCDM, z_at_value"
   ]
  },
  {
   "cell_type": "markdown",
   "metadata": {},
   "source": [
    "Import my library:"
   ]
  },
  {
   "cell_type": "code",
   "execution_count": null,
   "metadata": {},
   "outputs": [],
   "source": [
    "import os\n",
    "import sys\n",
    "\n",
    "apt_path = os.path.abspath(os.path.join('..', 'apostletools'))\n",
    "sys.path.append(apt_path)\n",
    "\n",
    "import simulation\n",
    "import simtrace\n",
    "import dataset_comp\n",
    "import subhalo"
   ]
  },
  {
   "cell_type": "code",
   "execution_count": null,
   "metadata": {},
   "outputs": [],
   "source": [
    "import importlib\n",
    "importlib.reload(simulation)\n",
    "importlib.reload(simtrace)\n",
    "importlib.reload(dataset_comp)\n",
    "importlib.reload(subhalo)"
   ]
  },
  {
   "cell_type": "markdown",
   "metadata": {},
   "source": [
    "# Accumulation of Satellite Subhalos\n",
    "\n"
   ]
  },
  {
   "cell_type": "markdown",
   "metadata": {},
   "source": [
    "## Setting variables"
   ]
  },
  {
   "cell_type": "markdown",
   "metadata": {},
   "source": [
    "Let us first define our simulation and the LG central galaxies. The M31 and MW galaxies have identifiers (1,0) and (1,1) at redshift zero (snap_id=127), respectively:"
   ]
  },
  {
   "cell_type": "code",
   "execution_count": null,
   "metadata": {},
   "outputs": [],
   "source": [
    "sim_id = \"V1_MR_curvaton_p082_fix\"\n",
    "sim_name = \"p082\"\n",
    "snap_ref = 127\n",
    "m31_ref = (1,0)\n",
    "mw_ref = (1,1)"
   ]
  },
  {
   "cell_type": "code",
   "execution_count": null,
   "metadata": {},
   "outputs": [],
   "source": [
    "sim_id = \"V1_LR_curvaton_p082_fix\"\n",
    "sim_name = \"p082\"\n",
    "snap_ref = 127\n",
    "m31_ref = (1,0)\n",
    "mw_ref = (1,1)"
   ]
  },
  {
   "cell_type": "code",
   "execution_count": null,
   "metadata": {},
   "outputs": [],
   "source": [
    "sim_id = \"V1_MR_fix\"\n",
    "sim_name = \"LCDM\"\n",
    "snap_ref = 127\n",
    "m31_ref = (1,0)\n",
    "mw_ref = (2,0)"
   ]
  },
  {
   "cell_type": "code",
   "execution_count": null,
   "metadata": {},
   "outputs": [],
   "source": [
    "sim_id = \"V1_LR_fix\"\n",
    "sim_name = \"LCDM\"\n",
    "snap_ref = 127\n",
    "m31_ref = (1,0)\n",
    "mw_ref = (2,0)"
   ]
  },
  {
   "cell_type": "code",
   "execution_count": null,
   "metadata": {},
   "outputs": [],
   "source": [
    "sim = simulation.Simulation(sim_id)\n",
    "print(sim.get_snap_ids())"
   ]
  },
  {
   "cell_type": "code",
   "execution_count": null,
   "metadata": {},
   "outputs": [],
   "source": [
    "m31 = subhalo.SubhaloTracer(sim, snap_ref, m31_ref[0], m31_ref[1])\n",
    "mw = subhalo.SubhaloTracer(sim, snap_ref, mw_ref[0], mw_ref[1])"
   ]
  },
  {
   "cell_type": "markdown",
   "metadata": {},
   "source": [
    "Set the range of snapshots considered, and build the merger tree:"
   ]
  },
  {
   "cell_type": "code",
   "execution_count": null,
   "metadata": {},
   "outputs": [],
   "source": [
    "snap_start = 101\n",
    "snap_stop = 128"
   ]
  },
  {
   "cell_type": "code",
   "execution_count": null,
   "metadata": {},
   "outputs": [],
   "source": [
    "s = sim.get_snapshot(101)\n",
    "print(s.grp_file)"
   ]
  },
  {
   "cell_type": "code",
   "execution_count": null,
   "metadata": {},
   "outputs": [],
   "source": [
    "mtree = simtrace.MergerTree(sim, branching=\"BackwardBranching\")\n",
    "mtree.build_tree(snap_start, snap_stop)"
   ]
  },
  {
   "cell_type": "code",
   "execution_count": null,
   "metadata": {},
   "outputs": [],
   "source": [
    "# Trace centrals:\n",
    "m31.trace(mtree)\n",
    "mw.trace(mtree)"
   ]
  },
  {
   "cell_type": "markdown",
   "metadata": {},
   "source": [
    "## Merger Events\n",
    "\n",
    "Find all merger events by iterating backwards in time:"
   ]
  },
  {
   "cell_type": "code",
   "execution_count": null,
   "metadata": {},
   "outputs": [],
   "source": [
    "print(sim.sim_id)"
   ]
  },
  {
   "cell_type": "code",
   "execution_count": null,
   "metadata": {},
   "outputs": [],
   "source": [
    "snap_stop=100\n",
    "for sid in range(127, snap_stop, -1):\n",
    "    snap = sim.get_snapshot(sid)\n",
    "    prog = snap.get_subhalos('Progenitors', mtree.h5_group)\n",
    "#     print(prog.shape)\n",
    "    mask_merger = np.logical_or(prog[:,1] != mtree.no_match, \n",
    "                                prog[:,2] != mtree.no_match)\n",
    "    print(sid, np.sum(mask_merger))\n",
    "    print(np.size(prog, axis=0), np.sum(prog[:,0] != mtree.no_match))"
   ]
  },
  {
   "cell_type": "markdown",
   "metadata": {},
   "source": [
    "## ... Moving on"
   ]
  },
  {
   "cell_type": "code",
   "execution_count": null,
   "metadata": {},
   "outputs": [],
   "source": [
    "print(m31.get_fof_data(\"Group_R_Mean200\") * units.cm.to(units.kpc))\n",
    "print(mw.get_fof_data(\"Group_R_Mean200\") * units.cm.to(units.kpc))"
   ]
  },
  {
   "cell_type": "code",
   "execution_count": null,
   "metadata": {},
   "outputs": [],
   "source": [
    "print(m31.get_fof_data(\"Group_R_Crit200\") * units.cm.to(units.kpc))\n",
    "print(mw.get_fof_data(\"Group_R_Crit200\") * units.cm.to(units.kpc))"
   ]
  },
  {
   "cell_type": "code",
   "execution_count": null,
   "metadata": {},
   "outputs": [],
   "source": [
    "print(m31.get_fof_data(\"Group_R_TopHat200\") * units.cm.to(units.kpc))\n",
    "print(mw.get_fof_data(\"Group_R_TopHat200\") * units.cm.to(units.kpc))"
   ]
  },
  {
   "cell_type": "code",
   "execution_count": null,
   "metadata": {},
   "outputs": [],
   "source": [
    "print(mtree.simulation.get_snapshot(127).get_subhalo_number())"
   ]
  },
  {
   "cell_type": "code",
   "execution_count": null,
   "metadata": {},
   "outputs": [],
   "source": [
    "print(\"/\".join([mtree.h5_group, mtree.branching]))\n",
    "print(type(mtree.no_match))"
   ]
  },
  {
   "cell_type": "code",
   "execution_count": null,
   "metadata": {},
   "outputs": [],
   "source": [
    "import datafile_oper\n",
    "\n",
    "print(datafile_oper.path_to_extended())"
   ]
  },
  {
   "cell_type": "markdown",
   "metadata": {},
   "source": [
    "Make tracers for the traced snapshots:"
   ]
  },
  {
   "cell_type": "code",
   "execution_count": null,
   "metadata": {},
   "outputs": [],
   "source": [
    "traced_snaps = np.arange(snap_start, snap_stop)\n",
    "snap_tracers = {}\n",
    "for snap_id in traced_snaps:\n",
    "    snap_tracer = simtrace.SnapshotTracer(snap_id, mtree)\n",
    "    snap_tracer.trace(start=snap_start, stop=snap_stop)\n",
    "    snap_tracers[snap_id] = snap_tracer.tracer_array"
   ]
  },
  {
   "cell_type": "markdown",
   "metadata": {},
   "source": [
    "## Selecting the satellites"
   ]
  },
  {
   "cell_type": "code",
   "execution_count": null,
   "metadata": {},
   "outputs": [],
   "source": [
    "print(m31.get_identifier(101))\n",
    "print(mw.get_identifier(101))"
   ]
  },
  {
   "cell_type": "code",
   "execution_count": null,
   "metadata": {},
   "outputs": [],
   "source": [
    "# CHECK PERIODIC WRAP: is the h scale exponent right in boxsize?\n",
    "for snap_id, tracer in snap_tracers.items():\n",
    "    print(snap_id)\n",
    "    snapshot = sim.get_snapshot(snap_id)\n",
    "    mask_sat,_ = dataset_comp.split_satellites_by_distance(\n",
    "        snapshot, m31.get_identifier(snap_id), mw.get_identifier(snap_id))\n",
    "    mask_sat = np.logical_or.reduce(mask_sat)\n",
    "    \n",
    "    # Exclude the smallest subhalos:\n",
    "    mask_vmax = dataset_comp.prune_vmax(snapshot, low_lim=15)\n",
    "    \n",
    "    snap_tracers[snap_id] = tracer[np.logical_and(mask_sat, mask_vmax)]"
   ]
  },
  {
   "cell_type": "markdown",
   "metadata": {},
   "source": [
    "## Count satellites\n",
    "\n",
    "At each snapshot, count the number of satellites originating from the previous snapshots:"
   ]
  },
  {
   "cell_type": "code",
   "execution_count": null,
   "metadata": {},
   "outputs": [],
   "source": [
    "# Initialize satellite (contribution) counters:\n",
    "snap_sat_cnt = np.zeros((len(traced_snaps), len(traced_snaps)))\n",
    "\n",
    "for i, snap in enumerate(traced_snaps):\n",
    "    tracer = snap_tracers[snap]\n",
    "    prev_tracer = snap_tracers[traced_snaps[i-1]]\n",
    "    \n",
    "    # Count new, accumulated satellites at snap:\n",
    "    if i == 0:\n",
    "        mask_new_sat = np.array([True] * np.size(tracer, axis=0))\n",
    "    else:\n",
    "        mask_new_sat = np.logical_not(np.isin(\n",
    "            tracer[:, snap], prev_tracer[:, snap]\n",
    "        ))\n",
    "    snap_sat_cnt[i, i] = np.sum(mask_new_sat)\n",
    "     \n",
    "    # Iterate through the followings snapshots, keeping track of\n",
    "    # the surviving satellites that originate from snap:\n",
    "    mask_surviving = mask_new_sat\n",
    "    for j, snap_next in enumerate(traced_snaps[i+1:], i+1):\n",
    "        mask_surviving = np.logical_and(\n",
    "            mask_surviving, \n",
    "            np.isin(tracer[:, snap_next], \n",
    "                    snap_tracers[snap_next][:, snap_next])\n",
    "        )\n",
    "    \n",
    "        snap_sat_cnt[i, j] = np.sum(mask_surviving)"
   ]
  },
  {
   "cell_type": "markdown",
   "metadata": {},
   "source": [
    "## Plot"
   ]
  },
  {
   "cell_type": "code",
   "execution_count": null,
   "metadata": {},
   "outputs": [],
   "source": [
    "# Construct saving location:\n",
    "filename = 'satellite_fates_stack_from_{}_{}'.format(snap_start, sim_name)\n",
    "    \n",
    "home = os.path.dirname(simulation.__file__)\n",
    "path = os.path.join(home,\"Figures\", \"LowResolution\")\n",
    "filename = os.path.join(path, filename)"
   ]
  },
  {
   "cell_type": "code",
   "execution_count": null,
   "metadata": {},
   "outputs": [],
   "source": [
    "fig, ax = plt.subplots(figsize=(6,3), dpi=200)\n",
    "\n",
    "# ax.invert_xaxis()\n",
    "\n",
    "redshift = [sim.get_snapshot(snap_id).get_attribute(\"Redshift\", \"Header\") \n",
    "     for snap_id in traced_snaps]\n",
    "    \n",
    "H0 = sim.get_snapshot(127).get_attribute(\"HubbleParam\", \"Header\") * 100\n",
    "Om0 = sim.get_snapshot(127).get_attribute(\"Omega0\", \"Header\")\n",
    "cosmo = FlatLambdaCDM(H0=H0, Om0=Om0)\n",
    "age = [cosmo.age(z).value for z in redshift]\n",
    "\n",
    "toolight = int(traced_snaps.size / 4)\n",
    "colors = plt.cm.Blues(np.linspace(0, 1, traced_snaps.size + toolight))[toolight:]\n",
    "colors = plt.cm.viridis(np.linspace(0, 1, traced_snaps.size))\n",
    "# ax.stackplot(traced_snaps, snap_sat_cnt, colors=colors, edgecolor='white', \n",
    "#              linestyle=':', linewidth=0.3)\n",
    "# for snap in traced_snaps:\n",
    "#     ax.axvline(snap, c='black', linestyle=':', linewidth=0.3)\n",
    "\n",
    "ax.stackplot(age, snap_sat_cnt, colors=colors, edgecolor='white', \n",
    "             linestyle=':', linewidth=0.3)\n",
    "for a in age:\n",
    "    ax.axvline(a, c='black', linestyle=':', linewidth=0.3)\n",
    "    \n",
    "ax2 = ax.twiny()\n",
    "ax2.set_xticks(age[::4])\n",
    "ax2.set_xticklabels(['{:.2f}'.format(z) for z in redshift[::4]])\n",
    "\n",
    "ax.set_xlim(min(age), max(age))\n",
    "ax2.set_xlim(min(age), max(age))\n",
    "ax.set_ylim(0, 100)\n",
    "\n",
    "ax.text(0.2, 0.9, \"$v_\\mathrm{{max}} > 15 \\mathrm{{km/s}}$\", horizontalalignment='center',\n",
    "        verticalalignment='center', transform=ax.transAxes)\n",
    "ax.set_xlabel('Age of the Universe [Gyr]')\n",
    "ax2.set_xlabel('Redshift')\n",
    "ax.set_ylabel('Number of LG satellites')\n",
    "\n",
    "# plt.savefig(filename, dpi=200)"
   ]
  },
  {
   "cell_type": "code",
   "execution_count": null,
   "metadata": {},
   "outputs": [],
   "source": [
    "fig, ax = plt.subplots()\n",
    "\n",
    "\n",
    "y = np.array([cnt[-1]  for cnt in snap_sat_cnt])\n",
    "y = y / np.sum(y)\n",
    "x = age\n",
    "ax.plot(x,y)"
   ]
  },
  {
   "cell_type": "code",
   "execution_count": null,
   "metadata": {},
   "outputs": [],
   "source": []
  }
 ],
 "metadata": {
  "kernelspec": {
   "display_name": "Python 3",
   "language": "python",
   "name": "python3"
  },
  "language_info": {
   "codemirror_mode": {
    "name": "ipython",
    "version": 3
   },
   "file_extension": ".py",
   "mimetype": "text/x-python",
   "name": "python",
   "nbconvert_exporter": "python",
   "pygments_lexer": "ipython3"
  }
 },
 "nbformat": 4,
 "nbformat_minor": 4
}
