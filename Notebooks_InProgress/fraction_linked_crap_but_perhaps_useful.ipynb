{
 "cells": [
  {
   "cell_type": "markdown",
   "metadata": {},
   "source": [
    "## First, imports:"
   ]
  },
  {
   "cell_type": "code",
   "execution_count": null,
   "metadata": {},
   "outputs": [],
   "source": [
    "%load_ext autoreload\n",
    "%autoreload 2\n",
    "\n",
    "%config IPCompleter.greedy=True"
   ]
  },
  {
   "cell_type": "code",
   "execution_count": null,
   "metadata": {},
   "outputs": [],
   "source": [
    "import numpy as np\n",
    "import matplotlib.pyplot as plt\n",
    "from scipy.interpolate import interp1d\n",
    "\n",
    "from astropy import units\n",
    "from astropy.cosmology import FlatLambdaCDM, z_at_value"
   ]
  },
  {
   "cell_type": "markdown",
   "metadata": {},
   "source": [
    "Import my library:"
   ]
  },
  {
   "cell_type": "code",
   "execution_count": null,
   "metadata": {},
   "outputs": [],
   "source": [
    "import os\n",
    "import sys\n",
    "\n",
    "apt_path = os.path.abspath(os.path.join('..', 'apostletools'))\n",
    "sys.path.append(apt_path)\n",
    "\n",
    "import simulation\n",
    "import simtrace_redo\n",
    "import match_halo_redo\n",
    "import dataset_comp"
   ]
  },
  {
   "cell_type": "code",
   "execution_count": null,
   "metadata": {},
   "outputs": [],
   "source": [
    "import importlib\n",
    "importlib.reload(simulation)\n",
    "importlib.reload(simtrace_redo)\n",
    "importlib.reload(match_halo_redo)\n",
    "importlib.reload(dataset_comp)"
   ]
  },
  {
   "cell_type": "markdown",
   "metadata": {},
   "source": [
    "# Evolution Histories of the Subhalos Present at $z=0$\n",
    "\n",
    "In this notebook, I inspect the origins of the subhalos that are satellites of the central galaxies at $z=0$, and also some isolated subhalos. I will look at their trajectories, and mass evolution."
   ]
  },
  {
   "cell_type": "code",
   "execution_count": null,
   "metadata": {},
   "outputs": [],
   "source": [
    "snap_ref = 127\n",
    "snap_z0 = 127"
   ]
  },
  {
   "cell_type": "markdown",
   "metadata": {},
   "source": [
    "---\n",
    "\n",
    "### LR Simulations\n",
    "\n",
    "Set the envelope file path, and define the M31 and the MW at redshift $z=0$:"
   ]
  },
  {
   "cell_type": "code",
   "execution_count": null,
   "metadata": {},
   "outputs": [],
   "source": [
    "env_path = os.path.abspath(os.path.join('..', 'test_tracing_inj'))\n",
    "\n",
    "data = {\n",
    "    \"plain-LCDM-LR\": {\n",
    "        \"Simulation\": simulation.Simulation(\"V1_LR_fix\", env_path=env_path),\n",
    "        \"M31_z0\": (1, 0),\n",
    "        \"MW_z0\": (2, 0)\n",
    "    },\n",
    "    \"curv-p082-LR\": {\n",
    "        \"Simulation\": simulation.Simulation(\"V1_LR_curvaton_p082_fix\", env_path=env_path),\n",
    "        \"M31_z0\": (1, 0),\n",
    "        \"MW_z0\": (1, 1)\n",
    "    },\n",
    "    \"curv-p084-LR\": {\n",
    "        \"Simulation\": simulation.Simulation(\"V1_LR_curvaton_p084_fix\", env_path=env_path),\n",
    "        \"M31_z0\": (1, 0),\n",
    "        \"MW_z0\": (1, 0)\n",
    "    }\n",
    "}"
   ]
  },
  {
   "cell_type": "markdown",
   "metadata": {},
   "source": [
    "---\n",
    "\n",
    "## Tracing\n",
    "\n",
    "Set the range of snapshots to be traced:"
   ]
  },
  {
   "cell_type": "code",
   "execution_count": null,
   "metadata": {},
   "outputs": [],
   "source": [
    "snap_start = 100\n",
    "snap_stop = 128\n",
    "snap_ids = np.arange(snap_start, snap_stop)"
   ]
  },
  {
   "cell_type": "code",
   "execution_count": null,
   "metadata": {},
   "outputs": [],
   "source": [
    "matcher = match_halo_redo.SnapshotMatcher(n_link_ref=20, n_matches=1)\n",
    "\n",
    "for sim_data in data.values():\n",
    "    sim = sim_data[\"Simulation\"]\n",
    "\n",
    "    # If the simulations are not already linked:\n",
    "    mtree = simtrace_redo.MergerTree(sim, matcher=matcher, branching=\"BackwardBranching\")\n",
    "    mtree.build_tree(snap_start, snap_stop)\n",
    "\n",
    "    # Trace subhalos and get the M31 and the MW Subhalo objects:\n",
    "    sub_dict = sim.trace_subhalos(snap_start, snap_stop)\n",
    "    sim_data[\"Subhalos\"] = sub_dict"
   ]
  },
  {
   "cell_type": "code",
   "execution_count": null,
   "metadata": {},
   "outputs": [],
   "source": [
    "for sim_data in data.values():\n",
    "    sim = sim_data[\"Simulation\"]\n",
    "    sub_dict = sim_data[\"Subhalos\"]\n",
    "    \n",
    "    # Get the M31 subhalo:\n",
    "    m31_id = sim_data[\"M31_z0\"]\n",
    "    m31 = sub_dict[snap_z0][\n",
    "        sim.get_snapshot(snap_z0).index_of_halo(m31_id[0], m31_id[1])\n",
    "    ]\n",
    "    sim_data[\"M31\"] = m31 \n",
    "    \n",
    "    # Get the MW subhalo:\n",
    "    mw_id = sim_data[\"MW_z0\"]\n",
    "    mw = sub_dict[snap_z0][\n",
    "        sim.get_snapshot(snap_z0).index_of_halo(mw_id[0], mw_id[1])\n",
    "    ]\n",
    "    sim_data[\"MW\"] = mw\n",
    "    print(sim.sim_id, mw.get_indices())\n",
    "    print(mw.simulation.sim_id)\n",
    "    \n",
    "    # Get masking arrays for satellites (at z=z_ref):\n",
    "    mask_m31, mask_mw, mask_isol = dataset_comp.split_satellites_by_distance(\n",
    "        sim.get_snapshot(snap_ref), m31, mw, sat_r=300, isol_r=2000, comov=True\n",
    "    )\n",
    "    sim_data[\"Ref_Selections\"] = {\"M31_Satellites\": mask_m31,\n",
    "                                  \"MW_Satellites\": mask_mw,\n",
    "                                  \"Isolated\": mask_isol}"
   ]
  },
  {
   "cell_type": "markdown",
   "metadata": {},
   "source": [
    "---\n",
    "\n",
    "## Retrieve the Datasets\n",
    "\n",
    "Read all datasets into dictionaries by snapshot:"
   ]
  },
  {
   "cell_type": "code",
   "execution_count": null,
   "metadata": {},
   "outputs": [],
   "source": [
    "# Define the cosmology (should be the same for each simulation):\n",
    "for sim_data in data.values():\n",
    "    H0 = sim_data[\"Simulation\"].get_snapshot(snap_stop-1)\\\n",
    "        .get_attribute(\"HubbleParam\", \"Header\")\n",
    "    Om0 = sim_data[\"Simulation\"].get_snapshot(snap_stop-1)\\\n",
    "        .get_attribute(\"Omega0\", \"Header\")\n",
    "#     print(H0, Om0)\n",
    "cosmo = FlatLambdaCDM(H0=100 * H0, Om0=Om0) "
   ]
  },
  {
   "cell_type": "code",
   "execution_count": null,
   "metadata": {},
   "outputs": [],
   "source": [
    "for sim_data in data.values():\n",
    "    sim = sim_data[\"Simulation\"]\n",
    "    \n",
    "    # Get snapshot redshifts and the respective lookback times:\n",
    "    redshift = sim.get_attribute(\"Redshift\", \"Header\", snap_ids)\n",
    "    lookback_time = cosmo.age(0).value - np.array([cosmo.age(z).value for z in redshift])\n",
    "    sim_data[\"Redshift\"] = {sid: z for sid, z in zip(snap_ids, redshift)}\n",
    "    sim_data[\"LookbackTime\"] =  {sid: t for sid, t in zip(snap_ids, lookback_time)}\n",
    "\n",
    "    # Get the datasets in a dictionary, with items for each snapshot data:\n",
    "    sim_data[\"Mass\"] = {sid: m * units.g.to(units.Msun) for sid, m in\n",
    "            sim.get_subhalos(snap_ids, \"Mass\").items()}\n",
    "    sim_data[\"Vmax\"] = {sid: vm[:, 0] * units.cm.to(units.km) for sid, vm in\n",
    "            sim.get_subhalos(snap_ids, \"Max_Vcirc\", h5_group=\"Extended\").items()}\n",
    "    sim_data[\"CentreOfPotential\"] = {sid: c * units.cm.to(units.kpc) for sid, c in\n",
    "           sim.get_subhalos(snap_ids, \"CentreOfPotential\").items()}\n",
    "\n",
    "    sim_data[\"R_M31\"] = {sid: np.linalg.norm(d, axis=1) * units.cm.to(units.kpc)\n",
    "                for sid, d in sim_data[\"M31\"].distance_to_self(snap_ids).items()}\n",
    "    sim_data[\"R_MW\"] = {sid: np.linalg.norm(d, axis=1) * units.cm.to(units.kpc)\n",
    "               for sid, d in sim_data[\"MW\"].distance_to_self(snap_ids).items()}"
   ]
  },
  {
   "cell_type": "code",
   "execution_count": null,
   "metadata": {},
   "outputs": [],
   "source": [
    "for sim_data in data.values():\n",
    "    sim = sim_data[\"Simulation\"]\n",
    "    sub_dict = sim_data[\"Subhalos\"]\n",
    "\n",
    "#     sim_data[\"SurvivalTime\"] = {sid: np.array([len(sub.indices) for sub in subs])\n",
    "#                            for sid, subs in sub_dict.items()}\n",
    "\n",
    "    print(sim.sim_id)\n",
    "    print(sim_data[\"M31\"].get_indices())\n",
    "    print(sim_data[\"MW\"].get_indices())\n",
    "    fallin_m31, fallin_mw = simtrace_redo.get_fallin_times_lg(\n",
    "        sim, sim_data[\"M31\"], sim_data[\"MW\"], snap_start, snap_stop\n",
    "    )\n",
    "    \n",
    "    print(fallin_m31[snap_z0].size, sim.get_snapshot(snap_z0).get_subhalo_number())\n",
    "    print(fallin_m31[snap_z0][:150])\n",
    "    print(sim_data[\"Ref_Selections\"][\"M31_Satellites\"][:150])\n",
    "    \n",
    "#     vmax_fallin_m31 = dataset_comp.get_subhalos_at_fallin(\n",
    "#         sub_dict[snap_ref], fallin_m31, sim_data[\"Vmax\"][snap_ref]\n",
    "#     )"
   ]
  },
  {
   "cell_type": "code",
   "execution_count": null,
   "metadata": {},
   "outputs": [],
   "source": []
  },
  {
   "cell_type": "markdown",
   "metadata": {},
   "source": [
    "Define masking arrays to select satellites of M31 and MW and random sample of isolated galaxies:"
   ]
  },
  {
   "cell_type": "code",
   "execution_count": null,
   "metadata": {},
   "outputs": [],
   "source": [
    "def random_mask(mask, n):\n",
    "    \"\"\" From the selection prescribed by ´mask´, select ´n´ items at random. \"\"\"\n",
    "    k = np.sum(mask)\n",
    "    mask_rand = np.full(k, False)\n",
    "    mask_rand[:min(n, k)] = True\n",
    "    np.random.shuffle(mask_rand)\n",
    "\n",
    "    mask_new = np.full(mask.size, False)\n",
    "    mask_new[mask] = mask_rand\n",
    "    \n",
    "    return mask_new"
   ]
  },
  {
   "cell_type": "code",
   "execution_count": null,
   "metadata": {},
   "outputs": [],
   "source": [
    "# Get masking arrays for satellites (at z=0):\n",
    "mask_m31, mask_mw, mask_isol = dataset_comp.split_satellites_by_distance(\n",
    "    sim.get_snapshot(snap_z0), m31, mw, sat_r=300\n",
    ")\n",
    "\n",
    "mask_rand_isol = random_mask(mask_isol, 30)\n",
    "\n",
    "# # Randomly select ´n_isol´ isolated galaxies:\n",
    "# n_isol = 30\n",
    "# mask_rand = np.full(np.sum(mask_isol), False)\n",
    "# mask_rand[:n_isol] = True\n",
    "# np.random.shuffle(mask_rand)\n",
    "\n",
    "# mask_rand_isol = np.full(mask_isol.size, False)\n",
    "# mask_rand_isol[mask_isol] = mask_rand"
   ]
  },
  {
   "cell_type": "markdown",
   "metadata": {},
   "source": [
    "Make the selections and write the dataset that are ready for plotting to a dictionary:"
   ]
  },
  {
   "cell_type": "code",
   "execution_count": null,
   "metadata": {},
   "outputs": [],
   "source": [
    "# From the full datasets, read M31 satellite data and add to the data dictionary:\n",
    "data = {}\n",
    "\n",
    "m31_sats = sub_dict[snap_z0][mask_m31]\n",
    "data[\"M31_Satellites\"] = {\n",
    "    \"Snap_id\": np.array([np.array(sat.get_indices())[1] for sat in m31_sats]),\n",
    "    \"Redshift\": np.array([np.array([redshift[sid] for _, sid in zip(*sat.get_indices())])\n",
    "                 for sat in m31_sats]),\n",
    "    \"Mass\": np.array([dataset_comp.subhalo_dataset_from_dict(sat, mass)[0] for sat in m31_sats]),\n",
    "    \"Vmax\": np.array([dataset_comp.subhalo_dataset_from_dict(sat, vmax)[0] for sat in m31_sats]),\n",
    "    \"Distance\": np.array([dataset_comp.subhalo_dataset_from_dict(sat, m31_dist)[0] for sat in m31_sats])\n",
    "}\n",
    "\n",
    "# ...Same for MW:\n",
    "mw_sats = sub_dict[snap_z0][mask_mw]\n",
    "data[\"MW_Satellites\"] = {\n",
    "    \"Snap_id\": np.array([np.array(sat.get_indices())[1] for sat in mw_sats]),\n",
    "    \"Redshift\": np.array([np.array([redshift[sid] for _, sid in zip(*sat.get_indices())])\n",
    "                 for sat in mw_sats]),\n",
    "    \"Mass\": np.array([dataset_comp.subhalo_dataset_from_dict(sat, mass)[0] for sat in mw_sats]),\n",
    "    \"Vmax\": np.array([dataset_comp.subhalo_dataset_from_dict(sat, vmax)[0] for sat in mw_sats]),\n",
    "    \"Distance\": np.array([dataset_comp.subhalo_dataset_from_dict(sat, mw_dist)[0] for sat in mw_sats])\n",
    "}\n",
    "\n",
    "# ...Same for the randomly selected isolated galaxies:\n",
    "isol_subs = sub_dict[snap_z0][mask_rand_isol]\n",
    "data[\"Isolated\"] = {\n",
    "    \"Snap_id\": np.array([np.array(sat.get_indices())[1] for sat in isol_subs]),\n",
    "    \"Redshift\": np.array([np.array([redshift[sid] for _, sid in zip(*sat.get_indices())])\n",
    "                 for sat in isol_subs]),\n",
    "    \"Mass\": np.array([dataset_comp.subhalo_dataset_from_dict(sat, mass)[0] for sat in isol_subs]),\n",
    "    \"Vmax\": np.array([dataset_comp.subhalo_dataset_from_dict(sat, vmax)[0] for sat in isol_subs]),\n",
    "    \"MW_Distance\": np.array([dataset_comp.subhalo_dataset_from_dict(sat, mw_dist)[0] for sat in isol_subs])\n",
    "}"
   ]
  },
  {
   "cell_type": "markdown",
   "metadata": {},
   "source": [
    "## Subhalo Survival Times"
   ]
  },
  {
   "cell_type": "code",
   "execution_count": null,
   "metadata": {},
   "outputs": [],
   "source": [
    "surv_time = {sid: np.array([len(sub.indices) for sub in subs])\n",
    "             for sid, subs in sub_dict.items()}"
   ]
  },
  {
   "cell_type": "markdown",
   "metadata": {},
   "source": [
    "Plot the number of snapshots, through which each snapshot is traced, against its $v_\\mathrm{max}$. Below plot the counts of subhalos for each survival time. \n",
    "\n",
    "We see that, by far, most subhalos survive through the entire time range, through which we have done the linking. Only a small fraction is traced for less than 5 snapshots."
   ]
  },
  {
   "cell_type": "code",
   "execution_count": null,
   "metadata": {},
   "outputs": [],
   "source": [
    "fig, axes = plt.subplots(nrows=2)\n",
    "\n",
    "st = surv_time[snap_z0]\n",
    "st_unique, st_cnt = np.unique(st, return_counts=True)\n",
    "v = vmax[snap_z0]\n",
    "\n",
    "axes[0].scatter(st, v)\n",
    "axes[1].plot(st_unique, st_cnt)"
   ]
  },
  {
   "cell_type": "markdown",
   "metadata": {},
   "source": [
    "Let us look at the masses of the subhalos that survive longest vs. those that die shortly, more closely. I divide the subhalos into those that survive the whole linking period, those that survive through less than 3 snapshots, and all in between:"
   ]
  },
  {
   "cell_type": "code",
   "execution_count": null,
   "metadata": {},
   "outputs": [],
   "source": [
    "def select_by_survival_time(surv_times, sel_times):\n",
    "    \"\"\" Compute masking arrays for subhalos which are present through the given \n",
    "    ranges of snapshots. \n",
    "    \n",
    "    Parameters\n",
    "    ----------\n",
    "    sel_times : list of int\n",
    "        The edges of the selection ranges. The lower limit is exclusive, and \n",
    "        the upper limit is inclusive.\n",
    "    \"\"\"\n",
    "    masking = {}\n",
    "    for sid, st in surv_times.items():\n",
    "        masking[sid] = [np.logical_and(st > sel_times[i], st <= sel_times[i + 1])\n",
    "                        for i in range(len(sel_times) - 1)]\n",
    "        \n",
    "    return masking"
   ]
  },
  {
   "cell_type": "code",
   "execution_count": null,
   "metadata": {},
   "outputs": [],
   "source": [
    "masks = select_by_survival_time(surv_time, [0, 5, max(st)-1, max(surv_time[snap_z0])])\n",
    "masks = masks[snap_z0]\n",
    "\n",
    "mask_prune = (v < 60)\n",
    "print(np.sum(np.logical_and(masks[2], mask_prune)))\n",
    "print(np.sum(np.logical_and(masks[1], mask_prune)))\n",
    "print(np.sum(np.logical_and(masks[0], mask_prune)))"
   ]
  },
  {
   "cell_type": "code",
   "execution_count": null,
   "metadata": {},
   "outputs": [],
   "source": [
    "mask_prune = (v < 60)\n",
    "mask_long_surv = np.logical_and((st == max(st)), mask_prune)\n",
    "print(np.sum(mask_long_surv))\n",
    "mask_inter_surv = np.logical_and(np.logical_and((st > 5), (st < max(st))), mask_prune)\n",
    "print(np.sum(mask_inter_surv))\n",
    "mask_short_surv = np.logical_and((st <= 5), mask_prune)\n",
    "print(np.sum(mask_short_surv))"
   ]
  },
  {
   "cell_type": "markdown",
   "metadata": {},
   "source": [
    "Below are histograms for each of these categories (by  $v_\\mathrm{max}$)."
   ]
  },
  {
   "cell_type": "code",
   "execution_count": null,
   "metadata": {},
   "outputs": [],
   "source": [
    "fig, ax = plt.subplots(figsize=(10,4))\n",
    "ax.set_xlim(10, 60)\n",
    "\n",
    "bin_edges = np.linspace(10, 60, 21)\n",
    "print(bin_edges)\n",
    "\n",
    "hist_bars = [v[mask_short_surv], v[mask_inter_surv], v[mask_long_surv]]\n",
    "a = ax.hist(hist_bars, bins=bin_edges, density=True)\n",
    "\n",
    "print(a)"
   ]
  },
  {
   "cell_type": "markdown",
   "metadata": {},
   "source": [
    "## Plot M31 Satellites"
   ]
  },
  {
   "cell_type": "code",
   "execution_count": null,
   "metadata": {},
   "outputs": [],
   "source": [
    "def random_mask(mask, n):\n",
    "    \"\"\" From the selection prescribed by ´mask´, select ´n´ items at random. \"\"\"\n",
    "    k = np.sum(mask)\n",
    "    mask_rand = np.full(k, False)\n",
    "    mask_rand[:min(n, k)] = True\n",
    "    np.random.shuffle(mask_rand)\n",
    "\n",
    "    mask_new = np.full(mask.size, False)\n",
    "    mask_new[mask] = mask_rand\n",
    "    \n",
    "    return mask_new"
   ]
  },
  {
   "cell_type": "code",
   "execution_count": null,
   "metadata": {},
   "outputs": [],
   "source": [
    "# Select ´n´ random satellites for plotting:\n",
    "n=15\n",
    "sat_arrs = data[\"M31_Satellites\"][\"Redshift\"]\n",
    "mask_nonvol = (np.array([arr.size > 1 for arr in sat_arrs]))\n",
    "\n",
    "mask_sel_m31 = random_mask(mask_nonvol, n)"
   ]
  },
  {
   "cell_type": "code",
   "execution_count": null,
   "metadata": {},
   "outputs": [],
   "source": [
    "fig, ax = plt.subplots()\n",
    "\n",
    "ax.invert_xaxis()\n",
    "\n",
    "for r, z in zip(data[\"M31_Satellites\"][\"Distance\"][mask_sel_m31],\n",
    "                data[\"M31_Satellites\"][\"Redshift\"][mask_sel_m31]):\n",
    "    ax.plot(z, r)\n",
    "    ax.scatter(z, r, s=10)"
   ]
  },
  {
   "cell_type": "code",
   "execution_count": null,
   "metadata": {},
   "outputs": [],
   "source": [
    "fig, ax = plt.subplots()\n",
    "\n",
    "ax.invert_xaxis()\n",
    "\n",
    "for r, z in zip(data[\"M31_Satellites\"][\"Distance\"][mask_sel_m31],\n",
    "                data[\"M31_Satellites\"][\"Redshift\"][mask_sel_m31]):\n",
    "    f = interp1d(z, r, kind='cubic')\n",
    "    z_new = np.linspace(min(z), max(z), num=1000)\n",
    "    ax.plot(z_new, f(z_new))"
   ]
  },
  {
   "cell_type": "markdown",
   "metadata": {},
   "source": [
    "Add vertical line for the subhalo mass limit: 20 * m_dm-particle"
   ]
  },
  {
   "cell_type": "code",
   "execution_count": null,
   "metadata": {},
   "outputs": [],
   "source": [
    "fig, ax = plt.subplots()\n",
    "\n",
    "ax.invert_xaxis()\n",
    "ax.set_yscale('log')\n",
    "\n",
    "for m, z in zip(data[\"M31_Satellites\"][\"Mass\"][mask_sel_m31],\n",
    "                data[\"M31_Satellites\"][\"Redshift\"][mask_sel_m31]):\n",
    "    ax.plot(z, m)\n",
    "#     ax.scatter(z, m, s=10)"
   ]
  },
  {
   "cell_type": "code",
   "execution_count": null,
   "metadata": {},
   "outputs": [],
   "source": [
    "fig, ax = plt.subplots()\n",
    "\n",
    "ax.invert_xaxis()\n",
    "ax.set_yscale('log')\n",
    "\n",
    "for vm, z in zip(data[\"M31_Satellites\"][\"Vmax\"][mask_sel_m31],\n",
    "                data[\"M31_Satellites\"][\"Redshift\"][mask_sel_m31]):\n",
    "    ax.plot(z, vm)\n",
    "#     ax.scatter(z, vm, s=10)"
   ]
  },
  {
   "cell_type": "code",
   "execution_count": null,
   "metadata": {},
   "outputs": [],
   "source": [
    "fig, ax = plt.subplots()\n",
    "\n",
    "ax.invert_xaxis()\n",
    "ax.set_yscale('log')\n",
    "\n",
    "n=40\n",
    "for vm, z in zip(data[\"M31_Satellites\"][\"Vmax\"][:n],\n",
    "                 data[\"M31_Satellites\"][\"Redshift\"][:n]):\n",
    "    ax.plot(z, vm)\n",
    "    ax.scatter(z, vm, s=10)"
   ]
  },
  {
   "cell_type": "markdown",
   "metadata": {},
   "source": [
    "## Plot MW Satellites"
   ]
  },
  {
   "cell_type": "code",
   "execution_count": null,
   "metadata": {},
   "outputs": [],
   "source": [
    "fig, ax = plt.subplots()\n",
    "\n",
    "ax.invert_xaxis()\n",
    "\n",
    "n=10\n",
    "for r, z in zip(data[\"MW_Satellites\"][\"Distance\"][:n],\n",
    "                data[\"MW_Satellites\"][\"Redshift\"][:n]):\n",
    "    ax.plot(z, r)\n",
    "    ax.scatter(z, r, s=10)"
   ]
  },
  {
   "cell_type": "code",
   "execution_count": null,
   "metadata": {},
   "outputs": [],
   "source": [
    "fig, ax = plt.subplots()\n",
    "\n",
    "ax.axvline(sim.get_attribute(\"Redshift\", \"Header\", snap_z0)[0], c='gray',  linestyle='dotted')\n",
    "\n",
    "ax.invert_xaxis()\n",
    "\n",
    "n=20\n",
    "for r, z in zip(data[\"MW_Satellites\"][\"Distance\"][:n],\n",
    "                data[\"MW_Satellites\"][\"Redshift\"][:n]):\n",
    "    if r.size > 1:\n",
    "        f = interp1d(z, r, kind='cubic')\n",
    "        z_new = np.linspace(min(z), max(z), num=1000)\n",
    "        ax.plot(z_new, f(z_new))\n",
    "    #     ax.scatter(z, r, s=10)"
   ]
  },
  {
   "cell_type": "code",
   "execution_count": null,
   "metadata": {},
   "outputs": [],
   "source": [
    "fig, ax = plt.subplots()\n",
    "\n",
    "ax.axvline(sim.get_attribute(\"Redshift\", \"Header\", snap_z0)[0], c='gray',  linestyle='dotted')\n",
    "\n",
    "ax.invert_xaxis()\n",
    "\n",
    "n=20\n",
    "for r, z in zip(data[\"MW_Satellites\"][\"Distance\"],\n",
    "                data[\"MW_Satellites\"][\"Redshift\"]):\n",
    "    if r.size > 1:\n",
    "        f = interp1d(z, r, kind='cubic')\n",
    "        z_new = np.linspace(min(z), max(z), num=1000)\n",
    "        ax.plot(z_new, f(z_new))\n",
    "    #     ax.scatter(z, r, s=10)"
   ]
  },
  {
   "cell_type": "code",
   "execution_count": null,
   "metadata": {},
   "outputs": [],
   "source": [
    "fig, ax = plt.subplots()\n",
    "\n",
    "ax.invert_xaxis()\n",
    "ax.set_yscale('log')\n",
    "\n",
    "n=40\n",
    "for vm, z in zip(data[\"MW_Satellites\"][\"Vmax\"][:n],\n",
    "                 data[\"MW_Satellites\"][\"Redshift\"][:n]):\n",
    "    ax.plot(z, vm)\n",
    "    ax.scatter(z, vm, s=10)"
   ]
  },
  {
   "cell_type": "code",
   "execution_count": null,
   "metadata": {},
   "outputs": [],
   "source": [
    "fig, ax = plt.subplots()\n",
    "\n",
    "ax.invert_xaxis()\n",
    "ax.set_yscale('log')\n",
    "\n",
    "n=40\n",
    "for vm, z in zip(data[\"MW_Satellites\"][\"Mass\"][:n],\n",
    "                 data[\"MW_Satellites\"][\"Redshift\"][:n]):\n",
    "    ax.plot(z, vm)\n",
    "    ax.scatter(z, vm, s=10)"
   ]
  },
  {
   "cell_type": "markdown",
   "metadata": {},
   "source": [
    "## Plot random Isolated Subhalos"
   ]
  },
  {
   "cell_type": "markdown",
   "metadata": {},
   "source": [
    "First, show, which sample:"
   ]
  },
  {
   "cell_type": "code",
   "execution_count": null,
   "metadata": {},
   "outputs": [],
   "source": [
    "gns = sim.get_snapshot(snap_z0).get_subhalos('GroupNumber')\n",
    "sgns = sim.get_snapshot(snap_z0).get_subhalos('SubGroupNumber')\n",
    "\n",
    "ids = [(gn, sgn) for gn, sgn in zip(gns[mask_rand_isol], sgns[mask_rand_isol])]\n",
    "print(ids)"
   ]
  },
  {
   "cell_type": "code",
   "execution_count": null,
   "metadata": {},
   "outputs": [],
   "source": [
    "fig, ax = plt.subplots()\n",
    "\n",
    "ax.invert_xaxis()\n",
    "\n",
    "for r, z in zip(data[\"Isolated\"][\"MW_Distance\"],\n",
    "                data[\"Isolated\"][\"Redshift\"]):\n",
    "    ax.plot(z, r)"
   ]
  },
  {
   "cell_type": "code",
   "execution_count": null,
   "metadata": {},
   "outputs": [],
   "source": [
    "fig, ax = plt.subplots()\n",
    "\n",
    "ax.invert_xaxis()\n",
    "ax.set_yscale('log')\n",
    "\n",
    "\n",
    "for m, z in zip(data[\"Isolated\"][\"Mass\"],\n",
    "                data[\"Isolated\"][\"Redshift\"]):\n",
    "    ax.plot(z, m)\n",
    "    ax.scatter(z, m, s=10)"
   ]
  },
  {
   "cell_type": "markdown",
   "metadata": {},
   "source": [
    "## Further Ideas\n",
    "\n",
    "With __eq__ and __hash__ implemented, it is simple to read satellites at any time:\n",
    "- Create a set ´all_satellites´, or similar\n",
    "- Iterate through snapshots\n",
    "- At each snapshot, add all satellites to the set\n",
    "\n",
    "Note that this only works properly, if all the subhalos have been traced as far as possible, since __eq__ and __hash__ are based on the subhalo data at the formation snapshot. "
   ]
  },
  {
   "cell_type": "markdown",
   "metadata": {},
   "source": [
    "---\n",
    "\n",
    "## Crap below"
   ]
  },
  {
   "cell_type": "code",
   "execution_count": null,
   "metadata": {},
   "outputs": [],
   "source": [
    "snap_z0 = 127\n",
    "for m31_id, mw_id, sim_data in zip(m31_id_z0, mw_id_z0, data.values()):\n",
    "    sim = sim_data[\"Simulation\"]\n",
    "\n",
    "    # Trace subhalos and add the M31 and the MW Subhalo objects to the\n",
    "    # ´sim_data´ dictionary, as well as their satellites:\n",
    "    sub_dict = simtrace_redo.trace_subhalos(\n",
    "        sim, snap_start, snap_stop\n",
    "    )\n",
    "    \n",
    "    m31 = sub_dict[snap_z0][\n",
    "        sim.get_snapshot(snap_z0).index_of_halo(m31_id[0], m31_id[1])\n",
    "    ]\n",
    "    mw = sub_dict[snap_z0][\n",
    "        sim.get_snapshot(snap_z0).index_of_halo(mw_id[0], mw_id[1])\n",
    "    ]    \n",
    "    \n",
    "    m31_dist = m31.distance_to_self(snap_ids)\n",
    "    mw_dist = mw.distance_to_self(snap_ids)"
   ]
  },
  {
   "cell_type": "code",
   "execution_count": null,
   "metadata": {},
   "outputs": [],
   "source": [
    "snap_z0 = 127\n",
    "for m31_id, mw_id, sim_data in zip(m31_id_z0, mw_id_z0, data.values()):\n",
    "    sim = sim_data[\"Simulation\"]\n",
    "    \n",
    "    # Get masking arrays for satellites:\n",
    "    mask_sats,_ = dataset_comp.split_satellites_by_distance(\n",
    "        sim.get_snapshot(snap_z0), m31_id, mw_id\n",
    "    )\n",
    "    mask_m31, mask_mw = mask_sats\n",
    "    \n",
    "    # Trace subhalos and add the M31 and the MW Subhalo objects to the\n",
    "    # ´sim_data´ dictionary, as well as their satellites:\n",
    "    sub_dict = simtrace_redo.trace_subhalos(\n",
    "        sim, snap_start, snap_stop\n",
    "    )\n",
    "    \n",
    "    m31 = sub_dict[snap_z0][\n",
    "        sim.get_snapshot(snap_z0).index_of_halo(m31_id[0], m31_id[1])\n",
    "    ]\n",
    "    mw = sub_dict[snap_z0][\n",
    "        sim.get_snapshot(snap_z0).index_of_halo(mw_id[0], mw_id[1])\n",
    "    ]\n",
    "\n",
    "\n",
    "    m31_sats = sub_dict[snap_z0][mask_m31]\n",
    "    sim_data[\"M31_Satellites\"] = {\n",
    "        \"Snap_id\": [np.array([sid for _, sid zip(*sat.get_indices())])\n",
    "                     for sat in m31_sats],\n",
    "        \"Mass\": [dataset_comp.subhalo_dataset_from_dict(sat, mass) for sat in m31_sats],\n",
    "        \"Vmax\": [dataset_comp.subhalo_dataset_from_dict(sat, vmax) for sat in m31_sats]\n",
    "    }"
   ]
  },
  {
   "cell_type": "code",
   "execution_count": null,
   "metadata": {},
   "outputs": [],
   "source": []
  },
  {
   "cell_type": "code",
   "execution_count": null,
   "metadata": {},
   "outputs": [],
   "source": [
    "snap_z0 = 127\n",
    "for m31_id, mw_id, sim_data in zip(m31_id_z0, mw_id_z0, data.values()):\n",
    "    sim = sim_data[\"Simulation\"]\n",
    "    \n",
    "    # Get masking arrays for satellites:\n",
    "    mask_sats,_ = dataset_comp.split_satellites_by_distance(\n",
    "        sim.get_snapshot(snap_z0), m31_id, mw_id\n",
    "    )\n",
    "    mask_m31, mask_mw = mask_sats\n",
    "    \n",
    "    # Trace subhalos and add the M31 and the MW Subhalo objects to the\n",
    "    # ´sim_data´ dictionary, as well as their satellites:\n",
    "    sub_dict = simtrace_redo.trace_subhalos(\n",
    "        sim, snap_start, snap_stop\n",
    "    )\n",
    "    \n",
    "    m31 = sub_dict[snap_z0][\n",
    "        sim.get_snapshot(snap_z0).index_of_halo(m31_id[0], m31_id[1])\n",
    "    ]\n",
    "    mw = sub_dict[snap_z0][\n",
    "        sim.get_snapshot(snap_z0).index_of_halo(mw_id[0], mw_id[1])\n",
    "    ]\n",
    "\n",
    "    m31_sats = sub_dict[snap_z0][mask_m31]\n",
    "    sim_data[\"M31_Satellites\"] = {\n",
    "        \"Snap_id\": [np.array([sid for _, sid zip(*sat.get_indices())])\n",
    "                     for sat in m31_sats],\n",
    "        \"Mass\": [np.array([mass[sid][idx] for idx, sid \n",
    "                           in zip(*sat.get_indices())])\n",
    "                 for sat in m31_sats],\n",
    "        \"Vmax\": [np.array([vmax[sid][idx] for idx, sid \n",
    "                           in zip(*sat.get_indices())])\n",
    "                 for sat in m31_sats],\n",
    "        \"Radius\": []\n",
    "        \"COP\": [np.array([cop[sid][idx] for idx, sid \n",
    "                           in zip(*sat.get_indices())])\n",
    "                 for sat in m31_sats]\n",
    "    }\n",
    "        \n",
    "    m31_cop = sub_from_data(m31, cop)\n",
    "    m31_sat_cops = [sub_from_data(sat, cop) for sat in m31_sats]\n",
    "    r_m31_sat = [distance(sim.get_snapshot(sid), m31_cop, sat_cop)\n",
    "                 for sid\n",
    "        \n",
    "        np.linalg.norm(\n",
    "        dataset_comp.periodic_wrap(sim.get_snapshot(sid), \n",
    "                                   m31_cop, sat_cop) \\\n",
    "        - m31_cop\n",
    "    ) for sid, m31_cop, sat_cop in zip()]"
   ]
  },
  {
   "cell_type": "code",
   "execution_count": null,
   "metadata": {},
   "outputs": [],
   "source": [
    "def distance(snap, r1, r2):\n",
    "    # Compute periodic wrap for r2 around r1:\n",
    "    r2 = dataset_comp.periodic_wrap(snap, r1, r2)\n",
    "    \n",
    "    return np.linalg.norm(r1 - r2)"
   ]
  },
  {
   "cell_type": "code",
   "execution_count": null,
   "metadata": {},
   "outputs": [],
   "source": [
    "print(m31_sat_mass)"
   ]
  },
  {
   "cell_type": "code",
   "execution_count": null,
   "metadata": {},
   "outputs": [],
   "source": [
    "    \n",
    "    m31_satellites = {\n",
    "        \"Mass\": np.array([sat.get_halo_data('MassType', snap_ids) \n",
    "                          for sat in subdict[snap_z0][mask_m31]]),\n",
    "        \"Vmax\": np.array([sat.get_halo_data(\"Max_Vcirc\", h5_group=\"Extended\", \n",
    "                                            snap_ids) \n",
    "                          for sat in subdict[snap_z0][mask_m31]]),\n",
    "    }\n",
    "    \n",
    "    sim_data.update({\n",
    "        \"M31\": m31_satellites\n",
    "    })"
   ]
  },
  {
   "cell_type": "markdown",
   "metadata": {},
   "source": [
    "To SPEED things up a bit, perhaps rather use these:"
   ]
  },
  {
   "cell_type": "code",
   "execution_count": null,
   "metadata": {},
   "outputs": [],
   "source": [
    "def get_data_in_snapshots(simul, snap_ids, dset_name, h5_group='Subhalo'):\n",
    "    data = {snap_id: simul.snapshots[snap_id].get_subhalos(\n",
    "        dset_name, h5_group=h5_group\n",
    "    ) for snap_id in snap_ids}\n",
    "\n",
    "    return data"
   ]
  },
  {
   "cell_type": "code",
   "execution_count": null,
   "metadata": {},
   "outputs": [],
   "source": [
    "def get_subhalo_data(subhalo, data):\n",
    "    inds, snap_ids = subhalo.get_indices()\n",
    "    subdata = np.array([\n",
    "        data[sid][i] for i, sid in zip(inds, snap_ids)\n",
    "    ])\n",
    "    return subdata"
   ]
  },
  {
   "cell_type": "code",
   "execution_count": null,
   "metadata": {},
   "outputs": [],
   "source": []
  },
  {
   "cell_type": "code",
   "execution_count": null,
   "metadata": {},
   "outputs": [],
   "source": [
    "    sim_data.update({\n",
    "        \"M31\": {\n",
    "            \"Subhalo\": sub_dict[snap_z0][\n",
    "                sim.get_snapshot(snap_z0).index_of_halo(m31_id[0], m31_id[1])\n",
    "            ],\n",
    "            \"Satellites\": sub_dict[snap_z0][mask_m31]\n",
    "        },\n",
    "        \"MW\": {\n",
    "            \"Subhalo\": sub_dict[snap_z0][\n",
    "                sim.get_snapshot(snap_z0).index_of_halo(mw_id[0], mw_id[1])\n",
    "            ],\n",
    "            \"Satellites\": sub_dict[snap_z0][mask_m31]\n",
    "        }\n",
    "    }) "
   ]
  },
  {
   "cell_type": "markdown",
   "metadata": {},
   "source": [
    "---\n",
    "\n",
    "## Retrieve and Compute Datasets for Plotting\n",
    "\n",
    "Below we add to the data dictionaries of each simulation,,\n",
    "- the masses (of different types) of the centrals\n",
    "- their relative distance\n",
    "- the Hubble expansion of that distance\n",
    "- the radial and tangential components of their relative peculiar velocity\n",
    "- and the corresponding redshifts and lookback times"
   ]
  },
  {
   "cell_type": "code",
   "execution_count": null,
   "metadata": {},
   "outputs": [],
   "source": []
  }
 ],
 "metadata": {
  "kernelspec": {
   "display_name": "Python 3",
   "language": "python",
   "name": "python3"
  },
  "language_info": {
   "codemirror_mode": {
    "name": "ipython",
    "version": 3
   },
   "file_extension": ".py",
   "mimetype": "text/x-python",
   "name": "python",
   "nbconvert_exporter": "python",
   "pygments_lexer": "ipython3"
  }
 },
 "nbformat": 4,
 "nbformat_minor": 4
}
