{
 "cells": [
  {
   "cell_type": "markdown",
   "metadata": {},
   "source": [
    "## First, imports:"
   ]
  },
  {
   "cell_type": "code",
   "execution_count": null,
   "metadata": {},
   "outputs": [],
   "source": [
    "%load_ext autoreload\n",
    "%autoreload 2\n",
    "\n",
    "%config IPCompleter.greedy=True"
   ]
  },
  {
   "cell_type": "code",
   "execution_count": null,
   "metadata": {},
   "outputs": [],
   "source": [
    "import matplotlib.pyplot as plt\n",
    "import numpy as np\n",
    "from astropy import units\n",
    "from astropy.cosmology import FlatLambdaCDM, z_at_value"
   ]
  },
  {
   "cell_type": "markdown",
   "metadata": {},
   "source": [
    "Import my library:"
   ]
  },
  {
   "cell_type": "code",
   "execution_count": null,
   "metadata": {},
   "outputs": [],
   "source": [
    "import os\n",
    "import sys\n",
    "\n",
    "apt_path = os.path.abspath(os.path.join('..', 'apostletools'))\n",
    "sys.path.append(apt_path)\n",
    "\n",
    "import simulation\n",
    "import simtrace\n",
    "import dataset_comp"
   ]
  },
  {
   "cell_type": "code",
   "execution_count": null,
   "metadata": {},
   "outputs": [],
   "source": [
    "import importlib\n",
    "importlib.reload(simulation)\n",
    "importlib.reload(simtrace)\n",
    "importlib.reload(dataset_comp)"
   ]
  },
  {
   "cell_type": "markdown",
   "metadata": {},
   "source": [
    "# Accumulation of Satellites Through Time\n",
    "\n",
    "Here, I plot the distribution of satellites by their fall-in time, at each snapshot. This is done with a single stackplot, which shows visually, where the satellites seen today originated.\n",
    "\n"
   ]
  },
  {
   "cell_type": "markdown",
   "metadata": {},
   "source": [
    "## Setting variables"
   ]
  },
  {
   "cell_type": "markdown",
   "metadata": {},
   "source": [
    "Let us first define our simulation and the LG central galaxies at $z=0$:"
   ]
  },
  {
   "cell_type": "code",
   "execution_count": null,
   "metadata": {},
   "outputs": [],
   "source": [
    "sim_id = \"V1_MR_curvaton_p082_fix\"\n",
    "sim_name = \"curv-p082\"\n",
    "snap_ref = 127\n",
    "m31_ref = (1,0)\n",
    "mw_ref = (1,1)"
   ]
  },
  {
   "cell_type": "code",
   "execution_count": null,
   "metadata": {},
   "outputs": [],
   "source": [
    "sim_id = \"V1_LR_curvaton_p082_fix\"\n",
    "sim_name = \"curv-p082-LR\"\n",
    "snap_ref = 127\n",
    "m31_ref = (1,0)\n",
    "mw_ref = (1,1)"
   ]
  },
  {
   "cell_type": "code",
   "execution_count": null,
   "metadata": {},
   "outputs": [],
   "source": [
    "sim_id = \"V1_MR_fix\"\n",
    "sim_name = \"plain-LCDM\"\n",
    "snap_ref = 127\n",
    "m31_ref = (1,0)\n",
    "mw_ref = (2,0)"
   ]
  },
  {
   "cell_type": "code",
   "execution_count": null,
   "metadata": {},
   "outputs": [],
   "source": [
    "sim_id = \"V1_LR_fix\"\n",
    "sim_name = \"plain-LCDM-LR\"\n",
    "snap_ref = 127\n",
    "m31_ref = (1,0)\n",
    "mw_ref = (2,0)"
   ]
  },
  {
   "cell_type": "code",
   "execution_count": null,
   "metadata": {},
   "outputs": [],
   "source": [
    "env_path = os.path.abspath(os.path.join('..', 'test_tracing_inj'))\n",
    "sim = simulation.Simulation(sim_id, env_path=env_path)\n",
    "print(sim.get_snap_ids())"
   ]
  },
  {
   "cell_type": "markdown",
   "metadata": {},
   "source": [
    "Set the range of snapshots considered, and build the merger tree:"
   ]
  },
  {
   "cell_type": "code",
   "execution_count": null,
   "metadata": {},
   "outputs": [],
   "source": [
    "snap_start = 100\n",
    "snap_stop = 128\n",
    "snap_ids = np.arange(snap_start, snap_stop)"
   ]
  },
  {
   "cell_type": "code",
   "execution_count": null,
   "metadata": {},
   "outputs": [],
   "source": [
    "s = sim.get_snapshot(101)\n",
    "print(s.group_data.fname)"
   ]
  },
  {
   "cell_type": "markdown",
   "metadata": {},
   "source": [
    "### Get Centrals as Subhalo Objects"
   ]
  },
  {
   "cell_type": "code",
   "execution_count": null,
   "metadata": {},
   "outputs": [],
   "source": [
    "sub_dict = sim.trace_subhalos(snap_start, snap_stop)\n",
    "\n",
    "mw = sub_dict[snap_ref][\n",
    "    sim.get_snapshot(snap_ref).index_of_halo(mw_ref[0], mw_ref[1])\n",
    "]\n",
    "m31 = sub_dict[snap_ref][\n",
    "    sim.get_snapshot(snap_ref).index_of_halo(m31_ref[0], m31_ref[1])\n",
    "]"
   ]
  },
  {
   "cell_type": "markdown",
   "metadata": {},
   "source": [
    "## Get Satellite Fall-in Times"
   ]
  },
  {
   "cell_type": "markdown",
   "metadata": {},
   "source": [
    "For all satellites (in all snapshots), get the snapshot ID of the fall-in snapshot, and its index place in that snapshot:"
   ]
  },
  {
   "cell_type": "code",
   "execution_count": null,
   "metadata": {},
   "outputs": [],
   "source": [
    "fallin_snaps_m31, fallin_snaps_mw = simtrace.get_fallin_times_lg(\n",
    "    sim, m31, mw, snap_start, snap_stop\n",
    ")\n",
    "\n",
    "fallin_inds_m31 = dataset_comp.index_at_fallin(sub_dict, fallin_snaps_m31)\n",
    "fallin_inds_mw = dataset_comp.index_at_fallin(sub_dict, fallin_snaps_mw)"
   ]
  },
  {
   "cell_type": "markdown",
   "metadata": {},
   "source": [
    "Get $v_\\mathrm{max}$, at the fall-in time, for all satellites (in all snapshots):"
   ]
  },
  {
   "cell_type": "code",
   "execution_count": null,
   "metadata": {},
   "outputs": [],
   "source": [
    "vmax = {snap_id: vm[:,0] * units.cm.to(units.km) for snap_id, vm in \n",
    "        sim.get_subhalos(snap_ids, \"Max_Vcirc\", \"Extended\").items()}\n",
    "\n",
    "fallin_vmax_m31 = dataset_comp.data_at_fallin(fallin_snaps_m31, fallin_inds_m31, vmax)\n",
    "fallin_vmax_mw = dataset_comp.data_at_fallin(fallin_snaps_mw, fallin_inds_mw, vmax)"
   ]
  },
  {
   "cell_type": "markdown",
   "metadata": {},
   "source": [
    "At each snapshot, count satellites by fall-in times. Exclude from the counting such satellites, that at fall-in were less massive than $v_\\mathrm{max} = 10 ~\\mathrm{km/s}$ (or whatever is chosen as the limit):"
   ]
  },
  {
   "cell_type": "code",
   "execution_count": null,
   "metadata": {},
   "outputs": [],
   "source": [
    "m31_sat_cnts = np.zeros((snap_stop, snap_stop))\n",
    "mw_sat_cnts = np.zeros((snap_stop, snap_stop))\n",
    "\n",
    "vmax_down = 40\n",
    "vmax_up = 100\n",
    "\n",
    "for snap_id in snap_ids:\n",
    "    mask_vmax_m31 = ~np.isnan(fallin_vmax_m31[snap_id])\n",
    "    mask_vmax_m31[mask_vmax_m31] = np.logical_and(\n",
    "        fallin_vmax_m31[snap_id][mask_vmax_m31] > vmax_down,\n",
    "        fallin_vmax_m31[snap_id][mask_vmax_m31] < vmax_up\n",
    "    ) \n",
    "    \n",
    "    m31_sat_cnts[snap_id] = np.bincount(\n",
    "        fallin_snaps_m31[snap_id][mask_vmax_m31].astype(int), minlength=snap_stop\n",
    "    )\n",
    "    \n",
    "    mask_vmax_mw = ~np.isnan(fallin_vmax_mw[snap_id])\n",
    "    mask_vmax_mw[mask_vmax_mw] = np.logical_and(\n",
    "        fallin_vmax_mw[snap_id][mask_vmax_mw] > vmax_down,\n",
    "        fallin_vmax_mw[snap_id][mask_vmax_mw] < vmax_up\n",
    "    ) \n",
    "    mw_sat_cnts[snap_id] = np.bincount(\n",
    "       fallin_snaps_mw[snap_id][mask_vmax_mw].astype(int), minlength=snap_stop\n",
    "    )"
   ]
  },
  {
   "cell_type": "code",
   "execution_count": null,
   "metadata": {},
   "outputs": [],
   "source": [
    "all_sat_cnts = m31_sat_cnts + mw_sat_cnts"
   ]
  },
  {
   "cell_type": "markdown",
   "metadata": {},
   "source": [
    "## Plot M31"
   ]
  },
  {
   "cell_type": "code",
   "execution_count": null,
   "metadata": {},
   "outputs": [],
   "source": [
    "fig, ax = plt.subplots(figsize=(6,3), dpi=200)\n",
    "\n",
    "# ax.invert_xaxis()\n",
    "\n",
    "traced_snaps = np.arange(snap_start, snap_stop)\n",
    "redshift = [sim.get_snapshot(snap_id).get_attribute(\"Redshift\", \"Header\") \n",
    "     for snap_id in traced_snaps]\n",
    "    \n",
    "H0 = sim.get_snapshot(127).get_attribute(\"HubbleParam\", \"Header\") * 100\n",
    "Om0 = sim.get_snapshot(127).get_attribute(\"Omega0\", \"Header\")\n",
    "cosmo = FlatLambdaCDM(H0=H0, Om0=Om0)\n",
    "age = [cosmo.age(z).value for z in redshift]\n",
    "\n",
    "toolight = int(traced_snaps.size / 4)\n",
    "colors = plt.cm.Blues(np.linspace(0, 1, traced_snaps.size + toolight))[toolight:]\n",
    "colors = plt.cm.Blues(np.linspace(0, 1, traced_snaps.size))\n",
    "# colors = plt.cm.Reds(np.linspace(0, 1, traced_snaps.size))\n",
    "# colors = plt.cm.viridis(np.linspace(0, 1, traced_snaps.size))\n",
    "\n",
    "# ax.stackplot(traced_snaps, snap_sat_cnt, colors=colors, edgecolor='white', \n",
    "#              linestyle=':', linewidth=0.3)\n",
    "# for snap in traced_snaps:\n",
    "#     ax.axvline(snap, c='black', linestyle=':', linewidth=0.3)\n",
    "\n",
    "ax.stackplot(age, m31_sat_cnts[snap_start:snap_stop, snap_start:snap_stop].T,\n",
    "             colors=colors, edgecolor='black',\n",
    "             linestyle=':', linewidth=0.3)\n",
    "for a in age:\n",
    "    ax.axvline(a, c='black', linestyle=':', linewidth=0.3)\n",
    "    \n",
    "ax2 = ax.twiny()\n",
    "ax2.set_xticks(age[::4])\n",
    "ax2.set_xticklabels(['{:.2f}'.format(z) for z in redshift[::4]])\n",
    "\n",
    "ax.set_xlim(min(age), max(age))\n",
    "ax2.set_xlim(min(age), max(age))\n",
    "ax.set_ylim(0, 2 * np.sum(m31_sat_cnts[127]))\n",
    "\n",
    "# text = \"$v_\\mathrm{{max}}(z_\\mathrm{{fall-in}}) > {} \\mathrm{{km/s}}$\".format(vmax_cut)\n",
    "text = \"$v_\\mathrm{{max}}(z_\\mathrm{{fall-in}}) \\in ]{},{}[ ~ \\mathrm{{km/s}}$\".format(\n",
    "    vmax_down, vmax_up\n",
    ")\n",
    "ax.text(0.1, 0.9, text, horizontalalignment='left', verticalalignment='center',\n",
    "        transform=ax.transAxes)\n",
    "ax.set_xlabel('Age of the Universe [Gyr]')\n",
    "ax2.set_xlabel('Redshift')\n",
    "ax.set_ylabel('Number of LG satellites')\n",
    "\n",
    "# plt.savefig(filename, dpi=200)"
   ]
  },
  {
   "cell_type": "code",
   "execution_count": null,
   "metadata": {},
   "outputs": [],
   "source": [
    "# filename = 'M31_satellite_accumulation_vmaxcut{}_{}.png'.format(vmax_cut, sim_name)\n",
    "filename = 'M31_satellite_accumulation_vmaxcut{}-{}_{}.png'.format(vmax_down, vmax_up, sim_name)\n",
    "    \n",
    "path = os.path.abspath(os.path.join('..', 'Figures', 'MediumResolution'))\n",
    "filename = os.path.join(path, filename)\n",
    "\n",
    "fig.savefig(filename, dpi=300, bbox_inches='tight')"
   ]
  },
  {
   "cell_type": "markdown",
   "metadata": {},
   "source": [
    "## Plot MW"
   ]
  },
  {
   "cell_type": "code",
   "execution_count": null,
   "metadata": {},
   "outputs": [],
   "source": [
    "fig, ax = plt.subplots(figsize=(6,3), dpi=200)\n",
    "\n",
    "# ax.invert_xaxis()\n",
    "\n",
    "traced_snaps = np.arange(snap_start, snap_stop)\n",
    "redshift = [sim.get_snapshot(snap_id).get_attribute(\"Redshift\", \"Header\") \n",
    "     for snap_id in traced_snaps]\n",
    "    \n",
    "H0 = sim.get_snapshot(127).get_attribute(\"HubbleParam\", \"Header\") * 100\n",
    "Om0 = sim.get_snapshot(127).get_attribute(\"Omega0\", \"Header\")\n",
    "cosmo = FlatLambdaCDM(H0=H0, Om0=Om0)\n",
    "age = [cosmo.age(z).value for z in redshift]\n",
    "\n",
    "# toolight = int(traced_snaps.size / 4)\n",
    "# colors = plt.cm.Blues(np.linspace(0, 1, traced_snaps.size + toolight))[toolight:]\n",
    "colors = plt.cm.Blues(np.linspace(0, 1, traced_snaps.size))\n",
    "# colors = plt.cm.Reds(np.linspace(0, 1, traced_snaps.size))\n",
    "# colors = plt.cm.viridis(np.linspace(0, 1, traced_snaps.size))\n",
    "# ax.stackplot(traced_snaps, snap_sat_cnt, colors=colors, edgecolor='white', \n",
    "#              linestyle=':', linewidth=0.3)\n",
    "# for snap in traced_snaps:\n",
    "#     ax.axvline(snap, c='black', linestyle=':', linewidth=0.3)\n",
    "\n",
    "ax.stackplot(age, mw_sat_cnts[snap_start:snap_stop, snap_start:snap_stop].T,\n",
    "             colors=colors, edgecolor='black', \n",
    "             linestyle=':', linewidth=0.3)\n",
    "for a in age:\n",
    "    ax.axvline(a, c='black', linestyle=':', linewidth=0.3)\n",
    "    \n",
    "ax2 = ax.twiny()\n",
    "ax2.set_xticks(age[::4])\n",
    "ax2.set_xticklabels(['{:.2f}'.format(z) for z in redshift[::4]])\n",
    "\n",
    "ax.set_xlim(min(age), max(age))\n",
    "ax2.set_xlim(min(age), max(age))\n",
    "ax.set_ylim(0, 1.2 * np.sum(mw_sat_cnts[127]))\n",
    "\n",
    "# text = \"$v_\\mathrm{{max}}(z_\\mathrm{{fall-in}}) > {} \\mathrm{{km/s}}$\".format(vmax_cut)\n",
    "text = \"$v_\\mathrm{{max}}(z_\\mathrm{{fall-in}}) \\in ]{},{}[ ~ \\mathrm{{km/s}}$\".format(\n",
    "    vmax_down, vmax_up\n",
    ")\n",
    "ax.text(0.1, 0.9, text, horizontalalignment='left', verticalalignment='center',\n",
    "        transform=ax.transAxes)\n",
    "ax.set_xlabel('Age of the Universe [Gyr]')\n",
    "ax2.set_xlabel('Redshift')\n",
    "ax.set_ylabel('Number of LG satellites')\n",
    "\n",
    "# plt.savefig(filename, dpi=200)"
   ]
  },
  {
   "cell_type": "code",
   "execution_count": null,
   "metadata": {},
   "outputs": [],
   "source": [
    "# filename = 'MW_satellite_accumulation_vmaxcut{}_{}.png'.format(vmax_cut, sim_name)\n",
    "filename = 'MW_satellite_accumulation_vmaxcut{}-{}_{}.png'.format(vmax_down, vmax_up, sim_name)\n",
    "    \n",
    "path = os.path.abspath(os.path.join('..', 'Figures', 'MediumResolution'))\n",
    "filename = os.path.join(path, filename)\n",
    "\n",
    "fig.savefig(filename, dpi=300, bbox_inches='tight')"
   ]
  },
  {
   "cell_type": "markdown",
   "metadata": {},
   "source": [
    "## Plot LG"
   ]
  },
  {
   "cell_type": "code",
   "execution_count": null,
   "metadata": {},
   "outputs": [],
   "source": [
    "fig, ax = plt.subplots(figsize=(6,3), dpi=200)\n",
    "\n",
    "# ax.invert_xaxis()\n",
    "\n",
    "traced_snaps = np.arange(snap_start, snap_stop)\n",
    "redshift = [sim.get_snapshot(snap_id).get_attribute(\"Redshift\", \"Header\") \n",
    "     for snap_id in traced_snaps]\n",
    "    \n",
    "H0 = sim.get_snapshot(127).get_attribute(\"HubbleParam\", \"Header\") * 100\n",
    "Om0 = sim.get_snapshot(127).get_attribute(\"Omega0\", \"Header\")\n",
    "cosmo = FlatLambdaCDM(H0=H0, Om0=Om0)\n",
    "age = [cosmo.age(z).value for z in redshift]\n",
    "\n",
    "toolight = int(traced_snaps.size / 4)\n",
    "colors = plt.cm.Blues(np.linspace(0, 1, traced_snaps.size + toolight))[toolight:]\n",
    "# colors = plt.cm.viridis(np.linspace(0, 1, traced_snaps.size))\n",
    "colors = plt.cm.Blues(np.linspace(0, 1, traced_snaps.size))\n",
    "# colors = plt.cm.Reds(np.linspace(0, 1, traced_snaps.size))\n",
    "# ax.stackplot(traced_snaps, snap_sat_cnt, colors=colors, edgecolor='white', \n",
    "#              linestyle=':', linewidth=0.3)\n",
    "# for snap in traced_snaps:\n",
    "#     ax.axvline(snap, c='black', linestyle=':', linewidth=0.3)\n",
    "\n",
    "ax.stackplot(age, all_sat_cnts[snap_start:snap_stop, snap_start:snap_stop].T,\n",
    "             colors=colors, edgecolor='black', \n",
    "             linestyle=':', linewidth=0.3)\n",
    "for a in age:\n",
    "    ax.axvline(a, c='black', linestyle=':', linewidth=0.3)\n",
    "    \n",
    "ax2 = ax.twiny()\n",
    "ax2.set_xticks(age[::4])\n",
    "ax2.set_xticklabels(['{:.2f}'.format(z) for z in redshift[::4]])\n",
    "\n",
    "ax.set_xlim(min(age), max(age))\n",
    "ax2.set_xlim(min(age), max(age))\n",
    "ax.set_ylim(0, 1.2 * np.sum(all_sat_cnts[127]))\n",
    "\n",
    "# text = \"$v_\\mathrm{{max}}(z_\\mathrm{{fall-in}}) > {} \\mathrm{{km/s}}$\".format(vmax_cut)\n",
    "text = \"$v_\\mathrm{{max}}(z_\\mathrm{{fall-in}}) \\in ]{},{}[ ~ \\mathrm{{km/s}}$\".format(\n",
    "    vmax_down, vmax_up\n",
    ")\n",
    "ax.text(0.1, 0.9, text, horizontalalignment='left', verticalalignment='center',\n",
    "        transform=ax.transAxes)\n",
    "ax.set_xlabel('Age of the Universe [Gyr]')\n",
    "ax2.set_xlabel('Redshift')\n",
    "ax.set_ylabel('Number of LG satellites')\n",
    "\n",
    "# plt.savefig(filename, dpi=200)"
   ]
  },
  {
   "cell_type": "code",
   "execution_count": null,
   "metadata": {},
   "outputs": [],
   "source": [
    "# filename = 'LG_satellite_accumulation_vmaxcut{}_{}.png'.format(vmax_cut, sim_name)\n",
    "filename = 'LG_satellite_accumulation_vmaxcut{}-{}_{}.png'.format(vmax_down, vmax_up, sim_name)\n",
    "    \n",
    "path = os.path.abspath(os.path.join('..', 'Figures', 'MediumResolution'))\n",
    "filename = os.path.join(path, filename)\n",
    "\n",
    "fig.savefig(filename, dpi=300, bbox_inches='tight')"
   ]
  },
  {
   "cell_type": "markdown",
   "metadata": {},
   "source": [
    "Check that nowhere satellites fallen in at some given snapshot grow with time. NOTE: if you do this check with a limit on the minimum vmax, it will now work: satellites can lose and gain mass, so that they momentarily fall below the minimum mass limit."
   ]
  },
  {
   "cell_type": "code",
   "execution_count": null,
   "metadata": {},
   "outputs": [],
   "source": [
    "for snap in range(snap_start+1, snap_stop):\n",
    "    mask = np.array([\n",
    "        m31_sat_cnts[snap,i] > m31_sat_cnts[snap-1, i]\n",
    "        for i in range(snap_start, snap_stop)\n",
    "    ])\n",
    "    print(np.sum(mask))\n",
    "    print(mask)"
   ]
  },
  {
   "cell_type": "markdown",
   "metadata": {},
   "source": [
    "### Plot the Fall-in Time Distribution at Present"
   ]
  },
  {
   "cell_type": "code",
   "execution_count": null,
   "metadata": {},
   "outputs": [],
   "source": [
    "# Define the cosmology (should be the same for each simulation):\n",
    "H0 = sim.get_snapshot(snap_stop-1).get_attribute(\"HubbleParam\", \"Header\")\n",
    "Om0 = sim.get_snapshot(snap_stop-1).get_attribute(\"Omega0\", \"Header\")\n",
    "\n",
    "cosmo = FlatLambdaCDM(H0=100 * H0, Om0=Om0) "
   ]
  },
  {
   "cell_type": "code",
   "execution_count": null,
   "metadata": {},
   "outputs": [],
   "source": [
    "fig, ax = plt.subplots()\n",
    "\n",
    "snap_id = 127\n",
    "lb_times = np.array([cosmo.age(0).value - cosmo.age(z).value for z in \n",
    "                     sim.get_attribute(\"Redshift\", \"Header\", snap_ids)])\n",
    "\n",
    "mask_vmax_m31 = ~np.isnan(fallin_vmax_m31[snap_id])\n",
    "mask_vmax_m31[mask_vmax_m31] = (fallin_vmax_m31[snap_id][mask_vmax_m31] > vmax_cut) \n",
    "fallin_cnts_m31 = np.array([np.sum(fallin_snaps_m31[snap_id][mask_vmax_m31] == sid) \n",
    "                        for sid in snap_ids])\n",
    "\n",
    "mask_vmax_mw = ~np.isnan(fallin_vmax_mw[snap_id])\n",
    "mask_vmax_mw[mask_vmax_mw] = (fallin_vmax_mw[snap_id][mask_vmax_mw] > vmax_cut) \n",
    "fallin_cnts_mw = np.array([np.sum(fallin_snaps_mw[snap_id][mask_vmax_mw] == sid) \n",
    "                        for sid in snap_ids])\n",
    "\n",
    "fallin_cnts = fallin_cnts_m31 + fallin_cnts_mw\n",
    "\n",
    "ax.plot(lb_times, fallin_cnts / np.sum(fallin_cnts))\n",
    "ax.plot(lb_times, fallin_cnts_m31 / np.sum(fallin_cnts))\n",
    "ax.plot(lb_times, fallin_cnts_mw / np.sum(fallin_cnts))\n",
    "\n",
    "print([lb_times[i+1] - lb_times[i] for i in range(len(lb_times) - 1)])\n",
    "print(np.sum(fallin_cnts))"
   ]
  },
  {
   "cell_type": "markdown",
   "metadata": {},
   "source": [
    "This is how to get the fall-in times for each snapshot, generally:"
   ]
  },
  {
   "cell_type": "code",
   "execution_count": null,
   "metadata": {},
   "outputs": [],
   "source": [
    "redshift = {snap.snap_id: np.full(snap.get_subhalo_number(), \n",
    "                                  snap.get_attribute(\"Redshift\", \"Header\"))\n",
    "            for snap in sim.get_snapshots(snap_ids)}\n",
    "lookback_time = {\n",
    "    snap_id: np.array([cosmo.age(0).value - cosmo.age(z).value for z in z_arr])\n",
    "    for snap_id, z_arr in redshift.items()\n",
    "}"
   ]
  },
  {
   "cell_type": "code",
   "execution_count": null,
   "metadata": {},
   "outputs": [],
   "source": [
    "fallin_t_m31 = dataset_comp.data_at_fallin(fallin_snaps_m31, fallin_inds_m31, lookback_time)\n",
    "fallin_t_mw = dataset_comp.data_at_fallin(fallin_snaps_mw, fallin_inds_mw, lookback_time)"
   ]
  },
  {
   "cell_type": "code",
   "execution_count": null,
   "metadata": {},
   "outputs": [],
   "source": []
  },
  {
   "cell_type": "code",
   "execution_count": null,
   "metadata": {},
   "outputs": [],
   "source": [
    "# DUM SHIT BELOW"
   ]
  },
  {
   "cell_type": "code",
   "execution_count": null,
   "metadata": {
    "jupyter": {
     "outputs_hidden": true
    }
   },
   "outputs": [],
   "source": [
    "mask = np.logical_not(np.isnan(m31_fallin[120]))\n",
    "for i, cnt in enumerate(np.bincount(m31_fallin[120][mask].astype(int), minlength=snap_stop)):\n",
    "    print(i, cnt)"
   ]
  },
  {
   "cell_type": "code",
   "execution_count": null,
   "metadata": {},
   "outputs": [],
   "source": [
    "m31_fallin[120].astype(int) "
   ]
  },
  {
   "cell_type": "code",
   "execution_count": null,
   "metadata": {},
   "outputs": [],
   "source": [
    "print(np.bincount(\n",
    "    np.where(m31_fallin[120].astype(bool), m31_fallin[120], 128)\n",
    "))"
   ]
  },
  {
   "cell_type": "code",
   "execution_count": null,
   "metadata": {},
   "outputs": [],
   "source": [
    "np.where(m31_fallin[120].astype(bool), m31_fallin[120], 0)"
   ]
  },
  {
   "cell_type": "code",
   "execution_count": null,
   "metadata": {},
   "outputs": [],
   "source": [
    "print(m31_fallin[120].dtype)"
   ]
  },
  {
   "cell_type": "code",
   "execution_count": null,
   "metadata": {},
   "outputs": [],
   "source": [
    "print(np.unique(\n",
    "    np.where(m31_fallin[120], m31_fallin[120], np.nan),\n",
    "    return_counts=True))"
   ]
  },
  {
   "cell_type": "code",
   "execution_count": null,
   "metadata": {},
   "outputs": [],
   "source": [
    "print(np.unique(m31_fallin[120][m31_fallin[120].astype(bool)],\n",
    "    return_counts=True))"
   ]
  },
  {
   "cell_type": "code",
   "execution_count": null,
   "metadata": {},
   "outputs": [],
   "source": [
    "print(m31_fallin[120].astype(bool))"
   ]
  },
  {
   "cell_type": "code",
   "execution_count": null,
   "metadata": {},
   "outputs": [],
   "source": [
    "print(m31_fallin[120])"
   ]
  },
  {
   "cell_type": "code",
   "execution_count": null,
   "metadata": {},
   "outputs": [],
   "source": [
    "np.where(m31_fallin[120], m31_fallin[120], np.nan)"
   ]
  },
  {
   "cell_type": "markdown",
   "metadata": {},
   "source": [
    "## Merger Events\n",
    "\n",
    "Find all merger events by iterating backwards in time:"
   ]
  },
  {
   "cell_type": "code",
   "execution_count": null,
   "metadata": {},
   "outputs": [],
   "source": [
    "print(sim.sim_id)"
   ]
  },
  {
   "cell_type": "code",
   "execution_count": null,
   "metadata": {
    "jupyter": {
     "outputs_hidden": true
    }
   },
   "outputs": [],
   "source": [
    "snap_stop=100\n",
    "for sid in range(127, snap_stop, -1):\n",
    "    snap = sim.get_snapshot(sid)\n",
    "    prog = snap.get_subhalos('Progenitors', mtree.h5_group)\n",
    "#     print(prog.shape)\n",
    "    mask_merger = np.logical_or(prog[:,1] != mtree.no_match, \n",
    "                                prog[:,2] != mtree.no_match)\n",
    "    print(sid, np.sum(mask_merger))\n",
    "    print(np.size(prog, axis=0), np.sum(prog[:,0] != mtree.no_match))"
   ]
  },
  {
   "cell_type": "markdown",
   "metadata": {},
   "source": [
    "## ... Moving on"
   ]
  },
  {
   "cell_type": "code",
   "execution_count": null,
   "metadata": {},
   "outputs": [],
   "source": [
    "print(m31.get_fof_data(\"Group_R_Mean200\") * units.cm.to(units.kpc))\n",
    "print(mw.get_fof_data(\"Group_R_Mean200\") * units.cm.to(units.kpc))"
   ]
  },
  {
   "cell_type": "code",
   "execution_count": null,
   "metadata": {},
   "outputs": [],
   "source": [
    "print(m31.get_fof_data(\"Group_R_Crit200\") * units.cm.to(units.kpc))\n",
    "print(mw.get_fof_data(\"Group_R_Crit200\") * units.cm.to(units.kpc))"
   ]
  },
  {
   "cell_type": "code",
   "execution_count": null,
   "metadata": {},
   "outputs": [],
   "source": [
    "print(m31.get_fof_data(\"Group_R_TopHat200\") * units.cm.to(units.kpc))\n",
    "print(mw.get_fof_data(\"Group_R_TopHat200\") * units.cm.to(units.kpc))"
   ]
  },
  {
   "cell_type": "code",
   "execution_count": null,
   "metadata": {},
   "outputs": [],
   "source": [
    "print(mtree.simulation.get_snapshot(127).get_subhalo_number())"
   ]
  },
  {
   "cell_type": "code",
   "execution_count": null,
   "metadata": {},
   "outputs": [],
   "source": [
    "print(\"/\".join([mtree.h5_group, mtree.branching]))\n",
    "print(type(mtree.no_match))"
   ]
  },
  {
   "cell_type": "code",
   "execution_count": null,
   "metadata": {},
   "outputs": [],
   "source": [
    "import datafile_oper\n",
    "\n",
    "print(datafile_oper.path_to_extended())"
   ]
  },
  {
   "cell_type": "markdown",
   "metadata": {},
   "source": [
    "Make tracers for the traced snapshots:"
   ]
  },
  {
   "cell_type": "code",
   "execution_count": null,
   "metadata": {},
   "outputs": [],
   "source": [
    "traced_snaps = np.arange(snap_start, snap_stop)\n",
    "snap_tracers = {}\n",
    "for snap_id in traced_snaps:\n",
    "    snap_tracer = simtrace.SnapshotTracer(snap_id, mtree)\n",
    "    snap_tracer.trace(start=snap_start, stop=snap_stop)\n",
    "    snap_tracers[snap_id] = snap_tracer.tracer_array"
   ]
  },
  {
   "cell_type": "markdown",
   "metadata": {},
   "source": [
    "## Selecting the satellites"
   ]
  },
  {
   "cell_type": "code",
   "execution_count": null,
   "metadata": {},
   "outputs": [],
   "source": [
    "print(m31.get_identifier(101))\n",
    "print(mw.get_identifier(101))"
   ]
  },
  {
   "cell_type": "code",
   "execution_count": null,
   "metadata": {},
   "outputs": [],
   "source": [
    "# CHECK PERIODIC WRAP: is the h scale exponent right in boxsize?\n",
    "for snap_id, tracer in snap_tracers.items():\n",
    "    print(snap_id)\n",
    "    snapshot = sim.get_snapshot(snap_id)\n",
    "    mask_sat,_ = dataset_comp.split_satellites_by_distance(\n",
    "        snapshot, m31.get_identifier(snap_id), mw.get_identifier(snap_id))\n",
    "    mask_sat = np.logical_or.reduce(mask_sat)\n",
    "    \n",
    "    # Exclude the smallest subhalos:\n",
    "    mask_vmax = dataset_comp.prune_vmax(snapshot, low_lim=15)\n",
    "    \n",
    "    snap_tracers[snap_id] = tracer[np.logical_and(mask_sat, mask_vmax)]"
   ]
  },
  {
   "cell_type": "markdown",
   "metadata": {},
   "source": [
    "## Count satellites\n",
    "\n",
    "At each snapshot, count the number of satellites originating from the previous snapshots:"
   ]
  },
  {
   "cell_type": "code",
   "execution_count": null,
   "metadata": {},
   "outputs": [],
   "source": [
    "# Initialize satellite (contribution) counters:\n",
    "snap_sat_cnt = np.zeros((len(traced_snaps), len(traced_snaps)))\n",
    "\n",
    "for i, snap in enumerate(traced_snaps):\n",
    "    tracer = snap_tracers[snap]\n",
    "    prev_tracer = snap_tracers[traced_snaps[i-1]]\n",
    "    \n",
    "    # Count new, accumulated satellites at snap:\n",
    "    if i == 0:\n",
    "        mask_new_sat = np.array([True] * np.size(tracer, axis=0))\n",
    "    else:\n",
    "        mask_new_sat = np.logical_not(np.isin(\n",
    "            tracer[:, snap], prev_tracer[:, snap]\n",
    "        ))\n",
    "    snap_sat_cnt[i, i] = np.sum(mask_new_sat)\n",
    "     \n",
    "    # Iterate through the followings snapshots, keeping track of\n",
    "    # the surviving satellites that originate from snap:\n",
    "    mask_surviving = mask_new_sat\n",
    "    for j, snap_next in enumerate(traced_snaps[i+1:], i+1):\n",
    "        mask_surviving = np.logical_and(\n",
    "            mask_surviving, \n",
    "            np.isin(tracer[:, snap_next], \n",
    "                    snap_tracers[snap_next][:, snap_next])\n",
    "        )\n",
    "    \n",
    "        snap_sat_cnt[i, j] = np.sum(mask_surviving)"
   ]
  },
  {
   "cell_type": "markdown",
   "metadata": {},
   "source": [
    "## Plot"
   ]
  },
  {
   "cell_type": "code",
   "execution_count": null,
   "metadata": {},
   "outputs": [],
   "source": [
    "# Construct saving location:\n",
    "filename = 'satellite_fates_stack_from_{}_{}'.format(snap_start, sim_name)\n",
    "    \n",
    "home = os.path.dirname(simulation.__file__)\n",
    "path = os.path.join(home,\"Figures\", \"LowResolution\")\n",
    "filename = os.path.join(path, filename)"
   ]
  },
  {
   "cell_type": "code",
   "execution_count": null,
   "metadata": {},
   "outputs": [],
   "source": [
    "fig, ax = plt.subplots(figsize=(6,3), dpi=200)\n",
    "\n",
    "# ax.invert_xaxis()\n",
    "\n",
    "redshift = [sim.get_snapshot(snap_id).get_attribute(\"Redshift\", \"Header\") \n",
    "     for snap_id in traced_snaps]\n",
    "    \n",
    "H0 = sim.get_snapshot(127).get_attribute(\"HubbleParam\", \"Header\") * 100\n",
    "Om0 = sim.get_snapshot(127).get_attribute(\"Omega0\", \"Header\")\n",
    "cosmo = FlatLambdaCDM(H0=H0, Om0=Om0)\n",
    "age = [cosmo.age(z).value for z in redshift]\n",
    "\n",
    "toolight = int(traced_snaps.size / 4)\n",
    "colors = plt.cm.Blues(np.linspace(0, 1, traced_snaps.size + toolight))[toolight:]\n",
    "colors = plt.cm.viridis(np.linspace(0, 1, traced_snaps.size))\n",
    "# ax.stackplot(traced_snaps, snap_sat_cnt, colors=colors, edgecolor='white', \n",
    "#              linestyle=':', linewidth=0.3)\n",
    "# for snap in traced_snaps:\n",
    "#     ax.axvline(snap, c='black', linestyle=':', linewidth=0.3)\n",
    "\n",
    "ax.stackplot(age, snap_sat_cnt, colors=colors, edgecolor='white', \n",
    "             linestyle=':', linewidth=0.3)\n",
    "for a in age:\n",
    "    ax.axvline(a, c='black', linestyle=':', linewidth=0.3)\n",
    "    \n",
    "ax2 = ax.twiny()\n",
    "ax2.set_xticks(age[::4])\n",
    "ax2.set_xticklabels(['{:.2f}'.format(z) for z in redshift[::4]])\n",
    "\n",
    "ax.set_xlim(min(age), max(age))\n",
    "ax2.set_xlim(min(age), max(age))\n",
    "ax.set_ylim(0, 100)\n",
    "\n",
    "ax.text(0.2, 0.9, \"$v_\\mathrm{{max}} > 15 \\mathrm{{km/s}}$\", horizontalalignment='center',\n",
    "        verticalalignment='center', transform=ax.transAxes)\n",
    "ax.set_xlabel('Age of the Universe [Gyr]')\n",
    "ax2.set_xlabel('Redshift')\n",
    "ax.set_ylabel('Number of LG satellites')\n",
    "\n",
    "# plt.savefig(filename, dpi=200)"
   ]
  },
  {
   "cell_type": "code",
   "execution_count": null,
   "metadata": {},
   "outputs": [],
   "source": [
    "fig, ax = plt.subplots()\n",
    "\n",
    "\n",
    "y = np.array([cnt[-1]  for cnt in snap_sat_cnt])\n",
    "y = y / np.sum(y)\n",
    "x = age\n",
    "ax.plot(x,y)"
   ]
  },
  {
   "cell_type": "code",
   "execution_count": null,
   "metadata": {},
   "outputs": [],
   "source": []
  }
 ],
 "metadata": {
  "kernelspec": {
   "display_name": "Python 3",
   "language": "python",
   "name": "python3"
  },
  "language_info": {
   "codemirror_mode": {
    "name": "ipython",
    "version": 3
   },
   "file_extension": ".py",
   "mimetype": "text/x-python",
   "name": "python",
   "nbconvert_exporter": "python",
   "pygments_lexer": "ipython3"
  }
 },
 "nbformat": 4,
 "nbformat_minor": 4
}
