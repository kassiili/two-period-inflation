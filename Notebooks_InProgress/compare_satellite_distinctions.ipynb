{
 "cells": [
  {
   "cell_type": "markdown",
   "metadata": {},
   "source": [
    "## First, imports:"
   ]
  },
  {
   "cell_type": "code",
   "execution_count": null,
   "metadata": {},
   "outputs": [],
   "source": [
    "%load_ext autoreload\n",
    "%autoreload 2\n",
    "\n",
    "%config IPCompleter.greedy=True"
   ]
  },
  {
   "cell_type": "code",
   "execution_count": null,
   "metadata": {},
   "outputs": [],
   "source": [
    "import numpy as np\n",
    "import matplotlib.pyplot as plt\n",
    "from astropy import units\n",
    "import importlib"
   ]
  },
  {
   "cell_type": "code",
   "execution_count": null,
   "metadata": {},
   "outputs": [],
   "source": [
    "import os\n",
    "import sys\n",
    "\n",
    "apt_path = os.path.abspath(os.path.join('..', 'apostletools'))\n",
    "sys.path.append(apt_path)\n",
    "import dataset_comp\n",
    "import snapshot"
   ]
  },
  {
   "cell_type": "code",
   "execution_count": null,
   "metadata": {},
   "outputs": [],
   "source": [
    "importlib.reload(dataset_comp)\n",
    "importlib.reload(snapshot)"
   ]
  },
  {
   "cell_type": "markdown",
   "metadata": {},
   "source": [
    "# Definitions of Satellite Galaxies and Isolated Galaxies\n",
    "\n",
    "## Motivation\n",
    "\n",
    "To illustrate the two definitions, I plot the subhalos, projected onto a plane, and color satellites and isolated galaxies with different colors. \n",
    "\n",
    "---\n",
    "\n",
    "## Set Parameters for the Plots\n",
    "\n",
    "Choose the snapshot and the simulation, and define M31 and MW in each simulation. Also, set the colors used for each simulation:"
   ]
  },
  {
   "cell_type": "code",
   "execution_count": null,
   "metadata": {
    "code_folding": []
   },
   "outputs": [],
   "source": [
    "sim_id = \"V1_MR_curvaton_p082_fix\"\n",
    "snap_id = 127\n",
    "\n",
    "m31 = (1,0)\n",
    "mw = (1,1)"
   ]
  },
  {
   "cell_type": "markdown",
   "metadata": {},
   "source": [
    "Set the maximum distances for satellite galaxies and isolated galaxies (for the definitions by distance):"
   ]
  },
  {
   "cell_type": "code",
   "execution_count": null,
   "metadata": {},
   "outputs": [],
   "source": [
    "maxds = 300\n",
    "maxdi = 2000 # Maximum distance from LG centre for isolated"
   ]
  },
  {
   "cell_type": "markdown",
   "metadata": {},
   "source": [
    "---\n",
    "\n",
    "## Retrieve Data\n",
    "\n",
    "### Create a Dictionary\n",
    "\n",
    "For easy handling of the relevant data, define a data dictionary that, at the top level, has entries for all simulations. Under each simulation entry, add items for the needed datasets and, under the 'Selections' key, a sub-dictionary of masking arrays for each needed condition (e.g. satellite, luminous, $v_\\mathrm{max}$ inside range, etc.).\n",
    "\n",
    "First, add the above definitions into the data dict:"
   ]
  },
  {
   "cell_type": "code",
   "execution_count": null,
   "metadata": {
    "code_folding": []
   },
   "outputs": [],
   "source": [
    "# Get data:\n",
    "snap = snapshot.Snapshot(sim_id, snap_id)\n",
    "cops = snap.get_subhalos(\"CentreOfPotential\") * units.cm.to(units.Mpc)"
   ]
  },
  {
   "cell_type": "markdown",
   "metadata": {},
   "source": [
    "Compute the masking arrays to select satellites or isolated galaxies from subhalos, and save these to the dictionary \"selections\":"
   ]
  },
  {
   "cell_type": "code",
   "execution_count": null,
   "metadata": {
    "code_folding": []
   },
   "outputs": [],
   "source": [
    "selections = {}\n",
    "\n",
    "# To prune potential spurious:\n",
    "mask_prune_vmax = dataset_comp.prune_vmax(snap)\n",
    "\n",
    "# Split into satellites and isolated:\n",
    "masks_sat_d, mask_isol_d = dataset_comp.split_satellites_by_distance(\n",
    "    snap, m31, mw, max_dist_sat=maxds, max_dist_isol=maxdi)\n",
    "masks_sat_gn, mask_isol_gn = dataset_comp.split_satellites_by_group_number(\n",
    "    snap, m31, mw)\n",
    "\n",
    "selections['By_distance'] = {'M31_satellites': masks_sat_d[0][mask_prune_vmax],\n",
    "                             'MW_satellites': masks_sat_d[1][mask_prune_vmax],\n",
    "                             'Isolated': mask_isol_d[mask_prune_vmax]}\n",
    "selections['By_GN'] = {'M31_satellites': masks_sat_gn[0][mask_prune_vmax],\n",
    "                       'MW_satellites': masks_sat_gn[1][mask_prune_vmax],\n",
    "                       'Isolated': mask_isol_gn[mask_prune_vmax]}"
   ]
  },
  {
   "cell_type": "markdown",
   "metadata": {},
   "source": [
    "Compute plane projections of subhalo positions:"
   ]
  },
  {
   "cell_type": "code",
   "execution_count": null,
   "metadata": {},
   "outputs": [],
   "source": [
    "cop_m31 = cops[snap.index_of_halo(m31[0], m31[1])]\n",
    "cop_mw = cops[snap.index_of_halo(mw[0], mw[1])]\n",
    "LG_centre = dataset_comp.compute_LG_centre(snap, m31, mw) \\\n",
    "                * units.cm.to(units.Mpc)\n",
    "\n",
    "# Compute the unit separation vector:\n",
    "r = cop_m31 - cop_mw\n",
    "print(np.linalg.norm(r))\n",
    "r = r / np.linalg.norm(r)\n",
    "\n",
    "# Compute a unit vector orthogonal to r, n:\n",
    "a = 1; b = 1\n",
    "n = np.array([-1/r[0] * (a*r[1] + b*r[2]), a, b])\n",
    "n = n / np.linalg.norm(n)\n",
    "\n",
    "# Project onto the plane orthogonal to n:\n",
    "nstack = np.vstack([n] * np.size(cops, axis=0)).T\n",
    "n_comp = np.dot(cops, n) # Component in the direction of n \n",
    "cops_proj = cops - (n_comp * nstack).T\n",
    "\n",
    "copp_m31 = cops_proj[snap.index_of_halo(m31[0], m31[1])]\n",
    "copp_mw = cops_proj[snap.index_of_halo(mw[0], mw[1])]\n",
    "rp = copp_m31 - copp_mw\n",
    "print(np.linalg.norm(rp))"
   ]
  },
  {
   "cell_type": "code",
   "execution_count": null,
   "metadata": {},
   "outputs": [],
   "source": [
    "# OLD\n",
    "\n",
    "sim_id = \"V1_MR_curvaton_p082_fix\"\n",
    "m31 = (1, 0)\n",
    "mw = (1, 1)\n",
    "snap = snapshot_obj.Snapshot(sim_id, 127)\n",
    "cops = snap.get_subhalos(\"CentreOfPotential\") * units.cm.to(units.Mpc)\n",
    "mask_vmax = dataset_compute.prune_vmax(snap)\n",
    "\n",
    "masks_sat, mask_isol = dataset_compute.split_satellites_by_distance(snap, m31, mw)\n",
    "split_cops_by_r = {\"M31_satellites\": cops[np.logical_and(masks_sat[0], mask_vmax)],\n",
    "                   \"MW_satellites\": cops[np.logical_and(masks_sat[1], mask_vmax)],\n",
    "                   \"isolated\": cops[np.logical_and(mask_isol, mask_vmax)]}\n",
    "\n",
    "masks_sat, mask_isol = dataset_compute.split_satellites_by_group_number(snap, m31, mw)\n",
    "split_cops_by_gn = {\"M31_satellites\": cops[np.logical_and(masks_sat[0], mask_vmax)],\n",
    "                    \"MW_satellites\": cops[np.logical_and(masks_sat[1], mask_vmax)],\n",
    "                    \"isolated\": cops[np.logical_and(mask_isol, mask_vmax)]}"
   ]
  },
  {
   "cell_type": "markdown",
   "metadata": {},
   "source": [
    "---\n",
    "\n",
    "## Plot \n",
    "\n",
    "Plot subhalos with vmax < lowm in the upper row, and the more massive ones in the lower one. Plot two columns for both simulations.\n",
    "\n",
    "First, set figure parameters:"
   ]
  },
  {
   "cell_type": "code",
   "execution_count": null,
   "metadata": {},
   "outputs": [],
   "source": [
    "# Choose font sizes:\n",
    "parameters = {'axes.titlesize': 10,\n",
    "              'axes.labelsize': 9,\n",
    "              'xtick.labelsize': 6,\n",
    "              'ytick.labelsize': 6,\n",
    "              'legend.fontsize': 8}\n",
    "\n",
    "# Side length (in Mpc) of each subfigure:\n",
    "ax_size = 5\n",
    "\n",
    "s = 0.1 # marker size\n",
    "lw = 0.3 # line width"
   ]
  },
  {
   "cell_type": "code",
   "execution_count": null,
   "metadata": {},
   "outputs": [],
   "source": [
    "def circle(centre_x, centre_y, r, n):\n",
    "    t = 4*np.pi/n * np.arange(n/2)\n",
    "    x = centre_x + r * np.cos(t)\n",
    "    y = centre_y + r * np.sin(t)\n",
    "    return x, y"
   ]
  },
  {
   "cell_type": "code",
   "execution_count": null,
   "metadata": {},
   "outputs": [],
   "source": [
    "# Set fonts:\n",
    "plt.rcParams.update(parameters)\n",
    "plt.tight_layout()\n",
    "\n",
    "fig, axes = plt.subplots(nrows=2, ncols=2, sharey='row', sharex='col', \n",
    "                         subplot_kw=dict(box_aspect=1), figsize=(5,5))\n",
    "plt.subplots_adjust(wspace=0.04)\n",
    "plt.subplots_adjust(hspace=0.04)\n",
    "\n",
    "# Set axis labels:\n",
    "axes[1,0].set_xlabel(\"$x [\\mathrm{Mpc}]$\")\n",
    "axes[1,1].set_xlabel(\"$x [\\mathrm{Mpc}]$\")\n",
    "axes[0,0].set_ylabel(\"$y [\\mathrm{Mpc}]$\")\n",
    "axes[1,0].set_ylabel(\"$z [\\mathrm{Mpc}]$\")\n",
    "\n",
    "# Set axis limits:\n",
    "axes[1,0].set_xlim(LG_centre[0] - ax_size/2, \n",
    "                   LG_centre[0] + ax_size/2)\n",
    "axes[1,1].set_xlim(LG_centre[0] - ax_size/2, \n",
    "                   LG_centre[0] + ax_size/2)\n",
    "axes[0,0].set_ylim(LG_centre[1] - ax_size/2, \n",
    "                   LG_centre[1] + ax_size/2)\n",
    "axes[1,0].set_ylim(LG_centre[2] - ax_size/2, \n",
    "                   LG_centre[2] + ax_size/2)\n",
    "\n",
    "axes[0,0].set_title(\"By group number\")\n",
    "axes[0,1].set_title(\"By distance\")\n",
    "\n",
    "\n",
    "# Select projection plane:\n",
    "x = 0; y = 1; z=2\n",
    "\n",
    "\n",
    "# Plot colored by group number:\n",
    "axes[0,0].scatter(cops[selections['By_GN']['Isolated']][:,x],\n",
    "                  cops[selections['By_GN']['Isolated']][:,y],\n",
    "                  c='gray', s=s)\n",
    "axes[0,0].scatter(cops[selections['By_GN']['M31_satellites']][:,x],\n",
    "                  cops[selections['By_GN']['M31_satellites']][:,y],\n",
    "                  c='pink', s=s)\n",
    "axes[0,0].scatter(cops[selections['By_GN']['MW_satellites']][:,x],\n",
    "                  cops[selections['By_GN']['MW_satellites']][:,y],\n",
    "                  c='lightblue', s=s)\n",
    "axes[1,0].scatter(cops[selections['By_GN']['Isolated']][:,x],\n",
    "                  cops[selections['By_GN']['Isolated']][:,z],\n",
    "                  c='gray', s=s)\n",
    "axes[1,0].scatter(cops[selections['By_GN']['M31_satellites']][:,x],\n",
    "                  cops[selections['By_GN']['M31_satellites']][:,z],\n",
    "                  c='pink', s=s)\n",
    "axes[1,0].scatter(cops[selections['By_GN']['MW_satellites']][:,x],\n",
    "                  cops[selections['By_GN']['MW_satellites']][:,z],\n",
    "                  c='lightblue', s=s)\n",
    "\n",
    "# Plot colored by distance:\n",
    "axes[0,1].scatter(cops[selections['By_distance']['Isolated']][:,x],\n",
    "                  cops[selections['By_distance']['Isolated']][:,y],\n",
    "                  c='gray', s=s)\n",
    "axes[0,1].scatter(cops[selections['By_distance']['M31_satellites']][:,x],\n",
    "                  cops[selections['By_distance']['M31_satellites']][:,y],\n",
    "                  c='pink', s=s)\n",
    "axes[0,1].scatter(cops[selections['By_distance']['MW_satellites']][:,x],\n",
    "                  cops[selections['By_distance']['MW_satellites']][:,y],\n",
    "                  c='lightblue', s=s)\n",
    "axes[1,1].scatter(cops[selections['By_distance']['Isolated']][:,x],\n",
    "                  cops[selections['By_distance']['Isolated']][:,z],\n",
    "                  c='gray', s=s)\n",
    "axes[1,1].scatter(cops[selections['By_distance']['M31_satellites']][:,x],\n",
    "                  cops[selections['By_distance']['M31_satellites']][:,z],\n",
    "                  c='pink', s=s)\n",
    "axes[1,1].scatter(cops[selections['By_distance']['MW_satellites']][:,x],\n",
    "                  cops[selections['By_distance']['MW_satellites']][:,z],\n",
    "                  c='lightblue', s=s)"
   ]
  },
  {
   "cell_type": "code",
   "execution_count": null,
   "metadata": {},
   "outputs": [],
   "source": [
    "# Add annotations:\n",
    "for x, y, axx, axy in zip([0,0,0,0], [1,1,2,2], [0,0,1,1], [0,1,0,1]):\n",
    "    # Plot M31 and circle:\n",
    "    axes[axx, axy].scatter(cop_m31[x], cop_m31[y], c='red', s=s)\n",
    "    x_circ, y_circ = circle(cop_m31[x], cop_m31[y], 0.3, 10000)    \n",
    "    axes[axx, axy].plot(x_circ, y_circ, c='red', linestyle='dashed', linewidth=lw)\n",
    "    \n",
    "    # Plot MW and circle:\n",
    "    axes[axx, axy].scatter(cop_mw[x], cop_mw[y], c='blue', s=s)\n",
    "    x_circ, y_circ = circle(cop_mw[x], cop_mw[y], 0.3, 10000)\n",
    "    axes[axx, axy].plot(x_circ, y_circ, c='blue', linestyle='dashed', linewidth=lw)\n",
    "    \n",
    "    # Plot 2 Mpc circle around LG centre:\n",
    "    x_circ, y_circ = circle(LG_centre[x], LG_centre[y], 2, 10000)\n",
    "    axes[axx, axy].plot(x_circ, y_circ, c='k', linestyle='dashed', linewidth=lw)\n",
    "    \n",
    "fig"
   ]
  },
  {
   "cell_type": "markdown",
   "metadata": {},
   "source": [
    "### Save the Figure"
   ]
  },
  {
   "cell_type": "code",
   "execution_count": null,
   "metadata": {},
   "outputs": [],
   "source": [
    "# Construct saving location:\n",
    "filename = 'Distinction_comparison_{}.png'.format(sim_id)    \n",
    "home = os.path.abspath(os.path.join('..'))\n",
    "path = os.path.join(home,'Figures', 'MediumResolution')\n",
    "filename = os.path.join(path, filename)\n",
    "    \n",
    "fig.savefig(filename, dpi=300)"
   ]
  },
  {
   "cell_type": "code",
   "execution_count": null,
   "metadata": {},
   "outputs": [],
   "source": []
  }
 ],
 "metadata": {
  "kernelspec": {
   "display_name": "Python 3",
   "language": "python",
   "name": "python3"
  },
  "language_info": {
   "codemirror_mode": {
    "name": "ipython",
    "version": 3
   },
   "file_extension": ".py",
   "mimetype": "text/x-python",
   "name": "python",
   "nbconvert_exporter": "python",
   "pygments_lexer": "ipython3"
  }
 },
 "nbformat": 4,
 "nbformat_minor": 4
}
