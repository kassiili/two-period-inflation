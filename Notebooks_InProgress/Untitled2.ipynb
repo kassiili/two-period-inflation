{
 "cells": [
  {
   "cell_type": "markdown",
   "id": "6904ff11-c0c9-4795-986e-8c105fab3c51",
   "metadata": {},
   "source": [
    "## First, imports:"
   ]
  },
  {
   "cell_type": "code",
   "execution_count": null,
   "id": "d0d8fab4-9fe8-454d-9e05-9a90d1e914f4",
   "metadata": {},
   "outputs": [],
   "source": [
    "%load_ext autoreload\n",
    "%autoreload 2\n",
    "\n",
    "%config IPCompleter.greedy=True"
   ]
  },
  {
   "cell_type": "code",
   "execution_count": null,
   "id": "aac4a500-4622-499b-8092-8f6330cd9a2b",
   "metadata": {},
   "outputs": [],
   "source": [
    "import numpy as np\n",
    "import matplotlib.pyplot as plt\n",
    "from scipy.interpolate import interp1d\n",
    "\n",
    "from astropy import units\n",
    "from astropy.cosmology import FlatLambdaCDM, z_at_value"
   ]
  },
  {
   "cell_type": "markdown",
   "id": "9bc78d27-b1f2-4fe6-bb31-7eec3a952fab",
   "metadata": {},
   "source": [
    "Import my library:"
   ]
  },
  {
   "cell_type": "code",
   "execution_count": null,
   "id": "2d2685fc-32eb-4139-a200-e4f8c4acfe05",
   "metadata": {},
   "outputs": [],
   "source": [
    "import os\n",
    "import sys\n",
    "\n",
    "apt_path = os.path.abspath(os.path.join('..', 'apostletools'))\n",
    "sys.path.append(apt_path)\n",
    "\n",
    "import simulation\n",
    "import simtrace\n",
    "import match_halo\n",
    "import dataset_comp"
   ]
  },
  {
   "cell_type": "code",
   "execution_count": null,
   "id": "18ab42e6-dbbb-4155-8a0b-ec74601f337f",
   "metadata": {},
   "outputs": [],
   "source": [
    "import importlib\n",
    "importlib.reload(simulation)\n",
    "importlib.reload(simtrace)\n",
    "importlib.reload(match_halo)\n",
    "importlib.reload(dataset_comp)"
   ]
  },
  {
   "cell_type": "code",
   "execution_count": null,
   "id": "b4bd3fff-aded-4436-b45a-7d30e2357521",
   "metadata": {},
   "outputs": [],
   "source": [
    "snap_id_ref = 127\n",
    "snap_id_z0 = 127"
   ]
  },
  {
   "cell_type": "markdown",
   "id": "59485658-f50c-4a45-bfab-e92466df977b",
   "metadata": {
    "tags": []
   },
   "source": [
    "---\n",
    "\n",
    "### LR Simulations\n",
    "\n",
    "Set the envelope file path, and define the M31 and the MW at redshift $z=0$:"
   ]
  },
  {
   "cell_type": "code",
   "execution_count": null,
   "id": "106f69cd-31ac-4e3c-9088-096f7c1571cc",
   "metadata": {},
   "outputs": [],
   "source": [
    "env_path = os.path.abspath(os.path.join('..', 'test_tracing_inj'))\n",
    "\n",
    "data = {\n",
    "    \"plain-LCDM-LR\": {\n",
    "        \"Simulation\": simulation.Simulation(\"V1_LR_fix\", env_path=env_path),\n",
    "        \"ColorMap\": plt.cm.Blues,\n",
    "        \"Color\": ['black', 'gray'],\n",
    "        \"M31_z0\": (1, 0),\n",
    "        \"MW_z0\": (2, 0)\n",
    "    }\n",
    "}"
   ]
  },
  {
   "cell_type": "code",
   "execution_count": null,
   "id": "328f1f9a-e426-43c9-8a75-e148273f8971",
   "metadata": {},
   "outputs": [],
   "source": [
    "env_path = os.path.abspath(os.path.join('..', 'test_tracing_inj'))\n",
    "\n",
    "data = {\n",
    "    \"curv-p082-LR\": {\n",
    "        \"Simulation\": simulation.Simulation(\"V1_LR_curvaton_p082_fix\", env_path=env_path),\n",
    "        \"ColorMap\": plt.cm.Reds,\n",
    "        \"Color\": ['red', 'pink'],\n",
    "        \"M31_z0\": (1, 0),\n",
    "        \"MW_z0\": (2, 0)\n",
    "    }\n",
    "}"
   ]
  },
  {
   "cell_type": "markdown",
   "id": "4c489065-4a7f-4b19-bfdf-e8a2f5991b64",
   "metadata": {},
   "source": [
    "---\n",
    "\n",
    "## Tracing\n",
    "\n",
    "Set the range of snapshots to be traced:"
   ]
  },
  {
   "cell_type": "code",
   "execution_count": null,
   "id": "9e976bb8-ea4e-4061-84ca-69f959a5593d",
   "metadata": {},
   "outputs": [],
   "source": [
    "snap_start = 100\n",
    "snap_stop = 128\n",
    "snap_ids = np.arange(snap_start, snap_stop)"
   ]
  },
  {
   "cell_type": "markdown",
   "id": "2d3f79f4-8ef8-49e2-bc98-7e3022244805",
   "metadata": {},
   "source": [
    "Link all subhalos in the simulation, create Subhalo objects for all the individual subhalos found, and write pointers to these objects for each snapshot:"
   ]
  },
  {
   "cell_type": "code",
   "execution_count": null,
   "id": "7821250e-7322-4323-ade5-d5416be8cbe7",
   "metadata": {},
   "outputs": [],
   "source": [
    "matcher = match_halo.SnapshotMatcher(n_link_ref=20, n_matches=1)\n",
    "\n",
    "for sim_data in data.values():\n",
    "    sim = sim_data[\"Simulation\"]\n",
    "\n",
    "    # If the simulations are not already linked:\n",
    "    mtree = simtrace.MergerTree(sim, matcher=matcher, branching=\"BackwardBranching\")\n",
    "    mtree.build_tree(snap_start, snap_stop)\n",
    "\n",
    "    # Trace subhalos and get the M31 and the MW Subhalo objects:\n",
    "    sub_dict = sim.trace_subhalos(snap_start, snap_stop)\n",
    "    sim_data[\"Subhalos\"] = sub_dict"
   ]
  },
  {
   "cell_type": "markdown",
   "id": "874284e5-8414-4228-b0f6-14ceeaa2a84d",
   "metadata": {},
   "source": [
    "Get the M31 and the MW halos and compute masking arrays for their satellites (and isolated subhalos) at ´snap_id_ref´:"
   ]
  },
  {
   "cell_type": "code",
   "execution_count": null,
   "id": "2a95e3e7-12c3-4481-86fe-66277af6584c",
   "metadata": {},
   "outputs": [],
   "source": [
    "for sim_data in data.values():\n",
    "    sim = sim_data[\"Simulation\"]\n",
    "    sub_dict = sim_data[\"Subhalos\"]\n",
    "    \n",
    "    # Get the M31 subhalo:\n",
    "    m31_id = sim_data[\"M31_z0\"]\n",
    "    m31 = sub_dict[snap_id_z0][\n",
    "        sim.get_snapshot(snap_id_z0).index_of_halo(m31_id[0], m31_id[1])\n",
    "    ]\n",
    "    sim_data[\"M31\"] = m31 \n",
    "    \n",
    "    # Get the MW subhalo:\n",
    "    mw_id = sim_data[\"MW_z0\"]\n",
    "    mw = sub_dict[snap_id_z0][\n",
    "        sim.get_snapshot(snap_id_z0).index_of_halo(mw_id[0], mw_id[1])\n",
    "    ]\n",
    "    sim_data[\"MW\"] = mw\n",
    "    \n",
    "    # Get masking arrays for satellites (at z=z_ref):\n",
    "    mask_m31, mask_mw, mask_isol = dataset_comp.split_satellites_by_distance(\n",
    "        sim.get_snapshot(snap_id_ref), m31_id, mw_id, sat_r=300, isol_r=2000, comov=True\n",
    "    )\n",
    "    sim_data[\"Ref_Selections\"] = {\"M31_Satellites\": mask_m31,\n",
    "                                  \"MW_Satellites\": mask_mw,\n",
    "                                  \"LG_Satellites\": np.logical_or(mask_m31, mask_mw),\n",
    "                                  \"Isolated\": mask_isol}"
   ]
  },
  {
   "cell_type": "markdown",
   "id": "a396e476-b5de-4dfc-9f7a-a251912d696f",
   "metadata": {
    "tags": []
   },
   "source": [
    "---\n",
    "\n",
    "## Retrieve the Datasets\n",
    "\n",
    "Read all datasets into dictionaries by snapshot:"
   ]
  },
  {
   "cell_type": "code",
   "execution_count": null,
   "id": "3a307130-54fd-4d8e-bf7a-0a56c37a30aa",
   "metadata": {},
   "outputs": [],
   "source": [
    "# Define the cosmology (should be the same for each simulation):\n",
    "for sim_data in data.values():\n",
    "    H0 = sim_data[\"Simulation\"].get_snapshot(snap_stop-1)\\\n",
    "        .get_attribute(\"HubbleParam\", \"Header\")\n",
    "    Om0 = sim_data[\"Simulation\"].get_snapshot(snap_stop-1)\\\n",
    "        .get_attribute(\"Omega0\", \"Header\")\n",
    "#     print(H0, Om0)\n",
    "cosmo = FlatLambdaCDM(H0=100 * H0, Om0=Om0) "
   ]
  },
  {
   "cell_type": "code",
   "execution_count": null,
   "id": "13a9688b-b5cb-415c-b778-b80653fc9d19",
   "metadata": {},
   "outputs": [],
   "source": [
    "sat_low_lim = 10\n",
    "isol_low_lim = 15\n",
    "\n",
    "for sim_data in data.values():\n",
    "    sim = sim_data[\"Simulation\"]\n",
    "    sub_dict = sim_data[\"Subhalos\"]\n",
    "    \n",
    "    # Get snapshot redshifts and the respective lookback times:\n",
    "    redshift = sim.get_attribute(\"Redshift\", \"Header\", snap_ids)\n",
    "    lookback_time = cosmo.age(0).value - np.array([cosmo.age(z).value for z in redshift])\n",
    "    sim_data[\"Redshift\"] = redshift\n",
    "    sim_data[\"LookbackTime\"] = lookback_time\n",
    "    \n",
    "    # Get v_max at snap_ref and at the time of fallin:\n",
    "    vmax_dict = {snap_id: vmax_arr[:, 0] * units.cm.to(units.km) for snap_id, vmax_arr in\n",
    "                 sim.get_subhalos(snap_ids, \"Max_Vcirc\", \"Extended\").items()}\n",
    "    sim_data[\"Vmax\"] = vmax_dict[snap_id_ref]\n",
    "    \n",
    "    fallin_m31, fallin_mw = simtrace.get_fallin_times_lg(\n",
    "        sim, sim_data[\"M31\"], sim_data[\"MW\"], snap_start, snap_stop\n",
    "    )\n",
    "    \n",
    "    vmax_fallin_m31, snap_id_fallin_m31 = dataset_comp.get_subhalos_at_fallin(\n",
    "        sub_dict[snap_id_ref], fallin_m31, vmax_dict\n",
    "    )\n",
    "    \n",
    "    vmax_fallin_mw, snap_id_fallin_mw = dataset_comp.get_subhalos_at_fallin(\n",
    "        sub_dict[snap_id_ref], fallin_mw, vmax_dict\n",
    "    )\n",
    "    \n",
    "    sim_data[\"Vmax_Fallin_M31\"] = vmax_fallin_m31\n",
    "    sim_data[\"Vmax_Fallin_MW\"] = vmax_fallin_mw\n",
    "    sim_data[\"Vmax_Fallin\"] = np.where(~np.isnan(vmax_fallin_m31), \n",
    "                                       vmax_fallin_m31,\n",
    "                                       vmax_fallin_mw)\n",
    "                                       \n",
    "    snap_id_fallin = np.where(~np.isnan(snap_id_fallin_m31),\n",
    "                              snap_id_fallin_m31,\n",
    "                              snap_id_fallin_mw)\n",
    "    inds = np.searchsorted(snap_ids, snap_id_fallin)\n",
    "    inds[inds == snap_ids.size] = -1\n",
    "    sim_data[\"Time_Fallin\"] = np.where(inds != -1, lookback_time[inds], np.nan)\n",
    "    \n",
    "    # Get subhalo formation times:\n",
    "    sim_data[\"Time_Formation\"] = simtrace.creation_times(sub_dict)[snap_id_ref]\n",
    "    \n",
    "    # Masking arrays for subhalos at snap_ref:\n",
    "    snap_ref = sim.get_snapshot(snap_id_ref)\n",
    "    mask_lum, mask_dark = dataset_comp.split_luminous(snap_ref)\n",
    "    sim_data[\"Ref_Selections\"].update({\n",
    "        \"Vmax_Sat\": dataset_comp.prune_vmax(snap_ref, low_lim=sat_low_lim),\n",
    "        \"Vmax_Isol\": dataset_comp.prune_vmax(snap_ref, low_lim=isol_low_lim),\n",
    "        \"Luminous\": mask_lum,\n",
    "        \"Dark\": mask_dark\n",
    "    })"
   ]
  },
  {
   "cell_type": "code",
   "execution_count": null,
   "id": "cd50d5c3-92e8-4441-9a9b-34bdec9d6e0a",
   "metadata": {},
   "outputs": [],
   "source": []
  },
  {
   "cell_type": "code",
   "execution_count": null,
   "id": "13cbb6f0-9aea-4b82-b1e2-3c4624749f35",
   "metadata": {},
   "outputs": [],
   "source": [
    "fig, ax = plt.subplots()\n",
    "\n",
    "sim_name, sim_data = list(data.items())[0]\n",
    "\n",
    "mask = sim_data[\"Ref_Selections\"][\"Isolated\"]\n",
    "ax.scatter(sim_data[\"Time_Formation\"][mask], sim_data[\"Vmax\"][mask])"
   ]
  },
  {
   "cell_type": "markdown",
   "id": "bc9daab4-86ea-4d35-8829-5f70f1d86d92",
   "metadata": {},
   "source": [
    "Trace back further (need more data)?"
   ]
  },
  {
   "cell_type": "code",
   "execution_count": null,
   "id": "226253e3-dae7-4ecd-929b-7626c81d60e2",
   "metadata": {},
   "outputs": [],
   "source": []
  }
 ],
 "metadata": {
  "kernelspec": {
   "display_name": "Python 3",
   "language": "python",
   "name": "python3"
  },
  "language_info": {
   "codemirror_mode": {
    "name": "ipython",
    "version": 3
   },
   "file_extension": ".py",
   "mimetype": "text/x-python",
   "name": "python",
   "nbconvert_exporter": "python",
   "pygments_lexer": "ipython3"
  }
 },
 "nbformat": 4,
 "nbformat_minor": 5
}
