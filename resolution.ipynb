{
 "cells": [
  {
   "cell_type": "code",
   "execution_count": null,
   "metadata": {},
   "outputs": [],
   "source": [
    "%load_ext autoreload\n",
    "%autoreload 2\n",
    "\n",
    "%config IPCompleter.greedy=True"
   ]
  },
  {
   "cell_type": "code",
   "execution_count": null,
   "metadata": {},
   "outputs": [],
   "source": [
    "import numpy as np\n",
    "import h5py\n",
    "from astropy import units\n",
    "\n",
    "import snapshot_obj\n",
    "\n",
    "import importlib"
   ]
  },
  {
   "cell_type": "code",
   "execution_count": null,
   "metadata": {},
   "outputs": [],
   "source": [
    "importlib.reload(snapshot_obj)"
   ]
  },
  {
   "cell_type": "markdown",
   "metadata": {},
   "source": [
    "# Read units"
   ]
  },
  {
   "cell_type": "code",
   "execution_count": null,
   "metadata": {},
   "outputs": [],
   "source": [
    "snap = snapshot_obj.Snapshot(\"V1_LR_fix\", 127)\n",
    "with h5py.File(snap.part_file, 'r') as f:\n",
    "    for key,val in f['link1/Units'].attrs.items():\n",
    "        print(\"{:25} {}\".format(key, val))"
   ]
  },
  {
   "cell_type": "markdown",
   "metadata": {},
   "source": [
    "# Mass resolution"
   ]
  },
  {
   "cell_type": "markdown",
   "metadata": {},
   "source": [
    "## Low resolution run:"
   ]
  },
  {
   "cell_type": "code",
   "execution_count": null,
   "metadata": {},
   "outputs": [],
   "source": [
    "snap_id = 127\n",
    "lcdm = snapshot_obj.Snapshot(\"V1_LR_fix\", snap_id)\n",
    "p082 = snapshot_obj.Snapshot(\"V1_LR_curvaton_p082_fix\", snap_id)\n",
    "p084 = snapshot_obj.Snapshot(\"V1_LR_curvaton_p084_fix\", snap_id)"
   ]
  },
  {
   "cell_type": "markdown",
   "metadata": {},
   "source": [
    "Gas particle masses have values in the following range:"
   ]
  },
  {
   "cell_type": "code",
   "execution_count": null,
   "metadata": {},
   "outputs": [],
   "source": [
    "print(\"min      max      mean     median\")\n",
    "for snap in [lcdm, p082, p084]:\n",
    "    masses = snap.get_particle_masses(part_type=[0]) * units.g.to(units.Msun)\n",
    "    print(\"{:.2E} {:.2E} {:.2E} {:.2E}\".format(\n",
    "        np.min(masses), np.max(masses), np.mean(masses), np.median(masses)))"
   ]
  },
  {
   "cell_type": "markdown",
   "metadata": {},
   "source": [
    "Dark matter particle masses have values in the following range:"
   ]
  },
  {
   "cell_type": "code",
   "execution_count": null,
   "metadata": {},
   "outputs": [],
   "source": [
    "print(\"min      max      mean     median\")\n",
    "for snap in [lcdm, p082, p084]:\n",
    "    masses = snap.get_particle_masses(part_type=[1]) * units.g.to(units.Msun)\n",
    "    print(\"{:.2E} {:.2E} {:.2E} {:.2E}\".format(\n",
    "        np.min(masses), np.max(masses), np.mean(masses), np.median(masses)))"
   ]
  },
  {
   "cell_type": "markdown",
   "metadata": {},
   "source": [
    "Star particle masses have values in the following range:"
   ]
  },
  {
   "cell_type": "code",
   "execution_count": null,
   "metadata": {},
   "outputs": [],
   "source": [
    "print(\"min      max      mean     median\")\n",
    "for snap in [lcdm, p082, p084]:\n",
    "    masses = snap.get_particle_masses(part_type=[4]) * units.g.to(units.Msun)\n",
    "    print(\"{:.2E} {:.2E} {:.2E} {:.2E}\".format(\n",
    "        np.min(masses), np.max(masses), np.mean(masses), np.median(masses)))"
   ]
  },
  {
   "cell_type": "markdown",
   "metadata": {},
   "source": [
    "Number of particles in the simulation:"
   ]
  },
  {
   "cell_type": "code",
   "execution_count": null,
   "metadata": {},
   "outputs": [],
   "source": [
    "print(lcdm.get_attribute('NumPart_Total', 'Header'))"
   ]
  },
  {
   "cell_type": "markdown",
   "metadata": {},
   "source": [
    "## Medium resolution run:"
   ]
  },
  {
   "cell_type": "code",
   "execution_count": null,
   "metadata": {},
   "outputs": [],
   "source": [
    "snap_id = 126\n",
    "lcdm = snapshot_obj.Snapshot(\"V1_MR_fix\", snap_id)\n",
    "p082 = snapshot_obj.Snapshot(\"V1_MR_curvaton_p082_fix\", snap_id)"
   ]
  },
  {
   "cell_type": "markdown",
   "metadata": {},
   "source": [
    "Gas particle masses have values in the following range:"
   ]
  },
  {
   "cell_type": "code",
   "execution_count": null,
   "metadata": {},
   "outputs": [],
   "source": [
    "print(\"min      max      mean     median\")\n",
    "for snap in [lcdm, p082]:\n",
    "    masses = snap.get_particle_masses(part_type=[0]) * units.g.to(units.Msun)\n",
    "    print(\"{:.2E} {:.2E} {:.2E} {:.2E}\".format(\n",
    "        np.min(masses), np.max(masses), np.mean(masses), np.median(masses)))"
   ]
  },
  {
   "cell_type": "markdown",
   "metadata": {},
   "source": [
    "Dark matter particle masses have values in the following range:"
   ]
  },
  {
   "cell_type": "code",
   "execution_count": null,
   "metadata": {},
   "outputs": [],
   "source": [
    "print(\"min      max      mean     median\")\n",
    "for snap in [lcdm, p082]:\n",
    "    masses = snap.get_particle_masses(part_type=[1]) * units.g.to(units.Msun)\n",
    "    print(\"{:.2E} {:.2E} {:.2E} {:.2E}\".format(\n",
    "        np.min(masses), np.max(masses), np.mean(masses), np.median(masses)))"
   ]
  },
  {
   "cell_type": "markdown",
   "metadata": {},
   "source": [
    "Star particle masses have values in the following range:"
   ]
  },
  {
   "cell_type": "code",
   "execution_count": null,
   "metadata": {},
   "outputs": [],
   "source": [
    "print(\"min      max      mean     median\")\n",
    "for snap in [lcdm, p082]:\n",
    "    masses = snap.get_particle_masses(part_type=[4]) * units.g.to(units.Msun)\n",
    "    print(\"{:.2E} {:.2E} {:.2E} {:.2E}\".format(\n",
    "        np.min(masses), np.max(masses), np.mean(masses), np.median(masses)))"
   ]
  },
  {
   "cell_type": "markdown",
   "metadata": {},
   "source": [
    "Number of particles in the simulation:"
   ]
  },
  {
   "cell_type": "code",
   "execution_count": null,
   "metadata": {},
   "outputs": [],
   "source": [
    "for snap in [lcdm, p082]:\n",
    "    print(snap.get_attribute('NumPart_Total', 'Header'))"
   ]
  },
  {
   "cell_type": "code",
   "execution_count": null,
   "metadata": {},
   "outputs": [],
   "source": []
  }
 ],
 "metadata": {
  "kernelspec": {
   "display_name": "Python 3",
   "language": "python",
   "name": "python3"
  },
  "language_info": {
   "codemirror_mode": {
    "name": "ipython",
    "version": 3
   },
   "file_extension": ".py",
   "mimetype": "text/x-python",
   "name": "python",
   "nbconvert_exporter": "python",
   "pygments_lexer": "ipython3"
  }
 },
 "nbformat": 4,
 "nbformat_minor": 4
}
