{
 "cells": [
  {
   "cell_type": "code",
   "execution_count": null,
   "metadata": {},
   "outputs": [],
   "source": [
    "%load_ext autoreload\n",
    "%autoreload 2\n",
    "\n",
    "%config IPCompleter.greedy=True"
   ]
  },
  {
   "cell_type": "code",
   "execution_count": null,
   "metadata": {},
   "outputs": [],
   "source": [
    "import matplotlib.pyplot as plt\n",
    "import numpy as np\n",
    "import h5py\n",
    "from astropy import units\n",
    "from pathlib import Path\n",
    "import os\n",
    "import time\n",
    "from astropy import cosmology\n",
    "\n",
    "import snapshot_obj\n",
    "import dataset_compute\n",
    "import curve_fit\n",
    "\n",
    "import importlib"
   ]
  },
  {
   "cell_type": "code",
   "execution_count": null,
   "metadata": {},
   "outputs": [],
   "source": [
    "importlib.reload(snapshot_obj)\n",
    "importlib.reload(dataset_compute)\n",
    "importlib.reload(curve_fit)"
   ]
  },
  {
   "cell_type": "markdown",
   "metadata": {},
   "source": [
    "# Subhalo stellar ages"
   ]
  },
  {
   "cell_type": "markdown",
   "metadata": {},
   "source": [
    "## Construct data dictionary\n",
    "\n",
    "Add entries for each simulation, and specify M31 and MW galaxies:"
   ]
  },
  {
   "cell_type": "code",
   "execution_count": null,
   "metadata": {
    "code_folding": []
   },
   "outputs": [],
   "source": [
    "snap_id = 127\n",
    "sim_ids = [\"V1_LR_fix\", \"V1_LR_curvaton_p082_fix\", \"V1_LR_curvaton_p084_fix\"]\n",
    "names = [\"LCDM\", \"p082\", \"p084\"]\n",
    "paths = [\"\", \"/media/kassiili/USBFREE/LG_simulations\", \n",
    "        \"/media/kassiili/USBFREE/LG_simulations\"]\n",
    "#paths = [\"\", \"\", \"\"]\n",
    "\n",
    "# Define M31 and MW in each simulation:\n",
    "m31 = [(1,0), (1,0), (1,0)]\n",
    "mw = [(2,0), (1,1), (1,1)]"
   ]
  },
  {
   "cell_type": "code",
   "execution_count": null,
   "metadata": {
    "code_folding": []
   },
   "outputs": [],
   "source": [
    "snap_id = 126\n",
    "sim_ids = [\"V1_MR_fix\", \"V1_MR_curvaton_p082_fix\"]\n",
    "names = [\"LCDM\", \"p082\"]\n",
    "paths = [\"\", \"\"]\n",
    "\n",
    "# Define M31 and MW in each simulation:\n",
    "m31 = [(1,0), (1,0)]\n",
    "mw = [(2,0), (1,1)]"
   ]
  },
  {
   "cell_type": "code",
   "execution_count": null,
   "metadata": {
    "code_folding": []
   },
   "outputs": [],
   "source": [
    "snap_id = 127\n",
    "sim_ids = [\"V1_LR_fix\", \"V1_LR_curvaton_p082_fix\"]\n",
    "names = [\"LCDM\", \"p082\"]\n",
    "paths = [\"\", \"\"]\n",
    "\n",
    "# Define M31 and MW in each simulation:\n",
    "m31 = [(1,0), (1,0)]\n",
    "mw = [(2,0), (1,1)]"
   ]
  },
  {
   "cell_type": "code",
   "execution_count": null,
   "metadata": {
    "code_folding": []
   },
   "outputs": [],
   "source": [
    "data = {}\n",
    "for name, sim_id, sim_path, m31_ns, mw_ns in zip(names, sim_ids, paths, m31, mw):\n",
    "    data[name] = {\"snapshot\": snapshot_obj.Snapshot(sim_id, snap_id, name=name,\n",
    "                                                    sim_path=sim_path),\n",
    "                  \"M31_identifier\": m31_ns,\n",
    "                  \"MW_identifier\": mw_ns}"
   ]
  },
  {
   "cell_type": "markdown",
   "metadata": {},
   "source": [
    "Choose how to distinguish between satellite and isolated galaxies:"
   ]
  },
  {
   "cell_type": "code",
   "execution_count": null,
   "metadata": {},
   "outputs": [],
   "source": [
    "distinction = \"by_gn\"\n",
    "vmax_down_lim = [20,30]\n",
    "vmax_up_lim = [30, 10**5]"
   ]
  },
  {
   "cell_type": "code",
   "execution_count": null,
   "metadata": {},
   "outputs": [],
   "source": [
    "for name, sim_data in data.items():\n",
    "    snap = sim_data[\"snapshot\"]\n",
    "    sf_times = snap.get_subhalos(\"InitialMassWeightedStellarAge\") * units.s.to(units.Gyr)\n",
    "           \n",
    "    # Split into satellites:\n",
    "    if distinction == \"by_r\":\n",
    "        masks_sat, mask_isol = dataset_compute.split_satellites_by_distance(\n",
    "            snap, sim_data[\"M31_identifier\"], sim_data[\"MW_identifier\"])\n",
    "    elif distinction == \"by_gn\":\n",
    "        masks_sat, mask_isol = dataset_compute.split_satellites_by_group_number(\n",
    "            snap, sim_data[\"M31_identifier\"], sim_data[\"MW_identifier\"])\n",
    "        \n",
    "    mask_lum, mask_dark = dataset_compute.split_luminous(snap)\n",
    "    mask_vmax = [dataset_compute.prune_vmax(snap, low_lim=down, up_lim=up) \n",
    "                 for down, up in zip(vmax_down_lim, vmax_up_lim)]\n",
    "    print(\"{} satellite galaxies: {}\".format(\n",
    "        name, np.sum(np.logical_and(np.logical_or.reduce(masks_sat), mask_lum))\n",
    "    ))\n",
    "    \n",
    "    print(\"{} isolated galaxies: {}\".format(\n",
    "        name, np.sum(np.logical_and(mask_isol, mask_lum))\n",
    "    ))\n",
    "    \n",
    "    # Add separate datasets for each subhalo to the data dictionary:\n",
    "    data[name] = \\\n",
    "    {\"StellarAge\": \\\n",
    "     {\"satellites\": [sf_times[np.logical_and.reduce(\n",
    "        [np.logical_or.reduce(masks_sat), mask_lum, mask]\n",
    "      )] for mask in mask_vmax],\n",
    "      \"isolated\": [sf_times[np.logical_and.reduce(\n",
    "          [mask_isol, mask_lum, mask]\n",
    "      )] for mask in mask_vmax]\n",
    "     }\n",
    "    }\n"
   ]
  },
  {
   "cell_type": "markdown",
   "metadata": {},
   "source": [
    "## Plot"
   ]
  },
  {
   "cell_type": "code",
   "execution_count": null,
   "metadata": {},
   "outputs": [],
   "source": [
    "cols = [\"grey\", \"pink\", \"lightblue\"]\n",
    "cols = [\"grey\", \"pink\"]"
   ]
  },
  {
   "cell_type": "code",
   "execution_count": null,
   "metadata": {},
   "outputs": [],
   "source": [
    "# Construct saving location:\n",
    "filename = 'stellar_age_{}'.format(distinction)\n",
    "for name in names:\n",
    "    filename += \"_{}\".format(name)\n",
    "filename += \".png\"\n",
    "    \n",
    "home = os.path.dirname(snapshot_obj.__file__)\n",
    "path = os.path.join(home,\"Figures\", \"LowResolution\")\n",
    "filename = os.path.join(path, filename)"
   ]
  },
  {
   "cell_type": "code",
   "execution_count": null,
   "metadata": {},
   "outputs": [],
   "source": [
    "fig, axes = plt.subplots(ncols=2, figsize=(14,6))\n",
    "plt.subplots_adjust(wspace=0.3)\n",
    "\n",
    "fig.suptitle(\"Mean initial mass weighted stellar ages\")\n",
    "\n",
    "# Set axis:\n",
    "for ax in axes:  \n",
    "    ax.set_xlabel('$Age [\\mathrm{Gyr}]$', fontsize=16)\n",
    "    ax.set_ylabel('fraction', fontsize=16)\n",
    "\n",
    "axes[0].set_title('Satellite galaxies')\n",
    "axes[1].set_title('Isolated galaxies')\n",
    "\n",
    "\n",
    "# Set bins:\n",
    "bin_width = 2\n",
    "bins = np.arange(0, 16, bin_width)\n",
    "\n",
    "# Iterate over simulations:\n",
    "for i, (name, sim_data) in enumerate(data.items()):\n",
    "    \n",
    "    # Plot satellites:\n",
    "    sf_times = sim_data[\"StellarAge\"][\"satellites\"]\n",
    "    labels = [\"${} \\mathrm{{km/s}} < v_\\mathrm{{max}} < {} \\mathrm{{km/s}}$\"\\\n",
    "              .format(down, up) if up < 10**5 else \n",
    "              \"${} \\mathrm{{km/s}} < v_\\mathrm{{max}}$\".format(down)\n",
    "              for down, up in zip(vmax_down_lim, vmax_up_lim)]\n",
    "    line_styles = ['-', '--']\n",
    "    \n",
    "    # Iterate over v_max selections:\n",
    "    for sft, label, lstyle in zip(sf_times, labels, line_styles):\n",
    "        n_subhalos = sft.size\n",
    "        label = \"{} ({}): \".format(name, n_subhalos) + label\n",
    "    \n",
    "        y, bin_edges = np.histogram(sft, bins, density=True)\n",
    "        y = y * bin_width\n",
    "        x = [(bin_edges[i] + bin_edges[i + 1]) / 2 for i in range(bin_edges.size - 1)]\n",
    "        axes[0].plot(x, y, c=cols[i], label=label, linestyle=lstyle)\n",
    "    \n",
    "    # Plot isolated:\n",
    "    sf_times = sim_data[\"StellarAge\"][\"isolated\"]\n",
    "    labels = [\"${} \\mathrm{{km/s}} < v_\\mathrm{{max}} < {} \\mathrm{{km/s}}$\"\\\n",
    "              .format(down, up) if up < 10**5 else \n",
    "              \"${} \\mathrm{{km/s}} < v_\\mathrm{{max}}$\".format(down)\n",
    "              for down, up in zip(vmax_down_lim, vmax_up_lim)]\n",
    "    line_styles = ['-', '--']\n",
    "    \n",
    "    # Iterate over v_max selections:\n",
    "    for sft, label, lstyle in zip(sf_times, labels, line_styles):\n",
    "        n_subhalos = sft.size\n",
    "        label = \"{} ({}): \".format(name, n_subhalos) + label\n",
    "    \n",
    "        y, bin_edges = np.histogram(sft, bins, density=True)\n",
    "        y = y * bin_width\n",
    "        x = [(bin_edges[i] + bin_edges[i + 1]) / 2 for i in range(bin_edges.size - 1)]\n",
    "        axes[1].plot(x, y, c=cols[i], label=label, linestyle=lstyle)\n",
    "\n",
    "axes[0].legend(loc=\"upper left\")\n",
    "axes[1].legend(loc=\"upper left\")\n",
    "\n",
    "\n",
    "#plt.savefig(filename, dpi=200)"
   ]
  },
  {
   "cell_type": "code",
   "execution_count": null,
   "metadata": {},
   "outputs": [],
   "source": [
    "# Add twin axis with fractions (only works with one dataset):\n",
    "# n_subhalos = sf_times[0].size\n",
    "# print(np.sum(y / n_subhalos))\n",
    "# ydown, yup = axes[0].get_ylim()\n",
    "# ydown = ydown / n_subhalos\n",
    "# yup = yup / n_subhalos\n",
    "# yticks = axes[0].get_yticks()[1:-1] / n_subhalos\n",
    "# print([str(t) for t in yticks])\n",
    "# twinx = axes[0].twinx()\n",
    "# twinx.set_ylim(ydown, yup)\n",
    "# twinx.set_yticks(yticks)"
   ]
  },
  {
   "cell_type": "code",
   "execution_count": null,
   "metadata": {},
   "outputs": [],
   "source": []
  },
  {
   "cell_type": "code",
   "execution_count": null,
   "metadata": {},
   "outputs": [],
   "source": []
  }
 ],
 "metadata": {
  "kernelspec": {
   "display_name": "Python 3",
   "language": "python",
   "name": "python3"
  },
  "language_info": {
   "codemirror_mode": {
    "name": "ipython",
    "version": 3
   },
   "file_extension": ".py",
   "mimetype": "text/x-python",
   "name": "python",
   "nbconvert_exporter": "python",
   "pygments_lexer": "ipython3"
  }
 },
 "nbformat": 4,
 "nbformat_minor": 4
}
