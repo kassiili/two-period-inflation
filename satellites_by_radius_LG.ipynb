{
 "cells": [
  {
   "cell_type": "code",
   "execution_count": null,
   "metadata": {},
   "outputs": [],
   "source": [
    "%load_ext autoreload\n",
    "%autoreload 2\n",
    "\n",
    "%config IPCompleter.greedy=True"
   ]
  },
  {
   "cell_type": "code",
   "execution_count": null,
   "metadata": {},
   "outputs": [],
   "source": [
    "import numpy as np\n",
    "from astropy import units\n",
    "import os\n",
    "import astropy.units as u\n",
    "import matplotlib.pyplot as plt\n",
    "\n",
    "import snapshot_obj\n",
    "import dataset_compute\n",
    "\n",
    "import importlib"
   ]
  },
  {
   "cell_type": "code",
   "execution_count": null,
   "metadata": {},
   "outputs": [],
   "source": [
    "importlib.reload(snapshot_obj)\n",
    "importlib.reload(dataset_compute)"
   ]
  },
  {
   "cell_type": "markdown",
   "metadata": {},
   "source": [
    "# Radial distribution of satellites in the Local Group\n",
    "\n",
    "Count the accumulation of satellites with radius from the centres of potential of the MW and M31 galaxies **together**."
   ]
  },
  {
   "cell_type": "markdown",
   "metadata": {},
   "source": [
    "Create a dictionary of the datasets from each simulation. "
   ]
  },
  {
   "cell_type": "code",
   "execution_count": null,
   "metadata": {
    "code_folding": []
   },
   "outputs": [],
   "source": [
    "snap_id = 127\n",
    "sim_ids = [\"V1_LR_fix\", \"V1_LR_curvaton_p082_fix\", \"V1_LR_curvaton_p084_fix\"]\n",
    "names = [\"LCDM\", \"p082\", \"p084\"]\n",
    "\n",
    "# Define M31 and MW in each simulation:\n",
    "m31 = [(1,0), (1,0), (1,0)]\n",
    "mw = [(2,0), (1,1), (1,0)]"
   ]
  },
  {
   "cell_type": "code",
   "execution_count": null,
   "metadata": {
    "code_folding": []
   },
   "outputs": [],
   "source": [
    "snap_id = 126\n",
    "sim_ids = [\"V1_MR_fix\", \"V1_MR_curvaton_p082_fix\"]\n",
    "names = [\"LCDM\", \"p082\"]\n",
    "\n",
    "# Define M31 and MW in each simulation:\n",
    "m31 = [(1,0), (1,0)]\n",
    "mw = [(2,0), (1,1)]"
   ]
  },
  {
   "cell_type": "code",
   "execution_count": null,
   "metadata": {
    "code_folding": []
   },
   "outputs": [],
   "source": [
    "data = {}\n",
    "for name, sim_id, m31_ns, mw_ns in zip(names, sim_ids, m31, mw):\n",
    "    data[name] = {\"snapshot\": snapshot_obj.Snapshot(sim_id, snap_id, name=name),\n",
    "                  \"M31_identifier\": m31_ns,\n",
    "                  \"MW_identifier\": mw_ns}"
   ]
  },
  {
   "cell_type": "markdown",
   "metadata": {},
   "source": [
    "## Get data for plotting"
   ]
  },
  {
   "cell_type": "markdown",
   "metadata": {},
   "source": [
    "Choose how to distinguish between satellites and isolated:"
   ]
  },
  {
   "cell_type": "code",
   "execution_count": null,
   "metadata": {},
   "outputs": [],
   "source": [
    "distinction = \"by_r\""
   ]
  },
  {
   "cell_type": "markdown",
   "metadata": {},
   "source": [
    "Read the datasets from each simulation, convert the units and split into satellites/isolated and luminous/dark:"
   ]
  },
  {
   "cell_type": "code",
   "execution_count": null,
   "metadata": {},
   "outputs": [],
   "source": [
    "def arrange_radius_array(r):\n",
    "    r = r * units.cm.to(units.kpc)\n",
    "    r = np.concatenate((np.sort(r), np.array([10000]))) \n",
    "    return r\n",
    "\n",
    "def construct_count_array(size):\n",
    "    return np.concatenate((np.arange(1, size+1), \n",
    "                           np.array([size])))"
   ]
  },
  {
   "cell_type": "code",
   "execution_count": null,
   "metadata": {
    "code_folding": []
   },
   "outputs": [],
   "source": [
    "for key, sim_data in data.items():    \n",
    "    # Get data:\n",
    "    snap = sim_data[\"snapshot\"]\n",
    "    cops = snap.get_subhalos(\"CentreOfPotential\")\n",
    "    \n",
    "    # Compute masking arrays:\n",
    "    mask_lum, mask_dark = dataset_compute.split_luminous(snap)\n",
    "    mask_nonzero_vmax = dataset_compute.prune_vmax(snap)\n",
    "    if distinction == \"by_r\":\n",
    "        masks_sat, mask_isol = dataset_compute.split_satellites_by_distance(\n",
    "            snap, sim_data[\"M31_identifier\"], sim_data[\"MW_identifier\"])\n",
    "    elif distinction == \"by_gn\":\n",
    "        masks_sat, mask_isol = dataset_compute.split_satellites_by_group_number(\n",
    "            snap, sim_data[\"M31_identifier\"], sim_data[\"MW_identifier\"])\n",
    "    \n",
    "    mask_m31_lum = np.logical_and.reduce([masks_sat[0], mask_lum, mask_nonzero_vmax])\n",
    "    mask_m31_dark = np.logical_and.reduce([masks_sat[0], mask_dark, mask_nonzero_vmax])\n",
    "    mask_mw_lum = np.logical_and.reduce([masks_sat[1], mask_lum, mask_nonzero_vmax])\n",
    "    mask_mw_dark = np.logical_and.reduce([masks_sat[1], mask_dark, mask_nonzero_vmax])\n",
    "    mask_isol_lum = np.logical_and.reduce([mask_isol, mask_lum, mask_nonzero_vmax])\n",
    "    mask_isol_dark = np.logical_and.reduce([mask_isol, mask_dark, mask_nonzero_vmax])\n",
    "    \n",
    "    # In case M31 and MW are identified as the same halo, remove intersection:\n",
    "    mask_mw_lum = np.logical_and(mask_mw_lum, np.logical_not(mask_m31_lum))\n",
    "    mask_mw_dark = np.logical_and(mask_mw_dark, np.logical_not(mask_m31_dark))\n",
    "   \n",
    "    # Compute distances to M31 and MW:\n",
    "    m31_cop = cops[snap.index_of_halo(sim_data[\"M31_identifier\"][0],\n",
    "                                      sim_data[\"M31_identifier\"][1])]\n",
    "    dist_to_m31 = dataset_compute.distance_to_point(snap, m31_cop)\n",
    "    mw_cop = cops[snap.index_of_halo(sim_data[\"MW_identifier\"][0],\n",
    "                                     sim_data[\"MW_identifier\"][1])]\n",
    "    dist_to_mw = dataset_compute.distance_to_point(snap, mw_cop)\n",
    "\n",
    "    # ... and add satellites to the data dictionary:\n",
    "    sat_dist_lum = arrange_radius_array(\n",
    "        np.concatenate([dist_to_m31[mask_m31_lum], dist_to_mw[mask_mw_lum]]))\n",
    "    sat_dist_dark = arrange_radius_array(\n",
    "        np.concatenate([dist_to_m31[mask_m31_dark], dist_to_mw[mask_mw_dark]]))\n",
    "    idx = np.arange(sat_dist_lum.size)\n",
    "    \n",
    "    sim_data[\"satellites\"] = \\\n",
    "    {\"radius\": {\"luminous\": sat_dist_lum,\n",
    "                \"dark\": sat_dist_dark\n",
    "               },\n",
    "     \"sat_count\": {\"luminous\": construct_count_array(\n",
    "         np.sum(np.logical_or(mask_m31_lum, mask_mw_lum))),\n",
    "                   \"dark\": construct_count_array(\n",
    "         np.sum(np.logical_or(mask_m31_dark, mask_mw_dark)))\n",
    "                  }\n",
    "    }\n",
    "    \n",
    "    # Compute distances to LG centre:\n",
    "    lg_centre = dataset_compute.compute_LG_centre(snap,\n",
    "                                                  sim_data[\"M31_identifier\"],\n",
    "                                                  sim_data[\"MW_identifier\"])\n",
    "    dist_to_lg = dataset_compute.distance_to_point(snap, lg_centre)\n",
    "\n",
    "    # ... and add isolated galaxies to the data dictionary:\n",
    "    isol_dist_lum = arrange_radius_array(dist_to_lg[mask_isol_lum])\n",
    "    isol_dist_dark = arrange_radius_array(dist_to_lg[mask_isol_dark])\n",
    "    \n",
    "    sim_data[\"isolated\"] = \\\n",
    "    {\"radius\": {\"luminous\": isol_dist_lum,\n",
    "                \"dark\": isol_dist_dark\n",
    "               },\n",
    "     \"sat_count\": {\"luminous\": construct_count_array(np.sum(mask_isol_lum)),\n",
    "                   \"dark\": construct_count_array(np.sum(mask_isol_dark))\n",
    "                  }\n",
    "    }\n"
   ]
  },
  {
   "cell_type": "markdown",
   "metadata": {},
   "source": [
    "## Plot"
   ]
  },
  {
   "cell_type": "code",
   "execution_count": null,
   "metadata": {},
   "outputs": [],
   "source": [
    "# Set some parameters:\n",
    "x_down_sat = 0; x_up_sat = 400\n",
    "y_down_sat = 1; y_up_sat = 500\n",
    "\n",
    "x_down_isol = 0; x_up_isol = 2100\n",
    "y_down_isol = 1; y_up_isol = 500\n",
    "\n",
    "# Set colors:\n",
    "color = [\"black\", \"red\", \"blue\", \"green\"]"
   ]
  },
  {
   "cell_type": "code",
   "execution_count": null,
   "metadata": {},
   "outputs": [],
   "source": [
    "# Set some parameters:\n",
    "x_down_sat = 0; x_up_sat = 400\n",
    "y_down_sat = 1; y_up_sat = 5000\n",
    "\n",
    "x_down_isol = 0; x_up_isol = 2100\n",
    "y_down_isol = 1; y_up_isol = 10000\n",
    "\n",
    "# Set colors:\n",
    "color = [\"black\", \"red\", \"blue\", \"green\"]"
   ]
  },
  {
   "cell_type": "code",
   "execution_count": null,
   "metadata": {},
   "outputs": [],
   "source": [
    "# Construct saving location:\n",
    "filename = 'sat_and_isol_r_dist_{}'.format(distinction)\n",
    "for name in names:\n",
    "    filename += \"_{}\".format(name)\n",
    "filename += \".png\"\n",
    "    \n",
    "home = os.path.dirname(snapshot_obj.__file__)\n",
    "path = os.path.join(home,\"Figures\", \"MediumResolution\", \"CumulativeDistributions\")\n",
    "filename = os.path.join(path, filename)"
   ]
  },
  {
   "cell_type": "code",
   "execution_count": null,
   "metadata": {},
   "outputs": [],
   "source": [
    "fig, axes = plt.subplots(ncols=2, figsize=(14,6))\n",
    "plt.subplots_adjust(wspace=0.3)\n",
    "\n",
    "# Set axis for satellites:\n",
    "axes[0].set_xlim(x_down_sat, x_up_sat)\n",
    "axes[0].set_ylim(y_down_sat, y_up_sat)\n",
    "axes[0].set_xlabel('$r_\\mathrm{central}[\\mathrm{kpc}]$', fontsize=16)\n",
    "axes[0].set_ylabel('$N(<r_\\mathrm{central})$', fontsize=16)\n",
    "axes[0].set_yscale('log')\n",
    "axes[0].yaxis.set_ticks_position(\"both\")\n",
    "\n",
    "# Set axis for isolated galaxies:\n",
    "axes[1].set_xlim(x_down_isol, x_up_isol)\n",
    "axes[1].set_ylim(y_down_isol, y_up_isol)\n",
    "axes[1].set_xlabel('$r_\\mathrm{LG}}[\\mathrm{kpc}]$', fontsize=16)\n",
    "axes[1].set_ylabel('$N(<r_\\mathrm{LG})$', fontsize=16)\n",
    "axes[1].set_yscale('log')\n",
    "axes[1].yaxis.set_ticks_position(\"both\")\n",
    "    \n",
    "axes[0].set_title('Satellite galaxies')\n",
    "axes[1].set_title('Isolated galaxies')\n",
    "\n",
    "# Add scatter plots:\n",
    "for i, (name, entry) in enumerate(data.items()):\n",
    "    x = entry['satellites']['radius']['luminous']\n",
    "    y = entry['satellites']['sat_count']['luminous']\n",
    "    axes[0].plot(x, y, c=color[i], label='{} luminous'.format(name))\n",
    "    x = entry['satellites']['radius']['dark']\n",
    "    y = entry['satellites']['sat_count']['dark']\n",
    "    axes[0].plot(x, y, c=color[i], linestyle='--', label='{} dark'.format(name))\n",
    "    \n",
    "    x = entry['isolated']['radius']['luminous']\n",
    "    y = entry['isolated']['sat_count']['luminous']\n",
    "    axes[1].plot(x, y, c=color[i], label='{} luminous'.format(name))\n",
    "    x = entry['isolated']['radius']['dark']\n",
    "    y = entry['isolated']['sat_count']['dark']\n",
    "    axes[1].plot(x, y, c=color[i], linestyle='--', label='{} dark'.format(name))\n",
    "\n",
    "axes[0].legend(loc='upper right')\n",
    "plt.tight_layout()\n",
    "\n",
    "plt.savefig(filename, dpi=200)"
   ]
  },
  {
   "cell_type": "code",
   "execution_count": null,
   "metadata": {},
   "outputs": [],
   "source": []
  }
 ],
 "metadata": {
  "kernelspec": {
   "display_name": "Python 3",
   "language": "python",
   "name": "python3"
  },
  "language_info": {
   "codemirror_mode": {
    "name": "ipython",
    "version": 3
   },
   "file_extension": ".py",
   "mimetype": "text/x-python",
   "name": "python",
   "nbconvert_exporter": "python",
   "pygments_lexer": "ipython3"
  }
 },
 "nbformat": 4,
 "nbformat_minor": 4
}
