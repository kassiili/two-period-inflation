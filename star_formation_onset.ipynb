{
 "cells": [
  {
   "cell_type": "code",
   "execution_count": null,
   "metadata": {},
   "outputs": [],
   "source": [
    "%load_ext autoreload\n",
    "%autoreload 2\n",
    "\n",
    "%config IPCompleter.greedy=True"
   ]
  },
  {
   "cell_type": "code",
   "execution_count": null,
   "metadata": {},
   "outputs": [],
   "source": [
    "import matplotlib.pyplot as plt\n",
    "import numpy as np\n",
    "import h5py\n",
    "from astropy import units\n",
    "from pathlib import Path\n",
    "import os\n",
    "import time\n",
    "from astropy.cosmology import FlatLambdaCDM\n",
    "\n",
    "import snapshot_obj\n",
    "import dataset_compute\n",
    "import curve_fit\n",
    "\n",
    "import importlib"
   ]
  },
  {
   "cell_type": "code",
   "execution_count": null,
   "metadata": {},
   "outputs": [],
   "source": [
    "importlib.reload(snapshot_obj)\n",
    "importlib.reload(dataset_compute)\n",
    "importlib.reload(curve_fit)"
   ]
  },
  {
   "cell_type": "markdown",
   "metadata": {},
   "source": [
    "# Subhalo stellar ages"
   ]
  },
  {
   "cell_type": "markdown",
   "metadata": {},
   "source": [
    "## Construct data dictionary\n",
    "\n",
    "Add entries for each simulation, and specify M31 and MW galaxies:"
   ]
  },
  {
   "cell_type": "code",
   "execution_count": null,
   "metadata": {
    "code_folding": []
   },
   "outputs": [],
   "source": [
    "snap_id = 127\n",
    "sim_ids = [\"V1_LR_fix\", \"V1_LR_curvaton_p082_fix\", \"V1_LR_curvaton_p084_fix\"]\n",
    "names = [\"LCDM\", \"p082\", \"p084\"]\n",
    "\n",
    "# Define M31 and MW in each simulation:\n",
    "m31 = [(1,0), (1,0), (1,0)]\n",
    "mw = [(2,0), (1,1), (1,1)]"
   ]
  },
  {
   "cell_type": "code",
   "execution_count": null,
   "metadata": {
    "code_folding": []
   },
   "outputs": [],
   "source": [
    "snap_id = 127\n",
    "sim_ids = [\"V1_LR_fix\", \"V1_LR_curvaton_p082_fix\"]\n",
    "names = [\"LCDM\", \"p082\"]\n",
    "paths = [\"\", \"\"]\n",
    "\n",
    "# Define M31 and MW in each simulation:\n",
    "m31 = [(1,0), (1,0)]\n",
    "mw = [(2,0), (1,1)]"
   ]
  },
  {
   "cell_type": "code",
   "execution_count": null,
   "metadata": {
    "code_folding": []
   },
   "outputs": [],
   "source": [
    "data = {}\n",
    "for name, sim_id, m31_ns, mw_ns in zip(names, sim_ids, m31, mw):\n",
    "    data[name] = {\"snapshot\": snapshot_obj.Snapshot(sim_id, snap_id, name=name),\n",
    "                  \"M31_identifier\": m31_ns,\n",
    "                  \"MW_identifier\": mw_ns}"
   ]
  },
  {
   "cell_type": "markdown",
   "metadata": {},
   "source": [
    "Choose how to distinguish between satellite and isolated galaxies:"
   ]
  },
  {
   "cell_type": "code",
   "execution_count": null,
   "metadata": {},
   "outputs": [],
   "source": [
    "distinction = \"by_gn\"\n",
    "vmax_down_lim = [20,30]\n",
    "vmax_up_lim = [30, 10**5]"
   ]
  },
  {
   "cell_type": "code",
   "execution_count": null,
   "metadata": {},
   "outputs": [],
   "source": [
    "for name, sim_data in data.items():\n",
    "    snap = sim_data[\"snapshot\"]\n",
    "    \n",
    "    H0 = snap.get_attribute(\"HubbleParam\", \"Header\") * 100\n",
    "    Om0 = snap.get_attribute(\"Omega0\", \"Header\")\n",
    "    cosmo = FlatLambdaCDM(H0=H0, Om0=Om0)\n",
    "    \n",
    "    # Read star particle formation times for star particles of \n",
    "    # each subhalo. Select only star particles with masses in the\n",
    "    # given range:\n",
    "    initial_mass = snap.get_particles(\"InitialMass\", part_type=[4]) \\\n",
    "                      * units.g.to(units.Msun)\n",
    "    mask_mass_range = np.logical_and(initial_mass > 10**3, \n",
    "                                     initial_mass < 10**8)\n",
    "    grouped_data = dataset_compute.group_selected_particles_by_subhalo(\n",
    "        snap, \"StellarFormationTime\", \"InitialMass\", selection_mask=mask_mass_range, \n",
    "        part_type=[4])\n",
    "    \n",
    "    print(np.concatenate(grouped_data[\"StellarFormationTime\"]).size)\n",
    "    for sft in grouped_data[\"StellarFormationTime\"][:10]:\n",
    "        print(\"    \", sft.size)\n",
    "    \n",
    "    # Convert formation time scale factor to age of the universe, and for each\n",
    "    # subhalo, find the formation time of its first star particle:\n",
    "    star_form_time = [cosmo.age(1/sft - 1).value \n",
    "                      for sft in grouped_data[\"StellarFormationTime\"]]\n",
    "    sf_onset = np.array([np.min(subhalo_sft) if subhalo_sft.size > 0 else \n",
    "                         cosmo.age(0).value for subhalo_sft in star_form_time])\n",
    "        \n",
    "    # Split into satellites:\n",
    "    if distinction == \"by_r\":\n",
    "        masks_sat, mask_isol = dataset_compute.split_satellites_by_distance(\n",
    "            snap, sim_data[\"M31_identifier\"], sim_data[\"MW_identifier\"])\n",
    "    elif distinction == \"by_gn\":\n",
    "        masks_sat, mask_isol = dataset_compute.split_satellites_by_group_number(\n",
    "            snap, sim_data[\"M31_identifier\"], sim_data[\"MW_identifier\"])\n",
    "        \n",
    "    print(name, np.sum(np.logical_or.reduce(masks_sat)))\n",
    "    mask_lum, mask_dark = dataset_compute.split_luminous(snap)\n",
    "    mask_vmax = [dataset_compute.prune_vmax(snap, low_lim=down, up_lim=up) \n",
    "                 for down, up in zip(vmax_down_lim, vmax_up_lim)]\n",
    "    \n",
    "    # Add to the data dictionary:\n",
    "    data[name][\"StarFormationOnset\"] =\\\n",
    "     {\"satellites\": [sf_onset[np.logical_and.reduce(\n",
    "        [np.logical_or.reduce(masks_sat), mask_lum, mask]\n",
    "     )] for mask in mask_vmax],\n",
    "      \"isolated\": [sf_onset[np.logical_and.reduce(\n",
    "          [mask_isol, mask_lum, mask]\n",
    "      )] for mask in mask_vmax]\n",
    "     }"
   ]
  },
  {
   "cell_type": "markdown",
   "metadata": {},
   "source": [
    "## Plot"
   ]
  },
  {
   "cell_type": "code",
   "execution_count": null,
   "metadata": {},
   "outputs": [],
   "source": [
    "cols = [\"grey\", \"pink\", \"lightblue\"]"
   ]
  },
  {
   "cell_type": "code",
   "execution_count": null,
   "metadata": {},
   "outputs": [],
   "source": [
    "cols = [\"grey\", \"pink\"]"
   ]
  },
  {
   "cell_type": "code",
   "execution_count": null,
   "metadata": {},
   "outputs": [],
   "source": [
    "fig, axes = plt.subplots(ncols=2, figsize=(14,6))\n",
    "plt.subplots_adjust(wspace=0.3)\n",
    "\n",
    "# Set axis:\n",
    "for ax in axes:  \n",
    "    ax.set_xlabel('Age of the Universe [Gyr]', fontsize=16)\n",
    "    ax.set_ylabel('Number density', fontsize=16)\n",
    "\n",
    "axes[0].set_title('Satellite galaxies')\n",
    "axes[1].set_title('Isolated galaxies')\n",
    "\n",
    "# Set bins:\n",
    "bin_width = 2\n",
    "bins = np.arange(0, 16, bin_width)\n",
    "\n",
    "# Iterate over simulations:\n",
    "for i, (name, sim_data) in enumerate(data.items()):\n",
    "    \n",
    "    # Plot satellites:\n",
    "    sf_onset = sim_data[\"StarFormationOnset\"][\"satellites\"]\n",
    "    print(sf_onset)\n",
    "    labels = [\"${} \\mathrm{{km/s}} < v_\\mathrm{{max}} < {} \\mathrm{{km/s}}$\"\\\n",
    "              .format(down, up) if up < 10**5 else \n",
    "              \"${} \\mathrm{{km/s}} < v_\\mathrm{{max}}$\".format(down)\n",
    "              for down, up in zip(vmax_down_lim, vmax_up_lim)]\n",
    "    line_styles = ['-', '--']\n",
    "    \n",
    "    # Iterate over v_max selections:\n",
    "    for age, label, lstyle in zip(sf_onset, labels, line_styles):\n",
    "        n_subhalos = age.size\n",
    "        label = \"{} ({}): \".format(name, n_subhalos) + label\n",
    "        print(name, n_subhalos)\n",
    "        \n",
    "        y, bin_edges = np.histogram(age, bins, density=True)\n",
    "        y = y * bin_width\n",
    "        x = [(bin_edges[i] + bin_edges[i + 1]) / 2 for i in range(bin_edges.size - 1)]\n",
    "        axes[0].plot(x, y, c=cols[i], label=label, linestyle=lstyle)\n",
    "    \n",
    "    \n",
    "    # Plot satellites:\n",
    "    sf_onset = sim_data[\"InitialMassWeightedAge\"][\"isolated\"]\n",
    "    labels = [\"${} \\mathrm{{km/s}} < v_\\mathrm{{max}} < {} \\mathrm{{km/s}}$\"\\\n",
    "              .format(down, up) if up < 10**5 else \n",
    "              \"${} \\mathrm{{km/s}} < v_\\mathrm{{max}}$\".format(down)\n",
    "              for down, up in zip(vmax_down_lim, vmax_up_lim)]\n",
    "    line_styles = ['-', '--']\n",
    "    \n",
    "    # Iterate over v_max selections:\n",
    "    for age, label, lstyle in zip(sf_onset, labels, line_styles):\n",
    "        n_subhalos = age.size\n",
    "        label = \"{} ({}): \".format(name, n_subhalos) + label\n",
    "        print(name, n_subhalos)\n",
    "        \n",
    "        y, bin_edges = np.histogram(age, bins, density=True)\n",
    "        y = y * bin_width\n",
    "        x = [(bin_edges[i] + bin_edges[i + 1]) / 2 for i in range(bin_edges.size - 1)]\n",
    "        axes[1].plot(x, y, c=cols[i], label=label, linestyle=lstyle)\n",
    "    \n",
    "axes[0].legend()\n",
    "axes[1].legend()"
   ]
  },
  {
   "cell_type": "code",
   "execution_count": null,
   "metadata": {},
   "outputs": [],
   "source": []
  }
 ],
 "metadata": {
  "kernelspec": {
   "display_name": "Python 3",
   "language": "python",
   "name": "python3"
  },
  "language_info": {
   "codemirror_mode": {
    "name": "ipython",
    "version": 3
   },
   "file_extension": ".py",
   "mimetype": "text/x-python",
   "name": "python",
   "nbconvert_exporter": "python",
   "pygments_lexer": "ipython3"
  }
 },
 "nbformat": 4,
 "nbformat_minor": 4
}
