{
 "cells": [
  {
   "cell_type": "code",
   "execution_count": null,
   "metadata": {},
   "outputs": [],
   "source": [
    "%load_ext autoreload\n",
    "%autoreload 2\n",
    "\n",
    "%config IPCompleter.greedy=True"
   ]
  },
  {
   "cell_type": "code",
   "execution_count": null,
   "metadata": {},
   "outputs": [],
   "source": [
    "import numpy as np\n",
    "from astropy import units\n",
    "import os\n",
    "import astropy.units as u\n",
    "import matplotlib.pyplot as plt\n",
    "\n",
    "import snapshot_obj\n",
    "import dataset_compute\n",
    "\n",
    "import importlib"
   ]
  },
  {
   "cell_type": "code",
   "execution_count": null,
   "metadata": {},
   "outputs": [],
   "source": [
    "importlib.reload(snapshot_obj)\n",
    "importlib.reload(dataset_compute)"
   ]
  },
  {
   "cell_type": "markdown",
   "metadata": {},
   "source": [
    "# Further tests of the different distinctions to satellites and isolated galaxies"
   ]
  },
  {
   "cell_type": "markdown",
   "metadata": {},
   "source": [
    "## Notes\n",
    "From the definition of satellites by distance (call this set of subhalos SD) and the definition of satellites by their group numbers and subgroup numbers (call this set of subhalos SGN), the following statements follow:\n",
    "* Any subhalo in SGN that also lies within 300 kpc of a central galaxy will also be identified as a satellite in SD\n",
    "* No subhalo in SD lies beyond 300 kpc from a central, but the same is not true of subhalos in SGN\n",
    "* Subhalos that lie in further than 300 kpc from any central but within 2 Mpc of the LG centre, will either be an element of both SD and SGN or neither (depending on their subgroup number)\n",
    "\n",
    "Other general remarks about what one would expect to find, if the distinction methods have been implemented correctly:\n",
    "* From the last statement above, one expects identification in the range $500 \\mathrm{kpc} \\lesssim r_\\mathrm{LG} < 2 \\mathrm{Mpc}$ to be almost identical in both distinctions"
   ]
  },
  {
   "cell_type": "markdown",
   "metadata": {},
   "source": [
    "## Tests\n",
    "Create a dictionary of the datasets from each simulation. "
   ]
  },
  {
   "cell_type": "code",
   "execution_count": null,
   "metadata": {
    "code_folding": []
   },
   "outputs": [],
   "source": [
    "snap_id = 127\n",
    "sim_ids = [\"V1_LR_fix\", \"V1_LR_curvaton_p082_fix\", \"V1_LR_curvaton_p084_fix\"]\n",
    "names = [\"LCDM\", \"p082\", \"p084\"]\n",
    "\n",
    "# Define M31 and MW in each simulation:\n",
    "m31 = [(1,0), (1,0), (1,0)]\n",
    "mw = [(2,0), (1,1), (1,0)]\n",
    "\n",
    "data = {}\n",
    "for name, sim_id, m31_ns, mw_ns in zip(names, sim_ids, m31, mw):\n",
    "    data[name] = {\"snapshot\": snapshot_obj.Snapshot(sim_id, snap_id, name=name),\n",
    "                  \"M31_identifier\": m31_ns,\n",
    "                  \"MW_identifier\": mw_ns}"
   ]
  },
  {
   "cell_type": "markdown",
   "metadata": {},
   "source": [
    "## Get data for plotting"
   ]
  },
  {
   "cell_type": "markdown",
   "metadata": {},
   "source": [
    "Choose how to distinguish between satellites and isolated:"
   ]
  },
  {
   "cell_type": "markdown",
   "metadata": {},
   "source": [
    "Read the datasets from each simulation, convert the units and split into satellites/isolated and luminous/dark:"
   ]
  },
  {
   "cell_type": "code",
   "execution_count": null,
   "metadata": {},
   "outputs": [],
   "source": [
    "def arrange_radius_array(r):\n",
    "    r = r * units.cm.to(units.kpc)\n",
    "    r = np.concatenate((np.sort(r), np.array([10000]))) \n",
    "    return r\n",
    "\n",
    "def construct_count_array(size):\n",
    "    return np.concatenate((np.arange(1, size+1), \n",
    "                           np.array([size])))"
   ]
  },
  {
   "cell_type": "code",
   "execution_count": null,
   "metadata": {
    "code_folding": []
   },
   "outputs": [],
   "source": [
    "for key, sim_data in data.items():    \n",
    "    # Get data:\n",
    "    snap = sim_data[\"snapshot\"]\n",
    "    cops = snap.get_subhalos(\"CentreOfPotential\")\n",
    "    \n",
    "    # Compute masking arrays:\n",
    "    mask_nonzero_vmax = dataset_compute.prune_vmax(snap)\n",
    "    masks_sat_by_r, mask_isol_by_r = dataset_compute.split_satellites_by_distance(\n",
    "        snap, sim_data[\"M31_identifier\"], sim_data[\"MW_identifier\"])\n",
    "    masks_sat_by_gn, mask_isol_by_gn = dataset_compute.split_satellites_by_group_number(\n",
    "        snap, sim_data[\"M31_identifier\"], sim_data[\"MW_identifier\"])\n",
    "    \n",
    "    mask_m31_by_r = np.logical_and(masks_sat_by_r[0], mask_nonzero_vmax)\n",
    "    mask_mw_by_r = np.logical_and(masks_sat_by_r[1], mask_nonzero_vmax)\n",
    "    mask_isol_by_r = np.logical_and(mask_isol_by_r, mask_nonzero_vmax)\n",
    "    mask_m31_by_gn = np.logical_and(masks_sat_by_gn[0], mask_nonzero_vmax)\n",
    "    mask_mw_by_gn = np.logical_and(masks_sat_by_gn[1], mask_nonzero_vmax)\n",
    "    mask_isol_by_gn = np.logical_and(mask_isol_by_gn, mask_nonzero_vmax)\n",
    "    print(np.sum(mask_nonzero_vmax[:200]))\n",
    "    print(np.sum(mask_m31_by_gn[:100]))\n",
    "    print(np.sum(mask_mw_by_gn[:140]))\n",
    "    \n",
    "    # In case M31 and MW are identified as the same halo, remove intersection:\n",
    "    mask_mw_by_r = np.logical_and(mask_mw_by_r, np.logical_not(mask_m31_by_r))\n",
    "    mask_mw_by_gn = np.logical_and(mask_mw_by_gn, np.logical_not(mask_m31_by_gn))\n",
    "    \n",
    "    # Some sanity checks:\n",
    "    gns = snap.get_subhalos(\"GroupNumber\")\n",
    "    sgns = snap.get_subhalos(\"SubGroupNumber\")\n",
    "    print(np.bincount(gns.astype(int)))\n",
    "    print(np.bincount(gns[\n",
    "        np.logical_and(np.logical_or(mask_m31_by_r, mask_mw_by_r), sgns == 0)\n",
    "    ].astype(int)))\n",
    "   \n",
    "    # Compute distances to M31, MW and the LG centre:\n",
    "    m31_cop = cops[snap.index_of_halo(sim_data[\"M31_identifier\"][0],\n",
    "                                      sim_data[\"M31_identifier\"][1])]\n",
    "    dist_to_m31 = dataset_compute.distance_to_point(snap, m31_cop)\n",
    "    mw_cop = cops[snap.index_of_halo(sim_data[\"MW_identifier\"][0],\n",
    "                                     sim_data[\"MW_identifier\"][1])]\n",
    "    dist_to_mw = dataset_compute.distance_to_point(snap, mw_cop)    \n",
    "    lg_centre = dataset_compute.compute_LG_centre(snap,\n",
    "                                                  sim_data[\"M31_identifier\"],\n",
    "                                                  sim_data[\"MW_identifier\"])\n",
    "    dist_to_lg = dataset_compute.distance_to_point(snap, lg_centre)\n",
    "\n",
    "\n",
    "    # Add satellites to the data dictionary:\n",
    "    sat_dist_by_r = arrange_radius_array(\n",
    "        np.concatenate([dist_to_m31[mask_m31_by_r], dist_to_mw[mask_mw_by_r]]))\n",
    "    sat_dist_by_gn = arrange_radius_array(\n",
    "        np.concatenate([dist_to_m31[mask_m31_by_gn], dist_to_mw[mask_mw_by_gn]]))\n",
    "    \n",
    "    sim_data[\"satellites\"] = \\\n",
    "    {\"radius\": {\"by_distance\": sat_dist_by_r,\n",
    "                \"by_groupnumber\": sat_dist_by_gn\n",
    "               },\n",
    "     \"sat_count\": {\"by_distance\": construct_count_array(\n",
    "         np.sum(np.logical_or(mask_m31_by_r, mask_mw_by_r))),\n",
    "                   \"by_groupnumber\": construct_count_array(\n",
    "         np.sum(np.logical_or(mask_m31_by_gn, mask_mw_by_gn)))\n",
    "                  }\n",
    "    }\n",
    "\n",
    "    # Add isolated galaxies to the data dictionary:\n",
    "    isol_dist_by_r = arrange_radius_array(dist_to_lg[mask_isol_by_r])\n",
    "    isol_dist_by_gn = arrange_radius_array(dist_to_lg[mask_isol_by_gn])\n",
    "    \n",
    "    sim_data[\"isolated\"] = \\\n",
    "    {\"radius\": {\"by_distance\": isol_dist_by_r,\n",
    "                \"by_groupnumber\": isol_dist_by_gn\n",
    "               },\n",
    "     \"sat_count\": {\"by_distance\": construct_count_array(np.sum(mask_isol_by_r)),\n",
    "                   \"by_groupnumber\": construct_count_array(np.sum(mask_isol_by_gn))\n",
    "                  }\n",
    "    }\n"
   ]
  },
  {
   "cell_type": "markdown",
   "metadata": {},
   "source": [
    "## Plot"
   ]
  },
  {
   "cell_type": "code",
   "execution_count": null,
   "metadata": {},
   "outputs": [],
   "source": [
    "# Set some parameters:\n",
    "x_down_sat = 0; x_up_sat = 1000\n",
    "y_down_sat = 1; y_up_sat = 500\n",
    "\n",
    "x_down_isol = 0; x_up_isol = 2100\n",
    "y_down_isol = 1; y_up_isol = 500\n",
    "\n",
    "# Set colors:\n",
    "color = [\"black\", \"red\", \"blue\", \"green\"]"
   ]
  },
  {
   "cell_type": "code",
   "execution_count": null,
   "metadata": {},
   "outputs": [],
   "source": [
    "# Construct saving location:\n",
    "filename = 'compare_distinctions_radial_dist'\n",
    "for name in names:\n",
    "    filename += \"_{}\".format(name)\n",
    "filename += \".png\"\n",
    "    \n",
    "home = os.path.dirname(snapshot_obj.__file__)\n",
    "path = os.path.join(home,\"Figures\")\n",
    "filename = os.path.join(path, filename)"
   ]
  },
  {
   "cell_type": "code",
   "execution_count": null,
   "metadata": {},
   "outputs": [],
   "source": [
    "fig, axes = plt.subplots(ncols=2, figsize=(14,6))\n",
    "plt.subplots_adjust(wspace=0.3)\n",
    "\n",
    "# Set axis for satellites:\n",
    "axes[0].set_xlim(x_down_sat, x_up_sat)\n",
    "axes[0].set_ylim(y_down_sat, y_up_sat)\n",
    "axes[0].set_xlabel('$r_\\mathrm{central}[\\mathrm{kpc}]$', fontsize=16)\n",
    "axes[0].set_ylabel('$N(<r_\\mathrm{central})$', fontsize=16)\n",
    "axes[0].set_yscale('log')\n",
    "axes[0].yaxis.set_ticks_position(\"both\")\n",
    "\n",
    "# Set axis for isolated galaxies:\n",
    "axes[1].set_xlim(x_down_isol, x_up_isol)\n",
    "axes[1].set_ylim(y_down_isol, y_up_isol)\n",
    "axes[1].set_xlabel('$r_\\mathrm{LG}}[\\mathrm{kpc}]$', fontsize=16)\n",
    "axes[1].set_ylabel('$N(<r_\\mathrm{LG})$', fontsize=16)\n",
    "axes[1].set_yscale('log')\n",
    "axes[1].yaxis.set_ticks_position(\"both\")\n",
    "    \n",
    "axes[0].set_title('Satellite galaxies')\n",
    "axes[1].set_title('Isolated galaxies')\n",
    "\n",
    "# Add scatter plots:\n",
    "for i, (name, entry) in enumerate(data.items()):\n",
    "    x = entry['satellites']['radius'][\"by_distance\"]\n",
    "    y = entry['satellites']['sat_count'][\"by_distance\"]\n",
    "    axes[0].plot(x, y, c=color[i], label='{} by distance'.format(name))\n",
    "    x = entry['satellites']['radius'][\"by_groupnumber\"]\n",
    "    y = entry['satellites']['sat_count'][\"by_groupnumber\"]\n",
    "    axes[0].plot(x, y, c=color[i], linestyle='--', label='{} by group number'.format(name))\n",
    "    \n",
    "    x = entry['isolated']['radius'][\"by_distance\"]\n",
    "    y = entry['isolated']['sat_count'][\"by_distance\"]\n",
    "    axes[1].plot(x, y, c=color[i], label='{} by distance'.format(name))\n",
    "    x = entry['isolated']['radius'][\"by_groupnumber\"]\n",
    "    y = entry['isolated']['sat_count'][\"by_groupnumber\"]\n",
    "    axes[1].plot(x, y, c=color[i], linestyle='--', label='{} by group number'.format(name))\n",
    "\n",
    "axes[0].legend(loc='upper left')\n",
    "plt.tight_layout()\n",
    "\n",
    "#plt.savefig(filename, dpi=200)"
   ]
  },
  {
   "cell_type": "markdown",
   "metadata": {},
   "source": [
    "## Conclusions\n",
    "\n",
    "There are no inconsistensies with the above given statements. The curious gap between the two p082 lines is due to the fact that, what most reasonably is identified as the MW galaxy in this simulation, is in fact a subgroup of the FoF halo of the M31 galaxy. In the case of the dashed line, there is only one radius $r_\\mathrm{central}$, which is the distance from the M31 galaxy. In the case of the solid line, $r_\\mathrm{central}$ is defined as the distance to the central closest to them. Thus, the boost in the dashed line in the region $500 \\lesssim r_\\mathrm{central} \\lesssim 800$, is transferred to the region below 300 kpc in the solid line."
   ]
  },
  {
   "cell_type": "code",
   "execution_count": null,
   "metadata": {},
   "outputs": [],
   "source": []
  }
 ],
 "metadata": {
  "kernelspec": {
   "display_name": "Python 3",
   "language": "python",
   "name": "python3"
  },
  "language_info": {
   "codemirror_mode": {
    "name": "ipython",
    "version": 3
   },
   "file_extension": ".py",
   "mimetype": "text/x-python",
   "name": "python",
   "nbconvert_exporter": "python",
   "pygments_lexer": "ipython3"
  }
 },
 "nbformat": 4,
 "nbformat_minor": 4
}
