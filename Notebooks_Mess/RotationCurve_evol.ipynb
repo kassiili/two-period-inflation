{
 "cells": [
  {
   "cell_type": "code",
   "execution_count": null,
   "metadata": {},
   "outputs": [],
   "source": [
    "%load_ext autoreload\n",
    "%autoreload 2\n",
    "\n",
    "#%config IPCompleter.greedy=True"
   ]
  },
  {
   "cell_type": "markdown",
   "metadata": {},
   "source": [
    "# Rotation curves\n",
    "\n",
    "First, imports:"
   ]
  },
  {
   "cell_type": "code",
   "execution_count": null,
   "metadata": {},
   "outputs": [],
   "source": [
    "import matplotlib.pyplot as plt\n",
    "import numpy as np\n",
    "import h5py\n",
    "from astropy import units\n",
    "from pathlib import Path\n",
    "import os\n",
    "import astropy.units as u\n",
    "from astropy.constants import G\n",
    "\n",
    "import snapshot_obj \n",
    "import dataset_compute\n",
    "import trace_halo\n",
    "import curve_fit\n",
    "\n",
    "import importlib"
   ]
  },
  {
   "cell_type": "code",
   "execution_count": null,
   "metadata": {},
   "outputs": [],
   "source": [
    "importlib.reload(snapshot_obj)\n",
    "importlib.reload(curve_fit)\n",
    "importlib.reload(dataset_compute)"
   ]
  },
  {
   "cell_type": "markdown",
   "metadata": {},
   "source": [
    "## Get data"
   ]
  },
  {
   "cell_type": "code",
   "execution_count": null,
   "metadata": {},
   "outputs": [],
   "source": [
    "# Which halo:\n",
    "gn = 1; sgn = 2\n",
    "\n",
    "# Get LCDM data:\n",
    "snap_pres = snapshot_obj.Snapshot(\"CDM_V1_LR\",127)"
   ]
  },
  {
   "cell_type": "code",
   "execution_count": null,
   "metadata": {},
   "outputs": [],
   "source": [
    "# Trace halo:\n",
    "step = 4\n",
    "stop = 101\n",
    "tracer = trace_halo.trace_halo(snap_pres,gn,sgn,direction='backwards',stop=stop)"
   ]
  },
  {
   "cell_type": "code",
   "execution_count": null,
   "metadata": {},
   "outputs": [],
   "source": [
    "# Compute rotation curves:\n",
    "\n",
    "rotationCurves = {}\n",
    "reduced = { key : val for key,val in tracer.items() \\\n",
    "         if key in range(127,127-len(tracer)+1,-step)}\n",
    "for snapID,data in reduced.items():\n",
    "#    if snapID == 115 or snapID == 103:\n",
    "#        continue\n",
    "    z = data[0]; gn = data[1]; sgn = data[2]\n",
    "    snap = snapshot_obj.Snapshot(\"CDM_V1_LR\",snapID)\n",
    "    \n",
    "    # Read halo:\n",
    "    fnum = snap.file_of_halo(gn,sgn)\n",
    "    SGNs = snap.get_subhalos(\"SubGroupNumber\",fnums=[fnum])\n",
    "    GNs = snap.get_subhalos(\"GroupNumber\",fnums=[fnum])\n",
    "    \n",
    "    vmax = snap.get_subhalos(\"Vmax\",fnums=[fnum]) / 100000 \n",
    "                                                        # cm/s to km/s \n",
    "    rmax = snap.get_subhalos(\"VmaxRadius\",fnums=[fnum]) \\\n",
    "                * u.cm.to(u.kpc)\n",
    "    \n",
    "    # Select halo:\n",
    "    halo_mask = np.logical_and(SGNs == sgn,GNs == gn)\n",
    "    vmax = vmax[halo_mask]\n",
    "    rmax = rmax[halo_mask]\n",
    "    \n",
    "    # Rotation curve:\n",
    "    print(snapID)\n",
    "    r, v_circ = dataset_compute.compute_rotation_curve(snap, gn, sgn)\n",
    "    r = r * u.cm.to(u.kpc)\n",
    "    v_circ = v_circ * u.cm.to(u.km)\n",
    "    rotationCurves[snapID] = (r,v_circ,z)"
   ]
  },
  {
   "cell_type": "code",
   "execution_count": null,
   "metadata": {
    "code_folding": []
   },
   "outputs": [],
   "source": [
    "fig, axes = plt.subplots()\n",
    "\n",
    "# Set axes:\n",
    "#axes.set_xscale('log')\n",
    "#axes.set_yscale('log')\n",
    "axes.set_xlim(0,80)\n",
    "#axes.set_ylim(y_down,y_up)\n",
    "\n",
    "# Set labels:\n",
    "axes.set_xlabel('$r[\\mathrm{kpc}]$', fontsize=16)\n",
    "axes.set_ylabel('$v_{\\mathrm{circ}}[\\mathrm{kms^{-1}}]$', fontsize=16)\n",
    "\n",
    "# Galaxy text:\n",
    "axes.set_title('Rotation curve: GN={}, SGN={}'.format(gn,sgn))\n",
    "\n",
    "step = 4\n",
    "toolight = int(len(rotationCurves)/4)\n",
    "colors = plt.cm.Blues(np.linspace(0,1,len(rotationCurves) + toolight))[toolight:]\n",
    "\n",
    "for i,xy in enumerate(rotationCurves.values()):\n",
    "    axes.plot(xy[0], xy[1], label='z={:06.4f}'.format(xy[2]), c=colors[i])\n",
    "    \n",
    "plt.legend(loc='lower right')\n",
    "plt.tight_layout()"
   ]
  },
  {
   "cell_type": "code",
   "execution_count": null,
   "metadata": {},
   "outputs": [],
   "source": []
  }
 ],
 "metadata": {
  "kernelspec": {
   "display_name": "Python 3",
   "language": "python",
   "name": "python3"
  },
  "language_info": {
   "codemirror_mode": {
    "name": "ipython",
    "version": 3
   },
   "file_extension": ".py",
   "mimetype": "text/x-python",
   "name": "python",
   "nbconvert_exporter": "python",
   "pygments_lexer": "ipython3"
  }
 },
 "nbformat": 4,
 "nbformat_minor": 4
}
