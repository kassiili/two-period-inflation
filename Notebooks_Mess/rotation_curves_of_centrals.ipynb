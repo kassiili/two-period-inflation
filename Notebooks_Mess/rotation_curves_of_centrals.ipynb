{
 "cells": [
  {
   "cell_type": "code",
   "execution_count": null,
   "metadata": {},
   "outputs": [],
   "source": [
    "%load_ext autoreload\n",
    "%autoreload 2\n",
    "\n",
    "#%config IPCompleter.greedy=True"
   ]
  },
  {
   "cell_type": "markdown",
   "metadata": {},
   "source": [
    "# Rotation curves\n",
    "\n",
    "First, imports:"
   ]
  },
  {
   "cell_type": "code",
   "execution_count": null,
   "metadata": {},
   "outputs": [],
   "source": [
    "import matplotlib.pyplot as plt\n",
    "import numpy as np\n",
    "import h5py\n",
    "from astropy import units\n",
    "from pathlib import Path\n",
    "import os\n",
    "import astropy.units as u\n",
    "from astropy.constants import G\n",
    "\n",
    "import snapshot_obj \n",
    "import subhalo\n",
    "import dataset_compute\n",
    "import curve_fit\n",
    "\n",
    "import importlib"
   ]
  },
  {
   "cell_type": "code",
   "execution_count": null,
   "metadata": {},
   "outputs": [],
   "source": [
    "importlib.reload(snapshot_obj)\n",
    "importlib.reload(subhalo)\n",
    "importlib.reload(dataset_compute)\n",
    "importlib.reload(curve_fit)"
   ]
  },
  {
   "cell_type": "markdown",
   "metadata": {},
   "source": [
    "## Get data"
   ]
  },
  {
   "cell_type": "code",
   "execution_count": null,
   "metadata": {
    "code_folding": []
   },
   "outputs": [],
   "source": [
    "snap_id = 127\n",
    "data = {\"spec-p082\" : \n",
    "        {\"M31\" : {\"halo_id\" : (1,0),\n",
    "                  \"color\" : \"red\",\n",
    "                  \"linestyle\" : \"solid\"},\n",
    "         \"MW\" : {\"halo_id\" : (1,1),\n",
    "                 \"color\" : \"red\",\n",
    "                 \"linestyle\" : \"dashed\"}},\n",
    "        \"spec-p082-LR\" :\n",
    "        {\"M31\" : {\"halo_id\" : (1,0),\n",
    "                  \"color\" : \"pink\",\n",
    "                  \"linestyle\" : \"solid\"},\n",
    "         \"MW\" : {\"halo_id\" : (1,1),\n",
    "                  \"color\" : \"pink\",\n",
    "                  \"linestyle\" : \"dashed\"}},\n",
    "        \"spec-p084-LR\" :\n",
    "        {\"Spurious\" : {\"halo_id\" : (1,0),\n",
    "                       \"color\" : \"lightblue\",\n",
    "                       \"linestyle\" : \"dotted\"}},\n",
    "        \"plain-LCDM\" : \n",
    "        {\"M31\" : {\"halo_id\" : (1,0),\n",
    "                  \"color\" : \"black\",\n",
    "                  \"linestyle\" : \"solid\"},\n",
    "         \"MW\" : {\"halo_id\" : (2,0),\n",
    "                 \"color\" : \"black\",\n",
    "                 \"linestyle\" : \"dashed\"}},\n",
    "        \"plain-LCDM-LR\" :\n",
    "        {\"M31\" : {\"halo_id\" : (1,0),\n",
    "                  \"color\" : \"gray\",\n",
    "                  \"linestyle\" : \"solid\"},\n",
    "         \"MW\" : {\"halo_id\" : (2,0),\n",
    "                 \"color\" : \"gray\",\n",
    "                 \"linestyle\" : \"dashed\"}}\n",
    "       }\n",
    "\n",
    "sim_ids = [ \"V1_MR_curvaton_p082_fix\", \"V1_LR_curvaton_p082_fix\", \"V1_LR_curvaton_p084_fix\",\n",
    "           \"V1_MR_fix\", \"V1_LR_fix\"]"
   ]
  },
  {
   "cell_type": "code",
   "execution_count": null,
   "metadata": {
    "code_folding": []
   },
   "outputs": [],
   "source": [
    "# Set plot limits:\n",
    "x_down = 0; x_up = 60\n",
    "y_down = 0; y_up = 300"
   ]
  },
  {
   "cell_type": "code",
   "execution_count": null,
   "metadata": {
    "code_folding": []
   },
   "outputs": [],
   "source": [
    "for sim_id, sim_name in zip(sim_ids, data.keys()):\n",
    "    snap = snapshot_obj.Snapshot(sim_id, snap_id, name=sim_name)\n",
    "    \n",
    "    rot_curves = snap.get_subhalos('Vcirc', \n",
    "                                   group='Extended/RotationCurve/All')\n",
    "    sub_offset = snap.get_subhalos('SubOffset', \n",
    "                                   group='Extended/RotationCurve/All')\n",
    "    v_circ = rot_curves[:,0] * units.cm.to(units.km)\n",
    "    radii = rot_curves[:,1] * units.cm.to(units.kpc)\n",
    "    \n",
    "    max_point = snap.get_subhalos(\"Max_Vcirc\", group=\"Extended\")\n",
    "    vmax = max_point[:,0] * units.cm.to(units.km)\n",
    "    rmax = max_point[:,1] * units.cm.to(units.kpc)\n",
    "    \n",
    "    v1kpc = snap.get_subhalos(\"V1kpc\", group=\"Extended\") * units.cm.to(units.km)\n",
    "    \n",
    "    # Iterate over central galaxies and save rotation curves to data dictionary:\n",
    "    for galaxy in data[sim_name].keys():\n",
    "        central_id = data[sim_name][galaxy][\"halo_id\"]\n",
    "        idx = snap.index_of_halo(central_id[0], central_id[1])\n",
    "        data[sim_name][galaxy][\"Vmax\"] = vmax[idx]\n",
    "        data[sim_name][galaxy][\"Rmax\"] = rmax[idx]\n",
    "        data[sim_name][galaxy][\"Vcirc\"] = v_circ[sub_offset[idx]:sub_offset[idx+1]]\n",
    "        data[sim_name][galaxy][\"Radius\"] = radii[sub_offset[idx]:sub_offset[idx+1]]\n",
    "        data[sim_name][galaxy][\"V1kpc\"] = v1kpc[idx]"
   ]
  },
  {
   "cell_type": "code",
   "execution_count": null,
   "metadata": {},
   "outputs": [],
   "source": [
    "# Construct saving location:\n",
    "filename = 'rotation_curves_of_centrals.png'     \n",
    "home = os.path.dirname(snapshot_obj.__file__)\n",
    "path = os.path.join(home,\"Figures\")\n",
    "filename = os.path.join(path, filename)"
   ]
  },
  {
   "cell_type": "code",
   "execution_count": null,
   "metadata": {
    "code_folding": []
   },
   "outputs": [],
   "source": [
    "fig, axes = plt.subplots(figsize=(6,4))\n",
    "\n",
    "# Set axes:\n",
    "axes.set_xlim(x_down, x_up)\n",
    "axes.set_ylim(y_down,y_up)\n",
    "\n",
    "# Set labels:\n",
    "axes.set_xlabel('$r[\\mathrm{kpc}]$')\n",
    "axes.set_ylabel('$v_{\\mathrm{circ}}[\\mathrm{kms^{-1}}]$')\n",
    "\n",
    "# Galaxy text:\n",
    "#axes.set_title('Rotation curve')\n",
    "\n",
    "for sim_name, sim_data in data.items():\n",
    "    for galaxy, gal_data in sim_data.items():\n",
    "        axes.plot(gal_data[\"Radius\"], gal_data[\"Vcirc\"], \n",
    "                  c=gal_data[\"color\"], linestyle=gal_data[\"linestyle\"],\n",
    "                  label=\"{}: {}\".format(sim_name, gal_data[\"halo_id\"])\n",
    "                 )\n",
    "\n",
    "        #axes.axvline(entry[\"Rmax\"], c=color[i], linestyle='dashed')\n",
    "        #axes.axhline(entry[\"V1kpc\"], c=color[i], linestyle='dotted')\n",
    "    \n",
    "plt.legend(ncol=2, loc='lower right')\n",
    "plt.tight_layout()\n",
    "\n",
    "plt.savefig(os.path.join(path,filename), dpi=300)"
   ]
  },
  {
   "cell_type": "code",
   "execution_count": null,
   "metadata": {},
   "outputs": [],
   "source": []
  }
 ],
 "metadata": {
  "kernelspec": {
   "display_name": "Python 3",
   "language": "python",
   "name": "python3"
  },
  "language_info": {
   "codemirror_mode": {
    "name": "ipython",
    "version": 3
   },
   "file_extension": ".py",
   "mimetype": "text/x-python",
   "name": "python",
   "nbconvert_exporter": "python",
   "pygments_lexer": "ipython3"
  }
 },
 "nbformat": 4,
 "nbformat_minor": 4
}
