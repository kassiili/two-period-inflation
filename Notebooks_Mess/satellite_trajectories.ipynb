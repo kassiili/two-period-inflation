{
 "cells": [
  {
   "cell_type": "code",
   "execution_count": null,
   "metadata": {},
   "outputs": [],
   "source": [
    "%load_ext autoreload\n",
    "%autoreload 2\n",
    "\n",
    "%config IPCompleter.greedy=True"
   ]
  },
  {
   "cell_type": "code",
   "execution_count": null,
   "metadata": {},
   "outputs": [],
   "source": [
    "import numpy as np\n",
    "import matplotlib.pyplot as plt\n",
    "import os\n",
    "from astropy import units\n",
    "\n",
    "import importlib\n",
    "\n",
    "import simulation\n",
    "import snapshot_obj\n",
    "import simulation_tracing\n",
    "import dataset_compute\n",
    "import subhalo"
   ]
  },
  {
   "cell_type": "code",
   "execution_count": null,
   "metadata": {},
   "outputs": [],
   "source": [
    "importlib.reload(simulation)\n",
    "importlib.reload(snapshot_obj)\n",
    "importlib.reload(simulation_tracing)\n",
    "importlib.reload(dataset_compute)\n",
    "importlib.reload(subhalo)"
   ]
  },
  {
   "cell_type": "code",
   "execution_count": null,
   "metadata": {},
   "outputs": [],
   "source": [
    "%load_ext line_profiler"
   ]
  },
  {
   "cell_type": "code",
   "execution_count": null,
   "metadata": {},
   "outputs": [],
   "source": [
    "def distance_to_central(snap_ids, sim, central):\n",
    "    central_cop = central.get_halo_data(\n",
    "        \"CentreOfPotential\", snap_ids[0], snap_ids[-1] + 1)\n",
    "    dist = [dataset_compute.distance_to_point(\n",
    "        sim.get_snapshot(snap_id), cop) for snap_id, cop in zip(snap_ids, central_cop)]\n",
    "    \n",
    "    return dist"
   ]
  },
  {
   "cell_type": "markdown",
   "metadata": {},
   "source": [
    "# Plotting trajectories of satellites"
   ]
  },
  {
   "cell_type": "markdown",
   "metadata": {},
   "source": [
    "## Setting variables"
   ]
  },
  {
   "cell_type": "markdown",
   "metadata": {},
   "source": [
    "Let us first define our simulation and the LG central galaxies. The M31 and MW galaxies have identifiers (1,0) and (1,1) at redshift zero (snap_id=127), respectively:"
   ]
  },
  {
   "cell_type": "code",
   "execution_count": null,
   "metadata": {},
   "outputs": [],
   "source": [
    "sim = simulation.Simulation(\"V1_LR_fix\")\n",
    "m31 = subhalo.SubhaloTracer(sim, 127, 1, 0)\n",
    "mw = subhalo.SubhaloTracer(sim, 127, 1, 1)"
   ]
  },
  {
   "cell_type": "markdown",
   "metadata": {},
   "source": [
    "Next, since we are interested in the past trajectories of the subhalos that exist at $z=0$, we need to set the reference snapshot id to 127. We also set the snapshot up to which the trajectories are traced. Then, we get the merger tree and the snapshot tracer, and construct the tracers for the subhalos: "
   ]
  },
  {
   "cell_type": "code",
   "execution_count": null,
   "metadata": {},
   "outputs": [],
   "source": [
    "snap_ref = 100\n",
    "snap_start = 100\n",
    "snap_stop = 128"
   ]
  },
  {
   "cell_type": "code",
   "execution_count": null,
   "metadata": {},
   "outputs": [],
   "source": [
    "mtree = simulation_tracing.MergerTree(sim, branching=\"BackwardBranching\")\n",
    "mtree.build_tree(snap_start, snap_stop)\n",
    "\n",
    "# Trace centrals:\n",
    "m31.trace(mtree)\n",
    "mw.trace(mtree)"
   ]
  },
  {
   "cell_type": "code",
   "execution_count": null,
   "metadata": {},
   "outputs": [],
   "source": [
    "# Generate snapshot tracer:\n",
    "snap_tracer = simulation_tracing.SnapshotTracer(snap_ref, mtree)\n",
    "tracer_arr = snap_tracer.trace(start=snap_start, stop=snap_stop)"
   ]
  },
  {
   "cell_type": "markdown",
   "metadata": {},
   "source": [
    "## Selecting the satellites"
   ]
  },
  {
   "cell_type": "markdown",
   "metadata": {},
   "source": [
    "Construct the mask array for selecting satellites or isolated galaxies at snap_ref:"
   ]
  },
  {
   "cell_type": "code",
   "execution_count": null,
   "metadata": {},
   "outputs": [],
   "source": [
    "snapshot = sim.get_snapshot(snap_ref)\n",
    "mask_sat, mask_isol = dataset_compute.split_satellites_by_distance(\n",
    "    snapshot, m31.get_identifier(snap_ref), mw.get_identifier(snap_ref))\n",
    "mask_m31 = mask_sat[0]\n",
    "mask_mw = mask_sat[1]\n",
    "\n",
    "mask_lum, mask_dark = dataset_compute.split_luminous(snapshot)"
   ]
  },
  {
   "cell_type": "markdown",
   "metadata": {},
   "source": [
    "## Retrieve data"
   ]
  },
  {
   "cell_type": "markdown",
   "metadata": {},
   "source": [
    "Get, in a list, the datasets containing centres of potential of all subhalos in a snapshot, for all snapshots of interest:"
   ]
  },
  {
   "cell_type": "code",
   "execution_count": null,
   "metadata": {},
   "outputs": [],
   "source": [
    "cops = sim.get_subhalos_in_snapshots(\n",
    "    np.arange(snap_start, snap_stop), \"CentreOfPotential\")\n",
    "mass = sim.get_subhalos_in_snapshots(\n",
    "    np.arange(snap_start, snap_stop), \"MassType\")"
   ]
  },
  {
   "cell_type": "markdown",
   "metadata": {},
   "source": [
    "We want to plot the trajectories in a reference frame, where the central galaxy is stationary:"
   ]
  },
  {
   "cell_type": "code",
   "execution_count": null,
   "metadata": {},
   "outputs": [],
   "source": [
    "m31_cop = m31.get_halo_data(\"CentreOfPotential\", snap_start, snap_stop)\n",
    "mw_cop = mw.get_halo_data(\"CentreOfPotential\", snap_start, snap_stop)"
   ]
  },
  {
   "cell_type": "code",
   "execution_count": null,
   "metadata": {},
   "outputs": [],
   "source": [
    "snaps = sim.get_snapshots(snap_start, snap_stop)\n",
    "cops_centered = [dataset_compute.periodic_wrap(\n",
    "    snaps[i], m31_cop[i], cops[i]) - m31_cop[i] for i in range(snaps.size)]"
   ]
  },
  {
   "cell_type": "markdown",
   "metadata": {},
   "source": [
    "Convert coordinates to kpc:"
   ]
  },
  {
   "cell_type": "code",
   "execution_count": null,
   "metadata": {},
   "outputs": [],
   "source": [
    "for i in range(len(cops)):\n",
    "    cops_centered[i] = cops_centered[i] * units.cm.to(units.kpc)\n",
    "    mass[i] = mass[i] * units.g.to(units.Msun)"
   ]
  },
  {
   "cell_type": "markdown",
   "metadata": {},
   "source": [
    "Get redshifts:"
   ]
  },
  {
   "cell_type": "code",
   "execution_count": null,
   "metadata": {},
   "outputs": [],
   "source": [
    "redshift = sim.get_redshifts(snap_start, snap_stop)\n",
    "z_ref = sim.get_snapshot(snap_ref).get_attribute(\"Redshift\", \"Header\")"
   ]
  },
  {
   "cell_type": "markdown",
   "metadata": {},
   "source": [
    "## Construct trajectory arrays"
   ]
  },
  {
   "cell_type": "markdown",
   "metadata": {},
   "source": [
    "Finally, we are ready to make the trajectories. First, get the coordinate positions of the satellites in all snapshots in an array:"
   ]
  },
  {
   "cell_type": "code",
   "execution_count": null,
   "metadata": {},
   "outputs": [],
   "source": [
    "sat_tracer = tracer_arr[mask_m31]\n",
    "sat_cops = np.zeros((np.size(sat_tracer, axis=0), 3, np.size(sat_tracer, axis=1)))\n",
    "\n",
    "# Iterate over snapshots:\n",
    "for i in range(np.size(sat_tracer, axis=1)):\n",
    "    mask_traced = sat_tracer[:,i] < snap_tracer.no_match\n",
    "    sat_cops[mask_traced,:,i] = cops_centered[i][sat_tracer[mask_traced, i]]"
   ]
  },
  {
   "cell_type": "markdown",
   "metadata": {},
   "source": [
    "Then, for each satellite that does not exist from snap_start to snap_stop, remove meaningless entries, and save the trajectory arrays of individual satellites in a list:"
   ]
  },
  {
   "cell_type": "code",
   "execution_count": null,
   "metadata": {},
   "outputs": [],
   "source": [
    "sat_trajectories = [traj[:, traj[1, :] != 0] for traj in sat_cops] \n",
    "sat_trajectories = [traj for traj in sat_trajectories if np.size(traj, axis=1) == 28]"
   ]
  },
  {
   "cell_type": "code",
   "execution_count": null,
   "metadata": {},
   "outputs": [],
   "source": [
    "fig, axes = plt.subplots()\n",
    "for trajectory in sat_trajectories:\n",
    "    axes.plot(trajectory[1], trajectory[2])"
   ]
  },
  {
   "cell_type": "markdown",
   "metadata": {},
   "source": [
    "## Distance to central"
   ]
  },
  {
   "cell_type": "markdown",
   "metadata": {},
   "source": [
    "We are interested in seeing if there is a difference in the evolution of dark and luminous galaxies, so we need to introduce a further division.\n",
    "\n",
    "First, get datasets for satellites.\n",
    "\n",
    "Luminous:"
   ]
  },
  {
   "cell_type": "code",
   "execution_count": null,
   "metadata": {},
   "outputs": [],
   "source": [
    "sat_tracer_lum = tracer_arr[np.logical_and(\n",
    "    np.logical_or(mask_m31, mask_mw), mask_lum)]\n",
    "sat_r_lum = np.zeros((np.size(sat_tracer_lum, axis=0), \n",
    "                      np.size(sat_tracer_lum, axis=1)))\n",
    "\n",
    "# Iterate over snapshots:\n",
    "for i in range(np.size(sat_tracer_lum, axis=1)):\n",
    "    mask_traced = sat_tracer_lum[:,i] < snap_tracer.no_match\n",
    "    sat_r_lum[mask_traced,i] = np.linalg.norm(\n",
    "        cops_centered[i][sat_tracer_lum[mask_traced, i]], axis=1)"
   ]
  },
  {
   "cell_type": "code",
   "execution_count": null,
   "metadata": {},
   "outputs": [],
   "source": [
    "sat_lum = [np.vstack([redshift[r > 10**-2], r[r > 10**-2]]) for r in sat_r_lum]\n",
    "sat_lum = [halo_data for halo_data in sat_lum if np.size(halo_data[0]) > 3]"
   ]
  },
  {
   "cell_type": "markdown",
   "metadata": {},
   "source": [
    "Dark:"
   ]
  },
  {
   "cell_type": "code",
   "execution_count": null,
   "metadata": {},
   "outputs": [],
   "source": [
    "sat_tracer_dark = tracer_arr[np.logical_and(\n",
    "    np.logical_or(mask_m31, mask_mw), mask_dark)]\n",
    "sat_r_dark = np.zeros((np.size(sat_tracer_dark, axis=0), \n",
    "                      np.size(sat_tracer_dark, axis=1)))\n",
    "\n",
    "# Iterate over snapshots:\n",
    "for i in range(np.size(sat_tracer_dark, axis=1)):\n",
    "    mask_traced = sat_tracer_dark[:,i] < snap_tracer.no_match\n",
    "    sat_r_dark[mask_traced,i] = np.linalg.norm(\n",
    "        cops_centered[i][sat_tracer_dark[mask_traced, i]], axis=1)"
   ]
  },
  {
   "cell_type": "code",
   "execution_count": null,
   "metadata": {},
   "outputs": [],
   "source": [
    "sat_dark = [np.vstack([redshift[r > 10**-2], r[r > 10**-2]]) for r in sat_r_dark]\n",
    "sat_dark = [halo_data for halo_data in sat_dark if np.size(halo_data[0]) > 3]"
   ]
  },
  {
   "cell_type": "markdown",
   "metadata": {},
   "source": [
    "Plot:"
   ]
  },
  {
   "cell_type": "code",
   "execution_count": null,
   "metadata": {},
   "outputs": [],
   "source": [
    "fig, axes = plt.subplots()\n",
    "\n",
    "axes.text(0.1, 0.9, \"$z_\\mathrm{{ref}} = {:.3f}$\".format(z_ref), \n",
    "          transform=axes.transAxes)\n",
    "\n",
    "for traj in sat_lum:\n",
    "    z = traj[0]\n",
    "    r = traj[1]\n",
    "    plt.plot(z, r, c='black')\n",
    "    \n",
    "for traj in sat_dark:\n",
    "    z = traj[0]\n",
    "    r = traj[1]\n",
    "    plt.plot(z, r, c='gray')"
   ]
  },
  {
   "cell_type": "markdown",
   "metadata": {},
   "source": [
    "# Mass evolution"
   ]
  },
  {
   "cell_type": "code",
   "execution_count": null,
   "metadata": {},
   "outputs": [],
   "source": []
  }
 ],
 "metadata": {
  "kernelspec": {
   "display_name": "Python 3",
   "language": "python",
   "name": "python3"
  },
  "language_info": {
   "codemirror_mode": {
    "name": "ipython",
    "version": 3
   },
   "file_extension": ".py",
   "mimetype": "text/x-python",
   "name": "python",
   "nbconvert_exporter": "python",
   "pygments_lexer": "ipython3"
  }
 },
 "nbformat": 4,
 "nbformat_minor": 4
}
