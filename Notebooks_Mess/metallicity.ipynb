{
 "cells": [
  {
   "cell_type": "code",
   "execution_count": null,
   "metadata": {},
   "outputs": [],
   "source": [
    "%load_ext autoreload\n",
    "%autoreload 2\n",
    "\n",
    "%config IPCompleter.greedy=True"
   ]
  },
  {
   "cell_type": "code",
   "execution_count": null,
   "metadata": {},
   "outputs": [],
   "source": [
    "import numpy as np\n",
    "import matplotlib.pyplot as plt\n",
    "from astropy import units\n",
    "from astropy.constants import G\n",
    "import importlib"
   ]
  },
  {
   "cell_type": "code",
   "execution_count": null,
   "metadata": {},
   "outputs": [],
   "source": [
    "import os\n",
    "import sys\n",
    "\n",
    "apt_path = os.path.abspath(os.path.join('..', 'apostletools'))\n",
    "sys.path.append(apt_path)\n",
    "import dataset_comp\n",
    "import snapshot\n",
    "import curve_fit"
   ]
  },
  {
   "cell_type": "code",
   "execution_count": null,
   "metadata": {},
   "outputs": [],
   "source": [
    "importlib.reload(dataset_comp)\n",
    "importlib.reload(snapshot)\n",
    "importlib.reload(curve_fit)"
   ]
  },
  {
   "cell_type": "markdown",
   "metadata": {},
   "source": [
    "# Metallicity\n",
    "\n",
    "Metallicity of an individual star is defined here as the mass fraction of the metals: $Z^*$ $ = \\frac{ \\sum_{j>\\text{He}} m_j}{\\sum_k m_k}$. Metallicity of a galaxy is defined as the mass weighted average of the star particles of that galaxy: $Z = \\frac{ \\sum_j m_j Z^*_i}{\\sum_k m_k}$ (in the EAGLE simulations). \n",
    "\n",
    "I further normalize the metallicity of a galaxy by the solar metallicity $Z_\\odot = 0.0134$ (Wikipedia), and use the log-metallicity of the normalized quantity: $Z = \\log_{10} \\frac{ \\sum_j m_j Z^*_i}{\\sum_k m_k} - \\log_{10} Z_\\odot$.\n",
    "\n",
    "## Motivation\n",
    "\n",
    "What makes metallicity in low-mass halos lower:\n",
    "- Gas and dust less bound; some high-metallicity material gets ejected into the inter-galactic medium\n",
    "- Formed earlier, from less recycled gas\n",
    "- Lower recycling rate (less active?)\n",
    "\n",
    "A low-mass galaxy creates a relatively shallow potential well for the inter-stellar gas and dust. Thus, high-metallicity material is more easily ejected out of a low-mass galaxy, in a supernova explosion. Therefore, metallicity will tend to be higher in more massive galaxies. \n",
    "\n",
    "---\n",
    "\n",
    "## Set Parameters for the Plots\n",
    "\n",
    "Choose the snapshot and the simulations, and define M31 and MW in each simulation. Also, set the colors used for each simulation:"
   ]
  },
  {
   "cell_type": "code",
   "execution_count": null,
   "metadata": {
    "code_folding": []
   },
   "outputs": [],
   "source": [
    "snap_id = 127\n",
    "sim_ids = ['V1_MR_fix', 'V1_MR_curvaton_p082_fix']\n",
    "names = ['plain-LCDM', 'spec-p082']\n",
    "colors = ['black', 'red']\n",
    "\n",
    "m31 = [(1,0), (1,0)]\n",
    "mw = [(2,0), (1,1)]"
   ]
  },
  {
   "cell_type": "markdown",
   "metadata": {},
   "source": [
    "Choose how to distinguish between satellite and isolated galaxies:"
   ]
  },
  {
   "cell_type": "code",
   "execution_count": null,
   "metadata": {},
   "outputs": [],
   "source": [
    "distinction = 'by_r'\n",
    "maxdi = 2000 # Maximum distance from LG centre for isolated"
   ]
  },
  {
   "cell_type": "markdown",
   "metadata": {},
   "source": [
    "Set the low-mass threshold – subhalos, whose $v_\\mathrm{max}$ falls below this (in km/s) are excluded as potentially non-physical:"
   ]
  },
  {
   "cell_type": "code",
   "execution_count": null,
   "metadata": {},
   "outputs": [],
   "source": [
    "lowm = 10"
   ]
  },
  {
   "cell_type": "markdown",
   "metadata": {},
   "source": [
    "---\n",
    "\n",
    "## Retrieve Data\n",
    "\n",
    "### Create a Dictionary\n",
    "\n",
    "For easy handling of the relevant data, define a data dictionary that, at the top level, has entries for all simulations. Under each simulation entry, add items for the needed datasets and, under the 'Selections' key, a sub-dictionary of masking arrays for each needed condition (e.g. satellite, luminous, $v_\\mathrm{max}$ inside range, etc.).\n",
    "\n",
    "First, add the above definitions into the data dict:"
   ]
  },
  {
   "cell_type": "code",
   "execution_count": null,
   "metadata": {
    "code_folding": []
   },
   "outputs": [],
   "source": [
    "data = {}\n",
    "for name, sim_id, m31_ns, mw_ns, col in zip(names, sim_ids, m31, mw, colors):\n",
    "    data[name] = {'snapshot': snapshot.Snapshot(sim_id, snap_id, name=name),\n",
    "                  'M31_identifier': m31_ns,\n",
    "                  'MW_identifier': mw_ns,\n",
    "                  'Color': col}"
   ]
  },
  {
   "cell_type": "markdown",
   "metadata": {},
   "source": [
    "Then, loop over simulations, retrieve data, compute masking arrays, and add to the dictionary:"
   ]
  },
  {
   "cell_type": "code",
   "execution_count": null,
   "metadata": {
    "code_folding": []
   },
   "outputs": [],
   "source": [
    "metal_sun = np.log(0.0134)\n",
    "\n",
    "for name, sim_data in data.items():\n",
    "    # Get data:\\frac{ \\sum_j m_j Z^*_i}{\\sum_k m_k}\n",
    "    snap = sim_data[\"snapshot\"]\n",
    "    sm = snap.get_subhalos(\"Stars/Mass\") * units.g.to(units.Msun)\n",
    "    metal = np.log(snap.get_subhalos(\"Stars/Metallicity\")) - metal_sun\n",
    "    \n",
    "    # Split into satellites:\n",
    "    if distinction == \"by_r\":\n",
    "        masks_sat, mask_isol = dataset_comp.split_satellites_by_distance(\n",
    "            snap, sim_data[\"M31_identifier\"], sim_data[\"MW_identifier\"])\n",
    "    elif distinction == \"by_gn\":\n",
    "        masks_sat, mask_isol = dataset_comp.split_satellites_by_group_number(\n",
    "            snap, sim_data[\"M31_identifier\"], sim_data[\"MW_identifier\"])\n",
    "        \n",
    "    # Compute masking arrays:\n",
    "    mask_m31 = masks_sat[0]\n",
    "    mask_mw = masks_sat[1]\n",
    "    mask_lum, mask_dark = dataset_comp.split_luminous(snap)\n",
    "    \n",
    "    # Prune potential spurious:\n",
    "    mask_phys = dataset_comp.prune_vmax(snap, low_lim=10)\n",
    "    mask_m31 = np.logical_and(mask_phys, mask_m31)\n",
    "    mask_mw = np.logical_and(mask_phys, mask_mw)\n",
    "    mask_isol = np.logical_and(mask_phys, mask_isol)\n",
    "    mask_lum = np.logical_and(mask_phys, mask_lum)\n",
    "    mask_dark = np.logical_and(mask_phys, mask_dark)\n",
    "    \n",
    "    # Add datasets to dictionary:\n",
    "    data[name]['SM'] = sm\n",
    "    data[name]['Metallicity'] = metal\n",
    "\n",
    "    # Add selections (masking arrays):\n",
    "    data[name]['Selections'] = {\n",
    "        'M31': mask_m31,\n",
    "        'MW': mask_mw,\n",
    "        'Satellite': np.logical_or(mask_m31, mask_mw),\n",
    "        'Isolated': mask_isol,\n",
    "        'Luminous': mask_lum,\n",
    "        'Dark': mask_dark\n",
    "    }"
   ]
  },
  {
   "cell_type": "markdown",
   "metadata": {},
   "source": [
    "## Plot"
   ]
  },
  {
   "cell_type": "code",
   "execution_count": null,
   "metadata": {},
   "outputs": [],
   "source": [
    "# Set some parameters:\n",
    "x_down = 10**6; x_up = 10**11\n",
    "y_down = -6; y_up = 1\n",
    "\n",
    "# Set marker styles:\n",
    "fcolor = [\"black\", \"red\", \"blue\", \"green\"]\n",
    "mcolor = [\"gray\", \"pink\", \"lightblue\", \"lightgreen\"]\n",
    "marker = ['+', \"o\", \"^\", 1]"
   ]
  },
  {
   "cell_type": "code",
   "execution_count": null,
   "metadata": {},
   "outputs": [],
   "source": [
    "fig, axes = plt.subplots(ncols=2, figsize=(14,6))\n",
    "plt.subplots_adjust(wspace=0.3)\n",
    "\n",
    "# Set axis:\n",
    "for ax in axes:\n",
    "    ax.set_xscale('log')\n",
    "    ax.set_xlim(x_down, x_up)\n",
    "    ax.set_ylim(y_down, y_up)    \n",
    "    ax.set_xlabel('$M_*[\\mathrm{M_\\odot}]$', fontsize=16)\n",
    "    ax.set_ylabel('$<[Z]>$', fontsize=16)\n",
    "\n",
    "axes[0].set_title('Satellite galaxies')\n",
    "axes[1].set_title('Isolated galaxies')\n",
    "\n",
    "# Add scatter plots:\n",
    "for i, (name, entry) in enumerate(data.items()):\n",
    "    mask = np.logical_and(entry['Selections']['Satellite'],\n",
    "                          entry['Selections']['Luminous'])\n",
    "    x = entry['SM'][mask]\n",
    "    y = entry['Metallicity'][mask]\n",
    "    axes[0].scatter(x, y, s=20, marker=marker[i], c=mcolor[i], \\\n",
    "        edgecolor='none', label=name)\n",
    "    \n",
    "    mask = np.logical_and(entry['Selections']['Isolated'],\n",
    "                          entry['Selections']['Luminous'])\n",
    "    x = entry['SM'][mask]\n",
    "    y = entry['Metallicity'][mask]\n",
    "    axes[1].scatter(x, y, s=20, marker=marker[i], c=mcolor[i], \\\n",
    "        edgecolor='none', label=name)\n",
    "\n",
    "axes[0].legend(loc='lower right')\n",
    "plt.tight_layout()"
   ]
  },
  {
   "cell_type": "code",
   "execution_count": null,
   "metadata": {},
   "outputs": [],
   "source": [
    "    \n",
    "# Add median curves:\n",
    "n_median_points = 7\n",
    "for i, (name, entry) in enumerate(data.items()):\n",
    "    mask = np.logical_and(entry['Selections']['Satellite'],\n",
    "                          entry['Selections']['Luminous'])\n",
    "    x = entry['SM'][mask]\n",
    "    y = entry['Metallicity'][mask]\n",
    "    print(\"# of satellites: {}\".format(x.size))\n",
    "    median = curve_fit.median_once_more(x, y, n_points_per_bar=n_median_points)\n",
    "    if median is not None:\n",
    "        axes[0].plot(median[0], median[1], c=fcolor[i], linestyle='--')\n",
    "    else:\n",
    "        print(\"Could not fit median for:\", name)\n",
    "    \n",
    "    mask = np.logical_and(entry['Selections']['Isolated'],\n",
    "                          entry['Selections']['Luminous'])\n",
    "    x = entry['SM'][mask]\n",
    "    y = entry['Metallicity'][mask]\n",
    "    print(\"# of isolated galaxies: {}\".format(x.size))\n",
    "    median = curve_fit.median_once_more(x, y, n_points_per_bar=n_median_points)\n",
    "    if median is not None:\n",
    "        axes[1].plot(median[0], median[1], c=fcolor[i], linestyle='--')\n",
    "    else:\n",
    "        print(\"Could not fit median for:\", name)\n",
    "        \n",
    "fig"
   ]
  },
  {
   "cell_type": "markdown",
   "metadata": {},
   "source": [
    "### Save the Figure"
   ]
  },
  {
   "cell_type": "code",
   "execution_count": null,
   "metadata": {},
   "outputs": [],
   "source": [
    "# Construct saving location:\n",
    "filename = 'metallicity_{}'.format(distinction)\n",
    "for name in names:\n",
    "    filename += \"_{}\".format(name)\n",
    "filename += \".png\"\n",
    "        \n",
    "home = os.path.abspath(os.path.join('..'))\n",
    "path = os.path.join(home,'Figures', 'MediumResolution')\n",
    "filename = os.path.join(path, filename)\n",
    "\n",
    "plt.savefig(filename, dpi=200)"
   ]
  },
  {
   "cell_type": "code",
   "execution_count": null,
   "metadata": {},
   "outputs": [],
   "source": []
  }
 ],
 "metadata": {
  "kernelspec": {
   "display_name": "Python 3",
   "language": "python",
   "name": "python3"
  },
  "language_info": {
   "codemirror_mode": {
    "name": "ipython",
    "version": 3
   },
   "file_extension": ".py",
   "mimetype": "text/x-python",
   "name": "python",
   "nbconvert_exporter": "python",
   "pygments_lexer": "ipython3"
  }
 },
 "nbformat": 4,
 "nbformat_minor": 4
}
