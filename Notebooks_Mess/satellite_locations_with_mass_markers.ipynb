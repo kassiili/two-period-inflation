{
 "cells": [
  {
   "cell_type": "code",
   "execution_count": null,
   "metadata": {},
   "outputs": [],
   "source": [
    "%load_ext autoreload\n",
    "%autoreload 2\n",
    "\n",
    "%config IPCompleter.greedy=True"
   ]
  },
  {
   "cell_type": "code",
   "execution_count": null,
   "metadata": {},
   "outputs": [],
   "source": [
    "import numpy as np\n",
    "import os\n",
    "import matplotlib.pyplot as plt\n",
    "from astropy import units\n",
    "from astropy.constants import G\n",
    "import importlib\n",
    "\n",
    "import dataset_compute\n",
    "import snapshot_obj"
   ]
  },
  {
   "cell_type": "code",
   "execution_count": null,
   "metadata": {},
   "outputs": [],
   "source": [
    "importlib.reload(dataset_compute)\n",
    "importlib.reload(snapshot_obj)"
   ]
  },
  {
   "cell_type": "markdown",
   "metadata": {},
   "source": [
    "## Construct data dictionary\n",
    "\n",
    "Add entries for each simulation, and specify M31 and MW galaxies:"
   ]
  },
  {
   "cell_type": "code",
   "execution_count": null,
   "metadata": {
    "code_folding": []
   },
   "outputs": [],
   "source": [
    "snap_id = 127\n",
    "sim_ids = [\"V1_LR_fix\", \"V1_LR_curvaton_p082_fix\", \"V1_LR_curvaton_p084_fix\"]\n",
    "names = [\"LCDM\", \"p082\", \"p084\"]\n",
    "direc = \"LowResolution\"\n",
    "\n",
    "# Define M31 and MW in each simulation:\n",
    "m31 = [(1,0), (1,0), (1,0)]\n",
    "mw = [(2,0), (1,1), (1,0)]\n",
    "\n",
    "data = {}\n",
    "for name, sim_id, m31_ns, mw_ns in zip(names, sim_ids, m31, mw):\n",
    "    data[name] = {\"snapshot\": snapshot_obj.Snapshot(sim_id, snap_id, name=name),\n",
    "                  \"M31_identifier\": m31_ns,\n",
    "                  \"MW_identifier\": mw_ns}"
   ]
  },
  {
   "cell_type": "code",
   "execution_count": null,
   "metadata": {
    "code_folding": []
   },
   "outputs": [],
   "source": [
    "snap_id = 127\n",
    "sim_ids = [\"V1_MR_fix\", \"V1_MR_curvaton_p082_fix\"]\n",
    "names = [\"plain-LCDM\", \"curv-p082\"]\n",
    "direc = \"MediumResolution\"\n",
    "\n",
    "# Define M31 and MW in each simulation:\n",
    "m31 = [(1,0), (1,0)]\n",
    "mw = [(2,0), (1,1)]\n",
    "\n",
    "data = {}\n",
    "for name, sim_id, m31_ns, mw_ns in zip(names, sim_ids, m31, mw):\n",
    "    data[name] = {\"snapshot\": snapshot_obj.Snapshot(sim_id, snap_id, name=name),\n",
    "                  \"M31_identifier\": m31_ns,\n",
    "                  \"MW_identifier\": mw_ns}"
   ]
  },
  {
   "cell_type": "markdown",
   "metadata": {},
   "source": [
    "Choose how to distinguish between satellite and isolated galaxies:"
   ]
  },
  {
   "cell_type": "code",
   "execution_count": null,
   "metadata": {},
   "outputs": [],
   "source": [
    "distinction = \"by_gn\""
   ]
  },
  {
   "cell_type": "markdown",
   "metadata": {},
   "source": [
    "Read datasets, split into satellites and isolated galaxies, and add to the data dictionary. We also disregard dark halos and potential spurious halos with $v_\\mathrm{max} = 0$."
   ]
  },
  {
   "cell_type": "code",
   "execution_count": null,
   "metadata": {
    "code_folding": []
   },
   "outputs": [],
   "source": [
    "for name, sim_data in data.items():\n",
    "    # Get data:\n",
    "    snap = sim_data[\"snapshot\"]\n",
    "    cops = snap.get_subhalos(\"CentreOfPotential\") * units.cm.to(units.Mpc)\n",
    "    mass = snap.get_subhalos(\"Vmax\") * units.g.to(units.Msun)\n",
    "    \n",
    "    m31 = sim_data[\"M31_identifier\"]\n",
    "    mw = sim_data[\"MW_identifier\"]\n",
    "    \n",
    "    # Split into satellites:\n",
    "    if distinction == \"by_r\":\n",
    "        masks_sat, mask_isol = dataset_compute.split_satellites_by_distance(\n",
    "            snap, m31, mw)\n",
    "    elif distinction == \"by_gn\":\n",
    "        masks_sat, mask_isol = dataset_compute.split_satellites_by_group_number(\n",
    "            snap, m31, mw)\n",
    "    \n",
    "    mask_nonzero_vmax = dataset_compute.prune_vmax(snap)\n",
    "\n",
    "    # Add to dictionary:\n",
    "    data[name][\"LG_centre\"] = dataset_compute.compute_LG_centre(snap, m31, mw) \\\n",
    "        * units.cm.to(units.Mpc)\n",
    "    m31_idx = snap.index_of_halo(m31[0], m31[1])\n",
    "    mw_idx = snap.index_of_halo(mw[0], mw[1])\n",
    "    for dataset_name, dataset in zip([\"COP\", \"Mass\"], [cops, mass]):\n",
    "        data[name][dataset_name] = \\\n",
    "        {\"M31\": dataset[m31_idx],\n",
    "         \"MW\": dataset[mw_idx],\n",
    "         \"M31_satellites\": dataset[np.logical_and(masks_sat[0], mask_nonzero_vmax)],\n",
    "         \"MW_satellites\": dataset[np.logical_and(masks_sat[1], mask_nonzero_vmax)],\n",
    "         \"isolated\": dataset[np.logical_and(mask_isol, mask_nonzero_vmax)]\n",
    "        }"
   ]
  },
  {
   "cell_type": "code",
   "execution_count": null,
   "metadata": {},
   "outputs": [],
   "source": [
    "# Construct saving location:\n",
    "filename = 'satellite_locations_with_mass_markers'\n",
    "for name in names:\n",
    "    filename += \"_{}\".format(name)\n",
    "filename += \".png\"\n",
    "    \n",
    "home = os.path.dirname(snapshot_obj.__file__)\n",
    "path = os.path.join(home,\"Figures\", direc)\n",
    "filename = os.path.join(path, filename)"
   ]
  },
  {
   "cell_type": "code",
   "execution_count": null,
   "metadata": {},
   "outputs": [],
   "source": [
    "projs = [[\"x\", \"y\", 0, 1],\n",
    "         [\"x\", \"z\", 0, 2]]\n",
    "\n",
    "fig, axes = plt.subplots(sharey='row', sharex='col', figsize=(10,7),\n",
    "                         ncols=len(data), nrows=len(projs))\n",
    "plt.subplots_adjust(wspace=0.04)\n",
    "plt.subplots_adjust(hspace=0.04)\n",
    "\n",
    "axes[1,0].set_xlabel(\"$x [\\mathrm{Mpc}]$\")\n",
    "axes[1,1].set_xlabel(\"$x [\\mathrm{Mpc}]$\")\n",
    "axes[0,0].set_ylabel(\"$y [\\mathrm{Mpc}]$\")\n",
    "axes[1,0].set_ylabel(\"$z [\\mathrm{Mpc}]$\")\n",
    "\n",
    "centre = np.mean(np.vstack(\n",
    "    [sim_data[\"LG_centre\"] for sim_data in data.values()]),\n",
    "                 axis=0)\n",
    "\n",
    "# Iterate through simulations (columns):\n",
    "for i, (key, sim_data) in enumerate(data.items()):\n",
    "    m31 = sim_data[\"M31_identifier\"]\n",
    "    mw = sim_data[\"MW_identifier\"]\n",
    "    m31_idx = snap.index_of_halo(m31[0], m31[1])\n",
    "    mw_idx = snap.index_of_halo(mw[0], mw[1])\n",
    "    \n",
    "    axes[0, i].set_title(key)\n",
    "    \n",
    "    smin = 0.01; smax = 3\n",
    "    all_dwarfs = np.concatenate([sim_data[\"Mass\"][\"isolated\"], \n",
    "                                sim_data[\"Mass\"][\"M31_satellites\"],\n",
    "                                sim_data[\"Mass\"][\"MW_satellites\"]])\n",
    "    mmax = np.min(all_dwarfs)\n",
    "    mmin = np.max(all_dwarfs)\n",
    "    \n",
    "    def transf(x):\n",
    "        return 1/(mmax-mmin) * (smin*(x-mmin) - smax*(x-mmax))\n",
    "    \n",
    "    # Iterate through projections (rows):   \n",
    "    ax_size = 5\n",
    "    for j, ((x, x_idx), (y, y_idx)) in enumerate(\n",
    "        zip([(\"x\", 0), (\"x\", 0)], [(\"y\", 1), (\"z\", 2)])):\n",
    "        \n",
    "        axes[j, i].set_xlim(centre[x_idx] - ax_size/2, \n",
    "                            centre[x_idx] + ax_size/2)\n",
    "        axes[j, i].set_ylim(centre[y_idx] - ax_size/2, \n",
    "                            centre[y_idx] + ax_size/2)\n",
    "        \n",
    "        axes[j, i].scatter(sim_data[\"COP\"]['isolated'][:,x_idx], \n",
    "                           sim_data[\"COP\"]['isolated'][:,y_idx], \n",
    "                           c='gray', \n",
    "                           s=transf(sim_data[\"Mass\"][\"isolated\"]))\n",
    "        axes[j, i].scatter(sim_data[\"COP\"]['M31_satellites'][:,x_idx], \n",
    "                           sim_data[\"COP\"]['M31_satellites'][:,y_idx], \n",
    "                           c='pink', \n",
    "                           s=transf(sim_data[\"Mass\"][\"M31_satellites\"]))\n",
    "        axes[j, i].scatter(sim_data[\"COP\"]['MW_satellites'][:,x_idx], \n",
    "                           sim_data[\"COP\"]['MW_satellites'][:,y_idx], \n",
    "                           c='lightblue', \n",
    "                           s=transf(sim_data[\"Mass\"][\"MW_satellites\"]))\n",
    "        \n",
    "        m31_cop = sim_data[\"COP\"]['M31']\n",
    "        axes[j, i].scatter(m31_cop[x_idx], m31_cop[y_idx], c='red', s=smax)\n",
    "        mw_cop = sim_data[\"COP\"]['MW']\n",
    "        axes[j, i].scatter(mw_cop[x_idx], mw_cop[y_idx], c='blue', s=smax)\n",
    "        \n",
    "plt.savefig(filename, dpi=300)"
   ]
  },
  {
   "cell_type": "code",
   "execution_count": null,
   "metadata": {},
   "outputs": [],
   "source": []
  }
 ],
 "metadata": {
  "kernelspec": {
   "display_name": "Python 3",
   "language": "python",
   "name": "python3"
  },
  "language_info": {
   "codemirror_mode": {
    "name": "ipython",
    "version": 3
   },
   "file_extension": ".py",
   "mimetype": "text/x-python",
   "name": "python",
   "nbconvert_exporter": "python",
   "pygments_lexer": "ipython3"
  }
 },
 "nbformat": 4,
 "nbformat_minor": 4
}
