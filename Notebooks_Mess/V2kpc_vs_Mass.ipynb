{
 "cells": [
  {
   "cell_type": "code",
   "execution_count": null,
   "metadata": {},
   "outputs": [],
   "source": [
    "%load_ext autoreload\n",
    "%autoreload 2\n",
    "\n",
    "%config IPCompleter.greedy=True"
   ]
  },
  {
   "cell_type": "markdown",
   "metadata": {},
   "source": [
    "# $v_\\text{2kpc}$ vs. halo mass\n",
    "\n",
    "First, imports:"
   ]
  },
  {
   "cell_type": "code",
   "execution_count": null,
   "metadata": {},
   "outputs": [],
   "source": [
    "import matplotlib.pyplot as plt\n",
    "import numpy as np\n",
    "import h5py\n",
    "from astropy import units\n",
    "from pathlib import Path\n",
    "import os\n",
    "import time\n",
    "\n",
    "import snapshot_obj\n",
    "import dataset_compute\n",
    "import curve_fit\n",
    "\n",
    "import importlib"
   ]
  },
  {
   "cell_type": "code",
   "execution_count": null,
   "metadata": {},
   "outputs": [],
   "source": [
    "importlib.reload(snapshot_obj)\n",
    "importlib.reload(dataset_compute)\n",
    "importlib.reload(curve_fit)"
   ]
  },
  {
   "cell_type": "markdown",
   "metadata": {},
   "source": [
    "## Construct data dictionary\n",
    "\n",
    "Add entries for each simulation, and specify M31 and MW galaxies:"
   ]
  },
  {
   "cell_type": "code",
   "execution_count": null,
   "metadata": {
    "code_folding": []
   },
   "outputs": [],
   "source": [
    "snap_id = 127\n",
    "sim_ids = [\"V1_LR_fix\", \"V1_LR_curvaton_p082_fix\", \"V1_LR_curvaton_p084_fix\"]\n",
    "sim_ids = [\"V1_MR_fix\"]\n",
    "\n",
    "names = [\"LCDM\", \"p082\", \"p084\"]\n",
    "paths = [\"\", \"/media/kassiili/USBFREE/LG_simulations\", \n",
    "        \"/media/kassiili/USBFREE/LG_simulations\"]\n",
    "paths = [\"\", \"\", \"\"]\n",
    "\n",
    "# Define M31 and MW in each simulation:\n",
    "m31 = [(1,0), (1,0), (1,0)]\n",
    "mw = [(2,0), (1,1), (1,1)]\n",
    "\n",
    "data = {}\n",
    "for name, sim_id, sim_path, m31_ns, mw_ns in zip(names, sim_ids, paths, m31, mw):\n",
    "    data[name] = {\"snapshot\": snapshot_obj.Snapshot(sim_id, snap_id, name=name,\n",
    "                                                    sim_path=sim_path),\n",
    "                  \"M31_identifier\": m31_ns,\n",
    "                  \"MW_identifier\": mw_ns}"
   ]
  },
  {
   "cell_type": "markdown",
   "metadata": {},
   "source": [
    "Choose how to distinguish between satellite and isolated galaxies:"
   ]
  },
  {
   "cell_type": "code",
   "execution_count": null,
   "metadata": {},
   "outputs": [],
   "source": [
    "distinction = \"by_gn\""
   ]
  },
  {
   "cell_type": "markdown",
   "metadata": {},
   "source": [
    "Read datasets, split into satellites and isolated galaxies, and add to the data dictionary. Add entries for all subhalos as well as luminous and dark subhalos. We also disregard potential spurious halos with $v_\\mathrm{max} = 0$."
   ]
  },
  {
   "cell_type": "code",
   "execution_count": null,
   "metadata": {
    "code_folding": []
   },
   "outputs": [],
   "source": [
    "for name, sim_data in data.items():\n",
    "    # Get data:\n",
    "    snap = sim_data[\"snapshot\"]\n",
    "    mass = snap.get_subhalos(\"Mass\") * units.g.to(units.Msun)\n",
    "    v2kpc = snap.get_subhalos(\"V2kpc\", \"Extended\") * units.cm.to(units.km)\n",
    "\n",
    "    # Split into satellites:\n",
    "    if distinction == \"by_r\":\n",
    "        masks_sat, mask_isol = dataset_compute.split_satellites_by_distance(\n",
    "            snap, sim_data[\"M31_identifier\"], sim_data[\"MW_identifier\"])\n",
    "    elif distinction == \"by_gn\":\n",
    "        masks_sat, mask_isol = dataset_compute.split_satellites_by_group_number(\n",
    "            snap, sim_data[\"M31_identifier\"], sim_data[\"MW_identifier\"])\n",
    "        \n",
    "    mask_lum, mask_dark = dataset_compute.split_luminous(snap)\n",
    "    mask_nonzero_vmax = dataset_compute.prune_vmax(snap)\n",
    "    \n",
    "    # Add to dictionary:\n",
    "    for dataset_name, dataset in zip([\"Mass\", \"v2kpc\"],[mass, v2kpc]):\n",
    "        data[name][dataset_name] = \\\n",
    "        {\"satellites\": \n",
    "         {\"all\": dataset[np.logical_and(\n",
    "             np.logical_or.reduce(masks_sat), mask_nonzero_vmax\n",
    "         )],\n",
    "          \"luminous\": dataset[np.logical_and.reduce(\n",
    "             [np.logical_or.reduce(masks_sat), mask_lum, mask_nonzero_vmax]\n",
    "         )],\n",
    "          \"dark\": dataset[np.logical_and.reduce(\n",
    "              [np.logical_or.reduce(masks_sat), mask_dark, mask_nonzero_vmax]\n",
    "          )]\n",
    "         },\n",
    "         \"isolated\":\n",
    "         {\"all\": dataset[np.logical_and(\n",
    "             mask_isol, mask_nonzero_vmax\n",
    "         )],\n",
    "          \"luminous\": dataset[np.logical_and.reduce(\n",
    "             [mask_isol, mask_lum, mask_nonzero_vmax]\n",
    "         )],\n",
    "          \"dark\": dataset[np.logical_and.reduce(\n",
    "              [mask_isol, mask_dark, mask_nonzero_vmax]\n",
    "          )]\n",
    "         }\n",
    "        }"
   ]
  },
  {
   "cell_type": "markdown",
   "metadata": {},
   "source": [
    "## Plot all subhalos"
   ]
  },
  {
   "cell_type": "code",
   "execution_count": null,
   "metadata": {},
   "outputs": [],
   "source": [
    "# Set some parameters:\n",
    "x_down = 2*10**7; x_up = 10**12\n",
    "y_down = 10; y_up = 70\n",
    "\n",
    "# Set marker styles:\n",
    "fcolor = [\"black\", \"red\", \"blue\", \"green\"]\n",
    "mcolor = [\"gray\", \"pink\", \"lightblue\", \"lightgreen\"]\n",
    "marker = ['+', \"o\", \"^\", 1]"
   ]
  },
  {
   "cell_type": "code",
   "execution_count": null,
   "metadata": {},
   "outputs": [],
   "source": [
    "# Construct saving location:\n",
    "filename = 'V2kpc_vs_mass_all_{}'.format(distinction)\n",
    "for name in names:\n",
    "    filename += \"_{}\".format(name)\n",
    "filename += \".png\"\n",
    "    \n",
    "home = os.path.dirname(snapshot_obj.__file__)\n",
    "path = os.path.join(home, \"Figures\", \"V1_MR_fix\")\n",
    "filename = os.path.join(path, filename)"
   ]
  },
  {
   "cell_type": "code",
   "execution_count": null,
   "metadata": {},
   "outputs": [],
   "source": [
    "fig, axes = plt.subplots(ncols=2, figsize=(14,6))\n",
    "plt.subplots_adjust(wspace=0.3)\n",
    "\n",
    "# Set axis:\n",
    "for ax in axes:\n",
    "    ax.set_xscale('log')\n",
    "    ax.set_yscale('log')\n",
    "    ax.set_xlim(x_down, x_up)\n",
    "    ax.set_ylim(y_down, y_up)\n",
    "    ax.set_xlabel('$Mass [$M_odot$]$', fontsize=16)\n",
    "    ax.set_ylabel('$v_{\\mathrm{2kpc}} [\\mathrm{kms^{-1}}]$', fontsize=16)\n",
    "\n",
    "axes[0].set_title('Satellite galaxies')\n",
    "axes[1].set_title('Isolated galaxies')\n",
    "\n",
    "# Add scatter plots:\n",
    "for i, (name, entry) in enumerate(data.items()):\n",
    "    x = entry['Mass']['satellites']['luminous']\n",
    "    y = entry['v2kpc']['satellites']['luminous']\n",
    "    axes[0].scatter(x, y, s=30, facecolors='none', edgecolors=mcolor[i])    \n",
    "    x = entry['Mass']['satellites']['dark']\n",
    "    y = entry['v2kpc']['satellites']['dark']\n",
    "    axes[0].scatter(x, y, s=30, c=mcolor[i], \\\n",
    "        edgecolor='none', label=name)\n",
    "    \n",
    "    x = entry['Mass']['isolated']['luminous']\n",
    "    y = entry['v2kpc']['isolated']['luminous']\n",
    "    axes[1].scatter(x, y, s=30, facecolors='none', edgecolors=mcolor[i])    \n",
    "    x = entry['Mass']['isolated']['dark']\n",
    "    y = entry['v2kpc']['isolated']['dark']\n",
    "    axes[1].scatter(x, y, s=30, c=mcolor[i], \\\n",
    "        edgecolor='none', label=name)\n",
    "    \n",
    "# Add median curves:\n",
    "# n_median_points = 7\n",
    "# for i, (name, entry) in enumerate(data.items()):\n",
    "#     x = entry['Mass']['satellites']['all']\n",
    "#     y = entry['v2kpc']['satellites']['all']   \n",
    "#     print(\"# of satellites: {}\".format(x.size))\n",
    "#     median = curve_fit.median_trend(x, y, n_points_per_bar=n_median_points)\n",
    "#     if median is not None:\n",
    "#         axes[0].plot(median[0], median[1], c=fcolor[i], linestyle='--')\n",
    "#     else:\n",
    "#         print(\"Could not fit median for:\", name)\n",
    "    \n",
    "#     x = entry['Mass']['isolated']['all']\n",
    "#     y = entry['v2kpc']['isolated']['all']\n",
    "#     print(\"# of isolated galaxies: {}\".format(x.size))\n",
    "#     median = curve_fit.median_trend(x, y, n_points_per_bar=n_median_points)\n",
    "#     if median is not None:\n",
    "#         axes[1].plot(median[0], median[1], c=fcolor[i], linestyle='--')\n",
    "#     else:\n",
    "#         print(\"Could not fit median for:\", name)\n",
    "    \n",
    "axes[0].legend(loc='lower right')\n",
    "plt.tight_layout()\n",
    "\n",
    "plt.savefig(filename, dpi=200)"
   ]
  },
  {
   "cell_type": "code",
   "execution_count": null,
   "metadata": {},
   "outputs": [],
   "source": []
  }
 ],
 "metadata": {
  "kernelspec": {
   "display_name": "Python 3",
   "language": "python",
   "name": "python3"
  },
  "language_info": {
   "codemirror_mode": {
    "name": "ipython",
    "version": 3
   },
   "file_extension": ".py",
   "mimetype": "text/x-python",
   "name": "python",
   "nbconvert_exporter": "python",
   "pygments_lexer": "ipython3"
  }
 },
 "nbformat": 4,
 "nbformat_minor": 4
}
