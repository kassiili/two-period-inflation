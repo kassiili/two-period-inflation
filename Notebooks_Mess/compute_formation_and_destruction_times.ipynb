{
 "cells": [
  {
   "cell_type": "code",
   "execution_count": null,
   "metadata": {},
   "outputs": [],
   "source": [
    "%load_ext autoreload\n",
    "%autoreload 2\n",
    "\n",
    "%config IPCompleter.greedy=True"
   ]
  },
  {
   "cell_type": "code",
   "execution_count": null,
   "metadata": {},
   "outputs": [],
   "source": [
    "import numpy as np\n",
    "import matplotlib.pyplot as plt\n",
    "import os\n",
    "from astropy import units\n",
    "import plotly.graph_objects as go\n",
    "\n",
    "import importlib\n",
    "\n",
    "import simulation\n",
    "import snapshot_obj\n",
    "import simulation_tracing\n",
    "import dataset_compute\n",
    "import subhalo"
   ]
  },
  {
   "cell_type": "code",
   "execution_count": null,
   "metadata": {},
   "outputs": [],
   "source": [
    "importlib.reload(simulation)\n",
    "importlib.reload(snapshot_obj)\n",
    "importlib.reload(simulation_tracing)\n",
    "importlib.reload(dataset_compute)\n",
    "importlib.reload(subhalo)"
   ]
  },
  {
   "cell_type": "code",
   "execution_count": null,
   "metadata": {},
   "outputs": [],
   "source": []
  },
  {
   "cell_type": "code",
   "execution_count": null,
   "metadata": {},
   "outputs": [],
   "source": [
    "sim = simulation.Simulation(\"V1_LR_fix\")\n",
    "m31 = subhalo.SubhaloTracer(sim, 127, 1, 0)\n",
    "mw = subhalo.SubhaloTracer(sim, 127, 1, 1)"
   ]
  },
  {
   "cell_type": "code",
   "execution_count": null,
   "metadata": {},
   "outputs": [],
   "source": [
    "snap_start = 100\n",
    "snap_stop = 128"
   ]
  },
  {
   "cell_type": "code",
   "execution_count": null,
   "metadata": {},
   "outputs": [],
   "source": [
    "mtree = simulation_tracing.MergerTree(sim, branching=\"BackwardBranching\")\n",
    "mtree.build_tree(snap_start, snap_stop)\n",
    "heritage = mtree.get_all_matches()"
   ]
  },
  {
   "cell_type": "code",
   "execution_count": null,
   "metadata": {},
   "outputs": [],
   "source": [
    "print(heritage.keys())\n",
    "print(heritage[120].keys())\n"
   ]
  },
  {
   "cell_type": "code",
   "execution_count": null,
   "metadata": {},
   "outputs": [],
   "source": [
    "snaps = list(heritage.keys())\n",
    "snaps.sort()\n",
    "print(snaps)"
   ]
  },
  {
   "cell_type": "code",
   "execution_count": null,
   "metadata": {},
   "outputs": [],
   "source": [
    "formation_time = {snap_id: snap_id * np.ones(sim.get_snapshot(snap_id).get_subhalo_number()) \n",
    "                  for snap_id in snaps}\n",
    "destruction_time = {snap_id: mtree.no_match * np.ones(\n",
    "        sim.get_snapshot(snap_id).get_subhalo_number(), dtype=int\n",
    "    ) for snap_id in snaps}"
   ]
  },
  {
   "cell_type": "code",
   "execution_count": null,
   "metadata": {},
   "outputs": [],
   "source": [
    "progs_in_snap = {snap_id: np.arange(sim.get_snapshot(snap_id).get_subhalo_number())\n",
    "                 for snap_id in snaps\n",
    "                }\n",
    "\n",
    "# Iterate through snapshots backward in time:\n",
    "for snap_id in snaps[::-1]:\n",
    "    if 'Progenitors' not in heritage[snap_id].keys():\n",
    "        print(\"here\")\n",
    "        continue\n",
    "\n",
    "    progs = heritage[snap_id]['Progenitors']\n",
    "        \n",
    "    # Update formation times for the satellites in the succeeding \n",
    "    # snapshots:\n",
    "    for succ_snap_id in snaps[snaps.index(snap_id):]:\n",
    "#         print(succ_snap_id, snap_id)\n",
    "        # Select subhalos in succ_snap that have a progenitor in snap:\n",
    "        mask_prog_in_snap = progs_in_snap[succ_snap_id] != mtree.no_match\n",
    "#         print(np.sum(mask_prog_in_snap))\n",
    "#         print(mask_prog_in_snap.shape)\n",
    "            \n",
    "        # Find the (potential) progenitors of these in the snapshot \n",
    "        # preceding snap:\n",
    "        progs_in_prev = mtree.no_match * np.ones(mask_prog_in_snap.size,\n",
    "                                                 dtype=int)\n",
    "#         print(progs[progs_in_snap[succ_snap_id][mask_prog_in_snap], 0])\n",
    "        progs_in_prev[mask_prog_in_snap] = \\\n",
    "            progs[progs_in_snap[succ_snap_id][mask_prog_in_snap], 0]\n",
    "#         print(progs_in_prev.size)\n",
    "            \n",
    "        # Select those that have progenitors in the previous snapshot,\n",
    "        # update their formation times:\n",
    "        mask_prog_in_prev = progs_in_prev != mtree.no_match\n",
    "#         print(np.sum(mask_prog_in_prev))\n",
    "        formation_time[succ_snap_id][mask_prog_in_prev] = snap_id - 1\n",
    "            \n",
    "        # Update progs_in_snap for foll_snap:\n",
    "        progs_in_snap[succ_snap_id] = progs_in_prev"
   ]
  },
  {
   "cell_type": "code",
   "execution_count": null,
   "metadata": {
    "jupyter": {
     "outputs_hidden": true
    }
   },
   "outputs": [],
   "source": [
    "descs_in_snap = {snap_id: np.arange(sim.get_snapshot(snap_id).get_subhalo_number())\n",
    "                 for snap_id in snaps\n",
    "                }\n",
    "\n",
    "# Iterate through snapshots forward in time:\n",
    "for snap_id in snaps:\n",
    "    if 'Descendants' not in heritage[snap_id].keys():\n",
    "        print(\"here\")\n",
    "        continue\n",
    "\n",
    "    descs = heritage[snap_id]['Descendants']\n",
    "        \n",
    "    # Update destruction times for the satellites in the previous \n",
    "    # snapshots:\n",
    "    for prev_snap_id in snaps[:snaps.index(snap_id) + 1]:\n",
    "        print(prev_snap_id, snap_id)\n",
    "        # Select subhalos in prev_snap that have a descendant in snap:\n",
    "        mask_desc_in_snap = descs_in_snap[prev_snap_id] != mtree.no_match\n",
    "        print(np.sum(mask_desc_in_snap))\n",
    "        print(mask_desc_in_snap.shape)\n",
    "            \n",
    "        # Find the (potential) descendants of these in the snapshot \n",
    "        # succeeding snap:\n",
    "        descs_in_succ = mtree.no_match * np.ones(mask_desc_in_snap.size,\n",
    "                                                 dtype=int)\n",
    "#         print(descs[descs_in_snap[prev_snap_id][mask_desc_in_snap]])\n",
    "        descs_in_succ[mask_desc_in_snap] = \\\n",
    "            descs[descs_in_snap[prev_snap_id][mask_desc_in_snap]]\n",
    "        print(descs_in_succ.size)\n",
    "            \n",
    "        # Select those that have descendants in the previous snapshot,\n",
    "        # update their formation times:\n",
    "        mask_no_desc_in_succ = descs_in_succ == mtree.no_match\n",
    "        print(np.sum(mask_no_desc_in_succ))\n",
    "        destruction_time[prev_snap_id][\n",
    "            np.logical_and(mask_desc_in_snap, mask_no_desc_in_succ)\n",
    "        ] = snap_id\n",
    "            \n",
    "        # Update descs_in_snap for prev_snap:\n",
    "        descs_in_snap[prev_snap_id] = descs_in_succ"
   ]
  },
  {
   "cell_type": "code",
   "execution_count": null,
   "metadata": {},
   "outputs": [],
   "source": [
    "snap_id = 110\n",
    "print(formation_time[snap_id][:100])\n",
    "print(destruction_time[snap_id][:100])"
   ]
  },
  {
   "cell_type": "code",
   "execution_count": null,
   "metadata": {},
   "outputs": [],
   "source": []
  }
 ],
 "metadata": {
  "kernelspec": {
   "display_name": "Python 3",
   "language": "python",
   "name": "python3"
  },
  "language_info": {
   "codemirror_mode": {
    "name": "ipython",
    "version": 3
   },
   "file_extension": ".py",
   "mimetype": "text/x-python",
   "name": "python",
   "nbconvert_exporter": "python",
   "pygments_lexer": "ipython3"
  }
 },
 "nbformat": 4,
 "nbformat_minor": 4
}
