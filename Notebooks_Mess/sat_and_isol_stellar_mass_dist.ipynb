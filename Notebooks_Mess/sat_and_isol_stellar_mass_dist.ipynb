{
 "cells": [
  {
   "cell_type": "code",
   "execution_count": null,
   "metadata": {},
   "outputs": [],
   "source": [
    "%load_ext autoreload\n",
    "%autoreload 2\n",
    "\n",
    "%config IPCompleter.greedy=True"
   ]
  },
  {
   "cell_type": "code",
   "execution_count": null,
   "metadata": {},
   "outputs": [],
   "source": [
    "import matplotlib.pyplot as plt\n",
    "import numpy as np\n",
    "from astropy import units\n",
    "from pathlib import Path\n",
    "import os\n",
    "\n",
    "import snapshot_obj\n",
    "import dataset_compute\n",
    "\n",
    "import importlib"
   ]
  },
  {
   "cell_type": "code",
   "execution_count": null,
   "metadata": {},
   "outputs": [],
   "source": [
    "importlib.reload(snapshot_obj)\n",
    "importlib.reload(dataset_compute)"
   ]
  },
  {
   "cell_type": "markdown",
   "metadata": {},
   "source": [
    "# Stellar mass distribution of satellites and isolated halos"
   ]
  },
  {
   "cell_type": "markdown",
   "metadata": {},
   "source": [
    "Create a dictionary of the datasets from each simulation. "
   ]
  },
  {
   "cell_type": "code",
   "execution_count": null,
   "metadata": {
    "code_folding": []
   },
   "outputs": [],
   "source": [
    "snap_id = 127\n",
    "sim_ids = [\"V1_LR_fix\", \"V1_LR_curvaton_p082_fix\", \"V1_LR_curvaton_p084_fix\"]\n",
    "names = [\"LCDM\", \"p082\", \"p084\"]\n",
    "\n",
    "# Define M31 and MW in each simulation:\n",
    "m31 = [(1,0), (1,0), (1,0)]\n",
    "mw = [(2,0), (1,1), (1,0)]\n",
    "\n",
    "data = {}\n",
    "for name, sim_id, m31_ns, mw_ns in zip(names, sim_ids, m31, mw):\n",
    "    data[name] = {\"snapshot\": snapshot_obj.Snapshot(sim_id, snap_id, name=name),\n",
    "                  \"M31_identifier\": m31_ns,\n",
    "                  \"MW_identifier\": mw_ns}"
   ]
  },
  {
   "cell_type": "code",
   "execution_count": null,
   "metadata": {},
   "outputs": [],
   "source": [
    "z = data[\"LCDM\"][\"snapshot\"].get_attribute(\"Redshift\", \"Header\")"
   ]
  },
  {
   "cell_type": "markdown",
   "metadata": {},
   "source": [
    "## Get data for plotting"
   ]
  },
  {
   "cell_type": "markdown",
   "metadata": {},
   "source": [
    "Choose how to distinguish between satellites and isolated:"
   ]
  },
  {
   "cell_type": "code",
   "execution_count": null,
   "metadata": {},
   "outputs": [],
   "source": [
    "distinction = \"by_gn\""
   ]
  },
  {
   "cell_type": "markdown",
   "metadata": {},
   "source": [
    "Read the datasets from each simulation, convert the units and split into satellites/isolated and luminous/dark:"
   ]
  },
  {
   "cell_type": "code",
   "execution_count": null,
   "metadata": {},
   "outputs": [],
   "source": [
    "def arrange_sm_array(sm):\n",
    "    sm = np.concatenate((np.sort(sm)[::-1], np.array([0.01]))) \n",
    "    return sm\n",
    "\n",
    "def construct_count_array(size):\n",
    "    return np.concatenate((np.arange(1, size+1), \n",
    "                           np.array([size])))"
   ]
  },
  {
   "cell_type": "code",
   "execution_count": null,
   "metadata": {
    "code_folding": []
   },
   "outputs": [],
   "source": [
    "for key, sim_data in data.items():    \n",
    "    # Get data:\n",
    "    snap = sim_data[\"snapshot\"]\n",
    "    sm = snap.get_subhalos(\"Stars/Mass\") * units.g.to(units.Msun)\n",
    "    \n",
    "    # Add M31 and MW to the dictionary:\n",
    "    idx_m31 = snap.index_of_halo(sim_data[\"M31_identifier\"][0], sim_data[\"M31_identifier\"][1])\n",
    "    sim_data[\"M31\"] = {\"StellarMass\": sm[idx_m31]}\n",
    "    idx_mw = snap.index_of_halo(sim_data[\"MW_identifier\"][0], sim_data[\"MW_identifier\"][1])\n",
    "    sim_data[\"MW\"] = {\"StellarMass\": sm[idx_mw]}\n",
    "    \n",
    "    # Compute masking arrays:\n",
    "    mask_lum, mask_dark = dataset_compute.split_luminous(snap)\n",
    "    mask_nonzero_vmax = dataset_compute.prune_vmax(snap)\n",
    "    if distinction == \"by_r\":\n",
    "        mask_sat, mask_isol = dataset_compute.split_satellites_by_distance(\n",
    "            snap, sim_data[\"M31_identifier\"], sim_data[\"MW_identifier\"])\n",
    "    elif distinction == \"by_gn\":\n",
    "        mask_sat, mask_isol = dataset_compute.split_satellites_by_group_number(\n",
    "            snap, sim_data[\"M31_identifier\"], sim_data[\"MW_identifier\"])\n",
    "    \n",
    "    mask_m31_lum = np.logical_and.reduce([mask_sat[0], mask_lum, mask_nonzero_vmax])\n",
    "    mask_m31_dark = np.logical_and.reduce([mask_sat[0], mask_dark, mask_nonzero_vmax])\n",
    "    mask_mw_lum = np.logical_and.reduce([mask_sat[1], mask_lum, mask_nonzero_vmax])\n",
    "    mask_mw_dark = np.logical_and.reduce([mask_sat[1], mask_dark, mask_nonzero_vmax])\n",
    "    mask_isol_lum = np.logical_and.reduce([mask_isol, mask_lum, mask_nonzero_vmax])\n",
    "    mask_isol_dark = np.logical_and.reduce([mask_isol, mask_dark, mask_nonzero_vmax])\n",
    "    \n",
    "    # In case M31 and MW are identified as the same halo, remove intersection:\n",
    "    mask_mw_lum = np.logical_and(mask_mw_lum, np.logical_not(mask_m31_lum))\n",
    "    mask_mw_dark = np.logical_and(mask_mw_dark, np.logical_not(mask_m31_dark))\n",
    "   \n",
    "    # Add M31 satellites to the dictionary:\n",
    "    sim_data[\"M31_satellites\"] = \\\n",
    "    {\"StellarMass\": arrange_sm_array(sm[mask_m31_lum]),\n",
    "     \"SM_count\": construct_count_array(np.sum(mask_m31_lum)),\n",
    "     \"N_dark\": np.sum(mask_m31_dark)\n",
    "    }\n",
    "    \n",
    "    # Add MW satellites to the dictionary:\n",
    "    sim_data[\"MW_satellites\"] = \\\n",
    "    {\"StellarMass\": arrange_sm_array(sm[mask_mw_lum]),\n",
    "     \"SM_count\": construct_count_array(np.sum(mask_mw_lum)),\n",
    "     \"N_dark\": np.sum(mask_mw_dark)\n",
    "    }\n",
    "        \n",
    "    # Add all satellites combined to the dictionary:\n",
    "    sim_data[\"all_satellites\"] = \\\n",
    "    {\"StellarMass\": arrange_sm_array(\n",
    "        np.concatenate([sm[mask_m31_lum], sm[mask_mw_lum]])),\n",
    "     \"SM_count\": construct_count_array(\n",
    "         np.sum(np.logical_or(mask_m31_lum, mask_mw_lum))),\n",
    "     \"N_dark\": np.sum(np.logical_or(mask_m31_dark, mask_mw_dark))\n",
    "    }\n",
    "       \n",
    "    # Add isolated galaxies to the dictionary:\n",
    "    sim_data[\"isolated\"] = \\\n",
    "    {\"StellarMass\": arrange_sm_array(sm[mask_isol_lum]),\n",
    "     \"SM_count\": construct_count_array(np.sum(mask_isol_lum)),\n",
    "     \"N_dark\": np.sum(mask_isol_dark)\n",
    "    }"
   ]
  },
  {
   "cell_type": "code",
   "execution_count": null,
   "metadata": {},
   "outputs": [],
   "source": [
    "# Set some parameters:\n",
    "x_down = 10**5; x_up = 10**11\n",
    "y_down = 1; y_up = 100\n",
    "\n",
    "# Set colors:\n",
    "color = [\"black\", \"red\", \"blue\", \"green\"]"
   ]
  },
  {
   "cell_type": "code",
   "execution_count": null,
   "metadata": {},
   "outputs": [],
   "source": [
    "# Construct saving location:\n",
    "filename = 'sat_and_isol_stellar_mass_dist_{}'.format(distinction)\n",
    "for name in names:\n",
    "    filename += \"_{}\".format(name)\n",
    "filename += \"_{}.png\".format(snap_id)\n",
    "    \n",
    "home = os.path.dirname(snapshot_obj.__file__)\n",
    "path = os.path.join(home,\"Figures\")\n",
    "filename = os.path.join(path, filename)"
   ]
  },
  {
   "cell_type": "code",
   "execution_count": null,
   "metadata": {},
   "outputs": [],
   "source": [
    "fig, axes = plt.subplots(ncols=2, figsize=(14,6))\n",
    "plt.subplots_adjust(wspace=0.3)\n",
    "\n",
    "# Set axis:\n",
    "for ax in axes:\n",
    "    ax.set_xlim(x_down, x_up)\n",
    "    ax.set_ylim(y_down, y_up)\n",
    "    ax.set_xlabel('$M_*[M_\\odot]$', fontsize=16)\n",
    "    ax.set_ylabel('$N(>M_*)$', fontsize=16)\n",
    "    ax.set_xscale('log')\n",
    "    ax.set_yscale('log')\n",
    "\n",
    "# Add redshift:\n",
    "z_x = 10 ** (np.log10(x_up) - 9/10 * (np.log10(x_up)-np.log10(x_down)))\n",
    "z_y = 10 ** (np.log10(y_up) - 1/10 * (np.log10(y_up)-np.log10(y_down)))\n",
    "axes[0].text(z_x, z_y, \"z = {:.2f}\".format(z))\n",
    "    \n",
    "axes[0].set_title('Satellite galaxies')\n",
    "axes[1].set_title('Isolated galaxies')\n",
    "\n",
    "# Add scatter plots:\n",
    "for i, (name, entry) in enumerate(data.items()):\n",
    "    x = entry['all_satellites']['StellarMass']\n",
    "    y = entry['all_satellites']['SM_count']\n",
    "    axes[0].plot(x, y, c=color[i], label=name)\n",
    "    \n",
    "    x = entry['isolated']['StellarMass']\n",
    "    y = entry['isolated']['SM_count']\n",
    "    axes[1].plot(x, y, c=color[i], label=name)\n",
    "    \n",
    "axes[0].legend(loc='upper right')\n",
    "plt.tight_layout()\n",
    "\n",
    "plt.savefig(filename, dpi=200)"
   ]
  },
  {
   "cell_type": "code",
   "execution_count": null,
   "metadata": {},
   "outputs": [],
   "source": []
  }
 ],
 "metadata": {
  "kernelspec": {
   "display_name": "Python 3",
   "language": "python",
   "name": "python3"
  },
  "language_info": {
   "codemirror_mode": {
    "name": "ipython",
    "version": 3
   },
   "file_extension": ".py",
   "mimetype": "text/x-python",
   "name": "python",
   "nbconvert_exporter": "python",
   "pygments_lexer": "ipython3"
  }
 },
 "nbformat": 4,
 "nbformat_minor": 4
}
