{
 "cells": [
  {
   "cell_type": "code",
   "execution_count": null,
   "metadata": {},
   "outputs": [],
   "source": [
    "%load_ext autoreload\n",
    "%autoreload 2\n",
    "\n",
    "%config IPCompleter.greedy=True"
   ]
  },
  {
   "cell_type": "code",
   "execution_count": null,
   "metadata": {},
   "outputs": [],
   "source": [
    "import numpy as np\n",
    "\n",
    "import importlib\n",
    "\n",
    "import snapshot_obj\n",
    "import simulation_tracing\n",
    "import halo_matching"
   ]
  },
  {
   "cell_type": "code",
   "execution_count": null,
   "metadata": {},
   "outputs": [],
   "source": [
    "importlib.reload(snapshot_obj)\n",
    "importlib.reload(simulation_tracing)\n",
    "importlib.reload(halo_matching)"
   ]
  },
  {
   "cell_type": "markdown",
   "metadata": {},
   "source": [
    "# Matching all halos between two snapshots"
   ]
  },
  {
   "cell_type": "code",
   "execution_count": null,
   "metadata": {},
   "outputs": [],
   "source": [
    "snap1 = snapshot_obj.Snapshot(\"V1_LR_fix\", 127)\n",
    "gns1 = snap1.get_subhalos(\"GroupNumber\")\n",
    "sgns1 = snap1.get_subhalos(\"SubGroupNumber\")\n",
    "masses1 = snap1.get_subhalos('MassType')[:,1]\n",
    "\n",
    "snap2 = snapshot_obj.Snapshot(\"V1_LR_fix\", 126)\n",
    "gns2 = snap2.get_subhalos(\"GroupNumber\")\n",
    "sgns2 = snap2.get_subhalos(\"SubGroupNumber\")\n",
    "masses2 = snap2.get_subhalos('MassType')[:,1]"
   ]
  },
  {
   "cell_type": "code",
   "execution_count": null,
   "metadata": {},
   "outputs": [],
   "source": [
    "%time matches = halo_matching.match_snapshots(snap1,snap2)"
   ]
  },
  {
   "cell_type": "code",
   "execution_count": null,
   "metadata": {
    "jupyter": {
     "outputs_hidden": true
    }
   },
   "outputs": [],
   "source": [
    "print(\"127 : 126\")\n",
    "for gn1,sgn1,m1,match in zip(gns1,sgns1,masses1,matches):\n",
    "    if match < 2**32:\n",
    "        gn2 = gns2[match]\n",
    "        sgn2 = sgns2[match]\n",
    "        m2 = masses2[match]\n",
    "        print(\"({},{},{:.2e}) : ({},{},{:.2e})\".format(gn1,sgn1,m1,gn2,sgn2,m2))\n",
    "    else:\n",
    "        print(\"({},{},{:.2e}) : ({},{})\".format(gn1,sgn1,m1,-1,-1))"
   ]
  },
  {
   "cell_type": "markdown",
   "metadata": {},
   "source": [
    "# Tracing all halos"
   ]
  },
  {
   "cell_type": "code",
   "execution_count": null,
   "metadata": {},
   "outputs": [],
   "source": [
    "sim_id = \"V1_LR_curvaton_p084_fix\"\n",
    "snap = snapshot_obj.Snapshot(sim_id, 127)"
   ]
  },
  {
   "cell_type": "code",
   "execution_count": null,
   "metadata": {},
   "outputs": [],
   "source": [
    "snap.get_subhalo_number()"
   ]
  },
  {
   "cell_type": "code",
   "execution_count": null,
   "metadata": {},
   "outputs": [],
   "source": [
    "tracer = simulation_tracing.MergerTree(snap)"
   ]
  },
  {
   "cell_type": "code",
   "execution_count": null,
   "metadata": {},
   "outputs": [],
   "source": [
    "%time trace = tracer.build_tree(100)"
   ]
  },
  {
   "cell_type": "code",
   "execution_count": null,
   "metadata": {},
   "outputs": [],
   "source": [
    "trace[0][:10]"
   ]
  },
  {
   "cell_type": "code",
   "execution_count": null,
   "metadata": {},
   "outputs": [],
   "source": [
    "gns = {}; sgns = {}\n",
    "for sid in range(127,99,-1):\n",
    "    snap = snapshot_obj.Snapshot(sim_id, sid)\n",
    "    gns[sid] = snap.get_subhalos(\"GroupNumber\")\n",
    "    sgns[sid] = snap.get_subhalos(\"SubGroupNumber\")"
   ]
  },
  {
   "cell_type": "code",
   "execution_count": null,
   "metadata": {},
   "outputs": [],
   "source": [
    "print(np.arange(gns[127].size)[np.logical_and(gns[127]==2, sgns[127]==0)])\n",
    "print(gns[127][55], sgns[127][55])\n",
    "print(gns[126][60], sgns[126][60])"
   ]
  },
  {
   "cell_type": "code",
   "execution_count": null,
   "metadata": {},
   "outputs": [],
   "source": [
    "tr = tracer.tracer\n",
    "\n",
    "for i,ht in enumerate(tr):\n",
    "    out = \"127 : ({},{})\".format(gns[127][i],sgns[127][i])\n",
    "    for sid in range(126,99,-1):\n",
    "        idx = ht[sid]\n",
    "        if idx == 2**32:\n",
    "            out += \",  !\"\n",
    "            break\n",
    "        else:\n",
    "            out += \",  {} : ({},{})\".format(sid, gns[sid][idx],sgns[sid][idx])\n",
    "    print(out + \"\\n\")"
   ]
  },
  {
   "cell_type": "code",
   "execution_count": null,
   "metadata": {},
   "outputs": [],
   "source": []
  }
 ],
 "metadata": {
  "kernelspec": {
   "display_name": "Python 3",
   "language": "python",
   "name": "python3"
  },
  "language_info": {
   "codemirror_mode": {
    "name": "ipython",
    "version": 3
   },
   "file_extension": ".py",
   "mimetype": "text/x-python",
   "name": "python",
   "nbconvert_exporter": "python",
   "pygments_lexer": "ipython3"
  }
 },
 "nbformat": 4,
 "nbformat_minor": 4
}
