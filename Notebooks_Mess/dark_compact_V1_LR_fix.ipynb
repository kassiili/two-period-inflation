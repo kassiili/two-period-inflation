{
 "cells": [
  {
   "cell_type": "code",
   "execution_count": null,
   "metadata": {},
   "outputs": [],
   "source": [
    "%load_ext autoreload\n",
    "%autoreload 2\n",
    "\n",
    "%config IPCompleter.greedy=True"
   ]
  },
  {
   "cell_type": "code",
   "execution_count": null,
   "metadata": {},
   "outputs": [],
   "source": [
    "import matplotlib.pyplot as plt\n",
    "import numpy as np\n",
    "import h5py\n",
    "from astropy import units\n",
    "from pathlib import Path\n",
    "import os\n",
    "import time\n",
    "\n",
    "import snapshot_obj\n",
    "import dataset_compute\n",
    "import curve_fit\n",
    "\n",
    "import importlib"
   ]
  },
  {
   "cell_type": "code",
   "execution_count": null,
   "metadata": {},
   "outputs": [],
   "source": [
    "importlib.reload(snapshot_obj)\n",
    "importlib.reload(dataset_compute)\n",
    "importlib.reload(curve_fit)"
   ]
  },
  {
   "cell_type": "markdown",
   "metadata": {},
   "source": [
    "# Massive compact non-luminous halos\n",
    "\n",
    "Here, we inspect the properties of the clump of subhalos in the $\\Lambda$CDM simulation with $v_\\text{max} \\sim v_\\text{1kpc} > 30 \\text{km/s}$."
   ]
  },
  {
   "cell_type": "markdown",
   "metadata": {},
   "source": [
    "## Construct selection arrays\n",
    "Read $v_\\text{max}$ and $v_\\text{1kpc}$ and construct mask arrays for the peculiar dark subhalos, and for all dark subhalos in the same mass range."
   ]
  },
  {
   "cell_type": "code",
   "execution_count": null,
   "metadata": {},
   "outputs": [],
   "source": [
    "sim_id = \"V1_LR_fix\"\n",
    "snap = snapshot_obj.Snapshot(sim_id, 127)\n",
    "max_point = snap.get_subhalos(\"Max_Vcirc\", \"Extended\")\n",
    "vmax = max_point[:,0] * units.cm.to(units.km)\n",
    "v1kpc = snap.get_subhalos(\"V1kpc\", \"Extended\") * units.cm.to(units.km)"
   ]
  },
  {
   "cell_type": "code",
   "execution_count": null,
   "metadata": {},
   "outputs": [],
   "source": [
    "masks_sat, mask_isol = dataset_compute.split_satellites_by_group_number(\n",
    "    snap, (1,0), (2,0))\n",
    "mask_dark = dataset_compute.split_luminous(snap)[1]\n",
    "mask_pecul = np.logical_and(vmax > 35, np.abs(vmax-v1kpc)/vmax < 0.15)\n",
    "mask_pecul = np.logical_and.reduce([mask_isol, mask_dark, mask_pecul])\n",
    "mask_ref = np.logical_and(vmax > 30, vmax < 50)\n",
    "mask_ref = np.logical_and.reduce([mask_isol, mask_dark, mask_ref])"
   ]
  },
  {
   "cell_type": "markdown",
   "metadata": {},
   "source": [
    "Inspect the constituents of the peculiar subhalos:"
   ]
  },
  {
   "cell_type": "code",
   "execution_count": null,
   "metadata": {},
   "outputs": [],
   "source": [
    "masstype = snap.get_subhalos(\"MassType\") * units.g.to(units.Msun)\n",
    "for m_arr in masstype[mask_pecul]:\n",
    "    print([\"{:.2E}\".format(m) for m in m_arr])"
   ]
  },
  {
   "cell_type": "markdown",
   "metadata": {},
   "source": [
    "## Plot the rotation curves"
   ]
  },
  {
   "cell_type": "markdown",
   "metadata": {},
   "source": [
    "Let us first see how many there are of these peculiar halos, and compare that to the number of all halos in the mass range:"
   ]
  },
  {
   "cell_type": "code",
   "execution_count": null,
   "metadata": {},
   "outputs": [],
   "source": [
    "print(np.sum(mask_pecul))\n",
    "print(np.sum(mask_ref))\n",
    "print(np.sum(np.logical_and(mask_pecul, mask_ref)))"
   ]
  },
  {
   "cell_type": "markdown",
   "metadata": {},
   "source": [
    "We see that the rotation curves of the subhalos in the given mass range divide into two classes: very compact ones, which constitute the clump in the V1kpc plots, and more regular looking ones."
   ]
  },
  {
   "cell_type": "code",
   "execution_count": null,
   "metadata": {},
   "outputs": [],
   "source": [
    "rot_curves = snap.get_subhalos('Vcirc', group='Extended/RotationCurve/All')\n",
    "sub_offset = snap.get_subhalos('SubOffset', group='Extended/RotationCurve/All')\n",
    "\n",
    "fig, axes = plt.subplots()\n",
    "axes.set_xlim(-2, 20)\n",
    "\n",
    "idxs = np.arange(mask_pecul.size)[mask_ref]\n",
    "for i,idx in enumerate(idxs):\n",
    "    v_circ = rot_curves[sub_offset[idx]:sub_offset[idx+1],0] * units.cm.to(units.km)\n",
    "    radii = rot_curves[sub_offset[idx]:sub_offset[idx+1],1] * units.cm.to(units.kpc)\n",
    "    if i==0:\n",
    "        axes.plot(radii, v_circ, c='black', label=\"reference\")\n",
    "    else:\n",
    "        axes.plot(radii, v_circ, c='black')\n",
    "\n",
    "idxs = np.arange(mask_pecul.size)[mask_pecul]\n",
    "for i,idx in enumerate(idxs):\n",
    "    v_circ = rot_curves[sub_offset[idx]:sub_offset[idx+1],0] * units.cm.to(units.km)\n",
    "    radii = rot_curves[sub_offset[idx]:sub_offset[idx+1],1] * units.cm.to(units.kpc)\n",
    "    if i==0:\n",
    "        axes.plot(radii, v_circ, c='gray', label=\"peculiar compact\")\n",
    "    else:\n",
    "        axes.plot(radii, v_circ, c='gray')\n",
    "    \n",
    "plt.legend()\n",
    "plt.savefig(\"rotation_curves_peculiar_{}.png\".format(sim_id), dpi=200)"
   ]
  },
  {
   "cell_type": "markdown",
   "metadata": {},
   "source": [
    "Let us see, what is the constitution of the mass near the centre. We calculate the rotation curves with bins of three particles:"
   ]
  },
  {
   "cell_type": "code",
   "execution_count": null,
   "metadata": {},
   "outputs": [],
   "source": [
    "pts = {'all': None, 'gas': [0], 'dm': [1]}\n",
    "v_circ = {}\n",
    "radii = {}\n",
    "\n",
    "for key, pt in pts.items():\n",
    "    if pt is None:\n",
    "        v, r = dataset_compute.compute_rotation_curves(snap, n_soft=3)\n",
    "    else:\n",
    "        v, r = dataset_compute.compute_rotation_curves(snap, n_soft=3, part_type=pt)\n",
    "\n",
    "    v_circ[key] = v[mask_pecul] * units.cm.to(units.km)\n",
    "    radii[key] = r[mask_pecul] * units.cm.to(units.kpc)\n",
    "   "
   ]
  },
  {
   "cell_type": "code",
   "execution_count": null,
   "metadata": {},
   "outputs": [],
   "source": [
    "for pt in pts.keys():\n",
    "    print(\"Particle type: {}\\n\".format(pt) + \\\n",
    "          \"Number of particles in the peculiar subhalos within radii\\n\" +\\\n",
    "          \"   1kpc   2kpc\")\n",
    "    for r in radii[pt]:\n",
    "        print(\"  {:3d}    {:3d}\".format(np.sum(r < 1), np.sum(r < 2)))\n",
    "    print('')"
   ]
  },
  {
   "cell_type": "code",
   "execution_count": null,
   "metadata": {},
   "outputs": [],
   "source": [
    "fig, axes = plt.subplots()\n",
    "\n",
    "axes.set_xlim(-2, 20)\n",
    "\n",
    "for i, (v, r) in enumerate(zip(v_circ['dm'], radii['dm'])):\n",
    "    if i==0:\n",
    "        axes.plot(r, v, c='black', label=\"dm\")\n",
    "    else:\n",
    "        axes.plot(r, v, c='black')\n",
    "\n",
    "for i, (v, r) in enumerate(zip(v_circ['gas'], radii['gas'])):\n",
    "    if i==0:\n",
    "        axes.plot(r, v, c='grey', label=\"gas\")\n",
    "    else:\n",
    "        axes.plot(r, v, c='grey')\n",
    "        \n",
    "plt.legend()"
   ]
  },
  {
   "cell_type": "markdown",
   "metadata": {},
   "source": [
    "## Further inspection"
   ]
  },
  {
   "cell_type": "markdown",
   "metadata": {},
   "source": [
    "Let us see, how far from the LG centre the peculiar subhalos are located:"
   ]
  },
  {
   "cell_type": "code",
   "execution_count": null,
   "metadata": {},
   "outputs": [],
   "source": [
    "LG = dataset_compute.compute_LG_centre(snap, (1,0), (2,0))\n",
    "dist_to_lg = dataset_compute.distance_to_point(snap, LG) * units.cm.to(units.kpc)\n",
    "print(dist_to_lg[mask_pecul])"
   ]
  },
  {
   "cell_type": "markdown",
   "metadata": {},
   "source": [
    "## Plot gas density vs. temperature"
   ]
  },
  {
   "cell_type": "code",
   "execution_count": null,
   "metadata": {},
   "outputs": [],
   "source": [
    "data_grouped = dataset_compute.group_particles_by_subhalo(snap, \"Density\", \"Temperature\", part_type=[0])"
   ]
  },
  {
   "cell_type": "code",
   "execution_count": null,
   "metadata": {},
   "outputs": [],
   "source": [
    "fig, axes = plt.subplots()\n",
    "axes.set_xscale('log')\n",
    "axes.set_yscale('log')\n",
    "axes.set_xlim(5*10**3, 10**5)\n",
    "axes.set_ylim(10**-30, 10**-22)\n",
    "\n",
    "density = np.array(data_grouped[\"Density\"])[mask_pecul] \n",
    "temp = np.array(data_grouped[\"Temperature\"])[mask_pecul]\n",
    "for rho, t in zip(density, temp):\n",
    "    axes.scatter(t, rho)"
   ]
  }
 ],
 "metadata": {
  "kernelspec": {
   "display_name": "Python 3",
   "language": "python",
   "name": "python3"
  },
  "language_info": {
   "codemirror_mode": {
    "name": "ipython",
    "version": 3
   },
   "file_extension": ".py",
   "mimetype": "text/x-python",
   "name": "python",
   "nbconvert_exporter": "python",
   "pygments_lexer": "ipython3"
  }
 },
 "nbformat": 4,
 "nbformat_minor": 4
}
