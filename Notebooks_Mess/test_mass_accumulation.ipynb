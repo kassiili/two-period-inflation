{
 "cells": [
  {
   "cell_type": "code",
   "execution_count": null,
   "metadata": {},
   "outputs": [],
   "source": [
    "%load_ext autoreload\n",
    "%autoreload 2\n",
    "\n",
    "%config IPCompleter.greedy=True"
   ]
  },
  {
   "cell_type": "code",
   "execution_count": null,
   "metadata": {},
   "outputs": [],
   "source": [
    "import numpy as np\n",
    "import matplotlib.pyplot as plt\n",
    "from astropy import units\n",
    "from astropy.constants import G\n",
    "import importlib\n",
    "\n",
    "import dataset_compute\n",
    "import snapshot_obj"
   ]
  },
  {
   "cell_type": "code",
   "execution_count": null,
   "metadata": {},
   "outputs": [],
   "source": [
    "importlib.reload(dataset_compute)\n",
    "importlib.reload(snapshot_obj)"
   ]
  },
  {
   "cell_type": "code",
   "execution_count": null,
   "metadata": {},
   "outputs": [],
   "source": [
    "sim_id = \"V1_LR_fix\"\n",
    "snap = snapshot_obj.Snapshot(sim_id, 127)\n",
    "cops = snap.get_subhalos(\"CentreOfPotential\") * units.cm.to(units.Mpc)\n",
    "%time data = dataset_compute.group_particles_by_subhalo(snap, 'Coordinates', 'Masses', part_type=[1])\n",
    "grouped_coords = data['Coordinates']"
   ]
  },
  {
   "cell_type": "code",
   "execution_count": null,
   "metadata": {},
   "outputs": [],
   "source": [
    "print(data['GroupNumber'][56])\n",
    "print(data['SubGroupNumber'][56])"
   ]
  },
  {
   "cell_type": "code",
   "execution_count": null,
   "metadata": {},
   "outputs": [],
   "source": [
    "fig, ax = plt.subplots()\n",
    "n = 5\n",
    "for idx in range(n):\n",
    "    coords = grouped_coords[idx] * units.cm.to(units.Mpc)\n",
    "    ax.scatter(coords[:,0], coords[:,2])\n",
    "ax.scatter(cops[:n,0], cops[:n,2], c='k')\n",
    "ax.scatter(cops[55,0], cops[55,2], c='green')\n",
    "LG_centre = dataset_compute.compute_LG_centre(snap) * units.cm.to(units.Mpc)\n",
    "ax.scatter(LG_centre[0], LG_centre[2])\n",
    "plt.show()"
   ]
  },
  {
   "cell_type": "code",
   "execution_count": null,
   "metadata": {},
   "outputs": [],
   "source": [
    "gns = snap.get_subhalos(\"GroupNumber\")\n",
    "sgns = snap.get_subhalos(\"SubGroupNumber\")\n",
    "print(gns[514], sgns[514])"
   ]
  },
  {
   "cell_type": "code",
   "execution_count": null,
   "metadata": {},
   "outputs": [],
   "source": [
    "%time cmass, radii = dataset_compute.mass_accumulation_to_array(snap)"
   ]
  },
  {
   "cell_type": "code",
   "execution_count": null,
   "metadata": {},
   "outputs": [],
   "source": [
    "idx = 0\n",
    "fig, ax = plt.subplots()\n",
    "\n",
    "#ax.set_xlim(0,1)\n",
    "#ax.set_ylim(0,250)\n",
    "\n",
    "for pt in [0,1,4,5]:\n",
    "    x = radii[idx, pt]\n",
    "    y = cmass[idx, pt]\n",
    "\n",
    "    # Compute running average:\n",
    "    N = 10\n",
    "    x = x[N::N]\n",
    "    y = y[N::N]\n",
    "\n",
    "    myG = G.to(units.cm ** 3 * units.g ** -1 * units.s ** -2).value\n",
    "    y = np.sqrt((myG * y) / x)\n",
    "    \n",
    "    # Add zero:\n",
    "    x = np.concatenate((np.array([0]), x))\n",
    "    y = np.concatenate((np.array([0]), y))\n",
    "\n",
    "    x = x * units.cm.to(units.kpc)\n",
    "    y = y * units.cm.to(units.km)\n",
    "\n",
    "    ax.plot(x,y)\n",
    "plt.show()"
   ]
  },
  {
   "cell_type": "code",
   "execution_count": null,
   "metadata": {},
   "outputs": [],
   "source": [
    "%time v_circ, r = dataset_compute.compute_rotation_curves(snap)\n",
    "r = r * units.cm.to(units.kpc)\n",
    "v_circ = v_circ * units.cm.to(units.km)"
   ]
  },
  {
   "cell_type": "code",
   "execution_count": null,
   "metadata": {},
   "outputs": [],
   "source": [
    "%time v1kpc = snap.get_subhalos(\"V1kpc\")\n",
    "v1kpc = v1kpc * units.cm.to(units.km)"
   ]
  },
  {
   "cell_type": "code",
   "execution_count": null,
   "metadata": {},
   "outputs": [],
   "source": [
    "print(np.sum(v1kpc == 0))\n",
    "print(np.arange(v1kpc.size)[v1kpc==0])"
   ]
  },
  {
   "cell_type": "code",
   "execution_count": null,
   "metadata": {},
   "outputs": [],
   "source": [
    "%time data = snap.get_subhalos(\"Max_Vcirc\", group=\"Extended\")\n",
    "vmax = data[:,0] * units.cm.to(units.km)\n",
    "rmax = data[:,1] * units.cm.to(units.kpc)"
   ]
  },
  {
   "cell_type": "code",
   "execution_count": null,
   "metadata": {},
   "outputs": [],
   "source": [
    "vmax_shit = snap.get_subhalos(\"Vmax\")\n",
    "rmax_shit = snap.get_subhalos(\"VmaxRadius\")\n",
    "vmax_shit = vmax_shit * units.cm.to(units.km)\n",
    "rmax_shit = rmax_shit * units.cm.to(units.kpc)"
   ]
  },
  {
   "cell_type": "code",
   "execution_count": null,
   "metadata": {},
   "outputs": [],
   "source": [
    "idx = 0\n",
    "fig, ax = plt.subplots()\n",
    "\n",
    "ax.set_xlim(0,50)\n",
    "#ax.set_ylim(0,250)\n",
    "\n",
    "ax.plot(r[idx], v_circ[idx])\n",
    "\n",
    "ax.axhline(vmax[idx],linestyle='dashed')\n",
    "ax.axvline(rmax[idx],linestyle='dashed')\n",
    "ax.axhline(v1kpc[idx],linestyle='dashed',c='black')\n",
    "ax.axvline(1,linestyle='dashed',c='black')\n",
    "ax.axhline(vmax_shit[idx],linestyle='dashed',c='red')\n",
    "ax.axvline(rmax_shit[idx],linestyle='dashed',c='red')\n",
    "\n",
    "plt.show()"
   ]
  },
  {
   "cell_type": "code",
   "execution_count": null,
   "metadata": {},
   "outputs": [],
   "source": []
  }
 ],
 "metadata": {
  "kernelspec": {
   "display_name": "Python 3",
   "language": "python",
   "name": "python3"
  },
  "language_info": {
   "codemirror_mode": {
    "name": "ipython",
    "version": 3
   },
   "file_extension": ".py",
   "mimetype": "text/x-python",
   "name": "python",
   "nbconvert_exporter": "python",
   "pygments_lexer": "ipython3"
  }
 },
 "nbformat": 4,
 "nbformat_minor": 4
}
