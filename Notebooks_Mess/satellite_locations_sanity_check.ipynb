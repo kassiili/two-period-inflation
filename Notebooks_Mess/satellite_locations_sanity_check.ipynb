{
 "cells": [
  {
   "cell_type": "code",
   "execution_count": null,
   "metadata": {},
   "outputs": [],
   "source": [
    "%load_ext autoreload\n",
    "%autoreload 2\n",
    "\n",
    "%config IPCompleter.greedy=True"
   ]
  },
  {
   "cell_type": "code",
   "execution_count": null,
   "metadata": {},
   "outputs": [],
   "source": [
    "import numpy as np\n",
    "import os\n",
    "import matplotlib.pyplot as plt\n",
    "from astropy import units\n",
    "from astropy.constants import G\n",
    "import importlib\n",
    "\n",
    "import dataset_compute\n",
    "import snapshot_obj"
   ]
  },
  {
   "cell_type": "code",
   "execution_count": null,
   "metadata": {},
   "outputs": [],
   "source": [
    "importlib.reload(dataset_compute)\n",
    "importlib.reload(snapshot_obj)"
   ]
  },
  {
   "cell_type": "code",
   "execution_count": null,
   "metadata": {
    "code_folding": []
   },
   "outputs": [],
   "source": [
    "snap_id = 127\n",
    "sim_id = \"V1_MR_fix\"\n",
    "\n",
    "# Define M31 and MW:\n",
    "m31 = (1,0)\n",
    "mw = (2,0)"
   ]
  },
  {
   "cell_type": "code",
   "execution_count": null,
   "metadata": {},
   "outputs": [],
   "source": [
    "snap = snapshot_obj.Snapshot(sim_id, snap_id)\n",
    "cops = snap.get_subhalos(\"CentreOfPotential\") * units.cm.to(units.kpc)\n",
    "\n",
    "gn = snap.get_subhalos(\"GroupNumber\")\n",
    "sgn = snap.get_subhalos(\"SubGroupNumber\")\n",
    "m31_cop = cops[np.logical_and(gn==m31[0], sgn==m31[1])][0]\n",
    "mw_cop = cops[np.logical_and(gn==mw[0], sgn==mw[1])][0]\n",
    "print(m31_cop)\n",
    "\n",
    "# Get selections (masking arrays):\n",
    "mask_lum, mask_dark = dataset_compute.split_luminous(snap)\n",
    "# mask_sat, mask_isol = dataset_compute.split_satellites_by_group_number(snap, m31, mw)\n",
    "mask_sat, mask_isol = dataset_compute.split_satellites_by_distance(snap, m31, mw)\n",
    "mask_m31 = mask_sat[0] \n",
    "mask_mw = mask_sat[1]"
   ]
  },
  {
   "cell_type": "code",
   "execution_count": null,
   "metadata": {},
   "outputs": [],
   "source": [
    "fig, ax = plt.subplots()\n",
    "\n",
    "# mask_plot = np.logical_and(mask_lum, np.logical_not(np.logical_or(mask_mw, mask_m31)))\n",
    "# mask_plot = np.logical_and(mask_lum, mask_isol)\n",
    "mask_plot = np.logical_and(mask_lum, np.logical_or(mask_mw, mask_m31))\n",
    "# mask_plot = np.array([True]* np.size(cops, axis=0))\n",
    "# mask_plot = mask_lum\n",
    "# mask_plot = mask_dark\n",
    "print(np.sum(mask_plot))\n",
    "ax.scatter(cops[mask_plot,0], cops[mask_plot,1], c=\"gray\", s=1)\n",
    "ax.scatter(m31_cop[0], m31_cop[1], c=\"red\", s=3)\n",
    "ax.scatter(mw_cop[0], mw_cop[1], c=\"blue\", s=3)\n"
   ]
  },
  {
   "cell_type": "code",
   "execution_count": null,
   "metadata": {},
   "outputs": [],
   "source": []
  }
 ],
 "metadata": {
  "kernelspec": {
   "display_name": "Python 3",
   "language": "python",
   "name": "python3"
  },
  "language_info": {
   "codemirror_mode": {
    "name": "ipython",
    "version": 3
   },
   "file_extension": ".py",
   "mimetype": "text/x-python",
   "name": "python",
   "nbconvert_exporter": "python",
   "pygments_lexer": "ipython3"
  }
 },
 "nbformat": 4,
 "nbformat_minor": 4
}
