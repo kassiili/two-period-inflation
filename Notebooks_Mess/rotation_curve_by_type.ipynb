{
 "cells": [
  {
   "cell_type": "code",
   "execution_count": null,
   "metadata": {},
   "outputs": [],
   "source": [
    "%load_ext autoreload\n",
    "%autoreload 2\n",
    "\n",
    "#%config IPCompleter.greedy=True"
   ]
  },
  {
   "cell_type": "markdown",
   "metadata": {},
   "source": [
    "# Rotation curves\n",
    "\n",
    "First, imports:"
   ]
  },
  {
   "cell_type": "code",
   "execution_count": null,
   "metadata": {},
   "outputs": [],
   "source": [
    "import matplotlib.pyplot as plt\n",
    "import numpy as np\n",
    "import h5py\n",
    "from astropy import units\n",
    "from pathlib import Path\n",
    "import os\n",
    "import astropy.units as u\n",
    "from astropy.constants import G\n",
    "\n",
    "import snapshot_obj \n",
    "import subhalo\n",
    "import dataset_compute\n",
    "import curve_fit\n",
    "\n",
    "import importlib"
   ]
  },
  {
   "cell_type": "code",
   "execution_count": null,
   "metadata": {},
   "outputs": [],
   "source": [
    "importlib.reload(snapshot_obj)\n",
    "importlib.reload(subhalo)\n",
    "importlib.reload(dataset_compute)\n",
    "importlib.reload(curve_fit)"
   ]
  },
  {
   "cell_type": "markdown",
   "metadata": {},
   "source": [
    "## Get data"
   ]
  },
  {
   "cell_type": "code",
   "execution_count": null,
   "metadata": {
    "code_folding": []
   },
   "outputs": [],
   "source": [
    "snap_id = 127\n",
    "sim_ids = [\"V1_LR_fix\", \"V1_LR_curvaton_p082_fix\"]\n",
    "names = [\"LCDM\", \"p082\"]\n",
    "\n",
    "# Which halo:\n",
    "halo = [(2,0), (1,1)]"
   ]
  },
  {
   "cell_type": "code",
   "execution_count": null,
   "metadata": {
    "code_folding": []
   },
   "outputs": [],
   "source": [
    "snap_id = 126\n",
    "sim_ids = [\"V1_MR_fix\", \"V1_MR_curvaton_p082_fix\"]\n",
    "names = [\"LCDM\", \"p082\"]\n",
    "\n",
    "# Which halo:\n",
    "halo = [(2,0), (1,1)]"
   ]
  },
  {
   "cell_type": "code",
   "execution_count": null,
   "metadata": {
    "code_folding": []
   },
   "outputs": [],
   "source": [
    "data = {}\n",
    "for name, sim_id, halo_id in zip(names, sim_ids, halo):\n",
    "    data[name] = {\"snapshot\": snapshot_obj.Snapshot(sim_id, snap_id, name=name),\n",
    "                  \"halo_identifier\": halo_id}"
   ]
  },
  {
   "cell_type": "code",
   "execution_count": null,
   "metadata": {
    "code_folding": []
   },
   "outputs": [],
   "source": [
    "pts = {'gas': 'PartType0', \n",
    "       'dm': 'PartType1', \n",
    "       'stars': 'PartType4', \n",
    "       'bh': 'PartType5', \n",
    "       'all': 'All'}\n",
    "for name, sim_data in data.items():\n",
    "    snap = sim_data[\"snapshot\"]\n",
    "    idx = snap.index_of_halo(sim_data[\"halo_identifier\"][0], \n",
    "                             sim_data[\"halo_identifier\"][1])\n",
    "\n",
    "    data[name]['datasets'] = {pt: {} for pt in pts.keys()}\n",
    "    for pt, pt_catalogue in pts.items():\n",
    "        rot_curves = snap.get_subhalos('Vcirc', \n",
    "                                       group='Extended/RotationCurve/{}'\\\n",
    "                                       .format(pt_catalogue))\n",
    "        sub_offset = snap.get_subhalos('SubOffset', \n",
    "                                       group='Extended/RotationCurve/{}'\\\n",
    "                                       .format(pt_catalogue))\n",
    "        v_circ = rot_curves[:,0] * units.cm.to(units.km)\n",
    "        radii = rot_curves[:,1] * units.cm.to(units.kpc)\n",
    "    \n",
    "        data[name]['datasets'][pt] = {\"Vcirc\": v_circ[sub_offset[idx]:sub_offset[idx+1]],\n",
    "                                      \"Radius\": radii[sub_offset[idx]:sub_offset[idx+1]]}"
   ]
  },
  {
   "cell_type": "code",
   "execution_count": null,
   "metadata": {},
   "outputs": [],
   "source": [
    "# Set some parameters:\n",
    "x_down = 0; x_up = 100\n",
    "y_down = 0; y_up = 200\n",
    "\n",
    "# Set line styles:\n",
    "col_pairs = [(\"black\", \"gray\"), (\"red\", \"pink\"), (\"blue\", \"lightblue\"),\n",
    "             (\"green\", \"lightgreen\")]\n",
    "\n",
    "line_style = {name: {'all': (c[1], ':'),\n",
    "                       'dm': (c[0], '--'),\n",
    "                       'stars': (c[0], '-'),\n",
    "                       'gas': (c[1], '-'),\n",
    "                       'bh': (c[1], '--')}\n",
    "              for name, c in zip(names, col_pairs)}"
   ]
  },
  {
   "cell_type": "code",
   "execution_count": null,
   "metadata": {},
   "outputs": [],
   "source": [
    "# Construct saving location:\n",
    "filename = 'rotation_curve_by_type'\n",
    "for name, sim_data in data.items():\n",
    "    filename += \"_{}_gn{}sgn{}\".format(name, sim_data[\"halo_identifier\"][0],\n",
    "                                       sim_data[\"halo_identifier\"][1])\n",
    "filename += \".png\"\n",
    "    \n",
    "home = os.path.dirname(snapshot_obj.__file__)\n",
    "path = os.path.join(home,\"Figures\", \"MediumResolution\", \"RotationCurves\")\n",
    "filename = os.path.join(path, filename)"
   ]
  },
  {
   "cell_type": "code",
   "execution_count": null,
   "metadata": {
    "code_folding": []
   },
   "outputs": [],
   "source": [
    "fig, axes = plt.subplots()\n",
    "\n",
    "# Set axes:\n",
    "axes.set_xlim(x_down, x_up)\n",
    "axes.set_ylim(y_down,y_up)\n",
    "\n",
    "# Set labels:\n",
    "axes.set_xlabel('$r[\\mathrm{kpc}]$', fontsize=16)\n",
    "axes.set_ylabel('$v_{\\mathrm{circ}}[\\mathrm{kms^{-1}}]$', fontsize=16)\n",
    "\n",
    "# Galaxy text:\n",
    "#axes.set_title('Rotation curve: GN={}, SGN={}'.format(gn,sgn))\n",
    "\n",
    "\n",
    "for i, (name, sim_data) in enumerate(data.items()):\n",
    "    lab = \"{}: ({}, {})\".format(name, \n",
    "                                sim_data[\"halo_identifier\"][0],\n",
    "                                sim_data[\"halo_identifier\"][1])\n",
    "    axes.plot([], [], c=col_pairs[i][0], label=lab)\n",
    "    for pt, pt_entry in sim_data['datasets'].items():\n",
    "        col = line_style[name][pt][0]\n",
    "        style = line_style[name][pt][1]\n",
    "        axes.plot(pt_entry[\"Radius\"], pt_entry[\"Vcirc\"],\n",
    "                  c=col, linestyle=style)\n",
    "\n",
    "   \n",
    "    \n",
    "plt.legend()\n",
    "plt.tight_layout()\n",
    "\n",
    "plt.savefig(os.path.join(path,filename), dpi=200)"
   ]
  },
  {
   "cell_type": "code",
   "execution_count": null,
   "metadata": {},
   "outputs": [],
   "source": []
  }
 ],
 "metadata": {
  "kernelspec": {
   "display_name": "Python 3",
   "language": "python",
   "name": "python3"
  },
  "language_info": {
   "codemirror_mode": {
    "name": "ipython",
    "version": 3
   },
   "file_extension": ".py",
   "mimetype": "text/x-python",
   "name": "python",
   "nbconvert_exporter": "python",
   "pygments_lexer": "ipython3"
  }
 },
 "nbformat": 4,
 "nbformat_minor": 4
}
