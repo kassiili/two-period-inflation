{
 "cells": [
  {
   "cell_type": "code",
   "execution_count": null,
   "metadata": {},
   "outputs": [],
   "source": [
    "%load_ext autoreload\n",
    "%autoreload 2\n",
    "\n",
    "%config IPCompleter.greedy=True"
   ]
  },
  {
   "cell_type": "code",
   "execution_count": null,
   "metadata": {},
   "outputs": [],
   "source": [
    "import matplotlib.pyplot as plt\n",
    "import numpy as np\n",
    "from astropy import units\n",
    "from pathlib import Path\n",
    "import os\n",
    "\n",
    "import snapshot_obj\n",
    "import dataset_compute\n",
    "\n",
    "import importlib"
   ]
  },
  {
   "cell_type": "code",
   "execution_count": null,
   "metadata": {},
   "outputs": [],
   "source": [
    "importlib.reload(snapshot_obj)\n",
    "importlib.reload(dataset_compute)"
   ]
  },
  {
   "cell_type": "code",
   "execution_count": null,
   "metadata": {
    "code_folding": []
   },
   "outputs": [],
   "source": [
    "snap_id = 127\n",
    "sim_id = \"V1_MR_fix\"\n",
    "\n",
    "# Define M31 and MW:\n",
    "m31 = (1,0)\n",
    "mw = (2,0)"
   ]
  },
  {
   "cell_type": "code",
   "execution_count": null,
   "metadata": {},
   "outputs": [],
   "source": [
    "snap = snapshot_obj.Snapshot(sim_id, snap_id)\n",
    "max_point = snap.get_subhalos(\"Max_Vcirc\", \"Extended\")\n",
    "vmax = max_point[:,0] * units.cm.to(units.km)\n",
    "\n",
    "gn = snap.get_subhalos(\"GroupNumber\")\n",
    "sgn = snap.get_subhalos(\"SubGroupNumber\")\n",
    "print(vmax[np.logical_and(gn==m31[0], sgn==m31[1])])\n",
    "print(vmax[np.logical_and(gn==mw[0], sgn==mw[1])])\n",
    "\n",
    "# All datasets will be sorted by vmax:\n",
    "sort_idx = np.argsort(vmax)[::-1]\n",
    "vmax = vmax[sort_idx]\n",
    "\n",
    "# Get selections (masking arrays):\n",
    "mask_lum, mask_dark = dataset_compute.split_luminous(snap)\n",
    "mask_lum = mask_lum[sort_idx]\n",
    "mask_dark = mask_dark[sort_idx]\n",
    "# mask_sat, mask_isol = dataset_compute.split_satellites_by_group_number(snap, m31, mw)\n",
    "mask_sat, mask_isol = dataset_compute.split_satellites_by_distance(snap, m31, mw)\n",
    "mask_m31 = mask_sat[0][sort_idx]\n",
    "mask_mw = mask_sat[1][sort_idx]\n",
    "mask_isol = mask_isol[sort_idx]\n",
    "\n",
    "# Prune out potential spurious:\n",
    "mask_nonzero_vmax = dataset_compute.prune_vmax(snap)[sort_idx]\n",
    "vmax = vmax[mask_nonzero_vmax]\n",
    "mask_lum = mask_lum[mask_nonzero_vmax]\n",
    "mask_dark = mask_dark[mask_nonzero_vmax]\n",
    "mask_m31 = mask_m31[mask_nonzero_vmax]\n",
    "mask_mw = mask_mw[mask_nonzero_vmax]\n",
    "mask_isol = mask_isol[mask_nonzero_vmax]\n",
    "\n",
    "# Add minimal mass dummy halo (to continue the curves to the y-axis):\n",
    "vmax = np.concatenate([vmax, [0.01]])\n",
    "mask_lum = np.concatenate([mask_lum, [True]])\n",
    "mask_dark = np.concatenate([mask_dark, [True]])\n",
    "mask_m31 = np.concatenate([mask_m31, [True]])\n",
    "mask_mw = np.concatenate([mask_mw, [True]])\n",
    "mask_isol = np.concatenate([mask_isol, [True]])\n"
   ]
  },
  {
   "cell_type": "code",
   "execution_count": null,
   "metadata": {},
   "outputs": [],
   "source": [
    "fig, ax = plt.subplots()\n",
    "\n",
    "ax.set_ylim(1, 5000)\n",
    "ax.set_xlim(5, 110)\n",
    "ax.set_xscale('log')\n",
    "ax.set_yscale('log')\n",
    "\n",
    "# mask_plot = np.logical_and(mask_lum, np.logical_not(np.logical_or(mask_mw, mask_m31)))\n",
    "# mask_plot = np.logical_and(mask_lum, mask_isol)\n",
    "# mask_plot = np.logical_and(mask_lum, np.logical_or(mask_mw, mask_m31))\n",
    "mask_plot = np.array([True]*vmax.size)\n",
    "ax.plot(vmax[mask_plot], np.arange(1, np.sum(mask_plot) + 1))\n",
    "\n",
    "plt.savefig(\"WTFFFF/wtf_all_{}.png\".format(snap_id), dpi=200)"
   ]
  },
  {
   "cell_type": "code",
   "execution_count": null,
   "metadata": {},
   "outputs": [],
   "source": []
  }
 ],
 "metadata": {
  "kernelspec": {
   "display_name": "Python 3",
   "language": "python",
   "name": "python3"
  },
  "language_info": {
   "codemirror_mode": {
    "name": "ipython",
    "version": 3
   },
   "file_extension": ".py",
   "mimetype": "text/x-python",
   "name": "python",
   "nbconvert_exporter": "python",
   "pygments_lexer": "ipython3"
  }
 },
 "nbformat": 4,
 "nbformat_minor": 4
}
