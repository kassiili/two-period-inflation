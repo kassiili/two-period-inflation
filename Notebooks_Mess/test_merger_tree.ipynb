{
 "cells": [
  {
   "cell_type": "code",
   "execution_count": null,
   "metadata": {},
   "outputs": [],
   "source": [
    "%load_ext autoreload\n",
    "%autoreload 2\n",
    "\n",
    "%config IPCompleter.greedy=True"
   ]
  },
  {
   "cell_type": "code",
   "execution_count": null,
   "metadata": {},
   "outputs": [],
   "source": [
    "import numpy as np\n",
    "import importlib\n",
    "\n",
    "import data_file_manipulation\n",
    "import simulation\n",
    "import halo_matching\n",
    "import snapshot_obj \n",
    "import simulation_tracing\n",
    "import subhalo"
   ]
  },
  {
   "cell_type": "code",
   "execution_count": null,
   "metadata": {},
   "outputs": [],
   "source": [
    "importlib.reload(data_file_manipulation)\n",
    "importlib.reload(simulation)\n",
    "importlib.reload(halo_matching)\n",
    "importlib.reload(snapshot_obj)\n",
    "importlib.reload(simulation_tracing)\n",
    "importlib.reload(subhalo)"
   ]
  },
  {
   "cell_type": "code",
   "execution_count": null,
   "metadata": {},
   "outputs": [],
   "source": [
    "sim_id = \"V1_LR_fix\"\n",
    "print(data_file_manipulation.get_snap_ids(sim_id))"
   ]
  },
  {
   "cell_type": "code",
   "execution_count": null,
   "metadata": {},
   "outputs": [],
   "source": [
    "sim = simulation.Simulation(sim_id)\n",
    "print(sim.get_snap_num())\n",
    "print(sim.get_snap_ids())"
   ]
  },
  {
   "cell_type": "code",
   "execution_count": null,
   "metadata": {},
   "outputs": [],
   "source": [
    "snap1 = snapshot_obj.Snapshot(\"V1_LR_fix\", 127)\n",
    "snap2 = snapshot_obj.Snapshot(\"V1_LR_fix\", 126) \n",
    "matcher = halo_matching.SnapshotMatcher()"
   ]
  },
  {
   "cell_type": "code",
   "execution_count": null,
   "metadata": {},
   "outputs": [],
   "source": [
    "matches_in1, matches_in2 = matcher.match_snapshots(snap1, snap2)"
   ]
  },
  {
   "cell_type": "code",
   "execution_count": null,
   "metadata": {},
   "outputs": [],
   "source": [
    "snap = snapshot_obj.Snapshot(\"V1_LR_fix\", 123)\n",
    "print(data_file_manipulation.group_dataset_exists(snap, \"Descendants\", \"Extended/Heritage/BackwardBranching\"))\n",
    "test = snap.get_subhalos(\"Descendants\", group=\"Extended/Heritage/BackwardBranching\")\n",
    "print(test)\n",
    "print(data_file_manipulation.group_dataset_exists(snap, \"Descendants\", \"Extended/Heritage/BackwardBranching\"))"
   ]
  },
  {
   "cell_type": "code",
   "execution_count": null,
   "metadata": {},
   "outputs": [],
   "source": [
    "print(matches_in1[:100])"
   ]
  },
  {
   "cell_type": "code",
   "execution_count": null,
   "metadata": {
    "jupyter": {
     "outputs_hidden": true
    }
   },
   "outputs": [],
   "source": [
    "print(matches_in2[:100])"
   ]
  },
  {
   "cell_type": "code",
   "execution_count": null,
   "metadata": {},
   "outputs": [],
   "source": [
    "merger_tree = simulation_tracing.MergerTree(sim, matcher, branching=\"BackwardBranching\")"
   ]
  },
  {
   "cell_type": "code",
   "execution_count": null,
   "metadata": {},
   "outputs": [],
   "source": [
    "tracer_dict = merger_tree.build_tree(120, 128)"
   ]
  },
  {
   "cell_type": "code",
   "execution_count": null,
   "metadata": {},
   "outputs": [],
   "source": [
    "print(tracer_dict.keys())\n",
    "print(tracer_dict[123].keys())\n",
    "print(tracer_dict[124].keys())\n",
    "print(tracer_dict[127].keys())"
   ]
  },
  {
   "cell_type": "code",
   "execution_count": null,
   "metadata": {},
   "outputs": [],
   "source": [
    "snap_123 = snapshot_obj.Snapshot(sim_id, 123)\n",
    "matches_123 = snap_123.get_subhalos(\"Descendants\", group=\"Extended/Heritage/BackwardBranching\")"
   ]
  },
  {
   "cell_type": "code",
   "execution_count": null,
   "metadata": {},
   "outputs": [],
   "source": [
    "print(matches_123.size)\n",
    "print(matches_123[:100])"
   ]
  },
  {
   "cell_type": "code",
   "execution_count": null,
   "metadata": {},
   "outputs": [],
   "source": [
    "snap_124 = snapshot_obj.Snapshot(sim_id, 124)\n",
    "matches_124 = snap_124.get_subhalos(\"Progenitors\", group=\"Extended/Heritage/BackwardBranching\")"
   ]
  },
  {
   "cell_type": "code",
   "execution_count": null,
   "metadata": {},
   "outputs": [],
   "source": [
    "print(matches_124.size)\n",
    "#print(matches_124[:100])\n",
    "print(np.sum(matches_124[:,1] < 1000000))"
   ]
  },
  {
   "cell_type": "code",
   "execution_count": null,
   "metadata": {
    "jupyter": {
     "outputs_hidden": true
    }
   },
   "outputs": [],
   "source": [
    "print(merger_tree.get_all_matches())"
   ]
  },
  {
   "cell_type": "code",
   "execution_count": null,
   "metadata": {
    "jupyter": {
     "outputs_hidden": true
    }
   },
   "outputs": [],
   "source": [
    "merger_tree.store_tracer()"
   ]
  },
  {
   "cell_type": "code",
   "execution_count": null,
   "metadata": {},
   "outputs": [],
   "source": [
    "mdict = merger_tree.read_from_storage()\n",
    "print(mdict.keys())"
   ]
  },
  {
   "cell_type": "code",
   "execution_count": null,
   "metadata": {
    "jupyter": {
     "outputs_hidden": true
    }
   },
   "outputs": [],
   "source": [
    "for sid in range(120,128):\n",
    "    print(sid)\n",
    "    print(mdict[sid]['Descendants'][:80])"
   ]
  },
  {
   "cell_type": "code",
   "execution_count": null,
   "metadata": {},
   "outputs": [],
   "source": [
    "merger_tree.simulation.get_snapshot(123)"
   ]
  },
  {
   "cell_type": "code",
   "execution_count": null,
   "metadata": {},
   "outputs": [],
   "source": [
    "msnaps = merger_tree.get_matched_snapshots()\n",
    "for s in msnaps:\n",
    "    print(s.snap_id)"
   ]
  },
  {
   "cell_type": "code",
   "execution_count": null,
   "metadata": {},
   "outputs": [],
   "source": [
    "print(merger_tree.get_redshifts())"
   ]
  },
  {
   "cell_type": "code",
   "execution_count": null,
   "metadata": {},
   "outputs": [],
   "source": [
    "snap_tracer = simulation_tracing.SnapshotTracer(123, merger_tree)\n",
    "\n",
    "tracer = snap_tracer.trace(127)"
   ]
  },
  {
   "cell_type": "code",
   "execution_count": null,
   "metadata": {},
   "outputs": [],
   "source": [
    "print(tracer[40:70, -6:])"
   ]
  },
  {
   "cell_type": "code",
   "execution_count": null,
   "metadata": {},
   "outputs": [],
   "source": [
    "subhalo_tracer = subhalo.SubhaloTracer(sim, 124, gn_ref=1, sgn_ref=0)\n",
    "subhalo_tracer.trace(merger_tree)"
   ]
  },
  {
   "cell_type": "code",
   "execution_count": null,
   "metadata": {},
   "outputs": [],
   "source": [
    "for sub in subhalo_tracer.tracer:\n",
    "    if sub is not None:\n",
    "        print(sub.gn, sub.sgn)"
   ]
  },
  {
   "cell_type": "code",
   "execution_count": null,
   "metadata": {},
   "outputs": [],
   "source": [
    "subhalo_tracer.get_halo_data(\"GroupNumber\", 120, 127)"
   ]
  },
  {
   "cell_type": "code",
   "execution_count": null,
   "metadata": {},
   "outputs": [],
   "source": [
    "subhalo_tracer.(\"GroupNumber\")"
   ]
  },
  {
   "cell_type": "code",
   "execution_count": null,
   "metadata": {},
   "outputs": [],
   "source": [
    "print(subhalo_tracer.get_traced_snapshots())"
   ]
  },
  {
   "cell_type": "code",
   "execution_count": null,
   "metadata": {},
   "outputs": [],
   "source": [
    "print(subhalo_tracer.index_tracer)"
   ]
  },
  {
   "cell_type": "code",
   "execution_count": null,
   "metadata": {},
   "outputs": [],
   "source": [
    "simulation_tracing.find_subhalo_descendants(merger_tree, 123, 3)"
   ]
  },
  {
   "cell_type": "code",
   "execution_count": null,
   "metadata": {},
   "outputs": [],
   "source": [
    "simulation_tracing.find_subhalo_progenitors(merger_tree, 127, 6)"
   ]
  },
  {
   "cell_type": "code",
   "execution_count": null,
   "metadata": {},
   "outputs": [],
   "source": [
    "print(merger_tree.get_all_matches()[126].keys())"
   ]
  },
  {
   "cell_type": "code",
   "execution_count": null,
   "metadata": {},
   "outputs": [],
   "source": [
    "snap_tracer = simulation_tracing.SnapshotTracer(120, merger_tree)"
   ]
  },
  {
   "cell_type": "code",
   "execution_count": null,
   "metadata": {},
   "outputs": [],
   "source": [
    "for sid in range(121, 128):\n",
    "    print(sim.get_snapshot(sid).index_of_halo(2,0))"
   ]
  },
  {
   "cell_type": "code",
   "execution_count": null,
   "metadata": {},
   "outputs": [],
   "source": [
    "print(sim.get_snapshot(111).index_of_halo(2,0))"
   ]
  },
  {
   "cell_type": "code",
   "execution_count": null,
   "metadata": {},
   "outputs": [],
   "source": [
    "snap_tracer = simulation_tracing.SnapshotTracer(120, merger_tree)\n",
    "tracer_arr = snap_tracer.trace(110)\n",
    "print(tracer_arr[:100])"
   ]
  },
  {
   "cell_type": "code",
   "execution_count": null,
   "metadata": {},
   "outputs": [],
   "source": [
    "print(tracer_arr[:100, 120:])"
   ]
  },
  {
   "cell_type": "code",
   "execution_count": null,
   "metadata": {},
   "outputs": [],
   "source": []
  }
 ],
 "metadata": {
  "kernelspec": {
   "display_name": "Python 3",
   "language": "python",
   "name": "python3"
  },
  "language_info": {
   "codemirror_mode": {
    "name": "ipython",
    "version": 3
   },
   "file_extension": ".py",
   "mimetype": "text/x-python",
   "name": "python",
   "nbconvert_exporter": "python",
   "pygments_lexer": "ipython3"
  }
 },
 "nbformat": 4,
 "nbformat_minor": 4
}
