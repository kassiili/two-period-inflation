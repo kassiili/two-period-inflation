{
 "cells": [
  {
   "cell_type": "code",
   "execution_count": null,
   "metadata": {},
   "outputs": [],
   "source": [
    "%load_ext autoreload\n",
    "%autoreload 2\n",
    "\n",
    "#%config IPCompleter.greedy=True"
   ]
  },
  {
   "cell_type": "markdown",
   "metadata": {},
   "source": [
    "# Rotation curves\n",
    "\n",
    "First, imports:"
   ]
  },
  {
   "cell_type": "code",
   "execution_count": null,
   "metadata": {},
   "outputs": [],
   "source": [
    "import matplotlib.pyplot as plt\n",
    "import numpy as np\n",
    "import h5py\n",
    "from astropy import units\n",
    "from pathlib import Path\n",
    "import os\n",
    "import astropy.units as u\n",
    "from astropy.constants import G\n",
    "\n",
    "import snapshot_obj \n",
    "import subhalo\n",
    "import dataset_compute\n",
    "import curve_fit\n",
    "\n",
    "import importlib"
   ]
  },
  {
   "cell_type": "code",
   "execution_count": null,
   "metadata": {},
   "outputs": [],
   "source": [
    "importlib.reload(snapshot_obj)\n",
    "importlib.reload(subhalo)\n",
    "importlib.reload(dataset_compute)\n",
    "importlib.reload(curve_fit)"
   ]
  },
  {
   "cell_type": "markdown",
   "metadata": {},
   "source": [
    "## Get data"
   ]
  },
  {
   "cell_type": "code",
   "execution_count": null,
   "metadata": {
    "code_folding": []
   },
   "outputs": [],
   "source": [
    "snap_id = 127\n",
    "data = {\"plain-LCDM\" : \n",
    "        {\"M31\" : {\"halo_id\" : (1,0)},\n",
    "         \"MW\" : {\"halo_id\" : (2,0)}\n",
    "        },\n",
    "        \"spec-p082\" : \n",
    "        {\"M31\" : {\"halo_id\" : (1,0)},\n",
    "         \"MW\" : {\"halo_id\" : (1,1)}\n",
    "        }\n",
    "       }\n",
    "\n",
    "linestyle = {'all' : ':', 'gas' : '-', 'dm' : '--', \n",
    "             'stars' : '-', 'bh' : '--'}\n",
    "\n",
    "for colors, sim_name in zip([(\"black\", \"gray\"), (\"red\", \"pink\")],\n",
    "                            data.keys()):\n",
    "    \n",
    "    color = {'all' : colors[1], 'gas' : colors[1], 'dm' : colors[0], \n",
    "             'stars' : colors[0], 'bh' : colors[1]}\n",
    "\n",
    "    for galaxy in data[sim_name].keys():\n",
    "        data[sim_name][galaxy].update(\n",
    "        {\"Color\" : color, \"Linestyle\" : linestyle})"
   ]
  },
  {
   "cell_type": "code",
   "execution_count": null,
   "metadata": {
    "code_folding": []
   },
   "outputs": [],
   "source": [
    "for sim_id, sim_name in zip([\"V1_MR_fix\", \"V1_MR_curvaton_p082_fix\"], data.keys()):\n",
    "    snap = snapshot_obj.Snapshot(sim_id=sim_id, snap_id=snap_id)\n",
    "        \n",
    "    for galaxy in data[sim_name].keys():\n",
    "        idx = snap.index_of_halo(data[sim_name][galaxy][\"halo_id\"][0], \n",
    "                                 data[sim_name][galaxy][\"halo_id\"][1])\n",
    "        v_circ = {}\n",
    "        radii = {}\n",
    "        for pt, pt_id in zip(['all', 'gas', 'dm', 'stars', 'bh'],\n",
    "                             ['All', 'PartType0', 'PartType1', 'PartType4', 'PartType5']):\n",
    "            rot_curves = snap.get_subhalos(\n",
    "                'Vcirc', group='Extended/RotationCurve/{}'.format(pt_id))\n",
    "            sub_offset = snap.get_subhalos(\n",
    "                'SubOffset', group='Extended/RotationCurve/{}'.format(pt_id))\n",
    "            \n",
    "            v_circ[pt] = rot_curves[sub_offset[idx]:sub_offset[idx+1],0] \\\n",
    "                * units.cm.to(units.km)\n",
    "            radii[pt] = rot_curves[sub_offset[idx]:sub_offset[idx+1],1] \\\n",
    "                * units.cm.to(units.kpc)\n",
    "\n",
    "        data[sim_name][galaxy][\"Vcirc\"] = v_circ\n",
    "        data[sim_name][galaxy][\"Radius\"] = radii"
   ]
  },
  {
   "cell_type": "code",
   "execution_count": null,
   "metadata": {},
   "outputs": [],
   "source": [
    "# Construct saving location:\n",
    "filename = \"rotation_curves_of_centrals_by_type.png\"\n",
    "    \n",
    "home = os.path.dirname(snapshot_obj.__file__)\n",
    "path = os.path.join(home,\"Figures\", \"MediumResolution\", \"RotationCurves\")\n",
    "filename = os.path.join(path, filename)"
   ]
  },
  {
   "cell_type": "code",
   "execution_count": null,
   "metadata": {
    "code_folding": []
   },
   "outputs": [],
   "source": [
    "fig, axes = plt.subplots(ncols=2, sharey=\"row\", figsize=(8,3.5))\n",
    "plt.subplots_adjust(wspace=0)\n",
    "\n",
    "# Set titles:\n",
    "axes[0].set_title(\"Andromeda\")\n",
    "axes[1].set_title(\"Milky Way\")\n",
    "\n",
    "# Set axes:\n",
    "x_down = 0; x_up = 59\n",
    "y_down = 0; y_up = 270\n",
    "axes[0].set_xlim(x_down, x_up)\n",
    "axes[1].set_xlim(x_down, x_up)\n",
    "axes[0].set_ylim(y_down,y_up)\n",
    "\n",
    "# Set labels:\n",
    "axes[0].set_xlabel('$r[\\mathrm{kpc}]$')\n",
    "axes[1].set_xlabel('$r[\\mathrm{kpc}]$')\n",
    "axes[0].set_ylabel('$v_{\\mathrm{circ}}[\\mathrm{kms^{-1}}]$')\n",
    "\n",
    "# Galaxy text:\n",
    "#axes.set_title('Rotation curve: GN={}, SGN={}'.format(gn,sgn))\n",
    "\n",
    "for i, sim_name in enumerate(data.keys()):\n",
    "    \n",
    "    # Plot M31:\n",
    "    for v_circ, r, col, ls in zip(\n",
    "        data[sim_name][\"M31\"][\"Vcirc\"].values(),\n",
    "        data[sim_name][\"M31\"][\"Radius\"].values(),\n",
    "        data[sim_name][\"M31\"][\"Color\"].values(),\n",
    "        data[sim_name][\"M31\"][\"Linestyle\"].values()):\n",
    "\n",
    "        axes[0].plot(r, v_circ, c=col, linestyle=ls)\n",
    "    \n",
    "    # Plot MW:\n",
    "    for v_circ, r, col, ls in zip(\n",
    "        data[sim_name][\"MW\"][\"Vcirc\"].values(),\n",
    "        data[sim_name][\"MW\"][\"Radius\"].values(),\n",
    "        data[sim_name][\"MW\"][\"Color\"].values(),\n",
    "        data[sim_name][\"MW\"][\"Linestyle\"].values()):\n",
    "\n",
    "        axes[1].plot(r, v_circ, c=col, linestyle=ls)\n",
    "         \n",
    "            \n",
    "# Make dummy plots for the legend:   \n",
    "l1, = axes[1].plot([], [], c=data[\"plain-LCDM\"][\"M31\"][\"Color\"][\"stars\"])\n",
    "l2, = axes[1].plot([], [], c=data[\"spec-p082\"][\"M31\"][\"Color\"][\"stars\"])\n",
    "sim_legend = axes[1].legend([l1,l2], [\"plain-LCDM\", \"spec-p082\"],\n",
    "                            loc=\"upper left\")\n",
    "axes[1].add_artist(sim_legend)\n",
    "\n",
    "for pt in data[sim_name][\"MW\"][\"Color\"].keys():\n",
    "    axes[1].plot([], [], \n",
    "                 c=data[\"plain-LCDM\"][\"MW\"][\"Color\"][pt],\n",
    "                 linestyle=data[\"plain-LCDM\"][\"MW\"][\"Linestyle\"][pt],\n",
    "                 label=pt)\n",
    "    \n",
    "axes[1].legend(loc=\"upper right\")\n",
    "        \n",
    "    \n",
    "plt.legend(loc=\"upper right\")\n",
    "plt.tight_layout()\n",
    "\n",
    "plt.savefig(os.path.join(path,filename), dpi=300)"
   ]
  },
  {
   "cell_type": "code",
   "execution_count": null,
   "metadata": {},
   "outputs": [],
   "source": []
  }
 ],
 "metadata": {
  "kernelspec": {
   "display_name": "Python 3",
   "language": "python",
   "name": "python3"
  },
  "language_info": {
   "codemirror_mode": {
    "name": "ipython",
    "version": 3
   },
   "file_extension": ".py",
   "mimetype": "text/x-python",
   "name": "python",
   "nbconvert_exporter": "python",
   "pygments_lexer": "ipython3"
  }
 },
 "nbformat": 4,
 "nbformat_minor": 4
}
