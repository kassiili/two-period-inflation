{
 "cells": [
  {
   "cell_type": "markdown",
   "metadata": {},
   "source": [
    "## First, imports:"
   ]
  },
  {
   "cell_type": "code",
   "execution_count": null,
   "metadata": {},
   "outputs": [],
   "source": [
    "%load_ext autoreload\n",
    "%autoreload 2\n",
    "\n",
    "%config IPCompleter.greedy=True"
   ]
  },
  {
   "cell_type": "code",
   "execution_count": null,
   "metadata": {},
   "outputs": [],
   "source": [
    "import numpy as np\n",
    "import matplotlib.pyplot as plt\n",
    "\n",
    "from astropy import units\n",
    "from astropy.cosmology import FlatLambdaCDM, z_at_value"
   ]
  },
  {
   "cell_type": "markdown",
   "metadata": {},
   "source": [
    "Import my library:"
   ]
  },
  {
   "cell_type": "code",
   "execution_count": null,
   "metadata": {},
   "outputs": [],
   "source": [
    "import os\n",
    "import sys\n",
    "\n",
    "apt_path = os.path.abspath(os.path.join('..', 'apostletools'))\n",
    "sys.path.append(apt_path)\n",
    "\n",
    "import simulation\n",
    "import simtrace\n",
    "import match_halo"
   ]
  },
  {
   "cell_type": "code",
   "execution_count": null,
   "metadata": {},
   "outputs": [],
   "source": [
    "import importlib\n",
    "importlib.reload(simulation)\n",
    "importlib.reload(simtrace)\n",
    "importlib.reload(match_halo)"
   ]
  },
  {
   "cell_type": "markdown",
   "metadata": {},
   "source": [
    "# Evolution Histories of the Milky Way and the M31\n",
    "\n",
    "Here, I compare the mass evolution, and the relative motions of the MW and the M31 between simulations. This helps me understand the potential differences between the environments of the satellites between simulations. \n",
    "\n",
    "---\n",
    "\n",
    "## Set Parameters for the Plots"
   ]
  },
  {
   "cell_type": "markdown",
   "metadata": {},
   "source": [
    "### plain-LCDM and spec-p082\n",
    "\n",
    "Choose the simulations, and define the M31 and the MW at redshift $z=0$:"
   ]
  },
  {
   "cell_type": "code",
   "execution_count": null,
   "metadata": {},
   "outputs": [],
   "source": [
    "data = {\n",
    "    \"plain-LCDM\": {\n",
    "        \"Simulation\": simulation.Simulation(\"V1_MR_fix\")\n",
    "    },\n",
    "    \"curv-p082\": {\n",
    "        \"Simulation\": simulation.Simulation(\"V1_MR_curvaton_p082_fix\")\n",
    "    }\n",
    "}\n",
    "\n",
    "m31_id_z0 = [(1, 0), (1, 0)]\n",
    "mw_id_z0 = [(2, 0), (1, 1)]"
   ]
  },
  {
   "cell_type": "markdown",
   "metadata": {},
   "source": [
    "Define plotting style:"
   ]
  },
  {
   "cell_type": "code",
   "execution_count": null,
   "metadata": {},
   "outputs": [],
   "source": [
    "linestyle = {'All' : ':', 'Gas' : '-', 'DM' : '--', \n",
    "             'Stars' : '-', 'BH' : '--'}\n",
    "\n",
    "data[\"plain-LCDM\"].update({\n",
    "    \"Color\": {'All' : 'gray', 'Gas' : 'gray', 'DM' : 'black', \n",
    "             'Stars' : 'black', 'BH' : 'gray'},\n",
    "    \"Linestyle\" : linestyle\n",
    "})\n",
    "data[\"curv-p082\"].update({\n",
    "    \"Color\": {'All' : 'pink', 'Gas' : 'pink', 'DM' : 'red', \n",
    "             'Stars' : 'red', 'BH' : 'pink'},\n",
    "    \"Linestyle\" : linestyle\n",
    "})"
   ]
  },
  {
   "cell_type": "markdown",
   "metadata": {},
   "source": [
    "---\n",
    "\n",
    "### plain-LCDM-LR\n",
    "\n",
    "Choose the simulations, and define the M31 and the MW at redshift $z=0$:"
   ]
  },
  {
   "cell_type": "code",
   "execution_count": null,
   "metadata": {},
   "outputs": [],
   "source": [
    "env_path = os.path.abspath(os.path.join('..', 'test_tracing_inj'))\n",
    "\n",
    "data = {\n",
    "    \"plain-LCDM-LR\": {\n",
    "        \"Simulation\": simulation.Simulation(\"V1_LR_fix\", env_path=env_path)\n",
    "    }\n",
    "}\n",
    "\n",
    "m31_id_z0 = [(1, 0)]\n",
    "mw_id_z0 = [(2, 0)]"
   ]
  },
  {
   "cell_type": "markdown",
   "metadata": {},
   "source": [
    "Define plotting style:"
   ]
  },
  {
   "cell_type": "code",
   "execution_count": null,
   "metadata": {},
   "outputs": [],
   "source": [
    "linestyle = {'All' : ':', 'Gas' : '-', 'DM' : '--', \n",
    "             'Stars' : '-', 'BH' : '--'}\n",
    "\n",
    "data[\"plain-LCDM-LR\"].update({\n",
    "    \"Color\": {'All' : 'gray', 'Gas' : 'gray', 'DM' : 'black', \n",
    "             'Stars' : 'black', 'BH' : 'gray'},\n",
    "    \"Linestyle\" : linestyle\n",
    "})"
   ]
  },
  {
   "cell_type": "markdown",
   "metadata": {},
   "source": [
    "---\n",
    "\n",
    "### Low Resolution Simulations\n",
    "\n",
    "Choose the simulations, and define the M31 and the MW at redshift $z=0$:"
   ]
  },
  {
   "cell_type": "code",
   "execution_count": null,
   "metadata": {},
   "outputs": [],
   "source": [
    "env_path = os.path.abspath(os.path.join('..', 'test_tracing_inj'))\n",
    "\n",
    "data = {\n",
    "    \"plain-LCDM-LR\": {\n",
    "        \"Simulation\": simulation.Simulation(\"V1_LR_fix\", env_path=env_path)\n",
    "    },\n",
    "    \"curv-p082-LR\": {\n",
    "        \"Simulation\": simulation.Simulation(\"V1_LR_curvaton_p082_fix\", env_path=env_path)\n",
    "    },\n",
    "    \"curv-p084-LR\": {\n",
    "        \"Simulation\": simulation.Simulation(\"V1_LR_curvaton_p084_fix\", env_path=env_path)\n",
    "    }\n",
    "}\n",
    "\n",
    "m31_id_z0 = [(1, 0), (1, 0), (1, 0)]\n",
    "mw_id_z0 = [(2, 0), (1, 1), (1, 0)]"
   ]
  },
  {
   "cell_type": "markdown",
   "metadata": {},
   "source": [
    "Define plotting style:"
   ]
  },
  {
   "cell_type": "code",
   "execution_count": null,
   "metadata": {},
   "outputs": [],
   "source": [
    "linestyle = {'All' : ':', 'Gas' : '-', 'DM' : '--', \n",
    "             'Stars' : '-', 'BH' : '--'}\n",
    "\n",
    "data[\"plain-LCDM-LR\"].update({\n",
    "    \"Color\": {'All' : 'gray', 'Gas' : 'gray', 'DM' : 'black', \n",
    "             'Stars' : 'black', 'BH' : 'gray'},\n",
    "    \"Linestyle\" : linestyle\n",
    "})\n",
    "data[\"curv-p082-LR\"].update({\n",
    "    \"Color\": {'All' : 'pink', 'Gas' : 'pink', 'DM' : 'red', \n",
    "             'Stars' : 'red', 'BH' : 'pink'},\n",
    "    \"Linestyle\" : linestyle\n",
    "})\n",
    "data[\"curv-p084-LR\"].update({\n",
    "    \"Color\": {'All' : 'lightblue', 'Gas' : 'lightblue', 'DM' : 'blue', \n",
    "             'Stars' : 'blue', 'BH' : 'lightblue'},\n",
    "    \"Linestyle\" : linestyle\n",
    "})"
   ]
  },
  {
   "cell_type": "markdown",
   "metadata": {},
   "source": [
    "---\n",
    "\n",
    "## Tracing\n",
    "\n",
    "Set the range of snapshots to be traced:"
   ]
  },
  {
   "cell_type": "code",
   "execution_count": null,
   "metadata": {},
   "outputs": [],
   "source": [
    "snap_start = 100\n",
    "snap_stop = 128\n",
    "snap_ids = np.arange(snap_start, snap_stop)"
   ]
  },
  {
   "cell_type": "code",
   "execution_count": null,
   "metadata": {},
   "outputs": [],
   "source": [
    "# If the simulations are not already linked:\n",
    "matcher = match_halo.SnapshotMatcher(n_link_ref=20, n_matches=1)\n",
    "for sim in [sim_data[\"Simulation\"] for sim_data in data.values()]:\n",
    "    mtree = simtrace.MergerTree(sim, matcher=matcher, branching=\"BackwardBranching\")\n",
    "    mtree.build_tree(snap_start, snap_stop)"
   ]
  },
  {
   "cell_type": "markdown",
   "metadata": {},
   "source": [
    "Get Subhalo objects corresponding to the M31 and the MW:"
   ]
  },
  {
   "cell_type": "code",
   "execution_count": null,
   "metadata": {},
   "outputs": [],
   "source": [
    "snap_z0 = 127\n",
    "for m31_id, mw_id, sim_data in zip(m31_id_z0, mw_id_z0, data.values()):\n",
    "    sim = sim_data[\"Simulation\"]\n",
    "    \n",
    "    # Trace subhalos and add the M31 and the MW Subhalo objects to the\n",
    "    # ´sim_data´ dictionary:\n",
    "    sub_dict = sim.trace_subhalos(snap_start, snap_stop)\n",
    "    sim_data.update({\n",
    "        \"M31\": {\"Subhalo\": sub_dict[snap_z0][\n",
    "                sim.get_snapshot(snap_z0).index_of_halo(m31_id[0], m31_id[1])\n",
    "        ]},\n",
    "        \"MW\": {\"Subhalo\": sub_dict[snap_z0][\n",
    "            sim.get_snapshot(snap_z0).index_of_halo(mw_id[0], mw_id[1])\n",
    "        ]}\n",
    "    })"
   ]
  },
  {
   "cell_type": "markdown",
   "metadata": {},
   "source": [
    "---\n",
    "\n",
    "## Retrieve and Compute Datasets for Plotting\n",
    "\n",
    "Below we add to the data dictionaries of each simulation, at each traced snapshot,\n",
    "- the masses (of different types) of the centrals\n",
    "- their relative distance\n",
    "- the Hubble expansion of that distance\n",
    "- the radial and tangential components of their relative peculiar velocity\n",
    "- and the corresponding redshifts and lookback times"
   ]
  },
  {
   "cell_type": "code",
   "execution_count": null,
   "metadata": {},
   "outputs": [],
   "source": [
    "# Define the cosmology (should be the same for each simulation):\n",
    "for sim_data in data.values():\n",
    "    H0 = sim_data[\"Simulation\"].get_snapshot(snap_stop-1)\\\n",
    "        .get_attribute(\"HubbleParam\", \"Header\")\n",
    "    Om0 = sim_data[\"Simulation\"].get_snapshot(snap_stop-1)\\\n",
    "        .get_attribute(\"Omega0\", \"Header\")\n",
    "    print(H0, Om0)\n",
    "cosmo = FlatLambdaCDM(H0=100 * H0, Om0=Om0) "
   ]
  },
  {
   "cell_type": "code",
   "execution_count": null,
   "metadata": {},
   "outputs": [],
   "source": [
    "print(cosmo.age(0).value)\n",
    "print(cosmo.age(1).value)"
   ]
  },
  {
   "cell_type": "code",
   "execution_count": null,
   "metadata": {},
   "outputs": [],
   "source": [
    "for sim_data in data.values():\n",
    "    sim = sim_data[\"Simulation\"]\n",
    "    m31 = sim_data[\"M31\"][\"Subhalo\"]\n",
    "    mw = sim_data[\"MW\"][\"Subhalo\"]\n",
    "    \n",
    "    # Get redshifts and the corresponding lookback times:\n",
    "    z = sim.get_attribute(\"Redshift\", \"Header\", snap_ids)\n",
    "    lookback_time = cosmo.age(0).value - np.array([cosmo.age(zi).value for zi in z])\n",
    "    sim_data[\"Redshift\"] = z\n",
    "    sim_data[\"LookbackTime\"] = lookback_time\n",
    "    \n",
    "    # Read M31 mass evolution (of different particle types) and add to dict:\n",
    "    m31_masses = m31.get_halo_data(\"MassType\", snap_ids)\\\n",
    "        * units.g.to(units.Msun)\n",
    "\n",
    "    sim_data[\"M31\"].update({\"Mass\": {\n",
    "        pt : m31_masses[:, pt_num] for pt, pt_num \\\n",
    "        in zip(['Gas', 'DM', 'Stars', 'BH'], [0,1,4,5])\n",
    "    }})\n",
    "    sim_data[\"M31\"][\"Mass\"][\"All\"] = np.sum(m31_masses, axis=1)\n",
    "\n",
    "    # Read MW mass evolution (of different particle types) and add to dict:    \n",
    "    mw_masses = mw.get_halo_data(\"MassType\", snap_ids) * units.g.to(units.Msun)\n",
    "\n",
    "    sim_data[\"MW\"].update({\"Mass\": {\n",
    "        pt : mw_masses[:, pt_num] for pt, pt_num \\\n",
    "        in zip(['Gas', 'DM', 'Stars', 'BH'], [0,1,4,5])\n",
    "    }})\n",
    "    sim_data[\"MW\"][\"Mass\"][\"All\"] = np.sum(mw_masses, axis=1)\n",
    "\n",
    "    # Get coordinates of the MW, relative to the M31: \n",
    "    r = mw.distance_to_central(m31, snap_ids, centre_name=\"CentreOfMass\")\\\n",
    "        * units.cm.to(units.kpc)\n",
    "    sim_data[\"Separation\"] = r\n",
    "    \n",
    "    # Compute the Hubble expansion between the centrals:\n",
    "    H = sim.get_attribute(\"H(z)\", \"Header\", snap_ids)\n",
    "    r = r * units.kpc.to(units.km)\n",
    "    H_flow = np.multiply(H, r.T).T\n",
    "    sim_data[\"Expansion\"] = np.linalg.norm(H_flow, axis=1)\n",
    "    \n",
    "    # Compute the relative peculiar velocity of the centrals:\n",
    "    v_m31 = m31.get_halo_data(\"Velocity\", snap_ids) * units.cm.to(units.km)\n",
    "    v_mw = mw.get_halo_data(\"Velocity\", snap_ids) * units.cm.to(units.km)\n",
    "    v = H_flow + v_m31 - v_mw\n",
    "    \n",
    "    # Compute radial and tangential components of the relative\n",
    "    # peculiar velocity:\n",
    "    r_unit = np.multiply(r,  1/np.linalg.norm(r, axis=1)[:, np.newaxis])\n",
    "    v_rad = np.sum(v * r_unit, axis=1)\n",
    "    v_rot = np.linalg.norm(v - np.multiply(r_unit, v_rad[:, np.newaxis]),\n",
    "                           axis=1)\n",
    "    \n",
    "    sim_data[\"V_rad\"] = v_rad\n",
    "    sim_data[\"V_rot\"] = v_rot\n",
    "    \n",
    "    # Get r_200 of the centrals:\n",
    "    sim_data[\"M31\"][\"r_200\"] = m31.get_fof_data(\n",
    "        \"Group_R_TopHat200\", snap_ids\n",
    "    ) * units.cm.to(units.kpc)\n",
    "    sim_data[\"MW\"][\"r_200\"] = mw.get_fof_data(\n",
    "        \"Group_R_TopHat200\", snap_ids\n",
    "    ) * units.cm.to(units.kpc)"
   ]
  },
  {
   "cell_type": "markdown",
   "metadata": {
    "tags": []
   },
   "source": [
    "--- \n",
    "\n",
    "## Plot the Evolution of Centrals\n",
    "\n",
    "In four subfigures, plot\n",
    "- the mass of the M31\n",
    "- the mass of the MW\n",
    "- their distance\n",
    "- their relative peculiar velocity components\n",
    "\n",
    "First, set figure parameters:"
   ]
  },
  {
   "cell_type": "code",
   "execution_count": null,
   "metadata": {},
   "outputs": [],
   "source": [
    "# Choose font sizes:\n",
    "parameters = {'axes.titlesize': 10,\n",
    "              'axes.labelsize': 10,\n",
    "              'xtick.labelsize': 9,\n",
    "              'ytick.labelsize': 9,\n",
    "              'legend.fontsize': 10}"
   ]
  },
  {
   "cell_type": "markdown",
   "metadata": {},
   "source": [
    "Create the blanck frame figure for the plots:"
   ]
  },
  {
   "cell_type": "code",
   "execution_count": null,
   "metadata": {},
   "outputs": [],
   "source": [
    "# Set fonts:\n",
    "plt.rcParams.update(parameters)\n",
    "plt.tight_layout()\n",
    "\n",
    "fig, axes = plt.subplots(nrows=4, sharex=True, figsize=(6,9))\n",
    "plt.subplots_adjust(hspace=0.03)\n",
    "\n",
    "# Y-axes\n",
    "# ------\n",
    "\n",
    "# Share y-axis in the mass plots:\n",
    "axes[1].get_shared_y_axes().join(axes[0], axes[1])\n",
    "\n",
    "# axes[0].set_yscale('log')\n",
    "# axes[1].set_yscale('log')\n",
    "\n",
    "for ax in axes:\n",
    "    ax.yaxis.set_ticks_position('both')\n",
    "\n",
    "# Set y-axis limits:\n",
    "axes[0].set_ylim(np.log10(5*10**8), np.log10(5*10**12))\n",
    "axes[2].set_ylim(0, 990)\n",
    "axes[3].set_ylim(-120, 120)\n",
    "\n",
    "\n",
    "# X-axes\n",
    "# ------\n",
    "\n",
    "x_points = list(data.values())[0][\"LookbackTime\"]\n",
    "x_ws = (max(x_points) - min(x_points)) * 0.03\n",
    "axes[3].set_xlim(min(x_points) - x_ws, max(x_points) + x_ws)\n",
    "\n",
    "axes[3].invert_xaxis()    \n",
    "    \n",
    "# Add x-axis above the figure for redshift:\n",
    "z_ax = axes[0].twiny()\n",
    "z_ax.invert_xaxis()\n",
    "time_start,_ = axes[0].get_xlim()\n",
    "\n",
    "# Set z-ticks at 0, 0.1, 0.2, 0.3, ...\n",
    "z_start = 0.1 * int(z_at_value(cosmo.age, cosmo.age(0) - time_start * units.Gyr)*10)\n",
    "z_tick_locations = [cosmo.age(0).value - cosmo.age(z).value \n",
    "                    for z in np.linspace(0.000001, z_start, int(z_start/0.1)+1)]\n",
    "\n",
    "def z_tick_func(time):\n",
    "    z = [z_at_value(cosmo.age, cosmo.age(0) - t * units.Gyr) \n",
    "         for t in time]\n",
    "    return [\"%.1f\" % zi for zi in z]\n",
    "\n",
    "z_ax.set_xlim(axes[0].get_xlim())\n",
    "z_ax.set_xticks(z_tick_locations)\n",
    "z_ax.set_xticklabels(z_tick_func(z_tick_locations))\n",
    "\n",
    "\n",
    "# Set axis labels:\n",
    "axes[3].set_xlabel(\"Lookback Time\")\n",
    "z_ax.set_xlabel(\"Redshift\")\n",
    "axes[0].set_ylabel('$\\log(M_\\mathrm{M31} / \\mathrm{M_\\odot})$')\n",
    "axes[1].set_ylabel('$\\log(M_\\mathrm{MW} / \\mathrm{M_\\odot})$')\n",
    "axes[2].set_ylabel('Distance [kpc]')\n",
    "axes[3].set_ylabel('Relative velocity [km/s]')"
   ]
  },
  {
   "cell_type": "code",
   "execution_count": null,
   "metadata": {},
   "outputs": [],
   "source": [
    "# Initialize a list, where to save Line2D objects (returned by plot functions)\n",
    "# for the contruction of legends:\n",
    "mass_plot_lines = []\n",
    "mass_plot_labels_pt = []\n",
    "mass_plot_labels_sim = []\n",
    "\n",
    "for sim_name, sim_data in data.items(): \n",
    "    \n",
    "    z = sim_data[\"Redshift\"]\n",
    "    time = cosmo.age(0).value - np.array([cosmo.age(zi).value for zi in z])\n",
    "    \n",
    "    # Only add first simulation data to legend of particle types:\n",
    "    sim_plot_lines = []\n",
    "    pt_labels = []\n",
    "    sim_labels = []\n",
    "    \n",
    "    # Plot M31 mass evolution:\n",
    "    for part_type, mass in sim_data[\"M31\"][\"Mass\"].items():\n",
    "        \n",
    "        # Do not plot black holes:\n",
    "        if part_type == 'BH':\n",
    "            continue\n",
    "            \n",
    "        col = sim_data[\"Color\"][part_type]\n",
    "        ls = sim_data[\"Linestyle\"][part_type]\n",
    "            \n",
    "        # Plot and save line object:\n",
    "        line, = axes[0].plot(time, np.log10(mass), c=col, linestyle=ls)\n",
    "        sim_plot_lines.append(line)\n",
    "        pt_labels.append(part_type)\n",
    "        sim_labels.append(sim_name)\n",
    "    \n",
    "    mass_plot_lines.append(sim_plot_lines)\n",
    "    mass_plot_labels_pt.append(pt_labels)\n",
    "    mass_plot_labels_sim.append(sim_labels)\n",
    "    \n",
    "    # Plot MW mass evolution:\n",
    "    for part_type, mass in sim_data[\"MW\"][\"Mass\"].items():\n",
    "        \n",
    "        # Do not plot black holes:\n",
    "        if part_type == 'BH':\n",
    "            continue\n",
    "            \n",
    "        col = sim_data[\"Color\"][part_type]\n",
    "        ls = sim_data[\"Linestyle\"][part_type]\n",
    "            \n",
    "        # Plot and save line object:\n",
    "        axes[1].plot(time, np.log10(mass), c=col, linestyle=ls)\n",
    "        \n",
    "    # Plot separation:\n",
    "    r = sim_data[\"Separation\"]\n",
    "    axes[2].plot(time, np.linalg.norm(r, axis=1), c=sim_data[\"Color\"]['DM'])\n",
    "\n",
    "    # Plot the peculiar velocity components:\n",
    "    v_r = sim_data[\"V_rad\"]\n",
    "    v_t = sim_data[\"V_rot\"]\n",
    "    v_H = sim_data[\"Expansion\"]\n",
    "    \n",
    "#     axes[3].axhline(0, c=\"lightblue\", alpha=0.5)\n",
    "    \n",
    "    # Only label the first:\n",
    "    if sim_name == list(data.keys())[0]:        \n",
    "        axes[3].plot(time, v_H, label=\"Expansion\",\n",
    "                     linestyle='dashdot', c=\"gray\")\n",
    "        axes[3].plot(time, v_r, label=\"Radial\",\n",
    "                     linestyle='solid', c=sim_data[\"Color\"]['DM'])\n",
    "        axes[3].plot(time, v_t, label=\"Tangential\",\n",
    "                     linestyle='dotted', c=sim_data[\"Color\"]['DM'])\n",
    "    else:        \n",
    "        axes[3].plot(time, v_H,\n",
    "                     linestyle='dashdot', c=\"pink\")\n",
    "        axes[3].plot(time, v_r, linestyle='solid',\n",
    "                     c=sim_data[\"Color\"]['DM'])\n",
    "        axes[3].plot(time, v_t, linestyle='dotted', \n",
    "                     c=sim_data[\"Color\"]['DM'])\n",
    "\n",
    "fig"
   ]
  },
  {
   "cell_type": "code",
   "execution_count": null,
   "metadata": {},
   "outputs": [],
   "source": [
    "# Add legends:\n",
    "sim_legend = axes[0].legend([l[2] for l in mass_plot_lines], \n",
    "                        [lab[2] for lab in mass_plot_labels_sim], \n",
    "                        loc=\"lower right\")\n",
    "axes[0].add_artist(sim_legend)\n",
    "axes[0].legend(mass_plot_lines[0], mass_plot_labels_pt[0], loc=\"upper left\")\n",
    "axes[3].legend(loc=\"lower left\")\n",
    "\n",
    "plt.tight_layout()\n",
    "\n",
    "fig"
   ]
  },
  {
   "cell_type": "markdown",
   "metadata": {},
   "source": [
    "---\n",
    "\n",
    "## Save the Figure"
   ]
  },
  {
   "cell_type": "code",
   "execution_count": null,
   "metadata": {},
   "outputs": [],
   "source": [
    "filename = \"time_evolution_of_centrals.png\"    \n",
    "    \n",
    "path = os.path.abspath(os.path.join('..', 'Figures', 'MediumResolution'))\n",
    "filename = os.path.join(path, filename)\n",
    "\n",
    "fig.savefig(filename, dpi=300, bbox_inches='tight')"
   ]
  },
  {
   "cell_type": "markdown",
   "metadata": {},
   "source": [
    "---\n",
    "\n",
    "## Further ideas\n",
    "\n",
    "- Create a break to the y-axis in the distance plot to highlight the amplification of the evolution (https://pypi.org/project/brokenaxes/)"
   ]
  },
  {
   "cell_type": "markdown",
   "metadata": {},
   "source": [
    "---\n",
    "\n",
    "## Plot $r_{200}$\n",
    "\n",
    "As a further check, plot the top-hat $r_{200}$ values of the centrals, and compare it with the physical distance corresponding to 300 ckpc."
   ]
  },
  {
   "cell_type": "code",
   "execution_count": null,
   "metadata": {},
   "outputs": [],
   "source": [
    "fig, ax = plt.subplots()\n",
    "\n",
    "ax.invert_xaxis()\n",
    "ax.set_xlabel(\"Redshift\")\n",
    "ax.set_ylabel(\"Radius [kpc]\")\n",
    "\n",
    "for sim_name, sim_data in data.items(): \n",
    "    \n",
    "    z = sim_data[\"Redshift\"]\n",
    "    m31_r200 = sim_data[\"M31\"][\"r_200\"]\n",
    "    ax.plot(z, m31_r200, c=sim_data[\"Color\"][\"Stars\"], \n",
    "            linestyle=sim_data[\"Linestyle\"][\"Stars\"], label=\"{}: $r_{{200, \\mathrm{{M31}}}}$\".format(sim_name))\n",
    "    \n",
    "    mw_r200 = sim_data[\"MW\"][\"r_200\"]\n",
    "    ax.plot(z, mw_r200, c=sim_data[\"Color\"][\"Gas\"], \n",
    "            linestyle=sim_data[\"Linestyle\"][\"DM\"], label=\"{}: $r_{{200, \\mathrm{{MW}}}}$\".format(sim_name))\n",
    "    \n",
    "a = sim.get_attribute(\"Time\", \"Header\", snap_ids)\n",
    "ax.plot(z, a * 300, c='blue', linestyle='dotted', label=\"$a * 300 \\mathrm{{kpc}}$\")\n",
    "    \n",
    "ax.legend(loc=\"upper left\")"
   ]
  },
  {
   "cell_type": "code",
   "execution_count": null,
   "metadata": {},
   "outputs": [],
   "source": [
    "filename = \"centrals_r200.png\"    \n",
    "    \n",
    "path = os.path.abspath(os.path.join('..', 'Figures', 'MediumResolution'))\n",
    "filename = os.path.join(path, filename)\n",
    "\n",
    "fig.savefig(filename, dpi=300, bbox_inches='tight')"
   ]
  },
  {
   "cell_type": "code",
   "execution_count": null,
   "metadata": {},
   "outputs": [],
   "source": []
  }
 ],
 "metadata": {
  "kernelspec": {
   "display_name": "Python 3",
   "language": "python",
   "name": "python3"
  },
  "language_info": {
   "codemirror_mode": {
    "name": "ipython",
    "version": 3
   },
   "file_extension": ".py",
   "mimetype": "text/x-python",
   "name": "python",
   "nbconvert_exporter": "python",
   "pygments_lexer": "ipython3"
  }
 },
 "nbformat": 4,
 "nbformat_minor": 4
}
