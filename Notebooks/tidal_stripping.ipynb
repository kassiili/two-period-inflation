{
 "cells": [
  {
   "cell_type": "markdown",
   "metadata": {},
   "source": [
    "## First, imports:"
   ]
  },
  {
   "cell_type": "code",
   "execution_count": null,
   "metadata": {
    "tags": []
   },
   "outputs": [],
   "source": [
    "%load_ext autoreload\n",
    "%autoreload 2\n",
    "\n",
    "%config IPCompleter.greedy=True"
   ]
  },
  {
   "cell_type": "code",
   "execution_count": null,
   "metadata": {},
   "outputs": [],
   "source": [
    "import numpy as np\n",
    "import matplotlib.pyplot as plt\n",
    "from scipy.interpolate import interp1d\n",
    "\n",
    "from astropy import units\n",
    "from astropy.cosmology import FlatLambdaCDM, z_at_value"
   ]
  },
  {
   "cell_type": "markdown",
   "metadata": {},
   "source": [
    "Import my library:"
   ]
  },
  {
   "cell_type": "code",
   "execution_count": null,
   "metadata": {},
   "outputs": [],
   "source": [
    "import os\n",
    "import sys\n",
    "\n",
    "apt_path = os.path.abspath(os.path.join('..', 'apostletools'))\n",
    "sys.path.append(apt_path)\n",
    "\n",
    "import simulation\n",
    "import simtrace\n",
    "import match_halo\n",
    "import dataset_comp"
   ]
  },
  {
   "cell_type": "code",
   "execution_count": null,
   "metadata": {},
   "outputs": [],
   "source": [
    "import importlib\n",
    "importlib.reload(simulation)\n",
    "importlib.reload(simtrace)\n",
    "importlib.reload(match_halo)\n",
    "importlib.reload(dataset_comp)"
   ]
  },
  {
   "cell_type": "markdown",
   "metadata": {
    "tags": []
   },
   "source": [
    "# The Environmental Influence on Satellites\n",
    "\n",
    "Here, we demonstrate the effects of tidal stripping on satellite galaxies."
   ]
  },
  {
   "cell_type": "markdown",
   "metadata": {
    "tags": []
   },
   "source": [
    "---\n",
    "\n",
    "### plain-LCDM-LR\n",
    "\n",
    "Set the envelope file path, and define the centrals at redshift $z=0$:"
   ]
  },
  {
   "cell_type": "code",
   "execution_count": null,
   "metadata": {},
   "outputs": [],
   "source": [
    "env_path = os.path.abspath(os.path.join('..', 'test_tracing_inj'))\n",
    "sim= simulation.Simulation(\"V1_LR_fix\", env_path=env_path)\n",
    "\n",
    "m31_id_z0 = (1, 0)\n",
    "mw_id_z0 = (2, 0)\n",
    "snap_id_z0 = 127\n",
    "snap_id_ref = 127"
   ]
  },
  {
   "cell_type": "markdown",
   "metadata": {
    "tags": []
   },
   "source": [
    "---\n",
    "\n",
    "### plain-LCDM\n",
    "\n",
    "Set the envelope file path, and define the centrals at redshift $z=0$:"
   ]
  },
  {
   "cell_type": "code",
   "execution_count": null,
   "metadata": {},
   "outputs": [],
   "source": [
    "env_path = os.path.abspath(os.path.join('..', 'test_tracing_inj'))\n",
    "sim= simulation.Simulation(\"V1_MR_fix\", env_path=env_path)\n",
    "\n",
    "m31_id_z0 = (1, 0)\n",
    "mw_id_z0 = (2, 0)\n",
    "snap_id_z0 = 127\n",
    "snap_id_ref = 127"
   ]
  },
  {
   "cell_type": "markdown",
   "metadata": {},
   "source": [
    "---\n",
    "\n",
    "## Tracing\n",
    "\n",
    "Set the range of snapshots to be traced:"
   ]
  },
  {
   "cell_type": "code",
   "execution_count": null,
   "metadata": {},
   "outputs": [],
   "source": [
    "snap_start = 100\n",
    "snap_stop = 128\n",
    "snap_ids = np.arange(snap_start, snap_stop)"
   ]
  },
  {
   "cell_type": "code",
   "execution_count": null,
   "metadata": {},
   "outputs": [],
   "source": [
    "# If the simulations are not already linked:\n",
    "matcher = match_halo.SnapshotMatcher(n_link_ref=20, n_matches=1)\n",
    "mtree = simtrace.MergerTree(sim, matcher=matcher, branching=\"BackwardBranching\")\n",
    "mtree.build_tree(snap_start, snap_stop)"
   ]
  },
  {
   "cell_type": "markdown",
   "metadata": {},
   "source": [
    "Get Subhalo objects:"
   ]
  },
  {
   "cell_type": "code",
   "execution_count": null,
   "metadata": {},
   "outputs": [],
   "source": [
    "# Trace subhalos and get the M31 and the MW Subhalo objects:\n",
    "sub_dict = sim.trace_subhalos(snap_start, snap_stop)\n",
    "\n",
    "m31 = sub_dict[snap_id_z0][\n",
    "    sim.get_snapshot(snap_id_z0).index_of_halo(m31_id_z0[0], m31_id_z0[1])\n",
    "]\n",
    "mw = sub_dict[snap_id_z0][\n",
    "    sim.get_snapshot(snap_id_z0).index_of_halo(mw_id_z0[0], mw_id_z0[1])\n",
    "]"
   ]
  },
  {
   "cell_type": "markdown",
   "metadata": {
    "tags": []
   },
   "source": [
    "---\n",
    "\n",
    "## Retrieve the Datasets\n",
    "\n",
    "First, get redshifts and lookback times at the snapshots:"
   ]
  },
  {
   "cell_type": "code",
   "execution_count": null,
   "metadata": {},
   "outputs": [],
   "source": [
    "# Define the cosmology (should be the same for each simulation):\n",
    "H0 = sim.get_snapshot(snap_id_z0).get_attribute(\"HubbleParam\", \"Header\")\n",
    "Om0 = sim.get_snapshot(snap_id_z0).get_attribute(\"Omega0\", \"Header\")\n",
    "cosmo = FlatLambdaCDM(H0=100 * H0, Om0=Om0) "
   ]
  },
  {
   "cell_type": "code",
   "execution_count": null,
   "metadata": {},
   "outputs": [],
   "source": [
    "# Get snapshot redshifts and the respective lookback times:\n",
    "redshift = sim.get_attribute(\"Redshift\", \"Header\", snap_ids)\n",
    "lookback_time = cosmo.age(0).value - np.array([cosmo.age(z).value for z in redshift])"
   ]
  },
  {
   "cell_type": "markdown",
   "metadata": {},
   "source": [
    "The following cell is likely to take some time (it needs to read the given datasets from all the snapshots, and file retrievals take time):"
   ]
  },
  {
   "cell_type": "code",
   "execution_count": null,
   "metadata": {},
   "outputs": [],
   "source": [
    "# Get the datasets in a dictionary, with items for each snapshot data:\n",
    "mass_dict = {sid: m * units.g.to(units.Msun) for sid, m in\n",
    "        sim.get_subhalos(snap_ids, \"Mass\").items()}\n",
    "vmax_dict = {sid: vm[:, 0] * units.cm.to(units.km) for sid, vm in\n",
    "        sim.get_subhalos(snap_ids, \"Max_Vcirc\", h5_group=\"Extended\").items()}\n",
    "sm_dict = {sid: m * units.g.to(units.Msun) for sid, m in\n",
    "           sim.get_subhalos(snap_ids, \"Stars/Mass\").items()}\n",
    "\n",
    "r_m31_dict = {sid: d * units.cm.to(units.kpc)\n",
    "              for sid, d in m31.distance_to_self(snap_ids).items()}\n",
    "r_mw_dict = {sid: d * units.cm.to(units.kpc)\n",
    "             for sid, d in mw.distance_to_self(snap_ids).items()}"
   ]
  },
  {
   "cell_type": "markdown",
   "metadata": {},
   "source": [
    "Make masking arrays for subhalos at `snap_ref`:"
   ]
  },
  {
   "cell_type": "code",
   "execution_count": null,
   "metadata": {},
   "outputs": [],
   "source": [
    "sat_low_lim = 10\n",
    "isol_low_lim = 10\n",
    "\n",
    "# Masking arrays for subhalos at snap_ref:\n",
    "snap_ref = sim.get_snapshot(snap_id_ref)\n",
    "mask_lum, mask_dark = dataset_comp.split_luminous(snap_ref)\n",
    "ref_masks = {\n",
    "    \"Vmax_Sat\": dataset_comp.prune_vmax(snap_ref, low_lim=sat_low_lim),\n",
    "    \"Vmax_Isol\": dataset_comp.prune_vmax(snap_ref, low_lim=isol_low_lim),\n",
    "    \"Luminous\": mask_lum,\n",
    "    \"Dark\": mask_dark\n",
    "}\n",
    "\n",
    "# Get masking arrays for satellites (at z=0):\n",
    "m31_id = m31.get_group_number_at_snap(snap_id_ref)\n",
    "mw_id = mw.get_group_number_at_snap(snap_id_ref)\n",
    "mask_m31, mask_mw, mask_isol = dataset_comp.split_satellites_by_distance(\n",
    "    sim.get_snapshot(snap_id_ref), m31_id, mw_id, sat_r=300, comov=True\n",
    ")\n",
    "\n",
    "ref_masks.update({\n",
    "    \"M31_Satellites\": mask_m31,\n",
    "    \"MW_Satellites\": mask_mw,\n",
    "    \"Isolated\": mask_isol\n",
    "})"
   ]
  },
  {
   "cell_type": "markdown",
   "metadata": {},
   "source": [
    "In addition, define a function for selecting a random subset from a given masking array:"
   ]
  },
  {
   "cell_type": "code",
   "execution_count": null,
   "metadata": {},
   "outputs": [],
   "source": [
    "def random_mask(mask, n):\n",
    "    \"\"\" From the selection prescribed by ´mask´, select ´n´ items at random. \"\"\"\n",
    "    k = np.sum(mask)\n",
    "    mask_rand = np.full(k, False)\n",
    "    mask_rand[:min(n, k)] = True\n",
    "    np.random.shuffle(mask_rand)\n",
    "\n",
    "    mask_new = np.full(mask.size, False)\n",
    "    mask_new[mask] = mask_rand\n",
    "    \n",
    "    return mask_new"
   ]
  },
  {
   "cell_type": "markdown",
   "metadata": {},
   "source": [
    "---\n",
    "\n",
    "## Plot Satellite Radii and Mass Evolution\n",
    "\n",
    "Create arrays of time arrays of each dataset for each subhalo in `snap_ref` and save in the dictionary `subh_arrs`:"
   ]
  },
  {
   "cell_type": "code",
   "execution_count": null,
   "metadata": {},
   "outputs": [],
   "source": [
    "# From the full datasets, read M31 satellite data and add to the data dictionary:\n",
    "subs = sub_dict[snap_id_ref]\n",
    "\n",
    "# For each satellite, get it's indices in the `snap_ids` array:\n",
    "inds = [np.searchsorted(snap_ids, sub.get_snap_ids()) for sub in subs]\n",
    "subh_arrs = {\n",
    "    \"Redshift\": np.array([redshift[idx_list] for idx_list in inds], dtype=object),\n",
    "    \"LookbackTime\": np.array([lookback_time[idx_list] for idx_list in inds], dtype=object),\n",
    "    \"Mass\": np.array([dataset_comp.subhalo_dataset_from_dict(sub, mass_dict)[0] \n",
    "                      for sub in subs], dtype=object),\n",
    "    \"Vmax\": np.array([dataset_comp.subhalo_dataset_from_dict(sub, vmax_dict)[0] \n",
    "                      for sub in subs], dtype=object),\n",
    "    \"M31_Distance\": np.array([dataset_comp.subhalo_dataset_from_dict(sub, r_m31_dict)[0]\n",
    "                              for sub in subs], dtype=object)\n",
    "}\n",
    "\n",
    "# Also, add selection for non-volatile (subhalos that survive over sufficiently many snap\n",
    "vol_n = 3\n",
    "ref_masks[\"NonVolatile\"] = np.array([z_arr.size > vol_n for z_arr in subh_arrs[\"Redshift\"]])"
   ]
  },
  {
   "cell_type": "markdown",
   "metadata": {
    "tags": []
   },
   "source": [
    "---\n",
    "\n",
    "## Plot M31 Satellites\n",
    "\n",
    "First, select the random sample of luminous M31 satellites that are plotted:"
   ]
  },
  {
   "cell_type": "code",
   "execution_count": null,
   "metadata": {},
   "outputs": [],
   "source": [
    "mask_m31_lum = random_mask(np.logical_and.reduce([\n",
    "    ref_masks[\"M31_Satellites\"], \n",
    "    ref_masks[\"Vmax_Sat\"],\n",
    "    ref_masks[\"NonVolatile\"], \n",
    "    ref_masks[\"Luminous\"]\n",
    "]), 10)"
   ]
  },
  {
   "cell_type": "code",
   "execution_count": null,
   "metadata": {},
   "outputs": [],
   "source": [
    "# Choose font sizes:\n",
    "parameters = {'axes.titlesize': 10,\n",
    "              'axes.labelsize': 12,\n",
    "              'xtick.labelsize': 8,\n",
    "              'ytick.labelsize': 8,\n",
    "              'legend.fontsize': 10}\n",
    "\n",
    "# Get the default color map:\n",
    "cmap = plt.get_cmap(\"tab10\")"
   ]
  },
  {
   "cell_type": "code",
   "execution_count": null,
   "metadata": {},
   "outputs": [],
   "source": [
    "# Set fonts:\n",
    "plt.rcParams.update(parameters)\n",
    "plt.tight_layout()\n",
    "\n",
    "fig, axes = plt.subplots(nrows=2, figsize=(4, 6), sharex=True)\n",
    "plt.subplots_adjust(hspace=0.05)\n",
    "\n",
    "axes[0].invert_xaxis()\n",
    "axes[1].set_xlabel(\"Lookback Time [Gyr]\")\n",
    "\n",
    "axes[0].set_ylabel(\"Distance to M31 [kpc]\")\n",
    "axes[1].set_ylabel(\"$v_\\mathrm{max}$ [km/s]\")\n",
    "\n",
    "# Plot position of snap_ref:\n",
    "# idx_ref = np.searchsorted(snap_ids, snap_id_ref)\n",
    "# axes[0].axvline(lookback_time[idx_ref], c='black', linestyle='dotted', alpha=0.5)\n",
    "# axes[1].axvline(lookback_time[idx_ref], c='black', linestyle='dotted', alpha=0.5)\n",
    "\n",
    "# Plot 300ckpc (in the background):\n",
    "a = sim.get_attribute('Time', 'Header', snap_ids)\n",
    "z = sim.get_attribute('Redshift', 'Header', snap_ids)\n",
    "lbt = cosmo.age(0).value - np.array([cosmo.age(rs).value for rs in z])\n",
    "axes[0].plot(lbt, a * 300, c='gray', linestyle='--')"
   ]
  },
  {
   "cell_type": "markdown",
   "metadata": {},
   "source": [
    "Plot radii of some dark satellites in the background:"
   ]
  },
  {
   "cell_type": "code",
   "execution_count": null,
   "metadata": {},
   "outputs": [],
   "source": [
    "mask_m31_dark = random_mask(np.logical_and.reduce([\n",
    "    ref_masks[\"M31_Satellites\"], \n",
    "    ref_masks[\"Vmax_Sat\"],\n",
    "    ref_masks[\"NonVolatile\"], \n",
    "    ref_masks[\"Dark\"]\n",
    "]), 15)"
   ]
  },
  {
   "cell_type": "code",
   "execution_count": null,
   "metadata": {},
   "outputs": [],
   "source": [
    "# Plot dark:\n",
    "for i, (r, z) in enumerate(zip(subh_arrs[\"M31_Distance\"][mask_m31_dark], \n",
    "                               subh_arrs[\"LookbackTime\"][mask_m31_dark])):\n",
    "\n",
    "    # Plot cubic interpolating functions of the data points:\n",
    "    f = interp1d(z, np.linalg.norm(r, axis=1), kind='cubic')\n",
    "    z_new = np.linspace(min(z), max(z), num=1000)\n",
    "    axes[0].plot(z_new, f(z_new), c='gray', alpha=0.5, lw=0.5)\n",
    "\n",
    "fig"
   ]
  },
  {
   "cell_type": "markdown",
   "metadata": {},
   "source": [
    "Plot radii of some luminous satellites:"
   ]
  },
  {
   "cell_type": "code",
   "execution_count": null,
   "metadata": {},
   "outputs": [],
   "source": [
    "for i, (r, z) in enumerate(zip(subh_arrs[\"M31_Distance\"][mask_m31_lum], \n",
    "                               subh_arrs[\"LookbackTime\"][mask_m31_lum])):\n",
    "\n",
    "    # Plot cubic interpolating functions of the data points:\n",
    "    f = interp1d(z, np.linalg.norm(r, axis=1), kind='cubic')\n",
    "    z_new = np.linspace(min(z), max(z), num=1000)\n",
    "    axes[0].plot(z_new, f(z_new), c=cmap(i))\n",
    "\n",
    "fig"
   ]
  },
  {
   "cell_type": "markdown",
   "metadata": {},
   "source": [
    "Plot the max. circ. velocities of these luminous satellites below:"
   ]
  },
  {
   "cell_type": "code",
   "execution_count": null,
   "metadata": {},
   "outputs": [],
   "source": [
    "for i, (vmax, time) in enumerate(zip(subh_arrs[\"Vmax\"][mask_m31_lum], \n",
    "                                     subh_arrs[\"LookbackTime\"][mask_m31_lum])):\n",
    "\n",
    "    axes[1].plot(time, vmax, c=cmap(i))\n",
    "    \n",
    "fig"
   ]
  },
  {
   "cell_type": "code",
   "execution_count": null,
   "metadata": {
    "jupyter": {
     "source_hidden": true
    },
    "tags": []
   },
   "outputs": [],
   "source": [
    "# axes[1].set_yscale('log')\n",
    "# axes[1].set_ylim(5*10**7, 3*10**10)\n",
    "\n",
    "# for i, (vmax, time) in enumerate(zip(subh_arrs[\"Mass\"][mask_m31_lum], \n",
    "#                                      subh_arrs[\"LookbackTime\"][mask_m31_lum])):\n",
    "\n",
    "#     axes[1].plot(time, vmax, c=cmap(i))\n",
    "    \n",
    "# fig"
   ]
  },
  {
   "cell_type": "markdown",
   "metadata": {},
   "source": [
    "Set low y-axis limits to zero:"
   ]
  },
  {
   "cell_type": "code",
   "execution_count": null,
   "metadata": {},
   "outputs": [],
   "source": [
    "axes[0].set_ylim(0, 700)\n",
    "axes[1].set_ylim(0, axes[1].get_ylim()[1])\n",
    "\n",
    "fig"
   ]
  },
  {
   "cell_type": "markdown",
   "metadata": {
    "tags": []
   },
   "source": [
    "---\n",
    "\n",
    "## Save the Figure"
   ]
  },
  {
   "cell_type": "code",
   "execution_count": null,
   "metadata": {},
   "outputs": [],
   "source": [
    "filename = \"m31_tidal_stripping.png\"    \n",
    "    \n",
    "path = os.path.abspath(os.path.join('..', 'Figures', 'MediumResolution'))\n",
    "filename = os.path.join(path, filename)\n",
    "\n",
    "fig.savefig(filename, dpi=300, bbox_inches='tight')"
   ]
  },
  {
   "cell_type": "markdown",
   "metadata": {
    "tags": []
   },
   "source": [
    "---\n",
    "\n",
    "## Plot $v_\\mathrm{max}$ at Infall"
   ]
  },
  {
   "cell_type": "code",
   "execution_count": null,
   "metadata": {},
   "outputs": [],
   "source": [
    "fallin_m31, fallin_mw = simtrace.get_fallin_times_lg(\n",
    "    sim, m31, mw, snap_start, snap_stop, first_infall=True\n",
    ")\n",
    "vmax_fallin_m31,_ = dataset_comp.get_subhalos_at_fallin(\n",
    "    sub_dict[snap_id_ref], fallin_m31, vmax_dict\n",
    ")\n",
    "vmax_fallin_mw,_ = dataset_comp.get_subhalos_at_fallin(\n",
    "    sub_dict[snap_id_ref], fallin_mw, vmax_dict\n",
    ")\n",
    "vmax_fallin = np.where(~np.isnan(vmax_fallin_m31), \n",
    "                                       vmax_fallin_m31,\n",
    "                                       vmax_fallin_mw)\n",
    "\n",
    "sm_fallin_m31,_ = dataset_comp.get_subhalos_at_fallin(\n",
    "    sub_dict[snap_id_ref], fallin_m31, sm_dict\n",
    ")\n",
    "sm_fallin_mw,_ = dataset_comp.get_subhalos_at_fallin(\n",
    "    sub_dict[snap_id_ref], fallin_mw, sm_dict\n",
    ")\n",
    "sm_fallin = np.where(~np.isnan(sm_fallin_m31), \n",
    "                           sm_fallin_m31,\n",
    "                           sm_fallin_mw)"
   ]
  },
  {
   "cell_type": "code",
   "execution_count": null,
   "metadata": {},
   "outputs": [],
   "source": [
    "# Choose font sizes:\n",
    "parameters = {'axes.titlesize': 10,\n",
    "              'axes.labelsize': 12,\n",
    "              'xtick.labelsize': 8,\n",
    "              'ytick.labelsize': 8,\n",
    "              'legend.fontsize': 10}\n",
    "\n",
    "# Get the default color map:\n",
    "cmap = plt.get_cmap(\"tab10\")\n",
    "\n",
    "s = 15\n",
    "s_back = 3\n",
    "c_back = \"black\"\n",
    "a_infall = 0.3"
   ]
  },
  {
   "cell_type": "code",
   "execution_count": null,
   "metadata": {
    "tags": []
   },
   "outputs": [],
   "source": [
    "# Set fonts:\n",
    "plt.rcParams.update(parameters)\n",
    "# plt.tight_layout()\n",
    "\n",
    "fig, ax = plt.subplots(figsize=(4, 4))\n",
    "\n",
    "ax.set_yscale('log')\n",
    "ax.set_xlabel(\"$v_\\mathrm{max}$ [km/s]\")\n",
    "ax.set_ylabel(\"$M_* [\\mathrm{M}_\\odot]$\")"
   ]
  },
  {
   "cell_type": "markdown",
   "metadata": {},
   "source": [
    "Plot all the other galaxies in the background:"
   ]
  },
  {
   "cell_type": "code",
   "execution_count": null,
   "metadata": {},
   "outputs": [],
   "source": [
    "mask = np.logical_and.reduce([\n",
    "    np.logical_not(mask_m31_lum),\n",
    "    np.logical_or(ref_masks[\"M31_Satellites\"],\n",
    "                  ref_masks[\"MW_Satellites\"]),\n",
    "    ref_masks[\"Vmax_Sat\"],\n",
    "    ref_masks[\"Luminous\"]])\n",
    "    \n",
    "x = vmax_fallin[mask]\n",
    "y = sm_fallin[mask]\n",
    "ax.scatter(x, y, c=c_back, alpha=a_infall, s=s_back)\n",
    "\n",
    "x = vmax_dict[snap_id_ref][mask]\n",
    "y = sm_dict[snap_id_ref][mask]\n",
    "ax.scatter(x, y, c=c_back, s=s_back)\n",
    "\n",
    "fig"
   ]
  },
  {
   "cell_type": "markdown",
   "metadata": {},
   "source": [
    "Plot the selected galaxies:"
   ]
  },
  {
   "cell_type": "code",
   "execution_count": null,
   "metadata": {},
   "outputs": [],
   "source": [
    "ax.scatter(vmax_dict[snap_id_ref][mask_m31_lum], sm_dict[snap_id_ref][mask_m31_lum],\n",
    "           c=np.arange(10), cmap=cmap, s=s)\n",
    "\n",
    "ax.scatter(vmax_fallin_m31[mask_m31_lum], sm_fallin_m31[mask_m31_lum],\n",
    "           c=np.arange(10), cmap=cmap, s=s, alpha=a_infall)\n",
    "\n",
    "fig"
   ]
  },
  {
   "cell_type": "markdown",
   "metadata": {},
   "source": [
    "Add legend:"
   ]
  },
  {
   "cell_type": "code",
   "execution_count": null,
   "metadata": {},
   "outputs": [],
   "source": [
    "ax.scatter([], [], c=c_back, s=s_back, label=\"$z=0$\")\n",
    "ax.scatter([], [], c=c_back, alpha=a_infall, s=s_back, label=\"$z_\\mathrm{infall}$\")\n",
    "ax.legend(loc=\"lower right\")\n",
    "fig"
   ]
  },
  {
   "cell_type": "markdown",
   "metadata": {
    "tags": []
   },
   "source": [
    "---\n",
    "\n",
    "## Save the Figure"
   ]
  },
  {
   "cell_type": "code",
   "execution_count": null,
   "metadata": {},
   "outputs": [],
   "source": [
    "filename = \"sm_vs_vmax_with_stripping.png\"    \n",
    "    \n",
    "path = os.path.abspath(os.path.join('..', 'Figures', 'MediumResolution'))\n",
    "filename = os.path.join(path, filename)\n",
    "\n",
    "fig.savefig(filename, dpi=300, bbox_inches='tight')"
   ]
  },
  {
   "cell_type": "code",
   "execution_count": null,
   "metadata": {},
   "outputs": [],
   "source": []
  }
 ],
 "metadata": {
  "kernelspec": {
   "display_name": "Python 3",
   "language": "python",
   "name": "python3"
  },
  "language_info": {
   "codemirror_mode": {
    "name": "ipython",
    "version": 3
   },
   "file_extension": ".py",
   "mimetype": "text/x-python",
   "name": "python",
   "nbconvert_exporter": "python",
   "pygments_lexer": "ipython3"
  }
 },
 "nbformat": 4,
 "nbformat_minor": 4
}
