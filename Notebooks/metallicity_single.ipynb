{
 "cells": [
  {
   "cell_type": "code",
   "execution_count": null,
   "metadata": {},
   "outputs": [],
   "source": [
    "%load_ext autoreload\n",
    "%autoreload 2\n",
    "\n",
    "%config IPCompleter.greedy=True"
   ]
  },
  {
   "cell_type": "code",
   "execution_count": null,
   "metadata": {},
   "outputs": [],
   "source": [
    "import numpy as np\n",
    "import matplotlib.pyplot as plt\n",
    "from astropy import units\n",
    "from astropy.constants import G\n",
    "import importlib"
   ]
  },
  {
   "cell_type": "code",
   "execution_count": null,
   "metadata": {},
   "outputs": [],
   "source": [
    "import os\n",
    "import sys\n",
    "\n",
    "apt_path = os.path.abspath(os.path.join('..', 'apostletools'))\n",
    "sys.path.append(apt_path)\n",
    "import dataset_comp\n",
    "import snapshot\n",
    "import curve_fit"
   ]
  },
  {
   "cell_type": "code",
   "execution_count": null,
   "metadata": {},
   "outputs": [],
   "source": [
    "importlib.reload(dataset_comp)\n",
    "importlib.reload(snapshot)\n",
    "importlib.reload(curve_fit)"
   ]
  },
  {
   "cell_type": "markdown",
   "metadata": {},
   "source": [
    "# Metallicity\n",
    "\n",
    "Metallicity of an individual star is defined here as the mass fraction of the metals: \n",
    "\n",
    "$Z^*$ $ = \\frac{ \\sum_{j>\\text{He}} m_j}{\\sum_k m_k}$. \n",
    "\n",
    "Metallicity of a galaxy is defined as the mass weighted average of the star particles of that galaxy: \n",
    "\n",
    "$Z = \\frac{ \\sum_j m_j Z^*_i}{\\sum_k m_k}$ (in the EAGLE simulations). \n",
    "\n",
    "I further normalize the metallicity of a galaxy by the solar metallicity $Z_\\odot = 0.0134$ (Wikipedia), and use the log-metallicity of the normalized quantity: \n",
    "\n",
    "$Z = \\log_{10} \\frac{ \\sum_j m_j Z^*_i}{\\sum_k m_k} - \\log_{10} Z_\\odot$.\n",
    "\n",
    "## Motivation\n",
    "\n",
    "What makes metallicity in low-mass halos lower:\n",
    "- Gas and dust less bound; some high-metallicity material gets ejected into the inter-galactic medium\n",
    "- Formed earlier, from less recycled gas\n",
    "- Lower recycling rate (less active?)\n",
    "\n",
    "A low-mass galaxy creates a relatively shallow potential well for the inter-stellar gas and dust. Thus, high-metallicity material is more easily ejected out of a low-mass galaxy, in a supernova explosion. Therefore, metallicity will tend to be higher in more massive galaxies. \n",
    "\n",
    "---\n",
    "\n",
    "## Set Parameters for the Plots\n",
    "\n",
    "Choose the snapshot and the simulations, and define M31 and MW in each simulation. Also, set the colors used for each simulation:"
   ]
  },
  {
   "cell_type": "code",
   "execution_count": null,
   "metadata": {
    "code_folding": []
   },
   "outputs": [],
   "source": [
    "snap_id = 127\n",
    "data = {\n",
    "    'plain-LCDM': {\n",
    "        'snapshot': snapshot.Snapshot('V1_MR_fix', snap_id),\n",
    "        'M31_identifier': (1, 0),\n",
    "        'MW_identifier': (2, 0),\n",
    "        'Color': ['black', 'gray']\n",
    "    },\n",
    "    'curv-p082': {\n",
    "        'snapshot': snapshot.Snapshot('V1_MR_curvaton_p082_fix', snap_id),\n",
    "        'M31_identifier': (1, 0),\n",
    "        'MW_identifier': (1, 1),\n",
    "        'Color': ['red', 'pink']\n",
    "    }\n",
    "}"
   ]
  },
  {
   "cell_type": "markdown",
   "metadata": {},
   "source": [
    "Set the low-mass threshold – subhalos, whose $v_\\mathrm{max}$ falls below this (in km/s) are excluded as potentially non-physical:"
   ]
  },
  {
   "cell_type": "code",
   "execution_count": null,
   "metadata": {},
   "outputs": [],
   "source": [
    "lowm = 10"
   ]
  },
  {
   "cell_type": "markdown",
   "metadata": {},
   "source": [
    "Then, loop over simulations, retrieve data, compute masking arrays, and add to the dictionary:"
   ]
  },
  {
   "cell_type": "code",
   "execution_count": null,
   "metadata": {
    "code_folding": []
   },
   "outputs": [],
   "source": [
    "metal_sun = np.log(0.0134)\n",
    "\n",
    "for name, sim_data in data.items():\n",
    "    # Get data:\\frac{ \\sum_j m_j Z^*_i}{\\sum_k m_k}\n",
    "    snap = sim_data[\"snapshot\"]\n",
    "    sm = snap.get_subhalos(\"Stars/Mass\") * units.g.to(units.Msun)\n",
    "    metal = np.log(snap.get_subhalos(\"Stars/Metallicity\")) - metal_sun\n",
    "    \n",
    "    # Split into satellites:\n",
    "    mask_m31, mask_mw, mask_isol = dataset_comp.split_satellites_by_distance(\n",
    "        snap, sim_data[\"M31_identifier\"], sim_data[\"MW_identifier\"]\n",
    "    )\n",
    "        \n",
    "    # Set low mass limit for physical halos:\n",
    "    mask_vmax = dataset_comp.prune_vmax(snap, low_lim=10)\n",
    "    \n",
    "    # Select only luminous:\n",
    "    mask_lum,_ = dataset_comp.split_luminous(snap)\n",
    "    mask_m31 = mask_m31[mask_lum]\n",
    "    mask_mw = mask_mw[mask_lum]\n",
    "    mask_isol = mask_isol[mask_lum]\n",
    "    mask_vmax = mask_vmax[mask_lum]\n",
    "    \n",
    "    # Add datasets to dictionary:\n",
    "    data[name]['SM'] = sm[mask_lum]\n",
    "    data[name]['Metallicity'] = metal[mask_lum]\n",
    "\n",
    "    # Add selections (masking arrays):\n",
    "    data[name]['Selections'] = {\n",
    "        'M31': mask_m31,\n",
    "        'MW': mask_mw,\n",
    "        'Satellite': np.logical_or(mask_m31, mask_mw),\n",
    "        'Isolated': mask_isol,\n",
    "        'Physical': mask_vmax\n",
    "    }"
   ]
  },
  {
   "cell_type": "markdown",
   "metadata": {},
   "source": [
    "## Plot"
   ]
  },
  {
   "cell_type": "code",
   "execution_count": null,
   "metadata": {},
   "outputs": [],
   "source": [
    "# Choose font sizes:\n",
    "parameters = {'axes.titlesize': 12,\n",
    "              'axes.labelsize': 10,\n",
    "              'xtick.labelsize': 9,\n",
    "              'ytick.labelsize': 9,\n",
    "              'legend.fontsize': 10}\n",
    "\n",
    "# Marker size\n",
    "ms = 15\n",
    "a = 0.7\n",
    "\n",
    "# Set fonts:\n",
    "plt.rcParams.update(parameters)\n",
    "plt.tight_layout()"
   ]
  },
  {
   "cell_type": "code",
   "execution_count": null,
   "metadata": {},
   "outputs": [],
   "source": [
    "fig, ax = plt.subplots(sharey=True, figsize=(3, 3))\n",
    "\n",
    "ax.set_xscale('log')\n",
    "ax.set_xlim(10**6, 5 * 10**9)\n",
    "ax.set_ylim(-4, 1.5)    \n",
    "ax.set_xlabel('$M_*[\\mathrm{M_\\odot}]$')\n",
    "ax.set_ylabel(r'$\\langle Z \\rangle$')\n",
    "\n",
    "# Add scatter plots:\n",
    "for i, (name, sim_data) in enumerate(data.items()):\n",
    "    mask = np.logical_and(sim_data['Selections']['Satellite'],\n",
    "                          sim_data['Selections']['Physical'])\n",
    "    x = sim_data['SM'][mask]\n",
    "    y = sim_data['Metallicity'][mask]\n",
    "    \n",
    "    ax.scatter(x, y, alpha=a, marker='+',\n",
    "               c=sim_data[\"Color\"][0], s=ms)\n",
    "    \n",
    "    mask = np.logical_and(sim_data['Selections']['Isolated'],\n",
    "                          sim_data['Selections']['Physical'])\n",
    "    x = sim_data['SM'][mask]\n",
    "    y = sim_data['Metallicity'][mask]\n",
    "    ax.scatter(x, y, alpha=a, marker='s',\n",
    "               facecolor='none', s=ms, edgecolor=sim_data[\"Color\"][0])\n",
    "\n",
    "# axes[0].legend(loc='lower right')"
   ]
  },
  {
   "cell_type": "code",
   "execution_count": null,
   "metadata": {},
   "outputs": [],
   "source": [
    "dummy_plots = []\n",
    "for sim_name, sim_data in data.items():\n",
    "    splot = ax.scatter([], [], c=sim_data[\"Color\"][0], alpha=a, marker='o', s=ms)\n",
    "    dummy_plots.append(splot)\n",
    "    \n",
    "sim_legend = ax.legend(dummy_plots, list(data.keys()), loc='upper right')\n",
    "ax.add_artist(sim_legend)\n",
    "\n",
    "ax.axvline(10**7, c='gray', linestyle=\"dotted\")\n",
    "\n",
    "ax.scatter([], [], c=data[\"plain-LCDM\"][\"Color\"][0], alpha=a, marker='+',\n",
    "           s=ms, label=\"Satellite\")\n",
    "ax.scatter([], [], edgecolor=data[\"plain-LCDM\"][\"Color\"][0], alpha=a, marker='s',\n",
    "           facecolor='none', s=ms, label=\"Isolated\")\n",
    "ax.legend(loc='lower right')\n",
    "\n",
    "fig"
   ]
  },
  {
   "cell_type": "markdown",
   "metadata": {},
   "source": [
    "### Save the Figure"
   ]
  },
  {
   "cell_type": "code",
   "execution_count": null,
   "metadata": {},
   "outputs": [],
   "source": [
    "# Construct saving location:\n",
    "filename = 'metallicity.png'\n",
    "\n",
    "home = os.path.abspath(os.path.join('..'))\n",
    "path = os.path.join(home,'Figures', 'MediumResolution')\n",
    "filename = os.path.join(path, filename)\n",
    "\n",
    "fig.savefig(filename, dpi=300, bbox_inches='tight')"
   ]
  },
  {
   "cell_type": "code",
   "execution_count": null,
   "metadata": {},
   "outputs": [],
   "source": []
  }
 ],
 "metadata": {
  "kernelspec": {
   "display_name": "Python 3",
   "language": "python",
   "name": "python3"
  },
  "language_info": {
   "codemirror_mode": {
    "name": "ipython",
    "version": 3
   },
   "file_extension": ".py",
   "mimetype": "text/x-python",
   "name": "python",
   "nbconvert_exporter": "python",
   "pygments_lexer": "ipython3"
  }
 },
 "nbformat": 4,
 "nbformat_minor": 4
}
