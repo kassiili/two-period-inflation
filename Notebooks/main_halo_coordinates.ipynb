{
 "cells": [
  {
   "cell_type": "markdown",
   "metadata": {},
   "source": [
    "## First, imports:"
   ]
  },
  {
   "cell_type": "code",
   "execution_count": null,
   "metadata": {},
   "outputs": [],
   "source": [
    "%load_ext autoreload\n",
    "%autoreload 2\n",
    "\n",
    "%config IPCompleter.greedy=True"
   ]
  },
  {
   "cell_type": "code",
   "execution_count": null,
   "metadata": {},
   "outputs": [],
   "source": [
    "import numpy as np\n",
    "import matplotlib.pyplot as plt\n",
    "from astropy import units\n",
    "from astropy.constants import G"
   ]
  },
  {
   "cell_type": "code",
   "execution_count": null,
   "metadata": {},
   "outputs": [],
   "source": [
    "import os\n",
    "import sys\n",
    "\n",
    "apt_path = os.path.abspath(os.path.join('..', 'apostletools'))\n",
    "sys.path.append(apt_path)\n",
    "\n",
    "import snapshot\n",
    "import dataset_comp"
   ]
  },
  {
   "cell_type": "code",
   "execution_count": null,
   "metadata": {},
   "outputs": [],
   "source": [
    "import importlib\n",
    "importlib.reload(dataset_comp)\n",
    "importlib.reload(snapshot)"
   ]
  },
  {
   "cell_type": "markdown",
   "metadata": {},
   "source": [
    "# Locations of Most Massive Halos "
   ]
  },
  {
   "cell_type": "code",
   "execution_count": null,
   "metadata": {},
   "outputs": [],
   "source": [
    "snap_id = 127\n",
    "data = {\n",
    "    \"plain-LCDM\": {\n",
    "        \"Snapshot\": snapshot.Snapshot(\"V1_MR_fix\", snap_id),\n",
    "        \"Groups\": np.array([[1,0], [1,1], [1,2], [2,0], [2,1], [3,0], [4,0], [5,0]])\n",
    "    },\n",
    "    \"curv-p082\": {\n",
    "        \"Snapshot\": snapshot.Snapshot(\"V1_MR_curvaton_p082_fix\", snap_id),\n",
    "        \"Groups\": np.array([[1,0], [1,1], [1,2], [2,0], [2,1], [3,0], [4,0], [5,0]])\n",
    "    }\n",
    "}"
   ]
  },
  {
   "cell_type": "code",
   "execution_count": null,
   "metadata": {},
   "outputs": [],
   "source": [
    "snap_id = 127\n",
    "data = {\n",
    "    \"plain-LCDM-LR\": {\n",
    "        \"Snapshot\": snapshot.Snapshot(\"V1_LR_fix\", snap_id),\n",
    "        \"Groups\": np.array([[1,0], [1,1], [1,2], [2,0], [2,1], [3,0], [4,0], [5,0]])\n",
    "    },\n",
    "    \"curv-p082-LR\": {\n",
    "        \"Snapshot\": snapshot.Snapshot(\"V1_LR_curvaton_p082_fix\", snap_id),\n",
    "        \"Groups\": np.array([[1,0], [1,1], [1,2], [2,0], [2,1], [3,0], [4,0], [5,0]])\n",
    "    },\n",
    "    \"curv-p084-LR\": {\n",
    "        \"Snapshot\": snapshot.Snapshot(\"V1_LR_curvaton_p084_fix\", snap_id),        \n",
    "        \"Groups\": np.array([[1,0], [1,1], [1,2], [2,0], [2,1], [3,0], [4,0], [5,0]])\n",
    "    }\n",
    "}"
   ]
  },
  {
   "cell_type": "code",
   "execution_count": null,
   "metadata": {
    "tags": []
   },
   "outputs": [],
   "source": [
    "for key, sim_data in data.items():\n",
    "    snap = sim_data[\"Snapshot\"]\n",
    "    cops = snap.get_subhalos(\"CentreOfPotential\")\n",
    "    coords = dataset_comp.group_particles_by_subhalo(snap, \"Coordinates\")[\"Coordinates\"]\n",
    "    \n",
    "    cops_sel = []\n",
    "    coords_sel = []\n",
    "    for group in sim_data[\"Groups\"]:\n",
    "        idx = snap.index_of_halo(group[0], group[1])\n",
    "        cops_sel.append(cops[idx] * units.cm.to(units.Mpc))\n",
    "        coords_sel.append(coords[idx] * units.cm.to(units.Mpc))\n",
    "    \n",
    "    sim_data[\"CentreOfPotential\"] = cops_sel\n",
    "    sim_data[\"Coordinates\"] = coords_sel"
   ]
  },
  {
   "cell_type": "markdown",
   "metadata": {},
   "source": [
    "## Plot"
   ]
  },
  {
   "cell_type": "code",
   "execution_count": null,
   "metadata": {},
   "outputs": [],
   "source": [
    "# Choose font sizes:\n",
    "parameters = {'axes.titlesize': 8,\n",
    "              'axes.labelsize': 7,\n",
    "              'xtick.labelsize': 6,\n",
    "              'ytick.labelsize': 6,\n",
    "              'legend.fontsize': 7,\n",
    "              'legend.title_fontsize': 7}"
   ]
  },
  {
   "cell_type": "code",
   "execution_count": null,
   "metadata": {},
   "outputs": [],
   "source": [
    "filename = 'main_halo_coords.png'\n",
    "    \n",
    "path = os.path.abspath(os.path.join('..', 'Figures', 'LowResolution'))\n",
    "filename = os.path.join(path, filename)\n",
    "\n",
    "filename = os.path.join(path, filename)"
   ]
  },
  {
   "cell_type": "code",
   "execution_count": null,
   "metadata": {},
   "outputs": [],
   "source": [
    "projs = [[\"x\", \"y\", 0, 1],\n",
    "         [\"x\", \"z\", 0, 2]]\n",
    "\n",
    "# Set fonts:\n",
    "plt.rcParams.update(parameters)\n",
    "plt.tight_layout()\n",
    "\n",
    "fig, axes = plt.subplots(sharey='row', sharex='col', figsize=(6, 3.5),# figsize=(7.5,6.5),\n",
    "                         ncols=len(data), nrows=len(projs))\n",
    "plt.subplots_adjust(wspace=0.08)\n",
    "plt.subplots_adjust(hspace=0.08)\n",
    "\n",
    "\n",
    "for ax_col in axes.T:        \n",
    "    ax_col[0].set_xlim(6,11)\n",
    "    ax_col[0].set_ylim(16.5,21.5)\n",
    "    ax_col[1].set_xlim(6,11)\n",
    "    ax_col[1].set_ylim(82,87)\n",
    "    ax_col[-1].set_xlabel(\"x [Mpc]\")\n",
    "    \n",
    "axes[0,0].set_ylabel(\"y [Mpc]\")\n",
    "axes[1,0].set_ylabel(\"z [Mpc]\")\n",
    "\n",
    "col = [['lightblue', 'blue'],\n",
    "['pink', 'crimson'],\n",
    "['gray', 'black'],\n",
    "['violet', 'darkviolet'],\n",
    "['lightgreen', 'green'],\n",
    "['yellow', 'gold'],\n",
    "['orange', 'darkorange'],\n",
    "['sandybrown', 'saddlebrown'],\n",
    "['lightsteelblue', 'steelblue'],\n",
    "['red', 'darkred']]\n",
    "\n",
    "\n",
    "# Iterate through simulations (columns):\n",
    "for i, (key, sim_data) in enumerate(data.items()):\n",
    "\n",
    "    axes[0, i].set_title(key)\n",
    "    \n",
    "    # Iterate through projections (rows):\n",
    "    for j, ax_set in enumerate(projs):\n",
    "        \n",
    "        n_groups = len(sim_data['Groups'])\n",
    "        legends = [None] * n_groups\n",
    "        # Iterate through halos and plot halo particles:\n",
    "        n_skip = 1 # only plot every n_skip:th particle\n",
    "        for idx, k in enumerate(range(n_groups)):\n",
    "            part_x = sim_data[\"Coordinates\"][k][::n_skip, ax_set[2]]\n",
    "            part_y = sim_data[\"Coordinates\"][k][::n_skip, ax_set[3]]\n",
    "            axes[j,i].scatter(part_x, part_y, c=col[k][0], s=0.1)\n",
    "            \n",
    "        # Plot halo COPs:\n",
    "        for idx, k in enumerate(range(n_groups)):\n",
    "            cop_x = sim_data[\"CentreOfPotential\"][k][ax_set[2]]\n",
    "            cop_y = sim_data[\"CentreOfPotential\"][k][ax_set[3]]\n",
    "            axes[j,i].scatter(cop_x, cop_y, c=col[k][1], s=0.3)\n",
    "            \n",
    "            # Save items for the legend:\n",
    "            legends[idx] = axes[j,i].scatter([], [], c=col[k][0], s=10)\n",
    "   \n",
    "labels = [\"{}, {}\".format(grp[0],grp[1]) for grp in data[\"plain-LCDM-LR\"][\"Groups\"]]\n",
    "plt.legend(legends, labels, \n",
    "           loc='lower left',\n",
    "           bbox_to_anchor=(1, 0),\n",
    "           title=\"GN, SGN\")\n",
    "# Adjust the scaling factor to fit your legend text completely outside the plot\n",
    "# (smaller value results in more space being made for the legend)\n",
    "plt.subplots_adjust(right=0.78)\n",
    "\n",
    "plt.savefig(filename, dpi=300, bbox_inches='tight')"
   ]
  },
  {
   "cell_type": "code",
   "execution_count": null,
   "metadata": {},
   "outputs": [],
   "source": []
  }
 ],
 "metadata": {
  "kernelspec": {
   "display_name": "Python 3",
   "language": "python",
   "name": "python3"
  },
  "language_info": {
   "codemirror_mode": {
    "name": "ipython",
    "version": 3
   },
   "file_extension": ".py",
   "mimetype": "text/x-python",
   "name": "python",
   "nbconvert_exporter": "python",
   "pygments_lexer": "ipython3"
  }
 },
 "nbformat": 4,
 "nbformat_minor": 4
}
