{
 "cells": [
  {
   "cell_type": "markdown",
   "metadata": {},
   "source": [
    "## First, imports:"
   ]
  },
  {
   "cell_type": "code",
   "execution_count": null,
   "metadata": {},
   "outputs": [],
   "source": [
    "%load_ext autoreload\n",
    "%autoreload 2\n",
    "\n",
    "%config IPCompleter.greedy=True"
   ]
  },
  {
   "cell_type": "code",
   "execution_count": null,
   "metadata": {},
   "outputs": [],
   "source": [
    "import matplotlib.pyplot as plt\n",
    "import numpy as np\n",
    "from astropy import units"
   ]
  },
  {
   "cell_type": "markdown",
   "metadata": {},
   "source": [
    "Import my library:"
   ]
  },
  {
   "cell_type": "code",
   "execution_count": null,
   "metadata": {},
   "outputs": [],
   "source": [
    "import os\n",
    "import sys\n",
    "\n",
    "apt_path = os.path.abspath(os.path.join('..', 'apostletools'))\n",
    "sys.path.append(apt_path)\n",
    "\n",
    "import snapshot\n",
    "import dataset_comp\n",
    "import curve_fit"
   ]
  },
  {
   "cell_type": "code",
   "execution_count": null,
   "metadata": {},
   "outputs": [],
   "source": [
    "import importlib\n",
    "importlib.reload(snapshot)\n",
    "importlib.reload(dataset_comp)\n",
    "importlib.reload(curve_fit)"
   ]
  },
  {
   "cell_type": "markdown",
   "metadata": {
    "tags": []
   },
   "source": [
    "# Relation Between $M_{200}$ and $v_\\mathrm{max}$\n",
    "\n",
    "NFW halos have a tight log-linear relation between these two measures of the halo mass, as the varying concentrations are noticable mostly closer to the centre than at $r_\\mathrm{max}$. \n",
    "\n",
    "Here, I plot the $M_{200}$ against the $v_\\mathrm{max}$ of each isolated halo in the LCDM simulation and construct a linear fit. "
   ]
  },
  {
   "cell_type": "code",
   "execution_count": null,
   "metadata": {
    "code_folding": []
   },
   "outputs": [],
   "source": [
    "snap_id = 127\n",
    "sim_id = 'V1_MR_fix'\n",
    "\n",
    "m31_id = (1,0)\n",
    "mw_id = (2,0)"
   ]
  },
  {
   "cell_type": "markdown",
   "metadata": {},
   "source": [
    "---\n",
    "\n",
    "## Retrieve Data\n",
    "\n",
    "### Create a Dictionary\n",
    "\n",
    "For easy handling of the relevant data, define a data dictionary that, at the top level, has entries for all simulations. Under each simulation entry, add items for the needed datasets and, under the 'Selections' key, a sub-dictionary of masking arrays for each needed condition (e.g. satellite, luminous, $v_\\mathrm{max}$ inside range, etc.).\n",
    "\n",
    "First, add the above definitions into the data dict:"
   ]
  },
  {
   "cell_type": "markdown",
   "metadata": {},
   "source": [
    "Then, loop over simulations, retrieve data, compute masking arrays, and add to the dictionary:"
   ]
  },
  {
   "cell_type": "code",
   "execution_count": null,
   "metadata": {
    "code_folding": [],
    "tags": []
   },
   "outputs": [],
   "source": [
    "snap = snapshot.Snapshot(sim_id, snap_id)\n",
    "\n",
    "m200 = snap.get_subhalos('Group_M_TopHat200', h5_group='FOF')[2:] \\\n",
    "                * units.g.to(units.Msun)\n",
    "sub_idx = snap.get_subhalos('FirstSubhaloID', h5_group='FOF').astype(int)[2:]\n",
    "\n",
    "max_point = snap.get_subhalos(\"Max_Vcirc\", \"Extended\")\n",
    "vmax_sub = max_point[:,0] * units.cm.to(units.km)\n",
    "\n",
    "# Select within 2 Mpc:\n",
    "centre = dataset_comp.compute_LG_centre(snap, m31_id, mw_id)\n",
    "gcop = snap.get_subhalos('GroupCentreOfPotential', h5_group='FOF')[2:]\n",
    "gcop = dataset_comp.periodic_wrap(snap, centre, gcop)\n",
    "gcop = np.linalg.norm(gcop - centre, axis=1) * units.cm.to(units.kpc)\n",
    "mask = dataset_comp.within_distance_range(gcop, 0, 2000)\n",
    "mask = np.logical_and(mask, m200 > 0)\n",
    "\n",
    "m200 = m200[mask]\n",
    "sub_idx = sub_idx[mask]\n",
    "vmax = vmax_sub[sub_idx]"
   ]
  },
  {
   "cell_type": "code",
   "execution_count": null,
   "metadata": {},
   "outputs": [],
   "source": [
    "fig, ax = plt.subplots()\n",
    "\n",
    "ax.set_xlabel(\"$\\log_{10}(v_\\mathrm{max} / \\mathrm{km/s})$\")\n",
    "ax.set_ylabel(\"$\\log_{10}(M_{200} / \\mathrm{M}_\\odot)$\")\n",
    "\n",
    "ax.set_title(\"Masses of Isolated Subhalos\")\n",
    "\n",
    "x = np.log10(vmax)\n",
    "y = np.log10(m200)\n",
    "ax.scatter(x, y)\n",
    "\n",
    "linfit_params = np.polyfit(x, y, 1)\n",
    "alpha = linfit_params[0]\n",
    "c = linfit_params[1]\n",
    "print(alpha, c)\n",
    "\n",
    "x_fit = np.linspace(np.min(x), np.max(x), 10)\n",
    "y_fit = alpha * x_fit + c\n",
    "ax.plot(x_fit, y_fit, c='red')"
   ]
  },
  {
   "cell_type": "code",
   "execution_count": null,
   "metadata": {},
   "outputs": [],
   "source": [
    "print(((np.log10(5*10**7) - c) / alpha))\n",
    "print(10**((np.log10(5*10**7) - c) / alpha))"
   ]
  },
  {
   "cell_type": "code",
   "execution_count": null,
   "metadata": {
    "tags": []
   },
   "outputs": [],
   "source": [
    "filename = \"M200_vs_vmax.png\"\n",
    "    \n",
    "path = os.path.abspath(os.path.join('..', 'Figures', 'MediumResolution'))\n",
    "filename = os.path.join(path, filename)\n",
    "\n",
    "fig.savefig(filename, dpi=300, bbox_inches='tight')"
   ]
  },
  {
   "cell_type": "code",
   "execution_count": null,
   "metadata": {},
   "outputs": [],
   "source": []
  }
 ],
 "metadata": {
  "kernelspec": {
   "display_name": "Python 3",
   "language": "python",
   "name": "python3"
  },
  "language_info": {
   "codemirror_mode": {
    "name": "ipython",
    "version": 3
   },
   "file_extension": ".py",
   "mimetype": "text/x-python",
   "name": "python",
   "nbconvert_exporter": "python",
   "pygments_lexer": "ipython3"
  }
 },
 "nbformat": 4,
 "nbformat_minor": 4
}
