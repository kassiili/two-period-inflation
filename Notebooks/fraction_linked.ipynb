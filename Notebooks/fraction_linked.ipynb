{
 "cells": [
  {
   "cell_type": "markdown",
   "metadata": {
    "tags": []
   },
   "source": [
    "## First, imports:"
   ]
  },
  {
   "cell_type": "code",
   "execution_count": null,
   "metadata": {},
   "outputs": [],
   "source": [
    "%load_ext autoreload\n",
    "%autoreload 2\n",
    "\n",
    "%config IPCompleter.greedy=True"
   ]
  },
  {
   "cell_type": "code",
   "execution_count": null,
   "metadata": {},
   "outputs": [],
   "source": [
    "import numpy as np\n",
    "import matplotlib.pyplot as plt\n",
    "from scipy.interpolate import interp1d\n",
    "\n",
    "from astropy import units\n",
    "from astropy.cosmology import FlatLambdaCDM, z_at_value"
   ]
  },
  {
   "cell_type": "markdown",
   "metadata": {},
   "source": [
    "Import my library:"
   ]
  },
  {
   "cell_type": "code",
   "execution_count": null,
   "metadata": {},
   "outputs": [],
   "source": [
    "import os\n",
    "import sys\n",
    "\n",
    "apt_path = os.path.abspath(os.path.join('..', 'apostletools'))\n",
    "sys.path.append(apt_path)\n",
    "\n",
    "import simulation\n",
    "import simtrace\n",
    "import match_halo\n",
    "import dataset_comp"
   ]
  },
  {
   "cell_type": "code",
   "execution_count": null,
   "metadata": {},
   "outputs": [],
   "source": [
    "import importlib\n",
    "importlib.reload(simulation)\n",
    "importlib.reload(simtrace)\n",
    "importlib.reload(match_halo)\n",
    "importlib.reload(dataset_comp)"
   ]
  },
  {
   "cell_type": "markdown",
   "metadata": {},
   "source": [
    "# Linking Subhalos at Present Backward in Time\n",
    "\n",
    "How far back in time are the subhalos that we see at present linked? How strongly does this depend on the following distinctions:\n",
    "- Isolated subhalos vs. satellites\n",
    "- Luminous vs. dark\n",
    "- $v_\\mathrm{max} < 15 \\mathrm{km/s}$ vs. $v_\\mathrm{max} > 15 \\mathrm{km/s}$ (or $v_\\mathrm{max} < 10 \\mathrm{km/s}$ vs. $v_\\mathrm{max} > 10 \\mathrm{km/s}$ for satellites)?\n",
    "- power-law inflation IC:s vs. two period inflation IC:s?\n",
    "\n",
    "These are the questions explored in this notebook. I will make a simple figure showing the fraction of a certain subset of subhalos, chosen at $z=0$, that is present at different times in the past."
   ]
  },
  {
   "cell_type": "code",
   "execution_count": null,
   "metadata": {},
   "outputs": [],
   "source": [
    "snap_id_ref = 100\n",
    "snap_id_z0 = 127"
   ]
  },
  {
   "cell_type": "markdown",
   "metadata": {},
   "source": [
    "---\n",
    "\n",
    "### MR Simulations\n",
    "\n",
    "Set the envelope file path, and define the M31 and the MW at redshift $z=0$:"
   ]
  },
  {
   "cell_type": "code",
   "execution_count": null,
   "metadata": {},
   "outputs": [],
   "source": [
    "env_path = os.path.abspath(os.path.join('..', 'test_tracing_inj'))\n",
    "\n",
    "data = {\n",
    "    \"plain-LCDM\": {\n",
    "        \"Simulation\": simulation.Simulation(\"V1_MR_fix\", env_path=env_path),\n",
    "        \"Color\": ['black', 'gray'],\n",
    "        \"M31_z0\": (1, 0),\n",
    "        \"MW_z0\": (2, 0)\n",
    "    },\n",
    "    \"curv-p082\": {\n",
    "        \"Simulation\": simulation.Simulation(\"V1_MR_curvaton_p082_fix\", env_path=env_path),\n",
    "        \"Color\": ['red', 'pink'],\n",
    "        \"M31_z0\": (1, 0),\n",
    "        \"MW_z0\": (1, 1)\n",
    "    }\n",
    "}"
   ]
  },
  {
   "cell_type": "markdown",
   "metadata": {
    "tags": []
   },
   "source": [
    "---\n",
    "\n",
    "### LR Simulations\n",
    "\n",
    "Set the envelope file path, and define the M31 and the MW at redshift $z=0$:"
   ]
  },
  {
   "cell_type": "code",
   "execution_count": null,
   "metadata": {},
   "outputs": [],
   "source": [
    "env_path = os.path.abspath(os.path.join('..', 'test_tracing_inj'))\n",
    "\n",
    "data = {\n",
    "    \"plain-LCDM-LR\": {\n",
    "        \"Simulation\": simulation.Simulation(\"V1_LR_fix\", env_path=env_path),\n",
    "        \"Color\": ['black', 'gray'],\n",
    "        \"M31_z0\": (1, 0),\n",
    "        \"MW_z0\": (2, 0)\n",
    "    },\n",
    "    \"curv-p082-LR\": {\n",
    "        \"Simulation\": simulation.Simulation(\"V1_LR_curvaton_p082_fix\", env_path=env_path),\n",
    "        \"Color\": ['red', 'pink'],\n",
    "        \"M31_z0\": (1, 0),\n",
    "        \"MW_z0\": (1, 1)\n",
    "    },\n",
    "    \"curv-p084-LR\": {\n",
    "        \"Simulation\": simulation.Simulation(\"V1_LR_curvaton_p084_fix\", env_path=env_path),\n",
    "        \"Color\": ['blue', 'lightblue'],\n",
    "        \"M31_z0\": (1, 0),\n",
    "        \"MW_z0\": (1, 0)\n",
    "    }\n",
    "}"
   ]
  },
  {
   "cell_type": "markdown",
   "metadata": {
    "tags": []
   },
   "source": [
    "---\n",
    "\n",
    "## Tracing\n",
    "\n",
    "Set the range of snapshots to be traced:"
   ]
  },
  {
   "cell_type": "code",
   "execution_count": null,
   "metadata": {},
   "outputs": [],
   "source": [
    "snap_start = 100\n",
    "snap_stop = 128\n",
    "snap_ids = np.arange(snap_start, snap_stop)"
   ]
  },
  {
   "cell_type": "markdown",
   "metadata": {},
   "source": [
    "Link all subhalos in the simulation, create Subhalo objects for all the individual subhalos found, and write pointers to these objects for each snapshot:"
   ]
  },
  {
   "cell_type": "code",
   "execution_count": null,
   "metadata": {},
   "outputs": [],
   "source": [
    "matcher = match_halo.SnapshotMatcher(n_link_ref=20, n_matches=1)\n",
    "\n",
    "for sim_data in data.values():\n",
    "    sim = sim_data[\"Simulation\"]\n",
    "\n",
    "    # If the simulations are not already linked:\n",
    "    mtree = simtrace.MergerTree(sim, matcher=matcher, branching=\"BackwardBranching\")\n",
    "    mtree.build_tree(snap_start, snap_stop)\n",
    "\n",
    "    # Trace subhalos and get the M31 and the MW Subhalo objects:\n",
    "    sub_dict = sim.trace_subhalos(snap_start, snap_stop)\n",
    "    sim_data[\"Subhalos\"] = sub_dict"
   ]
  },
  {
   "cell_type": "markdown",
   "metadata": {},
   "source": [
    "Get the M31 and the MW halos and compute masking arrays for their satellites (and isolated subhalos) at ´snap_id_ref´:"
   ]
  },
  {
   "cell_type": "code",
   "execution_count": null,
   "metadata": {},
   "outputs": [],
   "source": [
    "for sim_data in data.values():\n",
    "    sim = sim_data[\"Simulation\"]\n",
    "    sub_dict = sim_data[\"Subhalos\"]\n",
    "    \n",
    "    # Get the M31 subhalo:\n",
    "    m31_id = sim_data[\"M31_z0\"]\n",
    "    m31 = sub_dict[snap_id_z0][\n",
    "        sim.get_snapshot(snap_id_z0).index_of_halo(m31_id[0], m31_id[1])\n",
    "    ]\n",
    "    sim_data[\"M31\"] = m31 \n",
    "    \n",
    "    # Get the MW subhalo:\n",
    "    mw_id = sim_data[\"MW_z0\"]\n",
    "    mw = sub_dict[snap_id_z0][\n",
    "        sim.get_snapshot(snap_id_z0).index_of_halo(mw_id[0], mw_id[1])\n",
    "    ]\n",
    "    sim_data[\"MW\"] = mw\n",
    "    \n",
    "    # Get masking arrays for satellites (at z=z_ref):\n",
    "    m31_id_ref = m31.get_group_number_at_snap(snap_id_ref)\n",
    "    mw_id_ref = mw.get_group_number_at_snap(snap_id_ref)\n",
    "    mask_m31, mask_mw, mask_isol = dataset_comp.split_satellites_by_distance(\n",
    "        sim.get_snapshot(snap_id_ref), m31_id_ref, mw_id_ref, sat_r=300, isol_r=2000, comov=True\n",
    "    )\n",
    "    print(np.sum(mask_m31), np.sum(mask_mw), np.sum(mask_isol))\n",
    "    sim_data[\"Ref_Selections\"] = {\"M31_Satellites\": mask_m31,\n",
    "                                  \"MW_Satellites\": mask_mw,\n",
    "                                  \"LG_Satellites\": np.logical_or(mask_m31, mask_mw),\n",
    "                                  \"Isolated\": mask_isol}"
   ]
  },
  {
   "cell_type": "markdown",
   "metadata": {
    "tags": []
   },
   "source": [
    "---\n",
    "\n",
    "## Retrieve the Datasets\n",
    "\n",
    "Read all datasets into dictionaries by snapshot:"
   ]
  },
  {
   "cell_type": "code",
   "execution_count": null,
   "metadata": {},
   "outputs": [],
   "source": [
    "# Define the cosmology (should be the same for each simulation):\n",
    "for sim_data in data.values():\n",
    "    H0 = sim_data[\"Simulation\"].get_snapshot(snap_stop-1)\\\n",
    "        .get_attribute(\"HubbleParam\", \"Header\")\n",
    "    Om0 = sim_data[\"Simulation\"].get_snapshot(snap_stop-1)\\\n",
    "        .get_attribute(\"Omega0\", \"Header\")\n",
    "#     print(H0, Om0)\n",
    "cosmo = FlatLambdaCDM(H0=100 * H0, Om0=Om0) "
   ]
  },
  {
   "cell_type": "code",
   "execution_count": null,
   "metadata": {},
   "outputs": [],
   "source": [
    "sat_low_lim = 10\n",
    "isol_low_lim = 10\n",
    "\n",
    "for sim_data in data.values():\n",
    "    sim = sim_data[\"Simulation\"]\n",
    "    \n",
    "    # Get snapshot redshifts and the respective lookback times:\n",
    "    redshift = sim.get_attribute(\"Redshift\", \"Header\", snap_ids)\n",
    "    lookback_time = cosmo.age(0).value - np.array([cosmo.age(z).value for z in redshift])\n",
    "    sim_data[\"Redshift\"] = redshift\n",
    "    sim_data[\"LookbackTime\"] =  lookback_time\n",
    "\n",
    "    # Find latest snapshot, for each subhalo present at snap_ref:\n",
    "    sim_data[\"DestructionSnapshot\"] = np.array([sub.index_at_destruction()[1] for sub in \n",
    "                                              sim_data[\"Subhalos\"][snap_id_ref]])\n",
    "    # Find earliest snapshot, for each subhalo present at snap_ref:\n",
    "    sim_data[\"FormationSnapshot\"] = np.array([sub.index_at_formation()[1] for sub in \n",
    "                                              sim_data[\"Subhalos\"][snap_id_ref]])\n",
    "    \n",
    "    # Masking arrays for subhalos at snap_ref:\n",
    "    snap_ref = sim.get_snapshot(snap_id_ref)\n",
    "    mask_lum, mask_dark = dataset_comp.split_luminous(snap_ref)\n",
    "    sim_data[\"Ref_Selections\"].update({\n",
    "        \"Vmax_Sat\": dataset_comp.prune_vmax(snap_ref, low_lim=sat_low_lim),\n",
    "        \"Vmax_Isol\": dataset_comp.prune_vmax(snap_ref, low_lim=isol_low_lim),\n",
    "        \"Luminous\": mask_lum,\n",
    "        \"Dark\": mask_dark\n",
    "    })"
   ]
  },
  {
   "cell_type": "markdown",
   "metadata": {},
   "source": [
    "---\n",
    "\n",
    "## Plot Counts of Linked Subhalos\n",
    "\n",
    "The linking counts are plotted separately for satellites and isolated subhalos. Below, in the case of the different plot lines, $N_{[\\cdot]}(z)$ stands for \n",
    "- the total number of (satellite of isolated) subhalos N_tot\n",
    "- \\# subhalos with $v_\\mathrm{max} > v^*$\n",
    "- \\# (luminous) galaxies with $v_\\mathrm{max} > v^*$, \n",
    "\n",
    "where $v^*$ = 10 km/s for satellites and $v^*$ = 15 km/s for isolated."
   ]
  },
  {
   "cell_type": "markdown",
   "metadata": {
    "tags": []
   },
   "source": [
    "### Set Plot Parameters\n",
    "\n",
    "Define a function for counting:"
   ]
  },
  {
   "cell_type": "code",
   "execution_count": null,
   "metadata": {},
   "outputs": [],
   "source": [
    "def count_subhalos(formation_snap, destruction_snap, absolute=True):\n",
    "    counts = np.array([\n",
    "        np.sum(np.logical_and(formation_snap <= snap_id, destruction_snap >= snap_id))\n",
    "        for snap_id in snap_ids\n",
    "    ])\n",
    "    if absolute:\n",
    "        return counts\n",
    "    \n",
    "    return counts / counts[-1]"
   ]
  },
  {
   "cell_type": "code",
   "execution_count": null,
   "metadata": {},
   "outputs": [],
   "source": [
    "# Choose font sizes:\n",
    "parameters = {'axes.titlesize': 12,\n",
    "              'axes.labelsize': 10,\n",
    "              'xtick.labelsize': 8,\n",
    "              'ytick.labelsize': 8,\n",
    "              'legend.fontsize': 10}"
   ]
  },
  {
   "cell_type": "markdown",
   "metadata": {
    "tags": []
   },
   "source": [
    "### Create Blank Plot"
   ]
  },
  {
   "cell_type": "code",
   "execution_count": null,
   "metadata": {},
   "outputs": [],
   "source": [
    "# Set fonts:\n",
    "plt.rcParams.update(parameters)\n",
    "plt.tight_layout()\n",
    "\n",
    "fig, axes = plt.subplots(ncols=2, figsize=(7, 4), sharey=True, sharex=True)\n",
    "plt.subplots_adjust(wspace=0.05)\n",
    "\n",
    "axes[0].invert_xaxis()\n",
    "axes[0].set_yscale('log')\n",
    "axes[0].set_ylim(0.005, 1.25)\n",
    "\n",
    "for ax in axes:\n",
    "    ax.yaxis.set_ticks_position('both')\n",
    "    ax.set_xlabel(\"Lookback Time [Gyr]\")\n",
    "\n",
    "axes[0].set_ylabel(\"$N_{[\\cdot]}(z) ~/~ N_\\mathrm{tot}(z_\\mathrm{ref})$\")\n",
    "axes[0].set_title(\"Satellite Subhalos\")\n",
    "axes[1].set_title(\"Isolated Subhalos\")"
   ]
  },
  {
   "cell_type": "markdown",
   "metadata": {},
   "source": [
    "### ... And Plot"
   ]
  },
  {
   "cell_type": "code",
   "execution_count": null,
   "metadata": {},
   "outputs": [],
   "source": [
    "for sim_name, sim_data in data.items():\n",
    "    time = sim_data[\"LookbackTime\"]\n",
    "    form_snap = sim_data[\"FormationSnapshot\"]  \n",
    "    dest_snap = sim_data[\"DestructionSnapshot\"] \n",
    "    \n",
    "    # Plot Satellites\n",
    "    # ---------------\n",
    "    \n",
    "    # Plot all:\n",
    "    mask = sim_data[\"Ref_Selections\"][\"LG_Satellites\"]\n",
    "    sat_cnt = count_subhalos(form_snap[mask], dest_snap[mask])\n",
    "    idx_ref = np.nonzero(snap_ids == snap_id_ref)[0][0]\n",
    "    sat_num = sat_cnt[idx_ref]\n",
    "    \n",
    "    axes[0].plot(time, sat_cnt/sat_num, c=sim_data[\"Color\"][1], \n",
    "                 linestyle=\"dotted\")\n",
    "    \n",
    "    # Plot those above the satellite mass limit:\n",
    "    mask = np.logical_and(sim_data[\"Ref_Selections\"][\"LG_Satellites\"],\n",
    "                          sim_data[\"Ref_Selections\"][\"Vmax_Sat\"])\n",
    "    mass_sat_cnt = count_subhalos(form_snap[mask], dest_snap[mask])\n",
    "    axes[0].plot(time, mass_sat_cnt / sat_num, \n",
    "                 c=sim_data[\"Color\"][1])\n",
    "    \n",
    "    # ...out of those, plot luminous:\n",
    "    mask = np.logical_and.reduce([sim_data[\"Ref_Selections\"][\"LG_Satellites\"],\n",
    "                                  sim_data[\"Ref_Selections\"][\"Vmax_Sat\"],\n",
    "                                  sim_data[\"Ref_Selections\"][\"Luminous\"]])\n",
    "    mass_lum_sat_cnt = count_subhalos(form_snap[mask], dest_snap[mask])\n",
    "    axes[0].plot(time, mass_lum_sat_cnt / sat_num,\n",
    "                 c=sim_data[\"Color\"][0])\n",
    "\n",
    "    \n",
    "    # print(\"Total number of satellites in {}: {}\".format(sim_name, sat_num))\n",
    "    print(\"{} Satellites: \\n\".format(sim_name) + \\\n",
    "          \"\\t Total number: {} \\n\".format(sat_num) + \\\n",
    "          \"\\t Fraction traced: {} \\n\".format(sat_cnt[-1] / sat_cnt[0]) + \\\n",
    "          \"\\t ...of massive: {} \\n\".format(mass_sat_cnt[-1] / mass_sat_cnt[0]) + \\\n",
    "          \"\\t ...of massive and luminous: {} \\n\".format(mass_lum_sat_cnt[-1] / mass_lum_sat_cnt[0]))\n",
    "    \n",
    "    \n",
    "    # Plot Isolated\n",
    "    # -------------\n",
    "    \n",
    "    # Plot all:\n",
    "    mask = sim_data[\"Ref_Selections\"][\"Isolated\"]\n",
    "    isol_cnt = count_subhalos(form_snap[mask], dest_snap[mask], absolute=True)\n",
    "    isol_num = isol_cnt[idx_ref]\n",
    "    \n",
    "    print(\"Total number of isolated subhalos in {}: {}\".format(sim_name, isol_num))\n",
    "    \n",
    "    axes[1].plot(time, isol_cnt / isol_num, c=sim_data[\"Color\"][1], linestyle='dotted')\n",
    "    \n",
    "    # Plot those above the satellite mass limit:\n",
    "    mask = np.logical_and(sim_data[\"Ref_Selections\"][\"Isolated\"],\n",
    "                          sim_data[\"Ref_Selections\"][\"Vmax_Isol\"])\n",
    "    mass_isol_cnt = count_subhalos(form_snap[mask], dest_snap[mask])\n",
    "    axes[1].plot(time, mass_isol_cnt / isol_num,\n",
    "                 c=sim_data[\"Color\"][1])\n",
    "    \n",
    "    # ...out of those, plot luminous:\n",
    "    mask = np.logical_and.reduce([sim_data[\"Ref_Selections\"][\"Isolated\"],\n",
    "                                  sim_data[\"Ref_Selections\"][\"Vmax_Isol\"],\n",
    "                                  sim_data[\"Ref_Selections\"][\"Luminous\"]])\n",
    "    mass_lum_isol_cnt = count_subhalos(form_snap[mask], dest_snap[mask])\n",
    "    axes[1].plot(time, mass_lum_isol_cnt / isol_num,\n",
    "                 c=sim_data[\"Color\"][0])\n",
    "    \n",
    "    # print(\"Total number of satellites in {}: {}\".format(sim_name, sat_num))\n",
    "    print(\"{} Isolated galaxies: \\n\".format(sim_name) + \\\n",
    "          \"\\t Total number: {} \\n\".format(isol_num) + \\\n",
    "          \"\\t Fraction traced: {} \\n\".format(isol_cnt[-1] / isol_cnt[0]) + \\\n",
    "          \"\\t ...of massive: {} \\n\".format(mass_isol_cnt[-1] / mass_isol_cnt[0]) + \\\n",
    "          \"\\t ...of massive and luminous: {} \\n\".format(mass_lum_isol_cnt[-1] / mass_lum_isol_cnt[0]))\n",
    "\n",
    "fig"
   ]
  },
  {
   "cell_type": "markdown",
   "metadata": {},
   "source": [
    "### Add Legends"
   ]
  },
  {
   "cell_type": "code",
   "execution_count": null,
   "metadata": {},
   "outputs": [],
   "source": [
    "dummy_plots = []\n",
    "leg_col = list(data.values())[0][\"Color\"]\n",
    "dummy_lines = [\n",
    "    axes[0].plot([], [], c=leg_col[1], linestyle='dotted')[0],\n",
    "    axes[0].plot([], [], c=leg_col[1])[0],\n",
    "    axes[0].plot([], [], c=leg_col[0])[0]\n",
    "]\n",
    "\n",
    "# leg_labels = [\"Total\",\n",
    "#               \"$v_\\mathrm{max} > v^*$\",\n",
    "#               \"$v_\\mathrm{max} > v^*$ and luminous\"]\n",
    "\n",
    "leg_labels = [\"Total\",\n",
    "              \"$v_\\mathrm{{max}} > {} ~\\mathrm{{km/s}}$\".format(sat_low_lim),\n",
    "              \"$v_\\mathrm{{max}} > {} ~\\mathrm{{km/s}}$ and luminous\".format(sat_low_lim)]\n",
    "\n",
    "axes[0].legend(dummy_lines, leg_labels, loc=\"lower left\")\n",
    "\n",
    "dummy_lines = []\n",
    "leg_labels = []\n",
    "for sim_name, sim_data in data.items():\n",
    "    dummy_lines.append(\n",
    "        axes[1].plot([], [], c=sim_data[\"Color\"][0])[0]\n",
    "    )\n",
    "    leg_labels.append(sim_name)\n",
    "    \n",
    "axes[1].legend(dummy_lines, leg_labels, loc=\"best\")\n",
    "\n",
    "fig"
   ]
  },
  {
   "cell_type": "markdown",
   "metadata": {},
   "source": [
    "---\n",
    "\n",
    "## Save the Figure"
   ]
  },
  {
   "cell_type": "code",
   "execution_count": null,
   "metadata": {},
   "outputs": [],
   "source": [
    "filename = \"linking_counts_refsnap{}\".format(snap_id_ref)\n",
    "# for sim_name in data.keys():\n",
    "#     filename += '_{}'.format(sim_name)\n",
    "filename += '.png'\n",
    "    \n",
    "path = os.path.abspath(os.path.join('..', 'Figures', 'MediumResolution'))\n",
    "filename = os.path.join(path, filename)\n",
    "\n",
    "fig.savefig(filename, dpi=300, bbox_inches='tight')"
   ]
  },
  {
   "cell_type": "code",
   "execution_count": null,
   "metadata": {},
   "outputs": [],
   "source": []
  }
 ],
 "metadata": {
  "kernelspec": {
   "display_name": "Python 3",
   "language": "python",
   "name": "python3"
  },
  "language_info": {
   "codemirror_mode": {
    "name": "ipython",
    "version": 3
   },
   "file_extension": ".py",
   "mimetype": "text/x-python",
   "name": "python",
   "nbconvert_exporter": "python",
   "pygments_lexer": "ipython3"
  }
 },
 "nbformat": 4,
 "nbformat_minor": 4
}
