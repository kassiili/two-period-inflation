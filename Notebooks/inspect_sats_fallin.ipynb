{
 "cells": [
  {
   "cell_type": "markdown",
   "metadata": {},
   "source": [
    "## First, imports:"
   ]
  },
  {
   "cell_type": "code",
   "execution_count": null,
   "metadata": {},
   "outputs": [],
   "source": [
    "%load_ext autoreload\n",
    "%autoreload 2\n",
    "\n",
    "%config IPCompleter.greedy=True"
   ]
  },
  {
   "cell_type": "code",
   "execution_count": null,
   "metadata": {},
   "outputs": [],
   "source": [
    "import numpy as np\n",
    "import matplotlib.pyplot as plt\n",
    "from scipy.interpolate import interp1d\n",
    "\n",
    "from astropy import units\n",
    "from astropy.cosmology import FlatLambdaCDM, z_at_value"
   ]
  },
  {
   "cell_type": "markdown",
   "metadata": {},
   "source": [
    "Import my library:"
   ]
  },
  {
   "cell_type": "code",
   "execution_count": null,
   "metadata": {},
   "outputs": [],
   "source": [
    "import os\n",
    "import sys\n",
    "\n",
    "apt_path = os.path.abspath(os.path.join('..', 'apostletools'))\n",
    "sys.path.append(apt_path)\n",
    "\n",
    "import simulation\n",
    "import simtrace\n",
    "import match_halo\n",
    "import dataset_comp"
   ]
  },
  {
   "cell_type": "code",
   "execution_count": null,
   "metadata": {},
   "outputs": [],
   "source": [
    "import importlib\n",
    "importlib.reload(simulation)\n",
    "importlib.reload(simtrace)\n",
    "importlib.reload(match_halo)\n",
    "importlib.reload(dataset_comp)"
   ]
  },
  {
   "cell_type": "markdown",
   "metadata": {},
   "source": [
    "# Evolution Histories of the M31 and MW satellites around the time of fall-in\n",
    "\n",
    "\n",
    "---"
   ]
  },
  {
   "cell_type": "markdown",
   "metadata": {},
   "source": [
    "### plain-LCDM-LR\n",
    "\n",
    "Choose the simulations, and define the M31 and the MW at redshift $z=0$:"
   ]
  },
  {
   "cell_type": "code",
   "execution_count": null,
   "metadata": {},
   "outputs": [],
   "source": [
    "env_path = os.path.abspath(os.path.join('..', 'test_tracing_inj'))\n",
    "\n",
    "sim = simulation.Simulation(\"V1_LR_fix\", env_path=env_path)\n",
    "\n",
    "snap_z0 = 127\n",
    "m31_id_z0 = (1, 0)\n",
    "mw_id_z0 = (2, 0)"
   ]
  },
  {
   "cell_type": "markdown",
   "metadata": {},
   "source": [
    "---\n",
    "\n",
    "## Tracing\n",
    "\n",
    "Set the range of snapshots to be traced:"
   ]
  },
  {
   "cell_type": "code",
   "execution_count": null,
   "metadata": {},
   "outputs": [],
   "source": [
    "snap_start = 100\n",
    "snap_stop = 128\n",
    "snap_ids = np.arange(snap_start, snap_stop)"
   ]
  },
  {
   "cell_type": "code",
   "execution_count": null,
   "metadata": {},
   "outputs": [],
   "source": [
    "# If the simulations are not already linked:\n",
    "matcher = match_halo.SnapshotMatcher(n_link_ref=20, n_matches=1)\n",
    "mtree = simtrace.MergerTree(sim, matcher=matcher, branching=\"BackwardBranching\")\n",
    "mtree.build_tree(snap_start, snap_stop)"
   ]
  },
  {
   "cell_type": "code",
   "execution_count": null,
   "metadata": {},
   "outputs": [],
   "source": [
    "# Trace subhalos and get the M31 and the MW Subhalo objects:\n",
    "sub_dict = sim.trace_subhalos(snap_start, snap_stop)\n",
    "m31 = sub_dict[snap_z0][\n",
    "    sim.get_snapshot(snap_z0).index_of_halo(m31_id_z0[0], m31_id_z0[1])\n",
    "]\n",
    "mw = sub_dict[snap_z0][\n",
    "    sim.get_snapshot(snap_z0).index_of_halo(mw_id_z0[0], mw_id_z0[1])\n",
    "]"
   ]
  },
  {
   "cell_type": "code",
   "execution_count": null,
   "metadata": {},
   "outputs": [],
   "source": [
    "fallin_m31, fallin_mw = simtrace.get_fallin_times_lg(sim, m31, mw, snap_start, snap_stop)"
   ]
  },
  {
   "cell_type": "markdown",
   "metadata": {},
   "source": [
    "## Check Fallin Times"
   ]
  },
  {
   "cell_type": "markdown",
   "metadata": {},
   "source": [
    "First, simply check fall-in array shapes:"
   ]
  },
  {
   "cell_type": "code",
   "execution_count": null,
   "metadata": {},
   "outputs": [],
   "source": [
    "shapes_match = [(fallin_m31[snap_id].size == sim.get_snapshot(snap_id).get_subhalo_number()) and\n",
    "                (fallin_mw[snap_id].size == sim.get_snapshot(snap_id).get_subhalo_number()) \n",
    "                for snap_id in snap_ids]\n",
    "print(np.all(shapes_match))"
   ]
  },
  {
   "cell_type": "markdown",
   "metadata": {},
   "source": [
    "The fall-in snapshot arrays should have non-NaN values for exactly those elements that represent satellites:"
   ]
  },
  {
   "cell_type": "code",
   "execution_count": null,
   "metadata": {},
   "outputs": [],
   "source": [
    "snap_check = [101, 105, 111, 120, 127]"
   ]
  },
  {
   "cell_type": "code",
   "execution_count": null,
   "metadata": {
    "jupyter": {
     "outputs_hidden": true
    }
   },
   "outputs": [],
   "source": [
    "for snap_id in snap_check:\n",
    "    mask_m31, mask_mw, mask_isol = dataset_comp.split_satellites_by_distance(\n",
    "        sim.get_snapshot(snap_id), m31, mw, sat_r=300, comov=True\n",
    "    )\n",
    "    mask_sats2, mask_isol_2 = dataset_comp.split_satellites_by_distance_old(\n",
    "        sim.get_snapshot(snap_id), m31_id_z0, mw_id_z0, max_dist_sat=300\n",
    "    )\n",
    "\n",
    "    print(np.all(mask_m31 == ~np.isnan(fallin_m31[snap_id])))\n",
    "    print(np.all(mask_mw == ~np.isnan(fallin_mw[snap_id])))"
   ]
  },
  {
   "cell_type": "markdown",
   "metadata": {},
   "source": [
    "### Inspect coordinates at fall-in\n",
    "\n",
    "Coordinates at fall-in should, trivially, be at a circle of radius 300 ckpc around the central. That is, except for those satellites that form as satellite, or which already were satellites at `min(snap_ids)`."
   ]
  },
  {
   "cell_type": "code",
   "execution_count": null,
   "metadata": {},
   "outputs": [],
   "source": [
    "mask_m31, mask_mw, mask_isol = dataset_comp.split_satellites_by_distance(\n",
    "    sim.get_snapshot(snap_z0), m31, mw, sat_r=300, comov=True\n",
    ")\n",
    "mask_sats2, mask_isol_2 = dataset_comp.split_satellites_by_distance_old(\n",
    "    sim.get_snapshot(snap_z0), m31_id_z0, mw_id_z0, max_dist_sat=300\n",
    ")"
   ]
  },
  {
   "cell_type": "code",
   "execution_count": null,
   "metadata": {},
   "outputs": [],
   "source": [
    "m31_sats_z0 = sub_dict[snap_z0][mask_m31]"
   ]
  },
  {
   "cell_type": "code",
   "execution_count": null,
   "metadata": {},
   "outputs": [],
   "source": [
    "dist_m31 = {sid: np.linalg.norm(d, axis=1) * units.cm.to(units.kpc)\n",
    "            for sid, d in m31.distance_to_self(snap_ids).items()}"
   ]
  },
  {
   "cell_type": "code",
   "execution_count": null,
   "metadata": {},
   "outputs": [],
   "source": [
    "print(dataset_comp.get_subhalos_at_fallin(m31_sats_z0, fallin_m31, dist_m31))"
   ]
  },
  {
   "cell_type": "code",
   "execution_count": null,
   "metadata": {},
   "outputs": [],
   "source": [
    "print(fallin_m31[snap_z0][mask_m31])"
   ]
  },
  {
   "cell_type": "markdown",
   "metadata": {},
   "source": [
    "## Plot radial evolution with fall-in"
   ]
  },
  {
   "cell_type": "code",
   "execution_count": null,
   "metadata": {},
   "outputs": [],
   "source": [
    "redshift = {sid: z for sid, z in zip(snap_ids, sim.get_attribute(\"Redshift\", \"Header\", snap_ids))}"
   ]
  },
  {
   "cell_type": "code",
   "execution_count": null,
   "metadata": {},
   "outputs": [],
   "source": [
    "m31_sats = sub_dict[snap_z0][mask_m31]\n",
    "d_at_fallin, sid_at_fallin = dataset_comp.get_subhalos_at_fallin(m31_sats, fallin_m31, dist_m31)\n",
    "data = {\"M31_Satellites\": {\n",
    "    \"Snap_id\": [np.array(sat.get_indices())[1] for sat in m31_sats],\n",
    "    \"Redshift\": [np.array([redshift[sid] for _, sid in zip(*sat.get_indices())])\n",
    "                 for sat in m31_sats],\n",
    "    \"Distance\": [dataset_comp.subhalo_dataset_from_dict(sat, dist_m31)[0] for sat in m31_sats],\n",
    "    \"D_at_fallin\": [d for d in d_at_fallin],\n",
    "    \"Z_at_fallin\": [sim.get_attribute(\"Redshift\", \"Header\", sid)[0] for sid in sid_at_fallin]\n",
    "}}"
   ]
  },
  {
   "cell_type": "code",
   "execution_count": null,
   "metadata": {},
   "outputs": [],
   "source": [
    "fig, ax = plt.subplots()\n",
    "\n",
    "ax.invert_xaxis()\n",
    "\n",
    "# Plot 300ckpc:\n",
    "a = sim.get_attribute('Time', 'Header', snap_ids)\n",
    "z = sim.get_attribute('Redshift', 'Header', snap_ids)\n",
    "ax.plot(z, a * 300, c='gray', linestyle='--')\n",
    "\n",
    "i1=20; i2=30\n",
    "for r, z in zip(data[\"M31_Satellites\"][\"Distance\"][i1:i2],\n",
    "                data[\"M31_Satellites\"][\"Redshift\"][i1:i2]):\n",
    "    ax.plot(z, r)\n",
    "    ax.scatter(z, r, s=10)\n",
    "    \n",
    "for rf, zf in zip(data[\"M31_Satellites\"][\"D_at_fallin\"][i1:i2],\n",
    "                  data[\"M31_Satellites\"][\"Z_at_fallin\"][i1:i2]):\n",
    "    ax.scatter(zf, rf, c='black', s=15)\n",
    "\n",
    "# for subhalo in sub_dict[snap_z0][mask_m31]:\n",
    "#     d, sub_snaps = dataset_comp.get_subhalo_from_data_dict(subhalo, dist_m31)\n",
    "#     z = sim.get_redshifts(sub_snaps)\n",
    "#     ax.plot(z,d)"
   ]
  },
  {
   "cell_type": "code",
   "execution_count": null,
   "metadata": {},
   "outputs": [],
   "source": []
  }
 ],
 "metadata": {
  "kernelspec": {
   "display_name": "Python 3",
   "language": "python",
   "name": "python3"
  },
  "language_info": {
   "codemirror_mode": {
    "name": "ipython",
    "version": 3
   },
   "file_extension": ".py",
   "mimetype": "text/x-python",
   "name": "python",
   "nbconvert_exporter": "python",
   "pygments_lexer": "ipython3"
  }
 },
 "nbformat": 4,
 "nbformat_minor": 4
}
