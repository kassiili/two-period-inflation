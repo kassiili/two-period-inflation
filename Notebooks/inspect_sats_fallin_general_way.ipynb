{
 "cells": [
  {
   "cell_type": "markdown",
   "metadata": {},
   "source": [
    "## First, imports:"
   ]
  },
  {
   "cell_type": "code",
   "execution_count": null,
   "metadata": {},
   "outputs": [],
   "source": [
    "%load_ext autoreload\n",
    "%autoreload 2\n",
    "\n",
    "%config IPCompleter.greedy=True"
   ]
  },
  {
   "cell_type": "code",
   "execution_count": null,
   "metadata": {},
   "outputs": [],
   "source": [
    "import numpy as np\n",
    "import matplotlib.pyplot as plt\n",
    "from scipy.interpolate import interp1d\n",
    "\n",
    "from astropy import units\n",
    "from astropy.cosmology import FlatLambdaCDM, z_at_value"
   ]
  },
  {
   "cell_type": "markdown",
   "metadata": {},
   "source": [
    "Import my library:"
   ]
  },
  {
   "cell_type": "code",
   "execution_count": null,
   "metadata": {},
   "outputs": [],
   "source": [
    "import os\n",
    "import sys\n",
    "\n",
    "apt_path = os.path.abspath(os.path.join('..', 'apostletools'))\n",
    "sys.path.append(apt_path)\n",
    "\n",
    "import simulation\n",
    "import simtrace\n",
    "import match_halo\n",
    "import dataset_comp"
   ]
  },
  {
   "cell_type": "code",
   "execution_count": null,
   "metadata": {},
   "outputs": [],
   "source": [
    "import importlib\n",
    "importlib.reload(simulation)\n",
    "importlib.reload(simtrace)\n",
    "importlib.reload(match_halo)\n",
    "importlib.reload(dataset_comp)"
   ]
  },
  {
   "cell_type": "markdown",
   "metadata": {},
   "source": [
    "# Evolution Histories of the M31 and MW satellites around the time of fall-in\n",
    "\n",
    "\n",
    "---"
   ]
  },
  {
   "cell_type": "markdown",
   "metadata": {},
   "source": [
    "### plain-LCDM-LR\n",
    "\n",
    "Choose the simulations, and define the M31 and the MW at redshift $z=0$:"
   ]
  },
  {
   "cell_type": "code",
   "execution_count": null,
   "metadata": {},
   "outputs": [],
   "source": [
    "env_path = os.path.abspath(os.path.join('..', 'test_tracing_inj'))\n",
    "\n",
    "sim = simulation.Simulation(\"V1_LR_fix\", env_path=env_path)\n",
    "\n",
    "snap_z0 = 127\n",
    "m31_id_z0 = (1, 0)\n",
    "mw_id_z0 = (2, 0)"
   ]
  },
  {
   "cell_type": "markdown",
   "metadata": {},
   "source": [
    "---\n",
    "\n",
    "## Tracing\n",
    "\n",
    "Set the range of snapshots to be traced:"
   ]
  },
  {
   "cell_type": "code",
   "execution_count": null,
   "metadata": {},
   "outputs": [],
   "source": [
    "snap_start = 100\n",
    "snap_stop = 128\n",
    "snap_ids = np.arange(snap_start, snap_stop)"
   ]
  },
  {
   "cell_type": "code",
   "execution_count": null,
   "metadata": {},
   "outputs": [],
   "source": [
    "# If the simulations are not already linked:\n",
    "matcher = match_halo.SnapshotMatcher(n_link_ref=20, n_matches=1)\n",
    "mtree = simtrace.MergerTree(sim, matcher=matcher, branching=\"BackwardBranching\")\n",
    "mtree.build_tree(snap_start, snap_stop)"
   ]
  },
  {
   "cell_type": "code",
   "execution_count": null,
   "metadata": {},
   "outputs": [],
   "source": [
    "# Trace subhalos and get the M31 and the MW Subhalo objects:\n",
    "sub_dict = sim.trace_subhalos(snap_start, snap_stop)\n",
    "m31 = sub_dict[snap_z0][\n",
    "    sim.get_snapshot(snap_z0).index_of_halo(m31_id_z0[0], m31_id_z0[1])\n",
    "]\n",
    "mw = sub_dict[snap_z0][\n",
    "    sim.get_snapshot(snap_z0).index_of_halo(mw_id_z0[0], mw_id_z0[1])\n",
    "]"
   ]
  },
  {
   "cell_type": "code",
   "execution_count": null,
   "metadata": {},
   "outputs": [],
   "source": [
    "fallin_snaps_m31, fallin_snaps_mw = simtrace.get_fallin_times_lg(\n",
    "    sim, m31, mw, snap_start, snap_stop, first_infall=True\n",
    ")"
   ]
  },
  {
   "cell_type": "code",
   "execution_count": null,
   "metadata": {},
   "outputs": [],
   "source": [
    "fallin_inds_m31 = dataset_comp.index_at_fallin(sub_dict, fallin_snaps_m31)\n",
    "fallin_inds_mw = dataset_comp.index_at_fallin(sub_dict, fallin_snaps_mw)"
   ]
  },
  {
   "cell_type": "markdown",
   "metadata": {},
   "source": [
    "## Check Fallin Times"
   ]
  },
  {
   "cell_type": "markdown",
   "metadata": {},
   "source": [
    "First, simply check fall-in array shapes:"
   ]
  },
  {
   "cell_type": "code",
   "execution_count": null,
   "metadata": {},
   "outputs": [],
   "source": [
    "shapes_match = [(fallin_snaps_m31[snap_id].size == sim.get_snapshot(snap_id).get_subhalo_number()) and\n",
    "                (fallin_snaps_mw[snap_id].size == sim.get_snapshot(snap_id).get_subhalo_number()) \n",
    "                for snap_id in snap_ids]\n",
    "print(np.all(shapes_match))"
   ]
  },
  {
   "cell_type": "markdown",
   "metadata": {},
   "source": [
    "The fall-in snapshot arrays should have non-NaN values for exactly those elements that represent satellites (except if we use the first infall):"
   ]
  },
  {
   "cell_type": "code",
   "execution_count": null,
   "metadata": {},
   "outputs": [],
   "source": [
    "snap_check = [101, 104, 105, 111, 120, 127]"
   ]
  },
  {
   "cell_type": "code",
   "execution_count": null,
   "metadata": {},
   "outputs": [],
   "source": [
    "for snap_id in snap_check:\n",
    "    m31_id = m31.get_group_number_at_snap(snap_id)\n",
    "    mw_id = mw.get_group_number_at_snap(snap_id)\n",
    "    mask_m31, mask_mw, mask_isol = dataset_comp.split_satellites_by_distance(\n",
    "        sim.get_snapshot(snap_id), m31_id, mw_id, sat_r=300, comov=True\n",
    "    )\n",
    "    # mask_sats2, mask_isol_2 = dataset_comp.split_satellites_by_distance_old(\n",
    "    #     sim.get_snapshot(snap_id), m31_id_z0, mw_id_z0, max_dist_sat=300\n",
    "    # )\n",
    "\n",
    "    print(np.all(mask_m31 == ~np.isnan(fallin_snaps_m31[snap_id])))\n",
    "    print(np.all(mask_mw == ~np.isnan(fallin_snaps_mw[snap_id])))"
   ]
  },
  {
   "cell_type": "markdown",
   "metadata": {},
   "source": [
    "### Inspect coordinates at fall-in\n",
    "\n",
    "Coordinates at fall-in should, trivially, be at a circle of radius 300 ckpc around the central. That is, except for those satellites that form as satellite, or which already were satellites at `min(snap_ids)`."
   ]
  },
  {
   "cell_type": "code",
   "execution_count": null,
   "metadata": {},
   "outputs": [],
   "source": [
    "mask_m31, mask_mw, mask_isol = dataset_comp.split_satellites_by_distance(\n",
    "    sim.get_snapshot(snap_z0), m31_id_z0, mw_id_z0, sat_r=300, comov=True\n",
    ")\n",
    "mask_sats2, mask_isol_2 = dataset_comp.split_satellites_by_distance_old(\n",
    "    sim.get_snapshot(snap_z0), m31_id_z0, mw_id_z0, max_dist_sat=300\n",
    ")"
   ]
  },
  {
   "cell_type": "code",
   "execution_count": null,
   "metadata": {},
   "outputs": [],
   "source": [
    "dist_m31 = {sid: np.linalg.norm(d, axis=1) * units.cm.to(units.kpc)\n",
    "            for sid, d in m31.distance_to_self(snap_ids).items()}\n",
    "dist_mw = {sid: np.linalg.norm(d, axis=1) * units.cm.to(units.kpc)\n",
    "            for sid, d in mw.distance_to_self(snap_ids).items()}"
   ]
  },
  {
   "cell_type": "markdown",
   "metadata": {},
   "source": [
    "Try the two different methods:"
   ]
  },
  {
   "cell_type": "code",
   "execution_count": null,
   "metadata": {},
   "outputs": [],
   "source": [
    "m31_sats_z0 = sub_dict[snap_z0][mask_m31]\n",
    "print(dataset_comp.get_subhalos_at_fallin(m31_sats_z0, fallin_snaps_m31, dist_m31))"
   ]
  },
  {
   "cell_type": "code",
   "execution_count": null,
   "metadata": {},
   "outputs": [],
   "source": [
    "fallin_dist_m31 = dataset_comp.data_at_fallin(fallin_snaps_m31, fallin_inds_m31, dist_m31)\n",
    "print(fallin_dist_m31[snap_z0][mask_m31])"
   ]
  },
  {
   "cell_type": "code",
   "execution_count": null,
   "metadata": {},
   "outputs": [],
   "source": [
    "fallin_dist_mw = dataset_comp.data_at_fallin(fallin_snaps_mw, fallin_inds_mw, dist_mw)\n",
    "print(fallin_dist_mw[snap_z0][mask_mw])"
   ]
  },
  {
   "cell_type": "markdown",
   "metadata": {},
   "source": [
    "## Plot radial evolution with fall-in"
   ]
  },
  {
   "cell_type": "markdown",
   "metadata": {},
   "source": [
    "Define masking arrays to select satellites of M31 and MW and random sample of isolated galaxies:"
   ]
  },
  {
   "cell_type": "code",
   "execution_count": null,
   "metadata": {},
   "outputs": [],
   "source": [
    "def random_mask(mask, n):\n",
    "    \"\"\" From the selection prescribed by ´mask´, select ´n´ items at random. \"\"\"\n",
    "    k = np.sum(mask)\n",
    "    mask_rand = np.full(k, False)\n",
    "    mask_rand[:min(n, k)] = True\n",
    "    np.random.shuffle(mask_rand)\n",
    "\n",
    "    mask_new = np.full(mask.size, False)\n",
    "    mask_new[mask] = mask_rand\n",
    "    \n",
    "    return mask_new"
   ]
  },
  {
   "cell_type": "code",
   "execution_count": null,
   "metadata": {},
   "outputs": [],
   "source": [
    "redshift = {snap.snap_id: np.full(snap.get_subhalo_number(), snap.get_attribute(\"Redshift\", \"Header\"))\n",
    "            for snap in sim.get_snapshots(snap_ids)}\n",
    "fallin_z_m31 = dataset_comp.data_at_fallin(fallin_snaps_m31, fallin_inds_m31, redshift)\n",
    "fallin_z_mw = dataset_comp.data_at_fallin(fallin_snaps_mw, fallin_inds_mw, redshift)"
   ]
  },
  {
   "cell_type": "code",
   "execution_count": null,
   "metadata": {},
   "outputs": [],
   "source": [
    "m31_sats = sub_dict[snap_z0][random_mask(mask_m31, 15)]\n",
    "mw_sats = sub_dict[snap_z0][random_mask(mask_mw, 15)]\n",
    "\n",
    "data = {\n",
    "    \"M31_Satellites\": {\n",
    "        \"Redshift\": [dataset_comp.subhalo_dataset_from_dict(sat, redshift)[0]\n",
    "                     for sat in m31_sats],\n",
    "        \"Distance\": [dataset_comp.subhalo_dataset_from_dict(sat, dist_m31)[0] \n",
    "                     for sat in m31_sats],\n",
    "        \"D_at_fallin\": [dataset_comp.subhalo_dataset_from_dict(sat, fallin_dist_m31)[0] \n",
    "                        for sat in m31_sats],\n",
    "        \"Z_at_fallin\": [dataset_comp.subhalo_dataset_from_dict(sat, fallin_z_m31)[0] \n",
    "                        for sat in m31_sats]\n",
    "    },\n",
    "    \"MW_Satellites\": {\n",
    "        \"Redshift\": [dataset_comp.subhalo_dataset_from_dict(sat, redshift)[0]\n",
    "                     for sat in mw_sats],\n",
    "        \"Distance\": [dataset_comp.subhalo_dataset_from_dict(sat, dist_mw)[0] \n",
    "                     for sat in mw_sats],\n",
    "        \"D_at_fallin\": [dataset_comp.subhalo_dataset_from_dict(sat, fallin_dist_mw)[0] \n",
    "                        for sat in mw_sats],\n",
    "        \"Z_at_fallin\": [dataset_comp.subhalo_dataset_from_dict(sat, fallin_z_mw)[0] \n",
    "                        for sat in mw_sats]\n",
    "    }\n",
    "       }"
   ]
  },
  {
   "cell_type": "code",
   "execution_count": null,
   "metadata": {},
   "outputs": [],
   "source": [
    "fig, ax = plt.subplots()\n",
    "\n",
    "ax.invert_xaxis()\n",
    "\n",
    "# Plot 300ckpc:\n",
    "a = sim.get_attribute('Time', 'Header', snap_ids)\n",
    "z = sim.get_attribute('Redshift', 'Header', snap_ids)\n",
    "ax.plot(z, a * 300, c='gray', linestyle='--')\n",
    "\n",
    "for r, z in zip(data[\"M31_Satellites\"][\"Distance\"],\n",
    "                data[\"M31_Satellites\"][\"Redshift\"]):\n",
    "    ax.plot(z, r)\n",
    "#     ax.scatter(z, r, s=10)\n",
    "    \n",
    "for rf, zf in zip(data[\"M31_Satellites\"][\"D_at_fallin\"],\n",
    "                  data[\"M31_Satellites\"][\"Z_at_fallin\"]):\n",
    "    ax.scatter(zf, rf, c='black', s=15)\n",
    "\n",
    "# for subhalo in sub_dict[snap_z0][mask_m31]:\n",
    "#     d, sub_snaps = dataset_comp.get_subhalo_from_data_dict(subhalo, dist_m31)\n",
    "#     z = sim.get_redshifts(sub_snaps)\n",
    "#     ax.plot(z,d)"
   ]
  },
  {
   "cell_type": "code",
   "execution_count": null,
   "metadata": {},
   "outputs": [],
   "source": [
    "fig, ax = plt.subplots()\n",
    "\n",
    "ax.invert_xaxis()\n",
    "\n",
    "# Plot 300ckpc:\n",
    "a = sim.get_attribute('Time', 'Header', snap_ids)\n",
    "z = sim.get_attribute('Redshift', 'Header', snap_ids)\n",
    "ax.plot(z, a * 300, c='gray', linestyle='--')\n",
    "\n",
    "for r, z in zip(data[\"MW_Satellites\"][\"Distance\"],\n",
    "                data[\"MW_Satellites\"][\"Redshift\"]):\n",
    "    ax.plot(z, r)\n",
    "#     ax.scatter(z, r, s=10)\n",
    "    \n",
    "for rf, zf in zip(data[\"MW_Satellites\"][\"D_at_fallin\"],\n",
    "                  data[\"MW_Satellites\"][\"Z_at_fallin\"]):\n",
    "    ax.scatter(zf, rf, c='black', s=15)\n"
   ]
  },
  {
   "cell_type": "code",
   "execution_count": null,
   "metadata": {},
   "outputs": [],
   "source": []
  }
 ],
 "metadata": {
  "kernelspec": {
   "display_name": "Python 3",
   "language": "python",
   "name": "python3"
  },
  "language_info": {
   "codemirror_mode": {
    "name": "ipython",
    "version": 3
   },
   "file_extension": ".py",
   "mimetype": "text/x-python",
   "name": "python",
   "nbconvert_exporter": "python",
   "pygments_lexer": "ipython3"
  }
 },
 "nbformat": 4,
 "nbformat_minor": 4
}
