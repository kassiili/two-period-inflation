{
 "cells": [
  {
   "cell_type": "markdown",
   "metadata": {},
   "source": [
    "## First, imports:"
   ]
  },
  {
   "cell_type": "code",
   "execution_count": null,
   "metadata": {},
   "outputs": [],
   "source": [
    "%load_ext autoreload\n",
    "%autoreload 2\n",
    "\n",
    "%config IPCompleter.greedy=True"
   ]
  },
  {
   "cell_type": "code",
   "execution_count": null,
   "metadata": {},
   "outputs": [],
   "source": [
    "import matplotlib.pyplot as plt\n",
    "import numpy as np\n",
    "from astropy import units"
   ]
  },
  {
   "cell_type": "markdown",
   "metadata": {},
   "source": [
    "Import my library:"
   ]
  },
  {
   "cell_type": "code",
   "execution_count": null,
   "metadata": {},
   "outputs": [],
   "source": [
    "import os\n",
    "import sys\n",
    "\n",
    "apt_path = os.path.abspath(os.path.join(\"..\", \"apostletools\"))\n",
    "sys.path.append(apt_path)\n",
    "\n",
    "import snapshot\n",
    "import dataset_comp"
   ]
  },
  {
   "cell_type": "code",
   "execution_count": null,
   "metadata": {},
   "outputs": [],
   "source": [
    "import importlib\n",
    "importlib.reload(snapshot)\n",
    "importlib.reload(dataset_comp)"
   ]
  },
  {
   "cell_type": "markdown",
   "metadata": {},
   "source": [
    "# Mass Distribution of Subhalos\n",
    "\n",
    "To visualize the mass distribution, at $z=0$, I plot a simple subhalo count accumulation curve, which at any point on the mass axis gives the total number of subhalos (or of satellite or isolated galaxies) with masses larger than the given mass. Mass is measured by $v_\\mathrm{max} = \\max_{r} \\sqrt{\\frac{G M(<r)}{r}}$.\n",
    "\n",
    "## Motivation\n",
    "\n",
    "Plenty of interesting and instructive observations can be made from the mass distribution figure alone. For the curv-p08* simulation, we expect find an indication of inhibited structure formation towards the small scales, relative to the plain-lcdm. However, on the larger scales, the curves from different simulations should approach each other (although random effects from low number counts also come into play). \n",
    "\n",
    "But the absence of small-scale power in the initial physical power spectrum means that the component of power that is due to numerical noise also becomes more significant --- and, indeed, will dominate on small enough scales (shot noise becomes more relevant towards the resolution limits of the simulation). This is expected to be visible in the mass function as well.\n",
    "\n",
    "Furthermore, the mass functions satellite galaxies and isolated galaxies in any simulations should be expected to differ. \n",
    "\n",
    "From the single plot alone, it is impossible to make the connection between any particular feature of the mass function and any of the above-mentioned potential causes. Of course, we are also only looking at a single simulated instance of the LG.\n",
    "\n",
    "---\n",
    "\n",
    "## Set Parameters for the Plots\n",
    "\n",
    "Choose the snapshot and the simulations, and define M31 and MW in each simulation:"
   ]
  },
  {
   "cell_type": "markdown",
   "metadata": {},
   "source": [
    "Create a dictionary of the datasets from each simulation. "
   ]
  },
  {
   "cell_type": "code",
   "execution_count": null,
   "metadata": {
    "tags": []
   },
   "outputs": [],
   "source": [
    "snap_id = 127\n",
    "data = {\n",
    "    \"plain-LCDM-LR\": {\n",
    "        \"Snapshot\": snapshot.Snapshot(\"V1_LR_fix\", snap_id),\n",
    "        \"M31_ID\": (1, 0),\n",
    "        \"MW_ID\": (2, 0),\n",
    "        \"Color\": [\"gray\"]\n",
    "    },\n",
    "    \"curv-p082-LR\": {\n",
    "        \"Snapshot\": snapshot.Snapshot(\"V1_LR_curvaton_p082_fix\", snap_id),\n",
    "        \"M31_ID\": (1, 0),\n",
    "        \"MW_ID\": (1, 1),\n",
    "        \"Color\": [\"pink\"]\n",
    "    },\n",
    "    \"curv-p084-LR\": {\n",
    "        \"Snapshot\": snapshot.Snapshot(\"V1_LR_curvaton_p084_fix\", snap_id),\n",
    "        \"M31_ID\": (1, 0),\n",
    "        \"MW_ID\": (1, 0),\n",
    "        \"Color\": [\"lightblue\"]\n",
    "    },\n",
    "    \"plain-LCDM\": {\n",
    "        \"Snapshot\": snapshot.Snapshot(\"V1_MR_fix\", snap_id),\n",
    "        \"M31_ID\": (1, 0),\n",
    "        \"MW_ID\": (2, 0),\n",
    "        \"Color\": [\"black\", \"gray\"]\n",
    "    },\n",
    "    \"curv-p082\": {\n",
    "        \"Snapshot\": snapshot.Snapshot(\"V1_MR_curvaton_p082_fix\", snap_id),\n",
    "        \"M31_ID\": (1, 0),\n",
    "        \"MW_ID\": (1, 1),\n",
    "        \"Color\": [\"red\", \"pink\"]\n",
    "    }\n",
    "}"
   ]
  },
  {
   "cell_type": "markdown",
   "metadata": {},
   "source": [
    "---\n",
    "\n",
    "## Retrieve Data\n",
    "\n",
    "### Create a Dictionary\n",
    "\n",
    "For easy handling of the relevant data, define a data dictionary that, at the top level, has entries for all simulations. Under each simulation sim_data, add items for the needed datasets and, under the \"Selections\" key, a sub-dictionary of masking arrays for each needed condition (e.g. satellite, luminous, $v_\\mathrm{max}$ inside range, etc.).\n",
    "\n",
    "First, add the above definitions into the data dict:"
   ]
  },
  {
   "cell_type": "markdown",
   "metadata": {},
   "source": [
    "Then, loop over simulations, retrieve data, compute masking arrays, and add to the dictionary:"
   ]
  },
  {
   "cell_type": "code",
   "execution_count": null,
   "metadata": {
    "code_folding": [],
    "tags": []
   },
   "outputs": [],
   "source": [
    "for key, sim_data in data.items():    \n",
    "    # Get data:\n",
    "    snap = sim_data[\"Snapshot\"]\n",
    "    v1kpc = snap.get_subhalos(\"V1kpc\", \"Extended\") * units.cm.to(units.km)\n",
    "    \n",
    "    # Compute masking arrays:\n",
    "    mask_m31, mask_mw, mask_isol = dataset_comp.split_satellites_by_distance(\n",
    "        snap, sim_data[\"M31_ID\"], sim_data[\"MW_ID\"]\n",
    "    )\n",
    "    mask_sat = np.logical_or(mask_m31, mask_mw)\n",
    "    mask_lum, mask_dark = dataset_comp.split_luminous(snap)\n",
    "    mask_vmax = dataset_comp.prune_vmax(snap, low_lim=10)\n",
    "\n",
    "    # Sort by vmax and add a dummy point with very small vmax \n",
    "    # (to continue the curves to the y-axis):\n",
    "    sim_data[\"V1kpc\"] = v1kpc\n",
    "    \n",
    "    data[key][\"Selections\"] = {\n",
    "        \"M31\": mask_m31,\n",
    "        \"MW\": mask_mw,\n",
    "        \"Satellite\": mask_sat,\n",
    "        \"Isolated\": mask_isol,\n",
    "        \"Luminous\": mask_lum,\n",
    "        \"Dark\": mask_dark,\n",
    "        \"Vmax\": mask_vmax\n",
    "    }"
   ]
  },
  {
   "cell_type": "markdown",
   "metadata": {},
   "source": [
    "## Plot Only Total Counts"
   ]
  },
  {
   "cell_type": "code",
   "execution_count": null,
   "metadata": {},
   "outputs": [],
   "source": [
    "# Set some parameters:\n",
    "x_down = 5; x_up = 80\n",
    "y_down = 1; y_up = 800\n",
    "\n",
    "# Choose font sizes:\n",
    "parameters = {'axes.titlesize': 10,\n",
    "              'axes.labelsize': 8,\n",
    "              'xtick.labelsize': 8,\n",
    "              'ytick.labelsize': 8,\n",
    "              'legend.fontsize': 8,\n",
    "              'legend.title_fontsize': 7}\n",
    "\n",
    "# Set fonts:\n",
    "plt.rcParams.update(parameters)\n",
    "plt.tight_layout()"
   ]
  },
  {
   "cell_type": "code",
   "execution_count": null,
   "metadata": {},
   "outputs": [],
   "source": [
    "fig, axes = plt.subplots(ncols=2, figsize=(6, 3), sharey=\"row\")\n",
    "plt.subplots_adjust(wspace=0)\n",
    "\n",
    "# Set axis:\n",
    "axes[0].set_ylim(0, 1.2)\n",
    "axes[0].set_ylabel(\"$N(>v_{\\mathrm{1\\,\\mathrm{kpc}}})$\")\n",
    "for ax in axes:\n",
    "    ax.set_xlim(x_down, x_up)\n",
    "    ax.set_xlabel(\"$v_{\\mathrm{1\\,\\mathrm{kpc}}}[\\mathrm{km s^{-1}}]$\")\n",
    "    ax.set_xscale(\"log\")\n",
    "    # ax.set_yscale(\"log\")\n",
    "    \n",
    "axes[0].set_title(\"Satellite galaxies\")\n",
    "axes[1].set_title(\"Isolated galaxies\")\n",
    "\n",
    "for (sim_name, sim_data) in data.items():\n",
    "               \n",
    "    v1kpc = sim_data[\"V1kpc\"]\n",
    "        \n",
    "    # ISOLATED GALAXIES\n",
    "    # -----------------\n",
    "    \n",
    "    mask_isol = np.logical_and(sim_data[\"Selections\"][\"Isolated\"],\n",
    "                               sim_data[\"Selections\"][\"Vmax\"])\n",
    "    n_isol = np.sum(mask_isol) - 1    \n",
    "    x = v1kpc[mask_isol]\n",
    "    y = np.append(1, np.arange(1, n_isol + 1)[::-1] / n_isol)\n",
    "    \n",
    "    x = np.append(x, x[-1])\n",
    "    y = np.append(y, 0)\n",
    "    axes[1].plot(x, y, c=sim_data[\"Color\"][0], \n",
    "                 linestyle=\"solid\", label=sim_name)\n",
    "\n",
    "\n",
    "    # SATELLITES\n",
    "    # ----------\n",
    "        \n",
    "    if sim_name.split(\"-\")[1] == \"p084\":\n",
    "        continue\n",
    "\n",
    "    mask_sat = np.logical_and(sim_data[\"Selections\"][\"Satellite\"],\n",
    "                              sim_data[\"Selections\"][\"Vmax\"])\n",
    "    n_sat = np.sum(mask_sat) - 1    \n",
    "    x = v1kpc[mask_sat]\n",
    "    y = np.append(1, np.arange(1, n_sat + 1)[::-1] / n_sat)\n",
    "    \n",
    "    x = np.append(x, x[-1])\n",
    "    y = np.append(y, 0)\n",
    "    axes[0].plot(x, y, c=sim_data[\"Color\"][0], linestyle=\"solid\",\n",
    "                 label=sim_name)\n",
    "        \n",
    "axes[1].legend()\n",
    "    \n",
    "plt.tight_layout()"
   ]
  },
  {
   "cell_type": "markdown",
   "metadata": {},
   "source": [
    "### Save the Figure"
   ]
  },
  {
   "cell_type": "code",
   "execution_count": null,
   "metadata": {},
   "outputs": [],
   "source": [
    "filename = \"v1kpc_distribution_total.png\"\n",
    "    \n",
    "path = os.path.abspath(os.path.join(\"..\", \"Figures\", \"MediumResolution\"))\n",
    "filename = os.path.join(path, filename)\n",
    "\n",
    "fig.savefig(filename, dpi=300, bbox_inches=\"tight\")"
   ]
  },
  {
   "cell_type": "markdown",
   "metadata": {
    "tags": []
   },
   "source": [
    "## Plot Luminous and Dark"
   ]
  },
  {
   "cell_type": "code",
   "execution_count": null,
   "metadata": {},
   "outputs": [],
   "source": [
    "def count_curve(arr):\n",
    "    \n",
    "    arr.sort()\n",
    "    \n",
    "    n = arr.size\n",
    "    x = np.append(10**-5, np.append(arr, arr[-1]))\n",
    "    y = np.append(1, np.append(np.arange(1, n + 1)[::-1] / n, 0))\n",
    "    \n",
    "    return x, y"
   ]
  },
  {
   "cell_type": "code",
   "execution_count": null,
   "metadata": {},
   "outputs": [],
   "source": [
    "print(count_curve(np.arange(1,15)))"
   ]
  },
  {
   "cell_type": "code",
   "execution_count": null,
   "metadata": {},
   "outputs": [],
   "source": [
    "# Set some parameters:\n",
    "x_down = 5; x_up = 80\n",
    "y_down = 1; y_up = 800"
   ]
  },
  {
   "cell_type": "code",
   "execution_count": null,
   "metadata": {},
   "outputs": [],
   "source": [
    "fig, axes = plt.subplots(ncols=2, figsize=(6, 3), sharey=\"row\")\n",
    "plt.subplots_adjust(wspace=0)\n",
    "\n",
    "# Set axis:\n",
    "axes[0].set_ylim(0, 1.2)\n",
    "axes[0].set_ylabel(\"$f\\,(>v_{\\mathrm{1\\,\\mathrm{kpc}}})$\")\n",
    "for ax in axes:\n",
    "    ax.set_xlim(2, 60)\n",
    "    ax.set_xlabel(\"$v_{\\mathrm{1\\,\\mathrm{kpc}}}[\\mathrm{km s^{-1}}]$\")\n",
    "    # ax.set_xscale(\"log\")\n",
    "    # ax.set_yscale(\"log\")\n",
    "    \n",
    "axes[0].set_title(\"Satellite galaxies\")\n",
    "axes[1].set_title(\"Isolated galaxies\")\n",
    "\n",
    "# Plot only MR:\n",
    "data_mr = {key: data[key] for key in data.keys() \n",
    "           & {'plain-LCDM', 'curv-p082'}}\n",
    "for (sim_name, sim_data) in data_mr.items():\n",
    "               \n",
    "    v1kpc = sim_data[\"V1kpc\"]\n",
    "            \n",
    "    # SATELLITES\n",
    "    # ----------\n",
    "    \n",
    "    mask_sat = np.logical_and(sim_data[\"Selections\"][\"Satellite\"],\n",
    "                              sim_data[\"Selections\"][\"Vmax\"])\n",
    "    \n",
    "    # Plot dark luminous:\n",
    "    mask_dark = np.logical_and(mask_sat, sim_data[\"Selections\"][\"Dark\"])\n",
    "    x, y = count_curve(v1kpc[mask_dark])\n",
    "    axes[0].plot(x, y, c=sim_data[\"Color\"][0], linestyle=\"solid\")\n",
    "    \n",
    "#     # Plot only luminous satellites:\n",
    "    mask_lum = np.logical_and(mask_sat, sim_data[\"Selections\"][\"Luminous\"])\n",
    "    x, y = count_curve(v1kpc[mask_lum])\n",
    "    axes[0].plot(x, y, c=sim_data[\"Color\"][0], linestyle=\"dashed\")\n",
    "\n",
    "        \n",
    "#     # ISOLATED GALAXIES\n",
    "#     # -----------------\n",
    "    \n",
    "    mask_isol = np.logical_and(sim_data[\"Selections\"][\"Isolated\"],\n",
    "                              sim_data[\"Selections\"][\"Vmax\"])\n",
    "    \n",
    "    # Plot dark isolated:\n",
    "    mask_dark = np.logical_and(mask_isol, sim_data[\"Selections\"][\"Dark\"])\n",
    "    x, y = count_curve(v1kpc[mask_dark])\n",
    "    axes[1].plot(x, y, c=sim_data[\"Color\"][0], linestyle=\"solid\")\n",
    "    \n",
    "    # Plot only luminous satellites:\n",
    "    mask_lum = np.logical_and(mask_isol, sim_data[\"Selections\"][\"Luminous\"])\n",
    "    x, y = count_curve(v1kpc[mask_lum])\n",
    "    axes[1].plot(x, y, c=sim_data[\"Color\"][0], linestyle=\"dashed\")\n",
    "        \n",
    "# # Make dummy plots for the legend:   \n",
    "# l = []\n",
    "# for entry in data_mr.values():\n",
    "#     l_dum, = axes[1].plot([], [], c=entry['Color'][0], linestyle=\"solid\")\n",
    "#     l.append(l_dum)\n",
    "# sim_legend = axes[1].legend(l, list(data_mr.keys()), loc=\"upper right\")\n",
    "# axes[1].add_artist(sim_legend)\n",
    "\n",
    "# axes[0].plot([], [], c='k', linestyle=\"solid\", label=\"All\")\n",
    "# axes[0].plot([], [], c='k', linestyle=\"dashed\", label=\"Luminous\")\n",
    "# axes[0].legend(loc=\"upper right\")\n",
    "\n",
    "plt.tight_layout()"
   ]
  },
  {
   "cell_type": "markdown",
   "metadata": {},
   "source": [
    "### Save the Figure"
   ]
  },
  {
   "cell_type": "code",
   "execution_count": null,
   "metadata": {},
   "outputs": [],
   "source": [
    "filename = \"v1kpc_distribution_norm.png\"\n",
    "    \n",
    "path = os.path.abspath(os.path.join(\"..\", \"Figures\", \"MediumResolution\"))\n",
    "filename = os.path.join(path, filename)\n",
    "\n",
    "fig.savefig(filename, dpi=300, bbox_inches=\"tight\")"
   ]
  },
  {
   "cell_type": "code",
   "execution_count": null,
   "metadata": {},
   "outputs": [],
   "source": []
  },
  {
   "cell_type": "code",
   "execution_count": null,
   "metadata": {},
   "outputs": [],
   "source": []
  }
 ],
 "metadata": {
  "kernelspec": {
   "display_name": "Python 3",
   "language": "python",
   "name": "python3"
  },
  "language_info": {
   "codemirror_mode": {
    "name": "ipython",
    "version": 3
   },
   "file_extension": ".py",
   "mimetype": "text/x-python",
   "name": "python",
   "nbconvert_exporter": "python",
   "pygments_lexer": "ipython3"
  }
 },
 "nbformat": 4,
 "nbformat_minor": 4
}
