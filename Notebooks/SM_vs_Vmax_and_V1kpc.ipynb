{
 "cells": [
  {
   "cell_type": "code",
   "execution_count": null,
   "metadata": {},
   "outputs": [],
   "source": [
    "%load_ext autoreload\n",
    "%autoreload 2\n",
    "\n",
    "%config IPCompleter.greedy=True"
   ]
  },
  {
   "cell_type": "code",
   "execution_count": null,
   "metadata": {},
   "outputs": [],
   "source": [
    "import numpy as np\n",
    "import matplotlib.pyplot as plt\n",
    "from astropy import units\n",
    "from astropy.constants import G\n",
    "import importlib"
   ]
  },
  {
   "cell_type": "code",
   "execution_count": null,
   "metadata": {},
   "outputs": [],
   "source": [
    "import os\n",
    "import sys\n",
    "\n",
    "apt_path = os.path.abspath(os.path.join('..', 'apostletools'))\n",
    "sys.path.append(apt_path)\n",
    "import dataset_comp\n",
    "import snapshot\n",
    "import curve_fit"
   ]
  },
  {
   "cell_type": "code",
   "execution_count": null,
   "metadata": {},
   "outputs": [],
   "source": [
    "importlib.reload(dataset_comp)\n",
    "importlib.reload(snapshot)\n",
    "importlib.reload(curve_fit)"
   ]
  },
  {
   "cell_type": "markdown",
   "metadata": {},
   "source": [
    "# $M_*$ vs. $v_\\text{max}$"
   ]
  },
  {
   "cell_type": "markdown",
   "metadata": {},
   "source": [
    "## Construct data dictionary\n",
    "\n",
    "Add entries for each simulation, and specify M31 and MW galaxies:"
   ]
  },
  {
   "cell_type": "code",
   "execution_count": null,
   "metadata": {
    "code_folding": []
   },
   "outputs": [],
   "source": [
    "snap_id = 127\n",
    "data = {\n",
    "    'plain-LCDM': {\n",
    "        'Snapshot': snapshot.Snapshot('V1_MR_fix', snap_id),\n",
    "        'M31_identifier': (1, 0),\n",
    "        'MW_identifier': (2, 0),\n",
    "        'Color': ['black', 'gray']\n",
    "    },\n",
    "    'curv-p082': {\n",
    "        'Snapshot': snapshot.Snapshot('V1_MR_curvaton_p082_fix', snap_id),\n",
    "        'M31_identifier': (1, 0),\n",
    "        'MW_identifier': (1, 1),\n",
    "        'Color': ['red', 'pink']\n",
    "    }\n",
    "}"
   ]
  },
  {
   "cell_type": "markdown",
   "metadata": {},
   "source": [
    "Read datasets, split into satellites and isolated galaxies, and add to the data dictionary. We also disregard dark halos and potential spurious halos with $v_\\mathrm{max} = 0$."
   ]
  },
  {
   "cell_type": "code",
   "execution_count": null,
   "metadata": {
    "code_folding": []
   },
   "outputs": [],
   "source": [
    "for name, sim_data in data.items():\n",
    "    # Get data:\n",
    "    snap = sim_data[\"Snapshot\"]\n",
    "    sm = snap.get_subhalos(\"Stars/Mass\") * units.g.to(units.Msun)\n",
    "    max_point = snap.get_subhalos(\"Max_Vcirc\", \"Extended\")\n",
    "    vmax = max_point[:,0] * units.cm.to(units.km)\n",
    "    v1kpc = snap.get_subhalos(\"V1kpc\", \"Extended\") * units.cm.to(units.km)\n",
    "    \n",
    "    # Split into satellites:\n",
    "    mask_m31, mask_mw, mask_isol = dataset_comp.split_satellites_by_distance(\n",
    "        snap, sim_data[\"M31_identifier\"], sim_data[\"MW_identifier\"]\n",
    "    )\n",
    "\n",
    "    # Set low mass limit for physical halos:\n",
    "    mask_vmax = dataset_comp.prune_vmax(snap, low_lim=10)\n",
    "    \n",
    "    # Select only luminous:\n",
    "    mask_lum,_ = dataset_comp.split_luminous(snap)\n",
    "    mask_m31 = mask_m31[mask_lum]\n",
    "    mask_mw = mask_mw[mask_lum]\n",
    "    mask_isol = mask_isol[mask_lum]\n",
    "    mask_vmax = mask_vmax[mask_lum]\n",
    "    \n",
    "    # Add datasets to dictionary:\n",
    "    data[name]['SM'] = sm[mask_lum]\n",
    "    data[name]['Vmax'] = vmax[mask_lum]\n",
    "    data[name]['V1kpc'] = v1kpc[mask_lum]\n",
    "\n",
    "    # Add selections (masking arrays):\n",
    "    data[name]['Selections'] = {\n",
    "        'M31': mask_m31,\n",
    "        'MW': mask_mw,\n",
    "        'Satellite': np.logical_or(mask_m31, mask_mw),\n",
    "        'Isolated': mask_isol,\n",
    "        'Physical': mask_vmax\n",
    "    }"
   ]
  },
  {
   "cell_type": "markdown",
   "metadata": {},
   "source": [
    "## Plot"
   ]
  },
  {
   "cell_type": "code",
   "execution_count": null,
   "metadata": {},
   "outputs": [],
   "source": [
    "# Choose font sizes:\n",
    "parameters = {'axes.titlesize': 10,\n",
    "              'axes.labelsize': 8,\n",
    "              'xtick.labelsize': 8,\n",
    "              'ytick.labelsize': 8,\n",
    "              'legend.fontsize': 8,\n",
    "              'legend.title_fontsize': 7}\n",
    "\n",
    "# Marker size\n",
    "ms = 10\n",
    "\n",
    "# Set fonts:\n",
    "plt.rcParams.update(parameters)\n",
    "plt.tight_layout()"
   ]
  },
  {
   "cell_type": "code",
   "execution_count": null,
   "metadata": {},
   "outputs": [],
   "source": [
    "# Choose font sizes:\n",
    "parameters = {'axes.titlesize': 12,\n",
    "              'axes.labelsize': 10,\n",
    "              'xtick.labelsize': 9,\n",
    "              'ytick.labelsize': 9,\n",
    "              'legend.fontsize': 10}\n",
    "\n",
    "# Marker size\n",
    "ms = 15\n",
    "a = 0.7\n",
    "\n",
    "# Set fonts:\n",
    "plt.rcParams.update(parameters)\n",
    "plt.tight_layout()"
   ]
  },
  {
   "cell_type": "code",
   "execution_count": null,
   "metadata": {},
   "outputs": [],
   "source": [
    "fig, axes = plt.subplots(ncols=2, sharey=True, figsize=(6, 3))\n",
    "plt.subplots_adjust(wspace=0.05)\n",
    "\n",
    "# Set axis:\n",
    "for ax in axes:\n",
    "    ax.set_xscale('log')\n",
    "    ax.set_yscale('log')\n",
    "    ax.set_ylim(10**6, 5*10**9)\n",
    "\n",
    "axes[0].set_xlim(10, 110)    \n",
    "axes[1].set_xlim(5, 80)    \n",
    "axes[0].set_xlabel('$v_{\\mathrm{max}}[\\mathrm{km s^{-1}}]$')    \n",
    "axes[1].set_xlabel('$v_{\\mathrm{1 kpc}}[\\mathrm{km s^{-1}}]$')\n",
    "\n",
    "axes[0].set_ylabel('$M_*[\\mathrm{M_\\odot}]$')\n",
    "\n",
    "# axes[0].set_title('Satellite galaxies')\n",
    "# axes[1].set_title('Isolated galaxies')"
   ]
  },
  {
   "cell_type": "code",
   "execution_count": null,
   "metadata": {},
   "outputs": [],
   "source": [
    "# Add scatter plots:\n",
    "for i, (name, sim_data) in enumerate(data.items()):\n",
    "    mask = np.logical_and(sim_data[\"Selections\"][\"Satellite\"],\n",
    "                          sim_data[\"Selections\"][\"Physical\"])\n",
    "    axes[0].scatter(sim_data[\"Vmax\"][mask], sim_data[\"SM\"][mask], alpha=a, marker='+',\n",
    "                    c=sim_data[\"Color\"][0], s=ms)\n",
    "    \n",
    "    mask = np.logical_and(sim_data[\"Selections\"][\"Isolated\"],\n",
    "                          sim_data[\"Selections\"][\"Physical\"])\n",
    "    axes[0].scatter(sim_data[\"Vmax\"][mask], sim_data[\"SM\"][mask], alpha=a, marker='s',\n",
    "                    facecolor='none', s=ms, edgecolor=sim_data[\"Color\"][0])\n",
    "    \n",
    "fig"
   ]
  },
  {
   "cell_type": "code",
   "execution_count": null,
   "metadata": {},
   "outputs": [],
   "source": [
    "# Add scatter plots:\n",
    "for i, (name, sim_data) in enumerate(data.items()):\n",
    "    mask = np.logical_and(sim_data[\"Selections\"][\"Satellite\"],\n",
    "                          sim_data[\"Selections\"][\"Physical\"])\n",
    "    axes[1].scatter(sim_data[\"V1kpc\"][mask], sim_data[\"SM\"][mask], alpha=a, marker='+',\n",
    "                    c=sim_data[\"Color\"][0], s=ms)\n",
    "    \n",
    "    mask = np.logical_and(sim_data[\"Selections\"][\"Isolated\"],\n",
    "                          sim_data[\"Selections\"][\"Physical\"])\n",
    "    axes[1].scatter(sim_data[\"V1kpc\"][mask], sim_data[\"SM\"][mask], alpha=a, marker='s',\n",
    "                    facecolor='none', s=ms, edgecolor=sim_data[\"Color\"][0])\n",
    "    \n",
    "fig"
   ]
  },
  {
   "cell_type": "code",
   "execution_count": null,
   "metadata": {},
   "outputs": [],
   "source": [
    "sm_mean = np.mean(\n",
    "    sim_data[\"Snapshot\"].get_particle_masses(part_type=[4])\n",
    ") * units.g.to(units.Msun)\n",
    "\n",
    "# axes[0].axhline(100 * sm_mean, c='gray', linestyle=\"dotted\")\n",
    "# axes[1].axhline(100 * sm_mean, c='gray', linestyle=\"dotted\")\n",
    "\n",
    "axes[0].axhline(10**7, c='gray', linestyle=\"dotted\")\n",
    "axes[1].axhline(10**7, c='gray', linestyle=\"dotted\")\n",
    "\n",
    "axes[0].scatter([], [], c=data[\"plain-LCDM\"][\"Color\"][0], alpha=a, marker='+',\n",
    "                s=ms, label=\"Satellite\")\n",
    "axes[0].scatter([], [], edgecolor=data[\"plain-LCDM\"][\"Color\"][0], alpha=a, marker='s',\n",
    "                facecolor='none', s=ms, label=\"Isolated\")\n",
    "\n",
    "axes[0].legend()\n",
    "\n",
    "for name, sim_data in data.items():\n",
    "    axes[1].scatter([], [], c=sim_data[\"Color\"][0], alpha=a, marker='o',\n",
    "                    s=ms, label=name)\n",
    "    \n",
    "axes[1].legend()\n",
    "\n",
    "fig"
   ]
  },
  {
   "cell_type": "markdown",
   "metadata": {
    "tags": []
   },
   "source": [
    "---\n",
    "\n",
    "## Save the Figure"
   ]
  },
  {
   "cell_type": "code",
   "execution_count": null,
   "metadata": {},
   "outputs": [],
   "source": [
    "filename = \"SM_vs_Vmax_vs_V1kpc.png\"    \n",
    "    \n",
    "path = os.path.abspath(os.path.join('..', 'Figures', 'MediumResolution'))\n",
    "filename = os.path.join(path, filename)\n",
    "\n",
    "fig.savefig(filename, dpi=300, bbox_inches='tight')"
   ]
  },
  {
   "cell_type": "code",
   "execution_count": null,
   "metadata": {},
   "outputs": [],
   "source": []
  }
 ],
 "metadata": {
  "kernelspec": {
   "display_name": "Python 3",
   "language": "python",
   "name": "python3"
  },
  "language_info": {
   "codemirror_mode": {
    "name": "ipython",
    "version": 3
   },
   "file_extension": ".py",
   "mimetype": "text/x-python",
   "name": "python",
   "nbconvert_exporter": "python",
   "pygments_lexer": "ipython3"
  }
 },
 "nbformat": 4,
 "nbformat_minor": 4
}
