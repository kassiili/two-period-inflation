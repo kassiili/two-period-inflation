{
 "cells": [
  {
   "cell_type": "markdown",
   "metadata": {},
   "source": [
    "## First, imports:"
   ]
  },
  {
   "cell_type": "code",
   "execution_count": null,
   "metadata": {},
   "outputs": [],
   "source": [
    "%load_ext autoreload\n",
    "%autoreload 2\n",
    "\n",
    "%config IPCompleter.greedy=True"
   ]
  },
  {
   "cell_type": "code",
   "execution_count": null,
   "metadata": {},
   "outputs": [],
   "source": [
    "import matplotlib.pyplot as plt\n",
    "import numpy as np\n",
    "from astropy import units"
   ]
  },
  {
   "cell_type": "code",
   "execution_count": null,
   "metadata": {},
   "outputs": [],
   "source": [
    "# Import my library:\n",
    "\n",
    "import os\n",
    "import sys\n",
    "\n",
    "apt_path = os.path.abspath(os.path.join('..', 'apostletools'))\n",
    "sys.path.append(apt_path)\n",
    "\n",
    "import snapshot\n",
    "import subhalo\n",
    "import dataset_comp\n",
    "import curve_fit"
   ]
  },
  {
   "cell_type": "code",
   "execution_count": null,
   "metadata": {},
   "outputs": [],
   "source": [
    "import importlib\n",
    "importlib.reload(snapshot)\n",
    "importlib.reload(subhalo)\n",
    "importlib.reload(dataset_comp)\n",
    "importlib.reload(curve_fit)"
   ]
  },
  {
   "cell_type": "markdown",
   "metadata": {},
   "source": [
    "# Counting Subhalo Bound Particles\n",
    "\n",
    "## Motivation\n",
    "\n",
    "I use $v_\\mathrm{max} = \\max_{r} \\sqrt{\\frac{G M(<r)}{r}}$ as a measure of the mass of a subhalo. Conversely, the total mass of the bound particles is of the order $M_\\mathrm{tot} \\gtrsim M(<r_\\mathrm{max}) = \\frac{r_\\mathrm{max} v_\\mathrm{max}^2}{G}$. \n",
    "\n",
    "---\n",
    "\n",
    "## Set Parameters for the Plots\n",
    "\n",
    "Choose the snapshot and the simulations, and define M31 and MW in each simulation. Also, set the colors used for each simulation:"
   ]
  },
  {
   "cell_type": "code",
   "execution_count": null,
   "metadata": {
    "code_folding": []
   },
   "outputs": [],
   "source": [
    "snap_id = 127\n",
    "sim_ids = ['V1_MR_fix', 'V1_LR_fix']\n",
    "names = ['plain-LCDM', 'plain-LCDM-LR']\n",
    "colors = [['black', 'gray'], ['blue', 'lightblue']]\n",
    "marker = ['o', '^']\n",
    "\n",
    "m31 = [(1,0), (1,0)]\n",
    "mw = [(2,0), (2,0)]"
   ]
  },
  {
   "cell_type": "markdown",
   "metadata": {},
   "source": [
    "Choose how to distinguish between satellite and isolated galaxies:"
   ]
  },
  {
   "cell_type": "code",
   "execution_count": null,
   "metadata": {},
   "outputs": [],
   "source": [
    "distinction = 'by_r'\n",
    "maxdi = 2000 # Maximum distance from LG centre for isolated"
   ]
  },
  {
   "cell_type": "markdown",
   "metadata": {},
   "source": [
    "Set lower limit for the value of $v_\\mathrm{max}$ of the galaxies to be included (separately for satellites and isolated galaxies):"
   ]
  },
  {
   "cell_type": "code",
   "execution_count": null,
   "metadata": {},
   "outputs": [],
   "source": [
    "sat_low = 10\n",
    "isol_low = 15"
   ]
  },
  {
   "cell_type": "markdown",
   "metadata": {},
   "source": [
    "---\n",
    "\n",
    "## Retrieve Data\n",
    "\n",
    "### Create a Dictionary\n",
    "\n",
    "For easy handling of the relevant data, define a data dictionary that, at the top level, has entries for all simulations. Under each simulation entry, add items for the needed datasets and, under the 'Selections' key, a sub-dictionary of masking arrays for each needed condition (e.g. satellite, luminous, $v_\\mathrm{max}$ inside range, etc.).\n",
    "\n",
    "First, add the above definitions into the data dict:"
   ]
  },
  {
   "cell_type": "code",
   "execution_count": null,
   "metadata": {
    "code_folding": []
   },
   "outputs": [],
   "source": [
    "data = {}\n",
    "for name, sim_id, m31_ns, mw_ns, col, mark in \\\n",
    "    zip(names, sim_ids, m31, mw, colors, marker):\n",
    "    data[name] = {'snapshot': snapshot.Snapshot(sim_id, snap_id, name=name),\n",
    "                  'M31_identifier': m31_ns,\n",
    "                  'MW_identifier': mw_ns,\n",
    "                  'PlotStyle': {\n",
    "                      'Color': col,\n",
    "                      'Marker': mark\n",
    "                  }\n",
    "                 }"
   ]
  },
  {
   "cell_type": "markdown",
   "metadata": {},
   "source": [
    "Then, loop over simulations, retrieve data, compute masking arrays, and add to the dictionary:"
   ]
  },
  {
   "cell_type": "code",
   "execution_count": null,
   "metadata": {
    "code_folding": []
   },
   "outputs": [],
   "source": [
    "for name, sim_data in data.items():\n",
    "    # Get data:\n",
    "    snap = sim_data[\"snapshot\"]\n",
    "    max_point = snap.get_subhalos(\"Max_Vcirc\", \"Extended\")\n",
    "    vmax = max_point[:,0] * units.cm.to(units.km)\n",
    "    rmax = max_point[:,1] * units.cm.to(units.kpc)\n",
    "    mass = snap.get_subhalos(\"Mass\") * units.g.to(units.Msun)\n",
    "    sm = snap.get_subhalos(\"Stars/Mass\") * units.g.to(units.Msun)\n",
    "    \n",
    "    # Split into satellites:\n",
    "    if distinction == \"by_r\":\n",
    "        masks_sat, mask_isol = dataset_comp.split_satellites_by_distance_old(\n",
    "            snap, sim_data[\"M31_identifier\"], sim_data[\"MW_identifier\"])\n",
    "    elif distinction == \"by_gn\":\n",
    "        masks_sat, mask_isol = dataset_comp.split_satellites_by_group_number(\n",
    "            snap, sim_data[\"M31_identifier\"], sim_data[\"MW_identifier\"])\n",
    "        \n",
    "    mask_lum, mask_dark = dataset_comp.split_luminous(snap)\n",
    "    \n",
    "    mask_sat_low = dataset_comp.prune_vmax(snap, low_lim=sat_low)\n",
    "    mask_isol_low = dataset_comp.prune_vmax(snap, low_lim=isol_low)\n",
    "    mask_m31 = masks_sat[0]\n",
    "    mask_mw = masks_sat[1]\n",
    "    mask_sat = np.logical_or.reduce(masks_sat)\n",
    "    \n",
    "    mask_pruned = np.logical_or(np.logical_and(mask_sat, mask_sat_low),\n",
    "                                np.logical_and(mask_isol, mask_isol_low))\n",
    "\n",
    "    # Add selections (masking arrays):\n",
    "    data[name]['Selections'] = {\n",
    "        'M31': mask_m31,\n",
    "        'MW': mask_mw,\n",
    "        'Satellite': mask_sat,\n",
    "        'Isolated': mask_isol,\n",
    "        'Luminous': mask_lum,\n",
    "        'Dark': mask_dark,\n",
    "        'PruneSat': mask_sat_low,\n",
    "        'PruneIsol': mask_isol_low,\n",
    "        'Valid': mask_pruned\n",
    "    }\n",
    "        \n",
    "    # Add datasets to dictionary:\n",
    "    data[name]['Vmax'] = vmax\n",
    "    data[name]['Rmax'] = rmax\n",
    "    data[name]['Mass'] = mass\n",
    "    data[name]['LogSM'] = np.log10(sm)\n",
    "    \n",
    "    dm_mass = snap.get_particle_masses(part_type=[1])[0] \\\n",
    "        * units.g.to(units.Msun)\n",
    "    data[name]['DM_Mass'] = dm_mass\n",
    "    data[name]['Eff_DM_num'] = mass / dm_mass"
   ]
  },
  {
   "cell_type": "markdown",
   "metadata": {},
   "source": [
    "---\n",
    "\n",
    "## Plot\n",
    "\n",
    "Plot satellites and isolated galaxies on different subplots and add median fits for each dataset."
   ]
  },
  {
   "cell_type": "code",
   "execution_count": null,
   "metadata": {},
   "outputs": [],
   "source": [
    "# Choose font sizes:\n",
    "parameters = {'axes.titlesize': 10,\n",
    "              'axes.labelsize': 9,\n",
    "              'xtick.labelsize': 6,\n",
    "              'ytick.labelsize': 6,\n",
    "              'legend.fontsize': 8}\n",
    "\n",
    "ms = 8 # Marker size\n",
    "msl = 10\n",
    "a = 0.7 # Transparency"
   ]
  },
  {
   "cell_type": "code",
   "execution_count": null,
   "metadata": {},
   "outputs": [],
   "source": [
    "# Set marker size limits:\n",
    "smin = 2; smax = 12\n",
    "mmin = 10**10; mmax = 0\n",
    "\n",
    "# Iterate through simulations to find largest value of vmax:\n",
    "for sim_data in data.values():    \n",
    "    mmin = min(\n",
    "        mmin, np.min(sim_data['LogSM'][\n",
    "            np.logical_and(sim_data['Selections']['Valid'], sim_data['LogSM'] != -np.inf)\n",
    "        ])\n",
    "    )    \n",
    "    mmax = max(\n",
    "        mmax, np.max(sim_data['LogSM'][\n",
    "            np.logical_and(sim_data['Selections']['Valid'], sim_data['LogSM'] != -np.inf)\n",
    "        ])\n",
    "    )\n",
    "\n",
    "def mass_to_marker(x):\n",
    "    return 1/(mmax-mmin) * (smax*(x-mmin) - smin*(x-mmax))"
   ]
  },
  {
   "cell_type": "code",
   "execution_count": null,
   "metadata": {},
   "outputs": [],
   "source": [
    "print(mmin, mmax)"
   ]
  },
  {
   "cell_type": "code",
   "execution_count": null,
   "metadata": {},
   "outputs": [],
   "source": [
    "# Set fonts:\n",
    "plt.rcParams.update(parameters)\n",
    "plt.tight_layout()\n",
    "\n",
    "fig, axes = plt.subplots(ncols=2, sharey='row', figsize=(8,4))\n",
    "plt.subplots_adjust(wspace=0.05)\n",
    "\n",
    "# Set axis:\n",
    "for ax in axes:\n",
    "    ax.set_xscale('log')\n",
    "    ax.set_box_aspect(0.9) # Set subfigure box side aspect ratio\n",
    "    \n",
    "axes[0].set_xlim(2, 110)    \n",
    "axes[1].set_xlim(2, 110)\n",
    "axes[0].set_xlabel('$v_{\\mathrm{max}}[\\mathrm{km s^{-1}}]$' )\n",
    "axes[1].set_xlabel('$v_{\\mathrm{max}}[\\mathrm{km s^{-1}}]$' )\n",
    "\n",
    "axes[0].set_yscale('log')\n",
    "# axes[0].set_ylim(15, 10**6)    \n",
    "axes[0].set_ylabel('$M / M_\\mathrm{DM}$' )\n",
    "\n",
    "axes[0].set_title('Satellite Galaxies' )\n",
    "axes[1].set_title('Isolated Galaxies' )\n",
    "\n",
    "# Add scatter plots:\n",
    "for i, (name, entry) in enumerate(data.items()):\n",
    "    \n",
    "    # Plot dark:\n",
    "    mask = np.logical_and(entry['Selections']['Satellite'],\n",
    "                          entry['Selections']['Dark'])\n",
    "    axes[0].scatter(entry['Vmax'][mask], entry['Eff_DM_num'][mask], \n",
    "                    s=ms, edgecolor='none', alpha=a,\n",
    "                    c=entry['PlotStyle']['Color'][1],\n",
    "                    label=\"{} non-SF\".format(name))\n",
    "    \n",
    "    mask = np.logical_and(entry['Selections']['Isolated'],\n",
    "                          entry['Selections']['Dark'])\n",
    "    axes[1].scatter(entry['Vmax'][mask], entry['Eff_DM_num'][mask], \n",
    "                    s=ms, edgecolor='none', alpha=a,\n",
    "                    c=entry['PlotStyle']['Color'][1],\n",
    "                    label=\"{} non-SF\".format(name))\n",
    "    \n",
    "    # Plot luminous:\n",
    "    mask = np.logical_and(entry['Selections']['Satellite'],\n",
    "                          entry['Selections']['Luminous'])\n",
    "    axes[0].scatter(entry['Vmax'][mask], entry['Eff_DM_num'][mask], \n",
    "                    s=mass_to_marker(entry['LogSM'][mask]),\n",
    "                    facecolors='none', alpha=a,\n",
    "                    edgecolors=entry['PlotStyle']['Color'][0],\n",
    "                    label=\"{} SF\".format(name))\n",
    "    \n",
    "    mask = np.logical_and(entry['Selections']['Isolated'],\n",
    "                          entry['Selections']['Luminous'])\n",
    "    axes[1].scatter(entry['Vmax'][mask], entry['Eff_DM_num'][mask], \n",
    "                    s=mass_to_marker(entry['LogSM'][mask]),\n",
    "                    facecolors='none', alpha=a,\n",
    "                    edgecolors=entry['PlotStyle']['Color'][0],\n",
    "                    label=\"{} SF\".format(name))\n",
    "\n",
    "axes[1].legend(loc='upper left')"
   ]
  },
  {
   "cell_type": "code",
   "execution_count": null,
   "metadata": {},
   "outputs": [],
   "source": [
    "text = \"\"\n",
    "\n",
    "# Add scatter plots:\n",
    "y_add = 0\n",
    "for name, entry in data.items():\n",
    "    \n",
    "    # Add text box:\n",
    "    axes[0].text(0.1, 0.9 - y_add, \"$M_\\mathrm{{DM}} = {:.2E}$\\n\".format(entry['DM_Mass']), \n",
    "                 transform=axes[0].transAxes, ha=\"left\", va=\"top\", \n",
    "                 c=entry['PlotStyle']['Color'][0])\n",
    "    y_add += 0.1\n",
    "\n",
    "fig"
   ]
  },
  {
   "cell_type": "markdown",
   "metadata": {},
   "source": [
    "### Discussion\n",
    "\n",
    "As can be seen in the figure, the minimum particle limit of SUBFIND is 20. A physically representative subhalo should, however, consist of around ~100 self-bound particles. For isolated galaxies, this is easily achieved by limiting to $v_\\mathrm{max} < 15 \\mathrm{km/s}$. \n",
    "\n",
    "Satellite galaxies of a certain size tend to have less particles than similar size isolated galaxies. This is because the lost particles are from the outer parts of the halo. These particles are tightly bound, and thus the subhalo can be considered physically meaningful even with less particles. \n",
    "\n",
    "Also, note that nearly all star and gas particles are less massive than the DM particles, which is why the star-forming subhalos have a different relation."
   ]
  },
  {
   "cell_type": "markdown",
   "metadata": {},
   "source": [
    "### Save the Figures"
   ]
  },
  {
   "cell_type": "code",
   "execution_count": null,
   "metadata": {},
   "outputs": [],
   "source": [
    "filename = 'count_bound'\n",
    "for name in names:\n",
    "    filename += '_{}'.format(name)\n",
    "filename += '.png'\n",
    "    \n",
    "path = os.path.abspath(os.path.join('..', 'Figures', 'MediumResolution'))\n",
    "filename = os.path.join(path, filename)\n",
    "\n",
    "fig.savefig(filename, dpi=300, bbox_inches='tight')"
   ]
  },
  {
   "cell_type": "code",
   "execution_count": null,
   "metadata": {},
   "outputs": [],
   "source": []
  },
  {
   "cell_type": "code",
   "execution_count": null,
   "metadata": {},
   "outputs": [],
   "source": [
    "ids = data['plain-LCDM-LR']['snapshot'].get_subhalos_IDs(part_type=[0,1,4,5])\n",
    "partnums = np.array([arr.size for arr in ids])\n",
    "print(np.min(partnums))"
   ]
  },
  {
   "cell_type": "code",
   "execution_count": null,
   "metadata": {},
   "outputs": [],
   "source": []
  }
 ],
 "metadata": {
  "kernelspec": {
   "display_name": "Python 3",
   "language": "python",
   "name": "python3"
  },
  "language_info": {
   "codemirror_mode": {
    "name": "ipython",
    "version": 3
   },
   "file_extension": ".py",
   "mimetype": "text/x-python",
   "name": "python",
   "nbconvert_exporter": "python",
   "pygments_lexer": "ipython3"
  }
 },
 "nbformat": 4,
 "nbformat_minor": 4
}
