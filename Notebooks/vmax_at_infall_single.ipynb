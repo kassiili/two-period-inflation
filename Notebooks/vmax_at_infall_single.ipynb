{
 "cells": [
  {
   "cell_type": "markdown",
   "metadata": {},
   "source": [
    "## First, imports:"
   ]
  },
  {
   "cell_type": "code",
   "execution_count": null,
   "metadata": {},
   "outputs": [],
   "source": [
    "%load_ext autoreload\n",
    "%autoreload 2\n",
    "\n",
    "%config IPCompleter.greedy=True"
   ]
  },
  {
   "cell_type": "code",
   "execution_count": null,
   "metadata": {},
   "outputs": [],
   "source": [
    "import numpy as np\n",
    "import matplotlib.pyplot as plt\n",
    "from matplotlib.colors import LinearSegmentedColormap\n",
    "from matplotlib import cm\n",
    "from scipy.interpolate import interp1d\n",
    "\n",
    "from astropy import units\n",
    "from astropy.cosmology import FlatLambdaCDM, z_at_value"
   ]
  },
  {
   "cell_type": "markdown",
   "metadata": {},
   "source": [
    "Import my library:"
   ]
  },
  {
   "cell_type": "code",
   "execution_count": null,
   "metadata": {},
   "outputs": [],
   "source": [
    "import os\n",
    "import sys\n",
    "\n",
    "apt_path = os.path.abspath(os.path.join('..', 'apostletools'))\n",
    "sys.path.append(apt_path)\n",
    "\n",
    "import simulation\n",
    "import simtrace\n",
    "import match_halo\n",
    "import dataset_comp\n",
    "import curve_fit"
   ]
  },
  {
   "cell_type": "code",
   "execution_count": null,
   "metadata": {},
   "outputs": [],
   "source": [
    "import importlib\n",
    "importlib.reload(simulation)\n",
    "importlib.reload(simtrace)\n",
    "importlib.reload(match_halo)\n",
    "importlib.reload(dataset_comp)\n",
    "importlib.reload(curve_fit)"
   ]
  },
  {
   "cell_type": "markdown",
   "metadata": {},
   "source": [
    "# $v_\\mathrm{max}$ at Fall-in\n",
    "\n",
    "To look for a reasonable low-mass limit for satellites subhalo, I inspect the relation of the $v_\\mathrm{max}$ values at $z=0$ and at the time, when they fell into orbit of their respective centrals."
   ]
  },
  {
   "cell_type": "code",
   "execution_count": null,
   "metadata": {},
   "outputs": [],
   "source": [
    "snap_id_ref = 127\n",
    "snap_id_z0 = 127"
   ]
  },
  {
   "cell_type": "markdown",
   "metadata": {},
   "source": [
    "---\n",
    "\n",
    "### Medium Resolution Simulations\n",
    "\n",
    "Set the envelope file path, and define the M31 and the MW at redshift $z=0$:"
   ]
  },
  {
   "cell_type": "code",
   "execution_count": null,
   "metadata": {},
   "outputs": [],
   "source": [
    "data = {\n",
    "    \"plain-LCDM\": {\n",
    "        \"Simulation\": simulation.Simulation(\"V1_MR_fix\"),\n",
    "        \"Color\": ['blue', 'lightblue'],\n",
    "        \"Colormap\": cm.Blues,\n",
    "        \"M31_z0\": (1, 0),\n",
    "        \"MW_z0\": (2, 0)\n",
    "    },\n",
    "    \"curv-p082\": {\n",
    "        \"Simulation\": simulation.Simulation(\"V1_MR_curvaton_p082_fix\"),\n",
    "        \"Color\": ['red', 'pink'],\n",
    "        \"Colormap\": cm.Reds,\n",
    "        \"M31_z0\": (1, 0),\n",
    "        \"MW_z0\": (1, 1)\n",
    "    }\n",
    "}"
   ]
  },
  {
   "cell_type": "markdown",
   "metadata": {},
   "source": [
    "---\n",
    "\n",
    "## Tracing\n",
    "\n",
    "Set the range of snapshots to be traced:"
   ]
  },
  {
   "cell_type": "code",
   "execution_count": null,
   "metadata": {},
   "outputs": [],
   "source": [
    "snap_start = 100\n",
    "snap_stop = 128\n",
    "snap_ids = np.arange(snap_start, snap_stop)"
   ]
  },
  {
   "cell_type": "markdown",
   "metadata": {},
   "source": [
    "Link all subhalos in the simulation, create Subhalo objects for all the individual subhalos found, and write pointers to these objects for each snapshot:"
   ]
  },
  {
   "cell_type": "code",
   "execution_count": null,
   "metadata": {},
   "outputs": [],
   "source": [
    "matcher = match_halo.SnapshotMatcher(n_link_ref=20, n_matches=1)\n",
    "\n",
    "for sim_data in data.values():\n",
    "    sim = sim_data[\"Simulation\"]\n",
    "\n",
    "    # If the simulations are not already linked:\n",
    "    mtree = simtrace.MergerTree(sim, matcher=matcher, branching=\"BackwardBranching\")\n",
    "    mtree.build_tree(snap_start, snap_stop)\n",
    "\n",
    "    # Trace subhalos and get the M31 and the MW Subhalo objects:\n",
    "    sub_dict = sim.trace_subhalos(snap_start, snap_stop)\n",
    "    sim_data[\"Subhalos\"] = sub_dict"
   ]
  },
  {
   "cell_type": "markdown",
   "metadata": {},
   "source": [
    "Get the M31 and the MW halos and compute masking arrays for their satellites (and isolated subhalos) at `snap_id_ref`:"
   ]
  },
  {
   "cell_type": "code",
   "execution_count": null,
   "metadata": {},
   "outputs": [],
   "source": [
    "for sim_data in data.values():\n",
    "    sim = sim_data[\"Simulation\"]\n",
    "    sub_dict = sim_data[\"Subhalos\"]\n",
    "    \n",
    "    # Get the M31 subhalo:\n",
    "    m31_id = sim_data[\"M31_z0\"]\n",
    "    m31 = sub_dict[snap_id_z0][\n",
    "        sim.get_snapshot(snap_id_z0).index_of_halo(m31_id[0], m31_id[1])\n",
    "    ]\n",
    "    sim_data[\"M31\"] = m31 \n",
    "    \n",
    "    # Get the MW subhalo:\n",
    "    mw_id = sim_data[\"MW_z0\"]\n",
    "    mw = sub_dict[snap_id_z0][\n",
    "        sim.get_snapshot(snap_id_z0).index_of_halo(mw_id[0], mw_id[1])\n",
    "    ]\n",
    "    sim_data[\"MW\"] = mw\n",
    "    \n",
    "    # Get masking arrays for satellites (at z=z_ref):\n",
    "    mask_m31, mask_mw, mask_isol = dataset_comp.split_satellites_by_distance(\n",
    "        sim.get_snapshot(snap_id_ref), m31_id, mw_id, sat_r=300, isol_r=2000, comov=True\n",
    "    )\n",
    "    sim_data[\"Ref_Selections\"] = {\"M31_Satellites\": mask_m31,\n",
    "                                  \"MW_Satellites\": mask_mw,\n",
    "                                  \"LG_Satellites\": np.logical_or(mask_m31, mask_mw),\n",
    "                                  \"Isolated\": mask_isol}"
   ]
  },
  {
   "cell_type": "markdown",
   "metadata": {
    "tags": []
   },
   "source": [
    "---\n",
    "\n",
    "## Retrieve the Datasets\n",
    "\n",
    "Read all datasets into dictionaries by snapshot:"
   ]
  },
  {
   "cell_type": "code",
   "execution_count": null,
   "metadata": {},
   "outputs": [],
   "source": [
    "# Define the cosmology (should be the same for each simulation):\n",
    "for sim_data in data.values():\n",
    "    H0 = sim_data[\"Simulation\"].get_snapshot(snap_stop-1)\\\n",
    "        .get_attribute(\"HubbleParam\", \"Header\")\n",
    "    Om0 = sim_data[\"Simulation\"].get_snapshot(snap_stop-1)\\\n",
    "        .get_attribute(\"Omega0\", \"Header\")\n",
    "#     print(H0, Om0)\n",
    "cosmo = FlatLambdaCDM(H0=100 * H0, Om0=Om0) "
   ]
  },
  {
   "cell_type": "code",
   "execution_count": null,
   "metadata": {},
   "outputs": [],
   "source": [
    "sat_low_lim = 10\n",
    "isol_low_lim = 10\n",
    "vmax_lim = 10\n",
    "\n",
    "for sim_data in data.values():\n",
    "    sim = sim_data[\"Simulation\"]\n",
    "    sub_dict = sim_data[\"Subhalos\"]\n",
    "    \n",
    "    # Get snapshot redshifts and the respective lookback times:\n",
    "    redshift = sim.get_attribute(\"Redshift\", \"Header\", snap_ids)\n",
    "    lookback_time = cosmo.age(0).value - np.array([cosmo.age(z).value for z in redshift])\n",
    "    sim_data[\"Redshift\"] = redshift\n",
    "    sim_data[\"LookbackTime\"] = lookback_time\n",
    "    \n",
    "    # Get v_max at snap_ref and at the time of fallin:\n",
    "    vmax_dict = {snap_id: vmax_arr[:, 0] * units.cm.to(units.km) for snap_id, vmax_arr in\n",
    "                 sim.get_subhalos(snap_ids, \"Max_Vcirc\", \"Extended\").items()}\n",
    "    sim_data[\"Vmax\"] = vmax_dict[snap_id_ref]\n",
    "    \n",
    "    fallin_m31, fallin_mw = simtrace.get_fallin_times_lg(\n",
    "        sim, sim_data[\"M31\"], sim_data[\"MW\"], snap_start, snap_stop, first_infall=True\n",
    "    )    \n",
    "    vmax_fallin_m31, snap_id_fallin_m31 = dataset_comp.get_subhalos_at_fallin(\n",
    "        sub_dict[snap_id_ref], fallin_m31, vmax_dict\n",
    "    )    \n",
    "    vmax_fallin_mw, snap_id_fallin_mw = dataset_comp.get_subhalos_at_fallin(\n",
    "        sub_dict[snap_id_ref], fallin_mw, vmax_dict\n",
    "    )\n",
    "    \n",
    "    sim_data[\"Vmax_Fallin_M31\"] = vmax_fallin_m31\n",
    "    sim_data[\"Vmax_Fallin_MW\"] = vmax_fallin_mw\n",
    "    vmax_infall = np.where(~np.isnan(vmax_fallin_m31), \n",
    "                           vmax_fallin_m31,\n",
    "                           vmax_fallin_mw)\n",
    "    sim_data[\"Vmax_Fallin\"] = vmax_infall\n",
    "        \n",
    "    snap_id_fallin = np.where(~np.isnan(snap_id_fallin_m31),\n",
    "                              snap_id_fallin_m31,\n",
    "                              snap_id_fallin_mw)\n",
    "    inds = np.searchsorted(snap_ids, snap_id_fallin)\n",
    "    inds[inds == snap_ids.size] = -1\n",
    "    sim_data[\"Time_Fallin\"] = np.where(inds != -1, lookback_time[inds], np.nan)\n",
    "    \n",
    "    # Masking arrays for subhalos at snap_ref:\n",
    "    snap_ref = sim.get_snapshot(snap_id_ref)\n",
    "    mask_lum, mask_dark = dataset_comp.split_luminous(snap_ref)\n",
    "    sim_data[\"Ref_Selections\"].update({\n",
    "        \"Vmax_Sat\": dataset_comp.prune_vmax(snap_ref, low_lim=sat_low_lim),\n",
    "        \"Vmax_Isol\": dataset_comp.prune_vmax(snap_ref, low_lim=isol_low_lim),\n",
    "        \"Luminous\": mask_lum,\n",
    "        \"Dark\": mask_dark\n",
    "    })\n",
    "    \n",
    "    sim_data[\"Ref_Selections\"][\"Vmax_Infall\"] = np.where(\n",
    "        ~np.isnan(vmax_infall), (vmax_infall > vmax_lim), False\n",
    "    )"
   ]
  },
  {
   "cell_type": "code",
   "execution_count": null,
   "metadata": {},
   "outputs": [],
   "source": [
    "min_time = round(min(list(data.values())[0]['LookbackTime']), 5)\n",
    "max_time = round(max(list(data.values())[0]['LookbackTime']), 5)\n",
    "print(min_time, max_time)\n",
    "\n",
    "norm_func = plt.Normalize(vmin=min_time, vmax=max_time)"
   ]
  },
  {
   "cell_type": "code",
   "execution_count": null,
   "metadata": {},
   "outputs": [],
   "source": [
    "data[\"plain-LCDM\"][\"Colormap\"] = cm.Blues\n",
    "data[\"curv-p082\"][\"Colormap\"] = cm.Reds\n"
   ]
  },
  {
   "cell_type": "code",
   "execution_count": null,
   "metadata": {},
   "outputs": [],
   "source": [
    "# shades of blue, mapping values from minval to maxval\n",
    "minval = 0.2\n",
    "maxval = 1\n",
    "\n",
    "for sim_data in data.values():\n",
    "    cmap = sim_data[\"Colormap\"]\n",
    "\n",
    "    sim_data[\"Colormap\"] = LinearSegmentedColormap.from_list(\n",
    "        'trunc({n},{a:.2f},{b:.2f})'.format(n=cmap.name, a=minval, b=maxval),\n",
    "        cmap(np.linspace(minval, maxval, 100))\n",
    "    )"
   ]
  },
  {
   "cell_type": "markdown",
   "metadata": {},
   "source": [
    "### Set Plot Parameters"
   ]
  },
  {
   "cell_type": "code",
   "execution_count": null,
   "metadata": {},
   "outputs": [],
   "source": [
    "# Choose font sizes:\n",
    "parameters = {'axes.titlesize': 10,\n",
    "              'axes.labelsize': 9,\n",
    "              'xtick.labelsize': 6,\n",
    "              'ytick.labelsize': 6,\n",
    "              'legend.fontsize': 8}\n",
    "\n",
    "ms = 10 # Marker size\n",
    "msl = 15\n",
    "a = 0.75 # Transparency"
   ]
  },
  {
   "cell_type": "markdown",
   "metadata": {
    "jp-MarkdownHeadingCollapsed": true,
    "tags": []
   },
   "source": [
    "### Check that colormaps will align"
   ]
  },
  {
   "cell_type": "code",
   "execution_count": null,
   "metadata": {
    "jupyter": {
     "outputs_hidden": true
    },
    "tags": []
   },
   "outputs": [],
   "source": [
    "for sim_data in data.values():\n",
    "    mask = np.logical_and(sim_data['Ref_Selections']['LG_Satellites'],\n",
    "                          sim_data['Ref_Selections']['Dark'])\n",
    "    fi_dark = sim_data['Time_Fallin'][mask]\n",
    "\n",
    "    mask = np.logical_and(sim_data['Ref_Selections']['LG_Satellites'],\n",
    "                          sim_data['Ref_Selections']['Luminous'])\n",
    "    fi_lum = sim_data['Time_Fallin'][mask]\n",
    "\n",
    "    print(min(fi_dark), max(fi_dark))\n",
    "    print(min(fi_lum), max(fi_lum))"
   ]
  },
  {
   "cell_type": "code",
   "execution_count": null,
   "metadata": {
    "jupyter": {
     "outputs_hidden": true
    },
    "tags": []
   },
   "outputs": [],
   "source": [
    "min_time = 10**10\n",
    "max_time = 0\n",
    "\n",
    "for sim_data in data.values():\n",
    "    mask_dark = np.logical_and(sim_data['Ref_Selections']['LG_Satellites'],\n",
    "                          sim_data['Ref_Selections']['Dark'])\n",
    "    mask_lum = np.logical_and(sim_data['Ref_Selections']['LG_Satellites'],\n",
    "                          sim_data['Ref_Selections']['Luminous'])\n",
    "    \n",
    "    min_time = min([min_time, sim_data['Time_Fallin'][mask_dark].min(), \n",
    "                    sim_data['Time_Fallin'][mask_lum].min()])\n",
    "    max_time = max([max_time, sim_data['Time_Fallin'][mask_dark].max(), \n",
    "                    sim_data['Time_Fallin'][mask_lum].max()])\n",
    "min_time = round(min_time, 5)\n",
    "max_time = round(max_time, 5)\n",
    "print(min_time, max_time)\n",
    "\n",
    "norm_func = plt.Normalize(vmin=min_time, vmax=max_time)"
   ]
  },
  {
   "cell_type": "code",
   "execution_count": null,
   "metadata": {
    "jupyter": {
     "outputs_hidden": true
    },
    "tags": []
   },
   "outputs": [],
   "source": [
    "min_time = min(list(data.values())[0]['LookbackTime'])\n",
    "max_time = max(list(data.values())[0]['LookbackTime'])\n",
    "min_time = round(min_time, 5)\n",
    "max_time = round(max_time, 5)\n",
    "print(min_time, max_time)\n",
    "\n",
    "norm_func = plt.Normalize(vmin=min_time, vmax=max_time)"
   ]
  },
  {
   "cell_type": "markdown",
   "metadata": {
    "tags": []
   },
   "source": [
    "### Create Blank Plot"
   ]
  },
  {
   "cell_type": "code",
   "execution_count": null,
   "metadata": {},
   "outputs": [],
   "source": [
    "# Set fonts:\n",
    "plt.rcParams.update(parameters)\n",
    "plt.tight_layout()\n",
    "\n",
    "fig, ax = plt.subplots(figsize=(5, 5))\n",
    "plt.subplots_adjust(wspace=0.05)\n",
    "\n",
    "# Set axis:\n",
    "ax.set_xscale('log')\n",
    "ax.set_yscale('log')\n",
    "ax.set_box_aspect(0.9) # Set subfigure box side aspect ratio\n",
    "\n",
    "ax.set_xlim(5, 110)\n",
    "ax.set_ylim(0.8, 4) \n",
    "\n",
    "ax.yaxis.set_ticks_position('both')\n",
    "ax.set_xlabel(\"$v_\\mathrm{max}(z=0) ~ [\\mathrm{km/s}]$\")\n",
    "ax.set_ylabel(\"$v_\\mathrm{max}(z=z_\\mathrm{infall}) ~/~ v_\\mathrm{max}(z=0)$\")\n",
    "\n",
    "# ax.set_ylabel(\"$N_{[\\cdot]}(z) ~/~ N_\\mathrm{tot}(z=0)$\")\n",
    "# ax.set_title(\"Satellite Subhalos\")"
   ]
  },
  {
   "cell_type": "markdown",
   "metadata": {
    "tags": []
   },
   "source": [
    "### ... And Plot"
   ]
  },
  {
   "cell_type": "code",
   "execution_count": null,
   "metadata": {},
   "outputs": [],
   "source": [
    "sc = []\n",
    "for sim_name, sim_data in data.items():\n",
    "\n",
    "    cmap = sim_data['Colormap'] \n",
    "\n",
    "    # Plot dark\n",
    "    # ---------\n",
    "\n",
    "    mask = np.logical_and(sim_data['Ref_Selections']['LG_Satellites'],\n",
    "                          sim_data['Ref_Selections']['Dark'])\n",
    "    time = sim_data['Time_Fallin'][mask]\n",
    "    x = sim_data['Vmax'][mask]\n",
    "    y = sim_data['Vmax_Fallin'][mask] / x\n",
    "    ax.scatter(x, y, s=ms, edgecolor='none', alpha=a, c=cmap(norm_func(time)),\n",
    "               label=\"{} non-SF\".format(sim_name))\n",
    "\n",
    "    # Plot luminous\n",
    "    # -------------\n",
    "\n",
    "    mask = np.logical_and(sim_data['Ref_Selections']['LG_Satellites'],\n",
    "                          sim_data['Ref_Selections']['Luminous'])\n",
    "    time = sim_data['Time_Fallin'][mask]\n",
    "\n",
    "    x = sim_data['Vmax'][mask]\n",
    "    y = sim_data['Vmax_Fallin'][mask] / x\n",
    "    # Save output for colorbar:\n",
    "    sc.append(ax.scatter(x, y, s=msl, facecolor='none', alpha=a, \n",
    "                         edgecolor=cmap(norm_func(time)),          \n",
    "                         label=\"{} SF\".format(sim_name)))\n",
    "\n",
    "    # ax.axhline(15, c=\"gray\", linestyle=\"dotted\")    \n",
    "\n",
    "sc[0].set_clim(vmin=min_time, vmax=max_time)\n",
    "sc[0].set_cmap(data[\"plain-LCDM\"][\"Colormap\"])\n",
    "cax = fig.add_axes([0.92, 0.25, 0.03, 0.5])\n",
    "cbar = fig.colorbar(sc[0], cax=cax, orientation='vertical')\n",
    "cbar.set_ticks([])\n",
    "\n",
    "sc[1].set_clim(vmin=min_time, vmax=max_time)\n",
    "sc[1].set_cmap(data[\"curv-p082\"][\"Colormap\"])\n",
    "cax = fig.add_axes([0.95, 0.25, 0.03, 0.5])\n",
    "cbar = fig.colorbar(sc[1], cax=cax, orientation='vertical')\n",
    "cbar.ax.set_ylabel(\"Lookback Time at Infall [Gyr]\")\n",
    "\n",
    "fig"
   ]
  },
  {
   "cell_type": "code",
   "execution_count": null,
   "metadata": {},
   "outputs": [],
   "source": [
    "x = 10**np.linspace(0, 2, 10000)\n",
    "y = vmax_lim / x\n",
    "\n",
    "ax.plot(x, y, c='black', linestyle='dotted')\n",
    "fig"
   ]
  },
  {
   "cell_type": "markdown",
   "metadata": {},
   "source": [
    "### Add Median Curves"
   ]
  },
  {
   "cell_type": "code",
   "execution_count": null,
   "metadata": {},
   "outputs": [],
   "source": [
    "n_median_bins = 5\n",
    "for i, (sim_name, sim_data) in enumerate(data.items()):\n",
    "    \n",
    "    # mask = sim_data['Ref_Selections']['LG_Satellites']  \n",
    "    mask = np.logical_and(sim_data['Ref_Selections']['LG_Satellites'],\n",
    "                          sim_data['Ref_Selections']['Vmax_Infall'])\n",
    "    \n",
    "    time = sim_data['Time_Fallin'][mask]\n",
    "    x = sim_data['Vmax'][mask]\n",
    "    y = sim_data['Vmax_Fallin'][mask] / x\n",
    "    \n",
    "    x = np.log10(x)\n",
    "    y = np.log10(y)\n",
    "    median = curve_fit.median_trend_fixed_bin_width(\n",
    "        x, y, n_bins=n_median_bins\n",
    "    )\n",
    "    if median is not None:\n",
    "        ax.plot(10**median[0], 10**median[1], \n",
    "                sim_data['Color'][0], linestyle='--')\n",
    "    else:\n",
    "        print(\"Could not fit median for:\", name)\n",
    "        \n",
    "fig"
   ]
  },
  {
   "cell_type": "code",
   "execution_count": null,
   "metadata": {},
   "outputs": [],
   "source": [
    "n_median_bins = 5\n",
    "for i, (sim_name, sim_data) in enumerate(data.items()):\n",
    "    \n",
    "    # mask = sim_data['Ref_Selections']['LG_Satellites']  \n",
    "    mask = np.logical_and(sim_data['Ref_Selections']['LG_Satellites'],\n",
    "                          sim_data['Ref_Selections']['Vmax_Infall'])\n",
    "    \n",
    "    time = sim_data['Time_Fallin'][mask]\n",
    "    x = sim_data['Vmax'][mask]\n",
    "    y = sim_data['Vmax_Fallin'][mask] / x\n",
    "    \n",
    "    x = np.log10(x)\n",
    "    y = np.log10(y)\n",
    "    median = curve_fit.median_trend_fixed_bin_width(\n",
    "        x, y, n_bins=n_median_bins\n",
    "    )\n",
    "    if median is not None:\n",
    "        ax.plot(10**median[0], 10**median[1], \n",
    "                sim_data['Color'][0], linestyle='--')\n",
    "    else:\n",
    "        print(\"Could not fit median for:\", name)\n",
    "        \n",
    "fig"
   ]
  },
  {
   "cell_type": "markdown",
   "metadata": {},
   "source": [
    "### Save the Figures"
   ]
  },
  {
   "cell_type": "code",
   "execution_count": null,
   "metadata": {},
   "outputs": [],
   "source": [
    "filename = 'vmax_at_infall'\n",
    "for name in data.keys():\n",
    "    filename += '_{}'.format(name)\n",
    "filename += '.png'\n",
    "    \n",
    "path = os.path.abspath(os.path.join('..', 'Figures', 'MediumResolution'))\n",
    "filename = os.path.join(path, filename)\n",
    "\n",
    "fig.savefig(filename, dpi=300, bbox_inches='tight')"
   ]
  },
  {
   "cell_type": "code",
   "execution_count": null,
   "metadata": {},
   "outputs": [],
   "source": []
  }
 ],
 "metadata": {
  "kernelspec": {
   "display_name": "Python 3",
   "language": "python",
   "name": "python3"
  },
  "language_info": {
   "codemirror_mode": {
    "name": "ipython",
    "version": 3
   },
   "file_extension": ".py",
   "mimetype": "text/x-python",
   "name": "python",
   "nbconvert_exporter": "python",
   "pygments_lexer": "ipython3"
  }
 },
 "nbformat": 4,
 "nbformat_minor": 4
}
