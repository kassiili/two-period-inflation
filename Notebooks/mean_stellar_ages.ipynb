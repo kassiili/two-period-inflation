{
 "cells": [
  {
   "cell_type": "markdown",
   "metadata": {},
   "source": [
    "## First, imports:"
   ]
  },
  {
   "cell_type": "code",
   "execution_count": null,
   "metadata": {},
   "outputs": [],
   "source": [
    "%load_ext autoreload\n",
    "%autoreload 2\n",
    "\n",
    "%config IPCompleter.greedy=True"
   ]
  },
  {
   "cell_type": "code",
   "execution_count": null,
   "metadata": {},
   "outputs": [],
   "source": [
    "import matplotlib.pyplot as plt\n",
    "import numpy as np\n",
    "from astropy import units\n",
    "from astropy.cosmology import FlatLambdaCDM, z_at_value"
   ]
  },
  {
   "cell_type": "markdown",
   "metadata": {},
   "source": [
    "Import my library:"
   ]
  },
  {
   "cell_type": "code",
   "execution_count": null,
   "metadata": {},
   "outputs": [],
   "source": [
    "import os\n",
    "import sys\n",
    "\n",
    "apt_path = os.path.abspath(os.path.join(\"..\", \"apostletools\"))\n",
    "sys.path.append(apt_path)\n",
    "\n",
    "import snapshot\n",
    "import dataset_comp"
   ]
  },
  {
   "cell_type": "code",
   "execution_count": null,
   "metadata": {},
   "outputs": [],
   "source": [
    "import importlib\n",
    "importlib.reload(snapshot)\n",
    "importlib.reload(dataset_comp)"
   ]
  },
  {
   "cell_type": "markdown",
   "metadata": {},
   "source": [
    "# Mass Distribution of Subhalos\n",
    "\n",
    "To visualize the mass distribution, at $z=0$, I plot a simple subhalo count accumulation curve, which at any point on the mass axis gives the total number of subhalos (or of satellite or isolated galaxies) with masses larger than the given mass. Mass is measured by $v_\\mathrm{max} = \\max_{r} \\sqrt{\\frac{G M(<r)}{r}}$.\n",
    "\n",
    "## Motivation\n",
    "\n",
    "Plenty of interesting and instructive observations can be made from the mass distribution figure alone. For the curv-p08* simulation, we expect find an indication of inhibited structure formation towards the small scales, relative to the plain-lcdm. However, on the larger scales, the curves from different simulations should approach each other (although random effects from low number counts also come into play). \n",
    "\n",
    "But the absence of small-scale power in the initial physical power spectrum means that the component of power that is due to numerical noise also becomes more significant --- and, indeed, will dominate on small enough scales (shot noise becomes more relevant towards the resolution limits of the simulation). This is expected to be visible in the mass function as well.\n",
    "\n",
    "Furthermore, the mass functions satellite galaxies and isolated galaxies in any simulations should be expected to differ. \n",
    "\n",
    "From the single plot alone, it is impossible to make the connection between any particular feature of the mass function and any of the above-mentioned potential causes. Of course, we are also only looking at a single simulated instance of the LG.\n",
    "\n",
    "---\n",
    "\n",
    "## Set Parameters for the Plots\n",
    "\n",
    "Choose the snapshot and the simulations, and define M31 and MW in each simulation:"
   ]
  },
  {
   "cell_type": "markdown",
   "metadata": {},
   "source": [
    "Create a dictionary of the datasets from each simulation. "
   ]
  },
  {
   "cell_type": "code",
   "execution_count": null,
   "metadata": {
    "tags": []
   },
   "outputs": [],
   "source": [
    "snap_id = 127\n",
    "data = {\n",
    "    \"plain-LCDM-LR\": {\n",
    "        \"Snapshot\": snapshot.Snapshot(\"V1_LR_fix\", snap_id),\n",
    "        \"M31_ID\": (1, 0),\n",
    "        \"MW_ID\": (2, 0),\n",
    "        \"Color\": [\"gray\"]\n",
    "    },\n",
    "    \"curv-p082-LR\": {\n",
    "        \"Snapshot\": snapshot.Snapshot(\"V1_LR_curvaton_p082_fix\", snap_id),\n",
    "        \"M31_ID\": (1, 0),\n",
    "        \"MW_ID\": (1, 1),\n",
    "        \"Color\": [\"pink\"]\n",
    "    },\n",
    "    \"curv-p084-LR\": {\n",
    "        \"Snapshot\": snapshot.Snapshot(\"V1_LR_curvaton_p084_fix\", snap_id),\n",
    "        \"M31_ID\": (1, 0),\n",
    "        \"MW_ID\": (1, 0),\n",
    "        \"Color\": [\"lightblue\"]\n",
    "    },\n",
    "    \"plain-LCDM\": {\n",
    "        \"Snapshot\": snapshot.Snapshot(\"V1_MR_fix\", snap_id),\n",
    "        \"M31_ID\": (1, 0),\n",
    "        \"MW_ID\": (2, 0),\n",
    "        \"Color\": [\"black\", \"gray\"]\n",
    "    },\n",
    "    \"curv-p082\": {\n",
    "        \"Snapshot\": snapshot.Snapshot(\"V1_MR_curvaton_p082_fix\", snap_id),\n",
    "        \"M31_ID\": (1, 0),\n",
    "        \"MW_ID\": (1, 1),\n",
    "        \"Color\": [\"red\", \"pink\"]\n",
    "    }\n",
    "}"
   ]
  },
  {
   "cell_type": "markdown",
   "metadata": {
    "tags": []
   },
   "source": [
    "---\n",
    "\n",
    "## Retrieve Data\n",
    "\n",
    "### Create a Dictionary\n",
    "\n",
    "For easy handling of the relevant data, define a data dictionary that, at the top level, has entries for all simulations. Under each simulation sim_data, add items for the needed datasets and, under the \"Selections\" key, a sub-dictionary of masking arrays for each needed condition (e.g. satellite, luminous, $v_\\mathrm{max}$ inside range, etc.)."
   ]
  },
  {
   "cell_type": "code",
   "execution_count": null,
   "metadata": {},
   "outputs": [],
   "source": [
    "# Define the cosmology (should be the same for each simulation):\n",
    "H0 = data[\"plain-LCDM\"][\"Snapshot\"].get_attribute(\"HubbleParam\", \"Header\")\n",
    "Om0 = data[\"plain-LCDM\"][\"Snapshot\"].get_attribute(\"Omega0\", \"Header\")\n",
    "cosmo = FlatLambdaCDM(H0=100 * H0, Om0=Om0) "
   ]
  },
  {
   "cell_type": "markdown",
   "metadata": {},
   "source": [
    "Then, loop over simulations, retrieve data, compute masking arrays, and add to the dictionary:"
   ]
  },
  {
   "cell_type": "code",
   "execution_count": null,
   "metadata": {
    "code_folding": [],
    "tags": []
   },
   "outputs": [],
   "source": [
    "low_sm = 10**7\n",
    "\n",
    "for key, sim_data in data.items():    \n",
    "    # Get data:\n",
    "    snap = sim_data[\"Snapshot\"]\n",
    "    sm = snap.get_subhalos(\"Stars/Mass\") * units.g.to(units.Msun)\n",
    "    sfz = snap.get_subhalos(\"InitialMassWeightedBirthZ\")\n",
    "    sf_time = cosmo.age(0).value - np.array([cosmo.age(z).value for z in sfz])\n",
    "    max_point = snap.get_subhalos(\"Max_Vcirc\", \"Extended\")\n",
    "    vmax = max_point[:,0] * units.cm.to(units.km)\n",
    "    \n",
    "    # Read the scale factor at formation time for each star particle in each subhalo\n",
    "    # and convert to lookback time:    \n",
    "    sf_a = dataset_comp.group_particles_by_subhalo(\n",
    "        snap, \"StellarFormationTime\", part_type=[4]\n",
    "    )[\"StellarFormationTime\"]\n",
    "    # Get the star-formation onset times of subhalos, as the formation times of their\n",
    "    # earliest star particles:\n",
    "    soz = np.array([np.max(1 / a - 1) if a.size > 0 else np.nan for a in sf_a])\n",
    "    sim_data[\"OnsetZ\"] = soz    \n",
    "    sim_data[\"StarFormationOnset\"] = np.array([\n",
    "        cosmo.age(0).value - cosmo.age(z).value for z in soz\n",
    "    ])\n",
    "    \n",
    "    # Compute masking arrays:\n",
    "    mask_m31, mask_mw, mask_isol = dataset_comp.split_satellites_by_distance(\n",
    "        snap, sim_data[\"M31_ID\"], sim_data[\"MW_ID\"]\n",
    "    )\n",
    "    mask_sat = np.logical_or(mask_m31, mask_mw)\n",
    "    mask_lum, mask_dark = dataset_comp.split_luminous(snap)\n",
    "    mask_vmax = dataset_comp.prune_vmax(snap, low_lim=10)\n",
    "\n",
    "    # Sort by vmax and add a dummy point with very small vmax \n",
    "    # (to continue the curves to the y-axis):\n",
    "    sim_data[\"SFZ\"] = sfz\n",
    "    sim_data[\"SFTime\"] = sf_time\n",
    "    sim_data[\"SM\"] = sm\n",
    "    sim_data[\"Vmax\"] = vmax\n",
    "    \n",
    "    data[key][\"Selections\"] = {\n",
    "        \"M31\": mask_m31,\n",
    "        \"MW\": mask_mw,\n",
    "        \"Satellite\": mask_sat,\n",
    "        \"Isolated\": mask_isol,\n",
    "        \"Luminous\": mask_lum,\n",
    "        \"Dark\": mask_dark,\n",
    "        \"Vmax\": mask_vmax,\n",
    "        \"SM\": (sm > low_sm)\n",
    "    }"
   ]
  },
  {
   "cell_type": "markdown",
   "metadata": {
    "tags": []
   },
   "source": [
    "## Plot Only Total Counts"
   ]
  },
  {
   "cell_type": "code",
   "execution_count": null,
   "metadata": {},
   "outputs": [],
   "source": [
    "def count_curve(arr, norm=None):\n",
    "    \n",
    "    if not norm:\n",
    "        norm = arr.size\n",
    "    \n",
    "    arr.sort()\n",
    "    \n",
    "    n = arr.size\n",
    "    x = np.append(10**-5, np.append(arr, arr[-1]))\n",
    "    y = np.append(1, np.append(np.arange(1, n + 1)[::-1] / norm, 0))\n",
    "    \n",
    "    return x, y"
   ]
  },
  {
   "cell_type": "code",
   "execution_count": null,
   "metadata": {},
   "outputs": [],
   "source": [
    "# Choose font sizes:\n",
    "parameters = {'axes.titlesize': 10,\n",
    "              'axes.labelsize': 8,\n",
    "              'xtick.labelsize': 8,\n",
    "              'ytick.labelsize': 8,\n",
    "              'legend.fontsize': 8,\n",
    "              'legend.title_fontsize': 7}\n",
    "\n",
    "# Set fonts:\n",
    "plt.rcParams.update(parameters)\n",
    "plt.tight_layout()"
   ]
  },
  {
   "cell_type": "code",
   "execution_count": null,
   "metadata": {
    "tags": []
   },
   "outputs": [],
   "source": [
    "fig, axes = plt.subplots(ncols=2, figsize=(6, 3), sharey=\"row\")\n",
    "plt.subplots_adjust(wspace=0)\n",
    "\n",
    "# Set axis:\n",
    "axes[0].set_ylim(0, 1.2)\n",
    "axes[0].set_ylabel(\"$f\\,(>M_*)$\")\n",
    "for ax in axes:\n",
    "    # ax.set_xlim(5*10**4, 5*10**9)\n",
    "    ax.set_xlabel(\"$M_*[M_\\odot]$\")\n",
    "    ax.invert_xaxis()\n",
    "    # ax.set_xscale(\"log\")\n",
    "    # ax.set_yscale(\"log\")\n",
    "    \n",
    "axes[0].set_title(\"Satellite galaxies\")\n",
    "axes[1].set_title(\"Isolated galaxies\")\n",
    "\n",
    "data_mr = {key: data[key] for key in data.keys() \n",
    "           & {'plain-LCDM', 'curv-p082'}}\n",
    "for name, sim_data in data_mr.items():\n",
    "               \n",
    "    sf_time = sim_data[\"SFZ\"]\n",
    "    so_time = sim_data[\"OnsetZ\"]\n",
    "    vmax = sim_data[\"Vmax\"]\n",
    "        \n",
    "    # ISOLATED GALAXIES\n",
    "    # -----------------\n",
    "    \n",
    "    mask_isol = np.logical_and(sim_data[\"Selections\"][\"Luminous\"],\n",
    "                               sim_data[\"Selections\"][\"Isolated\"])\n",
    "    \n",
    "    # print(sm[mask_lum])\n",
    "    \n",
    "    mask_vmax = np.logical_and((vmax > 10), (vmax < 25))\n",
    "    mask = np.logical_and(mask_isol, mask_vmax)\n",
    "    x, y = count_curve(so_time[mask])\n",
    "    axes[1].plot(x, y, c=sim_data[\"Color\"][0], \n",
    "                 linestyle=\"solid\", label=sim_name)\n",
    "\n",
    "    mask_vmax = (vmax > 25)\n",
    "    mask = np.logical_and(mask_isol, mask_vmax)\n",
    "    x, y = count_curve(so_time[mask])\n",
    "    axes[1].plot(x, y, c=sim_data[\"Color\"][0], \n",
    "                 linestyle=\"dashed\", label=sim_name)\n",
    "\n",
    "    # SATELLITES\n",
    "    # ----------\n",
    "        \n",
    "    mask_sat = np.logical_and(sim_data[\"Selections\"][\"Luminous\"],\n",
    "                              sim_data[\"Selections\"][\"Satellite\"])\n",
    "    \n",
    "    # print(sm[mask_lum])\n",
    "    \n",
    "    mask_vmax = np.logical_and((vmax > 10), (vmax < 25))\n",
    "    mask = np.logical_and(mask_sat, mask_vmax)\n",
    "    x, y = count_curve(so_time[mask])\n",
    "    axes[0].plot(x, y, c=sim_data[\"Color\"][0], \n",
    "                 linestyle=\"solid\", label=sim_name)\n",
    "\n",
    "    mask_vmax = (vmax > 25)\n",
    "    mask = np.logical_and(mask_sat, mask_vmax)\n",
    "    x, y = count_curve(so_time[mask])\n",
    "    axes[0].plot(x, y, c=sim_data[\"Color\"][0], \n",
    "                 linestyle=\"dashed\", label=sim_name)\n",
    "    \n",
    "    \n",
    "    mask_vmax = (vmax > 25)\n",
    "    mask = np.logical_and.reduce([mask_sat, mask_vmax,\n",
    "                                  sim_data[\"Selections\"][\"SM\"]])\n",
    "    x, y = count_curve(so_time[mask])\n",
    "    axes[0].plot(x, y, c=sim_data[\"Color\"][0], \n",
    "                 linestyle=\"dotted\", label=sim_name)\n",
    "    \n",
    "    \n",
    "    x, y = count_curve(sf_time[mask])\n",
    "    axes[0].plot(x, y, c=sim_data[\"Color\"][0], \n",
    "                 linestyle=\"dashdot\", label=sim_name)\n",
    "\n",
    "axes[1].legend()\n",
    "    \n",
    "plt.tight_layout()"
   ]
  },
  {
   "cell_type": "markdown",
   "metadata": {},
   "source": [
    "Ideas:\n",
    "- Plot separately $v_\\mathrm{max} > 25$ km/s and below (where the mass functions decouple). If this is the mass scale, where the cut-off kicks in, the difference could be very notable below it.\n",
    "- Or maybe plot: all, $v_\\mathrm{max} > 25$ km/s, and $v_\\mathrm{max} > 15$ km/s, normalized to the total number (or then, just offset?)\n",
    "- Or just make a scatter plot, as the bins contain so few points?\n",
    "\n",
    "\n",
    "About half of these galaxies have masses below $10^7 M_\\odot$, so is there much sense in this plot (most of the low-mass halos are also the hosts of low-mass galaxies)?\n",
    "\n",
    "Maybe the onset plot is only really informative."
   ]
  },
  {
   "cell_type": "markdown",
   "metadata": {},
   "source": [
    "### Save the Figure"
   ]
  },
  {
   "cell_type": "code",
   "execution_count": null,
   "metadata": {},
   "outputs": [],
   "source": [
    "filename = \"sm_distribution_norm.png\"\n",
    "    \n",
    "path = os.path.abspath(os.path.join(\"..\", \"Figures\", \"MediumResolution\"))\n",
    "filename = os.path.join(path, filename)\n",
    "\n",
    "fig.savefig(filename, dpi=300, bbox_inches=\"tight\")"
   ]
  },
  {
   "cell_type": "markdown",
   "metadata": {},
   "source": [
    "## Plot Scatter: Stellar Ages vs. $M_*$"
   ]
  },
  {
   "cell_type": "code",
   "execution_count": null,
   "metadata": {},
   "outputs": [],
   "source": [
    "# Choose font sizes:\n",
    "parameters = {'axes.titlesize': 12,\n",
    "              'axes.labelsize': 10,\n",
    "              'xtick.labelsize': 9,\n",
    "              'ytick.labelsize': 9,\n",
    "              'legend.fontsize': 10}\n",
    "\n",
    "# Marker size\n",
    "ms = 15\n",
    "a = 0.7\n",
    "\n",
    "# Set fonts:\n",
    "plt.rcParams.update(parameters)\n",
    "plt.tight_layout()"
   ]
  },
  {
   "cell_type": "code",
   "execution_count": null,
   "metadata": {},
   "outputs": [],
   "source": [
    "fig, ax = plt.subplots(sharey=True, figsize=(3, 3))\n",
    "\n",
    "ax.set_xscale('log')\n",
    "# ax.set_xlim(10**6, 5 * 10**9)\n",
    "# ax.set_ylim(-4, 1.5)    \n",
    "ax.set_xlabel('$v_\\mathrm{max} [\\mathrm{km/s}]$')\n",
    "ax.set_ylabel('Mean Stellar Age [Gyr]')\n",
    "\n",
    "# Add scatter plots:\n",
    "data_mr = {key: data[key] for key in data.keys() \n",
    "           & {'plain-LCDM', 'curv-p082'}}\n",
    "for name, sim_data in data_mr.items():\n",
    "    \n",
    "    mask = np.logical_and(sim_data['Selections']['Luminous'],\n",
    "                          sim_data['Selections']['Vmax'])\n",
    "    \n",
    "    mask_sat = np.logical_and(mask, sim_data['Selections']['Satellite'])\n",
    "    x = sim_data['Vmax'][mask_sat]\n",
    "    y = sim_data['SFZ'][mask_sat]\n",
    "    \n",
    "    ax.scatter(x, y, alpha=a, marker='+',\n",
    "               c=sim_data[\"Color\"][0], s=ms)\n",
    "    \n",
    "    mask_isol = np.logical_and(mask, sim_data['Selections']['Isolated'])\n",
    "    x = sim_data['Vmax'][mask_isol]\n",
    "    y = sim_data['SFZ'][mask_isol]\n",
    "    ax.scatter(x, y, alpha=a, marker='s',\n",
    "               facecolor='none', s=ms, edgecolor=sim_data[\"Color\"][0])\n",
    "\n",
    "# axes[0].legend(loc='lower right')"
   ]
  },
  {
   "cell_type": "code",
   "execution_count": null,
   "metadata": {},
   "outputs": [],
   "source": [
    "fig, ax = plt.subplots(sharey=True, figsize=(3, 3))\n",
    "\n",
    "ax.set_xscale('log')\n",
    "# ax.set_xlim(10**6, 5 * 10**9)\n",
    "# ax.set_ylim(-4, 1.5)    \n",
    "ax.set_xlabel('$v_\\mathrm{max} [\\mathrm{km/s}]$')\n",
    "ax.set_ylabel('SF Onset [Gyr]')\n",
    "\n",
    "# Add scatter plots:\n",
    "data_mr = {key: data[key] for key in data.keys() \n",
    "           & {'plain-LCDM', 'curv-p082'}}\n",
    "for name, sim_data in data_mr.items():\n",
    "    \n",
    "    mask = np.logical_and(sim_data['Selections']['Luminous'],\n",
    "                          sim_data['Selections']['Vmax'])\n",
    "    \n",
    "    mask_sat = np.logical_and(mask, sim_data['Selections']['Satellite'])\n",
    "    x = sim_data['Vmax'][mask_sat]\n",
    "    y = sim_data['OnsetZ'][mask_sat]\n",
    "    \n",
    "    ax.scatter(x, y, alpha=a, marker='+',\n",
    "               c=sim_data[\"Color\"][0], s=ms)\n",
    "    \n",
    "    mask_isol = np.logical_and(mask, sim_data['Selections']['Isolated'])\n",
    "    x = sim_data['Vmax'][mask_isol]\n",
    "    y = sim_data['OnsetZ'][mask_isol]\n",
    "    ax.scatter(x, y, alpha=a, marker='s',\n",
    "               facecolor='none', s=ms, edgecolor=sim_data[\"Color\"][0])\n",
    "\n",
    "# axes[0].legend(loc='lower right')"
   ]
  },
  {
   "cell_type": "code",
   "execution_count": null,
   "metadata": {},
   "outputs": [],
   "source": [
    "fig, ax = plt.subplots(sharey=True, figsize=(3, 3))\n",
    "\n",
    "ax.set_xscale('log')\n",
    "# ax.set_xlim(10**6, 5 * 10**9)\n",
    "# ax.set_ylim(-4, 1.5)    \n",
    "ax.set_xlabel('$M_*[\\mathrm{M_\\odot}]$')\n",
    "ax.set_ylabel('Mean Stellar Age [Gyr]')\n",
    "\n",
    "# Add scatter plots:\n",
    "data_mr = {key: data[key] for key in data.keys() \n",
    "           & {'plain-LCDM', 'curv-p082'}}\n",
    "for name, sim_data in data_mr.items():\n",
    "    \n",
    "    mask = np.logical_and(sim_data['Selections']['Satellite'],\n",
    "                          sim_data['Selections']['Vmax'])\n",
    "    x = sim_data['SM'][mask]\n",
    "    y = sim_data['SFTime'][mask]\n",
    "    \n",
    "    ax.scatter(x, y, alpha=a, marker='+',\n",
    "               c=sim_data[\"Color\"][0], s=ms)\n",
    "    \n",
    "    mask = np.logical_and(sim_data['Selections']['Isolated'],\n",
    "                          sim_data['Selections']['Vmax'])\n",
    "    x = sim_data['SM'][mask]\n",
    "    y = sim_data['SFTime'][mask]\n",
    "    ax.scatter(x, y, alpha=a, marker='s',\n",
    "               facecolor='none', s=ms, edgecolor=sim_data[\"Color\"][0])\n",
    "\n",
    "# axes[0].legend(loc='lower right')"
   ]
  },
  {
   "cell_type": "code",
   "execution_count": null,
   "metadata": {},
   "outputs": [],
   "source": [
    "fig, ax = plt.subplots(sharey=True, figsize=(3, 3))\n",
    "\n",
    "ax.set_xscale('log')\n",
    "# ax.set_xlim(10**6, 5 * 10**9)\n",
    "# ax.set_ylim(-4, 1.5)    \n",
    "ax.set_xlabel('$M_*[\\mathrm{M_\\odot}]$')\n",
    "ax.set_ylabel('SF Onset [Gyr]')\n",
    "\n",
    "# Add scatter plots:\n",
    "data_mr = {key: data[key] for key in data.keys() \n",
    "           & {'plain-LCDM', 'curv-p082'}}\n",
    "for name, sim_data in data_mr.items():\n",
    "    \n",
    "    mask = np.logical_and(sim_data['Selections']['Satellite'],\n",
    "                          sim_data['Selections']['Vmax'])\n",
    "    x = sim_data['SM'][mask]\n",
    "    y = sim_data['StarFormationOnset'][mask]\n",
    "    \n",
    "    ax.scatter(x, y, alpha=a, marker='+',\n",
    "               c=sim_data[\"Color\"][0], s=ms)\n",
    "    \n",
    "    mask = np.logical_and(sim_data['Selections']['Isolated'],\n",
    "                          sim_data['Selections']['Vmax'])\n",
    "    x = sim_data['SM'][mask]\n",
    "    y = sim_data['StarFormationOnset'][mask]\n",
    "    ax.scatter(x, y, alpha=a, marker='s',\n",
    "               facecolor='none', s=ms, edgecolor=sim_data[\"Color\"][0])\n",
    "\n",
    "# axes[0].legend(loc='lower right')"
   ]
  },
  {
   "cell_type": "code",
   "execution_count": null,
   "metadata": {},
   "outputs": [],
   "source": [
    "ax.axvline(10**7, c='gray', linestyle=\"dotted\")\n",
    "\n",
    "ax.scatter([], [], c=data[\"plain-LCDM\"][\"Color\"][0], alpha=a, marker='+',\n",
    "           s=ms, label=\"Satellite\")\n",
    "ax.scatter([], [], edgecolor=data[\"plain-LCDM\"][\"Color\"][0], alpha=a, marker='s',\n",
    "           facecolor='none', s=ms, label=\"Isolated\")\n",
    "ax.legend(loc='lower right')\n",
    "\n",
    "fig"
   ]
  },
  {
   "cell_type": "markdown",
   "metadata": {},
   "source": [
    "### Save the Figure"
   ]
  },
  {
   "cell_type": "code",
   "execution_count": null,
   "metadata": {},
   "outputs": [],
   "source": [
    "# Construct saving location:\n",
    "filename = 'metallicity'\n",
    "for name in data.keys():\n",
    "    filename += \"_{}\".format(name)\n",
    "filename += \".png\"\n",
    "        \n",
    "home = os.path.abspath(os.path.join('..'))\n",
    "path = os.path.join(home,'Figures', 'MediumResolution')\n",
    "filename = os.path.join(path, filename)\n",
    "\n",
    "fig.savefig(filename, dpi=300, bbox_inches='tight')"
   ]
  },
  {
   "cell_type": "code",
   "execution_count": null,
   "metadata": {},
   "outputs": [],
   "source": []
  }
 ],
 "metadata": {
  "kernelspec": {
   "display_name": "Python 3",
   "language": "python",
   "name": "python3"
  },
  "language_info": {
   "codemirror_mode": {
    "name": "ipython",
    "version": 3
   },
   "file_extension": ".py",
   "mimetype": "text/x-python",
   "name": "python",
   "nbconvert_exporter": "python",
   "pygments_lexer": "ipython3"
  }
 },
 "nbformat": 4,
 "nbformat_minor": 4
}
