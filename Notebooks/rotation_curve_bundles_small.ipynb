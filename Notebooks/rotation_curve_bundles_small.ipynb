{
 "cells": [
  {
   "cell_type": "markdown",
   "metadata": {},
   "source": [
    "## First, imports:"
   ]
  },
  {
   "cell_type": "code",
   "execution_count": null,
   "metadata": {},
   "outputs": [],
   "source": [
    "%load_ext autoreload\n",
    "%autoreload 2\n",
    "\n",
    "%config IPCompleter.greedy=True"
   ]
  },
  {
   "cell_type": "code",
   "execution_count": null,
   "metadata": {},
   "outputs": [],
   "source": [
    "import matplotlib.pyplot as plt\n",
    "import numpy as np\n",
    "from astropy import units"
   ]
  },
  {
   "cell_type": "code",
   "execution_count": null,
   "metadata": {},
   "outputs": [],
   "source": [
    "# Import my library:\n",
    "\n",
    "import os\n",
    "import sys\n",
    "\n",
    "apt_path = os.path.abspath(os.path.join('..', 'apostletools'))\n",
    "sys.path.append(apt_path)\n",
    "\n",
    "import snapshot\n",
    "import simulation\n",
    "import dataset_comp"
   ]
  },
  {
   "cell_type": "code",
   "execution_count": null,
   "metadata": {},
   "outputs": [],
   "source": [
    "import importlib\n",
    "importlib.reload(snapshot)\n",
    "importlib.reload(dataset_comp)\n",
    "importlib.reload(simulation)"
   ]
  },
  {
   "cell_type": "markdown",
   "metadata": {},
   "source": [
    "# Rotation Curves of Dwarf Galaxies\n",
    "\n",
    "## Motivation\n",
    "\n",
    "I plot bundles of rotation curves of satellites and isolated galaxies, binning them by mass. I expect that the curvaton rotation curves are \"shallower\" around the centre. In addition, I try to see if there is difference in the diversity of density profiles between the models, or if the difference is simply a characteristic shift towards shallower profiles, as found in Lovell (2016) for the sterile neutrino model.\n",
    "\n",
    "---\n",
    "\n",
    "## Set Parameters for the Plots\n",
    "\n",
    "Choose the snapshot and the simulations, and define M31 and MW in each simulation. Also, set the colors used for each simulation:"
   ]
  },
  {
   "cell_type": "code",
   "execution_count": null,
   "metadata": {
    "code_folding": []
   },
   "outputs": [],
   "source": [
    "snap_id = 127\n",
    "sim_ids = ['V1_MR_fix', 'V1_MR_curvaton_p082_fix']\n",
    "names = ['plain-LCDM', 'curv-p082']\n",
    "colors = ['black', 'red']\n",
    "\n",
    "m31 = [(1,0), (1,0)]\n",
    "mw = [(2,0), (1,1)]"
   ]
  },
  {
   "cell_type": "markdown",
   "metadata": {},
   "source": [
    "Set lower limit for the value of $v_\\mathrm{max}$ of the galaxies to be included (separately for satellites and isolated galaxies):"
   ]
  },
  {
   "cell_type": "code",
   "execution_count": null,
   "metadata": {},
   "outputs": [],
   "source": [
    "sat_down = 10\n",
    "isol_down = 10"
   ]
  },
  {
   "cell_type": "markdown",
   "metadata": {},
   "source": [
    "---\n",
    "\n",
    "## Retrieve Data\n",
    "\n",
    "### Create a Dictionary\n",
    "\n",
    "For easy handling of the relevant data, define a data dictionary that, at the top level, has entries for all simulations. Under each simulation entry, add items for the needed datasets and, under the 'Selections' key, a sub-dictionary of masking arrays for each needed condition (e.g. satellite, luminous, $v_\\mathrm{max}$ inside range, etc.).\n",
    "\n",
    "First, add the above definitions into the data dict:"
   ]
  },
  {
   "cell_type": "code",
   "execution_count": null,
   "metadata": {
    "code_folding": []
   },
   "outputs": [],
   "source": [
    "data = {}\n",
    "for name, sim_id, m31_ns, mw_ns, col in zip(names, sim_ids, m31, mw, colors):\n",
    "    data[name] = {'snapshot': snapshot.Snapshot(sim_id, snap_id, name=name),\n",
    "                  'M31_identifier': m31_ns,\n",
    "                  'MW_identifier': mw_ns,\n",
    "                  'Color': col}"
   ]
  },
  {
   "cell_type": "markdown",
   "metadata": {},
   "source": [
    "Compute the mass bins for satellites and isolated galaxies. I use four bins of equal width in dex. The range used for binning is from <tt>sat_down</tt> (or <tt>isol_down</tt>) to $v_\\mathrm{max}$ of the most massive galaxy"
   ]
  },
  {
   "cell_type": "code",
   "execution_count": null,
   "metadata": {},
   "outputs": [],
   "source": [
    "sat_up = 0\n",
    "isol_up = 0\n",
    "\n",
    "for name, sim_data in data.items():\n",
    "    # Get data:\n",
    "    snap = sim_data['snapshot']\n",
    "    max_point = snap.get_subhalos(\"Max_Vcirc\", \"Extended\")\n",
    "    vmax = max_point[:,0] * units.cm.to(units.km)\n",
    "    \n",
    "    # Split into satellites:\n",
    "    mask_m31, mask_mw, mask_isol = dataset_comp.split_satellites_by_distance(\n",
    "        snap, sim_data['M31_identifier'], sim_data['MW_identifier'])\n",
    "    \n",
    "    # Update upper mass limits:\n",
    "    sat_up = max(sat_up, np.max(vmax[np.logical_or(mask_m31, mask_mw)]))\n",
    "    isol_up = max(isol_up, np.max(vmax[mask_isol]))\n",
    "\n",
    "# To include the most massive galaxy inside the bin:\n",
    "sat_up += sat_up * 0.001 \n",
    "isol_up += isol_up * 0.001 \n",
    "\n",
    "sat_up = max(sat_up, isol_up)\n",
    "isol_up = sat_up\n",
    "\n",
    "# Compute satellite bins:\n",
    "down = np.log10(sat_down); up = np.log10(sat_up)\n",
    "dx = (up - down) / 4\n",
    "print(dx)\n",
    "binc = np.array([(down + dx/2) + dx*n for n in range(4)])\n",
    "dex_bins = np.array([[c-dx/2,c,c+dx/2] for c in binc])\n",
    "sat_bins = 10**dex_bins\n",
    "print(sat_bins)\n",
    "\n",
    "# Compute isolated galaxy bins:\n",
    "down = np.log10(isol_down); up = np.log10(isol_up)\n",
    "dx = (up - down) / 4\n",
    "print(dx)\n",
    "binc = np.array([(down + dx/2) + dx*n for n in range(4)])\n",
    "dex_bins = np.array([[c-dx/2,c,c+dx/2] for c in binc])\n",
    "isol_bins = 10**dex_bins\n",
    "print(isol_bins)"
   ]
  },
  {
   "cell_type": "markdown",
   "metadata": {},
   "source": [
    "Then, loop over simulations, retrieve data, compute masking arrays, and add to the dictionary:"
   ]
  },
  {
   "cell_type": "code",
   "execution_count": null,
   "metadata": {
    "code_folding": []
   },
   "outputs": [],
   "source": [
    "for name, sim_data in data.items():\n",
    "    # Get data:\n",
    "    snap = sim_data['snapshot']\n",
    "    max_point = snap.get_subhalos(\"Max_Vcirc\", \"Extended\")\n",
    "    vmax = max_point[:,0] * units.cm.to(units.km)\n",
    "    rmax = max_point[:,1] * units.cm.to(units.kpc)\n",
    "    \n",
    "    # Retrieve rotation curves and split by subhalo:\n",
    "    rot_curves = snap.get_subhalos(\n",
    "        'Vcirc', h5_group='Extended/RotationCurve/All')\n",
    "    sub_offset = snap.get_subhalos(\n",
    "        'SubOffset', h5_group='Extended/RotationCurve/All')\n",
    "    v_circ = rot_curves[:,0] * units.cm.to(units.km)\n",
    "    radii = rot_curves[:,1] * units.cm.to(units.kpc)\n",
    "    v_circ = np.array(np.split(v_circ, sub_offset[1:]))\n",
    "    radii = np.array(np.split(radii, sub_offset[1:]))\n",
    "\n",
    "    # Split into satellites:\n",
    "    mask_m31, mask_mw, mask_isol = dataset_comp.split_satellites_by_distance(\n",
    "        snap, sim_data['M31_identifier'], sim_data['MW_identifier'])\n",
    "    \n",
    "    # Compute masks for vmax bins:\n",
    "    sat_bin_masks = [dataset_comp.prune_vmax(snap, low_lim=b[0], up_lim=b[2])\n",
    "                     for b in sat_bins]\n",
    "    isol_bin_masks = [dataset_comp.prune_vmax(snap, low_lim=b[0], up_lim=b[2])\n",
    "                     for b in isol_bins]\n",
    "\n",
    "    # Compute other masking arrays:\n",
    "    mask_lum, mask_dark = dataset_comp.split_luminous(snap)\n",
    "    mask_shallow = rmax > 10\n",
    "    \n",
    "    # Add selections (masking arrays):\n",
    "    data[name]['Selections'] = {\n",
    "        'M31': mask_m31,\n",
    "        'MW': mask_mw,\n",
    "        'Satellite': np.logical_or(mask_m31, mask_mw),\n",
    "        'Isolated': mask_isol,\n",
    "        'VmaxBins': {\n",
    "            'Satellite': {\n",
    "                'Low': sat_bin_masks[0], \n",
    "                'SemiLow': sat_bin_masks[1],\n",
    "                'SemiHigh': sat_bin_masks[2],\n",
    "                'High': sat_bin_masks[3]  \n",
    "            },\n",
    "            'Isolated': {\n",
    "                'Low': isol_bin_masks[0], \n",
    "                'SemiLow': isol_bin_masks[1],\n",
    "                'SemiHigh': isol_bin_masks[2],\n",
    "                'High': isol_bin_masks[3]  \n",
    "            }\n",
    "        },\n",
    "        'Luminous': mask_lum,\n",
    "        'Dark': mask_dark,\n",
    "        'Shallow': mask_shallow\n",
    "    }\n",
    "    \n",
    "    # Add datasets to dictionary:\n",
    "    data[name]['Vmax'] = vmax\n",
    "    data[name]['Rmax'] = rmax\n",
    "    data[name]['Vcirc'] = v_circ\n",
    "    data[name]['Radius'] = radii"
   ]
  },
  {
   "cell_type": "markdown",
   "metadata": {},
   "source": [
    "---"
   ]
  },
  {
   "cell_type": "code",
   "execution_count": null,
   "metadata": {},
   "outputs": [],
   "source": [
    "# Line transparency:\n",
    "a = 0.7"
   ]
  },
  {
   "cell_type": "markdown",
   "metadata": {},
   "source": [
    "## Plot Unmodified Rotation Curve Bundles"
   ]
  },
  {
   "cell_type": "markdown",
   "metadata": {},
   "source": [
    "### Plot Satellites"
   ]
  },
  {
   "cell_type": "code",
   "execution_count": null,
   "metadata": {},
   "outputs": [],
   "source": [
    "# Choose font sizes:\n",
    "parameters = {'font.size': 12,\n",
    "              'figure.titlesize': 14,\n",
    "              'axes.labelsize': 12,\n",
    "              'xtick.labelsize': 10,\n",
    "              'ytick.labelsize': 10,\n",
    "              'legend.fontsize': 12}\n",
    "\n",
    "# Set fonts:\n",
    "plt.rcParams.update(parameters)\n",
    "plt.tight_layout()"
   ]
  },
  {
   "cell_type": "code",
   "execution_count": null,
   "metadata": {},
   "outputs": [],
   "source": [
    "# Store the figure into a variable (\"plain\": unmodified rot. curves), for saving etc.:\n",
    "fig_sat_plain, axes = plt.subplots(nrows=2, ncols=2, sharex='row', sharey='row', figsize=(6, 6))\n",
    "\n",
    "plt.subplots_adjust(wspace=0.08)\n",
    "plt.subplots_adjust(hspace=0.2)\n",
    "\n",
    "# Set axis limits:\n",
    "axes[0,0].set_xlim(0,10)\n",
    "axes[0,0].set_ylim(0,35)\n",
    "axes[1,0].set_xlim(0,30)\n",
    "axes[1,0].set_ylim(0,90)\n",
    "\n",
    "# Set labels:\n",
    "s=14\n",
    "axes[1,0].set_xlabel('$r[\\mathrm{kpc}]$')\n",
    "axes[1,1].set_xlabel('$r[\\mathrm{kpc}]$')\n",
    "axes[0,0].set_ylabel('$v_{\\mathrm{circ}}[\\mathrm{kms^{-1}}]$')\n",
    "axes[1,0].set_ylabel('$v_{\\mathrm{circ}}[\\mathrm{kms^{-1}}]$')\n",
    "\n",
    "fig_sat_plain.suptitle('Satellite Galaxies', y=0.95)"
   ]
  },
  {
   "cell_type": "markdown",
   "metadata": {},
   "source": [
    "Plot dark:"
   ]
  },
  {
   "cell_type": "code",
   "execution_count": null,
   "metadata": {
    "tags": []
   },
   "outputs": [],
   "source": [
    "dark_col = ['gray', 'pink']; b = 0.5\n",
    "\n",
    "# Plot rotation curves:\n",
    "for i, (name, entry) in enumerate(data.items()):\n",
    "    \n",
    "    # Plot low mass:\n",
    "    mask = np.logical_and.reduce([entry['Selections']['VmaxBins']['Satellite']['Low'],\n",
    "                                  entry['Selections']['Dark'],\n",
    "                                  entry['Selections']['Satellite']])\n",
    "    v_circ = entry['Vcirc'][mask]\n",
    "    radius = entry['Radius'][mask]\n",
    "    for v, r in zip(v_circ, radius):\n",
    "        axes[0,0].plot(r, v, c=dark_col[i], alpha=b, linestyle='dashed')\n",
    "    \n",
    "    # Plot semi-low mass:\n",
    "    mask = np.logical_and.reduce([entry['Selections']['VmaxBins']['Satellite']['SemiLow'],\n",
    "                                  entry['Selections']['Dark'],\n",
    "                                  entry['Selections']['Satellite']])\n",
    "    v_circ = entry['Vcirc'][mask]\n",
    "    radius = entry['Radius'][mask]\n",
    "    for v, r in zip(v_circ, radius):\n",
    "        axes[0,1].plot(r, v, c=dark_col[i], alpha=b, linestyle='dashed')\n",
    "        \n",
    "    # Plot semi-high mass:\n",
    "    mask = np.logical_and.reduce([entry['Selections']['VmaxBins']['Satellite']['SemiHigh'],\n",
    "                                  entry['Selections']['Dark'],\n",
    "                                  entry['Selections']['Satellite']])\n",
    "    v_circ = entry['Vcirc'][mask]\n",
    "    radius = entry['Radius'][mask]\n",
    "    for v, r in zip(v_circ, radius):\n",
    "        axes[1,0].plot(r, v, c=dark_col[i], alpha=b, linestyle='dashed')\n",
    "        \n",
    "    # Plot high mass:\n",
    "    mask = np.logical_and.reduce([entry['Selections']['VmaxBins']['Satellite']['High'],\n",
    "                                  entry['Selections']['Dark'],\n",
    "                                  entry['Selections']['Satellite']])\n",
    "    v_circ = entry['Vcirc'][mask]\n",
    "    radius = entry['Radius'][mask]\n",
    "    for v, r in zip(v_circ, radius):\n",
    "        axes[1,1].plot(r, v, c=dark_col[i], alpha=b, linestyle='dashed')\n",
    "\n",
    "fig_sat_plain"
   ]
  },
  {
   "cell_type": "markdown",
   "metadata": {},
   "source": [
    "Plot luminous:"
   ]
  },
  {
   "cell_type": "code",
   "execution_count": null,
   "metadata": {},
   "outputs": [],
   "source": [
    "# Plot rotation curves:\n",
    "for i, (name, entry) in enumerate(data.items()):\n",
    "    \n",
    "    # Plot low mass:\n",
    "    mask = np.logical_and.reduce([entry['Selections']['VmaxBins']['Satellite']['Low'],\n",
    "                                  entry['Selections']['Luminous'],\n",
    "                                  entry['Selections']['Satellite']])\n",
    "    v_circ = entry['Vcirc'][mask]\n",
    "    radius = entry['Radius'][mask]\n",
    "    for v, r in zip(v_circ, radius):\n",
    "        axes[0,0].plot(r, v, c=entry['Color'], alpha=a)\n",
    "    \n",
    "    # Plot semi-low mass:\n",
    "    mask = np.logical_and.reduce([entry['Selections']['VmaxBins']['Satellite']['SemiLow'],\n",
    "                                  entry['Selections']['Luminous'],\n",
    "                                  entry['Selections']['Satellite']])\n",
    "    v_circ = entry['Vcirc'][mask]\n",
    "    radius = entry['Radius'][mask]\n",
    "    for v, r in zip(v_circ, radius):\n",
    "        axes[0,1].plot(r, v, c=entry['Color'], alpha=a)\n",
    "        \n",
    "    # Plot semi-high mass:\n",
    "    mask = np.logical_and.reduce([entry['Selections']['VmaxBins']['Satellite']['SemiHigh'],\n",
    "                                  entry['Selections']['Luminous'],\n",
    "                                  entry['Selections']['Satellite']])\n",
    "    v_circ = entry['Vcirc'][mask]\n",
    "    radius = entry['Radius'][mask]\n",
    "    for v, r in zip(v_circ, radius):\n",
    "        axes[1,0].plot(r, v, c=entry['Color'], alpha=a)\n",
    "        \n",
    "    # Plot high mass:\n",
    "    mask = np.logical_and.reduce([entry['Selections']['VmaxBins']['Satellite']['High'],\n",
    "                                  entry['Selections']['Luminous'],\n",
    "                                  entry['Selections']['Satellite']])\n",
    "    v_circ = entry['Vcirc'][mask]\n",
    "    radius = entry['Radius'][mask]\n",
    "    for v, r in zip(v_circ, radius):\n",
    "        axes[1,1].plot(r, v, c=entry['Color'], alpha=a)\n",
    "\n",
    "fig_sat_plain"
   ]
  },
  {
   "cell_type": "code",
   "execution_count": null,
   "metadata": {},
   "outputs": [],
   "source": [
    "axes[0,0].text(0.08, 0.92,\n",
    "               \"$v_\\mathrm{{max}} = {:.2f}^{{+{:.2f}}}_{{-{:.2f}}} ~\\mathrm{{km/s}}$\".format(\n",
    "               sat_bins[0,1], sat_bins[0,2] - sat_bins[0,1], \n",
    "                   sat_bins[0,1] - sat_bins[0,0]),\n",
    "               transform=axes[0,0].transAxes, \n",
    "               horizontalalignment='left',\n",
    "               verticalalignment='top')\n",
    "axes[0,1].text(0.92, 0.08,\n",
    "               \"$v_\\mathrm{{max}} = {:.2f}^{{+{:.2f}}}_{{-{:.2f}}} ~\\mathrm{{km/s}}$\".format(\n",
    "               sat_bins[1,1], sat_bins[1,2] - sat_bins[1,1], \n",
    "                   sat_bins[1,1] - sat_bins[1,0]),\n",
    "               transform=axes[0,1].transAxes, \n",
    "               horizontalalignment='right',\n",
    "               verticalalignment='bottom')\n",
    "axes[1,0].text(0.08, 0.92,\n",
    "               \"$v_\\mathrm{{max}} = {:.2f}^{{+{:.2f}}}_{{-{:.2f}}} ~\\mathrm{{km/s}}$\".format(\n",
    "               sat_bins[2,1], sat_bins[2,2] - sat_bins[2,1], \n",
    "                   sat_bins[2,1] - sat_bins[2,0]),\n",
    "               transform=axes[1,0].transAxes,\n",
    "               horizontalalignment='left',\n",
    "               verticalalignment='top')\n",
    "axes[1,1].text(0.92, 0.08,\n",
    "               \"$v_\\mathrm{{max}} = {:.2f}^{{+{:.2f}}}_{{-{:.2f}}} ~\\mathrm{{km/s}}$\".format(\n",
    "               sat_bins[3,1], sat_bins[3,2] - sat_bins[3,1], \n",
    "                   sat_bins[3,1] - sat_bins[3,0]),\n",
    "               transform=axes[1,1].transAxes, \n",
    "               horizontalalignment='right',\n",
    "               verticalalignment='bottom')\n",
    "\n",
    "fig_sat_plain"
   ]
  },
  {
   "cell_type": "markdown",
   "metadata": {},
   "source": [
    "### Save the Figure"
   ]
  },
  {
   "cell_type": "code",
   "execution_count": null,
   "metadata": {},
   "outputs": [],
   "source": [
    "filename = 'sat_rotcurves.png'\n",
    "    \n",
    "path = os.path.abspath(os.path.join('..', 'Figures', 'MediumResolution'))\n",
    "filename = os.path.join(path, filename)\n",
    "\n",
    "fig_sat_plain.savefig(filename, dpi=300, bbox_inches='tight')"
   ]
  },
  {
   "cell_type": "markdown",
   "metadata": {},
   "source": [
    "### Plot Isolated Galaxies"
   ]
  },
  {
   "cell_type": "code",
   "execution_count": null,
   "metadata": {},
   "outputs": [],
   "source": [
    "# Choose font sizes:\n",
    "parameters = {'font.size': 12,\n",
    "              'figure.titlesize': 14,\n",
    "              'axes.labelsize': 12,\n",
    "              'xtick.labelsize': 10,\n",
    "              'ytick.labelsize': 10,\n",
    "              'legend.fontsize': 12}\n",
    "\n",
    "# Set fonts:\n",
    "plt.rcParams.update(parameters)\n",
    "plt.tight_layout()"
   ]
  },
  {
   "cell_type": "code",
   "execution_count": null,
   "metadata": {},
   "outputs": [],
   "source": [
    "# Store the figure into a variable (\"plain\": unmodified rot. curves), for saving etc.:\n",
    "fig_isol_plain, axes = plt.subplots(nrows=2, ncols=2, sharex='row', sharey='row', figsize=(6, 6))\n",
    "\n",
    "plt.subplots_adjust(wspace=0.08)\n",
    "plt.subplots_adjust(hspace=0.2)\n",
    "\n",
    "# Set axis limits:\n",
    "axes[0,0].set_xlim(0,10)\n",
    "axes[0,0].set_ylim(0,35)\n",
    "axes[1,0].set_xlim(0,30)\n",
    "axes[1,0].set_ylim(0,90)\n",
    "\n",
    "# Set labels:\n",
    "axes[1,0].set_xlabel('$r[\\mathrm{kpc}]$')\n",
    "axes[1,1].set_xlabel('$r[\\mathrm{kpc}]$')\n",
    "axes[0,0].set_ylabel('$v_{\\mathrm{circ}}[\\mathrm{kms^{-1}}]$')\n",
    "axes[1,0].set_ylabel('$v_{\\mathrm{circ}}[\\mathrm{kms^{-1}}]$')\n",
    "\n",
    "fig_isol_plain.suptitle('Isolated Galaxies', y=0.95)"
   ]
  },
  {
   "cell_type": "markdown",
   "metadata": {},
   "source": [
    "Plot dark:"
   ]
  },
  {
   "cell_type": "code",
   "execution_count": null,
   "metadata": {
    "jupyter": {
     "outputs_hidden": true,
     "source_hidden": true
    },
    "tags": []
   },
   "outputs": [],
   "source": [
    "dark_col = ['gray', 'pink']; b = 0.5\n",
    "\n",
    "# Plot rotation curves:\n",
    "for i, (name, entry) in enumerate(data.items()):\n",
    "    \n",
    "    # Plot low mass:\n",
    "    mask = np.logical_and.reduce([entry['Selections']['VmaxBins']['Isolated']['Low'],\n",
    "                                  entry['Selections']['Dark'],\n",
    "                                  entry['Selections']['Isolated']])\n",
    "    v_circ = entry['Vcirc'][mask] + 20\n",
    "    radius = entry['Radius'][mask]\n",
    "    for v, r in zip(v_circ, radius):\n",
    "        axes[0,0].plot(r, v, c=dark_col[i], alpha=b)\n",
    "    \n",
    "    # Plot semi-low mass:\n",
    "    mask = np.logical_and.reduce([entry['Selections']['VmaxBins']['Isolated']['SemiLow'],\n",
    "                                  entry['Selections']['Dark'],\n",
    "                                  entry['Selections']['Isolated']])\n",
    "    v_circ = entry['Vcirc'][mask] + 20\n",
    "    radius = entry['Radius'][mask]\n",
    "    for v, r in zip(v_circ, radius):\n",
    "        axes[0,1].plot(r, v, c=dark_col[i], alpha=b)\n",
    "        \n",
    "    # Plot semi-high mass:\n",
    "    mask = np.logical_and.reduce([entry['Selections']['VmaxBins']['Isolated']['SemiHigh'],\n",
    "                                  entry['Selections']['Dark'],\n",
    "                                  entry['Selections']['Isolated']])\n",
    "    v_circ = entry['Vcirc'][mask]\n",
    "    radius = entry['Radius'][mask]\n",
    "    for v, r in zip(v_circ, radius):\n",
    "        axes[1,0].plot(r, v, c=dark_col[i], alpha=b)\n",
    "        \n",
    "    # Plot high mass:\n",
    "    mask = np.logical_and.reduce([entry['Selections']['VmaxBins']['Isolated']['High'],\n",
    "                                  entry['Selections']['Dark'],\n",
    "                                  entry['Selections']['Isolated']])\n",
    "    v_circ = entry['Vcirc'][mask]\n",
    "    radius = entry['Radius'][mask]\n",
    "    for v, r in zip(v_circ, radius):\n",
    "        axes[1,1].plot(r, v, c=dark_col[i], alpha=b)\n",
    "\n",
    "fig_isol_plain"
   ]
  },
  {
   "cell_type": "markdown",
   "metadata": {},
   "source": [
    "Plot luminous:"
   ]
  },
  {
   "cell_type": "code",
   "execution_count": null,
   "metadata": {},
   "outputs": [],
   "source": [
    "# Plot rotation curves:\n",
    "for i, (name, entry) in enumerate(data.items()):\n",
    "    \n",
    "    # Plot low mass:\n",
    "    mask = np.logical_and.reduce([entry['Selections']['VmaxBins']['Isolated']['Low'],\n",
    "                                  entry['Selections']['Luminous'],\n",
    "                                  entry['Selections']['Isolated']])\n",
    "    v_circ = entry['Vcirc'][mask]\n",
    "    radius = entry['Radius'][mask]\n",
    "    for v, r in zip(v_circ, radius):\n",
    "        axes[0,0].plot(r, v, c=entry['Color'], alpha=a)\n",
    "    \n",
    "    # Plot semi-low mass:\n",
    "    mask = np.logical_and.reduce([entry['Selections']['VmaxBins']['Isolated']['SemiLow'],\n",
    "                                  entry['Selections']['Luminous'],\n",
    "                                  entry['Selections']['Isolated']])\n",
    "    v_circ = entry['Vcirc'][mask]\n",
    "    radius = entry['Radius'][mask]\n",
    "    for v, r in zip(v_circ, radius):\n",
    "        axes[0,1].plot(r, v, c=entry['Color'], alpha=a)\n",
    "        \n",
    "    # Plot semi-high mass:\n",
    "    mask = np.logical_and.reduce([entry['Selections']['VmaxBins']['Isolated']['SemiHigh'],\n",
    "                                  entry['Selections']['Luminous'],\n",
    "                                  entry['Selections']['Isolated']])\n",
    "    v_circ = entry['Vcirc'][mask]\n",
    "    radius = entry['Radius'][mask]\n",
    "    for v, r in zip(v_circ, radius):\n",
    "        axes[1,0].plot(r, v, c=entry['Color'], alpha=a)\n",
    "        \n",
    "    # Plot high mass:\n",
    "    mask = np.logical_and.reduce([entry['Selections']['VmaxBins']['Isolated']['High'],\n",
    "                                  entry['Selections']['Luminous'],\n",
    "                                  entry['Selections']['Isolated']])\n",
    "    v_circ = entry['Vcirc'][mask]\n",
    "    radius = entry['Radius'][mask]\n",
    "    for v, r in zip(v_circ, radius):\n",
    "        axes[1,1].plot(r, v, c=entry['Color'], alpha=a)\n",
    "\n",
    "fig_isol_plain"
   ]
  },
  {
   "cell_type": "code",
   "execution_count": null,
   "metadata": {
    "jupyter": {
     "outputs_hidden": true,
     "source_hidden": true
    },
    "tags": []
   },
   "outputs": [],
   "source": [
    "axes[0,0].text(0.9, 0.1,\n",
    "               \"$v_\\mathrm{{max}} = {:.2f}^{{+{:.2f}}}_{{-{:.2f}}} ~\\mathrm{{km/s}}$\".format(\n",
    "               isol_bins[0,1], isol_bins[0,2] - isol_bins[0,1], \n",
    "                   isol_bins[0,1] - isol_bins[0,0]),\n",
    "               transform=axes[0,0].transAxes, \n",
    "               horizontalalignment='right',\n",
    "               verticalalignment='bottom',\n",
    "               fontsize=s)\n",
    "axes[0,1].text(0.9, 0.1,\n",
    "               \"$v_\\mathrm{{max}} = {:.2f}^{{+{:.2f}}}_{{-{:.2f}}} ~\\mathrm{{km/s}}$\".format(\n",
    "               isol_bins[1,1], isol_bins[1,2] - isol_bins[1,1], \n",
    "                   isol_bins[1,1] - isol_bins[1,0]),\n",
    "               transform=axes[0,1].transAxes, \n",
    "               horizontalalignment='right',\n",
    "               verticalalignment='bottom',\n",
    "               fontsize=s)\n",
    "axes[1,0].text(0.9, 0.1,\n",
    "               \"$v_\\mathrm{{max}} = {:.2f}^{{+{:.2f}}}_{{-{:.2f}}} ~\\mathrm{{km/s}}$\".format(\n",
    "               isol_bins[2,1], isol_bins[2,2] - isol_bins[2,1], \n",
    "                   isol_bins[2,1] - isol_bins[2,0]),\n",
    "               transform=axes[1,0].transAxes, \n",
    "               horizontalalignment='right',\n",
    "               verticalalignment='bottom',\n",
    "               fontsize=s)\n",
    "axes[1,1].text(0.9, 0.1,\n",
    "               \"$v_\\mathrm{{max}} = {:.2f}^{{+{:.2f}}}_{{-{:.2f}}} ~\\mathrm{{km/s}}$\".format(\n",
    "               isol_bins[3,1], isol_bins[3,2] - isol_bins[3,1], \n",
    "                   isol_bins[3,1] - isol_bins[3,0]),\n",
    "               transform=axes[1,1].transAxes, \n",
    "               horizontalalignment='right',\n",
    "               verticalalignment='bottom',\n",
    "               fontsize=s)\n",
    "\n",
    "fig_isol_plain"
   ]
  },
  {
   "cell_type": "markdown",
   "metadata": {},
   "source": [
    "### Save the Figure"
   ]
  },
  {
   "cell_type": "code",
   "execution_count": null,
   "metadata": {},
   "outputs": [],
   "source": [
    "filename = 'isol_rotcurves.png'\n",
    "    \n",
    "path = os.path.abspath(os.path.join('..', 'Figures', 'MediumResolution'))\n",
    "filename = os.path.join(path, filename)\n",
    "\n",
    "fig_isol_plain.savefig(filename, dpi=300, bbox_inches='tight')"
   ]
  },
  {
   "cell_type": "markdown",
   "metadata": {},
   "source": [
    "---\n",
    "\n",
    "## Plot Logarithmic Rotation Curves"
   ]
  },
  {
   "cell_type": "markdown",
   "metadata": {},
   "source": [
    "### Satellite Galaxies"
   ]
  },
  {
   "cell_type": "code",
   "execution_count": null,
   "metadata": {},
   "outputs": [],
   "source": [
    "# Choose font sizes:\n",
    "parameters = {'font.size': 12,\n",
    "              'figure.titlesize': 14,\n",
    "              'axes.labelsize': 12,\n",
    "              'xtick.labelsize': 10,\n",
    "              'ytick.labelsize': 10,\n",
    "              'legend.fontsize': 12}\n",
    "\n",
    "# Set fonts:\n",
    "plt.rcParams.update(parameters)\n",
    "plt.tight_layout()"
   ]
  },
  {
   "cell_type": "code",
   "execution_count": null,
   "metadata": {},
   "outputs": [],
   "source": [
    "# Store the figure into a variable:\n",
    "fig_sat_log, axes = plt.subplots(nrows=2, ncols=2, sharex='row', sharey='row', figsize=(6, 6))\n",
    "\n",
    "plt.subplots_adjust(wspace=0.08)\n",
    "plt.subplots_adjust(hspace=0.2)\n",
    "\n",
    "# Set logarithmic axes:\n",
    "axes[0,0].set_xscale('log')\n",
    "axes[0,0].set_yscale('log')\n",
    "axes[0,1].set_xscale('log')\n",
    "axes[0,1].set_yscale('log')\n",
    "axes[1,0].set_xscale('log')\n",
    "axes[1,0].set_yscale('log')\n",
    "axes[1,1].set_xscale('log')\n",
    "axes[1,1].set_yscale('log')\n",
    "\n",
    "# Set axis limits:\n",
    "axes[0,0].set_xlim(0.3, 10)\n",
    "axes[0,0].set_ylim(6, 40)\n",
    "axes[1,0].set_xlim(0.3, 30)\n",
    "axes[1,0].set_ylim(6, 90)\n",
    "\n",
    "# Set labels:\n",
    "s=14\n",
    "axes[1,0].set_xlabel('$r[\\mathrm{kpc}]$')\n",
    "axes[1,1].set_xlabel('$r[\\mathrm{kpc}]$')\n",
    "axes[0,0].set_ylabel('$v_{\\mathrm{circ}}[\\mathrm{kms^{-1}}]$')\n",
    "axes[1,0].set_ylabel('$v_{\\mathrm{circ}}[\\mathrm{kms^{-1}}]$')\n",
    "\n",
    "fig_sat_log.suptitle('Satellite Galaxies', y=0.95)"
   ]
  },
  {
   "cell_type": "code",
   "execution_count": null,
   "metadata": {},
   "outputs": [],
   "source": [
    "# Plot rotation curves:\n",
    "for i, (name, entry) in enumerate(data.items()):\n",
    "    \n",
    "    # Plot low mass:\n",
    "    mask = np.logical_and.reduce([entry['Selections']['VmaxBins']['Satellite']['Low'],\n",
    "                                  entry['Selections']['Luminous'],\n",
    "                                  entry['Selections']['Satellite']])\n",
    "    v_circ = entry['Vcirc'][mask]\n",
    "    radius = entry['Radius'][mask]\n",
    "    for v, r in zip(v_circ, radius):\n",
    "        axes[0,0].plot(r, v, c=entry['Color'], alpha=a)\n",
    "    \n",
    "    # Plot semi-low mass:\n",
    "    mask = np.logical_and.reduce([entry['Selections']['VmaxBins']['Satellite']['SemiLow'],\n",
    "                                  entry['Selections']['Luminous'],\n",
    "                                  entry['Selections']['Satellite']])\n",
    "    v_circ = entry['Vcirc'][mask]\n",
    "    radius = entry['Radius'][mask]\n",
    "    for v, r in zip(v_circ, radius):\n",
    "        axes[0,1].plot(r, v, c=entry['Color'], alpha=a)\n",
    "        \n",
    "    # Plot semi-high mass:\n",
    "    mask = np.logical_and.reduce([entry['Selections']['VmaxBins']['Satellite']['SemiHigh'],\n",
    "                                  entry['Selections']['Luminous'],\n",
    "                                  entry['Selections']['Satellite']])\n",
    "    v_circ = entry['Vcirc'][mask]\n",
    "    radius = entry['Radius'][mask]\n",
    "    for v, r in zip(v_circ, radius):\n",
    "        axes[1,0].plot(r, v, c=entry['Color'], alpha=a)\n",
    "        \n",
    "    # Plot high mass:\n",
    "    mask = np.logical_and.reduce([entry['Selections']['VmaxBins']['Satellite']['High'],\n",
    "                                  entry['Selections']['Luminous'],\n",
    "                                  entry['Selections']['Satellite']])\n",
    "    v_circ = entry['Vcirc'][mask]\n",
    "    radius = entry['Radius'][mask]\n",
    "    for v, r in zip(v_circ, radius):\n",
    "        axes[1,1].plot(r, v, c=entry['Color'], alpha=a)\n",
    "\n",
    "fig_sat_log"
   ]
  },
  {
   "cell_type": "markdown",
   "metadata": {
    "jupyter": {
     "outputs_hidden": true
    }
   },
   "source": [
    "Add bin ranges to the figure explicitly:"
   ]
  },
  {
   "cell_type": "code",
   "execution_count": null,
   "metadata": {},
   "outputs": [],
   "source": [
    "axes[0,0].text(0.08, 0.92,\n",
    "               \"$v_\\mathrm{{max}} = {:.2f}^{{+{:.2f}}}_{{-{:.2f}}} ~\\mathrm{{km/s}}$\".format(\n",
    "               sat_bins[0,1], sat_bins[0,2] - sat_bins[0,1], \n",
    "                   sat_bins[0,1] - sat_bins[0,0]),\n",
    "               transform=axes[0,0].transAxes, \n",
    "               horizontalalignment='left',\n",
    "               verticalalignment='top')\n",
    "axes[0,1].text(0.92, 0.92,\n",
    "               \"$v_\\mathrm{{max}} = {:.2f}^{{+{:.2f}}}_{{-{:.2f}}} ~\\mathrm{{km/s}}$\".format(\n",
    "               sat_bins[1,1], sat_bins[1,2] - sat_bins[1,1], \n",
    "                   sat_bins[1,1] - sat_bins[1,0]),\n",
    "               transform=axes[0,1].transAxes, \n",
    "               horizontalalignment='right',\n",
    "               verticalalignment='top')\n",
    "axes[1,0].text(0.08, 0.92,\n",
    "               \"$v_\\mathrm{{max}} = {:.2f}^{{+{:.2f}}}_{{-{:.2f}}} ~\\mathrm{{km/s}}$\".format(\n",
    "               sat_bins[2,1], sat_bins[2,2] - sat_bins[2,1], \n",
    "                   sat_bins[2,1] - sat_bins[2,0]),\n",
    "               transform=axes[1,0].transAxes,\n",
    "               horizontalalignment='left',\n",
    "               verticalalignment='top')\n",
    "axes[1,1].text(0.92, 0.08,\n",
    "               \"$v_\\mathrm{{max}} = {:.2f}^{{+{:.2f}}}_{{-{:.2f}}} ~\\mathrm{{km/s}}$\".format(\n",
    "               sat_bins[3,1], sat_bins[3,2] - sat_bins[3,1], \n",
    "                   sat_bins[3,1] - sat_bins[3,0]),\n",
    "               transform=axes[1,1].transAxes, \n",
    "               horizontalalignment='right',\n",
    "               verticalalignment='bottom')\n",
    "\n",
    "fig_sat_log"
   ]
  },
  {
   "cell_type": "markdown",
   "metadata": {},
   "source": [
    "### Save the Figure"
   ]
  },
  {
   "cell_type": "code",
   "execution_count": null,
   "metadata": {},
   "outputs": [],
   "source": [
    "filename = 'sat_rotcurves_log.png'\n",
    "    \n",
    "path = os.path.abspath(os.path.join('..', 'Figures', 'MediumResolution'))\n",
    "filename = os.path.join(path, filename)\n",
    "\n",
    "fig_sat_log.savefig(filename, dpi=300, bbox_inches='tight')"
   ]
  },
  {
   "cell_type": "markdown",
   "metadata": {
    "tags": []
   },
   "source": [
    "### Isolated Galaxies"
   ]
  },
  {
   "cell_type": "code",
   "execution_count": null,
   "metadata": {},
   "outputs": [],
   "source": [
    "# Choose font sizes:\n",
    "parameters = {'font.size': 12,\n",
    "              'figure.titlesize': 14,\n",
    "              'axes.labelsize': 12,\n",
    "              'xtick.labelsize': 10,\n",
    "              'ytick.labelsize': 10,\n",
    "              'legend.fontsize': 12}\n",
    "\n",
    "# Set fonts:\n",
    "plt.rcParams.update(parameters)\n",
    "plt.tight_layout()"
   ]
  },
  {
   "cell_type": "code",
   "execution_count": null,
   "metadata": {},
   "outputs": [],
   "source": [
    "# Store the figure into a variable:\n",
    "fig_isol_log, axes = plt.subplots(nrows=2, ncols=2, sharex='row', sharey='row', figsize=(6, 6))\n",
    "\n",
    "plt.subplots_adjust(wspace=0.08)\n",
    "plt.subplots_adjust(hspace=0.2)\n",
    "\n",
    "# Set logarithmic axes:\n",
    "axes[0,0].set_xscale('log')\n",
    "axes[0,0].set_yscale('log')\n",
    "axes[0,1].set_xscale('log')\n",
    "axes[0,1].set_yscale('log')\n",
    "axes[1,0].set_xscale('log')\n",
    "axes[1,0].set_yscale('log')\n",
    "axes[1,1].set_xscale('log')\n",
    "axes[1,1].set_yscale('log')\n",
    "\n",
    "# Set axis limits:\n",
    "axes[0,0].set_xlim(0.3,10)\n",
    "axes[0,0].set_ylim(6,40)\n",
    "axes[1,0].set_xlim(0.3,30)\n",
    "axes[1,0].set_ylim(6,90)\n",
    "\n",
    "# Set labels:\n",
    "axes[1,0].set_xlabel('$r[\\mathrm{kpc}]$')\n",
    "axes[1,1].set_xlabel('$r[\\mathrm{kpc}]$')\n",
    "axes[0,0].set_ylabel('$v_{\\mathrm{circ}}[\\mathrm{kms^{-1}}]$')\n",
    "axes[1,0].set_ylabel('$v_{\\mathrm{circ}}[\\mathrm{kms^{-1}}]$')\n",
    "\n",
    "fig_isol_log.suptitle('Isolated Galaxies', y=0.95)"
   ]
  },
  {
   "cell_type": "code",
   "execution_count": null,
   "metadata": {},
   "outputs": [],
   "source": [
    "# Plot rotation curves:\n",
    "for i, (name, entry) in enumerate(data.items()):\n",
    "    \n",
    "    # Plot low mass:\n",
    "    mask = np.logical_and.reduce([entry['Selections']['VmaxBins']['Isolated']['Low'],\n",
    "                                  entry['Selections']['Luminous'],\n",
    "                                  entry['Selections']['Isolated']])\n",
    "    v_circ = entry['Vcirc'][mask]\n",
    "    radius = entry['Radius'][mask]\n",
    "    for v, r in zip(v_circ, radius):\n",
    "        axes[0,0].plot(r, v, c=entry['Color'], alpha=a)\n",
    "    \n",
    "    # Plot semi-low mass:\n",
    "    mask = np.logical_and.reduce([entry['Selections']['VmaxBins']['Isolated']['SemiLow'],\n",
    "                                  entry['Selections']['Luminous'],\n",
    "                                  entry['Selections']['Isolated']])\n",
    "    v_circ = entry['Vcirc'][mask]\n",
    "    radius = entry['Radius'][mask]\n",
    "    for v, r in zip(v_circ, radius):\n",
    "        axes[0,1].plot(r, v, c=entry['Color'], alpha=a)\n",
    "        \n",
    "    # Plot semi-high mass:\n",
    "    mask = np.logical_and.reduce([entry['Selections']['VmaxBins']['Isolated']['SemiHigh'],\n",
    "                                  entry['Selections']['Luminous'],\n",
    "                                  entry['Selections']['Isolated']])\n",
    "    v_circ = entry['Vcirc'][mask]\n",
    "    radius = entry['Radius'][mask]\n",
    "    for v, r in zip(v_circ, radius):\n",
    "        axes[1,0].plot(r, v, c=entry['Color'], alpha=a)\n",
    "        \n",
    "    # Plot high mass:\n",
    "    mask = np.logical_and.reduce([entry['Selections']['VmaxBins']['Isolated']['High'],\n",
    "                                  entry['Selections']['Luminous'],\n",
    "                                  entry['Selections']['Isolated']])\n",
    "    v_circ = entry['Vcirc'][mask]\n",
    "    radius = entry['Radius'][mask]\n",
    "    for v, r in zip(v_circ, radius):\n",
    "        axes[1,1].plot(r, v, c=entry['Color'], alpha=a)\n",
    "\n",
    "fig_isol_log"
   ]
  },
  {
   "cell_type": "markdown",
   "metadata": {
    "jupyter": {
     "outputs_hidden": true
    }
   },
   "source": [
    "Add bin ranges to the figure explicitly:"
   ]
  },
  {
   "cell_type": "code",
   "execution_count": null,
   "metadata": {
    "jupyter": {
     "outputs_hidden": true,
     "source_hidden": true
    },
    "tags": []
   },
   "outputs": [],
   "source": [
    "axes[0,0].text(0.9, 0.1,\n",
    "               \"$v_\\mathrm{{max}} = {:.2f}^{{+{:.2f}}}_{{-{:.2f}}} ~\\mathrm{{km/s}}$\".format(\n",
    "               isol_bins[0,1], isol_bins[0,2] - isol_bins[0,1], \n",
    "                   isol_bins[0,1] - isol_bins[0,0]),\n",
    "               transform=axes[0,0].transAxes, \n",
    "               horizontalalignment='right',\n",
    "               verticalalignment='bottom',\n",
    "               fontsize=s)\n",
    "axes[0,1].text(0.9, 0.1,\n",
    "               \"$v_\\mathrm{{max}} = {:.2f}^{{+{:.2f}}}_{{-{:.2f}}} ~\\mathrm{{km/s}}$\".format(\n",
    "               isol_bins[1,1], isol_bins[1,2] - isol_bins[1,1], \n",
    "                   isol_bins[1,1] - isol_bins[1,0]),\n",
    "               transform=axes[0,1].transAxes, \n",
    "               horizontalalignment='right',\n",
    "               verticalalignment='bottom',\n",
    "               fontsize=s)\n",
    "axes[1,0].text(0.9, 0.1,\n",
    "               \"$v_\\mathrm{{max}} = {:.2f}^{{+{:.2f}}}_{{-{:.2f}}} ~\\mathrm{{km/s}}$\".format(\n",
    "               isol_bins[2,1], isol_bins[2,2] - isol_bins[2,1], \n",
    "                   isol_bins[2,1] - isol_bins[2,0]),\n",
    "               transform=axes[1,0].transAxes, \n",
    "               horizontalalignment='right',\n",
    "               verticalalignment='bottom',\n",
    "               fontsize=s)\n",
    "axes[1,1].text(0.9, 0.1,\n",
    "               \"$v_\\mathrm{{max}} = {:.2f}^{{+{:.2f}}}_{{-{:.2f}}} ~\\mathrm{{km/s}}$\".format(\n",
    "               isol_bins[3,1], isol_bins[3,2] - isol_bins[3,1], \n",
    "                   isol_bins[3,1] - isol_bins[3,0]),\n",
    "               transform=axes[1,1].transAxes, \n",
    "               horizontalalignment='right',\n",
    "               verticalalignment='bottom',\n",
    "               fontsize=s)\n",
    "\n",
    "fig_isol_log"
   ]
  },
  {
   "cell_type": "markdown",
   "metadata": {},
   "source": [
    "### Save the Figure"
   ]
  },
  {
   "cell_type": "code",
   "execution_count": null,
   "metadata": {},
   "outputs": [],
   "source": [
    "filename = 'isol_rotcurves_log.png'\n",
    "    \n",
    "path = os.path.abspath(os.path.join('..', 'Figures', 'MediumResolution'))\n",
    "filename = os.path.join(path, filename)\n",
    "\n",
    "fig_isol_log.savefig(filename, dpi=300, bbox_inches='tight')"
   ]
  }
 ],
 "metadata": {
  "kernelspec": {
   "display_name": "Python 3",
   "language": "python",
   "name": "python3"
  },
  "language_info": {
   "codemirror_mode": {
    "name": "ipython",
    "version": 3
   },
   "file_extension": ".py",
   "mimetype": "text/x-python",
   "name": "python",
   "nbconvert_exporter": "python",
   "pygments_lexer": "ipython3"
  }
 },
 "nbformat": 4,
 "nbformat_minor": 4
}
