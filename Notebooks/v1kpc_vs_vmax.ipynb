{
 "cells": [
  {
   "cell_type": "markdown",
   "metadata": {},
   "source": [
    "## First, imports:"
   ]
  },
  {
   "cell_type": "code",
   "execution_count": null,
   "metadata": {},
   "outputs": [],
   "source": [
    "%load_ext autoreload\n",
    "%autoreload 2\n",
    "\n",
    "%config IPCompleter.greedy=True"
   ]
  },
  {
   "cell_type": "code",
   "execution_count": null,
   "metadata": {},
   "outputs": [],
   "source": [
    "import matplotlib.pyplot as plt\n",
    "import numpy as np\n",
    "from astropy import units"
   ]
  },
  {
   "cell_type": "markdown",
   "metadata": {},
   "source": [
    "Import my library:"
   ]
  },
  {
   "cell_type": "code",
   "execution_count": null,
   "metadata": {},
   "outputs": [],
   "source": [
    "import os\n",
    "import sys\n",
    "\n",
    "apt_path = os.path.abspath(os.path.join('..', 'apostletools'))\n",
    "sys.path.append(apt_path)\n",
    "\n",
    "import snapshot\n",
    "import dataset_comp\n",
    "import curve_fit"
   ]
  },
  {
   "cell_type": "code",
   "execution_count": null,
   "metadata": {},
   "outputs": [],
   "source": [
    "import importlib\n",
    "importlib.reload(snapshot)\n",
    "importlib.reload(dataset_comp)\n",
    "importlib.reload(curve_fit)"
   ]
  },
  {
   "cell_type": "markdown",
   "metadata": {},
   "source": [
    "# Circular Velocities Near Half-light Radius\n",
    "\n",
    "Here, I plot the circular velocities at radius of 1 kpc, against the galaxy masses ($v_\\mathrm{max}$).\n",
    "\n",
    "## Motivation\n",
    "\n",
    "1 kpc is of the order of what would expectedly be the half-light radii of these dwarf galaxies. I expect a systematic reduction in this relation in the spectator model. This expectation is validated by the differences in the density profiles (or rotation curves) between the models. \n",
    "\n",
    "---\n",
    "\n",
    "## Set Parameters for the Plots\n",
    "\n",
    "Choose the snapshot and the simulations, and define M31 and MW in each simulation. Also, set the colors used for each simulation:"
   ]
  },
  {
   "cell_type": "code",
   "execution_count": null,
   "metadata": {
    "code_folding": []
   },
   "outputs": [],
   "source": [
    "snap_id = 127\n",
    "sim_ids = ['V1_MR_fix', 'V1_MR_curvaton_p082_fix']\n",
    "names = ['plain-LCDM', 'curv-p082']\n",
    "colors = [['black', 'gray'], ['red', 'pink']]\n",
    "\n",
    "m31 = [(1,0), (1,0)]\n",
    "mw = [(2,0), (1,1)]"
   ]
  },
  {
   "cell_type": "markdown",
   "metadata": {},
   "source": [
    "Choose how to distinguish between satellite and isolated galaxies:"
   ]
  },
  {
   "cell_type": "code",
   "execution_count": null,
   "metadata": {},
   "outputs": [],
   "source": [
    "distinction = 'by_r'\n",
    "maxdi = 2000 # Maximum distance from LG centre for isolated"
   ]
  },
  {
   "cell_type": "markdown",
   "metadata": {},
   "source": [
    "Set lower limit for the value of $v_\\mathrm{max}$ of the galaxies to be included (separately for satellites and isolated galaxies):"
   ]
  },
  {
   "cell_type": "code",
   "execution_count": null,
   "metadata": {},
   "outputs": [],
   "source": [
    "sat_low = 10\n",
    "isol_low = 10"
   ]
  },
  {
   "cell_type": "markdown",
   "metadata": {},
   "source": [
    "---\n",
    "\n",
    "## Retrieve Data\n",
    "\n",
    "### Create a Dictionary\n",
    "\n",
    "For easy handling of the relevant data, define a data dictionary that, at the top level, has entries for all simulations. Under each simulation entry, add items for the needed datasets and, under the 'Selections' key, a sub-dictionary of masking arrays for each needed condition (e.g. satellite, luminous, $v_\\mathrm{max}$ inside range, etc.).\n",
    "\n",
    "First, add the above definitions into the data dict:"
   ]
  },
  {
   "cell_type": "code",
   "execution_count": null,
   "metadata": {
    "code_folding": []
   },
   "outputs": [],
   "source": [
    "data = {}\n",
    "for name, sim_id, m31_ns, mw_ns, col in \\\n",
    "    zip(names, sim_ids, m31, mw, colors):\n",
    "    data[name] = {'snapshot': snapshot.Snapshot(sim_id, snap_id, name=name),\n",
    "                  'M31_identifier': m31_ns,\n",
    "                  'MW_identifier': mw_ns,\n",
    "                  'PlotStyle': {\n",
    "                      'Color': col\n",
    "                  }\n",
    "                 }"
   ]
  },
  {
   "cell_type": "markdown",
   "metadata": {},
   "source": [
    "Then, loop over simulations, retrieve data, compute masking arrays, and add to the dictionary:"
   ]
  },
  {
   "cell_type": "code",
   "execution_count": null,
   "metadata": {
    "code_folding": [],
    "tags": []
   },
   "outputs": [],
   "source": [
    "for name, sim_data in data.items():\n",
    "    # Get data:\n",
    "    snap = sim_data[\"snapshot\"]\n",
    "    max_point = snap.get_subhalos(\"Max_Vcirc\", \"Extended\")\n",
    "    vmax = max_point[:,0] * units.cm.to(units.km)\n",
    "    v1kpc = snap.get_subhalos(\"V1kpc\", \"Extended\") * units.cm.to(units.km)\n",
    "    \n",
    "    # Split into satellites:\n",
    "    mask_m31, mask_mw, mask_isol = dataset_comp.split_satellites_by_distance(\n",
    "        snap, sim_data[\"M31_identifier\"], sim_data[\"MW_identifier\"]\n",
    "    )\n",
    "        \n",
    "    mask_lum, mask_dark = dataset_comp.split_luminous(snap)\n",
    "    \n",
    "    # Prune low-mass:\n",
    "    mask_sat_low = dataset_comp.prune_vmax(snap, low_lim=sat_low)\n",
    "    mask_isol_low = dataset_comp.prune_vmax(snap, low_lim=isol_low)\n",
    "    mask_m31 = np.logical_and(mask_m31, mask_sat_low)\n",
    "    mask_mw = np.logical_and(mask_mw, mask_sat_low)\n",
    "    mask_sat = np.logical_and(np.logical_or(mask_m31, mask_mw), mask_sat_low)\n",
    "    mask_isol = np.logical_and(mask_isol, mask_isol_low)\n",
    "\n",
    "    # Add selections (masking arrays):\n",
    "    data[name]['Selections'] = {\n",
    "        'M31': mask_m31,\n",
    "        'MW': mask_mw,\n",
    "        'Satellite': mask_sat,\n",
    "        'Isolated': mask_isol,\n",
    "        'Luminous': mask_lum,\n",
    "        'Dark': mask_dark\n",
    "    }\n",
    "        \n",
    "    # Add datasets to dictionary:\n",
    "    data[name]['Vmax'] = vmax\n",
    "    data[name]['V1kpc'] = v1kpc"
   ]
  },
  {
   "cell_type": "markdown",
   "metadata": {},
   "source": [
    "---\n",
    "\n",
    "## Plot\n",
    "\n",
    "Plot satellites and isolated galaxies on different subplots and add median fits for each dataset.\n",
    "\n",
    "First, set figure parameters:"
   ]
  },
  {
   "cell_type": "code",
   "execution_count": null,
   "metadata": {},
   "outputs": [],
   "source": [
    "# Choose font sizes:\n",
    "parameters = {'axes.titlesize': 12,\n",
    "              'axes.labelsize': 10,\n",
    "              'xtick.labelsize': 9,\n",
    "              'ytick.labelsize': 9,\n",
    "              'legend.fontsize': 10}\n",
    "\n",
    "ms = 10 # Marker size\n",
    "msl = 15 # \" \" for luminous\n",
    "a = 0.9 # Transparency\n",
    "\n",
    "# Set fonts:\n",
    "plt.rcParams.update(parameters)\n",
    "plt.tight_layout()"
   ]
  },
  {
   "cell_type": "code",
   "execution_count": null,
   "metadata": {},
   "outputs": [],
   "source": [
    "fig, axes = plt.subplots(ncols=2, sharey='row', figsize=(6, 3))\n",
    "plt.subplots_adjust(wspace=0.05)\n",
    "\n",
    "# Set axis:\n",
    "for ax in axes:\n",
    "    ax.set_xscale('log')\n",
    "axes[0].set_xlim(10, 110)    \n",
    "axes[1].set_xlim(10, 110)\n",
    "axes[0].set_xlabel('$v_{\\mathrm{max}}[\\mathrm{km s^{-1}}]$')\n",
    "axes[1].set_xlabel('$v_{\\mathrm{max}}[\\mathrm{km s^{-1}}]$')\n",
    "\n",
    "axes[0].set_yscale('log')\n",
    "axes[0].set_ylim(5, 70)    \n",
    "axes[0].set_ylabel('$v_{\\mathrm{1 kpc}} [\\mathrm{kms^{-1}}]$')\n",
    "\n",
    "axes[0].set_title('Satellite Subhalos' )\n",
    "axes[1].set_title('Isolated Subhalos' )\n",
    "\n",
    "# Add scatter plots:\n",
    "for i, (name, entry) in enumerate(data.items()):\n",
    "    \n",
    "    # Plot dark:\n",
    "    mask = np.logical_and(entry['Selections']['Satellite'],\n",
    "                          entry['Selections']['Dark'])\n",
    "    axes[0].scatter(entry['Vmax'][mask], entry['V1kpc'][mask], \n",
    "                    s=ms, edgecolor='none', alpha=a,\n",
    "                    c=entry['PlotStyle']['Color'][1])\n",
    "    \n",
    "    mask = np.logical_and(entry['Selections']['Isolated'],\n",
    "                          entry['Selections']['Dark'])\n",
    "    axes[1].scatter(entry['Vmax'][mask], entry['V1kpc'][mask], \n",
    "                    s=ms, edgecolor='none', alpha=a,\n",
    "                    c=entry['PlotStyle']['Color'][1])\n",
    "    \n",
    "    # Plot luminous:\n",
    "    mask = np.logical_and(entry['Selections']['Satellite'],\n",
    "                          entry['Selections']['Luminous'])\n",
    "    axes[0].scatter(entry['Vmax'][mask], entry['V1kpc'][mask], \n",
    "                    s=msl, facecolors='none', alpha=a,\n",
    "                    edgecolors=entry['PlotStyle']['Color'][1])\n",
    "    \n",
    "    mask = np.logical_and(entry['Selections']['Isolated'],\n",
    "                          entry['Selections']['Luminous'])\n",
    "    axes[1].scatter(entry['Vmax'][mask], entry['V1kpc'][mask], \n",
    "                    s=msl, facecolors='none', alpha=a,\n",
    "                    edgecolors=entry['PlotStyle']['Color'][1])"
   ]
  },
  {
   "cell_type": "code",
   "execution_count": null,
   "metadata": {},
   "outputs": [],
   "source": [
    "for sim_name, sim_data in data.items():\n",
    "    axes[0].scatter([], [], c=sim_data['PlotStyle']['Color'][1], alpha=a,\n",
    "                s=ms, label=sim_name)\n",
    "    \n",
    "axes[0].legend(loc='upper left')\n",
    "\n",
    "axes[1].scatter([], [], edgecolor='black', facecolor='none', alpha=a,\n",
    "                s=msl, label=\"Luminous\")\n",
    "axes[1].scatter([], [], c='black', alpha=a, s=ms, label=\"Dark\")\n",
    "axes[1].legend(loc='lower right')\n",
    "\n",
    "fig"
   ]
  },
  {
   "cell_type": "markdown",
   "metadata": {},
   "source": [
    "### Add Median Curves"
   ]
  },
  {
   "cell_type": "code",
   "execution_count": null,
   "metadata": {},
   "outputs": [],
   "source": [
    "n_median_bins = 5\n",
    "for i, (name, entry) in enumerate(data.items()):\n",
    "    \n",
    "    # For satellites:\n",
    "    mask = entry['Selections']['Satellite']\n",
    "    x = np.log10(entry['Vmax'][mask])\n",
    "    y = np.log10(entry['V1kpc'][mask])\n",
    "    median = curve_fit.median_trend_fixed_bin_width(\n",
    "        x, y, n_bins=n_median_bins\n",
    "    )\n",
    "    if median is not None:\n",
    "        axes[0].plot(10**median[0], 10**median[1], \n",
    "                     entry['PlotStyle']['Color'][0], linestyle='--')\n",
    "    else:\n",
    "        print(\"Could not fit median for:\", name)\n",
    "    \n",
    "    # For isolated:\n",
    "    mask = entry['Selections']['Isolated']\n",
    "    x = np.log10(entry['Vmax'][mask])\n",
    "    y = np.log10(entry['V1kpc'][mask])\n",
    "    median = curve_fit.median_trend_fixed_bin_width(\n",
    "        x, y, n_bins=n_median_bins\n",
    "    )\n",
    "    if median is not None:\n",
    "        axes[1].plot(10**median[0], 10**median[1], \n",
    "                     entry['PlotStyle']['Color'][0], linestyle='--')\n",
    "    else:\n",
    "        print(\"Could not fit median for:\", name)\n",
    "        \n",
    "fig"
   ]
  },
  {
   "cell_type": "markdown",
   "metadata": {},
   "source": [
    "### Save the Figures"
   ]
  },
  {
   "cell_type": "code",
   "execution_count": null,
   "metadata": {},
   "outputs": [],
   "source": [
    "filename = 'v1kpc_vs_vmax.png'\n",
    "    \n",
    "path = os.path.abspath(os.path.join('..', 'Figures', 'MediumResolution'))\n",
    "filename = os.path.join(path, filename)\n",
    "\n",
    "fig.savefig(filename, dpi=300, bbox_inches='tight')"
   ]
  },
  {
   "cell_type": "code",
   "execution_count": null,
   "metadata": {},
   "outputs": [],
   "source": []
  }
 ],
 "metadata": {
  "kernelspec": {
   "display_name": "Python 3",
   "language": "python",
   "name": "python3"
  },
  "language_info": {
   "codemirror_mode": {
    "name": "ipython",
    "version": 3
   },
   "file_extension": ".py",
   "mimetype": "text/x-python",
   "name": "python",
   "nbconvert_exporter": "python",
   "pygments_lexer": "ipython3"
  }
 },
 "nbformat": 4,
 "nbformat_minor": 4
}
