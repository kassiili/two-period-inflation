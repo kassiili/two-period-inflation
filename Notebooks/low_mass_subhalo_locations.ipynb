{
 "cells": [
  {
   "cell_type": "markdown",
   "metadata": {},
   "source": [
    "## First, imports:"
   ]
  },
  {
   "cell_type": "code",
   "execution_count": null,
   "metadata": {},
   "outputs": [],
   "source": [
    "%load_ext autoreload\n",
    "%autoreload 2\n",
    "\n",
    "%config IPCompleter.greedy=True"
   ]
  },
  {
   "cell_type": "code",
   "execution_count": null,
   "metadata": {},
   "outputs": [],
   "source": [
    "import numpy as np\n",
    "import matplotlib.pyplot as plt\n",
    "from astropy import units\n",
    "import importlib"
   ]
  },
  {
   "cell_type": "code",
   "execution_count": null,
   "metadata": {},
   "outputs": [],
   "source": [
    "import os\n",
    "import sys\n",
    "\n",
    "apt_path = os.path.abspath(os.path.join('..', 'apostletools'))\n",
    "sys.path.append(apt_path)\n",
    "import dataset_comp\n",
    "import snapshot"
   ]
  },
  {
   "cell_type": "code",
   "execution_count": null,
   "metadata": {},
   "outputs": [],
   "source": [
    "importlib.reload(dataset_comp)\n",
    "importlib.reload(snapshot)"
   ]
  },
  {
   "cell_type": "markdown",
   "metadata": {},
   "source": [
    "# Spatial Distibution of Low-mass Subhalos\n",
    "\n",
    "## Motivation\n",
    "\n",
    "Here, I make a projection plot of the centres of potential of subhalos. I'm particularly looking at the low-mass halos and inspecting the beads-on-a-string structures that appear in the curv-p082 model. Many of these beads likely do not represent physical halos, since they are very low in mass, but are rather traces of the non-physical fragmentation of physical filamentary structures, due to numerical noise. \n",
    "\n",
    "Thus, we can use these figures to find a kind of upper mass limit for the subhalos that we trust to be non-numerical.\n",
    "\n",
    "---\n",
    "\n",
    "## Set Parameters for the Plots\n",
    "\n",
    "Choose the snapshot and the simulations, and define M31 and MW in each simulation. Also, set the colors used for each simulation:"
   ]
  },
  {
   "cell_type": "code",
   "execution_count": null,
   "metadata": {
    "code_folding": []
   },
   "outputs": [],
   "source": [
    "snap_id = 127\n",
    "sim_ids = ['V1_MR_fix', 'V1_MR_curvaton_p082_fix']\n",
    "names = ['plain-LCDM', 'spec-p082']\n",
    "\n",
    "m31 = [(1,0), (1,0)]\n",
    "mw = [(2,0), (1,1)]"
   ]
  },
  {
   "cell_type": "markdown",
   "metadata": {},
   "source": [
    "Choose how to distinguish between satellite and isolated galaxies:"
   ]
  },
  {
   "cell_type": "code",
   "execution_count": null,
   "metadata": {},
   "outputs": [],
   "source": [
    "distinction = 'by_r'\n",
    "maxdi = 2000 # Maximum distance from LG centre for isolated"
   ]
  },
  {
   "cell_type": "markdown",
   "metadata": {},
   "source": [
    "Set the low-mass threshold. Subhalos with masses above or below this limit are plotted on different subplots."
   ]
  },
  {
   "cell_type": "code",
   "execution_count": null,
   "metadata": {},
   "outputs": [],
   "source": [
    "lowm = 7"
   ]
  },
  {
   "cell_type": "markdown",
   "metadata": {},
   "source": [
    "---\n",
    "\n",
    "## Retrieve Data\n",
    "\n",
    "### Create a Dictionary\n",
    "\n",
    "For easy handling of the relevant data, define a data dictionary that, at the top level, has entries for all simulations. Under each simulation entry, add items for the needed datasets and, under the 'Selections' key, a sub-dictionary of masking arrays for each needed condition (e.g. satellite, luminous, $v_\\mathrm{max}$ inside range, etc.).\n",
    "\n",
    "First, add the above definitions into the data dict:"
   ]
  },
  {
   "cell_type": "code",
   "execution_count": null,
   "metadata": {
    "code_folding": []
   },
   "outputs": [],
   "source": [
    "data = {}\n",
    "for name, sim_id, m31_ns, mw_ns in zip(names, sim_ids, m31, mw):\n",
    "    data[name] = {'snapshot': snapshot.Snapshot(sim_id, snap_id, name=name),\n",
    "                  'M31_identifier': m31_ns,\n",
    "                  'MW_identifier': mw_ns}"
   ]
  },
  {
   "cell_type": "markdown",
   "metadata": {},
   "source": [
    "### Compute Projections\n",
    "\n",
    "First, get centres of potential of subhalos and compute them wrt. the LG centre. Then, find two orthogonal planes that intersect both M31 and MW. Denote the two vectors normal to these planes by n1 and n2. The two (arbitrary) parameters a and b determine the orientation angle of the plane normal to n1. "
   ]
  },
  {
   "cell_type": "code",
   "execution_count": null,
   "metadata": {},
   "outputs": [],
   "source": [
    "for name, sim_data in data.items():\n",
    "    snap = sim_data['snapshot']\n",
    "    cops = snap.get_subhalos(\"CentreOfPotential\")\n",
    "    m31 = sim_data['M31_identifier']\n",
    "    mw = sim_data['MW_identifier']\n",
    "    LG_centre = dataset_comp.compute_LG_centre(snap, m31, mw)\n",
    "\n",
    "    # Centre on LG:\n",
    "    cops = dataset_comp.periodic_wrap(snap, LG_centre, cops) - LG_centre\n",
    "\n",
    "    # Convert units:\n",
    "    cops = cops * units.cm.to(units.Mpc)\n",
    "\n",
    "    # Compute the unit separation vector:\n",
    "    cop_m31 = cops[snap.index_of_halo(m31[0], m31[1])]\n",
    "    cop_mw = cops[snap.index_of_halo(mw[0], mw[1])]\n",
    "    r = cop_m31 - cop_mw\n",
    "    r = r / np.linalg.norm(r)\n",
    "\n",
    "    # Compute a unit vector orthogonal to r, n1:\n",
    "    a = 1; b = 1\n",
    "    n1 = np.array([-1/r[0] * (a*r[1] + b*r[2]), a, b])\n",
    "    n1 = n1 / np.linalg.norm(n1)\n",
    "\n",
    "    # Compute another unit vector orthogonal to both r and n1:\n",
    "    n2 = np.cross(r, n1)\n",
    "\n",
    "    # Project onto the plane orthogonal to n1:\n",
    "    data[name]['Proj1'] = {\n",
    "        'COP' : np.column_stack((np.dot(cops, r), np.dot(cops, n2))),\n",
    "        'M31' : {\n",
    "            'COP' : np.array((np.dot(cop_m31, r), np.dot(cop_m31, n2)))\n",
    "        },\n",
    "        'MW' : {\n",
    "            'COP' : np.array((np.dot(cop_mw, r), np.dot(cop_mw, n2)))\n",
    "        }\n",
    "    }\n",
    "\n",
    "    # Project onto the plane orthogonal to n2:\n",
    "    data[name]['Proj2'] = {\n",
    "        'COP' : np.column_stack((np.dot(cops, r), np.dot(cops, n1))),\n",
    "        'M31' : {\n",
    "            'COP' : np.array((np.dot(cop_m31, r), np.dot(cop_m31, n1)))\n",
    "        },\n",
    "        'MW' : {\n",
    "            'COP' : np.array((np.dot(cop_mw, r), np.dot(cop_mw, n1)))\n",
    "        }\n",
    "    }"
   ]
  },
  {
   "cell_type": "markdown",
   "metadata": {},
   "source": [
    "Then, loop over simulations, retrieve data, compute masking arrays, and add to the dictionary:"
   ]
  },
  {
   "cell_type": "code",
   "execution_count": null,
   "metadata": {
    "code_folding": []
   },
   "outputs": [],
   "source": [
    "for name, sim_data in data.items():\n",
    "    # Get data:\n",
    "    snap = sim_data['snapshot']\n",
    "    max_point = snap.get_subhalos(\"Max_Vcirc\", \"Extended\")\n",
    "    vmax = max_point[:,0] * units.cm.to(units.km)\n",
    "    data[name]['Vmax'] = vmax\n",
    "\n",
    "    # Split into satellites:    \n",
    "    m31 = sim_data['M31_identifier']\n",
    "    mw = sim_data['MW_identifier']\n",
    "    if distinction == 'by_r':\n",
    "        masks_sat, mask_isol = dataset_comp.split_satellites_by_distance(\n",
    "            snap, m31, mw)\n",
    "    elif distinction == 'by_gn':\n",
    "        masks_sat, mask_isol = dataset_comp.split_satellites_by_group_number(\n",
    "            snap, m31, mw)\n",
    "        \n",
    "    # Compute masking arrays:\n",
    "    mask_m31 = masks_sat[0]\n",
    "    mask_mw = masks_sat[1]\n",
    "    mask_subhalo = np.logical_and(np.arange(mask_m31.size) != snap.index_of_halo(m31[0], m31[1]),\n",
    "                                  np.arange(mask_m31.size) != snap.index_of_halo(mw[0], mw[1]))\n",
    "    mask_lum, mask_dark = dataset_comp.split_luminous(snap)\n",
    "    \n",
    "    # Mask low mass subhalos:\n",
    "    mask_lowm = vmax < lowm\n",
    "    \n",
    "    # Prune potential spurious:\n",
    "    mask_nonzero_vmax = dataset_comp.prune_vmax(snap)\n",
    "    mask_m31 = mask_m31[mask_nonzero_vmax]\n",
    "    mask_mw = mask_mw[mask_nonzero_vmax]\n",
    "    mask_lum = mask_lum[mask_nonzero_vmax]\n",
    "    mask_dark = mask_dark[mask_nonzero_vmax]\n",
    "    mask_subhalo = mask_subhalo[mask_nonzero_vmax]\n",
    "    \n",
    "    # Add selections (masking arrays):\n",
    "    data[name]['Selections'] = {\n",
    "        'M31': mask_m31,\n",
    "        'MW': mask_mw,\n",
    "        'Isolated': mask_isol,\n",
    "        'Subhalos': mask_subhalo,\n",
    "        'Luminous': mask_lum,\n",
    "        'Dark': mask_dark,\n",
    "        'LowMass': mask_lowm\n",
    "    }"
   ]
  },
  {
   "cell_type": "markdown",
   "metadata": {},
   "source": [
    "---\n",
    "\n",
    "## Plot \n",
    "\n",
    "Plot subhalos with vmax < lowm in the upper row, and the more massive ones in the lower one. Plot two columns for both simulations.\n",
    "\n",
    "First, set figure parameters:"
   ]
  },
  {
   "cell_type": "code",
   "execution_count": null,
   "metadata": {},
   "outputs": [],
   "source": [
    "# Choose font sizes:\n",
    "parameters = {'axes.titlesize': 10,\n",
    "              'axes.labelsize': 9,\n",
    "              'xtick.labelsize': 6,\n",
    "              'ytick.labelsize': 6,\n",
    "              'legend.fontsize': 8}\n",
    "\n",
    "# Set marker size limits:\n",
    "smin = 0.001; smax = 3\n",
    "mmin = 0; mmax = 10**10\n",
    "# Iterate through simulations to find :\n",
    "for sim_data in data.values():    \n",
    "    mmax = np.max(sim_data['Vmax'][sim_data['Selections']['Subhalos']])\n",
    "    mmin = np.min(sim_data['Vmax'][sim_data['Selections']['Subhalos']])\n",
    "\n",
    "# Select projection plane:\n",
    "x = 0; y = 1"
   ]
  },
  {
   "cell_type": "code",
   "execution_count": null,
   "metadata": {},
   "outputs": [],
   "source": [
    "# Choose font sizes:\n",
    "parameters = {'axes.titlesize': 10,\n",
    "              'axes.labelsize': 9,\n",
    "              'xtick.labelsize': 6,\n",
    "              'ytick.labelsize': 6,\n",
    "              'legend.fontsize': 8}\n",
    "\n",
    "# Set marker size limits:\n",
    "slow = 0.001; smax = 2\n",
    "mlow = lowm; mmax = 0\n",
    "\n",
    "# Iterate through simulations to find largest value of vmax:\n",
    "for sim_data in data.values():    \n",
    "    mmax = max(\n",
    "        mmax, np.max(sim_data['Vmax'][sim_data['Selections']['Subhalos']])\n",
    "    )\n",
    "\n",
    "# Select projection plane:\n",
    "x = 0; y = 1"
   ]
  },
  {
   "cell_type": "code",
   "execution_count": null,
   "metadata": {},
   "outputs": [],
   "source": [
    "print(mlow, mmax)"
   ]
  },
  {
   "cell_type": "code",
   "execution_count": null,
   "metadata": {},
   "outputs": [],
   "source": [
    "# Set fonts:\n",
    "plt.rcParams.update(parameters)\n",
    "plt.tight_layout()\n",
    "\n",
    "fig, axes = plt.subplots(ncols=len(data), nrows=2, sharey='all', sharex='all', \n",
    "                         subplot_kw=dict(box_aspect=1), figsize=(4.9,5))\n",
    "plt.subplots_adjust(wspace=0.04)\n",
    "plt.subplots_adjust(hspace=0.04)\n",
    "\n",
    "axes[0,0].set_ylabel('$y [\\mathrm{Mpc}]$')\n",
    "axes[1,0].set_xlabel('$x [\\mathrm{Mpc}]$')\n",
    "axes[1,0].set_ylabel('$y [\\mathrm{Mpc}]$')\n",
    "axes[1,1].set_xlabel('$x [\\mathrm{Mpc}]$')\n",
    "    \n",
    "# Set axis limits:\n",
    "ax_size = 5\n",
    "axes[1, 0].set_xlim(-ax_size/2, ax_size/2)\n",
    "axes[1, 0].set_ylim(-ax_size/2, ax_size/2)\n",
    "\n",
    "# Iterate through simulations (columns):\n",
    "for i, (key, sim_data) in enumerate(data.items()):\n",
    "    \n",
    "    axes[0, i].set_title(key)    \n",
    "    \n",
    "    # Set text size:\n",
    "#     s = 14\n",
    "#     axes[0, i].title.set_size(s)\n",
    "#     axes[1, i].xaxis.label.set_size(s)\n",
    "#     axes[0, 0].yaxis.label.set_size(s)\n",
    "#     axes[1, 0].yaxis.label.set_size(s)\n",
    "    \n",
    "    def mass_to_marker(x):\n",
    "        return 1/(mmax-mmin) * (smax*(x-mmin) - smin*(x-mmax))\n",
    "    \n",
    "    # Plot spurious low-mass subhalos in the upper row:\n",
    "    mask_dark = np.logical_and(sim_data['Selections']['Dark'],\n",
    "                          sim_data['Selections']['LowMass'])\n",
    "    axes[0,i].scatter(sim_data['Proj1']['COP'][mask_dark][:,0], \n",
    "                      sim_data['Proj1']['COP'][mask_dark][:,1],\n",
    "                      c='black',\n",
    "                      alpha=0.7,\n",
    "                      s=mass_to_marker(sim_data['Vmax'][mask_dark]))\n",
    "    \n",
    "    mask_lum = np.logical_and(sim_data['Selections']['Luminous'],\n",
    "                              sim_data['Selections']['LowMass'])    \n",
    "    axes[0,i].scatter(sim_data['Proj1']['COP'][mask_lum][:,0], \n",
    "                      sim_data['Proj1']['COP'][mask_lum][:,1],\n",
    "                      facecolors='none', \n",
    "                      edgecolors='blue',\n",
    "                      alpha=0.7,\n",
    "                      s=10*mass_to_marker(sim_data['Vmax'][mask_lum]))\n",
    "\n",
    "    \n",
    "    # Plot physically representative more massive halos in the lower row:\n",
    "    mask_dark = np.logical_and.reduce([sim_data['Selections']['Subhalos'],\n",
    "                                       sim_data['Selections']['Dark'],\n",
    "                                       np.logical_not(sim_data['Selections']['LowMass'])])\n",
    "    axes[1,i].scatter(sim_data['Proj1']['COP'][mask_dark][:,0], \n",
    "                      sim_data['Proj1']['COP'][mask_dark][:,1],\n",
    "                      c='gray',\n",
    "                      alpha=0.7,\n",
    "                      s=10*mass_to_marker(sim_data['Vmax'][mask_dark]))\n",
    "\n",
    "    mask_lum = np.logical_and.reduce([sim_data['Selections']['Subhalos'],\n",
    "                                      sim_data['Selections']['Luminous'],\n",
    "                                      np.logical_not(sim_data['Selections']['LowMass'])])    \n",
    "    axes[1,i].scatter(sim_data['Proj1']['COP'][mask_lum][:,0], \n",
    "                      sim_data['Proj1']['COP'][mask_lum][:,1],\n",
    "                      facecolors='none', \n",
    "                      edgecolors='blue',\n",
    "                      alpha=0.5,\n",
    "                      s=10*mass_to_marker(sim_data['Vmax'][mask_lum]))\n",
    "    \n",
    "    "
   ]
  },
  {
   "cell_type": "code",
   "execution_count": null,
   "metadata": {},
   "outputs": [],
   "source": [
    "# Iterate through simulations (columns):\n",
    "for i, (key, sim_data) in enumerate(data.items()):\n",
    "    \n",
    "    # Plot central halo centres in all subplots:    \n",
    "    axes[0,i].scatter(sim_data['Proj1']['M31']['COP'][0], \n",
    "                      sim_data['Proj1']['M31']['COP'][1],\n",
    "                      c='red', s=4)\n",
    "    axes[0,i].scatter(sim_data['Proj1']['MW']['COP'][0], \n",
    "                      sim_data['Proj1']['MW']['COP'][1],\n",
    "                      c='red', s=4)\n",
    "    axes[1,i].scatter(sim_data['Proj1']['M31']['COP'][0],\n",
    "                      sim_data['Proj1']['M31']['COP'][1],\n",
    "                      c='red', s=4)\n",
    "    axes[1,i].scatter(sim_data['Proj1']['MW']['COP'][0], \n",
    "                      sim_data['Proj1']['MW']['COP'][1],\n",
    "                      c='red', s=4)\n",
    "    \n",
    "    # Plot 2Mpc circles (for isolated):\n",
    "    def circle(centre_x, centre_y, r, n):\n",
    "        t = 4*np.pi/n * np.arange(n/2)\n",
    "        x = centre_x + r * np.cos(t)\n",
    "        y = centre_y + r * np.sin(t)\n",
    "        return x, y\n",
    "\n",
    "    lw = 0.3\n",
    "    x_circ, y_circ = circle(0, 0, 2, 10000)\n",
    "    axes[0,i].plot(x_circ, y_circ, c='black', linestyle='dashed', linewidth=lw)\n",
    "    axes[1,i].plot(x_circ, y_circ, c='black', linestyle='dashed', linewidth=lw)\n",
    "    \n",
    "# Add text box:\n",
    "axes[0,1].text(0.9, 0.1, \"$v_\\mathrm{{max}} < {} \\mathrm{{km/s}}$\".format(lowm),\n",
    "               transform=axes[0,1].transAxes, ha=\"right\", va=\"bottom\")\n",
    "axes[1,1].text(0.9, 0.1, \"$v_\\mathrm{{max}} > {} \\mathrm{{km/s}}$\".format(lowm),\n",
    "               transform=axes[1,1].transAxes, ha=\"right\", va=\"bottom\")\n",
    "\n",
    "fig"
   ]
  },
  {
   "cell_type": "markdown",
   "metadata": {},
   "source": [
    "### Save the Figure"
   ]
  },
  {
   "cell_type": "code",
   "execution_count": null,
   "metadata": {},
   "outputs": [],
   "source": [
    "# Construct saving location:\n",
    "filename = 'Satellite_locations_low_mass'\n",
    "for name in names:\n",
    "    filename += '_{}'.format(name)\n",
    "filename += '.png'\n",
    "    \n",
    "home = os.path.abspath(os.path.join('..'))\n",
    "path = os.path.join(home,'Figures', 'MediumResolution')\n",
    "filename = os.path.join(path, filename)\n",
    "    \n",
    "fig.savefig(filename, dpi=300)"
   ]
  },
  {
   "cell_type": "code",
   "execution_count": null,
   "metadata": {},
   "outputs": [],
   "source": []
  }
 ],
 "metadata": {
  "kernelspec": {
   "display_name": "Python 3",
   "language": "python",
   "name": "python3"
  },
  "language_info": {
   "codemirror_mode": {
    "name": "ipython",
    "version": 3
   },
   "file_extension": ".py",
   "mimetype": "text/x-python",
   "name": "python",
   "nbconvert_exporter": "python",
   "pygments_lexer": "ipython3"
  }
 },
 "nbformat": 4,
 "nbformat_minor": 4
}
