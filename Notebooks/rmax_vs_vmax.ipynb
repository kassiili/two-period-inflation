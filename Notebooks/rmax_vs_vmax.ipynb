{
 "cells": [
  {
   "cell_type": "markdown",
   "metadata": {},
   "source": [
    "## First, imports:"
   ]
  },
  {
   "cell_type": "code",
   "execution_count": null,
   "metadata": {},
   "outputs": [],
   "source": [
    "%load_ext autoreload\n",
    "%autoreload 2\n",
    "\n",
    "%config IPCompleter.greedy=True"
   ]
  },
  {
   "cell_type": "code",
   "execution_count": null,
   "metadata": {},
   "outputs": [],
   "source": [
    "import matplotlib.pyplot as plt\n",
    "import numpy as np\n",
    "from astropy import units"
   ]
  },
  {
   "cell_type": "code",
   "execution_count": null,
   "metadata": {},
   "outputs": [],
   "source": [
    "# Import my library:\n",
    "\n",
    "import os\n",
    "import sys\n",
    "\n",
    "apt_path = os.path.abspath(os.path.join('..', 'apostletools'))\n",
    "sys.path.append(apt_path)\n",
    "\n",
    "import snapshot\n",
    "import dataset_comp\n",
    "import curve_fit"
   ]
  },
  {
   "cell_type": "code",
   "execution_count": null,
   "metadata": {},
   "outputs": [],
   "source": [
    "import importlib\n",
    "importlib.reload(snapshot)\n",
    "importlib.reload(dataset_comp)\n",
    "importlib.reload(curve_fit)"
   ]
  },
  {
   "cell_type": "markdown",
   "metadata": {},
   "source": [
    "# Maximum Rotational Velocities\n",
    "\n",
    "## Motivation\n",
    "\n",
    "Just from the reduction of power on small scales in the initial conditions, one would expect that (at least for the isolated galaxies) the rotation curve peak – for any galaxy of given mass (as measured by $v_\\mathrm{max}$) – is at higher radius in the curvaton simulations. This should be especially true for low-mass galaxies (and, of course, this effect is expected to become insignificant towards the higher masses). Indeed, this is observed in the dwarf galaxy rotation curves. To make a clear case for the existence of this systematic effect, I plot $v_\\mathrm{max}$ vs. $r_\\mathrm{max}$ (the peak radius). \n",
    "\n",
    "---\n",
    "\n",
    "## Set Parameters for the Plots\n",
    "\n",
    "Choose the snapshot and the simulations, and define M31 and MW in each simulation. Also, set the colors used for each simulation:"
   ]
  },
  {
   "cell_type": "code",
   "execution_count": null,
   "metadata": {
    "code_folding": []
   },
   "outputs": [],
   "source": [
    "snap_id = 127\n",
    "sim_ids = ['V1_MR_fix', 'V1_MR_curvaton_p082_fix']\n",
    "names = ['plain-LCDM', 'spec-p082']\n",
    "colors = [['black', 'gray'], ['red', 'pink']]\n",
    "marker = ['o', '^']\n",
    "\n",
    "m31 = [(1,0), (1,0)]\n",
    "mw = [(2,0), (1,1)]"
   ]
  },
  {
   "cell_type": "markdown",
   "metadata": {},
   "source": [
    "Choose how to distinguish between satellite and isolated galaxies:"
   ]
  },
  {
   "cell_type": "code",
   "execution_count": null,
   "metadata": {},
   "outputs": [],
   "source": [
    "distinction = 'by_r'\n",
    "maxdi = 2000 # Maximum distance from LG centre for isolated"
   ]
  },
  {
   "cell_type": "markdown",
   "metadata": {},
   "source": [
    "Set lower limit for the value of $v_\\mathrm{max}$ of the galaxies to be included (separately for satellites and isolated galaxies):"
   ]
  },
  {
   "cell_type": "code",
   "execution_count": null,
   "metadata": {},
   "outputs": [],
   "source": [
    "sat_low = 10\n",
    "isol_low = 15"
   ]
  },
  {
   "cell_type": "markdown",
   "metadata": {},
   "source": [
    "---\n",
    "\n",
    "## Retrieve Data\n",
    "\n",
    "### Create a Dictionary\n",
    "\n",
    "For easy handling of the relevant data, define a data dictionary that, at the top level, has entries for all simulations. Under each simulation entry, add items for the needed datasets and, under the 'Selections' key, a sub-dictionary of masking arrays for each needed condition (e.g. satellite, luminous, $v_\\mathrm{max}$ inside range, etc.).\n",
    "\n",
    "First, add the above definitions into the data dict:"
   ]
  },
  {
   "cell_type": "code",
   "execution_count": null,
   "metadata": {
    "code_folding": []
   },
   "outputs": [],
   "source": [
    "data = {}\n",
    "for name, sim_id, m31_ns, mw_ns, col, mark in \\\n",
    "    zip(names, sim_ids, m31, mw, colors, marker):\n",
    "    data[name] = {'snapshot': snapshot.Snapshot(sim_id, snap_id, name=name),\n",
    "                  'M31_identifier': m31_ns,\n",
    "                  'MW_identifier': mw_ns,\n",
    "                  'PlotStyle': {\n",
    "                      'Color': col,\n",
    "                      'Marker': mark\n",
    "                  }\n",
    "                 }"
   ]
  },
  {
   "cell_type": "markdown",
   "metadata": {},
   "source": [
    "Then, loop over simulations, retrieve data, compute masking arrays, and add to the dictionary:"
   ]
  },
  {
   "cell_type": "code",
   "execution_count": null,
   "metadata": {
    "code_folding": []
   },
   "outputs": [],
   "source": [
    "for name, sim_data in data.items():\n",
    "    # Get data:\n",
    "    snap = sim_data[\"snapshot\"]\n",
    "    max_point = snap.get_subhalos(\"Max_Vcirc\", \"Extended\")\n",
    "    vmax = max_point[:,0] * units.cm.to(units.km)\n",
    "    rmax = max_point[:,1] * units.cm.to(units.kpc)\n",
    "    \n",
    "    # Split into satellites:\n",
    "    if distinction == \"by_r\":\n",
    "        masks_sat, mask_isol = dataset_comp.split_satellites_by_distance(\n",
    "            snap, sim_data[\"M31_identifier\"], sim_data[\"MW_identifier\"])\n",
    "    elif distinction == \"by_gn\":\n",
    "        masks_sat, mask_isol = dataset_comp.split_satellites_by_group_number(\n",
    "            snap, sim_data[\"M31_identifier\"], sim_data[\"MW_identifier\"])\n",
    "        \n",
    "    mask_lum, mask_dark = dataset_comp.split_luminous(snap)\n",
    "    \n",
    "    # Prune low-mass:\n",
    "    mask_sat_low = dataset_comp.prune_vmax(snap, low_lim=sat_low)\n",
    "    mask_isol_low = dataset_comp.prune_vmax(snap, low_lim=isol_low)\n",
    "    mask_m31 = np.logical_and(masks_sat[0], mask_sat_low)\n",
    "    mask_mw = np.logical_and(masks_sat[1], mask_sat_low)\n",
    "    mask_sat = np.logical_and(np.logical_or.reduce(masks_sat), mask_sat_low)\n",
    "    mask_isol = np.logical_and(mask_isol, mask_isol_low)\n",
    "\n",
    "    # Add selections (masking arrays):\n",
    "    data[name]['Selections'] = {\n",
    "        'M31': mask_m31,\n",
    "        'MW': mask_mw,\n",
    "        'Satellite': mask_sat,\n",
    "        'Isolated': mask_isol,\n",
    "        'Luminous': mask_lum,\n",
    "        'Dark': mask_dark\n",
    "    }\n",
    "        \n",
    "    # Add datasets to dictionary:\n",
    "    data[name]['Vmax'] = vmax\n",
    "    data[name]['Rmax'] = rmax"
   ]
  },
  {
   "cell_type": "markdown",
   "metadata": {},
   "source": [
    "---\n",
    "\n",
    "## Plot\n",
    "\n",
    "Plot satellites and isolated galaxies on different subplots and add median fits for each dataset."
   ]
  },
  {
   "cell_type": "code",
   "execution_count": null,
   "metadata": {},
   "outputs": [],
   "source": [
    "# Choose font sizes:\n",
    "parameters = {'axes.titlesize': 10,\n",
    "              'axes.labelsize': 9,\n",
    "              'xtick.labelsize': 6,\n",
    "              'ytick.labelsize': 6,\n",
    "              'legend.fontsize': 8}"
   ]
  },
  {
   "cell_type": "code",
   "execution_count": null,
   "metadata": {},
   "outputs": [],
   "source": [
    "# Set fonts:\n",
    "plt.rcParams.update(parameters)\n",
    "plt.tight_layout()\n",
    "\n",
    "fig, axes = plt.subplots(ncols=2, sharey='row')\n",
    "plt.subplots_adjust(wspace=0.05)\n",
    "\n",
    "ms = 8 # Marker size\n",
    "msl = 10\n",
    "a = 0.9 # Transparency\n",
    "\n",
    "\n",
    "# Set axis:\n",
    "for ax in axes:\n",
    "    ax.set_xscale('log')\n",
    "    ax.set_box_aspect(0.9) # Set subfigure box side aspect ratio\n",
    "    \n",
    "axes[0].set_xlim(10, 110)    \n",
    "axes[1].set_xlim(15, 110)\n",
    "axes[0].set_xlabel('$v_{\\mathrm{max}}[\\mathrm{km s^{-1}}]$' )\n",
    "axes[1].set_xlabel('$v_{\\mathrm{max}}[\\mathrm{km s^{-1}}]$' )\n",
    "\n",
    "axes[0].set_yscale('log')\n",
    "axes[0].set_ylim(0.5, 50)    \n",
    "axes[0].set_ylabel('$r_{\\mathrm{max}}[\\mathrm{kpc}]$' )\n",
    "\n",
    "axes[0].set_title('Satellite Galaxies' )\n",
    "axes[1].set_title('Isolated Galaxies' )\n",
    "\n",
    "# Add scatter plots:\n",
    "for i, (name, entry) in enumerate(data.items()):\n",
    "    \n",
    "    # Plot dark:\n",
    "    mask = np.logical_and(entry['Selections']['Satellite'],\n",
    "                          entry['Selections']['Dark'])\n",
    "    axes[0].scatter(entry['Vmax'][mask], entry['Rmax'][mask], \n",
    "                    s=ms, edgecolor='none', alpha=a,\n",
    "                    c=entry['PlotStyle']['Color'][1],\n",
    "                    label=\"{} non-SF\".format(name))\n",
    "    \n",
    "    mask = np.logical_and(entry['Selections']['Isolated'],\n",
    "                          entry['Selections']['Dark'])\n",
    "    axes[1].scatter(entry['Vmax'][mask], entry['Rmax'][mask], \n",
    "                    s=ms, edgecolor='none', alpha=a,\n",
    "                    c=entry['PlotStyle']['Color'][1],\n",
    "                    label=\"{} non-SF\".format(name))\n",
    "    \n",
    "    # Plot luminous:\n",
    "    mask = np.logical_and(entry['Selections']['Satellite'],\n",
    "                          entry['Selections']['Luminous'])\n",
    "    axes[0].scatter(entry['Vmax'][mask], entry['Rmax'][mask], \n",
    "                    s=msl, facecolors='none', alpha=a,\n",
    "                    edgecolors=entry['PlotStyle']['Color'][1],\n",
    "                    label=\"{} SF\".format(name))\n",
    "    \n",
    "    mask = np.logical_and(entry['Selections']['Isolated'],\n",
    "                          entry['Selections']['Luminous'])\n",
    "    axes[1].scatter(entry['Vmax'][mask], entry['Rmax'][mask], \n",
    "                    s=msl, facecolors='none', alpha=a,\n",
    "                    edgecolors=entry['PlotStyle']['Color'][1],\n",
    "                    label=\"{} SF\".format(name))\n",
    "        \n",
    "axes[1].legend(loc='lower right')"
   ]
  },
  {
   "cell_type": "markdown",
   "metadata": {},
   "source": [
    "### Add Median Curves"
   ]
  },
  {
   "cell_type": "code",
   "execution_count": null,
   "metadata": {},
   "outputs": [],
   "source": [
    "n_median_points = 5\n",
    "min_dx = 0.05\n",
    "for i, (name, entry) in enumerate(data.items()):\n",
    "    \n",
    "    # For satellites:\n",
    "    mask = entry['Selections']['Satellite']\n",
    "    x = np.log10(entry['Vmax'][mask])\n",
    "    y = np.log10(entry['Rmax'][mask])\n",
    "    median = curve_fit.median_once_more(\n",
    "        x, y, n_points_per_bar=n_median_points, min_dx=min_dx\n",
    "    )\n",
    "    if median is not None:\n",
    "        axes[0].plot(10**median[0], 10**median[1], \n",
    "                     entry['PlotStyle']['Color'][0], linestyle='--')\n",
    "    else:\n",
    "        print(\"Could not fit median for:\", name)\n",
    "    \n",
    "    # For isolated:\n",
    "    mask = entry['Selections']['Isolated']\n",
    "    x = np.log10(entry['Vmax'][mask])\n",
    "    y = np.log10(entry['Rmax'][mask])\n",
    "    median = curve_fit.median_once_more(\n",
    "        x, y, n_points_per_bar=n_median_points, min_dx=min_dx\n",
    "    )\n",
    "    if median is not None:\n",
    "        axes[1].plot(10**median[0], 10**median[1], \n",
    "                     entry['PlotStyle']['Color'][0], linestyle='--')\n",
    "    else:\n",
    "        print(\"Could not fit median for:\", name)\n",
    "        \n",
    "fig"
   ]
  },
  {
   "cell_type": "markdown",
   "metadata": {},
   "source": [
    "### Save the Figures"
   ]
  },
  {
   "cell_type": "code",
   "execution_count": null,
   "metadata": {},
   "outputs": [],
   "source": [
    "filename = 'rmax_vs_vmax'\n",
    "for name in names:\n",
    "    filename += '_{}'.format(name)\n",
    "filename += '.png'\n",
    "    \n",
    "path = os.path.abspath(os.path.join('..', 'Figures', 'MediumResolution'))\n",
    "filename = os.path.join(path, filename)\n",
    "\n",
    "fig.savefig(filename, dpi=300, bbox_inches='tight')"
   ]
  },
  {
   "cell_type": "code",
   "execution_count": null,
   "metadata": {},
   "outputs": [],
   "source": []
  }
 ],
 "metadata": {
  "kernelspec": {
   "display_name": "Python 3",
   "language": "python",
   "name": "python3"
  },
  "language_info": {
   "codemirror_mode": {
    "name": "ipython",
    "version": 3
   },
   "file_extension": ".py",
   "mimetype": "text/x-python",
   "name": "python",
   "nbconvert_exporter": "python",
   "pygments_lexer": "ipython3"
  }
 },
 "nbformat": 4,
 "nbformat_minor": 4
}
