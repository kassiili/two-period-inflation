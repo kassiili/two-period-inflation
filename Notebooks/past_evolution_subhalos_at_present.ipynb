{
 "cells": [
  {
   "cell_type": "markdown",
   "metadata": {},
   "source": [
    "# Ideas for this notebook\n",
    "\n",
    "- try looking at evolution histories at, say, snapshot 126: is there a satellite that gets destroyed before snapshot 127? Could this work as an illustrative satellite?\n",
    "- Select 10 luminous (solid lines) and 10 dark (dashed lines)\n",
    "- Plot survival times in mass bins (v_max < 15 km/s, ...) and split each bar into luminous and dark"
   ]
  },
  {
   "cell_type": "markdown",
   "metadata": {},
   "source": [
    "## First, imports:"
   ]
  },
  {
   "cell_type": "code",
   "execution_count": null,
   "metadata": {},
   "outputs": [],
   "source": [
    "%load_ext autoreload\n",
    "%autoreload 2\n",
    "\n",
    "%config IPCompleter.greedy=True"
   ]
  },
  {
   "cell_type": "code",
   "execution_count": null,
   "metadata": {},
   "outputs": [],
   "source": [
    "import numpy as np\n",
    "import matplotlib.pyplot as plt\n",
    "from scipy.interpolate import interp1d\n",
    "\n",
    "from astropy import units\n",
    "from astropy.cosmology import FlatLambdaCDM, z_at_value"
   ]
  },
  {
   "cell_type": "markdown",
   "metadata": {},
   "source": [
    "Import my library:"
   ]
  },
  {
   "cell_type": "code",
   "execution_count": null,
   "metadata": {},
   "outputs": [],
   "source": [
    "import os\n",
    "import sys\n",
    "\n",
    "apt_path = os.path.abspath(os.path.join('..', 'apostletools'))\n",
    "sys.path.append(apt_path)\n",
    "\n",
    "import simulation\n",
    "import simtrace\n",
    "import match_halo\n",
    "import dataset_comp"
   ]
  },
  {
   "cell_type": "code",
   "execution_count": null,
   "metadata": {},
   "outputs": [],
   "source": [
    "import importlib\n",
    "importlib.reload(simulation)\n",
    "importlib.reload(simtrace)\n",
    "importlib.reload(match_halo)\n",
    "importlib.reload(dataset_comp)"
   ]
  },
  {
   "cell_type": "markdown",
   "metadata": {
    "tags": []
   },
   "source": [
    "# Evolution Histories of the Subhalos Present at $z=0$\n",
    "\n",
    "In this notebook, I inspect the origins of the subhalos that are satellites of the central galaxies at $z=0$, and also some isolated subhalos. I will look at their trajectories, and mass evolution."
   ]
  },
  {
   "cell_type": "markdown",
   "metadata": {
    "tags": []
   },
   "source": [
    "---\n",
    "\n",
    "### plain-LCDM-LR\n",
    "\n",
    "Set the envelope file path, and define the M31 and the MW at redshift $z=0$:"
   ]
  },
  {
   "cell_type": "code",
   "execution_count": null,
   "metadata": {},
   "outputs": [],
   "source": [
    "env_path = os.path.abspath(os.path.join('..', 'test_tracing_inj'))\n",
    "sim= simulation.Simulation(\"V1_LR_fix\", env_path=env_path)\n",
    "\n",
    "m31_id_z0 = (1, 0)\n",
    "mw_id_z0 = (2, 0)\n",
    "snap_id_z0 = 127\n",
    "snap_id_ref = 127"
   ]
  },
  {
   "cell_type": "markdown",
   "metadata": {
    "tags": []
   },
   "source": [
    "---\n",
    "\n",
    "### plain-LCDM\n",
    "\n",
    "Set the envelope file path, and define the M31 and the MW at redshift $z=0$:"
   ]
  },
  {
   "cell_type": "code",
   "execution_count": null,
   "metadata": {},
   "outputs": [],
   "source": [
    "env_path = os.path.abspath(os.path.join('..', 'test_tracing_inj'))\n",
    "sim= simulation.Simulation(\"V1_MR_fix\", env_path=env_path)\n",
    "\n",
    "m31_id_z0 = (1, 0)\n",
    "mw_id_z0 = (2, 0)\n",
    "snap_id_z0 = 127\n",
    "snap_id_ref = 115"
   ]
  },
  {
   "cell_type": "markdown",
   "metadata": {},
   "source": [
    "---\n",
    "\n",
    "## Tracing\n",
    "\n",
    "Set the range of snapshots to be traced:"
   ]
  },
  {
   "cell_type": "code",
   "execution_count": null,
   "metadata": {},
   "outputs": [],
   "source": [
    "snap_start = 100\n",
    "snap_stop = 128\n",
    "snap_ids = np.arange(snap_start, snap_stop)"
   ]
  },
  {
   "cell_type": "code",
   "execution_count": null,
   "metadata": {},
   "outputs": [],
   "source": [
    "# If the simulations are not already linked:\n",
    "matcher = match_halo.SnapshotMatcher(n_link_ref=20, n_matches=1)\n",
    "mtree = simtrace.MergerTree(sim, matcher=matcher, branching=\"BackwardBranching\")\n",
    "mtree.build_tree(snap_start, snap_stop)"
   ]
  },
  {
   "cell_type": "markdown",
   "metadata": {},
   "source": [
    "Get Subhalo objects:"
   ]
  },
  {
   "cell_type": "code",
   "execution_count": null,
   "metadata": {},
   "outputs": [],
   "source": [
    "# Trace subhalos and get the M31 and the MW Subhalo objects:\n",
    "sub_dict = sim.trace_subhalos(snap_start, snap_stop)\n",
    "\n",
    "m31 = sub_dict[snap_z0][\n",
    "    sim.get_snapshot(snap_z0).index_of_halo(m31_id_z0[0], m31_id_z0[1])\n",
    "]\n",
    "mw = sub_dict[snap_z0][\n",
    "    sim.get_snapshot(snap_z0).index_of_halo(mw_id_z0[0], mw_id_z0[1])\n",
    "]"
   ]
  },
  {
   "cell_type": "markdown",
   "metadata": {},
   "source": [
    "Define masking arrays to select satellites of M31 and MW and random sample of isolated galaxies. Select a reasonable random sample from the isolated galaxies:"
   ]
  },
  {
   "cell_type": "markdown",
   "metadata": {
    "tags": []
   },
   "source": [
    "---\n",
    "\n",
    "## Retrieve the Datasets\n",
    "\n",
    "Read all datasets into dictionaries by snapshot:"
   ]
  },
  {
   "cell_type": "code",
   "execution_count": null,
   "metadata": {},
   "outputs": [],
   "source": [
    "# Define the cosmology (should be the same for each simulation):\n",
    "H0 = sim.get_snapshot(snap_id_z0).get_attribute(\"HubbleParam\", \"Header\")\n",
    "Om0 = sim.get_snapshot(snap_id_z0).get_attribute(\"Omega0\", \"Header\")\n",
    "cosmo = FlatLambdaCDM(H0=100 * H0, Om0=Om0) "
   ]
  },
  {
   "cell_type": "code",
   "execution_count": null,
   "metadata": {},
   "outputs": [],
   "source": [
    "# Get snapshot redshifts and the respective lookback times:\n",
    "redshift = sim.get_attribute(\"Redshift\", \"Header\", snap_ids)\n",
    "lookback_time = cosmo.age(0).value - np.array([cosmo.age(z).value for z in redshift])"
   ]
  },
  {
   "cell_type": "markdown",
   "metadata": {},
   "source": [
    "The following cell is likely to take some time (it needs to read the given datasets from all the snapshots, and file retrievals take time):"
   ]
  },
  {
   "cell_type": "code",
   "execution_count": null,
   "metadata": {},
   "outputs": [],
   "source": [
    "# Get the datasets in a dictionary, with items for each snapshot data:\n",
    "mass_dict = {sid: m * units.g.to(units.Msun) for sid, m in\n",
    "        sim.get_subhalos(snap_ids, \"Mass\").items()}\n",
    "vmax_dict = {sid: vm[:, 0] * units.cm.to(units.km) for sid, vm in\n",
    "        sim.get_subhalos(snap_ids, \"Max_Vcirc\", h5_group=\"Extended\").items()}\n",
    "# cop_dict = {sid: c * units.cm.to(units.kpc) for sid, c in\n",
    "#        sim.get_subhalos(snap_ids, \"CentreOfPotential\").items()}\n",
    "\n",
    "r_m31_dict = {sid: d * units.cm.to(units.kpc)\n",
    "            for sid, d in m31.distance_to_self(snap_ids).items()}\n",
    "r_mw_dict = {sid: d * units.cm.to(units.kpc)\n",
    "           for sid, d in mw.distance_to_self(snap_ids).items()}"
   ]
  },
  {
   "cell_type": "markdown",
   "metadata": {},
   "source": [
    "Make the selections and write the dataset that are ready for plotting to a dictionary:"
   ]
  },
  {
   "cell_type": "code",
   "execution_count": null,
   "metadata": {},
   "outputs": [],
   "source": [
    "# From the full datasets, read M31 satellite data and add to the data dictionary:\n",
    "subs = sub_dict[snap_id_ref]\n",
    "\n",
    "# For each satellite, get it's indices in the `snap_ids` array:\n",
    "inds = [np.searchsorted(snap_ids, sub.get_snap_ids()) for sub in subs]\n",
    "data = {\n",
    "    \"Redshift\": np.array([redshift[idx_list] for idx_list in inds], dtype=object),\n",
    "    \"LookbackTime\": np.array([lookback_time[idx_list] for idx_list in inds], dtype=object),\n",
    "    \"Mass\": np.array([dataset_comp.subhalo_dataset_from_dict(sub, mass_dict)[0] \n",
    "                      for sub in subs], dtype=object),\n",
    "    \"Vmax\": np.array([dataset_comp.subhalo_dataset_from_dict(sub, vmax_dict)[0] \n",
    "                      for sub in subs], dtype=object),\n",
    "    \"M31_Distance\": np.array([dataset_comp.subhalo_dataset_from_dict(sub, r_m31_dict)[0]\n",
    "                              for sub in subs], dtype=object),\n",
    "    \"MW_Distance\": np.array([dataset_comp.subhalo_dataset_from_dict(sub, r_mw_dict)[0] \n",
    "                             for sub in subs], dtype=object)\n",
    "}"
   ]
  },
  {
   "cell_type": "markdown",
   "metadata": {},
   "source": [
    "Now, define masking arrays for these:"
   ]
  },
  {
   "cell_type": "code",
   "execution_count": null,
   "metadata": {},
   "outputs": [],
   "source": [
    "sat_low_lim = 10\n",
    "isol_low_lim = 10\n",
    "vol_n = 3\n",
    "\n",
    "# Masking arrays for subhalos at snap_ref:\n",
    "snap_ref = sim.get_snapshot(snap_id_ref)\n",
    "mask_lum, mask_dark = dataset_comp.split_luminous(snap_ref)\n",
    "data[\"Ref_Selections\"] = {\n",
    "    \"Vmax_Sat\": dataset_comp.prune_vmax(snap_ref, low_lim=sat_low_lim),\n",
    "    \"Vmax_Isol\": dataset_comp.prune_vmax(snap_ref, low_lim=isol_low_lim),\n",
    "    \"Luminous\": mask_lum,\n",
    "    \"Dark\": mask_dark,\n",
    "    \"NonVolatile\": np.array([z_arr.size > vol_n for z_arr in data[\"Redshift\"]])\n",
    "}\n",
    "\n",
    "# Get masking arrays for satellites (at z=0):\n",
    "m31_id = m31.get_group_number_at_snap(snap_id_ref)\n",
    "mw_id = mw.get_group_number_at_snap(snap_id_ref)\n",
    "mask_m31, mask_mw, mask_isol = dataset_comp.split_satellites_by_distance(\n",
    "    sim.get_snapshot(snap_id_ref), m31_id, mw_id, sat_r=300\n",
    ")\n",
    "\n",
    "data[\"Ref_Selections\"].update({\n",
    "    \"M31_Satellites\": mask_m31,\n",
    "    \"MW_Satellites\": mask_mw,\n",
    "    \"Isolated\": mask_isol\n",
    "})"
   ]
  },
  {
   "cell_type": "markdown",
   "metadata": {},
   "source": [
    "In addition, define a function for selecting a random subset from a given masking array:"
   ]
  },
  {
   "cell_type": "code",
   "execution_count": null,
   "metadata": {},
   "outputs": [],
   "source": [
    "def random_mask(mask, n):\n",
    "    \"\"\" From the selection prescribed by ´mask´, select ´n´ items at random. \"\"\"\n",
    "    k = np.sum(mask)\n",
    "    mask_rand = np.full(k, False)\n",
    "    mask_rand[:min(n, k)] = True\n",
    "    np.random.shuffle(mask_rand)\n",
    "\n",
    "    mask_new = np.full(mask.size, False)\n",
    "    mask_new[mask] = mask_rand\n",
    "    \n",
    "    return mask_new"
   ]
  },
  {
   "cell_type": "markdown",
   "metadata": {
    "tags": []
   },
   "source": [
    "## Plot M31 Satellites"
   ]
  },
  {
   "cell_type": "code",
   "execution_count": null,
   "metadata": {},
   "outputs": [],
   "source": [
    "# Get the default color map:\n",
    "cmap = plt.get_cmap(\"tab10\")"
   ]
  },
  {
   "cell_type": "code",
   "execution_count": null,
   "metadata": {},
   "outputs": [],
   "source": [
    "mask_m31_lum = random_mask(np.logical_and.reduce([\n",
    "    data[\"Ref_Selections\"][\"M31_Satellites\"], \n",
    "    data[\"Ref_Selections\"][\"Vmax_Sat\"],\n",
    "    data[\"Ref_Selections\"][\"NonVolatile\"], \n",
    "    data[\"Ref_Selections\"][\"Luminous\"]\n",
    "]), 10)\n",
    "\n",
    "mask_m31_dark = random_mask(np.logical_and.reduce([\n",
    "    data[\"Ref_Selections\"][\"M31_Satellites\"], \n",
    "    data[\"Ref_Selections\"][\"Vmax_Sat\"],\n",
    "    data[\"Ref_Selections\"][\"NonVolatile\"], \n",
    "    data[\"Ref_Selections\"][\"Dark\"]\n",
    "]), 10)"
   ]
  },
  {
   "cell_type": "code",
   "execution_count": null,
   "metadata": {},
   "outputs": [],
   "source": [
    "fig, ax = plt.subplots()\n",
    "\n",
    "ax.invert_xaxis()\n",
    "ax.set_xlabel(\"Lookback Time [Gyr]\")\n",
    "ax.set_ylabel(\"Distance to M31 [kpc]\")\n",
    "\n",
    "for i, (r, z) in enumerate(zip(data[\"M31_Distance\"][mask_m31_lum], \n",
    "                             data[\"LookbackTime\"][mask_m31_lum])):\n",
    "\n",
    "    # Plot cubic interpolating functions of the data points:\n",
    "    f = interp1d(z, np.linalg.norm(r, axis=1), kind='cubic')\n",
    "    z_new = np.linspace(min(z), max(z), num=1000)\n",
    "    ax.plot(z_new, f(z_new), c=cmap(i))\n",
    "   \n",
    "# Plot position of snap_ref:\n",
    "idx_ref = np.searchsorted(snap_ids, snap_id_ref)\n",
    "ax.axvline(lookback_time[idx_ref], c='black', linestyle='dotted', alpha=0.5)\n",
    "\n",
    "# for r, z in zip(data[\"M31_Distance\"][mask_m31_dark], \n",
    "#                 data[\"LookbackTime\"][mask_m31_dark]):\n",
    "\n",
    "#     # Plot cubic interpolating functions of the data points:\n",
    "#     f = interp1d(z, np.linalg.norm(r, axis=1), kind='cubic')\n",
    "#     z_new = np.linspace(min(z), max(z), num=1000)\n",
    "#     ax.plot(z_new, f(z_new), linestyle='dashed')"
   ]
  },
  {
   "cell_type": "code",
   "execution_count": null,
   "metadata": {},
   "outputs": [],
   "source": [
    "fig, ax = plt.subplots()\n",
    "\n",
    "ax.invert_xaxis()\n",
    "ax.set_xlabel(\"Lookback Time [Gyr]\")\n",
    "ax.set_ylabel(\"$v_\\mathrm{max}$ [km/s]\")\n",
    "\n",
    "for i, (vmax, time) in enumerate(zip(data[\"Vmax\"][mask_m31_lum], \n",
    "                                     data[\"LookbackTime\"][mask_m31_lum])):\n",
    "\n",
    "    ax.plot(time, vmax, c=cmap(i))\n",
    "    \n",
    "\n",
    "# Plot position of snap_ref:\n",
    "idx_ref = np.searchsorted(snap_ids, snap_id_ref)\n",
    "ax.axvline(lookback_time[idx_ref], c='black', linestyle='dotted', alpha=0.5)\n",
    "\n",
    "# for r, z in zip(data[\"Vmax\"][mask_m31_dark], \n",
    "#                 data[\"LookbackTime\"][mask_m31_dark]):\n",
    "\n",
    "#     # Plot cubic interpolating functions of the data points:\n",
    "#     f = interp1d(z, np.linalg.norm(r, axis=1), kind='cubic')\n",
    "#     z_new = np.linspace(min(z), max(z), num=1000)\n",
    "#     ax.plot(z_new, f(z_new), linestyle='dashed')"
   ]
  },
  {
   "cell_type": "code",
   "execution_count": null,
   "metadata": {},
   "outputs": [],
   "source": [
    "fig, ax = plt.subplots()\n",
    "\n",
    "for i, r in enumerate(data[\"M31_Distance\"][mask_m31_lum]):\n",
    "\n",
    "    ax.plot(r[:,0], r[:,1], c=cmap(i))\n",
    "\n",
    "# for r, z in zip(data[\"M31_Distance\"][mask_m31_dark], \n",
    "#                 data[\"LookbackTime\"][mask_m31_dark]):\n",
    "\n",
    "#     # Plot cubic interpolating functions of the data points:\n",
    "#     f = interp1d(z, np.linalg.norm(r, axis=1), kind='cubic')\n",
    "#     z_new = np.linspace(min(z), max(z), num=1000)\n",
    "#     ax.plot(z_new, f(z_new), linestyle='dashed')"
   ]
  },
  {
   "cell_type": "markdown",
   "metadata": {
    "tags": []
   },
   "source": [
    "## Plot MW Satellites"
   ]
  },
  {
   "cell_type": "code",
   "execution_count": null,
   "metadata": {},
   "outputs": [],
   "source": [
    "mask_mw_lum = random_mask(np.logical_and.reduce([\n",
    "    data[\"Ref_Selections\"][\"MW_Satellites\"], \n",
    "    data[\"Ref_Selections\"][\"Vmax_Sat\"],\n",
    "    data[\"Ref_Selections\"][\"NonVolatile\"], \n",
    "    data[\"Ref_Selections\"][\"Luminous\"]\n",
    "]), 10)\n",
    "\n",
    "mask_mw_dark = random_mask(np.logical_and.reduce([\n",
    "    data[\"Ref_Selections\"][\"MW_Satellites\"], \n",
    "    data[\"Ref_Selections\"][\"Vmax_Sat\"],\n",
    "    data[\"Ref_Selections\"][\"NonVolatile\"], \n",
    "    data[\"Ref_Selections\"][\"Dark\"]\n",
    "]), 10)"
   ]
  },
  {
   "cell_type": "code",
   "execution_count": null,
   "metadata": {},
   "outputs": [],
   "source": [
    "fig, ax = plt.subplots()\n",
    "\n",
    "ax.invert_xaxis()\n",
    "ax.set_xlabel(\"Lookback Time [Gyr]\")\n",
    "ax.set_ylabel(\"Distance to MW [kpc]\")\n",
    "\n",
    "# Plot dark:\n",
    "for i, (r, z) in enumerate(zip(data[\"MW_Distance\"][mask_mw_dark], \n",
    "                             data[\"LookbackTime\"][mask_mw_dark])):\n",
    "\n",
    "    # Plot cubic interpolating functions of the data points:\n",
    "    f = interp1d(z, np.linalg.norm(r, axis=1), kind='cubic')\n",
    "    z_new = np.linspace(min(z), max(z), num=1000)\n",
    "    ax.plot(z_new, f(z_new), c='gray', alpha=0.5, lw=0.5)\n",
    "\n",
    "# Plot luminous:\n",
    "for i, (r, z) in enumerate(zip(data[\"MW_Distance\"][mask_mw_lum], \n",
    "                             data[\"LookbackTime\"][mask_mw_lum])):\n",
    "\n",
    "    # Plot cubic interpolating functions of the data points:\n",
    "    f = interp1d(z, np.linalg.norm(r, axis=1), kind='cubic')\n",
    "    z_new = np.linspace(min(z), max(z), num=1000)\n",
    "    ax.plot(z_new, f(z_new), c=cmap(i), lw=2)\n",
    "    \n",
    "# Plot position of snap_ref:\n",
    "idx_ref = np.searchsorted(snap_ids, snap_id_ref)\n",
    "ax.axvline(lookback_time[idx_ref], c='black', linestyle='dotted', alpha=0.5)"
   ]
  },
  {
   "cell_type": "code",
   "execution_count": null,
   "metadata": {},
   "outputs": [],
   "source": [
    "fig, ax = plt.subplots()\n",
    "\n",
    "ax.invert_xaxis()\n",
    "ax.set_xlabel(\"Lookback Time [Gyr]\")\n",
    "ax.set_ylabel(\"$v_\\mathrm{max}$ [km/s]\")\n",
    "\n",
    "# Plot dark:\n",
    "for i, (vmax, time) in enumerate(zip(data[\"Vmax\"][mask_mw_dark], \n",
    "                                     data[\"LookbackTime\"][mask_mw_dark])):\n",
    "    ax.plot(time, vmax, c='gray', alpha=0.5, lw=0.5)\n",
    "\n",
    "# Plot luminous:\n",
    "for i, (vmax, time) in enumerate(zip(data[\"Vmax\"][mask_mw_lum], \n",
    "                                     data[\"LookbackTime\"][mask_mw_lum])):\n",
    "    ax.plot(time, vmax, c=cmap(i), lw=2)\n",
    "    \n",
    "# Plot position of snap_ref:\n",
    "idx_ref = np.searchsorted(snap_ids, snap_id_ref)\n",
    "ax.axvline(lookback_time[idx_ref], c='black', linestyle='dotted', alpha=0.5)"
   ]
  },
  {
   "cell_type": "code",
   "execution_count": null,
   "metadata": {},
   "outputs": [],
   "source": [
    "fig, ax = plt.subplots()\n",
    "\n",
    "# Plot dark:\n",
    "for i, r in enumerate(data[\"MW_Distance\"][mask_mw_dark]):\n",
    "    ax.plot(r[:,0], r[:,1], c='gray', lw=0.5)\n",
    "\n",
    "# Plot luminous:\n",
    "for i, r in enumerate(data[\"MW_Distance\"][mask_mw_lum]):\n",
    "    ax.plot(r[:,0], r[:,1], c=cmap(i))\n",
    "    \n",
    "# for r, z in zip(data[\"MW_Distance\"][mask_mw_dark], \n",
    "#                 data[\"LookbackTime\"][mask_mw_dark]):\n",
    "\n",
    "#     # Plot cubic interpolating functions of the data points:\n",
    "#     f = interp1d(z, np.linalg.norm(r, axis=1), kind='cubic')\n",
    "#     z_new = np.linspace(min(z), max(z), num=1000)\n",
    "#     ax.plot(z_new, f(z_new), linestyle='dashed')"
   ]
  },
  {
   "cell_type": "code",
   "execution_count": null,
   "metadata": {},
   "outputs": [],
   "source": []
  }
 ],
 "metadata": {
  "kernelspec": {
   "display_name": "Python 3",
   "language": "python",
   "name": "python3"
  },
  "language_info": {
   "codemirror_mode": {
    "name": "ipython",
    "version": 3
   },
   "file_extension": ".py",
   "mimetype": "text/x-python",
   "name": "python",
   "nbconvert_exporter": "python",
   "pygments_lexer": "ipython3"
  }
 },
 "nbformat": 4,
 "nbformat_minor": 4
}
