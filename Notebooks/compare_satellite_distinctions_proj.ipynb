{
 "cells": [
  {
   "cell_type": "markdown",
   "metadata": {},
   "source": [
    "## First, imports:"
   ]
  },
  {
   "cell_type": "code",
   "execution_count": null,
   "metadata": {},
   "outputs": [],
   "source": [
    "%load_ext autoreload\n",
    "%autoreload 2\n",
    "\n",
    "%config IPCompleter.greedy=True"
   ]
  },
  {
   "cell_type": "code",
   "execution_count": null,
   "metadata": {},
   "outputs": [],
   "source": [
    "import numpy as np\n",
    "import matplotlib.pyplot as plt\n",
    "from astropy import units\n",
    "import importlib"
   ]
  },
  {
   "cell_type": "code",
   "execution_count": null,
   "metadata": {},
   "outputs": [],
   "source": [
    "import os\n",
    "import sys\n",
    "\n",
    "apt_path = os.path.abspath(os.path.join('..', 'apostletools'))\n",
    "sys.path.append(apt_path)\n",
    "import dataset_comp\n",
    "import snapshot"
   ]
  },
  {
   "cell_type": "code",
   "execution_count": null,
   "metadata": {},
   "outputs": [],
   "source": [
    "importlib.reload(dataset_comp)\n",
    "importlib.reload(snapshot)"
   ]
  },
  {
   "cell_type": "markdown",
   "metadata": {},
   "source": [
    "# Definitions of Satellite Galaxies and Isolated Galaxies\n",
    "\n",
    "## Motivation\n",
    "\n",
    "To illustrate the two definitions, I plot the subhalos, projected onto a plane, and color satellites and isolated galaxies with different colors. \n",
    "\n",
    "---\n",
    "\n",
    "## Set Parameters for the Plots\n",
    "\n",
    "Choose the snapshot and the simulation, and define M31 and MW in each simulation. Also, set the colors used for each simulation:"
   ]
  },
  {
   "cell_type": "code",
   "execution_count": null,
   "metadata": {
    "code_folding": []
   },
   "outputs": [],
   "source": [
    "sim_id = \"V1_MR_curvaton_p082_fix\"\n",
    "snap_id = 127\n",
    "\n",
    "m31 = (1,0)\n",
    "mw = (1,1)"
   ]
  },
  {
   "cell_type": "markdown",
   "metadata": {},
   "source": [
    "Set the maximum distances for satellite galaxies and isolated galaxies (for the definitions by distance):"
   ]
  },
  {
   "cell_type": "code",
   "execution_count": null,
   "metadata": {},
   "outputs": [],
   "source": [
    "maxds = 300\n",
    "maxdi = 2000 # Maximum distance from LG centre for isolated"
   ]
  },
  {
   "cell_type": "markdown",
   "metadata": {},
   "source": [
    "---\n",
    "\n",
    "## Retrieve Data\n",
    "\n",
    "Get centres of potentials of subhalos and compute them wrt. the LG centre:"
   ]
  },
  {
   "cell_type": "code",
   "execution_count": null,
   "metadata": {
    "code_folding": []
   },
   "outputs": [],
   "source": [
    "# Get data:\n",
    "snap = snapshot.Snapshot(sim_id, snap_id)\n",
    "cops = snap.get_subhalos(\"CentreOfPotential\")\n",
    "LG_centre = dataset_comp.compute_LG_centre(snap, m31, mw)\n",
    "\n",
    "# Centre on LG:\n",
    "cops = dataset_comp.periodic_wrap(snap, LG_centre, cops) - LG_centre\n",
    "\n",
    "# Convert units:\n",
    "cops = cops * units.cm.to(units.Mpc)"
   ]
  },
  {
   "cell_type": "markdown",
   "metadata": {},
   "source": [
    "### Compute Projections\n",
    "\n",
    "Find two orthogonal planes that intersect both M31 and MW. Denote the two vectors normal to these planes by n1 and n2. The two (arbitrary) parameters a and b determine the orientation angle of the plane normal to n1. "
   ]
  },
  {
   "cell_type": "code",
   "execution_count": null,
   "metadata": {},
   "outputs": [],
   "source": [
    "cop_m31 = cops[snap.index_of_halo(m31[0], m31[1])]\n",
    "cop_mw = cops[snap.index_of_halo(mw[0], mw[1])]\n",
    "# Compute the unit separation vector:\n",
    "r = cop_m31 - cop_mw\n",
    "r = r / np.linalg.norm(r)\n",
    "\n",
    "# Compute a unit vector orthogonal to r, n1:\n",
    "a = 1; b = 1\n",
    "n1 = np.array([-1/r[0] * (a*r[1] + b*r[2]), a, b])\n",
    "n1 = n1 / np.linalg.norm(n1)\n",
    "\n",
    "# Compute another unit vector orthogonal to both r and n1:\n",
    "n2 = np.cross(r, n1)"
   ]
  },
  {
   "cell_type": "code",
   "execution_count": null,
   "metadata": {
    "jupyter": {
     "outputs_hidden": true,
     "source_hidden": true
    }
   },
   "outputs": [],
   "source": [
    "# Sanity checks:\n",
    "print(cop_m31)\n",
    "print(cop_mw)\n",
    "print(np.linalg.norm(r))\n",
    "print(np.linalg.norm(n2))\n",
    "print(np.dot(n1, r))\n",
    "print(np.dot(n2, r))\n",
    "print(np.dot(n1, n2))"
   ]
  },
  {
   "cell_type": "markdown",
   "metadata": {},
   "source": [
    "Project the subhalos onto the two planes:"
   ]
  },
  {
   "cell_type": "code",
   "execution_count": null,
   "metadata": {},
   "outputs": [],
   "source": [
    "# Project onto the plane orthogonal to n1:\n",
    "cops_n1 = np.column_stack((np.dot(cops, r), np.dot(cops, n2)))\n",
    "m31_n1 = np.array((np.dot(cop_m31, r), np.dot(cop_m31, n2)))\n",
    "mw_n1 = np.array((np.dot(cop_mw, r), np.dot(cop_mw, n2)))\n",
    "\n",
    "# Project onto the plane orthogonal to n2:\n",
    "cops_n2 = np.column_stack((np.dot(cops, r), np.dot(cops, n1)))\n",
    "m31_n2 = np.array((np.dot(cop_m31, r), np.dot(cop_m31, n1)))\n",
    "mw_n2 = np.array((np.dot(cop_mw, r), np.dot(cop_mw, n1)))"
   ]
  },
  {
   "cell_type": "markdown",
   "metadata": {},
   "source": [
    "### Create a Dictionary for Selections\n",
    "\n",
    "Compute the masking arrays to select satellites or isolated galaxies from subhalos, and save these to the dictionary \"selections\":"
   ]
  },
  {
   "cell_type": "code",
   "execution_count": null,
   "metadata": {
    "code_folding": []
   },
   "outputs": [],
   "source": [
    "selections = {}\n",
    "\n",
    "# To prune potential spurious:\n",
    "mask_prune_vmax = dataset_comp.prune_vmax(snap)\n",
    "\n",
    "# Split into satellites and isolated:\n",
    "masks_sat_d, mask_isol_d = dataset_comp.split_satellites_by_distance(\n",
    "    snap, m31, mw, max_dist_sat=maxds, max_dist_isol=maxdi)\n",
    "masks_sat_gn, mask_isol_gn = dataset_comp.split_satellites_by_group_number(\n",
    "    snap, m31, mw)\n",
    "\n",
    "selections['By_distance'] = {'M31_satellites': masks_sat_d[0][mask_prune_vmax],\n",
    "                             'MW_satellites': masks_sat_d[1][mask_prune_vmax],\n",
    "                             'Isolated': mask_isol_d[mask_prune_vmax]}\n",
    "selections['By_GN'] = {'M31_satellites': masks_sat_gn[0][mask_prune_vmax],\n",
    "                       'MW_satellites': masks_sat_gn[1][mask_prune_vmax],\n",
    "                       'Isolated': mask_isol_gn[mask_prune_vmax]}"
   ]
  },
  {
   "cell_type": "markdown",
   "metadata": {},
   "source": [
    "---\n",
    "\n",
    "## Plot Subhalo Positions\n",
    "\n",
    "Plot two columns for satellite/isolated galaxy selections by group number and by distance. Plot two rows for the two orthogonal plane projections.\n",
    "\n",
    "First, set figure parameters:"
   ]
  },
  {
   "cell_type": "code",
   "execution_count": null,
   "metadata": {},
   "outputs": [],
   "source": [
    "# Choose font sizes:\n",
    "parameters = {'axes.titlesize': 10,\n",
    "              'axes.labelsize': 9,\n",
    "              'xtick.labelsize': 6,\n",
    "              'ytick.labelsize': 6,\n",
    "              'legend.fontsize': 8}\n",
    "\n",
    "# Side length (in Mpc) of each subfigure:\n",
    "ax_size = 5\n",
    "\n",
    "s = 0.1 # marker size\n",
    "lw = 0.3 # line width"
   ]
  },
  {
   "cell_type": "code",
   "execution_count": null,
   "metadata": {},
   "outputs": [],
   "source": [
    "# Set fonts:\n",
    "plt.rcParams.update(parameters)\n",
    "plt.tight_layout()\n",
    "\n",
    "fig, axes = plt.subplots(nrows=2, ncols=2, sharex='all', sharey='row',\n",
    "                         subplot_kw=dict(box_aspect=1), figsize=(4.9,5))\n",
    "plt.subplots_adjust(wspace=0.04)\n",
    "plt.subplots_adjust(hspace=0.04)\n",
    "\n",
    "# Set axis labels:\n",
    "axes[1,0].set_xlabel(\"$x [\\mathrm{Mpc}]$\")\n",
    "axes[1,1].set_xlabel(\"$x [\\mathrm{Mpc}]$\")\n",
    "axes[0,0].set_ylabel(\"$y [\\mathrm{Mpc}]$\")\n",
    "axes[1,0].set_ylabel(\"$z [\\mathrm{Mpc}]$\")\n",
    "\n",
    "# Set axis limits:\n",
    "axes[0,0].set_xlim(-ax_size/2, ax_size/2)\n",
    "axes[0,0].set_ylim(-ax_size/2, ax_size/2)\n",
    "axes[1,1].set_xlim(-ax_size/2, ax_size/2)\n",
    "axes[1,1].set_ylim(-ax_size/2, ax_size/2)\n",
    "\n",
    "axes[0,0].set_title(\"By group number\")\n",
    "axes[0,1].set_title(\"By distance\")\n",
    "\n",
    "# Plot colored by group number:\n",
    "axes[0,0].scatter(cops_n1[selections['By_GN']['Isolated']][:,0],\n",
    "                  cops_n1[selections['By_GN']['Isolated']][:,1],\n",
    "                  c='gray', s=s)\n",
    "axes[0,0].scatter(cops_n1[selections['By_GN']['M31_satellites']][:,0],\n",
    "                  cops_n1[selections['By_GN']['M31_satellites']][:,1],\n",
    "                  c='pink', s=s)\n",
    "axes[0,0].scatter(cops_n1[selections['By_GN']['MW_satellites']][:,0],\n",
    "                  cops_n1[selections['By_GN']['MW_satellites']][:,1],\n",
    "                  c='lightblue', s=s)\n",
    "\n",
    "axes[1,0].scatter(cops_n2[selections['By_GN']['Isolated']][:,0],\n",
    "                  cops_n2[selections['By_GN']['Isolated']][:,1],\n",
    "                  c='gray', s=s)\n",
    "axes[1,0].scatter(cops_n2[selections['By_GN']['M31_satellites']][:,0],\n",
    "                  cops_n2[selections['By_GN']['M31_satellites']][:,1],\n",
    "                  c='pink', s=s)\n",
    "axes[1,0].scatter(cops_n2[selections['By_GN']['MW_satellites']][:,0],\n",
    "                  cops_n2[selections['By_GN']['MW_satellites']][:,1],\n",
    "                  c='lightblue', s=s)\n",
    "\n",
    "# Plot colored by distance:\n",
    "axes[0,1].scatter(cops_n1[selections['By_distance']['Isolated']][:,0],\n",
    "                  cops_n1[selections['By_distance']['Isolated']][:,1],\n",
    "                  c='gray', s=s)\n",
    "axes[0,1].scatter(cops_n1[selections['By_distance']['M31_satellites']][:,0],\n",
    "                  cops_n1[selections['By_distance']['M31_satellites']][:,1],\n",
    "                  c='pink', s=s)\n",
    "axes[0,1].scatter(cops_n1[selections['By_distance']['MW_satellites']][:,0],\n",
    "                  cops_n1[selections['By_distance']['MW_satellites']][:,1],\n",
    "                  c='lightblue', s=s)\n",
    "\n",
    "axes[1,1].scatter(cops_n2[selections['By_distance']['Isolated']][:,0],\n",
    "                  cops_n2[selections['By_distance']['Isolated']][:,1],\n",
    "                  c='gray', s=s)\n",
    "axes[1,1].scatter(cops_n2[selections['By_distance']['M31_satellites']][:,0],\n",
    "                  cops_n2[selections['By_distance']['M31_satellites']][:,1],\n",
    "                  c='pink', s=s)\n",
    "axes[1,1].scatter(cops_n2[selections['By_distance']['MW_satellites']][:,0],\n",
    "                  cops_n2[selections['By_distance']['MW_satellites']][:,1],\n",
    "                  c='lightblue', s=s)"
   ]
  },
  {
   "cell_type": "markdown",
   "metadata": {},
   "source": [
    "### Add annotations\n",
    "\n",
    "Draw circles of 300 kpc around the centrals and a circle of 2 Mpc around the LG."
   ]
  },
  {
   "cell_type": "code",
   "execution_count": null,
   "metadata": {},
   "outputs": [],
   "source": [
    "def circle(centre_x, centre_y, r, n):\n",
    "    t = 4*np.pi/n * np.arange(n/2)\n",
    "    x = centre_x + r * np.cos(t)\n",
    "    y = centre_y + r * np.sin(t)\n",
    "    return x, y"
   ]
  },
  {
   "cell_type": "code",
   "execution_count": null,
   "metadata": {},
   "outputs": [],
   "source": [
    "# Add annotations:\n",
    "for m31, mw, axx, axy in zip([m31_n1, m31_n1, m31_n2, m31_n2],\n",
    "                             [mw_n1, mw_n1, mw_n2, mw_n2],\n",
    "                             [0,0,1,1], [0,1,0,1]):\n",
    "    # Plot M31 and circle:\n",
    "    axes[axx, axy].scatter(m31[0], m31[1], c='red', s=s)\n",
    "    x_circ, y_circ = circle(m31[0], m31[1], 0.3, 10000)    \n",
    "    axes[axx, axy].plot(x_circ, y_circ, c='red', linestyle='dashed', linewidth=lw)\n",
    "    \n",
    "    # Plot MW and circle:\n",
    "    axes[axx, axy].scatter(mw[0], mw[1], c='blue', s=s)\n",
    "    x_circ, y_circ = circle(mw[0], mw[1], 0.3, 10000)\n",
    "    axes[axx, axy].plot(x_circ, y_circ, c='blue', linestyle='dashed', linewidth=lw)\n",
    "    \n",
    "    # Plot 2 Mpc circle around LG centre:\n",
    "    x_circ, y_circ = circle(0, 0, 2, 10000)\n",
    "    axes[axx, axy].plot(x_circ, y_circ, c='k', linestyle='dashed', linewidth=lw)\n",
    "    \n",
    "fig"
   ]
  },
  {
   "cell_type": "markdown",
   "metadata": {},
   "source": [
    "### Save the Figure"
   ]
  },
  {
   "cell_type": "code",
   "execution_count": null,
   "metadata": {},
   "outputs": [],
   "source": [
    "# Construct saving location:\n",
    "filename = 'Distinction_comparison_{}.png'.format(sim_id)    \n",
    "home = os.path.abspath(os.path.join('..'))\n",
    "path = os.path.join(home,'Figures', 'MediumResolution')\n",
    "filename = os.path.join(path, filename)\n",
    "    \n",
    "fig.savefig(filename, dpi=300)"
   ]
  },
  {
   "cell_type": "code",
   "execution_count": null,
   "metadata": {},
   "outputs": [],
   "source": []
  }
 ],
 "metadata": {
  "kernelspec": {
   "display_name": "Python 3",
   "language": "python",
   "name": "python3"
  },
  "language_info": {
   "codemirror_mode": {
    "name": "ipython",
    "version": 3
   },
   "file_extension": ".py",
   "mimetype": "text/x-python",
   "name": "python",
   "nbconvert_exporter": "python",
   "pygments_lexer": "ipython3"
  }
 },
 "nbformat": 4,
 "nbformat_minor": 4
}
