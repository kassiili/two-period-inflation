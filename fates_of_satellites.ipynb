{
 "cells": [
  {
   "cell_type": "code",
   "execution_count": null,
   "metadata": {},
   "outputs": [],
   "source": [
    "%load_ext autoreload\n",
    "%autoreload 2\n",
    "\n",
    "%config IPCompleter.greedy=True"
   ]
  },
  {
   "cell_type": "code",
   "execution_count": null,
   "metadata": {},
   "outputs": [],
   "source": [
    "import numpy as np\n",
    "import matplotlib.pyplot as plt\n",
    "import os\n",
    "from astropy import units\n",
    "import plotly.graph_objects as go\n",
    "\n",
    "import importlib\n",
    "\n",
    "import simulation\n",
    "import snapshot_obj\n",
    "import simulation_tracing\n",
    "import dataset_compute\n",
    "import subhalo"
   ]
  },
  {
   "cell_type": "code",
   "execution_count": null,
   "metadata": {},
   "outputs": [],
   "source": [
    "importlib.reload(simulation)\n",
    "importlib.reload(snapshot_obj)\n",
    "importlib.reload(simulation_tracing)\n",
    "importlib.reload(dataset_compute)\n",
    "importlib.reload(subhalo)"
   ]
  },
  {
   "cell_type": "markdown",
   "metadata": {},
   "source": [
    "# Plotting trajectories of satellites"
   ]
  },
  {
   "cell_type": "markdown",
   "metadata": {},
   "source": [
    "## Setting variables"
   ]
  },
  {
   "cell_type": "markdown",
   "metadata": {},
   "source": [
    "Let us first define our simulation and the LG central galaxies. The M31 and MW galaxies have identifiers (1,0) and (1,1) at redshift zero (snap_id=127), respectively:"
   ]
  },
  {
   "cell_type": "code",
   "execution_count": null,
   "metadata": {},
   "outputs": [],
   "source": [
    "sim = simulation.Simulation(\"V1_LR_fix\")\n",
    "m31 = subhalo.SubhaloTracer(sim, 127, 1, 0)\n",
    "mw = subhalo.SubhaloTracer(sim, 127, 1, 1)"
   ]
  },
  {
   "cell_type": "markdown",
   "metadata": {},
   "source": [
    "Next, since we are interested in the past trajectories of the subhalos that exist at $z=0$, we need to set the reference snapshot id to 127. We also set the snapshot up to which the trajectories are traced. Then, we get the merger tree and the snapshot tracer, and construct the tracers for the subhalos: "
   ]
  },
  {
   "cell_type": "code",
   "execution_count": null,
   "metadata": {},
   "outputs": [],
   "source": [
    "snap_start = 100\n",
    "snap_stop = 128"
   ]
  },
  {
   "cell_type": "code",
   "execution_count": null,
   "metadata": {},
   "outputs": [],
   "source": [
    "mtree = simulation_tracing.MergerTree(sim, branching=\"BackwardBranching\")\n",
    "mtree.build_tree(snap_start, snap_stop)\n",
    "\n",
    "# Trace centrals:\n",
    "m31.trace(mtree)\n",
    "mw.trace(mtree)"
   ]
  },
  {
   "cell_type": "markdown",
   "metadata": {},
   "source": [
    "Make tracers for the traced snapshots:"
   ]
  },
  {
   "cell_type": "code",
   "execution_count": null,
   "metadata": {},
   "outputs": [],
   "source": [
    "traced_snaps = np.array([100, 110, 120, 127])\n",
    "traced_z = [sim.get_snapshot(snap_id).get_attribute(\"Redshift\", \"Header\") \n",
    "            for snap_id in traced_snaps]\n",
    "snap_tracers = {}\n",
    "for snap_id in traced_snaps:\n",
    "    snap_tracer = simulation_tracing.SnapshotTracer(snap_id, mtree)\n",
    "    snap_tracer.trace(start=snap_id, stop=snap_stop)\n",
    "    snap_tracers[snap_id] = snap_tracer.tracer_array"
   ]
  },
  {
   "cell_type": "markdown",
   "metadata": {},
   "source": [
    "## Selecting the satellites"
   ]
  },
  {
   "cell_type": "code",
   "execution_count": null,
   "metadata": {},
   "outputs": [],
   "source": [
    "for snap_id, tracer in snap_tracers.items():\n",
    "    snapshot = sim.get_snapshot(snap_id)\n",
    "    mask_sat,_ = dataset_compute.split_satellites_by_distance(\n",
    "        snapshot, m31.get_identifier(snap_id), mw.get_identifier(snap_id))\n",
    "    mask_sat = np.logical_or.reduce(mask_sat)\n",
    "    snap_tracers[snap_id] = tracer[mask_sat]"
   ]
  },
  {
   "cell_type": "code",
   "execution_count": null,
   "metadata": {},
   "outputs": [],
   "source": [
    "for sid, tracer in snap_tracers.items():\n",
    "    print(sid, np.sum(tracer[:, sid] != mtree.no_match))"
   ]
  },
  {
   "cell_type": "markdown",
   "metadata": {},
   "source": [
    "## Construct Sankey"
   ]
  },
  {
   "cell_type": "code",
   "execution_count": null,
   "metadata": {},
   "outputs": [],
   "source": [
    "node = dict(label = [\"Accreted satellites\"] + \\\n",
    "            [\"$z={:.2f}$\".format(z) for z in traced_z] +\\\n",
    "            [\"Destroyed satellites\"])"
   ]
  },
  {
   "cell_type": "code",
   "execution_count": null,
   "metadata": {},
   "outputs": [],
   "source": [
    "node = dict(label = [\"Accreted\"] + \\\n",
    "            [str(snap_id) for snap_id in snap_tracers.keys()] +\\\n",
    "            [\"Destroyed\"])"
   ]
  },
  {
   "cell_type": "code",
   "execution_count": null,
   "metadata": {},
   "outputs": [],
   "source": [
    "print(node)"
   ]
  },
  {
   "cell_type": "markdown",
   "metadata": {},
   "source": [
    "Compute link values, sources and targets:"
   ]
  },
  {
   "cell_type": "code",
   "execution_count": null,
   "metadata": {},
   "outputs": [],
   "source": [
    "values = []\n",
    "sources = []\n",
    "targets = []\n",
    "node_snaps = list(snap_tracers.keys())\n",
    "node_snaps.sort()\n",
    "for snap_id, tracer in snap_tracers.items():\n",
    "    # Iterate through previous nodes, saving the number of satellites \n",
    "    # originating from each of them:\n",
    "    print(\"\\n\",snap_id,\"\\n\")\n",
    "    sats = tracer[:, snap_id]\n",
    "    sats = sats[sats != mtree.no_match]\n",
    "    left_over = np.copy(sats)\n",
    "    node_idx = node_snaps.index(snap_id)\n",
    "    for prev_node in node_snaps[:node_idx]:\n",
    "        # Get indices of satellites at the current snapshot, which \n",
    "        # are present in prev_node:\n",
    "        sats_from_prev = snap_tracers[prev_node][:, snap_id]\n",
    "        \n",
    "        # Only consider satellites that are not yet accounted for:\n",
    "        sats_from_prev, inters_idx,_ = np.intersect1d(\n",
    "            sats_from_prev, left_over, return_indices=True)\n",
    "        \n",
    "        print(\"origin {}: {}\".format(prev_node, np.size(sats_from_prev)))\n",
    "        print(np.sort(np.copy(sats_from_prev)))\n",
    "        \n",
    "        \n",
    "        # Add link for satellites originating from prev_node:\n",
    "        values.append(np.size(sats_from_prev))\n",
    "        sources.append(str(node_snaps[node_idx-1]))\n",
    "        targets.append(str(snap_id))\n",
    "        \n",
    "        if snap_id != node_snaps[-1]:\n",
    "            # Get indices of satellites at the following snapshot, which \n",
    "            # are present in prev_node:\n",
    "            snap_next = node_snaps[node_idx+1]\n",
    "            sats_from_prev_at_next = \\\n",
    "                snap_tracers[prev_node][inters_idx, snap_next]\n",
    "\n",
    "            print(\"origin {} destroyed: {}\".format(\n",
    "                prev_node, np.sum(sats_from_prev_at_next == mtree.no_match)))\n",
    "            print(np.sort(np.copy(sats_from_prev_at_next)))\n",
    "        \n",
    "            # Add link for satellites that get destroyed before the next node, \n",
    "            # and which originate from prev_node:\n",
    "            values.append(np.sum(sats_from_prev_at_next == mtree.no_match))\n",
    "            sources.append(str(snap_id))\n",
    "            targets.append(\"Destroyed\")\n",
    "        \n",
    "        left_over = np.array(\n",
    "            [i for i in left_over if i not in sats_from_prev]\n",
    "        )\n",
    "\n",
    "    print(\"Accreted: {}\".format(np.size(left_over)))\n",
    "                  \n",
    "    # Add newly accreted satellites:\n",
    "    if node_idx != 0:      \n",
    "        values.append(left_over.size)\n",
    "        sources.append(\"Accreted\")\n",
    "        targets.append(str(snap_id))\n",
    "                \n",
    "    # Add destroyed satellites from the newly accreted:\n",
    "    if snap_id != node_snaps[-1]:\n",
    "        sats_in_next, inters_idx,_ = np.intersect1d(sats, left_over, \n",
    "                                                    return_indices=True)\n",
    "        sats_in_next = snap_tracers[snap_id][inters_idx, \n",
    "                                             node_snaps[node_idx+1]]\n",
    "\n",
    "        print(\"Newly accreted destroyed: {}\".format(\n",
    "            np.sum(sats_in_next == mtree.no_match)))\n",
    "          \n",
    "        values.append(np.sum(sats_in_next == mtree.no_match))\n",
    "        sources.append(str(snap_id))\n",
    "        targets.append(\"Destroyed\")\n"
   ]
  },
  {
   "cell_type": "code",
   "execution_count": null,
   "metadata": {},
   "outputs": [],
   "source": [
    "for v, s, t in zip(values, sources, targets):\n",
    "    print(v, s, t)"
   ]
  },
  {
   "cell_type": "code",
   "execution_count": null,
   "metadata": {},
   "outputs": [],
   "source": [
    "sources = [node[\"label\"].index(s) for s in sources]\n",
    "targets = [node[\"label\"].index(t) for t in targets]"
   ]
  },
  {
   "cell_type": "code",
   "execution_count": null,
   "metadata": {},
   "outputs": [],
   "source": [
    "print(sources)\n",
    "print(targets)"
   ]
  },
  {
   "cell_type": "code",
   "execution_count": null,
   "metadata": {},
   "outputs": [],
   "source": [
    "fig = go.Figure(data=[go.Sankey(\n",
    "    node = dict(\n",
    "      pad = 15,\n",
    "      thickness = 20,\n",
    "      line = dict(color = \"black\", width = 0.5),\n",
    "      label = node[\"label\"],\n",
    "      color = \"blue\"\n",
    "    ),\n",
    "    link = dict(\n",
    "      source = sources, # indices correspond to labels, eg A1, A2, A2, B1, ...\n",
    "      target = targets,\n",
    "      value = values\n",
    "  ))])\n"
   ]
  },
  {
   "cell_type": "code",
   "execution_count": null,
   "metadata": {},
   "outputs": [],
   "source": [
    "fig.show()"
   ]
  },
  {
   "cell_type": "code",
   "execution_count": null,
   "metadata": {},
   "outputs": [],
   "source": []
  },
  {
   "cell_type": "code",
   "execution_count": null,
   "metadata": {},
   "outputs": [],
   "source": [
    "#THIS IS NOT RIGHT:"
   ]
  },
  {
   "cell_type": "code",
   "execution_count": null,
   "metadata": {},
   "outputs": [],
   "source": [
    "values = []\n",
    "sources = []\n",
    "targets = []\n",
    "snaps = list(snap_tracers.keys()) + [snap_stop-1]\n",
    "snaps.sort()\n",
    "for snap_id, tracer in snap_tracers.items():\n",
    "    # Iterate through the following nodes, saving the number of satellites \n",
    "    # left over from snap_id:\n",
    "    sats = tracer[:, snap_id]\n",
    "    sats = sats[sats != mtree.no_match]\n",
    "    idx = snaps.index(snap_id)\n",
    "    foll_snaps = snaps[idx+1:]\n",
    "    for idx_foll in range(idx+1, len(snaps)-1):\n",
    "        foll_snap = snaps[idx_foll]\n",
    "        \n",
    "        # Get indices of satellites in foll_snap:\n",
    "        sats_in_foll = snap_tracers[snap_id][:, foll_snap]\n",
    "        print(sats_in_foll.size)\n",
    "        sats_in_foll = sats_in_foll[sats_in_foll != mtree.no_match]\n",
    "        print(sats_in_foll.size)\n",
    "        \n",
    "        # Add link for satellites originating from snap_id:\n",
    "        prev_snap = snaps[idx_foll - 1] \n",
    "        values.append(np.size(sats_in_foll))\n",
    "        sources.append(str(prev_snap))\n",
    "        targets.append(str(foll_snap))\n",
    "        \n",
    "        # Get indices of satellites in the node before foll_snap:\n",
    "        sats_from_prev = snap_tracers[snap_id][:, prev_snap]\n",
    "        sats_from_prev = sats_from_prev[sats_from_prev != mtree.no_match]\n",
    "        \n",
    "        # Add link for satellites that get destroyed between prev_snap\n",
    "        # and foll_snap:\n",
    "        prev_snap = idx_foll - 1 \n",
    "        values.append(sats_from_prev.size - sats_in_foll.size)\n",
    "        sources.append(str(snaps[prev_snap]))\n",
    "        targets.append(\"Destroyed\")\n",
    "        \n",
    "    # Add newly accreted satellites:\n",
    "    if idx != 0:\n",
    "        sats_from_prev = snap_tracers[snaps[idx-1]][:, snap_id]\n",
    "        sats_from_prev = sats_from_prev[sats_from_prev != mtree.no_match]        \n",
    "        values.append(sats.size - sats_from_prev.size)\n",
    "        sources.append(\"Accreted\")\n",
    "        targets.append(str(snap_id))"
   ]
  },
  {
   "cell_type": "markdown",
   "metadata": {},
   "source": [
    "## Retrieve data"
   ]
  },
  {
   "cell_type": "markdown",
   "metadata": {},
   "source": [
    "Get, in a list, the datasets containing centres of potential of all subhalos in a snapshot, for all snapshots of interest:"
   ]
  },
  {
   "cell_type": "code",
   "execution_count": null,
   "metadata": {},
   "outputs": [],
   "source": [
    "cops = sim.get_subhalos_in_snapshots(\n",
    "    np.arange(snap_start, snap_stop), \"CentreOfPotential\")\n",
    "mass = sim.get_subhalos_in_snapshots(\n",
    "    np.arange(snap_start, snap_stop), \"MassType\")"
   ]
  },
  {
   "cell_type": "markdown",
   "metadata": {},
   "source": [
    "We want to plot the trajectories in a reference frame, where the central galaxy is stationary:"
   ]
  },
  {
   "cell_type": "code",
   "execution_count": null,
   "metadata": {},
   "outputs": [],
   "source": [
    "m31_cop = m31.get_halo_data(\"CentreOfPotential\", snap_start, snap_stop)\n",
    "mw_cop = mw.get_halo_data(\"CentreOfPotential\", snap_start, snap_stop)"
   ]
  },
  {
   "cell_type": "code",
   "execution_count": null,
   "metadata": {},
   "outputs": [],
   "source": [
    "snaps = sim.get_snapshots(snap_start, snap_stop)\n",
    "cops_centered = [dataset_compute.periodic_wrap(\n",
    "    snaps[i], m31_cop[i], cops[i]) - m31_cop[i] for i in range(snaps.size)]"
   ]
  },
  {
   "cell_type": "markdown",
   "metadata": {},
   "source": [
    "Convert coordinates to kpc:"
   ]
  },
  {
   "cell_type": "code",
   "execution_count": null,
   "metadata": {},
   "outputs": [],
   "source": [
    "for i in range(len(cops)):\n",
    "    cops_centered[i] = cops_centered[i] * units.cm.to(units.kpc)\n",
    "    mass[i] = mass[i] * units.g.to(units.Msun)"
   ]
  },
  {
   "cell_type": "markdown",
   "metadata": {},
   "source": [
    "Get redshifts:"
   ]
  },
  {
   "cell_type": "code",
   "execution_count": null,
   "metadata": {},
   "outputs": [],
   "source": [
    "redshift = sim.get_redshifts(snap_start, snap_stop)\n",
    "z_ref = sim.get_snapshot(snap_ref).get_attribute(\"Redshift\", \"Header\")"
   ]
  },
  {
   "cell_type": "markdown",
   "metadata": {},
   "source": [
    "## Construct trajectory arrays"
   ]
  },
  {
   "cell_type": "markdown",
   "metadata": {},
   "source": [
    "Finally, we are ready to make the trajectories. First, get the coordinate positions of the satellites in all snapshots in an array:"
   ]
  },
  {
   "cell_type": "code",
   "execution_count": null,
   "metadata": {},
   "outputs": [],
   "source": [
    "sat_tracer = tracer_arr[mask_m31]\n",
    "sat_cops = np.zeros((np.size(sat_tracer, axis=0), 3, np.size(sat_tracer, axis=1)))\n",
    "\n",
    "# Iterate over snapshots:\n",
    "for i in range(np.size(sat_tracer, axis=1)):\n",
    "    mask_traced = sat_tracer[:,i] < snap_tracer.no_match\n",
    "    sat_cops[mask_traced,:,i] = cops_centered[i][sat_tracer[mask_traced, i]]"
   ]
  },
  {
   "cell_type": "markdown",
   "metadata": {},
   "source": [
    "Then, for each satellite that does not exist from snap_start to snap_stop, remove meaningless entries, and save the trajectory arrays of individual satellites in a list:"
   ]
  },
  {
   "cell_type": "code",
   "execution_count": null,
   "metadata": {},
   "outputs": [],
   "source": [
    "sat_trajectories = [traj[:, traj[1, :] != 0] for traj in sat_cops] \n",
    "sat_trajectories = [traj for traj in sat_trajectories if np.size(traj, axis=1) > 3]"
   ]
  },
  {
   "cell_type": "code",
   "execution_count": null,
   "metadata": {},
   "outputs": [],
   "source": [
    "fig, axes = plt.subplots()\n",
    "for trajectory in sat_trajectories:\n",
    "    axes.plot(trajectory[1], trajectory[2])"
   ]
  },
  {
   "cell_type": "markdown",
   "metadata": {},
   "source": [
    "## Distance to central"
   ]
  },
  {
   "cell_type": "markdown",
   "metadata": {},
   "source": [
    "We are interested in seeing if there is a difference in the evolution of dark and luminous galaxies, so we need to introduce a further division.\n",
    "\n",
    "First, get datasets for satellites.\n",
    "\n",
    "Luminous:"
   ]
  },
  {
   "cell_type": "code",
   "execution_count": null,
   "metadata": {},
   "outputs": [],
   "source": [
    "sat_tracer_lum = tracer_arr[np.logical_and(\n",
    "    np.logical_or(mask_m31, mask_mw), mask_lum)]\n",
    "sat_r_lum = np.zeros((np.size(sat_tracer_lum, axis=0), \n",
    "                      np.size(sat_tracer_lum, axis=1)))\n",
    "\n",
    "# Iterate over snapshots:\n",
    "for i in range(np.size(sat_tracer_lum, axis=1)):\n",
    "    mask_traced = sat_tracer_lum[:,i] < snap_tracer.no_match\n",
    "    sat_r_lum[mask_traced,i] = np.linalg.norm(\n",
    "        cops_centered[i][sat_tracer_lum[mask_traced, i]], axis=1)"
   ]
  },
  {
   "cell_type": "code",
   "execution_count": null,
   "metadata": {},
   "outputs": [],
   "source": [
    "sat_lum = [np.vstack([redshift[r > 10**-2], r[r > 10**-2]]) for r in sat_r_lum]\n",
    "sat_lum = [halo_data for halo_data in sat_lum if np.size(halo_data[0]) > 3]"
   ]
  },
  {
   "cell_type": "markdown",
   "metadata": {},
   "source": [
    "Dark:"
   ]
  },
  {
   "cell_type": "code",
   "execution_count": null,
   "metadata": {},
   "outputs": [],
   "source": [
    "sat_tracer_dark = tracer_arr[np.logical_and(\n",
    "    np.logical_or(mask_m31, mask_mw), mask_dark)]\n",
    "sat_r_dark = np.zeros((np.size(sat_tracer_dark, axis=0), \n",
    "                      np.size(sat_tracer_dark, axis=1)))\n",
    "\n",
    "# Iterate over snapshots:\n",
    "for i in range(np.size(sat_tracer_dark, axis=1)):\n",
    "    mask_traced = sat_tracer_dark[:,i] < snap_tracer.no_match\n",
    "    sat_r_dark[mask_traced,i] = np.linalg.norm(\n",
    "        cops_centered[i][sat_tracer_dark[mask_traced, i]], axis=1)"
   ]
  },
  {
   "cell_type": "code",
   "execution_count": null,
   "metadata": {},
   "outputs": [],
   "source": [
    "sat_dark = [np.vstack([redshift[r > 10**-2], r[r > 10**-2]]) for r in sat_r_dark]\n",
    "sat_dark = [halo_data for halo_data in sat_dark if np.size(halo_data[0]) > 3]"
   ]
  },
  {
   "cell_type": "markdown",
   "metadata": {},
   "source": [
    "Plot:"
   ]
  },
  {
   "cell_type": "code",
   "execution_count": null,
   "metadata": {},
   "outputs": [],
   "source": [
    "fig, axes = plt.subplots()\n",
    "\n",
    "axes.text(0.1, 0.9, \"$z_\\mathrm{{ref}} = {:.3f}$\".format(z_ref), \n",
    "          transform=axes.transAxes)\n",
    "\n",
    "for traj in sat_lum:\n",
    "    z = traj[0]\n",
    "    r = traj[1]\n",
    "    plt.plot(z, r, c='black')\n",
    "    \n",
    "for traj in sat_dark:\n",
    "    z = traj[0]\n",
    "    r = traj[1]\n",
    "    plt.plot(z, r, c='gray')"
   ]
  },
  {
   "cell_type": "markdown",
   "metadata": {},
   "source": [
    "# Mass evolution"
   ]
  },
  {
   "cell_type": "code",
   "execution_count": null,
   "metadata": {},
   "outputs": [],
   "source": []
  }
 ],
 "metadata": {
  "kernelspec": {
   "display_name": "Python 3",
   "language": "python",
   "name": "python3"
  },
  "language_info": {
   "codemirror_mode": {
    "name": "ipython",
    "version": 3
   },
   "file_extension": ".py",
   "mimetype": "text/x-python",
   "name": "python",
   "nbconvert_exporter": "python",
   "pygments_lexer": "ipython3"
  }
 },
 "nbformat": 4,
 "nbformat_minor": 4
}
