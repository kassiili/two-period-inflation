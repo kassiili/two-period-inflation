{
 "cells": [
  {
   "cell_type": "code",
   "execution_count": null,
   "metadata": {},
   "outputs": [],
   "source": [
    "%load_ext autoreload\n",
    "%autoreload 2\n",
    "\n",
    "%config IPCompleter.greedy=True"
   ]
  },
  {
   "cell_type": "code",
   "execution_count": null,
   "metadata": {},
   "outputs": [],
   "source": [
    "import numpy as np\n",
    "import matplotlib.pyplot as plt\n",
    "import os\n",
    "from astropy import units\n",
    "\n",
    "import importlib\n",
    "\n",
    "import simulation\n",
    "import snapshot_obj\n",
    "import simulation_tracing\n",
    "import dataset_compute\n",
    "import subhalo\n",
    "import halo_matching"
   ]
  },
  {
   "cell_type": "code",
   "execution_count": null,
   "metadata": {},
   "outputs": [],
   "source": [
    "importlib.reload(simulation)\n",
    "importlib.reload(snapshot_obj)\n",
    "importlib.reload(simulation_tracing)\n",
    "importlib.reload(dataset_compute)\n",
    "importlib.reload(subhalo)\n",
    "importlib.reload(halo_matching)"
   ]
  },
  {
   "cell_type": "markdown",
   "metadata": {},
   "source": [
    "# Plotting trajectories of halos"
   ]
  },
  {
   "cell_type": "markdown",
   "metadata": {},
   "source": [
    "## Tracing a satellite"
   ]
  },
  {
   "cell_type": "markdown",
   "metadata": {},
   "source": [
    "Get the simulation and define M31 and MW:"
   ]
  },
  {
   "cell_type": "code",
   "execution_count": null,
   "metadata": {},
   "outputs": [],
   "source": [
    "sim = simulation.Simulation(\"V1_MR_fix\")"
   ]
  },
  {
   "cell_type": "markdown",
   "metadata": {},
   "source": [
    "Get the merger tree:"
   ]
  },
  {
   "cell_type": "code",
   "execution_count": null,
   "metadata": {},
   "outputs": [],
   "source": [
    "matcher = halo_matching.SnapshotMatcher()\n",
    "mtree = simulation_tracing.MergerTree(sim, matcher, branching=\"BackwardBranching\")\n",
    "snap_start = 101\n",
    "snap_stop = 128\n",
    "mtree.build_tree(snap_start, snap_stop)"
   ]
  },
  {
   "cell_type": "markdown",
   "metadata": {},
   "source": [
    "First, identify the central halo through snapshots:"
   ]
  },
  {
   "cell_type": "code",
   "execution_count": null,
   "metadata": {},
   "outputs": [],
   "source": [
    "gn = 1\n",
    "central = subhalo.SubhaloTracer(sim, 127, gn, 0)"
   ]
  },
  {
   "cell_type": "code",
   "execution_count": null,
   "metadata": {},
   "outputs": [],
   "source": [
    "central.trace(mtree)"
   ]
  },
  {
   "cell_type": "markdown",
   "metadata": {},
   "source": [
    "Then, select a satellite that can be traced back through a couple snapshots (for instance, the M31 satellite (1,4)):"
   ]
  },
  {
   "cell_type": "code",
   "execution_count": null,
   "metadata": {},
   "outputs": [],
   "source": [
    "satellite = subhalo.SubhaloTracer(sim, 127, 2, 0)\n",
    "%time satellite.trace(mtree)"
   ]
  },
  {
   "cell_type": "code",
   "execution_count": null,
   "metadata": {},
   "outputs": [],
   "source": [
    "for gn, sgn, sid in zip(satellite.get_halo_data('GroupNumber'),\n",
    "                     satellite.get_halo_data('SubGroupNumber'),\n",
    "                     satellite.get_traced_snapshots()):\n",
    "    print(\"{}: ({}, {})\".format(sid, gn, sgn))"
   ]
  },
  {
   "cell_type": "code",
   "execution_count": null,
   "metadata": {},
   "outputs": [],
   "source": [
    "%time d = satellite.distance_to_central(central)\n",
    "d = d * units.cm.to(units.kpc)"
   ]
  },
  {
   "cell_type": "markdown",
   "metadata": {},
   "source": [
    "Compute the distance between the central and the satellite:"
   ]
  },
  {
   "cell_type": "markdown",
   "metadata": {},
   "source": [
    "Plot in the xy- and xz-plane:"
   ]
  },
  {
   "cell_type": "code",
   "execution_count": null,
   "metadata": {},
   "outputs": [],
   "source": [
    "fig,ax = plt.subplots(ncols=2, figsize=(12,6))\n",
    "\n",
    "ax[0].set_title('gn{} sgn{}'.format(gn,sgn))\n",
    "\n",
    "ax[0].plot(d[:,0], d[:,1], 'b')\n",
    "ax[0].plot(d[:,0], d[:,1], 'ko')\n",
    "ax[0].plot(d[0,0], d[0,1], 'ro', label='earliest')\n",
    "ax[0].set_xlabel('$x$ [kpc]', fontsize=16)\n",
    "ax[0].set_ylabel('$y$ [kpc]', fontsize=16)\n",
    "\n",
    "ax[1].plot(d[:,0], d[:,2], 'b')\n",
    "ax[1].plot(d[:,0], d[:,2], 'ko')\n",
    "ax[1].plot(d[0,0], d[0,2], 'ro')\n",
    "ax[1].set_xlabel('$x$ [kpc]', fontsize=16)\n",
    "ax[1].set_ylabel('$z$ [kpc]', fontsize=16)\n",
    "\n",
    "ax[0].legend()\n",
    "\n",
    "# Save figure:\n",
    "\n",
    "filename = 'satellite_trajectory_gn{}sgn{}_{}.png'.format(gn,sgn,sim.sim_id)\n",
    "\n",
    "home = os.path.dirname(snapshot_obj.__file__)\n",
    "path = os.path.join(home,\"Figures\",sim.sim_id)\n",
    "print(path)\n",
    "\n",
    "# If the directory does not exist, create it\n",
    "if not os.path.exists(path):\n",
    "    os.makedirs(path)\n",
    "#plt.savefig(os.path.join(path,filename), dpi=200)"
   ]
  },
  {
   "cell_type": "markdown",
   "metadata": {},
   "source": [
    "# Plot evolution of mass components"
   ]
  },
  {
   "cell_type": "code",
   "execution_count": null,
   "metadata": {},
   "outputs": [],
   "source": [
    "sat_snaps = np.nonzero([inst is not None for inst in satellite.tracer])[0]\n",
    "cen_snaps = np.nonzero([inst is not None for inst in central.tracer])[0]\n",
    "snap_start = max(min(sat_snaps), min(cen_snaps))\n",
    "snap_stop = min(max(sat_snaps), max(cen_snaps)) + 1\n",
    "print(snap_start, snap_stop)"
   ]
  },
  {
   "cell_type": "code",
   "execution_count": null,
   "metadata": {},
   "outputs": [],
   "source": [
    "z = sim.get_redshifts(snap_start, snap_stop)\n",
    "print(z)"
   ]
  },
  {
   "cell_type": "code",
   "execution_count": null,
   "metadata": {},
   "outputs": [],
   "source": [
    "masses = satellite.get_halo_data(\"MassType\") * units.g.to(units.Msun)"
   ]
  },
  {
   "cell_type": "code",
   "execution_count": null,
   "metadata": {},
   "outputs": [],
   "source": [
    "fig,ax = plt.subplots(nrows=2, figsize=(10,8))\n",
    "\n",
    "ax[0].set_title('gn{} sgn{}'.format(gn,sgn))\n",
    "\n",
    "ax[0].set_yscale('log')\n",
    "ax[0].set_ylabel('Mass $[\\mathrm{M_\\odot}]$', fontsize=16)\n",
    "\n",
    "ax[1].set_xlabel('$z$', fontsize=16)\n",
    "ax[1].set_ylabel('$r$ [kpc]', fontsize=16)\n",
    "\n",
    "ax[0].yaxis.set_ticks_position('both')\n",
    "ax[1].yaxis.set_ticks_position('both')\n",
    "\n",
    "ax[0].invert_xaxis()\n",
    "ax[1].invert_xaxis()\n",
    "\n",
    "for pt,l in zip([0,1,4],['gas', 'dm', 'stars']):\n",
    "    ax[0].plot(z, masses[:,pt], label=l)\n",
    "    \n",
    "ax[0].legend()\n",
    "\n",
    "ax[1].plot(z, np.linalg.norm(d, axis=1))\n",
    "\n",
    "# Save figure:\n",
    "\n",
    "filename = 'satellite_mass_evol_gn{}sgn{}_{}.png'.format(gn,sgn,sim.sim_id)\n",
    "\n",
    "home = os.path.dirname(snapshot_obj.__file__)\n",
    "path = os.path.join(home,\"Figures\",sim.sim_id)\n",
    "\n",
    "# If the directory does not exist, create it\n",
    "if not os.path.exists(path):\n",
    "    os.makedirs(path)\n",
    "#plt.savefig(os.path.join(path,filename), dpi=200)"
   ]
  },
  {
   "cell_type": "code",
   "execution_count": null,
   "metadata": {},
   "outputs": [],
   "source": []
  }
 ],
 "metadata": {
  "kernelspec": {
   "display_name": "Python 3",
   "language": "python",
   "name": "python3"
  },
  "language_info": {
   "codemirror_mode": {
    "name": "ipython",
    "version": 3
   },
   "file_extension": ".py",
   "mimetype": "text/x-python",
   "name": "python",
   "nbconvert_exporter": "python",
   "pygments_lexer": "ipython3"
  }
 },
 "nbformat": 4,
 "nbformat_minor": 4
}
