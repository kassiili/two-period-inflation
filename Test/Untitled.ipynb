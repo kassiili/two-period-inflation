{
 "cells": [
  {
   "cell_type": "code",
   "execution_count": null,
   "metadata": {},
   "outputs": [],
   "source": [
    "import numpy as np\n",
    "import glob"
   ]
  },
  {
   "cell_type": "code",
   "execution_count": null,
   "metadata": {},
   "outputs": [],
   "source": [
    "import os\n",
    "import sys\n",
    "\n",
    "apt_path = os.path.abspath(os.path.join('..', 'apostletools'))\n",
    "sys.path.append(apt_path)\n",
    "\n",
    "import datafile_oper"
   ]
  },
  {
   "cell_type": "code",
   "execution_count": null,
   "metadata": {},
   "outputs": [],
   "source": [
    "sim_id = 'V1_LR_fix'\n",
    "snaps = np.arange(100,128)\n",
    "path_to_test = os.path.abspath(os.path.join(\"Test_snapshots\", sim_id))\n",
    "\n",
    "# How many source files to include:\n",
    "n_files = 10"
   ]
  },
  {
   "cell_type": "markdown",
   "metadata": {},
   "source": [
    "Generate file names:"
   ]
  },
  {
   "cell_type": "code",
   "execution_count": null,
   "metadata": {},
   "outputs": [],
   "source": [
    "grp_files = [\n",
    "    os.path.abspath(os.path.join(\n",
    "        \"Test_snapshots\", sim_id, \"groups_{}_{:03d}.hdf5\".format(sim_id, snap_id)\n",
    "    ))\n",
    "    for snap_id in snaps\n",
    "]\n",
    "\n",
    "part_files = [\n",
    "    os.path.abspath(os.path.join(\n",
    "        \"Test_snapshots\", sim_id, \"particles_{}_{:03d}.hdf5\".format(sim_id, snap_id)\n",
    "    ))\n",
    "    for snap_id in snaps\n",
    "]"
   ]
  },
  {
   "cell_type": "code",
   "execution_count": null,
   "metadata": {},
   "outputs": [],
   "source": [
    "for snap_id in snaps:\n",
    "    # Get filenames of snapshot source data files:\n",
    "    src_path = datafile_oper.get_data_path('group', sim_id, snap_id)\n",
    "    src_grpfs = np.array(glob.glob(os.path.join(src_path, 'eagle_subfind_tab*')))\n",
    "    src_path = datafile_oper.get_data_path('part', sim_id, snap_id)\n",
    "    src_partfs = np.array(glob.glob(os.path.join(src_path, 'snap*')))\n",
    "    print(src_partfs)\n",
    "    \n",
    "    # Select the first n_files:\n",
    "    fnum = np.array([int(fname.split(\".\")[-2]) for fname in src_grpfs])\n",
    "    src_grpfs = src_grpfs[fnum < n_files]\n",
    "    src_partfs = src_partfs[fnum < n_files]\n",
    "    \n",
    "    # Create test files:\n",
    "    grp_file = os.path.abspath(os.path.join(\n",
    "        path_to_test, \"groups_{}_{:03d}.hdf5\".format(sim_id, snap_id)\n",
    "    ))\n",
    "    datafile_oper.combine_data_files(src_grpfs, grp_file)\n",
    "    \n",
    "    part_file = os.path.abspath(os.path.join(\n",
    "        path_to_test, \"particles_{}_{:03d}.hdf5\".format(sim_id, snap_id)\n",
    "    ))\n",
    "    datafile_oper.combine_data_files(src_partfs, part_file)"
   ]
  },
  {
   "cell_type": "code",
   "execution_count": null,
   "metadata": {},
   "outputs": [],
   "source": [
    "snap_id = 127\n",
    "src_path = datafile_oper.get_data_path('group', sim_id, snap_id)\n",
    "files = np.array(glob.glob(os.path.join(src_path, 'eagle_subfind_tab*')))"
   ]
  },
  {
   "cell_type": "code",
   "execution_count": null,
   "metadata": {},
   "outputs": [],
   "source": [
    "fnum = np.array([int(fname.split(\".\")[-2]) for fname in files])\n",
    "files = files[fnum < n_files]"
   ]
  },
  {
   "cell_type": "code",
   "execution_count": null,
   "metadata": {},
   "outputs": [],
   "source": [
    "sorting = np.argsort(fnum)\n",
    "files = files[sorting]\n",
    "\n",
    "mask = fnum[sorting] in np.arange(11)\n",
    "files = files[mask]\n",
    "\n",
    "print(files)"
   ]
  },
  {
   "cell_type": "code",
   "execution_count": null,
   "metadata": {},
   "outputs": [],
   "source": []
  }
 ],
 "metadata": {
  "kernelspec": {
   "display_name": "Python 3",
   "language": "python",
   "name": "python3"
  },
  "language_info": {
   "codemirror_mode": {
    "name": "ipython",
    "version": 3
   },
   "file_extension": ".py",
   "mimetype": "text/x-python",
   "name": "python",
   "nbconvert_exporter": "python",
   "pygments_lexer": "ipython3"
  }
 },
 "nbformat": 4,
 "nbformat_minor": 4
}
