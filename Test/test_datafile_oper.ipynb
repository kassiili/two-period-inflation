{
 "cells": [
  {
   "cell_type": "code",
   "execution_count": null,
   "metadata": {},
   "outputs": [],
   "source": [
    "%load_ext autoreload\n",
    "%autoreload 2\n",
    "\n",
    "%config IPCompleter.greedy=True"
   ]
  },
  {
   "cell_type": "code",
   "execution_count": null,
   "metadata": {},
   "outputs": [],
   "source": [
    "import numpy as np\n",
    "import glob"
   ]
  },
  {
   "cell_type": "code",
   "execution_count": null,
   "metadata": {},
   "outputs": [],
   "source": [
    "import os\n",
    "import sys\n",
    "\n",
    "apt_path = os.path.abspath(os.path.join('..', 'apostletools'))\n",
    "sys.path.append(apt_path)\n",
    "\n",
    "import datafile_oper\n",
    "import snapshot"
   ]
  },
  {
   "cell_type": "code",
   "execution_count": null,
   "metadata": {},
   "outputs": [],
   "source": [
    "import importlib\n",
    "importlib.reload(datafile_oper)\n",
    "importlib.reload(snapshot)"
   ]
  },
  {
   "cell_type": "markdown",
   "metadata": {},
   "source": [
    "# Test the datafile_oper Module\n",
    "\n",
    "...and the DataEnvelope class, specifically.\n",
    "\n",
    "---\n",
    "\n",
    "Test the APOSTLE-data-specific functions:"
   ]
  },
  {
   "cell_type": "code",
   "execution_count": null,
   "metadata": {
    "jupyter": {
     "outputs_hidden": true
    }
   },
   "outputs": [],
   "source": [
    "sim_id = 'V1_LR_fix'\n",
    "snap_id = 127\n",
    "\n",
    "print(datafile_oper.get_particle_data_path(sim_id, snap_id))\n",
    "print(datafile_oper.get_particle_data_files(sim_id, snap_id))\n",
    "print(datafile_oper.get_group_data_path(sim_id, snap_id))\n",
    "print(datafile_oper.get_group_data_files(sim_id, snap_id))"
   ]
  },
  {
   "cell_type": "markdown",
   "metadata": {},
   "source": [
    "Test the constructor: does it produce errors? Is the constructed file name correct?"
   ]
  },
  {
   "cell_type": "code",
   "execution_count": null,
   "metadata": {},
   "outputs": [],
   "source": [
    "group_env = datafile_oper.DataEnvelope(\n",
    "    datafile_oper.get_group_data_files(sim_id, snap_id),\n",
    "    \"groups_{}_{:03d}.hdf5\".format(sim_id, snap_id), \"..\"\n",
    ")\n",
    "print(group_env.fname)\n",
    "\n",
    "part_env = datafile_oper.DataEnvelope(\n",
    "    datafile_oper.get_particle_data_files(sim_id, snap_id),\n",
    "    \"particles_{}_{:03d}.hdf5\".format(sim_id, snap_id), \"..\"\n",
    ")\n",
    "print(part_env.fname)"
   ]
  },
  {
   "cell_type": "markdown",
   "metadata": {},
   "source": [
    "Test the dataset creation method:"
   ]
  },
  {
   "cell_type": "code",
   "execution_count": null,
   "metadata": {},
   "outputs": [],
   "source": [
    "#group_env.dataset_exists(\"GroupNumber\", \"Link0/Subhalo\")\n",
    "\n",
    "snap = snapshot.Snapshot(sim_id, snap_id, env_path=\"..\")\n",
    "datafile_oper.create_dataset_in_group_envelope(snap, \"V1kpc\", \"Extended\")"
   ]
  }
 ],
 "metadata": {
  "kernelspec": {
   "display_name": "Python 3",
   "language": "python",
   "name": "python3"
  },
  "language_info": {
   "codemirror_mode": {
    "name": "ipython",
    "version": 3
   },
   "file_extension": ".py",
   "mimetype": "text/x-python",
   "name": "python",
   "nbconvert_exporter": "python",
   "pygments_lexer": "ipython3"
  }
 },
 "nbformat": 4,
 "nbformat_minor": 4
}
